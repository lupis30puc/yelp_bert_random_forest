{
  "nbformat": 4,
  "nbformat_minor": 0,
  "metadata": {
    "colab": {
      "name": "Yelp-BERT_feature_analysis.ipynb",
      "provenance": [],
      "collapsed_sections": [
        "Qx--WzAEAMvz",
        "4lAJ1WldAJai",
        "N4wr6NJ2z1H1"
      ],
      "authorship_tag": "ABX9TyMfQjfZ//+qo/LrqSD3FgGm",
      "include_colab_link": true
    },
    "kernelspec": {
      "name": "python3",
      "display_name": "Python 3"
    }
  },
  "cells": [
    {
      "cell_type": "markdown",
      "metadata": {
        "id": "view-in-github",
        "colab_type": "text"
      },
      "source": [
        "<a href=\"https://colab.research.google.com/github/lupis30puc/yelp_bert_random_forest/blob/update-5/Yelp_BERT_feature_analysis.ipynb\" target=\"_parent\"><img src=\"https://colab.research.google.com/assets/colab-badge.svg\" alt=\"Open In Colab\"/></a>"
      ]
    },
    {
      "cell_type": "markdown",
      "metadata": {
        "id": "Qx--WzAEAMvz"
      },
      "source": [
        "## Set Up"
      ]
    },
    {
      "cell_type": "code",
      "metadata": {
        "colab": {
          "base_uri": "https://localhost:8080/"
        },
        "id": "JCJWrrRX_S_q",
        "outputId": "5b54884a-e206-42a7-d57b-8492dffc3098"
      },
      "source": [
        "!pip install treeinterpreter\n",
        "#https://pypi.org/project/treeinterpreter/"
      ],
      "execution_count": null,
      "outputs": [
        {
          "output_type": "stream",
          "text": [
            "Collecting treeinterpreter\n",
            "  Downloading https://files.pythonhosted.org/packages/af/19/fa8556093f6b8c7374825118e05cf5a99c71262392382c3642ab1fd8a742/treeinterpreter-0.2.3-py2.py3-none-any.whl\n",
            "Installing collected packages: treeinterpreter\n",
            "Successfully installed treeinterpreter-0.2.3\n"
          ],
          "name": "stdout"
        }
      ]
    },
    {
      "cell_type": "code",
      "metadata": {
        "colab": {
          "base_uri": "https://localhost:8080/"
        },
        "id": "fBzNWopSAeap",
        "outputId": "24c8fa1a-dec9-477d-cd7e-826df2add9c8"
      },
      "source": [
        "!pip install transformers"
      ],
      "execution_count": null,
      "outputs": [
        {
          "output_type": "stream",
          "text": [
            "Collecting transformers\n",
            "\u001b[?25l  Downloading https://files.pythonhosted.org/packages/88/b1/41130a228dd656a1a31ba281598a968320283f48d42782845f6ba567f00b/transformers-4.2.2-py3-none-any.whl (1.8MB)\n",
            "\u001b[K     |████████████████████████████████| 1.8MB 4.2MB/s \n",
            "\u001b[?25hRequirement already satisfied: packaging in /usr/local/lib/python3.6/dist-packages (from transformers) (20.8)\n",
            "Requirement already satisfied: regex!=2019.12.17 in /usr/local/lib/python3.6/dist-packages (from transformers) (2019.12.20)\n",
            "Collecting tokenizers==0.9.4\n",
            "\u001b[?25l  Downloading https://files.pythonhosted.org/packages/0f/1c/e789a8b12e28be5bc1ce2156cf87cb522b379be9cadc7ad8091a4cc107c4/tokenizers-0.9.4-cp36-cp36m-manylinux2010_x86_64.whl (2.9MB)\n",
            "\u001b[K     |████████████████████████████████| 2.9MB 23.6MB/s \n",
            "\u001b[?25hRequirement already satisfied: filelock in /usr/local/lib/python3.6/dist-packages (from transformers) (3.0.12)\n",
            "Requirement already satisfied: requests in /usr/local/lib/python3.6/dist-packages (from transformers) (2.23.0)\n",
            "Collecting sacremoses\n",
            "\u001b[?25l  Downloading https://files.pythonhosted.org/packages/7d/34/09d19aff26edcc8eb2a01bed8e98f13a1537005d31e95233fd48216eed10/sacremoses-0.0.43.tar.gz (883kB)\n",
            "\u001b[K     |████████████████████████████████| 890kB 34.0MB/s \n",
            "\u001b[?25hRequirement already satisfied: tqdm>=4.27 in /usr/local/lib/python3.6/dist-packages (from transformers) (4.41.1)\n",
            "Requirement already satisfied: importlib-metadata; python_version < \"3.8\" in /usr/local/lib/python3.6/dist-packages (from transformers) (3.4.0)\n",
            "Requirement already satisfied: numpy in /usr/local/lib/python3.6/dist-packages (from transformers) (1.19.5)\n",
            "Requirement already satisfied: dataclasses; python_version < \"3.7\" in /usr/local/lib/python3.6/dist-packages (from transformers) (0.8)\n",
            "Requirement already satisfied: pyparsing>=2.0.2 in /usr/local/lib/python3.6/dist-packages (from packaging->transformers) (2.4.7)\n",
            "Requirement already satisfied: idna<3,>=2.5 in /usr/local/lib/python3.6/dist-packages (from requests->transformers) (2.10)\n",
            "Requirement already satisfied: chardet<4,>=3.0.2 in /usr/local/lib/python3.6/dist-packages (from requests->transformers) (3.0.4)\n",
            "Requirement already satisfied: certifi>=2017.4.17 in /usr/local/lib/python3.6/dist-packages (from requests->transformers) (2020.12.5)\n",
            "Requirement already satisfied: urllib3!=1.25.0,!=1.25.1,<1.26,>=1.21.1 in /usr/local/lib/python3.6/dist-packages (from requests->transformers) (1.24.3)\n",
            "Requirement already satisfied: six in /usr/local/lib/python3.6/dist-packages (from sacremoses->transformers) (1.15.0)\n",
            "Requirement already satisfied: click in /usr/local/lib/python3.6/dist-packages (from sacremoses->transformers) (7.1.2)\n",
            "Requirement already satisfied: joblib in /usr/local/lib/python3.6/dist-packages (from sacremoses->transformers) (1.0.0)\n",
            "Requirement already satisfied: zipp>=0.5 in /usr/local/lib/python3.6/dist-packages (from importlib-metadata; python_version < \"3.8\"->transformers) (3.4.0)\n",
            "Requirement already satisfied: typing-extensions>=3.6.4; python_version < \"3.8\" in /usr/local/lib/python3.6/dist-packages (from importlib-metadata; python_version < \"3.8\"->transformers) (3.7.4.3)\n",
            "Building wheels for collected packages: sacremoses\n",
            "  Building wheel for sacremoses (setup.py) ... \u001b[?25l\u001b[?25hdone\n",
            "  Created wheel for sacremoses: filename=sacremoses-0.0.43-cp36-none-any.whl size=893261 sha256=d2ccb411975161c32ac26202313a8e9cf93bb4861159d2d6158694d4bb0b5a3d\n",
            "  Stored in directory: /root/.cache/pip/wheels/29/3c/fd/7ce5c3f0666dab31a50123635e6fb5e19ceb42ce38d4e58f45\n",
            "Successfully built sacremoses\n",
            "Installing collected packages: tokenizers, sacremoses, transformers\n",
            "Successfully installed sacremoses-0.0.43 tokenizers-0.9.4 transformers-4.2.2\n"
          ],
          "name": "stdout"
        }
      ]
    },
    {
      "cell_type": "code",
      "metadata": {
        "colab": {
          "base_uri": "https://localhost:8080/"
        },
        "id": "3d5Y_yn7_owl",
        "outputId": "06522270-90a7-487a-f92f-c692ad231ef6"
      },
      "source": [
        "from google.colab import drive\r\n",
        "drive.mount('/content/drive')"
      ],
      "execution_count": null,
      "outputs": [
        {
          "output_type": "stream",
          "text": [
            "Mounted at /content/drive\n"
          ],
          "name": "stdout"
        }
      ]
    },
    {
      "cell_type": "code",
      "metadata": {
        "id": "cFdJLK7o_KaA"
      },
      "source": [
        "# Random Forest\r\n",
        "from sklearn.ensemble import RandomForestClassifier"
      ],
      "execution_count": null,
      "outputs": []
    },
    {
      "cell_type": "code",
      "metadata": {
        "id": "7Olhw4Uf_qSt"
      },
      "source": [
        "import pandas as pd\r\n",
        "import numpy as np\r\n",
        "import matplotlib.pyplot as plt\r\n",
        "import seaborn as sns\r\n",
        "\r\n",
        "import string\r\n",
        "import math\r\n",
        "\r\n",
        "from sklearn.model_selection import train_test_split, cross_val_score, GridSearchCV\r\n",
        "from sklearn.metrics import classification_report\r\n",
        "from sklearn.metrics import confusion_matrix, accuracy_score, roc_auc_score, roc_curve\r\n",
        "%matplotlib inline\r\n",
        "import time\r\n",
        "import pickle\r\n",
        "from treeinterpreter import treeinterpreter as ti\r\n",
        "import joblib\r\n",
        "from transformers import BertTokenizer"
      ],
      "execution_count": null,
      "outputs": []
    },
    {
      "cell_type": "markdown",
      "metadata": {
        "id": "4lAJ1WldAJai"
      },
      "source": [
        "## Initializing the models"
      ]
    },
    {
      "cell_type": "code",
      "metadata": {
        "id": "XCIbuODX_dTe"
      },
      "source": [
        "# load, no need to initialize the loaded_rf\r\n",
        "rf_1000 = joblib.load(\"/content/drive/MyDrive/Yelp/model_99/rf_est1000_leaf1.joblib\")\r\n",
        "rf_300 = joblib.load(\"/content/drive/MyDrive/Yelp/model_99/rf_est300_leaf3.joblib\")\r\n",
        "rf_grid = joblib.load(\"/content/drive/MyDrive/Yelp/model_99/rf_grid_search.joblib\")"
      ],
      "execution_count": null,
      "outputs": []
    },
    {
      "cell_type": "code",
      "metadata": {
        "colab": {
          "base_uri": "https://localhost:8080/"
        },
        "id": "4JA0jvbYhhaI",
        "outputId": "8e7b19be-5830-4dda-98a7-0ee03fdaacf4"
      },
      "source": [
        "rf_grid.best_params_  # Parameter setting that gave the best results on the hold out data.\n",
        "print(rf_grid.best_params_)"
      ],
      "execution_count": null,
      "outputs": [
        {
          "output_type": "stream",
          "text": [
            "{'min_samples_leaf': 2, 'n_estimators': 1000}\n"
          ],
          "name": "stdout"
        }
      ]
    },
    {
      "cell_type": "code",
      "metadata": {
        "id": "LJXHvtRlAJ_S"
      },
      "source": [
        "x_train = pd.read_pickle('/content/drive/MyDrive/Yelp/binary_train_rf')\r\n",
        "x_test = pd.read_pickle('/content/drive/MyDrive/Yelp/binary_test_rf')"
      ],
      "execution_count": null,
      "outputs": []
    },
    {
      "cell_type": "code",
      "metadata": {
        "id": "7lE3CO56APFx"
      },
      "source": [
        "import torch\r\n",
        "y_train = torch.load('/content/drive/MyDrive/Yelp/model_99/flat_pred_labels_train')\r\n",
        "y_test  = torch.load('/content/drive/MyDrive/Yelp/model_99/flat_pred_labels_test')"
      ],
      "execution_count": null,
      "outputs": []
    },
    {
      "cell_type": "markdown",
      "metadata": {
        "id": "N4wr6NJ2z1H1"
      },
      "source": [
        "## Comparing the models"
      ]
    },
    {
      "cell_type": "code",
      "metadata": {
        "colab": {
          "base_uri": "https://localhost:8080/"
        },
        "id": "1OKa57PW_40z",
        "outputId": "35ecc8a7-bb2c-4b58-91e7-f6a7225b2ebf"
      },
      "source": [
        "%%time\r\n",
        "print(\"Random Forest 1000 estimators, min leaf 1\")\r\n",
        "predrf_1000 = rf_1000.predict(x_test)\r\n",
        "print(\"Confusion Matrix for Random Forest Classifier:\")\r\n",
        "print(confusion_matrix(y_test,predrf_1000))\r\n",
        "print(\"Score:\",round(accuracy_score(y_test,predrf_1000)*100,2))\r\n",
        "print(\"Classification Report:\")\r\n",
        "print(classification_report(y_test,predrf_1000))"
      ],
      "execution_count": null,
      "outputs": [
        {
          "output_type": "stream",
          "text": [
            "Random Forest 1000 estimators, min leaf 1\n",
            "Confusion Matrix for Random Forest Classifier:\n",
            "[[1166  115]\n",
            " [ 148 1170]]\n",
            "Score: 89.88\n",
            "Classification Report:\n",
            "              precision    recall  f1-score   support\n",
            "\n",
            "           0       0.89      0.91      0.90      1281\n",
            "           1       0.91      0.89      0.90      1318\n",
            "\n",
            "    accuracy                           0.90      2599\n",
            "   macro avg       0.90      0.90      0.90      2599\n",
            "weighted avg       0.90      0.90      0.90      2599\n",
            "\n",
            "CPU times: user 3.88 s, sys: 2.62 ms, total: 3.88 s\n",
            "Wall time: 3.89 s\n"
          ],
          "name": "stdout"
        }
      ]
    },
    {
      "cell_type": "code",
      "metadata": {
        "colab": {
          "base_uri": "https://localhost:8080/"
        },
        "id": "etqTs0SO8YDf",
        "outputId": "a638bda0-e940-4d2a-c12d-e40f692bd89d"
      },
      "source": [
        "print(\"Test  Accuracy : %f\"%rf_1000.score(x_test, y_test))\n",
        "print(\"Train Accuracy : %f\"%rf_1000.score(x_train, y_train))"
      ],
      "execution_count": null,
      "outputs": [
        {
          "output_type": "stream",
          "text": [
            "Test  Accuracy : 0.90\n",
            "Train Accuracy : 1.00\n"
          ],
          "name": "stdout"
        }
      ]
    },
    {
      "cell_type": "code",
      "metadata": {
        "colab": {
          "base_uri": "https://localhost:8080/"
        },
        "id": "K-s4aSx_6q0t",
        "outputId": "9dd2cac5-bc55-428a-8712-a1db40e12e7c"
      },
      "source": [
        "%%time\n",
        "print(\"Random Forest 300 estimators, min leaf 3\")\n",
        "predrf_300 = rf_300.predict(x_test)\n",
        "print(\"Confusion Matrix for Random Forest Classifier:\")\n",
        "print(confusion_matrix(y_test,predrf_300))\n",
        "print(\"Score:\",round(accuracy_score(y_test,predrf_300)*100,2))\n",
        "print(\"Classification Report:\")\n",
        "print(classification_report(y_test,predrf_300))"
      ],
      "execution_count": null,
      "outputs": [
        {
          "output_type": "stream",
          "text": [
            "Random Forest 300 estimators, min leaf 3\n",
            "Confusion Matrix for Random Forest Classifier:\n",
            "[[1160  121]\n",
            " [ 151 1167]]\n",
            "Score: 89.53\n",
            "Classification Report:\n",
            "              precision    recall  f1-score   support\n",
            "\n",
            "           0       0.88      0.91      0.90      1281\n",
            "           1       0.91      0.89      0.90      1318\n",
            "\n",
            "    accuracy                           0.90      2599\n",
            "   macro avg       0.90      0.90      0.90      2599\n",
            "weighted avg       0.90      0.90      0.90      2599\n",
            "\n",
            "CPU times: user 613 ms, sys: 5.84 ms, total: 618 ms\n",
            "Wall time: 627 ms\n"
          ],
          "name": "stdout"
        }
      ]
    },
    {
      "cell_type": "code",
      "metadata": {
        "id": "B21yvyeZAUY3",
        "colab": {
          "base_uri": "https://localhost:8080/"
        },
        "outputId": "b5af76fe-7303-469d-ae3b-2da90a951a8c"
      },
      "source": [
        "print(\"Test  Accuracy : %f\"%rf_300.score(x_test, y_test))\n",
        "print(\"Train Accuracy : %f\"%rf_300.score(x_train, y_train))"
      ],
      "execution_count": null,
      "outputs": [
        {
          "output_type": "stream",
          "text": [
            "Test  Accuracy : 0.895344\n",
            "Train Accuracy : 0.951799\n"
          ],
          "name": "stdout"
        }
      ]
    },
    {
      "cell_type": "code",
      "metadata": {
        "colab": {
          "base_uri": "https://localhost:8080/"
        },
        "id": "XvQ5c0WOhGka",
        "outputId": "47470147-7e6b-4cae-afd1-d1f04634df8b"
      },
      "source": [
        "%%time\n",
        "#rf_grid.best_params_ \n",
        "random_f = rf_grid.best_estimator_ \n",
        "print(\"Random Forest 1000 estimators, min leaf 2\")\n",
        "predrf_grid = random_f.predict(x_test)\n",
        "print(\"Confusion Matrix for Random Forest Classifier:\")\n",
        "print(confusion_matrix(y_test,predrf_grid))\n",
        "print(\"Score:\",round(accuracy_score(y_test,predrf_grid)*100,2))\n",
        "print(\"Classification Report:\")\n",
        "print(classification_report(y_test,predrf_grid))"
      ],
      "execution_count": null,
      "outputs": [
        {
          "output_type": "stream",
          "text": [
            "Random Forest 1000 estimators, min leaf 2\n",
            "Confusion Matrix for Random Forest Classifier:\n",
            "[[1170  111]\n",
            " [ 149 1169]]\n",
            "Score: 90.0\n",
            "Classification Report:\n",
            "              precision    recall  f1-score   support\n",
            "\n",
            "           0       0.89      0.91      0.90      1281\n",
            "           1       0.91      0.89      0.90      1318\n",
            "\n",
            "    accuracy                           0.90      2599\n",
            "   macro avg       0.90      0.90      0.90      2599\n",
            "weighted avg       0.90      0.90      0.90      2599\n",
            "\n",
            "CPU times: user 1.79 s, sys: 0 ns, total: 1.79 s\n",
            "Wall time: 1.8 s\n"
          ],
          "name": "stdout"
        }
      ]
    },
    {
      "cell_type": "code",
      "metadata": {
        "colab": {
          "base_uri": "https://localhost:8080/"
        },
        "id": "f9uwPiezhgiY",
        "outputId": "bc939a32-cc4a-40ad-e3e2-86d15e106c55"
      },
      "source": [
        "print(\"Test  Accuracy : %f\"%random_f.score(x_test, y_test))\n",
        "print(\"Train Accuracy : %f\"%random_f.score(x_train, y_train))"
      ],
      "execution_count": null,
      "outputs": [
        {
          "output_type": "stream",
          "text": [
            "Test  Accuracy : 0.899962\n",
            "Train Accuracy : 0.976814\n"
          ],
          "name": "stdout"
        }
      ]
    },
    {
      "cell_type": "markdown",
      "metadata": {
        "id": "LfF9cG_d7arq"
      },
      "source": [
        "## Initializing BERT tokenizers and reviews **text**"
      ]
    },
    {
      "cell_type": "code",
      "metadata": {
        "id": "mKEi4xc77eX9"
      },
      "source": [
        "# NO NEED FOR THE DATASET OR YES?\n",
        "train_df = pd.read_pickle('/content/drive/MyDrive/Yelp/sample_train_10394.pkl')\n",
        "test_df = pd.read_pickle('/content/drive/MyDrive/Yelp/sample_test_2599.pkl')\n",
        "\n",
        "train_df.reset_index(drop=True, inplace=True)\n",
        "test_df.reset_index(drop=True, inplace=True)\n",
        "#train_df.head()"
      ],
      "execution_count": null,
      "outputs": []
    },
    {
      "cell_type": "code",
      "metadata": {
        "id": "AA0a1jM37huT"
      },
      "source": [
        "# launching the saved model tokenizer\n",
        "tokenizer = BertTokenizer.from_pretrained('/content/drive/MyDrive/Yelp/model_99/')"
      ],
      "execution_count": null,
      "outputs": []
    },
    {
      "cell_type": "code",
      "metadata": {
        "id": "mf1B9UpC9beu"
      },
      "source": [
        "with open('/content/drive/MyDrive/Yelp/tensors_yelp/unique_ids.pkl', 'rb') as f:\n",
        "  unique_ids = pickle.load( f)"
      ],
      "execution_count": null,
      "outputs": []
    },
    {
      "cell_type": "code",
      "metadata": {
        "colab": {
          "base_uri": "https://localhost:8080/"
        },
        "id": "mzbhYeYs8lET",
        "outputId": "9d8046e2-8e07-4e78-e753-295c4141d6ca"
      },
      "source": [
        "# Converting unique_ids into words:\n",
        "%%time\n",
        "feature_names = [list(tokenizer.vocab.keys())[id] for id in unique_ids]"
      ],
      "execution_count": null,
      "outputs": [
        {
          "output_type": "stream",
          "text": [
            "CPU times: user 39.5 s, sys: 189 ms, total: 39.7 s\n",
            "Wall time: 40.1 s\n"
          ],
          "name": "stdout"
        }
      ]
    },
    {
      "cell_type": "code",
      "metadata": {
        "colab": {
          "base_uri": "https://localhost:8080/"
        },
        "id": "uH0heNLR1x4c",
        "outputId": "ab5bf410-97e1-4742-cef3-07b831288aa5"
      },
      "source": [
        "print(len(unique_ids), len(feature_names))"
      ],
      "execution_count": null,
      "outputs": [
        {
          "output_type": "stream",
          "text": [
            "16368 16368\n"
          ],
          "name": "stdout"
        }
      ]
    },
    {
      "cell_type": "code",
      "metadata": {
        "id": "0A8umtvHxLkH"
      },
      "source": [
        "with open('/content/drive/MyDrive/Yelp/tensors_yelp/feature_names_99.pkl', 'wb') as d:\n",
        "  pickle.dump(feature_names, d)"
      ],
      "execution_count": null,
      "outputs": []
    },
    {
      "cell_type": "markdown",
      "metadata": {
        "id": "DSCNZzJGBl12"
      },
      "source": [
        "## Comparing feature importances"
      ]
    },
    {
      "cell_type": "code",
      "metadata": {
        "colab": {
          "base_uri": "https://localhost:8080/"
        },
        "id": "XHsyooOZ_Ie3",
        "outputId": "861c2e64-b9cb-4aba-9a85-9e1bb74ee734"
      },
      "source": [
        "%%time\n",
        "importance_300 = rf_300.feature_importances_"
      ],
      "execution_count": null,
      "outputs": [
        {
          "output_type": "stream",
          "text": [
            "CPU times: user 217 ms, sys: 7.02 ms, total: 224 ms\n",
            "Wall time: 228 ms\n"
          ],
          "name": "stdout"
        }
      ]
    },
    {
      "cell_type": "code",
      "metadata": {
        "colab": {
          "base_uri": "https://localhost:8080/"
        },
        "id": "cKTH0G6BEq3P",
        "outputId": "69305b19-2a2a-4118-dfc3-34dba61c7dcd"
      },
      "source": [
        "%%time\n",
        "importance_1000 = rf_1000.feature_importances_"
      ],
      "execution_count": null,
      "outputs": [
        {
          "output_type": "stream",
          "text": [
            "CPU times: user 479 ms, sys: 13 ms, total: 492 ms\n",
            "Wall time: 493 ms\n"
          ],
          "name": "stdout"
        }
      ]
    },
    {
      "cell_type": "code",
      "metadata": {
        "colab": {
          "base_uri": "https://localhost:8080/"
        },
        "id": "_a4L0aWF1Sp0",
        "outputId": "bd171aa6-8d84-4c25-ce14-d97a1fcf9a5a"
      },
      "source": [
        "%%time\n",
        "importance_grid = random_f.feature_importances_"
      ],
      "execution_count": null,
      "outputs": [
        {
          "output_type": "stream",
          "text": [
            "CPU times: user 230 ms, sys: 6.94 ms, total: 237 ms\n",
            "Wall time: 240 ms\n"
          ],
          "name": "stdout"
        }
      ]
    },
    {
      "cell_type": "code",
      "metadata": {
        "id": "4zydVTsw_LCA"
      },
      "source": [
        "feature_importance_300 = pd.DataFrame({'ids': unique_ids, 'keys': feature_names, 'imp': importance_300})"
      ],
      "execution_count": null,
      "outputs": []
    },
    {
      "cell_type": "code",
      "metadata": {
        "id": "kI0QZ6FUEunR"
      },
      "source": [
        "feature_importance_1000 = pd.DataFrame({'ids': unique_ids, 'keys': feature_names, 'imp': importance_1000})"
      ],
      "execution_count": null,
      "outputs": []
    },
    {
      "cell_type": "code",
      "metadata": {
        "id": "Fq6daQEi1b84"
      },
      "source": [
        "feature_importance_grid = pd.DataFrame({'ids': unique_ids, 'keys': feature_names, 'imp': importance_grid})"
      ],
      "execution_count": null,
      "outputs": []
    },
    {
      "cell_type": "code",
      "metadata": {
        "colab": {
          "base_uri": "https://localhost:8080/",
          "height": 204
        },
        "id": "PoCiQUQC_M45",
        "outputId": "8caa0be2-2353-4be5-cdd2-ecde86deb43d"
      },
      "source": [
        "feature_importance_300.head()"
      ],
      "execution_count": null,
      "outputs": [
        {
          "output_type": "execute_result",
          "data": {
            "text/html": [
              "<div>\n",
              "<style scoped>\n",
              "    .dataframe tbody tr th:only-of-type {\n",
              "        vertical-align: middle;\n",
              "    }\n",
              "\n",
              "    .dataframe tbody tr th {\n",
              "        vertical-align: top;\n",
              "    }\n",
              "\n",
              "    .dataframe thead th {\n",
              "        text-align: right;\n",
              "    }\n",
              "</style>\n",
              "<table border=\"1\" class=\"dataframe\">\n",
              "  <thead>\n",
              "    <tr style=\"text-align: right;\">\n",
              "      <th></th>\n",
              "      <th>ids</th>\n",
              "      <th>keys</th>\n",
              "      <th>imp</th>\n",
              "    </tr>\n",
              "  </thead>\n",
              "  <tbody>\n",
              "    <tr>\n",
              "      <th>0</th>\n",
              "      <td>0</td>\n",
              "      <td>[PAD]</td>\n",
              "      <td>0.002289</td>\n",
              "    </tr>\n",
              "    <tr>\n",
              "      <th>1</th>\n",
              "      <td>100</td>\n",
              "      <td>[UNK]</td>\n",
              "      <td>0.000010</td>\n",
              "    </tr>\n",
              "    <tr>\n",
              "      <th>2</th>\n",
              "      <td>101</td>\n",
              "      <td>[CLS]</td>\n",
              "      <td>0.000000</td>\n",
              "    </tr>\n",
              "    <tr>\n",
              "      <th>3</th>\n",
              "      <td>102</td>\n",
              "      <td>[SEP]</td>\n",
              "      <td>0.000000</td>\n",
              "    </tr>\n",
              "    <tr>\n",
              "      <th>4</th>\n",
              "      <td>1037</td>\n",
              "      <td>a</td>\n",
              "      <td>0.000045</td>\n",
              "    </tr>\n",
              "  </tbody>\n",
              "</table>\n",
              "</div>"
            ],
            "text/plain": [
              "    ids   keys       imp\n",
              "0     0  [PAD]  0.002289\n",
              "1   100  [UNK]  0.000010\n",
              "2   101  [CLS]  0.000000\n",
              "3   102  [SEP]  0.000000\n",
              "4  1037      a  0.000045"
            ]
          },
          "metadata": {
            "tags": []
          },
          "execution_count": 104
        }
      ]
    },
    {
      "cell_type": "code",
      "metadata": {
        "colab": {
          "base_uri": "https://localhost:8080/"
        },
        "id": "yWef9wbj_O_k",
        "outputId": "84152130-3d24-4aef-8d52-a1a7e3caf57f"
      },
      "source": [
        "top10_rf300 = list(feature_importance_300.sort_values(by=['imp'], ascending=False)['keys'][:10])\n",
        "top10_rf300"
      ],
      "execution_count": null,
      "outputs": [
        {
          "output_type": "execute_result",
          "data": {
            "text/plain": [
              "['great',\n",
              " 'amazing',\n",
              " 'delicious',\n",
              " 'worst',\n",
              " 'love',\n",
              " 'asked',\n",
              " 'horrible',\n",
              " 'friendly',\n",
              " 'told',\n",
              " 'best']"
            ]
          },
          "metadata": {
            "tags": []
          },
          "execution_count": 40
        }
      ]
    },
    {
      "cell_type": "code",
      "metadata": {
        "colab": {
          "base_uri": "https://localhost:8080/"
        },
        "id": "mjlRSc4YE3jw",
        "outputId": "052b5bda-70c6-4124-b615-3861fb570cc6"
      },
      "source": [
        "top10_rf1000 = list(feature_importance_1000.sort_values(by=['imp'], ascending=False)['keys'][:10])\n",
        "top10_rf1000"
      ],
      "execution_count": null,
      "outputs": [
        {
          "output_type": "execute_result",
          "data": {
            "text/plain": [
              "['great',\n",
              " 'delicious',\n",
              " 'amazing',\n",
              " 'worst',\n",
              " 'love',\n",
              " 'friendly',\n",
              " 'horrible',\n",
              " 'told',\n",
              " 'best',\n",
              " 'rude']"
            ]
          },
          "metadata": {
            "tags": []
          },
          "execution_count": 41
        }
      ]
    },
    {
      "cell_type": "code",
      "metadata": {
        "colab": {
          "base_uri": "https://localhost:8080/"
        },
        "id": "PXKUTrEq1-PF",
        "outputId": "fb35fb30-c52e-4f62-cd80-81f7feb24874"
      },
      "source": [
        "top50_rfgrid = list(feature_importance_grid.sort_values(by=['imp'], ascending=False)['keys'][:50])\n",
        "top50_rfgrid"
      ],
      "execution_count": null,
      "outputs": [
        {
          "output_type": "execute_result",
          "data": {
            "text/plain": [
              "['great',\n",
              " 'delicious',\n",
              " 'amazing',\n",
              " 'worst',\n",
              " 'love',\n",
              " 'friendly',\n",
              " 'told',\n",
              " 'horrible',\n",
              " 'rude',\n",
              " 'best',\n",
              " 'asked',\n",
              " 'terrible',\n",
              " 'said',\n",
              " 'minutes',\n",
              " 'excellent',\n",
              " 'definitely',\n",
              " 'awesome',\n",
              " 'poor',\n",
              " 'good',\n",
              " 'bad',\n",
              " 'bland',\n",
              " 'favorite',\n",
              " 'money',\n",
              " 'perfect',\n",
              " 'manager',\n",
              " 'nice',\n",
              " 'waited',\n",
              " 'over',\n",
              " 'loved',\n",
              " 'left',\n",
              " 'won',\n",
              " 'disappointing',\n",
              " 'un',\n",
              " 'highly',\n",
              " 'got',\n",
              " 'wonderful',\n",
              " 'fresh',\n",
              " 'called',\n",
              " 'slow',\n",
              " 'awful',\n",
              " 'tasted',\n",
              " 'paid',\n",
              " 'took',\n",
              " 'ordered',\n",
              " 'pay',\n",
              " 'enjoyed',\n",
              " 'fantastic',\n",
              " 'order',\n",
              " 'disappointed',\n",
              " 'wasn']"
            ]
          },
          "metadata": {
            "tags": []
          },
          "execution_count": 191
        }
      ]
    },
    {
      "cell_type": "code",
      "metadata": {
        "id": "4vxqkaIdJlHN"
      },
      "source": [
        ""
      ],
      "execution_count": null,
      "outputs": []
    },
    {
      "cell_type": "markdown",
      "metadata": {
        "id": "7AaADCZZ9A4I"
      },
      "source": [
        "## Analyzing with contributions"
      ]
    },
    {
      "cell_type": "code",
      "metadata": {
        "colab": {
          "base_uri": "https://localhost:8080/"
        },
        "id": "zMk8ubcjxqo3",
        "outputId": "5756fea0-20df-4ccf-9308-1ca35070884b"
      },
      "source": [
        "%%time\n",
        "preds_300, bias_300, contributions_300 = ti.predict(rf_300, x_test)\n",
        "preds_1000, bias_1000, contributions_1000 = ti.predict(rf_1000, x_test)\n",
        "preds_grid, bias_grid, contributions_grid = ti.predict(random_f, x_test)"
      ],
      "execution_count": null,
      "outputs": [
        {
          "output_type": "stream",
          "text": [
            "CPU times: user 34min 13s, sys: 44.2 s, total: 34min 57s\n",
            "Wall time: 35min 33s\n"
          ],
          "name": "stdout"
        }
      ]
    },
    {
      "cell_type": "code",
      "metadata": {
        "colab": {
          "base_uri": "https://localhost:8080/"
        },
        "id": "nM01OlVw_azG",
        "outputId": "ea8d6916-d57a-4296-8b7b-66471fbdc8f0"
      },
      "source": [
        "preds_300.shape, bias_300.shape, contributions_300.shape"
      ],
      "execution_count": null,
      "outputs": [
        {
          "output_type": "execute_result",
          "data": {
            "text/plain": [
              "((2599, 2), (2599, 2), (2599, 16368, 2))"
            ]
          },
          "metadata": {
            "tags": []
          },
          "execution_count": 45
        }
      ]
    },
    {
      "cell_type": "code",
      "metadata": {
        "colab": {
          "base_uri": "https://localhost:8080/"
        },
        "id": "vmusHlrg_c0x",
        "outputId": "560d7f13-0051-418d-dee0-cb692ef8d88d"
      },
      "source": [
        "y_test[0]"
      ],
      "execution_count": null,
      "outputs": [
        {
          "output_type": "execute_result",
          "data": {
            "text/plain": [
              "0"
            ]
          },
          "metadata": {
            "tags": []
          },
          "execution_count": 46
        }
      ]
    },
    {
      "cell_type": "code",
      "metadata": {
        "colab": {
          "base_uri": "https://localhost:8080/",
          "height": 514
        },
        "id": "uoLH-cllKFxO",
        "outputId": "d15a5158-76b1-48e7-869a-ece804f99691"
      },
      "source": [
        "feature_importance_300[85:100]"
      ],
      "execution_count": null,
      "outputs": [
        {
          "output_type": "execute_result",
          "data": {
            "text/html": [
              "<div>\n",
              "<style scoped>\n",
              "    .dataframe tbody tr th:only-of-type {\n",
              "        vertical-align: middle;\n",
              "    }\n",
              "\n",
              "    .dataframe tbody tr th {\n",
              "        vertical-align: top;\n",
              "    }\n",
              "\n",
              "    .dataframe thead th {\n",
              "        text-align: right;\n",
              "    }\n",
              "</style>\n",
              "<table border=\"1\" class=\"dataframe\">\n",
              "  <thead>\n",
              "    <tr style=\"text-align: right;\">\n",
              "      <th></th>\n",
              "      <th>ids</th>\n",
              "      <th>keys</th>\n",
              "      <th>imp</th>\n",
              "    </tr>\n",
              "  </thead>\n",
              "  <tbody>\n",
              "    <tr>\n",
              "      <th>85</th>\n",
              "      <td>1996</td>\n",
              "      <td>the</td>\n",
              "      <td>0.000000e+00</td>\n",
              "    </tr>\n",
              "    <tr>\n",
              "      <th>86</th>\n",
              "      <td>1997</td>\n",
              "      <td>of</td>\n",
              "      <td>0.000000e+00</td>\n",
              "    </tr>\n",
              "    <tr>\n",
              "      <th>87</th>\n",
              "      <td>1998</td>\n",
              "      <td>and</td>\n",
              "      <td>0.000000e+00</td>\n",
              "    </tr>\n",
              "    <tr>\n",
              "      <th>88</th>\n",
              "      <td>1999</td>\n",
              "      <td>in</td>\n",
              "      <td>6.069408e-04</td>\n",
              "    </tr>\n",
              "    <tr>\n",
              "      <th>89</th>\n",
              "      <td>2000</td>\n",
              "      <td>to</td>\n",
              "      <td>1.911021e-04</td>\n",
              "    </tr>\n",
              "    <tr>\n",
              "      <th>90</th>\n",
              "      <td>2001</td>\n",
              "      <td>was</td>\n",
              "      <td>4.384488e-06</td>\n",
              "    </tr>\n",
              "    <tr>\n",
              "      <th>91</th>\n",
              "      <td>2002</td>\n",
              "      <td>he</td>\n",
              "      <td>3.894885e-05</td>\n",
              "    </tr>\n",
              "    <tr>\n",
              "      <th>92</th>\n",
              "      <td>2003</td>\n",
              "      <td>is</td>\n",
              "      <td>8.415821e-07</td>\n",
              "    </tr>\n",
              "    <tr>\n",
              "      <th>93</th>\n",
              "      <td>2004</td>\n",
              "      <td>as</td>\n",
              "      <td>2.343417e-05</td>\n",
              "    </tr>\n",
              "    <tr>\n",
              "      <th>94</th>\n",
              "      <td>2005</td>\n",
              "      <td>for</td>\n",
              "      <td>1.035290e-05</td>\n",
              "    </tr>\n",
              "    <tr>\n",
              "      <th>95</th>\n",
              "      <td>2006</td>\n",
              "      <td>on</td>\n",
              "      <td>0.000000e+00</td>\n",
              "    </tr>\n",
              "    <tr>\n",
              "      <th>96</th>\n",
              "      <td>2007</td>\n",
              "      <td>with</td>\n",
              "      <td>0.000000e+00</td>\n",
              "    </tr>\n",
              "    <tr>\n",
              "      <th>97</th>\n",
              "      <td>2008</td>\n",
              "      <td>that</td>\n",
              "      <td>1.339581e-05</td>\n",
              "    </tr>\n",
              "    <tr>\n",
              "      <th>98</th>\n",
              "      <td>2009</td>\n",
              "      <td>it</td>\n",
              "      <td>3.029734e-06</td>\n",
              "    </tr>\n",
              "    <tr>\n",
              "      <th>99</th>\n",
              "      <td>2011</td>\n",
              "      <td>by</td>\n",
              "      <td>0.000000e+00</td>\n",
              "    </tr>\n",
              "  </tbody>\n",
              "</table>\n",
              "</div>"
            ],
            "text/plain": [
              "     ids  keys           imp\n",
              "85  1996   the  0.000000e+00\n",
              "86  1997    of  0.000000e+00\n",
              "87  1998   and  0.000000e+00\n",
              "88  1999    in  6.069408e-04\n",
              "89  2000    to  1.911021e-04\n",
              "90  2001   was  4.384488e-06\n",
              "91  2002    he  3.894885e-05\n",
              "92  2003    is  8.415821e-07\n",
              "93  2004    as  2.343417e-05\n",
              "94  2005   for  1.035290e-05\n",
              "95  2006    on  0.000000e+00\n",
              "96  2007  with  0.000000e+00\n",
              "97  2008  that  1.339581e-05\n",
              "98  2009    it  3.029734e-06\n",
              "99  2011    by  0.000000e+00"
            ]
          },
          "metadata": {
            "tags": []
          },
          "execution_count": 105
        }
      ]
    },
    {
      "cell_type": "code",
      "metadata": {
        "colab": {
          "base_uri": "https://localhost:8080/"
        },
        "id": "mJsA3Rt0KuJg",
        "outputId": "09ae698d-18a9-4979-b055-d3b7aff29845"
      },
      "source": [
        "contributions_300[0][85:100]"
      ],
      "execution_count": null,
      "outputs": [
        {
          "output_type": "execute_result",
          "data": {
            "text/plain": [
              "array([[ 0.00000000e+00,  0.00000000e+00],\n",
              "       [ 0.00000000e+00,  0.00000000e+00],\n",
              "       [ 0.00000000e+00,  0.00000000e+00],\n",
              "       [-7.96027318e-05,  7.96027318e-05],\n",
              "       [ 2.81513777e-05, -2.81513777e-05],\n",
              "       [ 0.00000000e+00,  0.00000000e+00],\n",
              "       [ 0.00000000e+00,  0.00000000e+00],\n",
              "       [ 0.00000000e+00,  0.00000000e+00],\n",
              "       [ 0.00000000e+00,  0.00000000e+00],\n",
              "       [ 0.00000000e+00,  0.00000000e+00],\n",
              "       [ 0.00000000e+00,  0.00000000e+00],\n",
              "       [ 0.00000000e+00,  0.00000000e+00],\n",
              "       [ 0.00000000e+00,  0.00000000e+00],\n",
              "       [ 0.00000000e+00,  0.00000000e+00],\n",
              "       [ 0.00000000e+00,  0.00000000e+00]])"
            ]
          },
          "metadata": {
            "tags": []
          },
          "execution_count": 100
        }
      ]
    },
    {
      "cell_type": "code",
      "metadata": {
        "colab": {
          "base_uri": "https://localhost:8080/",
          "height": 120
        },
        "id": "ZOQ33RKnLSgL",
        "outputId": "3cb900c0-bb2f-4fad-b812-e60298c7c2c2"
      },
      "source": [
        "test_df.clean_text[0]"
      ],
      "execution_count": null,
      "outputs": [
        {
          "output_type": "execute_result",
          "data": {
            "application/vnd.google.colaboratory.intrinsic+json": {
              "type": "string"
            },
            "text/plain": [
              "'positives good location staff reasonably friendly negatives dry manis pedis advertise website update site base coat coat blobbed attention coat cover color nail nails filed totally random lenths shapes shorter end fingers longer pedi woman wasn paying attention ended filing skin bled cute tea menu offer definitely expensive getting answer phone pedi station isn comfortable slightly padded bench notes staff looks surprised sure come ask work'"
            ]
          },
          "metadata": {
            "tags": []
          },
          "execution_count": 101
        }
      ]
    },
    {
      "cell_type": "code",
      "metadata": {
        "colab": {
          "base_uri": "https://localhost:8080/"
        },
        "id": "9yo0rb7XMwuY",
        "outputId": "0ae8f9c9-9040-479e-8487-a0be70d71df5"
      },
      "source": [
        "# .apply(lambda x : len(x.strip().split(\" \")))\n",
        "len(test_df.clean_text[0].strip().split(\" \"))"
      ],
      "execution_count": null,
      "outputs": [
        {
          "output_type": "execute_result",
          "data": {
            "text/plain": [
              "66"
            ]
          },
          "metadata": {
            "tags": []
          },
          "execution_count": 111
        }
      ]
    },
    {
      "cell_type": "code",
      "metadata": {
        "colab": {
          "base_uri": "https://localhost:8080/"
        },
        "id": "gG8FlkRqMsm3",
        "outputId": "d86f037b-638d-488e-8557-8d314c0a6e45"
      },
      "source": [
        "len(test_ids[0])"
      ],
      "execution_count": null,
      "outputs": [
        {
          "output_type": "execute_result",
          "data": {
            "text/plain": [
              "99"
            ]
          },
          "metadata": {
            "tags": []
          },
          "execution_count": 108
        }
      ]
    },
    {
      "cell_type": "markdown",
      "metadata": {
        "id": "i7AvI6q7Nnbe"
      },
      "source": [
        "CHECK FROM WHICH COLUMN OF TEST_DF WE ARE GETTING X_TEST FOR BERT... TO GET THE IDS !!!"
      ]
    },
    {
      "cell_type": "code",
      "metadata": {
        "id": "J4nSTLXnNlnj"
      },
      "source": [
        ""
      ],
      "execution_count": null,
      "outputs": []
    },
    {
      "cell_type": "code",
      "metadata": {
        "id": "IOJ3paybLo1U"
      },
      "source": [
        "with open('/content/drive/MyDrive/Yelp/tensors_yelp/train_ids_99.pkl', 'rb') as f:\n",
        "    train_ids = pickle.load(f)\n",
        "\n",
        "with open('/content/drive/MyDrive/Yelp/tensors_yelp/test_ids_99.pkl', 'rb') as d:\n",
        "    test_ids = pickle.load(d)"
      ],
      "execution_count": null,
      "outputs": []
    },
    {
      "cell_type": "code",
      "metadata": {
        "colab": {
          "base_uri": "https://localhost:8080/"
        },
        "id": "7G_dS1FGDkJM",
        "outputId": "d201ca5f-e40d-4ece-e5de-3323260cdb03"
      },
      "source": [
        "contributions_300[0][0][0]"
      ],
      "execution_count": null,
      "outputs": [
        {
          "output_type": "execute_result",
          "data": {
            "text/plain": [
              "-0.0021808297309143503"
            ]
          },
          "metadata": {
            "tags": []
          },
          "execution_count": 55
        }
      ]
    },
    {
      "cell_type": "code",
      "metadata": {
        "colab": {
          "base_uri": "https://localhost:8080/"
        },
        "id": "LKkDmOVRENqu",
        "outputId": "82827c43-6b61-4a18-b7cb-82de92e03284"
      },
      "source": [
        "contributions_300[0][0][1]"
      ],
      "execution_count": null,
      "outputs": [
        {
          "output_type": "execute_result",
          "data": {
            "text/plain": [
              "0.002180829730914351"
            ]
          },
          "metadata": {
            "tags": []
          },
          "execution_count": 56
        }
      ]
    },
    {
      "cell_type": "code",
      "metadata": {
        "colab": {
          "base_uri": "https://localhost:8080/",
          "height": 35
        },
        "id": "hW7MPMejD4tv",
        "outputId": "9e21d6c4-c497-41e5-c7c0-3180c8c96438"
      },
      "source": [
        "top20[0]"
      ],
      "execution_count": null,
      "outputs": [
        {
          "output_type": "execute_result",
          "data": {
            "application/vnd.google.colaboratory.intrinsic+json": {
              "type": "string"
            },
            "text/plain": [
              "'great'"
            ]
          },
          "metadata": {
            "tags": []
          },
          "execution_count": 49
        }
      ]
    },
    {
      "cell_type": "code",
      "metadata": {
        "colab": {
          "base_uri": "https://localhost:8080/"
        },
        "id": "g50u99QGFDP3",
        "outputId": "7f332e80-ff36-4d45-e967-cbd0bf8f0233"
      },
      "source": [
        "w = np.argmax(contributions_300[0][7])\n",
        "w"
      ],
      "execution_count": null,
      "outputs": [
        {
          "output_type": "execute_result",
          "data": {
            "text/plain": [
              "1"
            ]
          },
          "metadata": {
            "tags": []
          },
          "execution_count": 81
        }
      ]
    },
    {
      "cell_type": "code",
      "metadata": {
        "colab": {
          "base_uri": "https://localhost:8080/"
        },
        "id": "wB88JuPYHVIZ",
        "outputId": "3095887e-a293-4014-b8d3-78046288d321"
      },
      "source": [
        "w2 = np.argmax(contributions_300[0][9])\n",
        "w2"
      ],
      "execution_count": null,
      "outputs": [
        {
          "output_type": "execute_result",
          "data": {
            "text/plain": [
              "0"
            ]
          },
          "metadata": {
            "tags": []
          },
          "execution_count": 85
        }
      ]
    },
    {
      "cell_type": "code",
      "metadata": {
        "colab": {
          "base_uri": "https://localhost:8080/"
        },
        "id": "hP9E_gsYEcTk",
        "outputId": "5a39db75-087d-48c6-adc1-59c03420df9c"
      },
      "source": [
        "contributions_300[0][4]"
      ],
      "execution_count": null,
      "outputs": [
        {
          "output_type": "execute_result",
          "data": {
            "text/plain": [
              "array([-1.67814874e-05,  1.67814874e-05])"
            ]
          },
          "metadata": {
            "tags": []
          },
          "execution_count": 126
        }
      ]
    },
    {
      "cell_type": "code",
      "metadata": {
        "colab": {
          "base_uri": "https://localhost:8080/"
        },
        "id": "1_lo6RXnJytD",
        "outputId": "ffd49e43-6f2e-447a-f678-d5f5e3e14103"
      },
      "source": [
        "review_0 = np.nonzero(contributions_300[0])\n",
        "review_0"
      ],
      "execution_count": null,
      "outputs": [
        {
          "output_type": "execute_result",
          "data": {
            "text/plain": [
              "(array([    0,     0,     4, ..., 16217, 16306, 16306]),\n",
              " array([0, 1, 0, ..., 1, 0, 1]))"
            ]
          },
          "metadata": {
            "tags": []
          },
          "execution_count": 88
        }
      ]
    },
    {
      "cell_type": "code",
      "metadata": {
        "colab": {
          "base_uri": "https://localhost:8080/"
        },
        "id": "dHagES0mKYTX",
        "outputId": "cfff304a-261c-4849-c5c1-0391d8b0ce85"
      },
      "source": [
        "len(review_0[0])"
      ],
      "execution_count": null,
      "outputs": [
        {
          "output_type": "execute_result",
          "data": {
            "text/plain": [
              "3260"
            ]
          },
          "metadata": {
            "tags": []
          },
          "execution_count": 92
        }
      ]
    },
    {
      "cell_type": "code",
      "metadata": {
        "id": "0GojYNKJJ7h7"
      },
      "source": [
        "contributions_300[0].sort()"
      ],
      "execution_count": null,
      "outputs": []
    },
    {
      "cell_type": "code",
      "metadata": {
        "colab": {
          "base_uri": "https://localhost:8080/"
        },
        "id": "lMtwxaOiW6vC",
        "outputId": "41930be6-4318-4f66-d5d8-691ff53a1ee4"
      },
      "source": [
        "contributions_300[0][1]"
      ],
      "execution_count": null,
      "outputs": [
        {
          "output_type": "execute_result",
          "data": {
            "text/plain": [
              "array([0., 0.])"
            ]
          },
          "metadata": {
            "tags": []
          },
          "execution_count": 169
        }
      ]
    },
    {
      "cell_type": "code",
      "metadata": {
        "colab": {
          "base_uri": "https://localhost:8080/"
        },
        "id": "M_M7Vb6EE3hh",
        "outputId": "5ab6bf10-a146-4939-c93b-4bbc0b207800"
      },
      "source": [
        "if contributions_300[0][1][0] == 0:\n",
        "  print('works')"
      ],
      "execution_count": null,
      "outputs": [
        {
          "output_type": "stream",
          "text": [
            "works\n"
          ],
          "name": "stdout"
        }
      ]
    },
    {
      "cell_type": "code",
      "metadata": {
        "colab": {
          "base_uri": "https://localhost:8080/"
        },
        "id": "rXNdaWBdL9kb",
        "outputId": "996190bf-cc95-4a7d-84e0-fae4eff2f324"
      },
      "source": [
        "len(list(feature_importance_300[feature_importance_300['ids'].isin(test_ids[0])].index))"
      ],
      "execution_count": null,
      "outputs": [
        {
          "output_type": "execute_result",
          "data": {
            "text/plain": [
              "71"
            ]
          },
          "metadata": {
            "tags": []
          },
          "execution_count": 165
        }
      ]
    },
    {
      "cell_type": "code",
      "metadata": {
        "id": "6Gue9dUZ_e5k"
      },
      "source": [
        "# from http://blog.datadive.net/random-forest-interpretation-with-scikit-learn/\n",
        "print(\"Predictions for random forest 300 and for the review 0\")\n",
        "#top20 = list(feature_importance_300.sort_values(by=['imp'], ascending=False)['keys'][:20])\n",
        "actual_features = list(feature_importance_300[feature_importance_300['ids'].isin(test_ids[0])]['keys'])\n",
        "print(\"Prediction\", preds_300[0])\n",
        "print(\"Label\", np.argmax(preds_300[0], axis=0).flatten())\n",
        "#print(\"Bias (trainset prior)\", bias_300[0])\n",
        "print('')\n",
        "print(\"Feature contributions:\")\n",
        "actual_features = np.nonzero(contributions_300[0])\n",
        "#for c, feature in zip(contributions_300[0], top20):\n",
        "for c, feature in zip(contributions_300[0], top20):\n",
        "for i in range(len(actual_features)):\n",
        "\n",
        "  m = np.argmax(c)\n",
        "  if m == 0:\n",
        "    me = 'negative'\n",
        "  else:\n",
        "    me = 'positive'\n",
        "  #word = list(tokenizer.vocab.keys())[feature]\n",
        "  print(feature, c, me)"
      ],
      "execution_count": null,
      "outputs": []
    },
    {
      "cell_type": "code",
      "metadata": {
        "colab": {
          "base_uri": "https://localhost:8080/"
        },
        "id": "uMxX3xn5OsQh",
        "outputId": "62098406-3309-4351-a387-819ad41d7b4c"
      },
      "source": [
        "# from http://blog.datadive.net/random-forest-interpretation-with-scikit-learn/\n",
        "print(\"Predictions for random forest 300 and for the review 0\")\n",
        "#top20 = list(feature_importance_300.sort_values(by=['imp'], ascending=False)['keys'][:20])\n",
        "#actual_f = list(feature_importance_300[feature_importance_300['ids'].isin(test_ids[0])]['keys'])\n",
        "con_indx = list(feature_importance_300[feature_importance_300['ids'].isin(test_ids[0])].index)\n",
        "print(\"Prediction\", preds_300[0])\n",
        "print(\"Label\", np.argmax(preds_300[0], axis=0).flatten())\n",
        "#print(\"Bias (trainset prior)\", bias_300[0])\n",
        "print('')\n",
        "print(\"Feature contributions:\")\n",
        "#actual_features = np.nonzero(contributions_300[0])\n",
        "negative = []\n",
        "positive = []\n",
        "for i in con_indx:\n",
        "  c = contributions_300[0][i]\n",
        "  feature = feature_importance_300['keys'][i]\n",
        "  m = np.argmax(c)\n",
        "  if m == 0:\n",
        "    negative.append([feature, c])\n",
        "  else:\n",
        "    positive.append([feature, c])\n",
        "\n",
        "  #print(str(feature) + ' has a contribution of: ' \\\n",
        "  #      + str(c) + '\\n      thus its meaning is classified as ' + me + '\\n ')\n",
        "\n",
        "\n",
        "print(''+ '\\nthe ' + str(len(negative)) + ' contributions for negative are: ')\n",
        "for l in negative:\n",
        "  print(str(l[0]) + '       has a contribution of: ' \\\n",
        "        + str(l[1]))\n",
        "print(''+ '\\nthe ' + str(len(positive)) + ' contributions for positive are: ')\n",
        "for l in positive:\n",
        "  print(str(l[0]) + '       has a contribution of: ' \\\n",
        "        + str(l[1]))"
      ],
      "execution_count": null,
      "outputs": [
        {
          "output_type": "stream",
          "text": [
            "Predictions for random forest 300 and for the review 0\n",
            "Prediction [0.51573443 0.48426557]\n",
            "Label [0]\n",
            "\n",
            "Feature contributions:\n",
            "\n",
            "the 56 contributions for negative are: \n",
            "[CLS]       has a contribution of: [0. 0.]\n",
            "[SEP]       has a contribution of: [0. 0.]\n",
            "b       has a contribution of: [ 0.00265121 -0.00265121]\n",
            "end       has a contribution of: [ 0.00070298 -0.00070298]\n",
            "come       has a contribution of: [ 0.00156782 -0.00156782]\n",
            "station       has a contribution of: [ 0.00126687 -0.00126687]\n",
            "wasn       has a contribution of: [ 0.0202239 -0.0202239]\n",
            "woman       has a contribution of: [ 0.00895751 -0.00895751]\n",
            "site       has a contribution of: [ 0.00275447 -0.00275447]\n",
            "getting       has a contribution of: [ 0.00964196 -0.00964196]\n",
            "base       has a contribution of: [0. 0.]\n",
            "longer       has a contribution of: [ 0.0122008 -0.0122008]\n",
            "phone       has a contribution of: [ 0.03968604 -0.03968604]\n",
            "attention       has a contribution of: [ 0.00926254 -0.00926254]\n",
            "ended       has a contribution of: [ 0.00877139 -0.00877139]\n",
            "fingers       has a contribution of: [ 0.00281406 -0.00281406]\n",
            "skin       has a contribution of: [ 0.00170269 -0.00170269]\n",
            "cover       has a contribution of: [0. 0.]\n",
            "ask       has a contribution of: [ 0.02658398 -0.02658398]\n",
            "location       has a contribution of: [ 0.00102771 -0.00102771]\n",
            "answer       has a contribution of: [ 0.00462373 -0.00462373]\n",
            "looks       has a contribution of: [ 0.00189084 -0.00189084]\n",
            "color       has a contribution of: [ 0.00296271 -0.00296271]\n",
            "slightly       has a contribution of: [ 0.00118987 -0.00118987]\n",
            "positive       has a contribution of: [ 0.00225434 -0.00225434]\n",
            "notes       has a contribution of: [0. 0.]\n",
            "website       has a contribution of: [0. 0.]\n",
            "##lo       has a contribution of: [0. 0.]\n",
            "##di       has a contribution of: [0. 0.]\n",
            "dry       has a contribution of: [ 0.03192979 -0.03192979]\n",
            "ad       has a contribution of: [0. 0.]\n",
            "negative       has a contribution of: [ 0.00428172 -0.00428172]\n",
            "coat       has a contribution of: [0. 0.]\n",
            "##ise       has a contribution of: [0. 0.]\n",
            "tea       has a contribution of: [ 0.00033488 -0.00033488]\n",
            "totally       has a contribution of: [0. 0.]\n",
            "filed       has a contribution of: [ 0.00215492 -0.00215492]\n",
            "expensive       has a contribution of: [ 0.00436492 -0.00436492]\n",
            "random       has a contribution of: [0. 0.]\n",
            "bench       has a contribution of: [0. 0.]\n",
            "paying       has a contribution of: [ 0.01010951 -0.01010951]\n",
            "shorter       has a contribution of: [0. 0.]\n",
            "##hs       has a contribution of: [0. 0.]\n",
            "nails       has a contribution of: [ 0.00166555 -0.00166555]\n",
            "shapes       has a contribution of: [0. 0.]\n",
            "##dis       has a contribution of: [0. 0.]\n",
            "update       has a contribution of: [ 0.00341415 -0.00341415]\n",
            "nail       has a contribution of: [ 0.00175675 -0.00175675]\n",
            "filing       has a contribution of: [0. 0.]\n",
            "lent       has a contribution of: [0. 0.]\n",
            "##bbed       has a contribution of: [0. 0.]\n",
            "##vert       has a contribution of: [ 0.0022282 -0.0022282]\n",
            "padded       has a contribution of: [0. 0.]\n",
            "pe       has a contribution of: [ 0.00063272 -0.00063272]\n",
            "mani       has a contribution of: [ 0.00157182 -0.00157182]\n",
            "bled       has a contribution of: [0. 0.]\n",
            "\n",
            "the 15 contributions for positive are: \n",
            "[PAD]       has a contribution of: [-0.00218083  0.00218083]\n",
            "##s       has a contribution of: [-0.00018193  0.00018193]\n",
            "work       has a contribution of: [-0.00037113  0.00037113]\n",
            "good       has a contribution of: [-0.01059659  0.01059659]\n",
            "sure       has a contribution of: [-0.00248668  0.00248668]\n",
            "staff       has a contribution of: [-0.0082169  0.0082169]\n",
            "isn       has a contribution of: [-0.00028283  0.00028283]\n",
            "offer       has a contribution of: [-0.00113636  0.00113636]\n",
            "surprised       has a contribution of: [-0.00115038  0.00115038]\n",
            "friendly       has a contribution of: [-0.05280098  0.05280098]\n",
            "definitely       has a contribution of: [-0.04513862  0.04513862]\n",
            "comfortable       has a contribution of: [-0.01576149  0.01576149]\n",
            "cute       has a contribution of: [-0.00377839  0.00377839]\n",
            "menu       has a contribution of: [-0.0027276  0.0027276]\n",
            "reasonably       has a contribution of: [-0.00523344  0.00523344]\n"
          ],
          "name": "stdout"
        }
      ]
    },
    {
      "cell_type": "code",
      "metadata": {
        "colab": {
          "base_uri": "https://localhost:8080/",
          "height": 120
        },
        "id": "3mzUW_BW_hj9",
        "outputId": "73261f47-e04e-4c1b-e5fc-af762b6ae7d8"
      },
      "source": [
        "test_df.clean_text[0]"
      ],
      "execution_count": null,
      "outputs": [
        {
          "output_type": "execute_result",
          "data": {
            "application/vnd.google.colaboratory.intrinsic+json": {
              "type": "string"
            },
            "text/plain": [
              "'positives good location staff reasonably friendly negatives dry manis pedis advertise website update site base coat coat blobbed attention coat cover color nail nails filed totally random lenths shapes shorter end fingers longer pedi woman wasn paying attention ended filing skin bled cute tea menu offer definitely expensive getting answer phone pedi station isn comfortable slightly padded bench notes staff looks surprised sure come ask work'"
            ]
          },
          "metadata": {
            "tags": []
          },
          "execution_count": 184
        }
      ]
    },
    {
      "cell_type": "code",
      "metadata": {
        "colab": {
          "base_uri": "https://localhost:8080/"
        },
        "id": "5igZGzuDUOpd",
        "outputId": "a6102fbb-785c-41d3-838f-0828b3d7fc41"
      },
      "source": [
        "print(\"Predictions for random forest 1000 of 2 sample leaves and for the review 0\")\n",
        "con_indx = list(feature_importance_grid[feature_importance_grid['ids'].isin(test_ids[0])].index)\n",
        "print(\"Prediction\", np.argmax(preds_300[0]))\n",
        "print(\"True Label\", y_test[0])\n",
        "print('' + \"\\nFeature contributions:\")\n",
        "negative = {}\n",
        "positive = {}\n",
        "for i in con_indx:\n",
        "  c = contributions_grid[0][i]\n",
        "  feature = feature_importance_grid['keys'][i]\n",
        "  m = np.argmax(c)\n",
        "  if m == 0:\n",
        "    negative[feature] = list(c)\n",
        "  else:\n",
        "    positive[feature] = list(c)\n",
        "print(''+ '\\nthe ' + str(len(negative)) + ' contributions for negative are: ')\n",
        "print({key: value[0] for key, value in sorted(negative.items(), key=lambda item: item[1], reverse=True)})\n",
        "#for l in negative.:\n",
        " # print(str(l[0]) + '       has a contribution of: ' \\\n",
        " #       + str(l[1]))\n",
        "print(''+ '\\nthe ' + str(len(positive)) + ' contributions for positive are: ')\n",
        "for key, value in sorted(positive.items(), key=lambda item: item[1], reverse=True):\n",
        "  print(key, value[1])\n",
        "#for l in positive:\n",
        " # print(str(l[0]) + '       has a contribution of: ' \\\n",
        "  #      + str(l[1]))"
      ],
      "execution_count": null,
      "outputs": [
        {
          "output_type": "stream",
          "text": [
            "Predictions for random forest 1000 of 2 sample leaves and for the review 0\n",
            "Prediction [0.51573443 0.48426557]\n",
            "Label [0]\n",
            "\n",
            "Feature contributions:\n",
            "\n",
            "the 51 contributions for negative are: \n",
            "{'phone': 0.03658300672122821, 'dry': 0.029304083900413235, 'wasn': 0.026817347637338878, 'ask': 0.02286670328974162, 'paying': 0.015537179178108115, 'attention': 0.014994646349560426, 'longer': 0.012815955785843582, 'woman': 0.012370776776089696, 'expensive': 0.006366894154202534, 'answer': 0.0057435631050703284, 'getting': 0.00553400806247927, 'ended': 0.00443768852869426, 'negative': 0.0038892178588794354, 'update': 0.003660629653083758, 'looks': 0.0032342630529331668, 'positive': 0.002787047571704352, 'nail': 0.0026753697541031483, 'b': 0.002266570196841662, 'color': 0.0022623463791395194, '##di': 0.0021538215328377637, 'mani': 0.002012021595145529, 'site': 0.0018803509220306216, 'totally': 0.0016991163582915957, 'skin': 0.001474129006278047, 'isn': 0.0013986705392548678, 'fingers': 0.0013960017376001411, 'website': 0.001394138456586558, 'random': 0.0013775223456485993, 'station': 0.001242704317212761, '##ise': 0.0010787424056306243, 'come': 0.0010158575219555975, 'cover': 0.0008980000000000003, 'filed': 0.000646474878444084, '##s': 0.000642380347703289, '##vert': 0.0006117094725214019, 'nails': 0.0003534525563290215, 'pe': 0.00013072426347185992, '[CLS]': 0.0, '[SEP]': 0.0, 'notes': 0.0, 'ad': 0.0, 'coat': 0.0, 'shorter': 0.0, '##hs': 0.0, 'shapes': 0.0, '##dis': 0.0, 'filing': 0.0, 'lent': 0.0, '##bbed': 0.0, 'padded': 0.0, 'bled': 0.0}\n",
            "\n",
            "the 20 contributions for positive are: \n",
            "location 4.4364600823278585e-05\n",
            "base 7.407407407407409e-05\n",
            "slightly 0.00016303340760835325\n",
            "end 0.000170993289338496\n",
            "##lo 0.00041764705882352975\n",
            "bench 0.000771300448430492\n",
            "tea 0.0008447355804581989\n",
            "offer 0.0011028275737157984\n",
            "sure 0.0012007010056313985\n",
            "surprised 0.0017228139757081633\n",
            "[PAD] 0.0017642032165628347\n",
            "reasonably 0.0034548643594847816\n",
            "cute 0.0035293879249535553\n",
            "work 0.003966798671260507\n",
            "menu 0.004482323979163884\n",
            "staff 0.010838386687269492\n",
            "good 0.012757604000261125\n",
            "comfortable 0.015793609103149874\n",
            "definitely 0.04636748640040846\n",
            "friendly 0.050302376811215535\n"
          ],
          "name": "stdout"
        }
      ]
    },
    {
      "cell_type": "code",
      "metadata": {
        "colab": {
          "base_uri": "https://localhost:8080/"
        },
        "id": "62evZSudYtAX",
        "outputId": "f3dfabe9-5866-47b8-b58d-e59a8807992b"
      },
      "source": [
        "print(\"Predictions for random forest 1000 of 2 sample leaves and for the review 1\")\n",
        "con_indx = list(feature_importance_grid[feature_importance_grid['ids'].isin(test_ids[random_review])].index)\n",
        "print(\"Prediction: \", np.argmax(preds_grid[1]))\n",
        "print(\"True Label: \" + str(test_df['label'][1]))\n",
        "print('' + \"\\nFeature contributions:\")\n",
        "negative = {}\n",
        "positive = {}\n",
        "for i in con_indx:\n",
        "  c = contributions_grid[1][i]\n",
        "  feature = feature_importance_grid['keys'][i]\n",
        "  m = np.argmax(c)\n",
        "  if m == 0:\n",
        "    negative[feature] = list(c)\n",
        "  else:\n",
        "    positive[feature] = list(c)\n",
        "print(''+ '\\nthe ' + str(len(negative)) + ' contributions for negative are: ')\n",
        "print({key: value[0] for key, value in sorted(negative.items(), key=lambda item: item[1], reverse=True)})\n",
        "#for l in negative.:\n",
        " # print(str(l[0]) + '       has a contribution of: ' \\\n",
        " #       + str(l[1]))\n",
        "print(''+ '\\nthe ' + str(len(positive)) + ' contributions for positive are: ')\n",
        "for key, value in sorted(positive.items(), key=lambda item: item[1], reverse=True):\n",
        "  print(key, value[1])"
      ],
      "execution_count": null,
      "outputs": [
        {
          "output_type": "stream",
          "text": [
            "Predictions for random forest 1000 of 2 sample leaves and for the review 1\n",
            "Prediction:  [0]\n",
            "True Label: 0\n",
            "\n",
            "Feature contributions:\n",
            "\n",
            "the 7 contributions for negative are: \n",
            "{'hours': 0.011764360555364577, 'negative': 0.00027651255759575947, 'super': 0.00027072535321721403, '[CLS]': 0.0, '[SEP]': 0.0, 'body': 0.0, 'accord': 0.0}\n",
            "\n",
            "the 9 contributions for positive are: \n",
            "honestly 1.4513613152756432e-05\n",
            "rating 1.8691115099042525e-05\n",
            "luck 4.79732854655969e-05\n",
            "weird 6.249411893371428e-05\n",
            "stuff 0.00010154275688092031\n",
            "[PAD] 0.0025042998923106856\n",
            "horrible 0.003057088536112245\n",
            "rude 0.0031786743856853077\n",
            "good 0.012982540852012014\n"
          ],
          "name": "stdout"
        }
      ]
    },
    {
      "cell_type": "code",
      "metadata": {
        "colab": {
          "base_uri": "https://localhost:8080/",
          "height": 52
        },
        "id": "ZfPLqdzVZbmr",
        "outputId": "03e17007-ab89-4f0d-f48d-9d9e64ca3987"
      },
      "source": [
        "test_df.clean_text[1]"
      ],
      "execution_count": null,
      "outputs": [
        {
          "output_type": "execute_result",
          "data": {
            "application/vnd.google.colaboratory.intrinsic+json": {
              "type": "string"
            },
            "text/plain": [
              "'clean hotel jacuzzi huge shower bathroom huge clean view nice hotel lobby nice valet great bad kept freezing hours minutes time floor heard train night thruout night loud clearly freight train engineer thats thing want waking away work makes nights broken sleep night good stay know vegas people hotel sleep'"
            ]
          },
          "metadata": {
            "tags": []
          },
          "execution_count": 185
        }
      ]
    },
    {
      "cell_type": "code",
      "metadata": {
        "colab": {
          "base_uri": "https://localhost:8080/"
        },
        "id": "FwMhU1VJZxs6",
        "outputId": "0c140387-80e4-4dfe-c8e3-de64ec3da61d"
      },
      "source": [
        "import random\n",
        "random_review = random.randint(1, len(x_test))\n",
        "print(\"Predictions for random forest 1000 of 2 sample leaves and for a random review\")\n",
        "print(\"Selected Sample     : %d\"%random_review)\n",
        "print(\"Actual Target Value : %s\"%y_test[random_review])\n",
        "print(\"Predicted Value     : %s\"%np.argmax(preds_grid[random_review]))\n",
        "print(\"\" + \"\\nthe review is: \" + \"\\n\" + test_df.clean_text[random_review])\n",
        "con_indx = list(feature_importance_grid[feature_importance_grid['ids'].isin(test_ids[random_review])].index)\n",
        "print('' + \"\\nFeature contributions:\")\n",
        "negative = {}\n",
        "positive = {}\n",
        "for i in con_indx:\n",
        "  c = contributions_grid[random_review][i]\n",
        "  feature = feature_importance_grid['keys'][i]\n",
        "  m = np.argmax(c)\n",
        "  if m == 0:\n",
        "    negative[feature] = list(c)\n",
        "  else:\n",
        "    positive[feature] = list(c)\n",
        "print(''+ '\\nthe ' + str(len(negative)) + ' contributions for negative are: ')\n",
        "print({key: value[0] for key, value in sorted(negative.items(), key=lambda item: item[1], reverse=True)})\n",
        "#for l in negative.:\n",
        " # print(str(l[0]) + '       has a contribution of: ' \\\n",
        " #       + str(l[1]))\n",
        "print(''+ '\\nthe ' + str(len(positive)) + ' contributions for positive are: ')\n",
        "for key, value in sorted(positive.items(), key=lambda item: item[1], reverse=True):\n",
        "  print(key, value[1])"
      ],
      "execution_count": null,
      "outputs": [
        {
          "output_type": "stream",
          "text": [
            "Predictions for random forest 1000 of 2 sample leaves and for a random review\n",
            "Selected Sample     : 2581\n",
            "Actual Target Value : 1\n",
            "Predicted Value     : 1\n",
            "\n",
            "the review is: \n",
            "drinks absolutely amazing food good chain good somewhat cooler weather type dishes expected english indian impossible meat dish amazing\n",
            "\n",
            "Feature contributions:\n",
            "\n",
            "the 13 contributions for negative are: \n",
            "{'expected': 0.019748940469908542, 'somewhat': 0.010087909875703379, 'indian': 0.007116088213652807, 'dish': 0.005234505167762018, 'food': 0.003634323628137821, 'english': 0.003483734482110269, 'drinks': 0.0029765395673710163, 'impossible': 0.002267870632705358, 'meat': 0.0022239553057390674, 'type': 0.00022125615323378273, '[CLS]': 0.0, '[SEP]': 0.0, 'cooler': 0.0}\n",
            "\n",
            "the 7 contributions for positive are: \n",
            "weather 0.0006655086902850144\n",
            "[PAD] 0.0013421150195339195\n",
            "chain 0.0024021016907071198\n",
            "absolutely 0.008481485402977761\n",
            "dishes 0.018404713480581474\n",
            "good 0.03556205369692527\n",
            "amazing 0.1694398969017018\n"
          ],
          "name": "stdout"
        }
      ]
    },
    {
      "cell_type": "markdown",
      "metadata": {
        "id": "JegwpXuqbNd_"
      },
      "source": [
        "MAKE A FUNCTION FOR THE THING ABOVE SO IT CAN BE REPLICATED TO WHATEVER REVIEW, EITEHR RANDOM OF SPECIFIC AND THAT IT CAN BE SPECIFY IF YOU WANT RESULTS AS DICT OR LIST OR PRINTED ONLY... \n",
        "\n",
        "BABY THIS IS IT YOU CAN DO IT!"
      ]
    },
    {
      "cell_type": "code",
      "metadata": {
        "id": "pRQdrofXbNGo"
      },
      "source": [
        ""
      ],
      "execution_count": null,
      "outputs": []
    },
    {
      "cell_type": "code",
      "metadata": {
        "colab": {
          "base_uri": "https://localhost:8080/"
        },
        "id": "oWJNjoM__jZF",
        "outputId": "04672134-3890-4540-ce83-5964d890da68"
      },
      "source": [
        "test_df.columns"
      ],
      "execution_count": null,
      "outputs": [
        {
          "output_type": "execute_result",
          "data": {
            "text/plain": [
              "Index(['text', 'label', 'categories', 'clean_text'], dtype='object')"
            ]
          },
          "metadata": {
            "tags": []
          },
          "execution_count": 190
        }
      ]
    },
    {
      "cell_type": "code",
      "metadata": {
        "colab": {
          "base_uri": "https://localhost:8080/"
        },
        "id": "RH1-de57_lYt",
        "outputId": "31030db5-709c-4f87-b54a-e610c62dc58d"
      },
      "source": [
        "test_df.label[0]"
      ],
      "execution_count": null,
      "outputs": [
        {
          "output_type": "execute_result",
          "data": {
            "text/plain": [
              "0"
            ]
          },
          "metadata": {
            "tags": []
          },
          "execution_count": 47
        }
      ]
    },
    {
      "cell_type": "markdown",
      "metadata": {
        "id": "bhTAcIYl4tkl"
      },
      "source": [
        "# Global features and\n",
        "# Specific ones see if they match the reviews"
      ]
    },
    {
      "cell_type": "code",
      "metadata": {
        "id": "ry1ktbQ289FF"
      },
      "source": [
        ""
      ],
      "execution_count": null,
      "outputs": []
    },
    {
      "cell_type": "markdown",
      "metadata": {
        "id": "dUVI_eAFERHE"
      },
      "source": [
        "## More about contributions"
      ]
    },
    {
      "cell_type": "code",
      "metadata": {
        "colab": {
          "base_uri": "https://localhost:8080/"
        },
        "id": "okjmIidoTT7E",
        "outputId": "ac5f1458-7739-4b81-955e-3dda89071a3d"
      },
      "source": [
        "#print(\"Bias For Sample 0                        : %s\"%bias[0])\n",
        "print(\"Constributions For Sample 0              : %s\"%contributions_300[0])\n",
        "print(\"Prediction Based on Bias & Contributions : %s\"%(bias_300[0] + contributions_300[0].sum()))\n",
        "print(\"Actual Target Value                      : %s\"%y_test[0])\n",
        "print(\"Target Value As Per Treeinterpreter      : %s\"%preds_300[0][0])"
      ],
      "execution_count": null,
      "outputs": [
        {
          "output_type": "stream",
          "text": [
            "Constributions For Sample 0              : [[-0.00218083  0.00218083]\n",
            " [ 0.          0.        ]\n",
            " [ 0.          0.        ]\n",
            " ...\n",
            " [ 0.          0.        ]\n",
            " [ 0.          0.        ]\n",
            " [ 0.          0.        ]]\n",
            "Prediction Based on Bias & Contributions : [0.49902989 0.50097011]\n",
            "Actual Target Value                      : 0\n",
            "Target Value As Per Treeinterpreter      : 0.5157344272433114\n"
          ],
          "name": "stdout"
        }
      ]
    },
    {
      "cell_type": "code",
      "metadata": {
        "id": "0hGlRj74E8-_"
      },
      "source": [
        "def create_contrbutions_df(contributions, random_sample, feature_names):\n",
        "    contribs = contributions[random_sample].tolist()\n",
        "    contribs.insert(0, bias[random_sample])\n",
        "    contribs = np.array(contribs)\n",
        "    contrib_df = pd.DataFrame(data=contribs, index=[\"Base\"] + feature_names, columns=[\"Contributions_0\", \"Contributions_1\"])\n",
        "    prediction = contrib_df[[\"Contributions_0\", \"Contributions_1\"]].sum()\n",
        "    contrib_df.loc[\"Prediction\"] = prediction\n",
        "    return contrib_df"
      ],
      "execution_count": null,
      "outputs": []
    },
    {
      "cell_type": "code",
      "metadata": {
        "id": "HnW8Gd8zDgqD",
        "colab": {
          "base_uri": "https://localhost:8080/"
        },
        "outputId": "dfd63844-8e5f-4d37-8c92-dd7218e308b7"
      },
      "source": [
        "import random\n",
        "random_sample = random.randint(1, len(x_test))\n",
        "print(\"Selected Sample     : %d\"%random_sample)\n",
        "print(\"Actual Target Value : %s\"%y_test[random_sample])\n",
        "print(\"Predicted Value     : %s\"%np.argmax(preds[random_sample]))"
      ],
      "execution_count": null,
      "outputs": [
        {
          "output_type": "stream",
          "text": [
            "Selected Sample     : 73\n",
            "Actual Target Value : 0\n",
            "Predicted Value     : 1\n"
          ],
          "name": "stdout"
        }
      ]
    },
    {
      "cell_type": "code",
      "metadata": {
        "colab": {
          "base_uri": "https://localhost:8080/",
          "height": 419
        },
        "id": "fA2IZv0EKVt_",
        "outputId": "4e22c1ce-0e86-4709-a355-7fd47f47ace5"
      },
      "source": [
        "# from: https://coderzcolumn.com/tutorials/machine-learning/treeinterpreter-interpreting-tree-based-models-prediction-of-individual-sample\n",
        "contrib_df = create_contrbutions_df(contributions, random_sample, feature_names_test)\n",
        "contrib_df\n"
      ],
      "execution_count": null,
      "outputs": [
        {
          "output_type": "execute_result",
          "data": {
            "text/html": [
              "<div>\n",
              "<style scoped>\n",
              "    .dataframe tbody tr th:only-of-type {\n",
              "        vertical-align: middle;\n",
              "    }\n",
              "\n",
              "    .dataframe tbody tr th {\n",
              "        vertical-align: top;\n",
              "    }\n",
              "\n",
              "    .dataframe thead th {\n",
              "        text-align: right;\n",
              "    }\n",
              "</style>\n",
              "<table border=\"1\" class=\"dataframe\">\n",
              "  <thead>\n",
              "    <tr style=\"text-align: right;\">\n",
              "      <th></th>\n",
              "      <th>Contributions_0</th>\n",
              "      <th>Contributions_1</th>\n",
              "    </tr>\n",
              "  </thead>\n",
              "  <tbody>\n",
              "    <tr>\n",
              "      <th>Base</th>\n",
              "      <td>5.045256e-01</td>\n",
              "      <td>4.954744e-01</td>\n",
              "    </tr>\n",
              "    <tr>\n",
              "      <th>[CLS]</th>\n",
              "      <td>0.000000e+00</td>\n",
              "      <td>0.000000e+00</td>\n",
              "    </tr>\n",
              "    <tr>\n",
              "      <th>[SEP]</th>\n",
              "      <td>0.000000e+00</td>\n",
              "      <td>0.000000e+00</td>\n",
              "    </tr>\n",
              "    <tr>\n",
              "      <th>a</th>\n",
              "      <td>1.666848e-07</td>\n",
              "      <td>-1.666848e-07</td>\n",
              "    </tr>\n",
              "    <tr>\n",
              "      <th>d</th>\n",
              "      <td>-1.559995e-04</td>\n",
              "      <td>1.559995e-04</td>\n",
              "    </tr>\n",
              "    <tr>\n",
              "      <th>...</th>\n",
              "      <td>...</td>\n",
              "      <td>...</td>\n",
              "    </tr>\n",
              "    <tr>\n",
              "      <th>int</th>\n",
              "      <td>0.000000e+00</td>\n",
              "      <td>0.000000e+00</td>\n",
              "    </tr>\n",
              "    <tr>\n",
              "      <th>indifferent</th>\n",
              "      <td>0.000000e+00</td>\n",
              "      <td>0.000000e+00</td>\n",
              "    </tr>\n",
              "    <tr>\n",
              "      <th>amplified</th>\n",
              "      <td>0.000000e+00</td>\n",
              "      <td>0.000000e+00</td>\n",
              "    </tr>\n",
              "    <tr>\n",
              "      <th>vowed</th>\n",
              "      <td>0.000000e+00</td>\n",
              "      <td>0.000000e+00</td>\n",
              "    </tr>\n",
              "    <tr>\n",
              "      <th>Prediction</th>\n",
              "      <td>3.591137e-01</td>\n",
              "      <td>6.408863e-01</td>\n",
              "    </tr>\n",
              "  </tbody>\n",
              "</table>\n",
              "<p>5582 rows × 2 columns</p>\n",
              "</div>"
            ],
            "text/plain": [
              "             Contributions_0  Contributions_1\n",
              "Base            5.045256e-01     4.954744e-01\n",
              "[CLS]           0.000000e+00     0.000000e+00\n",
              "[SEP]           0.000000e+00     0.000000e+00\n",
              "a               1.666848e-07    -1.666848e-07\n",
              "d              -1.559995e-04     1.559995e-04\n",
              "...                      ...              ...\n",
              "int             0.000000e+00     0.000000e+00\n",
              "indifferent     0.000000e+00     0.000000e+00\n",
              "amplified       0.000000e+00     0.000000e+00\n",
              "vowed           0.000000e+00     0.000000e+00\n",
              "Prediction      3.591137e-01     6.408863e-01\n",
              "\n",
              "[5582 rows x 2 columns]"
            ]
          },
          "metadata": {
            "tags": []
          },
          "execution_count": 45
        }
      ]
    },
    {
      "cell_type": "code",
      "metadata": {
        "colab": {
          "base_uri": "https://localhost:8080/",
          "height": 669
        },
        "id": "ROPcatzOY1Xr",
        "outputId": "82932c09-7f5c-46bf-fe5a-4c8f12b4b31e"
      },
      "source": [
        "contrib_df.sort_values(by=['Contributions_0'], ascending=False)[:20]"
      ],
      "execution_count": null,
      "outputs": [
        {
          "output_type": "execute_result",
          "data": {
            "text/html": [
              "<div>\n",
              "<style scoped>\n",
              "    .dataframe tbody tr th:only-of-type {\n",
              "        vertical-align: middle;\n",
              "    }\n",
              "\n",
              "    .dataframe tbody tr th {\n",
              "        vertical-align: top;\n",
              "    }\n",
              "\n",
              "    .dataframe thead th {\n",
              "        text-align: right;\n",
              "    }\n",
              "</style>\n",
              "<table border=\"1\" class=\"dataframe\">\n",
              "  <thead>\n",
              "    <tr style=\"text-align: right;\">\n",
              "      <th></th>\n",
              "      <th>Contributions_0</th>\n",
              "      <th>Contributions_1</th>\n",
              "    </tr>\n",
              "  </thead>\n",
              "  <tbody>\n",
              "    <tr>\n",
              "      <th>Base</th>\n",
              "      <td>0.504526</td>\n",
              "      <td>0.495474</td>\n",
              "    </tr>\n",
              "    <tr>\n",
              "      <th>Prediction</th>\n",
              "      <td>0.359114</td>\n",
              "      <td>0.640886</td>\n",
              "    </tr>\n",
              "    <tr>\n",
              "      <th>got</th>\n",
              "      <td>0.014659</td>\n",
              "      <td>-0.014659</td>\n",
              "    </tr>\n",
              "    <tr>\n",
              "      <th>great</th>\n",
              "      <td>0.014593</td>\n",
              "      <td>-0.014593</td>\n",
              "    </tr>\n",
              "    <tr>\n",
              "      <th>under</th>\n",
              "      <td>0.011655</td>\n",
              "      <td>-0.011655</td>\n",
              "    </tr>\n",
              "    <tr>\n",
              "      <th>how</th>\n",
              "      <td>0.011444</td>\n",
              "      <td>-0.011444</td>\n",
              "    </tr>\n",
              "    <tr>\n",
              "      <th>things</th>\n",
              "      <td>0.009973</td>\n",
              "      <td>-0.009973</td>\n",
              "    </tr>\n",
              "    <tr>\n",
              "      <th>only</th>\n",
              "      <td>0.007946</td>\n",
              "      <td>-0.007946</td>\n",
              "    </tr>\n",
              "    <tr>\n",
              "      <th>##s</th>\n",
              "      <td>0.006563</td>\n",
              "      <td>-0.006563</td>\n",
              "    </tr>\n",
              "    <tr>\n",
              "      <th>##co</th>\n",
              "      <td>0.005638</td>\n",
              "      <td>-0.005638</td>\n",
              "    </tr>\n",
              "    <tr>\n",
              "      <th>delicious</th>\n",
              "      <td>0.004660</td>\n",
              "      <td>-0.004660</td>\n",
              "    </tr>\n",
              "    <tr>\n",
              "      <th>that</th>\n",
              "      <td>0.004387</td>\n",
              "      <td>-0.004387</td>\n",
              "    </tr>\n",
              "    <tr>\n",
              "      <th>bartender</th>\n",
              "      <td>0.003609</td>\n",
              "      <td>-0.003609</td>\n",
              "    </tr>\n",
              "    <tr>\n",
              "      <th>or</th>\n",
              "      <td>0.003034</td>\n",
              "      <td>-0.003034</td>\n",
              "    </tr>\n",
              "    <tr>\n",
              "      <th>they</th>\n",
              "      <td>0.002994</td>\n",
              "      <td>-0.002994</td>\n",
              "    </tr>\n",
              "    <tr>\n",
              "      <th>staff</th>\n",
              "      <td>0.002942</td>\n",
              "      <td>-0.002942</td>\n",
              "    </tr>\n",
              "    <tr>\n",
              "      <th>love</th>\n",
              "      <td>0.002685</td>\n",
              "      <td>-0.002685</td>\n",
              "    </tr>\n",
              "    <tr>\n",
              "      <th>recommend</th>\n",
              "      <td>0.002378</td>\n",
              "      <td>-0.002378</td>\n",
              "    </tr>\n",
              "    <tr>\n",
              "      <th>excellent</th>\n",
              "      <td>0.002373</td>\n",
              "      <td>-0.002373</td>\n",
              "    </tr>\n",
              "    <tr>\n",
              "      <th>best</th>\n",
              "      <td>0.002313</td>\n",
              "      <td>-0.002313</td>\n",
              "    </tr>\n",
              "  </tbody>\n",
              "</table>\n",
              "</div>"
            ],
            "text/plain": [
              "            Contributions_0  Contributions_1\n",
              "Base               0.504526         0.495474\n",
              "Prediction         0.359114         0.640886\n",
              "got                0.014659        -0.014659\n",
              "great              0.014593        -0.014593\n",
              "under              0.011655        -0.011655\n",
              "how                0.011444        -0.011444\n",
              "things             0.009973        -0.009973\n",
              "only               0.007946        -0.007946\n",
              "##s                0.006563        -0.006563\n",
              "##co               0.005638        -0.005638\n",
              "delicious          0.004660        -0.004660\n",
              "that               0.004387        -0.004387\n",
              "bartender          0.003609        -0.003609\n",
              "or                 0.003034        -0.003034\n",
              "they               0.002994        -0.002994\n",
              "staff              0.002942        -0.002942\n",
              "love               0.002685        -0.002685\n",
              "recommend          0.002378        -0.002378\n",
              "excellent          0.002373        -0.002373\n",
              "best               0.002313        -0.002313"
            ]
          },
          "metadata": {
            "tags": []
          },
          "execution_count": 46
        }
      ]
    },
    {
      "cell_type": "code",
      "metadata": {
        "colab": {
          "base_uri": "https://localhost:8080/",
          "height": 120
        },
        "id": "VG1Ua651yBGH",
        "outputId": "90faba7a-78db-4db5-805b-5339f772ac03"
      },
      "source": [
        "test_df.text[73]"
      ],
      "execution_count": null,
      "outputs": [
        {
          "output_type": "execute_result",
          "data": {
            "application/vnd.google.colaboratory.intrinsic+json": {
              "type": "string"
            },
            "text/plain": [
              "'i walked out after being ignored a friend of mine said the place was good but he is indian apparently a single white female doesn t rate to even get a glass of water when i was seated the host informed me it was a vegetarian restaurant ohkay i said fine with me and i smiled he turned on his heel as if it was a huge imposition to seat me i looked over the menu and waited for quite some time i closed the menu thinking that might bring the waiter i was disappointed i walked out and went to passage to india where i enjoyed their weekend buffet if you are a large group you might get some service i have no ideal how the food is but if you want to eat someone does have to serve you first i recommend going to any of the other dozen indian restaurants in the area instead '"
            ]
          },
          "metadata": {
            "tags": []
          },
          "execution_count": 65
        }
      ]
    },
    {
      "cell_type": "code",
      "metadata": {
        "colab": {
          "base_uri": "https://localhost:8080/"
        },
        "id": "6NCMtFEFyE6T",
        "outputId": "01fd9e26-ceb0-496a-deb8-8ead386538d3"
      },
      "source": [
        "test_df.label[73]"
      ],
      "execution_count": null,
      "outputs": [
        {
          "output_type": "execute_result",
          "data": {
            "text/plain": [
              "0"
            ]
          },
          "metadata": {
            "tags": []
          },
          "execution_count": 66
        }
      ]
    },
    {
      "cell_type": "code",
      "metadata": {
        "id": "_iiCZbEVyHDB"
      },
      "source": [
        "test_df.summa"
      ],
      "execution_count": null,
      "outputs": []
    }
  ]
}