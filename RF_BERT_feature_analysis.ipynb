{
  "nbformat": 4,
  "nbformat_minor": 0,
  "metadata": {
    "colab": {
      "name": "RF-BERT_feature_analysis.ipynb",
      "provenance": [],
      "collapsed_sections": [
        "4lAJ1WldAJai",
        "LfF9cG_d7arq",
        "DSCNZzJGBl12",
        "4DUgnKNBPz5w",
        "u-u-ptNWVvX0",
        "dUVI_eAFERHE"
      ],
      "authorship_tag": "ABX9TyPJVYHMZMH+EwLTzKkx7r4o",
      "include_colab_link": true
    },
    "kernelspec": {
      "name": "python3",
      "display_name": "Python 3"
    }
  },
  "cells": [
    {
      "cell_type": "markdown",
      "metadata": {
        "id": "view-in-github",
        "colab_type": "text"
      },
      "source": [
        "<a href=\"https://colab.research.google.com/github/lupis30puc/yelp_bert_random_forest/blob/update-8/RF_BERT_feature_analysis.ipynb\" target=\"_parent\"><img src=\"https://colab.research.google.com/assets/colab-badge.svg\" alt=\"Open In Colab\"/></a>"
      ]
    },
    {
      "cell_type": "markdown",
      "metadata": {
        "id": "Qx--WzAEAMvz"
      },
      "source": [
        "## Set Up"
      ]
    },
    {
      "cell_type": "code",
      "metadata": {
        "colab": {
          "base_uri": "https://localhost:8080/"
        },
        "id": "JCJWrrRX_S_q",
        "outputId": "341ea68c-2918-4584-ec0b-914d776bc644"
      },
      "source": [
        "!pip install treeinterpreter\n",
        "#https://pypi.org/project/treeinterpreter/"
      ],
      "execution_count": null,
      "outputs": [
        {
          "output_type": "stream",
          "text": [
            "Collecting treeinterpreter\n",
            "  Downloading https://files.pythonhosted.org/packages/af/19/fa8556093f6b8c7374825118e05cf5a99c71262392382c3642ab1fd8a742/treeinterpreter-0.2.3-py2.py3-none-any.whl\n",
            "Installing collected packages: treeinterpreter\n",
            "Successfully installed treeinterpreter-0.2.3\n"
          ],
          "name": "stdout"
        }
      ]
    },
    {
      "cell_type": "code",
      "metadata": {
        "colab": {
          "base_uri": "https://localhost:8080/"
        },
        "id": "fBzNWopSAeap",
        "outputId": "523c2ab1-2a95-4e00-ed7f-08d91e2641d4"
      },
      "source": [
        "!pip install transformers"
      ],
      "execution_count": null,
      "outputs": [
        {
          "output_type": "stream",
          "text": [
            "Collecting transformers\n",
            "\u001b[?25l  Downloading https://files.pythonhosted.org/packages/88/b1/41130a228dd656a1a31ba281598a968320283f48d42782845f6ba567f00b/transformers-4.2.2-py3-none-any.whl (1.8MB)\n",
            "\u001b[K     |████████████████████████████████| 1.8MB 5.9MB/s \n",
            "\u001b[?25hRequirement already satisfied: requests in /usr/local/lib/python3.6/dist-packages (from transformers) (2.23.0)\n",
            "Requirement already satisfied: tqdm>=4.27 in /usr/local/lib/python3.6/dist-packages (from transformers) (4.41.1)\n",
            "Requirement already satisfied: importlib-metadata; python_version < \"3.8\" in /usr/local/lib/python3.6/dist-packages (from transformers) (3.4.0)\n",
            "Requirement already satisfied: regex!=2019.12.17 in /usr/local/lib/python3.6/dist-packages (from transformers) (2019.12.20)\n",
            "Requirement already satisfied: numpy in /usr/local/lib/python3.6/dist-packages (from transformers) (1.19.5)\n",
            "Requirement already satisfied: filelock in /usr/local/lib/python3.6/dist-packages (from transformers) (3.0.12)\n",
            "Requirement already satisfied: packaging in /usr/local/lib/python3.6/dist-packages (from transformers) (20.9)\n",
            "Collecting tokenizers==0.9.4\n",
            "\u001b[?25l  Downloading https://files.pythonhosted.org/packages/0f/1c/e789a8b12e28be5bc1ce2156cf87cb522b379be9cadc7ad8091a4cc107c4/tokenizers-0.9.4-cp36-cp36m-manylinux2010_x86_64.whl (2.9MB)\n",
            "\u001b[K     |████████████████████████████████| 2.9MB 39.7MB/s \n",
            "\u001b[?25hRequirement already satisfied: dataclasses; python_version < \"3.7\" in /usr/local/lib/python3.6/dist-packages (from transformers) (0.8)\n",
            "Collecting sacremoses\n",
            "\u001b[?25l  Downloading https://files.pythonhosted.org/packages/7d/34/09d19aff26edcc8eb2a01bed8e98f13a1537005d31e95233fd48216eed10/sacremoses-0.0.43.tar.gz (883kB)\n",
            "\u001b[K     |████████████████████████████████| 890kB 42.1MB/s \n",
            "\u001b[?25hRequirement already satisfied: idna<3,>=2.5 in /usr/local/lib/python3.6/dist-packages (from requests->transformers) (2.10)\n",
            "Requirement already satisfied: urllib3!=1.25.0,!=1.25.1,<1.26,>=1.21.1 in /usr/local/lib/python3.6/dist-packages (from requests->transformers) (1.24.3)\n",
            "Requirement already satisfied: chardet<4,>=3.0.2 in /usr/local/lib/python3.6/dist-packages (from requests->transformers) (3.0.4)\n",
            "Requirement already satisfied: certifi>=2017.4.17 in /usr/local/lib/python3.6/dist-packages (from requests->transformers) (2020.12.5)\n",
            "Requirement already satisfied: zipp>=0.5 in /usr/local/lib/python3.6/dist-packages (from importlib-metadata; python_version < \"3.8\"->transformers) (3.4.0)\n",
            "Requirement already satisfied: typing-extensions>=3.6.4; python_version < \"3.8\" in /usr/local/lib/python3.6/dist-packages (from importlib-metadata; python_version < \"3.8\"->transformers) (3.7.4.3)\n",
            "Requirement already satisfied: pyparsing>=2.0.2 in /usr/local/lib/python3.6/dist-packages (from packaging->transformers) (2.4.7)\n",
            "Requirement already satisfied: six in /usr/local/lib/python3.6/dist-packages (from sacremoses->transformers) (1.15.0)\n",
            "Requirement already satisfied: click in /usr/local/lib/python3.6/dist-packages (from sacremoses->transformers) (7.1.2)\n",
            "Requirement already satisfied: joblib in /usr/local/lib/python3.6/dist-packages (from sacremoses->transformers) (1.0.0)\n",
            "Building wheels for collected packages: sacremoses\n",
            "  Building wheel for sacremoses (setup.py) ... \u001b[?25l\u001b[?25hdone\n",
            "  Created wheel for sacremoses: filename=sacremoses-0.0.43-cp36-none-any.whl size=893261 sha256=f98a5f7b02f908382fc2dc3b074c2d2964ca5b23e765f379846affc859d144d7\n",
            "  Stored in directory: /root/.cache/pip/wheels/29/3c/fd/7ce5c3f0666dab31a50123635e6fb5e19ceb42ce38d4e58f45\n",
            "Successfully built sacremoses\n",
            "Installing collected packages: tokenizers, sacremoses, transformers\n",
            "Successfully installed sacremoses-0.0.43 tokenizers-0.9.4 transformers-4.2.2\n"
          ],
          "name": "stdout"
        }
      ]
    },
    {
      "cell_type": "code",
      "metadata": {
        "colab": {
          "base_uri": "https://localhost:8080/"
        },
        "id": "3d5Y_yn7_owl",
        "outputId": "c3a0bb13-fbbb-47bd-89e4-cf0cd0339e63"
      },
      "source": [
        "from google.colab import drive\r\n",
        "drive.mount('/content/drive')"
      ],
      "execution_count": null,
      "outputs": [
        {
          "output_type": "stream",
          "text": [
            "Mounted at /content/drive\n"
          ],
          "name": "stdout"
        }
      ]
    },
    {
      "cell_type": "code",
      "metadata": {
        "id": "7Olhw4Uf_qSt"
      },
      "source": [
        "import pandas as pd\r\n",
        "import numpy as np\r\n",
        "import matplotlib.pyplot as plt\r\n",
        "import seaborn as sns\r\n",
        "%matplotlib inline\r\n",
        "import string\r\n",
        "import math\r\n",
        "\r\n",
        "from sklearn.model_selection import train_test_split, cross_val_score, GridSearchCV\r\n",
        "from sklearn.metrics import classification_report\r\n",
        "from sklearn.metrics import confusion_matrix, accuracy_score, roc_auc_score, roc_curve\r\n",
        "from sklearn.ensemble import RandomForestClassifier\r\n",
        "\r\n",
        "import time\r\n",
        "import pickle\r\n",
        "from treeinterpreter import treeinterpreter as ti\r\n",
        "import joblib\r\n",
        "from transformers import BertTokenizer\r\n",
        "import torch"
      ],
      "execution_count": null,
      "outputs": []
    },
    {
      "cell_type": "code",
      "metadata": {
        "id": "FpYcbbcNLxBO"
      },
      "source": [
        "# function so that the graphs look good \n",
        "def set_plotting_style():\n",
        "  tw = 1.5\n",
        "  rc = {'lines.linewidth': 2,\n",
        "              'axes.labelsize': 18,\n",
        "              'axes.titlesize': 21,\n",
        "              'xtick.major' : 16,\n",
        "              'ytick.major' : 16,\n",
        "              'xtick.major.width': tw,\n",
        "              'xtick.minor.width': tw,\n",
        "              'ytick.major.width': tw,\n",
        "              'ytick.minor.width': tw,\n",
        "              'xtick.labelsize': 'large',\n",
        "              'ytick.labelsize': 'large',\n",
        "              'font.family': 'sans',\n",
        "              'weight':'bold',\n",
        "              'grid.linestyle': ':',\n",
        "              'grid.linewidth': 1.5,\n",
        "              'grid.color': '#ffffff',\n",
        "              'mathtext.fontset': 'stixsans',\n",
        "              'mathtext.sf': 'fantasy',\n",
        "              'legend.frameon': True,\n",
        "              'legend.fontsize': 12, \n",
        "            \"xtick.direction\": \"in\",\"ytick.direction\": \"in\"}\n",
        "\n",
        "  plt.rc('text.latex', preamble=r'\\usepackage{sfmath}')\n",
        "  plt.rc('mathtext', fontset='stixsans', sf='sans')\n",
        "  sns.set_style('ticks', rc=rc)\n",
        "  sns.set_context('notebook', rc=rc)\n"
      ],
      "execution_count": null,
      "outputs": []
    },
    {
      "cell_type": "markdown",
      "metadata": {
        "id": "4lAJ1WldAJai"
      },
      "source": [
        "## Initializing the RF model and the x and y values"
      ]
    },
    {
      "cell_type": "code",
      "metadata": {
        "id": "XCIbuODX_dTe"
      },
      "source": [
        "# load, no need to initialize the loaded_rf\r\n",
        "rf_grid = joblib.load(\"/content/drive/MyDrive/Yelp/model_128_/rf_grid_not_1000.joblib\")"
      ],
      "execution_count": null,
      "outputs": []
    },
    {
      "cell_type": "code",
      "metadata": {
        "colab": {
          "base_uri": "https://localhost:8080/"
        },
        "id": "4JA0jvbYhhaI",
        "outputId": "759fc5e6-debb-4b53-e988-11d3697a0a82"
      },
      "source": [
        "rf_grid.best_params_  # Parameter setting that gave the best results on the hold out data.\n",
        "rf = rf_grid.best_estimator_ \n",
        "print(rf_grid.best_params_)"
      ],
      "execution_count": null,
      "outputs": [
        {
          "output_type": "stream",
          "text": [
            "{'min_samples_leaf': 2, 'n_estimators': 400}\n"
          ],
          "name": "stdout"
        }
      ]
    },
    {
      "cell_type": "code",
      "metadata": {
        "id": "LJXHvtRlAJ_S"
      },
      "source": [
        "x_train = pd.read_pickle('/content/drive/MyDrive/Yelp/model_128_/binary_train_rf_feb_02')\r\n",
        "x_test = pd.read_pickle('/content/drive/MyDrive/Yelp/model_128_/binary_test_rf_feb_02')"
      ],
      "execution_count": null,
      "outputs": []
    },
    {
      "cell_type": "code",
      "metadata": {
        "id": "7lE3CO56APFx"
      },
      "source": [
        "y_train = torch.load('/content/drive/MyDrive/Yelp/model_128_/pred_labels_train')\r\n",
        "y_test = torch.load('/content/drive/MyDrive/Yelp/model_128_/pred_labels_test')"
      ],
      "execution_count": null,
      "outputs": []
    },
    {
      "cell_type": "markdown",
      "metadata": {
        "id": "LfF9cG_d7arq"
      },
      "source": [
        "## Initializing BERT tokenizers and reviews **text**, features and ids"
      ]
    },
    {
      "cell_type": "code",
      "metadata": {
        "id": "mKEi4xc77eX9"
      },
      "source": [
        "# NO NEED FOR THE DATASET OR YES?\n",
        "train_df = pd.read_pickle('/content/drive/MyDrive/Yelp/sample_train_10394.pkl')\n",
        "test_df = pd.read_pickle('/content/drive/MyDrive/Yelp/sample_test_2599.pkl')\n",
        "\n",
        "train_df.reset_index(drop=True, inplace=True)\n",
        "test_df.reset_index(drop=True, inplace=True)\n",
        "#train_df.head()"
      ],
      "execution_count": null,
      "outputs": []
    },
    {
      "cell_type": "code",
      "metadata": {
        "id": "IOJ3paybLo1U"
      },
      "source": [
        "with open('/content/drive/MyDrive/Yelp/model_128_/train_ids_128.pkl', 'rb') as f:\n",
        "    train_ids = pickle.load(f)\n",
        "\n",
        "with open('/content/drive/MyDrive/Yelp/model_128_/test_ids_128.pkl', 'rb') as d:\n",
        "    test_ids = pickle.load(d)"
      ],
      "execution_count": null,
      "outputs": []
    },
    {
      "cell_type": "code",
      "metadata": {
        "id": "AA0a1jM37huT"
      },
      "source": [
        "# launching the saved model tokenizer\n",
        "tokenizer = BertTokenizer.from_pretrained('/content/drive/MyDrive/Yelp/model_128_/tokenizer_128/')"
      ],
      "execution_count": null,
      "outputs": []
    },
    {
      "cell_type": "code",
      "metadata": {
        "id": "mf1B9UpC9beu"
      },
      "source": [
        "with open('/content/drive/MyDrive/Yelp/model_128_/feature_names_feb_03.pkl', 'rb') as f:\n",
        "  feature_names = pickle.load(f)"
      ],
      "execution_count": null,
      "outputs": []
    },
    {
      "cell_type": "code",
      "metadata": {
        "id": "gvVdKlPREyvo"
      },
      "source": [
        "with open('/content/drive/MyDrive/Yelp/model_128_/unique_ids_feb_03.pkl', 'rb') as f:\n",
        "  unique_ids = pickle.load(f)"
      ],
      "execution_count": null,
      "outputs": []
    },
    {
      "cell_type": "code",
      "metadata": {
        "colab": {
          "base_uri": "https://localhost:8080/"
        },
        "id": "uH0heNLR1x4c",
        "outputId": "d8003d64-1df5-4b27-bdae-eb4a928cd2f2"
      },
      "source": [
        "print(len(unique_ids), len(feature_names))"
      ],
      "execution_count": null,
      "outputs": [
        {
          "output_type": "stream",
          "text": [
            "16563 16563\n"
          ],
          "name": "stdout"
        }
      ]
    },
    {
      "cell_type": "markdown",
      "metadata": {
        "id": "DSCNZzJGBl12"
      },
      "source": [
        "## Feature importances and contributions"
      ]
    },
    {
      "cell_type": "code",
      "metadata": {
        "id": "_a4L0aWF1Sp0"
      },
      "source": [
        "importance_rf = rf.feature_importances_"
      ],
      "execution_count": null,
      "outputs": []
    },
    {
      "cell_type": "code",
      "metadata": {
        "id": "kI0QZ6FUEunR"
      },
      "source": [
        "feature_importance = pd.DataFrame({'ids': unique_ids, 'words': feature_names, 'imp': importance_rf})"
      ],
      "execution_count": null,
      "outputs": []
    },
    {
      "cell_type": "code",
      "metadata": {
        "id": "7LptzWTLRfdu"
      },
      "source": [
        "# sorting the df by importance and reseting the index\n",
        "# feature_importance[['words', 'imp']].sort_values(by=['imp'], ascending=False)[:15]\n",
        "feature_importance = feature_importance.sort_values(by=['imp'], ascending=False)\n",
        "feature_importance.reset_index(drop = True, inplace = True)"
      ],
      "execution_count": null,
      "outputs": []
    },
    {
      "cell_type": "code",
      "metadata": {
        "id": "4vxqkaIdJlHN",
        "colab": {
          "base_uri": "https://localhost:8080/",
          "height": 514
        },
        "outputId": "44a97117-6200-4ee9-e7c1-e6b35e9c9906"
      },
      "source": [
        "# top 15 words\n",
        "feature_importance[:15] #words with important role "
      ],
      "execution_count": null,
      "outputs": [
        {
          "output_type": "execute_result",
          "data": {
            "text/html": [
              "<div>\n",
              "<style scoped>\n",
              "    .dataframe tbody tr th:only-of-type {\n",
              "        vertical-align: middle;\n",
              "    }\n",
              "\n",
              "    .dataframe tbody tr th {\n",
              "        vertical-align: top;\n",
              "    }\n",
              "\n",
              "    .dataframe thead th {\n",
              "        text-align: right;\n",
              "    }\n",
              "</style>\n",
              "<table border=\"1\" class=\"dataframe\">\n",
              "  <thead>\n",
              "    <tr style=\"text-align: right;\">\n",
              "      <th></th>\n",
              "      <th>ids</th>\n",
              "      <th>words</th>\n",
              "      <th>imp</th>\n",
              "    </tr>\n",
              "  </thead>\n",
              "  <tbody>\n",
              "    <tr>\n",
              "      <th>0</th>\n",
              "      <td>2307</td>\n",
              "      <td>great</td>\n",
              "      <td>0.035311</td>\n",
              "    </tr>\n",
              "    <tr>\n",
              "      <th>1</th>\n",
              "      <td>12090</td>\n",
              "      <td>delicious</td>\n",
              "      <td>0.018375</td>\n",
              "    </tr>\n",
              "    <tr>\n",
              "      <th>2</th>\n",
              "      <td>6429</td>\n",
              "      <td>amazing</td>\n",
              "      <td>0.016065</td>\n",
              "    </tr>\n",
              "    <tr>\n",
              "      <th>3</th>\n",
              "      <td>5409</td>\n",
              "      <td>worst</td>\n",
              "      <td>0.014470</td>\n",
              "    </tr>\n",
              "    <tr>\n",
              "      <th>4</th>\n",
              "      <td>5379</td>\n",
              "      <td>friendly</td>\n",
              "      <td>0.012964</td>\n",
              "    </tr>\n",
              "    <tr>\n",
              "      <th>5</th>\n",
              "      <td>2293</td>\n",
              "      <td>love</td>\n",
              "      <td>0.012546</td>\n",
              "    </tr>\n",
              "    <tr>\n",
              "      <th>6</th>\n",
              "      <td>9202</td>\n",
              "      <td>horrible</td>\n",
              "      <td>0.012401</td>\n",
              "    </tr>\n",
              "    <tr>\n",
              "      <th>7</th>\n",
              "      <td>6659</td>\n",
              "      <td>terrible</td>\n",
              "      <td>0.012306</td>\n",
              "    </tr>\n",
              "    <tr>\n",
              "      <th>8</th>\n",
              "      <td>2356</td>\n",
              "      <td>asked</td>\n",
              "      <td>0.012191</td>\n",
              "    </tr>\n",
              "    <tr>\n",
              "      <th>9</th>\n",
              "      <td>2409</td>\n",
              "      <td>told</td>\n",
              "      <td>0.011806</td>\n",
              "    </tr>\n",
              "    <tr>\n",
              "      <th>10</th>\n",
              "      <td>12726</td>\n",
              "      <td>rude</td>\n",
              "      <td>0.011279</td>\n",
              "    </tr>\n",
              "    <tr>\n",
              "      <th>11</th>\n",
              "      <td>2190</td>\n",
              "      <td>best</td>\n",
              "      <td>0.011134</td>\n",
              "    </tr>\n",
              "    <tr>\n",
              "      <th>12</th>\n",
              "      <td>5791</td>\n",
              "      <td>definitely</td>\n",
              "      <td>0.010732</td>\n",
              "    </tr>\n",
              "    <tr>\n",
              "      <th>13</th>\n",
              "      <td>2056</td>\n",
              "      <td>said</td>\n",
              "      <td>0.010580</td>\n",
              "    </tr>\n",
              "    <tr>\n",
              "      <th>14</th>\n",
              "      <td>6581</td>\n",
              "      <td>excellent</td>\n",
              "      <td>0.009408</td>\n",
              "    </tr>\n",
              "  </tbody>\n",
              "</table>\n",
              "</div>"
            ],
            "text/plain": [
              "      ids       words       imp\n",
              "0    2307       great  0.035311\n",
              "1   12090   delicious  0.018375\n",
              "2    6429     amazing  0.016065\n",
              "3    5409       worst  0.014470\n",
              "4    5379    friendly  0.012964\n",
              "5    2293        love  0.012546\n",
              "6    9202    horrible  0.012401\n",
              "7    6659    terrible  0.012306\n",
              "8    2356       asked  0.012191\n",
              "9    2409        told  0.011806\n",
              "10  12726        rude  0.011279\n",
              "11   2190        best  0.011134\n",
              "12   5791  definitely  0.010732\n",
              "13   2056        said  0.010580\n",
              "14   6581   excellent  0.009408"
            ]
          },
          "metadata": {
            "tags": []
          },
          "execution_count": 18
        }
      ]
    },
    {
      "cell_type": "code",
      "metadata": {
        "colab": {
          "base_uri": "https://localhost:8080/"
        },
        "id": "zMk8ubcjxqo3",
        "outputId": "bd53d0aa-cd16-4aac-c693-62d989688ca5"
      },
      "source": [
        "%%time\n",
        "#preds_400, bias_400, contributions_400 = ti.predict(random_f2, x_test)\n",
        "    # takes around 20min to calculate, that's why it is saved!\n",
        "# loading the preds and contributions\n",
        "with open('/content/drive/MyDrive/Yelp/random_forest/contributions_1000.pkl', 'rb') as f:\n",
        "  contribs_ts = pickle.load(f)\n",
        "\n",
        "with open('/content/drive/MyDrive/Yelp/random_forest/pred_1000.pkl', 'rb') as f:\n",
        "  preds_ts = pickle.load(f)"
      ],
      "execution_count": null,
      "outputs": [
        {
          "output_type": "stream",
          "text": [
            "CPU times: user 132 ms, sys: 1.29 s, total: 1.42 s\n",
            "Wall time: 10 s\n"
          ],
          "name": "stdout"
        }
      ]
    },
    {
      "cell_type": "code",
      "metadata": {
        "colab": {
          "base_uri": "https://localhost:8080/"
        },
        "id": "nM01OlVw_azG",
        "outputId": "8b5382f7-1acc-4ae8-86fc-98eee5cedb14"
      },
      "source": [
        "# number of reviews, and label array | number of reviews, number of features, array for each feature in each review\n",
        "print(preds_ts.shape, contributions_ts.shape)"
      ],
      "execution_count": null,
      "outputs": [
        {
          "output_type": "stream",
          "text": [
            "(2599, 2) (2599, 16563, 2)\n"
          ],
          "name": "stdout"
        }
      ]
    },
    {
      "cell_type": "markdown",
      "metadata": {
        "id": "xbLW4xYvKL-_"
      },
      "source": [
        "## Creating a df of each category for the test set"
      ]
    },
    {
      "cell_type": "code",
      "metadata": {
        "colab": {
          "base_uri": "https://localhost:8080/",
          "height": 204
        },
        "id": "iSBiPiAwKViY",
        "outputId": "71675d1d-772a-49fd-b783-5c41f891079a"
      },
      "source": [
        "test_df.head()"
      ],
      "execution_count": null,
      "outputs": [
        {
          "output_type": "execute_result",
          "data": {
            "text/html": [
              "<div>\n",
              "<style scoped>\n",
              "    .dataframe tbody tr th:only-of-type {\n",
              "        vertical-align: middle;\n",
              "    }\n",
              "\n",
              "    .dataframe tbody tr th {\n",
              "        vertical-align: top;\n",
              "    }\n",
              "\n",
              "    .dataframe thead th {\n",
              "        text-align: right;\n",
              "    }\n",
              "</style>\n",
              "<table border=\"1\" class=\"dataframe\">\n",
              "  <thead>\n",
              "    <tr style=\"text-align: right;\">\n",
              "      <th></th>\n",
              "      <th>text</th>\n",
              "      <th>label</th>\n",
              "      <th>clean_text</th>\n",
              "      <th>category</th>\n",
              "      <th>length</th>\n",
              "    </tr>\n",
              "  </thead>\n",
              "  <tbody>\n",
              "    <tr>\n",
              "      <th>0</th>\n",
              "      <td>Positives: \\n- good location \\n- staff reasona...</td>\n",
              "      <td>0</td>\n",
              "      <td>positives good location staff reasonably frien...</td>\n",
              "      <td>Shopping and Beauty Industry</td>\n",
              "      <td>66</td>\n",
              "    </tr>\n",
              "    <tr>\n",
              "      <th>1</th>\n",
              "      <td>Very clean hotel.jacuzzi is very huge,shower a...</td>\n",
              "      <td>0</td>\n",
              "      <td>clean hotel jacuzzi huge shower bathroom huge ...</td>\n",
              "      <td>Hotel Industry</td>\n",
              "      <td>50</td>\n",
              "    </tr>\n",
              "    <tr>\n",
              "      <th>2</th>\n",
              "      <td>I walked in with my uncle one saturday to help...</td>\n",
              "      <td>1</td>\n",
              "      <td>walked uncle saturday help cpap machine met re...</td>\n",
              "      <td>Other Industries</td>\n",
              "      <td>38</td>\n",
              "    </tr>\n",
              "    <tr>\n",
              "      <th>3</th>\n",
              "      <td>We ordered two Chai lattes $8.00...one was luk...</td>\n",
              "      <td>0</td>\n",
              "      <td>ordered chai lattes lukewarm best cold</td>\n",
              "      <td>Restaurant Industry</td>\n",
              "      <td>6</td>\n",
              "    </tr>\n",
              "    <tr>\n",
              "      <th>4</th>\n",
              "      <td>My wife and I didn't feel welcome at all.  The...</td>\n",
              "      <td>0</td>\n",
              "      <td>wife feel welcome director assistant director ...</td>\n",
              "      <td>Other Industries</td>\n",
              "      <td>103</td>\n",
              "    </tr>\n",
              "  </tbody>\n",
              "</table>\n",
              "</div>"
            ],
            "text/plain": [
              "                                                text  ...  length\n",
              "0  Positives: \\n- good location \\n- staff reasona...  ...      66\n",
              "1  Very clean hotel.jacuzzi is very huge,shower a...  ...      50\n",
              "2  I walked in with my uncle one saturday to help...  ...      38\n",
              "3  We ordered two Chai lattes $8.00...one was luk...  ...       6\n",
              "4  My wife and I didn't feel welcome at all.  The...  ...     103\n",
              "\n",
              "[5 rows x 5 columns]"
            ]
          },
          "metadata": {
            "tags": []
          },
          "execution_count": 21
        }
      ]
    },
    {
      "cell_type": "code",
      "metadata": {
        "colab": {
          "base_uri": "https://localhost:8080/"
        },
        "id": "nIix93zCK9tW",
        "outputId": "a23b7c2b-5923-44a0-c340-b65cdf57d7ad"
      },
      "source": [
        "test_df['category'].value_counts().apply(lambda c: round(c / len(test_df) *100), print('Percentages:'))"
      ],
      "execution_count": null,
      "outputs": [
        {
          "output_type": "stream",
          "text": [
            "Percentages:\n"
          ],
          "name": "stdout"
        },
        {
          "output_type": "execute_result",
          "data": {
            "text/plain": [
              "Restaurant Industry             70\n",
              "Shopping and Beauty Industry    11\n",
              "Other Industries                10\n",
              "Hotel Industry                   6\n",
              "Events and Arts Industry         3\n",
              "Name: category, dtype: object"
            ]
          },
          "metadata": {
            "tags": []
          },
          "execution_count": 22
        }
      ]
    },
    {
      "cell_type": "code",
      "metadata": {
        "colab": {
          "base_uri": "https://localhost:8080/",
          "height": 335
        },
        "id": "CKtxETkcL_iR",
        "outputId": "677f6729-ad8e-49d1-8e1f-2f5d68d8f278"
      },
      "source": [
        "set_plotting_style()\n",
        "sns.countplot(y='category', hue='label', data=test_df)\n",
        "plt.xticks(rotation=90)\n",
        "# 0 is 'negative', 1 is 'positive'"
      ],
      "execution_count": null,
      "outputs": [
        {
          "output_type": "execute_result",
          "data": {
            "text/plain": [
              "(array([   0.,  200.,  400.,  600.,  800., 1000.]),\n",
              " <a list of 6 Text major ticklabel objects>)"
            ]
          },
          "metadata": {
            "tags": []
          },
          "execution_count": 23
        },
        {
          "output_type": "display_data",
          "data": {
            "image/png": "[encoded data removed]",
            "text/plain": [
              "<Figure size 432x288 with 1 Axes>"
            ]
          },
          "metadata": {
            "tags": []
          }
        }
      ]
    },
    {
      "cell_type": "code",
      "metadata": {
        "colab": {
          "base_uri": "https://localhost:8080/",
          "height": 891
        },
        "id": "d1-4kXJYLqij",
        "outputId": "74a9b10c-f208-41d6-a691-fe8349e95851"
      },
      "source": [
        "# observing the length distribution per label and category\n",
        "g = sns.catplot(x=\"length\", y=\"label\", row=\"category\",\n",
        "                 data=test_df,orient=\"h\", height=2.4, aspect=3, palette=\"tab10\", kind=\"box\")"
      ],
      "execution_count": null,
      "outputs": [
        {
          "output_type": "display_data",
          "data": {
            "image/png": "[encoded data removed]",
            "text/plain": [
              "<Figure size 518.4x864 with 5 Axes>"
            ]
          },
          "metadata": {
            "tags": []
          }
        }
      ]
    },
    {
      "cell_type": "code",
      "metadata": {
        "colab": {
          "base_uri": "https://localhost:8080/"
        },
        "id": "fU9YxMshQ_CZ",
        "outputId": "cd81fa99-2e5d-4f98-9db6-092d8baa9171"
      },
      "source": [
        "# determining the categories samples\n",
        "test_res = test_df[test_df['category'] == 'Restaurant Industry'].sample(frac=0.01, random_state=42)\n",
        "test_beau= test_df[test_df['category'] == 'Shopping and Beauty Industry'].sample(frac=0.01, random_state=42)\n",
        "test_other= test_df[test_df['category'] == 'Other Industries'].sample(frac=0.01, random_state=42)\n",
        "test_hotel = test_df[test_df['category'] == 'Hotel Industry'].sample(frac=0.01, random_state=42)\n",
        "test_art = test_df[test_df['category'] == 'Events and Arts Industry'].sample(frac=0.01, random_state=42)\n",
        "print(len(test_res), len(test_beau), len(test_other), len(test_hotel), len(test_art))"
      ],
      "execution_count": null,
      "outputs": [
        {
          "output_type": "stream",
          "text": [
            "18 3 3 2 1\n"
          ],
          "name": "stdout"
        }
      ]
    },
    {
      "cell_type": "code",
      "metadata": {
        "colab": {
          "base_uri": "https://localhost:8080/",
          "height": 1000
        },
        "id": "lR6GlU0HWZVg",
        "outputId": "a53e730a-05d2-4d82-b783-089860a2cc3b"
      },
      "source": [
        "test_samples = [test_res, test_beau, test_other, test_hotel, test_art]\n",
        "for df in test_samples:\n",
        "  plot =sns.displot(data=df, x='length', hue='label', multiple='stack')\n",
        "  plt.title(df.category.max())"
      ],
      "execution_count": null,
      "outputs": [
        {
          "output_type": "display_data",
          "data": {
            "image/png": "[encoded data removed]",
            "text/plain": [
              "<Figure size 410.825x360 with 1 Axes>"
            ]
          },
          "metadata": {
            "tags": []
          }
        },
        {
          "output_type": "display_data",
          "data": {
            "image/png": "[encoded data removed]",
            "text/plain": [
              "<Figure size 410.825x360 with 1 Axes>"
            ]
          },
          "metadata": {
            "tags": []
          }
        },
        {
          "output_type": "display_data",
          "data": {
            "image/png": "[encoded data removed]",
            "text/plain": [
              "<Figure size 410.825x360 with 1 Axes>"
            ]
          },
          "metadata": {
            "tags": []
          }
        },
        {
          "output_type": "display_data",
          "data": {
            "image/png": "[encoded data removed]",
            "text/plain": [
              "<Figure size 410.825x360 with 1 Axes>"
            ]
          },
          "metadata": {
            "tags": []
          }
        },
        {
          "output_type": "display_data",
          "data": {
            "image/png": "[encoded data removed]",
            "text/plain": [
              "<Figure size 410.7x360 with 1 Axes>"
            ]
          },
          "metadata": {
            "tags": []
          }
        }
      ]
    },
    {
      "cell_type": "markdown",
      "metadata": {
        "id": "7AaADCZZ9A4I"
      },
      "source": [
        "## Analyzing with contributions"
      ]
    },
    {
      "cell_type": "markdown",
      "metadata": {
        "id": "4DUgnKNBPz5w"
      },
      "source": [
        "### function for analyzing contributions"
      ]
    },
    {
      "cell_type": "code",
      "metadata": {
        "id": "AAYrJXV-Pfxf"
      },
      "source": [
        "import random\n",
        "def present_sample_review(index, original_df, pred_labels, clean_text=True):\n",
        "  \"\"\"\n",
        "  pred_label is an array\n",
        "  original df has the columns: label and clean_text/ text\n",
        "\n",
        "  \"\"\"\n",
        "  print(\"Selected Sample     : %d\"%index)\n",
        "  print(\"Actual Target Value : %s\"%y_test.label[index])\n",
        "  print(\"Predicted Value     : %s\"%np.argmax(pred_labels[index]))\n",
        "  if clean_text == True:\n",
        "    print(\"\" + \"\\nThe review is: \" + \"\\n\" + original_df.clean_text[index])\n",
        "    print('' + '\\nThe review has a length of ' + str(len(original_df.clean_text[index].strip().split(\" \"))) + ' words.')\n",
        "  else:\n",
        "    print(\"\" + \"\\nThe review is: \" + \"\\n\" + original_df.text[index])\n",
        "    print('' + '\\nThe review has a length of ' + str(len(original_df.text[index].strip().split(\" \"))) + ' words.')\n",
        "\n",
        "#print(\"Actual Target Value                      : %s\"%y_test[0])\n",
        "#print(\"Target Value As Per Treeinterpreter      : %s\"%np.argmax(preds_400[0]))\n"
      ],
      "execution_count": null,
      "outputs": []
    },
    {
      "cell_type": "code",
      "metadata": {
        "id": "SuScP-6A99Pq"
      },
      "source": [
        "def print_negative():\n",
        "  print(''+ '\\nThe ' + str(len(negative)) + ' contributions for negative are: ')\n",
        "  print(negative)\n",
        "\n",
        "def print_positive():\n",
        "  print(''+ '\\nThe ' + str(len(positive)) + ' contributions for positive are: ')\n",
        "  print(positive)"
      ],
      "execution_count": null,
      "outputs": []
    },
    {
      "cell_type": "code",
      "metadata": {
        "id": "NusQPIByqnLA"
      },
      "source": [
        "def contributions_analysis(original_df, pred_labels, input_ids, features_df, contributions, print_analysis=True, clean_text=True, index=None):\n",
        "  \"\"\"\n",
        "  contributions is an array\n",
        "  clean_text=None\n",
        "\n",
        "  print_analysis can be:\n",
        "    -True (prints both negative and positive)\n",
        "    -False (just return dictionaries or lists)\n",
        "    -negative (prins only negative contributions)\n",
        "    -positive (prints only positive contributions)\n",
        "\n",
        "  Returns a dataframe with the negative and positive contributions of the relevant features for the observed review.\n",
        "  \"\"\"\n",
        "  if index == None:\n",
        "    review = random.randint(1, len(original_df))\n",
        "  else: \n",
        "    review = index\n",
        "  \n",
        "  present_sample_review(review, original_df, pred_labels, clean_text) #it must take the predicted label from bert!\n",
        "\n",
        "  #extracting only the relevant ids index. the ones that the observed review has\n",
        "  review_ids = list(features_df[features_df['ids'].isin(input_ids[review])].index) \n",
        "  \n",
        "  print('' + \"\\nFeature contributions:\")\n",
        "  # creating a dictionary of the contributions for the specific id on the observed review\n",
        "  contribs = {}\n",
        "  for i in review_ids:\n",
        "    c = contributions[review][i] \n",
        "    feature = features_df['words'][i] \n",
        "    contribs[feature] = list(c)\n",
        "  \n",
        "  # creating a dataframe out of it \n",
        "  contrib_df = pd.DataFrame(data=contribs.values(), index = contribs.keys(), columns=[\"negative\", \"positive\"])\n",
        "  \n",
        "  #obtaining the negative and positive contributions\n",
        "  negative = contrib_df[contrib_df['positive'] <= 0].sort_values(by=['positive']) #ascending positive\n",
        "  positive = contrib_df[contrib_df['positive'] > 0].sort_values(by=['positive'], ascending=False) #descending positive\n",
        "\n",
        "  def print_negative():\n",
        "    print(''+ '\\nThe ' + str(len(negative)) + ' contributions for negative are: ')\n",
        "    print(negative)\n",
        "\n",
        "  def print_positive():\n",
        "    print(''+ '\\nThe ' + str(len(positive)) + ' contributions for positive are: ')\n",
        "    print(positive)\n",
        "\n",
        "  # determining what to print \n",
        "  if print_analysis == True:\n",
        "    print_negative()\n",
        "    print_positive()\n",
        "  elif print_analysis == 'negative':\n",
        "    print_negative()\n",
        "    print(''+ '\\nAnd there are ' + str(len(positive)) + ' contributions for positive. ')\n",
        "  elif print_analysis == 'positive':\n",
        "    print_positive()\n",
        "    print(''+ '\\nAnd there are ' + str(len(negative)) + ' contributions for negative. ')\n",
        "  elif print_analysis == False:\n",
        "    print('There are ' + str(len(negative)) + ' contributions for negative. ')\n",
        "    print('There are ' + str(len(positive)) + ' contributions for positive. ')\n",
        "\n",
        "  # inserting the predicted label at the end\n",
        "  prediction = contrib_df[[\"negative\", \"positive\"]].sum()\n",
        "  contrib_df.loc[\"PREDICTION\"] = np.argmax(prediction)\n",
        "\n",
        "  return contrib_df"
      ],
      "execution_count": null,
      "outputs": []
    },
    {
      "cell_type": "markdown",
      "metadata": {
        "id": "u-u-ptNWVvX0"
      },
      "source": [
        "## running the analysis"
      ]
    },
    {
      "cell_type": "code",
      "metadata": {
        "colab": {
          "base_uri": "https://localhost:8080/",
          "height": 111
        },
        "id": "vmusHlrg_c0x",
        "outputId": "dc1389ea-7111-452a-e4a5-c722e87d1f27"
      },
      "source": [
        "test_df.head(2)"
      ],
      "execution_count": null,
      "outputs": [
        {
          "output_type": "execute_result",
          "data": {
            "text/html": [
              "<div>\n",
              "<style scoped>\n",
              "    .dataframe tbody tr th:only-of-type {\n",
              "        vertical-align: middle;\n",
              "    }\n",
              "\n",
              "    .dataframe tbody tr th {\n",
              "        vertical-align: top;\n",
              "    }\n",
              "\n",
              "    .dataframe thead th {\n",
              "        text-align: right;\n",
              "    }\n",
              "</style>\n",
              "<table border=\"1\" class=\"dataframe\">\n",
              "  <thead>\n",
              "    <tr style=\"text-align: right;\">\n",
              "      <th></th>\n",
              "      <th>text</th>\n",
              "      <th>label</th>\n",
              "      <th>categories</th>\n",
              "      <th>clean_text</th>\n",
              "    </tr>\n",
              "  </thead>\n",
              "  <tbody>\n",
              "    <tr>\n",
              "      <th>0</th>\n",
              "      <td>Positives: \\n- good location \\n- staff reasona...</td>\n",
              "      <td>0</td>\n",
              "      <td>Nail Salons, Beauty &amp; Spas, Day Spas</td>\n",
              "      <td>positives good location staff reasonably frien...</td>\n",
              "    </tr>\n",
              "    <tr>\n",
              "      <th>1</th>\n",
              "      <td>Very clean hotel.jacuzzi is very huge,shower a...</td>\n",
              "      <td>0</td>\n",
              "      <td>Wedding Planning, Event Planning &amp; Services, B...</td>\n",
              "      <td>clean hotel jacuzzi huge shower bathroom huge ...</td>\n",
              "    </tr>\n",
              "  </tbody>\n",
              "</table>\n",
              "</div>"
            ],
            "text/plain": [
              "                                                text  ...                                         clean_text\n",
              "0  Positives: \\n- good location \\n- staff reasona...  ...  positives good location staff reasonably frien...\n",
              "1  Very clean hotel.jacuzzi is very huge,shower a...  ...  clean hotel jacuzzi huge shower bathroom huge ...\n",
              "\n",
              "[2 rows x 4 columns]"
            ]
          },
          "metadata": {
            "tags": []
          },
          "execution_count": 44
        }
      ]
    },
    {
      "cell_type": "code",
      "metadata": {
        "colab": {
          "base_uri": "https://localhost:8080/"
        },
        "id": "KEt1UPVgzqxj",
        "outputId": "b04c8f80-0299-4f52-90dc-30c87e7b4d20"
      },
      "source": [
        "test_df['categories'].head() "
      ],
      "execution_count": null,
      "outputs": [
        {
          "output_type": "execute_result",
          "data": {
            "text/plain": [
              "0                 Nail Salons, Beauty & Spas, Day Spas\n",
              "1    Wedding Planning, Event Planning & Services, B...\n",
              "2                   Home Health Care, Health & Medical\n",
              "3                                   Food, Coffee & Tea\n",
              "4    Education, Local Services, Child Care & Day Ca...\n",
              "Name: categories, dtype: object"
            ]
          },
          "metadata": {
            "tags": []
          },
          "execution_count": 48
        }
      ]
    },
    {
      "cell_type": "code",
      "metadata": {
        "colab": {
          "base_uri": "https://localhost:8080/"
        },
        "id": "9yo0rb7XMwuY",
        "outputId": "63d4e166-5719-410d-80a8-8dcdbdcfe25c"
      },
      "source": [
        "# .apply(lambda x : len(x.strip().split(\" \")))\n",
        "len(test_df.clean_text[0].strip().split(\" \"))"
      ],
      "execution_count": null,
      "outputs": [
        {
          "output_type": "execute_result",
          "data": {
            "text/plain": [
              "66"
            ]
          },
          "metadata": {
            "tags": []
          },
          "execution_count": 46
        }
      ]
    },
    {
      "cell_type": "code",
      "metadata": {
        "colab": {
          "base_uri": "https://localhost:8080/"
        },
        "id": "rXNdaWBdL9kb",
        "outputId": "bf14c733-16a1-4703-8b51-2ff05289a9d0"
      },
      "source": [
        "len(list(feature_importance_1000[feature_importance_1000['ids'].isin(test_ids[0])].index))"
      ],
      "execution_count": null,
      "outputs": [
        {
          "output_type": "execute_result",
          "data": {
            "text/plain": [
              "71"
            ]
          },
          "metadata": {
            "tags": []
          },
          "execution_count": 47
        }
      ]
    },
    {
      "cell_type": "code",
      "metadata": {
        "colab": {
          "base_uri": "https://localhost:8080/"
        },
        "id": "kNuNmarS-EU3",
        "outputId": "11ce1b86-1d6a-4e33-eed3-85c1282fa1a7"
      },
      "source": [
        "#random\n",
        "z = contributions_analysis2(test_df, preds_1000, test_ids, feature_importance_1000, contributions_1000, print_analysis=False)"
      ],
      "execution_count": null,
      "outputs": [
        {
          "output_type": "stream",
          "text": [
            "Predictions for random forest 1000 of 2 sample leaves and for a random review\n",
            "Selected Sample     : 2260\n",
            "Actual Target Value : 0\n",
            "Predicted Value     : 1\n",
            "\n",
            "The review is: \n",
            "options menu sounded good ordered hominy appetizer spicy good recommend chose pork chops entree sauce heavy chop tender alot fat wouldn order friend clams enjoyed ambiance nice waiter cool weren great conversation old friend dinner miss\n",
            "\n",
            "The review has a length of 36 words.\n",
            "\n",
            "Feature contributions:\n",
            "There are 29 contributions for negative. \n",
            "There are 17 contributions for positive. \n"
          ],
          "name": "stdout"
        }
      ]
    },
    {
      "cell_type": "code",
      "metadata": {
        "colab": {
          "base_uri": "https://localhost:8080/"
        },
        "id": "BWEObWZ0J0Ib",
        "outputId": "a69e4eb6-53f6-4586-b5ab-ff15f2f3454f"
      },
      "source": [
        "%%time\n",
        "#specific\n",
        "contri_462 = contributions_analysis(test_df, preds_400, test_ids, feature_importance_400, contributions_400, print_analysis=False, index=462)"
      ],
      "execution_count": null,
      "outputs": [
        {
          "output_type": "stream",
          "text": [
            "Predictions for random forest 1000 of 2 sample leaves and for the review #462\n",
            "Selected Sample     : 462\n",
            "Actual Target Value : 1\n",
            "Predicted Value     : 1\n",
            "\n",
            "The review is: \n",
            "went sunday dinner kids excited going bobby flay restaurant wanted squid appetizer thought fishy apple blue cheese salad appetizer good small mains fabulous venison tender rich sauce pork tenderloin spicy rub seafood ciappino tipper prawns scallops grouper mussels garlic sweet potato tamale good sides baby carrots mashed potatoes good especially carrots reason stars appetizers good rest good value\n",
            "\n",
            "The review has a length of 58 words.\n",
            "\n",
            "Feature contributions:\n",
            "There are 37 contributions for negative. \n",
            "There are 37 contributions for positive. \n",
            "CPU times: user 15 ms, sys: 39 µs, total: 15.1 ms\n",
            "Wall time: 14.8 ms\n"
          ],
          "name": "stdout"
        }
      ]
    },
    {
      "cell_type": "markdown",
      "metadata": {
        "id": "dUVI_eAFERHE"
      },
      "source": [
        "## Function to make a df for the contributions of a random or specific review"
      ]
    },
    {
      "cell_type": "markdown",
      "metadata": {
        "id": "vXDrH3rEp3kP"
      },
      "source": [
        "How to analyze the samples for train and\n",
        " test???"
      ]
    },
    {
      "cell_type": "code",
      "metadata": {
        "id": "o4geF1EWH8Q-"
      },
      "source": [
        "def create_contrbutions_df(contributions, review, features_df, input_ids):\n",
        "  #extracting only the relevant ids index. the ones that the observed review has\n",
        "  review_ids = list(features_df[features_df['ids'].isin(input_ids[review])].index) \n",
        "\n",
        "  #creating a dictionary of the contributions for the specific id on the observed review\n",
        "  contribs = {}\n",
        "  for i in review_ids:\n",
        "    c = contributions[review][i] \n",
        "    feature = features_df['words'][i] \n",
        "    contribs[feature] = list(c)\n",
        "  \n",
        "  # creating a dataframe out of it \n",
        "  contrib_df = pd.DataFrame(data=contribs.values(), index = contribs.keys(), columns=[\"negative\", \"positive\"])\n",
        "  # inserting the predicted label at the end\n",
        "  prediction = contrib_df[[\"negative\", \"positive\"]].sum()\n",
        "  contrib_df.loc[\"PREDICTION\"] = np.argmax(prediction)\n",
        "  return contrib_df"
      ],
      "execution_count": null,
      "outputs": []
    },
    {
      "cell_type": "code",
      "metadata": {
        "colab": {
          "base_uri": "https://localhost:8080/"
        },
        "id": "U5RKWDJwX1Pc",
        "outputId": "b1d6bb0d-ac60-4372-f6ee-78c22df3376c"
      },
      "source": [
        "test_res.index"
      ],
      "execution_count": null,
      "outputs": [
        {
          "output_type": "execute_result",
          "data": {
            "text/plain": [
              "Int64Index([ 814,  625, 2508,  979,  168, 1823, 1273, 2584, 1972, 1521,  826,\n",
              "            1344, 1034,  497,  541,  392,  610, 2016],\n",
              "           dtype='int64')"
            ]
          },
          "metadata": {
            "tags": []
          },
          "execution_count": 32
        }
      ]
    },
    {
      "cell_type": "code",
      "metadata": {
        "id": "HnW8Gd8zDgqD",
        "colab": {
          "base_uri": "https://localhost:8080/"
        },
        "outputId": "a84127a6-68ee-4bfa-ef6a-55a02fade8cc"
      },
      "source": [
        "import random\n",
        "random_sample = random.choice(test_res.index) #obtaining a random review from the restaurant category\n",
        "print(\"Selected Sample     : %d\"%random_sample)\n",
        "print(\"Actual Target Value : %s\"%y_test[random_sample])\n",
        "print(\"Predicted Value     : %s\"%np.argmax(preds_400[random_sample]))"
      ],
      "execution_count": null,
      "outputs": [
        {
          "output_type": "stream",
          "text": [
            "Selected Sample     : 2584\n",
            "Actual Target Value : 1\n",
            "Predicted Value     : 1\n"
          ],
          "name": "stdout"
        }
      ]
    },
    {
      "cell_type": "markdown",
      "metadata": {
        "id": "ufnayDehcwNm"
      },
      "source": [
        "**TO TAKE INTO ACCOUNT: the y_test labels are different from the test_df labels**\n",
        "\n",
        "Because y_test are the labels predicted by BERT and the test_df are the originals"
      ]
    },
    {
      "cell_type": "code",
      "metadata": {
        "colab": {
          "base_uri": "https://localhost:8080/",
          "height": 359
        },
        "id": "F1ptgEVWYDXE",
        "outputId": "ae56a3aa-2576-49b5-d741-1982d8d0d9a0"
      },
      "source": [
        "contrib_rest = create_contrbutions_df(contributions_400, random_sample, feature_importance, test_ids)\n",
        "contrib_rest\n",
        "contrib_rest[contrib_rest['positive'] > 0].sort_values(by=['positive'], ascending=False)[:10]"
      ],
      "execution_count": null,
      "outputs": [
        {
          "output_type": "execute_result",
          "data": {
            "text/html": [
              "<div>\n",
              "<style scoped>\n",
              "    .dataframe tbody tr th:only-of-type {\n",
              "        vertical-align: middle;\n",
              "    }\n",
              "\n",
              "    .dataframe tbody tr th {\n",
              "        vertical-align: top;\n",
              "    }\n",
              "\n",
              "    .dataframe thead th {\n",
              "        text-align: right;\n",
              "    }\n",
              "</style>\n",
              "<table border=\"1\" class=\"dataframe\">\n",
              "  <thead>\n",
              "    <tr style=\"text-align: right;\">\n",
              "      <th></th>\n",
              "      <th>negative</th>\n",
              "      <th>positive</th>\n",
              "    </tr>\n",
              "  </thead>\n",
              "  <tbody>\n",
              "    <tr>\n",
              "      <th>PREDICTION</th>\n",
              "      <td>1.000000</td>\n",
              "      <td>1.000000</td>\n",
              "    </tr>\n",
              "    <tr>\n",
              "      <th>cong</th>\n",
              "      <td>-0.004479</td>\n",
              "      <td>0.004479</td>\n",
              "    </tr>\n",
              "    <tr>\n",
              "      <th>twice</th>\n",
              "      <td>-0.000783</td>\n",
              "      <td>0.000783</td>\n",
              "    </tr>\n",
              "    <tr>\n",
              "      <th>chill</th>\n",
              "      <td>-0.000621</td>\n",
              "      <td>0.000621</td>\n",
              "    </tr>\n",
              "    <tr>\n",
              "      <th>food</th>\n",
              "      <td>-0.000508</td>\n",
              "      <td>0.000508</td>\n",
              "    </tr>\n",
              "    <tr>\n",
              "      <th>great</th>\n",
              "      <td>-0.000497</td>\n",
              "      <td>0.000497</td>\n",
              "    </tr>\n",
              "    <tr>\n",
              "      <th>curry</th>\n",
              "      <td>-0.000241</td>\n",
              "      <td>0.000241</td>\n",
              "    </tr>\n",
              "    <tr>\n",
              "      <th>red</th>\n",
              "      <td>-0.000053</td>\n",
              "      <td>0.000053</td>\n",
              "    </tr>\n",
              "    <tr>\n",
              "      <th>creamy</th>\n",
              "      <td>-0.000053</td>\n",
              "      <td>0.000053</td>\n",
              "    </tr>\n",
              "    <tr>\n",
              "      <th>wait</th>\n",
              "      <td>-0.000044</td>\n",
              "      <td>0.000044</td>\n",
              "    </tr>\n",
              "  </tbody>\n",
              "</table>\n",
              "</div>"
            ],
            "text/plain": [
              "            negative  positive\n",
              "PREDICTION  1.000000  1.000000\n",
              "cong       -0.004479  0.004479\n",
              "twice      -0.000783  0.000783\n",
              "chill      -0.000621  0.000621\n",
              "food       -0.000508  0.000508\n",
              "great      -0.000497  0.000497\n",
              "curry      -0.000241  0.000241\n",
              "red        -0.000053  0.000053\n",
              "creamy     -0.000053  0.000053\n",
              "wait       -0.000044  0.000044"
            ]
          },
          "metadata": {
            "tags": []
          },
          "execution_count": 37
        }
      ]
    },
    {
      "cell_type": "code",
      "metadata": {
        "colab": {
          "base_uri": "https://localhost:8080/",
          "height": 181
        },
        "id": "IEe_ZqTvZq4d",
        "outputId": "8ba3d776-b7a8-4a1f-bae8-d3c6a7d8a5ec"
      },
      "source": [
        "c_rest = contributions_analysis(test_df, preds_400, test_ids, feature_importance, contributions_400, print_analysis=True, clean_text=True, index=random_sample)"
      ],
      "execution_count": null,
      "outputs": [
        {
          "output_type": "error",
          "ename": "NameError",
          "evalue": "ignored",
          "traceback": [
            "\u001b[0;31m---------------------------------------------------------------------------\u001b[0m",
            "\u001b[0;31mNameError\u001b[0m                                 Traceback (most recent call last)",
            "\u001b[0;32m<ipython-input-36-f879bb6c4f77>\u001b[0m in \u001b[0;36m<module>\u001b[0;34m()\u001b[0m\n\u001b[0;32m----> 1\u001b[0;31m \u001b[0mc_rest\u001b[0m \u001b[0;34m=\u001b[0m \u001b[0mcontributions_analysis\u001b[0m\u001b[0;34m(\u001b[0m\u001b[0mtest_df\u001b[0m\u001b[0;34m,\u001b[0m \u001b[0mpreds_400\u001b[0m\u001b[0;34m,\u001b[0m \u001b[0mtest_ids\u001b[0m\u001b[0;34m,\u001b[0m \u001b[0mfeature_importance\u001b[0m\u001b[0;34m,\u001b[0m \u001b[0mcontributions_400\u001b[0m\u001b[0;34m,\u001b[0m \u001b[0mprint_analysis\u001b[0m\u001b[0;34m=\u001b[0m\u001b[0;32mTrue\u001b[0m\u001b[0;34m,\u001b[0m \u001b[0mclean_text\u001b[0m\u001b[0;34m=\u001b[0m\u001b[0;32mTrue\u001b[0m\u001b[0;34m,\u001b[0m \u001b[0mindex\u001b[0m\u001b[0;34m=\u001b[0m\u001b[0mrandom_sample\u001b[0m\u001b[0;34m)\u001b[0m\u001b[0;34m\u001b[0m\u001b[0;34m\u001b[0m\u001b[0m\n\u001b[0m",
            "\u001b[0;31mNameError\u001b[0m: name 'contributions_analysis' is not defined"
          ]
        }
      ]
    },
    {
      "cell_type": "code",
      "metadata": {
        "colab": {
          "base_uri": "https://localhost:8080/",
          "height": 359
        },
        "id": "0CNCwiVYZBs-",
        "outputId": "383a564a-3106-4613-f0be-5b30e2909829"
      },
      "source": [
        "#negative contribs\n",
        "contrib_rest[contrib_rest['positive'] <= 0].sort_values(by=['positive'])[:10]"
      ],
      "execution_count": null,
      "outputs": [
        {
          "output_type": "execute_result",
          "data": {
            "text/html": [
              "<div>\n",
              "<style scoped>\n",
              "    .dataframe tbody tr th:only-of-type {\n",
              "        vertical-align: middle;\n",
              "    }\n",
              "\n",
              "    .dataframe tbody tr th {\n",
              "        vertical-align: top;\n",
              "    }\n",
              "\n",
              "    .dataframe thead th {\n",
              "        text-align: right;\n",
              "    }\n",
              "</style>\n",
              "<table border=\"1\" class=\"dataframe\">\n",
              "  <thead>\n",
              "    <tr style=\"text-align: right;\">\n",
              "      <th></th>\n",
              "      <th>negative</th>\n",
              "      <th>positive</th>\n",
              "    </tr>\n",
              "  </thead>\n",
              "  <tbody>\n",
              "    <tr>\n",
              "      <th>couldn</th>\n",
              "      <td>0.000577</td>\n",
              "      <td>-0.000577</td>\n",
              "    </tr>\n",
              "    <tr>\n",
              "      <th>came</th>\n",
              "      <td>0.000351</td>\n",
              "      <td>-0.000351</td>\n",
              "    </tr>\n",
              "    <tr>\n",
              "      <th>second</th>\n",
              "      <td>0.000055</td>\n",
              "      <td>-0.000055</td>\n",
              "    </tr>\n",
              "    <tr>\n",
              "      <th>menu</th>\n",
              "      <td>0.000051</td>\n",
              "      <td>-0.000051</td>\n",
              "    </tr>\n",
              "    <tr>\n",
              "      <th>bar</th>\n",
              "      <td>0.000012</td>\n",
              "      <td>-0.000012</td>\n",
              "    </tr>\n",
              "    <tr>\n",
              "      <th>save</th>\n",
              "      <td>0.000006</td>\n",
              "      <td>-0.000006</td>\n",
              "    </tr>\n",
              "    <tr>\n",
              "      <th>oyster</th>\n",
              "      <td>0.000000</td>\n",
              "      <td>0.000000</td>\n",
              "    </tr>\n",
              "    <tr>\n",
              "      <th>tuna</th>\n",
              "      <td>0.000000</td>\n",
              "      <td>0.000000</td>\n",
              "    </tr>\n",
              "    <tr>\n",
              "      <th>different</th>\n",
              "      <td>0.000000</td>\n",
              "      <td>0.000000</td>\n",
              "    </tr>\n",
              "    <tr>\n",
              "      <th>su</th>\n",
              "      <td>0.000000</td>\n",
              "      <td>0.000000</td>\n",
              "    </tr>\n",
              "  </tbody>\n",
              "</table>\n",
              "</div>"
            ],
            "text/plain": [
              "           negative  positive\n",
              "couldn     0.000577 -0.000577\n",
              "came       0.000351 -0.000351\n",
              "second     0.000055 -0.000055\n",
              "menu       0.000051 -0.000051\n",
              "bar        0.000012 -0.000012\n",
              "save       0.000006 -0.000006\n",
              "oyster     0.000000  0.000000\n",
              "tuna       0.000000  0.000000\n",
              "different  0.000000  0.000000\n",
              "su         0.000000  0.000000"
            ]
          },
          "metadata": {
            "tags": []
          },
          "execution_count": 113
        }
      ]
    },
    {
      "cell_type": "code",
      "metadata": {
        "colab": {
          "base_uri": "https://localhost:8080/"
        },
        "id": "fA2IZv0EKVt_",
        "outputId": "e9fa3fd0-32e2-4929-d272-d3b7aaf00543"
      },
      "source": [
        "# from: https://coderzcolumn.com/tutorials/machine-learning/treeinterpreter-interpreting-tree-based-models-prediction-of-individual-sample\n",
        "%%time\n",
        "contrib_df2 = create_contrbutions_df(contributions_400, random_sample, feature_importance_400, test_ids)\n",
        "contrib_df2"
      ],
      "execution_count": null,
      "outputs": [
        {
          "output_type": "stream",
          "text": [
            "CPU times: user 8.44 ms, sys: 14 µs, total: 8.45 ms\n",
            "Wall time: 14 ms\n"
          ],
          "name": "stdout"
        }
      ]
    },
    {
      "cell_type": "code",
      "metadata": {
        "colab": {
          "base_uri": "https://localhost:8080/"
        },
        "id": "t3TSpmahKWS8",
        "outputId": "a6e12686-e05c-4265-9fb6-d93f5ba77d43"
      },
      "source": [
        "len(contrib_df2[contrib_df['positive'] > 0].sort_values(by=['positive'], ascending=False)) #len positive\n",
        "# to get top positive features\n",
        "#contrib_df2[contrib_df2['positive'] > 0].sort_values(by=['positive'], ascending=False)[:10]"
      ],
      "execution_count": null,
      "outputs": [
        {
          "output_type": "execute_result",
          "data": {
            "text/plain": [
              "38"
            ]
          },
          "metadata": {
            "tags": []
          },
          "execution_count": 242
        }
      ]
    },
    {
      "cell_type": "code",
      "metadata": {
        "colab": {
          "base_uri": "https://localhost:8080/"
        },
        "id": "a2VCVpP4Kb-1",
        "outputId": "6888e3d0-6d9e-41fc-8e9c-d6702cdf9f6b"
      },
      "source": [
        "len(contrib_df2[contrib_df['positive'] <= 0].sort_values(by=['positive'])) #len negative\n",
        "# to get top negative features\n",
        "#contrib_df2[contrib_df2['positive'] <= 0].sort_values(by=['positive'])[:10]"
      ],
      "execution_count": null,
      "outputs": [
        {
          "output_type": "execute_result",
          "data": {
            "text/plain": [
              "37"
            ]
          },
          "metadata": {
            "tags": []
          },
          "execution_count": 243
        }
      ]
    },
    {
      "cell_type": "code",
      "metadata": {
        "id": "RNZO97zk93hB"
      },
      "source": [
        ""
      ],
      "execution_count": null,
      "outputs": []
    },
    {
      "cell_type": "markdown",
      "metadata": {
        "id": "OuuyUZnbVVrI"
      },
      "source": [
        "## Notes:"
      ]
    },
    {
      "cell_type": "markdown",
      "metadata": {
        "id": "bhTAcIYl4tkl"
      },
      "source": [
        " Global features and\n",
        "Specific ones see if they match the reviews"
      ]
    }
  ]
}