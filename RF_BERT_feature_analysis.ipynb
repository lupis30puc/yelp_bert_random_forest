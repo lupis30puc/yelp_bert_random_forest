{
  "nbformat": 4,
  "nbformat_minor": 0,
  "metadata": {
    "colab": {
      "name": "RF-BERT_feature_analysis.ipynb",
      "provenance": [],
      "collapsed_sections": [
        "Qx--WzAEAMvz",
        "4lAJ1WldAJai",
        "LfF9cG_d7arq",
        "DSCNZzJGBl12",
        "u-u-ptNWVvX0",
        "OuuyUZnbVVrI"
      ],
      "authorship_tag": "ABX9TyNIJnjYlhFOUAR5JCi0Amr9",
      "include_colab_link": true
    },
    "kernelspec": {
      "name": "python3",
      "display_name": "Python 3"
    }
  },
  "cells": [
    {
      "cell_type": "markdown",
      "metadata": {
        "id": "view-in-github",
        "colab_type": "text"
      },
      "source": [
        "<a href=\"https://colab.research.google.com/github/lupis30puc/yelp_bert_random_forest/blob/update-7/RF_BERT_feature_analysis.ipynb\" target=\"_parent\"><img src=\"https://colab.research.google.com/assets/colab-badge.svg\" alt=\"Open In Colab\"/></a>"
      ]
    },
    {
      "cell_type": "markdown",
      "metadata": {
        "id": "Qx--WzAEAMvz"
      },
      "source": [
        "## Set Up"
      ]
    },
    {
      "cell_type": "code",
      "metadata": {
        "colab": {
          "base_uri": "https://localhost:8080/"
        },
        "id": "JCJWrrRX_S_q",
        "outputId": "b1ca3994-3a2a-4f0f-af5b-c789192019e5"
      },
      "source": [
        "!pip install treeinterpreter\n",
        "#https://pypi.org/project/treeinterpreter/"
      ],
      "execution_count": 1,
      "outputs": [
        {
          "output_type": "stream",
          "text": [
            "Collecting treeinterpreter\n",
            "  Downloading https://files.pythonhosted.org/packages/af/19/fa8556093f6b8c7374825118e05cf5a99c71262392382c3642ab1fd8a742/treeinterpreter-0.2.3-py2.py3-none-any.whl\n",
            "Installing collected packages: treeinterpreter\n",
            "Successfully installed treeinterpreter-0.2.3\n"
          ],
          "name": "stdout"
        }
      ]
    },
    {
      "cell_type": "code",
      "metadata": {
        "colab": {
          "base_uri": "https://localhost:8080/"
        },
        "id": "fBzNWopSAeap",
        "outputId": "a9976431-765e-4986-d6c7-d70921c70dfa"
      },
      "source": [
        "!pip install transformers"
      ],
      "execution_count": 2,
      "outputs": [
        {
          "output_type": "stream",
          "text": [
            "Collecting transformers\n",
            "\u001b[?25l  Downloading https://files.pythonhosted.org/packages/88/b1/41130a228dd656a1a31ba281598a968320283f48d42782845f6ba567f00b/transformers-4.2.2-py3-none-any.whl (1.8MB)\n",
            "\u001b[K     |████████████████████████████████| 1.8MB 5.6MB/s \n",
            "\u001b[?25hCollecting sacremoses\n",
            "\u001b[?25l  Downloading https://files.pythonhosted.org/packages/7d/34/09d19aff26edcc8eb2a01bed8e98f13a1537005d31e95233fd48216eed10/sacremoses-0.0.43.tar.gz (883kB)\n",
            "\u001b[K     |████████████████████████████████| 890kB 18.3MB/s \n",
            "\u001b[?25hRequirement already satisfied: regex!=2019.12.17 in /usr/local/lib/python3.6/dist-packages (from transformers) (2019.12.20)\n",
            "Requirement already satisfied: importlib-metadata; python_version < \"3.8\" in /usr/local/lib/python3.6/dist-packages (from transformers) (3.4.0)\n",
            "Collecting tokenizers==0.9.4\n",
            "\u001b[?25l  Downloading https://files.pythonhosted.org/packages/0f/1c/e789a8b12e28be5bc1ce2156cf87cb522b379be9cadc7ad8091a4cc107c4/tokenizers-0.9.4-cp36-cp36m-manylinux2010_x86_64.whl (2.9MB)\n",
            "\u001b[K     |████████████████████████████████| 2.9MB 24.4MB/s \n",
            "\u001b[?25hRequirement already satisfied: requests in /usr/local/lib/python3.6/dist-packages (from transformers) (2.23.0)\n",
            "Requirement already satisfied: tqdm>=4.27 in /usr/local/lib/python3.6/dist-packages (from transformers) (4.41.1)\n",
            "Requirement already satisfied: filelock in /usr/local/lib/python3.6/dist-packages (from transformers) (3.0.12)\n",
            "Requirement already satisfied: dataclasses; python_version < \"3.7\" in /usr/local/lib/python3.6/dist-packages (from transformers) (0.8)\n",
            "Requirement already satisfied: numpy in /usr/local/lib/python3.6/dist-packages (from transformers) (1.19.5)\n",
            "Requirement already satisfied: packaging in /usr/local/lib/python3.6/dist-packages (from transformers) (20.9)\n",
            "Requirement already satisfied: six in /usr/local/lib/python3.6/dist-packages (from sacremoses->transformers) (1.15.0)\n",
            "Requirement already satisfied: click in /usr/local/lib/python3.6/dist-packages (from sacremoses->transformers) (7.1.2)\n",
            "Requirement already satisfied: joblib in /usr/local/lib/python3.6/dist-packages (from sacremoses->transformers) (1.0.0)\n",
            "Requirement already satisfied: zipp>=0.5 in /usr/local/lib/python3.6/dist-packages (from importlib-metadata; python_version < \"3.8\"->transformers) (3.4.0)\n",
            "Requirement already satisfied: typing-extensions>=3.6.4; python_version < \"3.8\" in /usr/local/lib/python3.6/dist-packages (from importlib-metadata; python_version < \"3.8\"->transformers) (3.7.4.3)\n",
            "Requirement already satisfied: idna<3,>=2.5 in /usr/local/lib/python3.6/dist-packages (from requests->transformers) (2.10)\n",
            "Requirement already satisfied: urllib3!=1.25.0,!=1.25.1,<1.26,>=1.21.1 in /usr/local/lib/python3.6/dist-packages (from requests->transformers) (1.24.3)\n",
            "Requirement already satisfied: certifi>=2017.4.17 in /usr/local/lib/python3.6/dist-packages (from requests->transformers) (2020.12.5)\n",
            "Requirement already satisfied: chardet<4,>=3.0.2 in /usr/local/lib/python3.6/dist-packages (from requests->transformers) (3.0.4)\n",
            "Requirement already satisfied: pyparsing>=2.0.2 in /usr/local/lib/python3.6/dist-packages (from packaging->transformers) (2.4.7)\n",
            "Building wheels for collected packages: sacremoses\n",
            "  Building wheel for sacremoses (setup.py) ... \u001b[?25l\u001b[?25hdone\n",
            "  Created wheel for sacremoses: filename=sacremoses-0.0.43-cp36-none-any.whl size=893261 sha256=020455e93a12332b448be90838f6ec41ce07975296b1d7b61d75b5a12dee473f\n",
            "  Stored in directory: /root/.cache/pip/wheels/29/3c/fd/7ce5c3f0666dab31a50123635e6fb5e19ceb42ce38d4e58f45\n",
            "Successfully built sacremoses\n",
            "Installing collected packages: sacremoses, tokenizers, transformers\n",
            "Successfully installed sacremoses-0.0.43 tokenizers-0.9.4 transformers-4.2.2\n"
          ],
          "name": "stdout"
        }
      ]
    },
    {
      "cell_type": "code",
      "metadata": {
        "colab": {
          "base_uri": "https://localhost:8080/"
        },
        "id": "3d5Y_yn7_owl",
        "outputId": "cef6c2b1-0ad5-4976-a9b1-094371db7830"
      },
      "source": [
        "from google.colab import drive\r\n",
        "drive.mount('/content/drive')"
      ],
      "execution_count": 3,
      "outputs": [
        {
          "output_type": "stream",
          "text": [
            "Mounted at /content/drive\n"
          ],
          "name": "stdout"
        }
      ]
    },
    {
      "cell_type": "code",
      "metadata": {
        "id": "7Olhw4Uf_qSt"
      },
      "source": [
        "import pandas as pd\r\n",
        "import numpy as np\r\n",
        "import matplotlib.pyplot as plt\r\n",
        "import seaborn as sns\r\n",
        "%matplotlib inline\r\n",
        "import string\r\n",
        "import math\r\n",
        "\r\n",
        "from sklearn.model_selection import train_test_split, cross_val_score, GridSearchCV\r\n",
        "from sklearn.metrics import classification_report\r\n",
        "from sklearn.metrics import confusion_matrix, accuracy_score, roc_auc_score, roc_curve\r\n",
        "from sklearn.ensemble import RandomForestClassifier\r\n",
        "\r\n",
        "import time\r\n",
        "import pickle\r\n",
        "from treeinterpreter import treeinterpreter as ti\r\n",
        "import joblib\r\n",
        "from transformers import BertTokenizer\r\n",
        "import torch"
      ],
      "execution_count": 4,
      "outputs": []
    },
    {
      "cell_type": "markdown",
      "metadata": {
        "id": "4lAJ1WldAJai"
      },
      "source": [
        "## Initializing the RF model and the x and y values"
      ]
    },
    {
      "cell_type": "code",
      "metadata": {
        "id": "XCIbuODX_dTe"
      },
      "source": [
        "# load, no need to initialize the loaded_rf\r\n",
        "rf_grid = joblib.load(\"/content/drive/MyDrive/Yelp/model_128_/rf_grid_not_1000.joblib\")"
      ],
      "execution_count": 219,
      "outputs": []
    },
    {
      "cell_type": "code",
      "metadata": {
        "colab": {
          "base_uri": "https://localhost:8080/"
        },
        "id": "4JA0jvbYhhaI",
        "outputId": "dc16a63b-461d-4f82-d370-7b07d2178ea6"
      },
      "source": [
        "rf_grid.best_params_  # Parameter setting that gave the best results on the hold out data.\n",
        "rf = rf_grid.best_estimator_ \n",
        "print(rf_grid.best_params_)"
      ],
      "execution_count": 221,
      "outputs": [
        {
          "output_type": "stream",
          "text": [
            "{'min_samples_leaf': 2, 'n_estimators': 400}\n"
          ],
          "name": "stdout"
        }
      ]
    },
    {
      "cell_type": "code",
      "metadata": {
        "id": "LJXHvtRlAJ_S"
      },
      "source": [
        "x_train = pd.read_pickle('/content/drive/MyDrive/Yelp/model_128_/binary_train_rf_feb_02')\r\n",
        "x_test = pd.read_pickle('/content/drive/MyDrive/Yelp/model_128_/binary_test_rf_feb_02')"
      ],
      "execution_count": 8,
      "outputs": []
    },
    {
      "cell_type": "code",
      "metadata": {
        "id": "7lE3CO56APFx"
      },
      "source": [
        "y_train = torch.load('/content/drive/MyDrive/Yelp/model_128_/pred_labels_train')\r\n",
        "y_test = torch.load('/content/drive/MyDrive/Yelp/model_128_/pred_labels_test')"
      ],
      "execution_count": 9,
      "outputs": []
    },
    {
      "cell_type": "markdown",
      "metadata": {
        "id": "LfF9cG_d7arq"
      },
      "source": [
        "## Initializing BERT tokenizers and reviews **text**, features and ids"
      ]
    },
    {
      "cell_type": "code",
      "metadata": {
        "id": "mKEi4xc77eX9"
      },
      "source": [
        "# NO NEED FOR THE DATASET OR YES?\n",
        "train_df = pd.read_pickle('/content/drive/MyDrive/Yelp/sample_train_10394.pkl')\n",
        "test_df = pd.read_pickle('/content/drive/MyDrive/Yelp/sample_test_2599.pkl')\n",
        "\n",
        "train_df.reset_index(drop=True, inplace=True)\n",
        "test_df.reset_index(drop=True, inplace=True)\n",
        "#train_df.head()"
      ],
      "execution_count": 40,
      "outputs": []
    },
    {
      "cell_type": "code",
      "metadata": {
        "id": "AA0a1jM37huT"
      },
      "source": [
        "# launching the saved model tokenizer\n",
        "tokenizer = BertTokenizer.from_pretrained('/content/drive/MyDrive/Yelp/model_128_/tokenizer_128/')"
      ],
      "execution_count": 18,
      "outputs": []
    },
    {
      "cell_type": "code",
      "metadata": {
        "id": "mf1B9UpC9beu"
      },
      "source": [
        "with open('/content/drive/MyDrive/Yelp/model_128_/feature_names_feb_03.pkl', 'rb') as f:\n",
        "  feature_names = pickle.load(f)"
      ],
      "execution_count": 19,
      "outputs": []
    },
    {
      "cell_type": "code",
      "metadata": {
        "id": "gvVdKlPREyvo"
      },
      "source": [
        "with open('/content/drive/MyDrive/Yelp/model_128_/unique_ids_feb_03.pkl', 'rb') as f:\n",
        "  unique_ids = pickle.load(f)"
      ],
      "execution_count": 20,
      "outputs": []
    },
    {
      "cell_type": "code",
      "metadata": {
        "colab": {
          "base_uri": "https://localhost:8080/"
        },
        "id": "uH0heNLR1x4c",
        "outputId": "619773c2-3548-41a7-b5ea-b8989a9e90ee"
      },
      "source": [
        "print(len(unique_ids), len(feature_names))"
      ],
      "execution_count": 21,
      "outputs": [
        {
          "output_type": "stream",
          "text": [
            "16563 16563\n"
          ],
          "name": "stdout"
        }
      ]
    },
    {
      "cell_type": "markdown",
      "metadata": {
        "id": "DSCNZzJGBl12"
      },
      "source": [
        "## Feature importances and contributions"
      ]
    },
    {
      "cell_type": "code",
      "metadata": {
        "id": "_a4L0aWF1Sp0"
      },
      "source": [
        "importance_rf = rf.feature_importances_"
      ],
      "execution_count": 222,
      "outputs": []
    },
    {
      "cell_type": "code",
      "metadata": {
        "id": "kI0QZ6FUEunR"
      },
      "source": [
        "feature_importance = pd.DataFrame({'ids': unique_ids, 'words': feature_names, 'imp': importance_rf})"
      ],
      "execution_count": 237,
      "outputs": []
    },
    {
      "cell_type": "code",
      "metadata": {
        "id": "7LptzWTLRfdu"
      },
      "source": [
        "# sorting the df by importance and reseting the index\n",
        "# feature_importance[['words', 'imp']].sort_values(by=['imp'], ascending=False)[:15]\n",
        "feature_importance = feature_importance.sort_values(by=['imp'], ascending=False)\n",
        "feature_importance.reset_index(drop = True, inplace = True)"
      ],
      "execution_count": 238,
      "outputs": []
    },
    {
      "cell_type": "code",
      "metadata": {
        "id": "4vxqkaIdJlHN",
        "colab": {
          "base_uri": "https://localhost:8080/",
          "height": 514
        },
        "outputId": "81f36a4b-b42c-4c2d-fdf9-affec544dd2b"
      },
      "source": [
        "# top 15 words\n",
        "feature_importance[:15] #words with important role "
      ],
      "execution_count": 239,
      "outputs": [
        {
          "output_type": "execute_result",
          "data": {
            "text/html": [
              "<div>\n",
              "<style scoped>\n",
              "    .dataframe tbody tr th:only-of-type {\n",
              "        vertical-align: middle;\n",
              "    }\n",
              "\n",
              "    .dataframe tbody tr th {\n",
              "        vertical-align: top;\n",
              "    }\n",
              "\n",
              "    .dataframe thead th {\n",
              "        text-align: right;\n",
              "    }\n",
              "</style>\n",
              "<table border=\"1\" class=\"dataframe\">\n",
              "  <thead>\n",
              "    <tr style=\"text-align: right;\">\n",
              "      <th></th>\n",
              "      <th>ids</th>\n",
              "      <th>words</th>\n",
              "      <th>imp</th>\n",
              "    </tr>\n",
              "  </thead>\n",
              "  <tbody>\n",
              "    <tr>\n",
              "      <th>0</th>\n",
              "      <td>2307</td>\n",
              "      <td>great</td>\n",
              "      <td>0.035311</td>\n",
              "    </tr>\n",
              "    <tr>\n",
              "      <th>1</th>\n",
              "      <td>12090</td>\n",
              "      <td>delicious</td>\n",
              "      <td>0.018375</td>\n",
              "    </tr>\n",
              "    <tr>\n",
              "      <th>2</th>\n",
              "      <td>6429</td>\n",
              "      <td>amazing</td>\n",
              "      <td>0.016065</td>\n",
              "    </tr>\n",
              "    <tr>\n",
              "      <th>3</th>\n",
              "      <td>5409</td>\n",
              "      <td>worst</td>\n",
              "      <td>0.014470</td>\n",
              "    </tr>\n",
              "    <tr>\n",
              "      <th>4</th>\n",
              "      <td>5379</td>\n",
              "      <td>friendly</td>\n",
              "      <td>0.012964</td>\n",
              "    </tr>\n",
              "    <tr>\n",
              "      <th>5</th>\n",
              "      <td>2293</td>\n",
              "      <td>love</td>\n",
              "      <td>0.012546</td>\n",
              "    </tr>\n",
              "    <tr>\n",
              "      <th>6</th>\n",
              "      <td>9202</td>\n",
              "      <td>horrible</td>\n",
              "      <td>0.012401</td>\n",
              "    </tr>\n",
              "    <tr>\n",
              "      <th>7</th>\n",
              "      <td>6659</td>\n",
              "      <td>terrible</td>\n",
              "      <td>0.012306</td>\n",
              "    </tr>\n",
              "    <tr>\n",
              "      <th>8</th>\n",
              "      <td>2356</td>\n",
              "      <td>asked</td>\n",
              "      <td>0.012191</td>\n",
              "    </tr>\n",
              "    <tr>\n",
              "      <th>9</th>\n",
              "      <td>2409</td>\n",
              "      <td>told</td>\n",
              "      <td>0.011806</td>\n",
              "    </tr>\n",
              "    <tr>\n",
              "      <th>10</th>\n",
              "      <td>12726</td>\n",
              "      <td>rude</td>\n",
              "      <td>0.011279</td>\n",
              "    </tr>\n",
              "    <tr>\n",
              "      <th>11</th>\n",
              "      <td>2190</td>\n",
              "      <td>best</td>\n",
              "      <td>0.011134</td>\n",
              "    </tr>\n",
              "    <tr>\n",
              "      <th>12</th>\n",
              "      <td>5791</td>\n",
              "      <td>definitely</td>\n",
              "      <td>0.010732</td>\n",
              "    </tr>\n",
              "    <tr>\n",
              "      <th>13</th>\n",
              "      <td>2056</td>\n",
              "      <td>said</td>\n",
              "      <td>0.010580</td>\n",
              "    </tr>\n",
              "    <tr>\n",
              "      <th>14</th>\n",
              "      <td>6581</td>\n",
              "      <td>excellent</td>\n",
              "      <td>0.009408</td>\n",
              "    </tr>\n",
              "  </tbody>\n",
              "</table>\n",
              "</div>"
            ],
            "text/plain": [
              "      ids       words       imp\n",
              "0    2307       great  0.035311\n",
              "1   12090   delicious  0.018375\n",
              "2    6429     amazing  0.016065\n",
              "3    5409       worst  0.014470\n",
              "4    5379    friendly  0.012964\n",
              "5    2293        love  0.012546\n",
              "6    9202    horrible  0.012401\n",
              "7    6659    terrible  0.012306\n",
              "8    2356       asked  0.012191\n",
              "9    2409        told  0.011806\n",
              "10  12726        rude  0.011279\n",
              "11   2190        best  0.011134\n",
              "12   5791  definitely  0.010732\n",
              "13   2056        said  0.010580\n",
              "14   6581   excellent  0.009408"
            ]
          },
          "metadata": {
            "tags": []
          },
          "execution_count": 239
        }
      ]
    },
    {
      "cell_type": "code",
      "metadata": {
        "colab": {
          "base_uri": "https://localhost:8080/"
        },
        "id": "zMk8ubcjxqo3",
        "outputId": "e17cfd30-01d9-45da-d944-d4f97f7fad73"
      },
      "source": [
        "%%time\n",
        "#preds_400, bias_400, contributions_400 = ti.predict(random_f2, x_test)\n",
        "    # takes around 20min to calculate, that's why it is saved!\n",
        "# loading the preds and contributions\n",
        "with open('/content/drive/MyDrive/Yelp/random_forest/contributions_400.pkl', 'rb') as f:\n",
        "  contributions_400 = pickle.load(f)\n",
        "\n",
        "with open('/content/drive/MyDrive/Yelp/random_forest/pred_400.pkl', 'rb') as f:\n",
        "  preds_400 = pickle.load(f)"
      ],
      "execution_count": 247,
      "outputs": [
        {
          "output_type": "stream",
          "text": [
            "CPU times: user 265 ms, sys: 1.04 s, total: 1.31 s\n",
            "Wall time: 2.75 s\n"
          ],
          "name": "stdout"
        }
      ]
    },
    {
      "cell_type": "code",
      "metadata": {
        "colab": {
          "base_uri": "https://localhost:8080/"
        },
        "id": "nM01OlVw_azG",
        "outputId": "efd50751-6895-4085-ec9d-e2eed1de882f"
      },
      "source": [
        "# number of reviews, and label array | number of reviews, number of features, array for each feature in each review\n",
        "print(preds_400.shape, contributions_400.shape)"
      ],
      "execution_count": 248,
      "outputs": [
        {
          "output_type": "stream",
          "text": [
            "(2599, 2) (2599, 16563, 2)\n"
          ],
          "name": "stdout"
        }
      ]
    },
    {
      "cell_type": "code",
      "metadata": {
        "id": "dPX0uy77S4Sr"
      },
      "source": [
        "import pickle\n",
        "# saving the pred, bias and contributions of RF models\n",
        "with open('/content/drive/MyDrive/Yelp/random_forest/pred_1000.pkl', 'wb') as f:\n",
        "  pickle.dump(preds_1000, f)\n",
        "with open('/content/drive/MyDrive/Yelp/random_forest/bias_1000.pkl', 'wb') as f:\n",
        "  pickle.dump(bias_1000, f)\n",
        "with open('/content/drive/MyDrive/Yelp/random_forest/contributions_1000.pkl', 'wb') as f:\n",
        "  pickle.dump(contributions_1000, f)\n",
        "\n",
        "with open('/content/drive/MyDrive/Yelp/random_forest/pred_400.pkl', 'wb') as f:\n",
        "  pickle.dump(preds_400, f)\n",
        "with open('/content/drive/MyDrive/Yelp/random_forest/bias_400.pkl', 'wb') as f:\n",
        "  pickle.dump(bias_400, f)\n",
        "with open('/content/drive/MyDrive/Yelp/random_forest/contributions_400.pkl', 'wb') as f:\n",
        "  pickle.dump(contributions_400, f)\n"
      ],
      "execution_count": 246,
      "outputs": []
    },
    {
      "cell_type": "markdown",
      "metadata": {
        "id": "7AaADCZZ9A4I"
      },
      "source": [
        "## Analyzing with contributions"
      ]
    },
    {
      "cell_type": "markdown",
      "metadata": {
        "id": "4DUgnKNBPz5w"
      },
      "source": [
        "### function for analyzing contributions"
      ]
    },
    {
      "cell_type": "code",
      "metadata": {
        "id": "AAYrJXV-Pfxf"
      },
      "source": [
        "import random\n",
        "def present_sample_review(index, original_df, pred_labels, clean_text=True):\n",
        "  \"\"\"\n",
        "  pred_label is an array\n",
        "  original df has the columns: label and clean_text/ text\n",
        "\n",
        "  \"\"\"\n",
        "  print(\"Selected Sample     : %d\"%index)\n",
        "  print(\"Actual Target Value : %s\"%original_df.label[index])\n",
        "  print(\"Predicted Value     : %s\"%np.argmax(pred_labels[index]))\n",
        "  if clean_text == True:\n",
        "    print(\"\" + \"\\nThe review is: \" + \"\\n\" + original_df.clean_text[index])\n",
        "    print('' + '\\nThe review has a length of ' + str(len(original_df.clean_text[index].strip().split(\" \"))) + ' words.')\n",
        "  else:\n",
        "    print(\"\" + \"\\nThe review is: \" + \"\\n\" + original_df.text[index])\n",
        "    print('' + '\\nThe review has a length of ' + str(len(original_df.text[index].strip().split(\" \"))) + ' words.')\n",
        "\n",
        "#print(\"Actual Target Value                      : %s\"%y_test[0])\n",
        "#print(\"Target Value As Per Treeinterpreter      : %s\"%np.argmax(preds_400[0]))\n"
      ],
      "execution_count": 31,
      "outputs": []
    },
    {
      "cell_type": "code",
      "metadata": {
        "id": "pRQdrofXbNGo"
      },
      "source": [
        "def contributions_analysis(original_df, pred_labels, input_ids, features_df, contributions, print_analysis=True, clean_text=True, index=None):\n",
        "  \"\"\"\n",
        "  contributions is an array\n",
        "  clean_text=None\n",
        "\n",
        "  print_analysis can be:\n",
        "    -True (prints both negative and positive)\n",
        "    -False (just return dictionaries or lists)\n",
        "    -negative (prins only negative contributions)\n",
        "    -positive (prints only positive contributions)\n",
        "\n",
        "Returns 2 dictionaries with the words as the keys and the contributions as values.\n",
        "  \"\"\"\n",
        "  if index == None:\n",
        "    review = random.randint(1, len(original_df))\n",
        "    print(\"Predictions for random forest 1000 of 2 sample leaves and for a random review\")\n",
        "  else: \n",
        "    review = index\n",
        "    print(\"Predictions for random forest 1000 of 2 sample leaves and for the review #\" + str(review))\n",
        "  \n",
        "  present_sample_review(review, original_df, pred_labels, clean_text)\n",
        "\n",
        "  #extracting only the relevant ids index. the ones that the observed review has\n",
        "  review_ids = list(features_df[features_df['ids'].isin(input_ids[review])].index) \n",
        "  \n",
        "  print('' + \"\\nFeature contributions:\")\n",
        "  # creating 2 dictionaries, one for the negative and other for the positive contributions\n",
        "  negative = {}\n",
        "  positive = {}\n",
        "  for i in review_ids:\n",
        "    c = contributions[review][i] #contributions for the specific id on the observed review\n",
        "    feature = features_df['words'][i] \n",
        "    m = np.argmax(c) #this converts the array numbers into a label\n",
        "  # if the label is negative:\n",
        "    if m == 0: \n",
        "      negative[feature] = list(c)\n",
        "    else:\n",
        "      positive[feature] = list(c)\n",
        "\n",
        "  def print_negative():\n",
        "    print(''+ '\\nThe ' + str(len(negative)) + ' contributions for negative are: ')\n",
        "    for key, value in sorted(negative.items(), key=lambda item: item[1], reverse=True): #descending\n",
        "      print(key, value[1])\n",
        "  \n",
        "  def print_positive():\n",
        "    print(''+ '\\nThe ' + str(len(positive)) + ' contributions for positive are: ')\n",
        "    for key, value in sorted(positive.items(), key=lambda item: item[1]): #ascending\n",
        "      print(key, value[1])\n",
        "\n",
        "  if print_analysis == True:\n",
        "    print_negative()\n",
        "    print_positive()\n",
        "  elif print_analysis == 'negative':\n",
        "    print_negative()\n",
        "    print(''+ '\\nAnd there are ' + str(len(positive)) + ' contributions for positive. ')\n",
        "  elif print_analysis == 'positive':\n",
        "    print_positive()\n",
        "    print(''+ '\\nAnd there are ' + str(len(negative)) + ' contributions for negative. ')\n",
        "  elif print_analysis == False:\n",
        "    print('There are ' + str(len(negative)) + ' contributions for negative. ')\n",
        "    print('There are ' + str(len(positive)) + ' contributions for positive. ')\n",
        "  return negative, positive"
      ],
      "execution_count": 176,
      "outputs": []
    },
    {
      "cell_type": "code",
      "metadata": {
        "id": "SuScP-6A99Pq"
      },
      "source": [
        "def print_negative():\n",
        "  print(''+ '\\nThe ' + str(len(negative)) + ' contributions for negative are: ')\n",
        "  print(negative)\n",
        "\n",
        "def print_positive():\n",
        "  print(''+ '\\nThe ' + str(len(positive)) + ' contributions for positive are: ')\n",
        "  print(positive)"
      ],
      "execution_count": 187,
      "outputs": []
    },
    {
      "cell_type": "code",
      "metadata": {
        "id": "NusQPIByqnLA"
      },
      "source": [
        "def contributions_analysis2(original_df, pred_labels, input_ids, features_df, contributions, print_analysis=True, clean_text=True, index=None):\n",
        "  \"\"\"\n",
        "  contributions is an array\n",
        "  clean_text=None\n",
        "\n",
        "  print_analysis can be:\n",
        "    -True (prints both negative and positive)\n",
        "    -False (just return dictionaries or lists)\n",
        "    -negative (prins only negative contributions)\n",
        "    -positive (prints only positive contributions)\n",
        "\n",
        "Returns 2 dictionaries with the words as the keys and the contributions as values.\n",
        "  \"\"\"\n",
        "  if index == None:\n",
        "    review = random.randint(1, len(original_df))\n",
        "    print(\"Predictions for random forest 1000 of 2 sample leaves and for a random review\")\n",
        "  else: \n",
        "    review = index\n",
        "    print(\"Predictions for random forest 1000 of 2 sample leaves and for the review #\" + str(review))\n",
        "  \n",
        "  present_sample_review(review, original_df, pred_labels, clean_text)\n",
        "\n",
        "  #extracting only the relevant ids index. the ones that the observed review has\n",
        "  review_ids = list(features_df[features_df['ids'].isin(input_ids[review])].index) \n",
        "  \n",
        "  print('' + \"\\nFeature contributions:\")\n",
        "  # creating a dictionary of the contributions for the specific id on the observed review\n",
        "  contribs = {}\n",
        "  for i in review_ids:\n",
        "    c = contributions[review][i] \n",
        "    feature = features_df['words'][i] \n",
        "    contribs[feature] = list(c)\n",
        "  \n",
        "  # creating a dataframe out of it \n",
        "  contrib_df = pd.DataFrame(data=contribs.values(), index = contribs.keys(), columns=[\"negative\", \"positive\"])\n",
        "  \n",
        "  #obtaining the negative and positive contributions\n",
        "  negative = contrib_df[contrib_df['positive'] <= 0].sort_values(by=['positive']) #ascending positive\n",
        "  positive = contrib_df[contrib_df['positive'] > 0].sort_values(by=['positive'], ascending=False) #descending positive\n",
        "\n",
        "  # determining what to print \n",
        "  if print_analysis == True:\n",
        "    print_negative()\n",
        "    print_positive()\n",
        "  elif print_analysis == 'negative':\n",
        "    print_negative()\n",
        "    print(''+ '\\nAnd there are ' + str(len(positive)) + ' contributions for positive. ')\n",
        "  elif print_analysis == 'positive':\n",
        "    print_positive()\n",
        "    print(''+ '\\nAnd there are ' + str(len(negative)) + ' contributions for negative. ')\n",
        "  elif print_analysis == False:\n",
        "    print('There are ' + str(len(negative)) + ' contributions for negative. ')\n",
        "    print('There are ' + str(len(positive)) + ' contributions for positive. ')\n",
        "\n",
        "  # inserting the predicted label at the end\n",
        "  prediction = contrib_df[[\"negative\", \"positive\"]].sum()\n",
        "  contrib_df.loc[\"PREDICTION\"] = np.argmax(prediction)\n",
        "\n",
        "  return contrib_df"
      ],
      "execution_count": 188,
      "outputs": []
    },
    {
      "cell_type": "code",
      "metadata": {
        "colab": {
          "base_uri": "https://localhost:8080/"
        },
        "id": "KRT7Qj5ArbVs",
        "outputId": "227f254f-ecfd-479b-eceb-020416df2d8e"
      },
      "source": [
        "print(contrib_df[contrib_df['positive'] <= 0].sort_values(by=['positive']))"
      ],
      "execution_count": 167,
      "outputs": [
        {
          "output_type": "stream",
          "text": [
            "            negative  positive\n",
            "dirty       0.094578 -0.094578\n",
            "wouldn      0.055609 -0.055609\n",
            "sucks       0.054107 -0.054107\n",
            "driver      0.013504 -0.013504\n",
            "hotel       0.009854 -0.009854\n",
            "mention     0.000883 -0.000883\n",
            "killed      0.000627 -0.000627\n",
            "drunk       0.000624 -0.000624\n",
            "[CLS]       0.000000  0.000000\n",
            "[SEP]       0.000000  0.000000\n",
            "freak       0.000000  0.000000\n",
            "PREDICTION  0.000000  0.000000\n"
          ],
          "name": "stdout"
        }
      ]
    },
    {
      "cell_type": "markdown",
      "metadata": {
        "id": "u-u-ptNWVvX0"
      },
      "source": [
        "## running the analysis"
      ]
    },
    {
      "cell_type": "code",
      "metadata": {
        "id": "IOJ3paybLo1U"
      },
      "source": [
        "with open('/content/drive/MyDrive/Yelp/model_128_/train_ids_128.pkl', 'rb') as f:\n",
        "    train_ids = pickle.load(f)\n",
        "\n",
        "with open('/content/drive/MyDrive/Yelp/model_128_/test_ids_128.pkl', 'rb') as d:\n",
        "    test_ids = pickle.load(d)"
      ],
      "execution_count": 38,
      "outputs": []
    },
    {
      "cell_type": "code",
      "metadata": {
        "colab": {
          "base_uri": "https://localhost:8080/",
          "height": 111
        },
        "id": "vmusHlrg_c0x",
        "outputId": "dc1389ea-7111-452a-e4a5-c722e87d1f27"
      },
      "source": [
        "test_df.head(2)"
      ],
      "execution_count": 44,
      "outputs": [
        {
          "output_type": "execute_result",
          "data": {
            "text/html": [
              "<div>\n",
              "<style scoped>\n",
              "    .dataframe tbody tr th:only-of-type {\n",
              "        vertical-align: middle;\n",
              "    }\n",
              "\n",
              "    .dataframe tbody tr th {\n",
              "        vertical-align: top;\n",
              "    }\n",
              "\n",
              "    .dataframe thead th {\n",
              "        text-align: right;\n",
              "    }\n",
              "</style>\n",
              "<table border=\"1\" class=\"dataframe\">\n",
              "  <thead>\n",
              "    <tr style=\"text-align: right;\">\n",
              "      <th></th>\n",
              "      <th>text</th>\n",
              "      <th>label</th>\n",
              "      <th>categories</th>\n",
              "      <th>clean_text</th>\n",
              "    </tr>\n",
              "  </thead>\n",
              "  <tbody>\n",
              "    <tr>\n",
              "      <th>0</th>\n",
              "      <td>Positives: \\n- good location \\n- staff reasona...</td>\n",
              "      <td>0</td>\n",
              "      <td>Nail Salons, Beauty &amp; Spas, Day Spas</td>\n",
              "      <td>positives good location staff reasonably frien...</td>\n",
              "    </tr>\n",
              "    <tr>\n",
              "      <th>1</th>\n",
              "      <td>Very clean hotel.jacuzzi is very huge,shower a...</td>\n",
              "      <td>0</td>\n",
              "      <td>Wedding Planning, Event Planning &amp; Services, B...</td>\n",
              "      <td>clean hotel jacuzzi huge shower bathroom huge ...</td>\n",
              "    </tr>\n",
              "  </tbody>\n",
              "</table>\n",
              "</div>"
            ],
            "text/plain": [
              "                                                text  ...                                         clean_text\n",
              "0  Positives: \\n- good location \\n- staff reasona...  ...  positives good location staff reasonably frien...\n",
              "1  Very clean hotel.jacuzzi is very huge,shower a...  ...  clean hotel jacuzzi huge shower bathroom huge ...\n",
              "\n",
              "[2 rows x 4 columns]"
            ]
          },
          "metadata": {
            "tags": []
          },
          "execution_count": 44
        }
      ]
    },
    {
      "cell_type": "code",
      "metadata": {
        "colab": {
          "base_uri": "https://localhost:8080/"
        },
        "id": "KEt1UPVgzqxj",
        "outputId": "b04c8f80-0299-4f52-90dc-30c87e7b4d20"
      },
      "source": [
        "test_df['categories'].head() "
      ],
      "execution_count": 48,
      "outputs": [
        {
          "output_type": "execute_result",
          "data": {
            "text/plain": [
              "0                 Nail Salons, Beauty & Spas, Day Spas\n",
              "1    Wedding Planning, Event Planning & Services, B...\n",
              "2                   Home Health Care, Health & Medical\n",
              "3                                   Food, Coffee & Tea\n",
              "4    Education, Local Services, Child Care & Day Ca...\n",
              "Name: categories, dtype: object"
            ]
          },
          "metadata": {
            "tags": []
          },
          "execution_count": 48
        }
      ]
    },
    {
      "cell_type": "code",
      "metadata": {
        "colab": {
          "base_uri": "https://localhost:8080/"
        },
        "id": "9yo0rb7XMwuY",
        "outputId": "63d4e166-5719-410d-80a8-8dcdbdcfe25c"
      },
      "source": [
        "# .apply(lambda x : len(x.strip().split(\" \")))\n",
        "len(test_df.clean_text[0].strip().split(\" \"))"
      ],
      "execution_count": 46,
      "outputs": [
        {
          "output_type": "execute_result",
          "data": {
            "text/plain": [
              "66"
            ]
          },
          "metadata": {
            "tags": []
          },
          "execution_count": 46
        }
      ]
    },
    {
      "cell_type": "code",
      "metadata": {
        "colab": {
          "base_uri": "https://localhost:8080/"
        },
        "id": "rXNdaWBdL9kb",
        "outputId": "bf14c733-16a1-4703-8b51-2ff05289a9d0"
      },
      "source": [
        "len(list(feature_importance_1000[feature_importance_1000['ids'].isin(test_ids[0])].index))"
      ],
      "execution_count": 47,
      "outputs": [
        {
          "output_type": "execute_result",
          "data": {
            "text/plain": [
              "71"
            ]
          },
          "metadata": {
            "tags": []
          },
          "execution_count": 47
        }
      ]
    },
    {
      "cell_type": "code",
      "metadata": {
        "colab": {
          "base_uri": "https://localhost:8080/"
        },
        "id": "DjfnmpeUQyTj",
        "outputId": "a4df2acc-1f2b-4e41-d5cb-63812263911d"
      },
      "source": [
        "len(list(feature_importance_400[feature_importance_400['ids'].isin(test_ids[0])].index))"
      ],
      "execution_count": 52,
      "outputs": [
        {
          "output_type": "execute_result",
          "data": {
            "text/plain": [
              "71"
            ]
          },
          "metadata": {
            "tags": []
          },
          "execution_count": 52
        }
      ]
    },
    {
      "cell_type": "code",
      "metadata": {
        "colab": {
          "base_uri": "https://localhost:8080/"
        },
        "id": "mcqd4Q8PQpqP",
        "outputId": "09026c39-8351-4669-a68c-8d993d85aa2d"
      },
      "source": [
        "rev0_negative, rev0_positive = contributions_analysis(test_df, preds_400, test_ids, feature_importance_400, contributions_400, print_analysis=False, index=0)"
      ],
      "execution_count": 70,
      "outputs": [
        {
          "output_type": "stream",
          "text": [
            "Predictions for random forest 1000 of 2 sample leaves and for the review #0\n",
            "Selected Sample     : 0\n",
            "Actual Target Value : 0\n",
            "Predicted Value     : 0\n",
            "\n",
            "The review is: \n",
            "positives good location staff reasonably friendly negatives dry manis pedis advertise website update site base coat coat blobbed attention coat cover color nail nails filed totally random lenths shapes shorter end fingers longer pedi woman wasn paying attention ended filing skin bled cute tea menu offer definitely expensive getting answer phone pedi station isn comfortable slightly padded bench notes staff looks surprised sure come ask work\n",
            "\n",
            "The review has a length of 66 words.\n",
            "\n",
            "Feature contributions:\n",
            "There are 57 contributions for negative. \n",
            "There are 14 contributions for positive. \n"
          ],
          "name": "stdout"
        }
      ]
    },
    {
      "cell_type": "code",
      "metadata": {
        "colab": {
          "base_uri": "https://localhost:8080/"
        },
        "id": "5xw4UUjWPu76",
        "outputId": "ff177f62-9afc-4019-c8c1-58c77e01e7b5"
      },
      "source": [
        "rev0_neg, rev0_pos = contributions_analysis(test_df, preds_1000, test_ids, feature_importance_1000, contributions_1000, print_analysis= False, index=0)"
      ],
      "execution_count": 71,
      "outputs": [
        {
          "output_type": "stream",
          "text": [
            "Predictions for random forest 1000 of 2 sample leaves and for the review #0\n",
            "Selected Sample     : 0\n",
            "Actual Target Value : 0\n",
            "Predicted Value     : 0\n",
            "\n",
            "The review is: \n",
            "positives good location staff reasonably friendly negatives dry manis pedis advertise website update site base coat coat blobbed attention coat cover color nail nails filed totally random lenths shapes shorter end fingers longer pedi woman wasn paying attention ended filing skin bled cute tea menu offer definitely expensive getting answer phone pedi station isn comfortable slightly padded bench notes staff looks surprised sure come ask work\n",
            "\n",
            "The review has a length of 66 words.\n",
            "\n",
            "Feature contributions:\n",
            "There are 52 contributions for negative. \n",
            "There are 19 contributions for positive. \n"
          ],
          "name": "stdout"
        }
      ]
    },
    {
      "cell_type": "code",
      "metadata": {
        "colab": {
          "base_uri": "https://localhost:8080/"
        },
        "id": "nWvtlvN5Xf4p",
        "outputId": "5479b760-1e11-4f48-dd07-ed1b5e13f386"
      },
      "source": [
        "%%time\n",
        "n_1639, p_1639 = contributions_analysis(test_df, preds_1000, test_ids, feature_importance_1000, contributions_1000, print_analysis = False, index=1639)"
      ],
      "execution_count": 179,
      "outputs": [
        {
          "output_type": "stream",
          "text": [
            "Predictions for random forest 1000 of 2 sample leaves and for the review #1639\n",
            "Selected Sample     : 1639\n",
            "Actual Target Value : 0\n",
            "Predicted Value     : 0\n",
            "\n",
            "The review is: \n",
            "freakin coffee hotel dirty service sucks bar mention coffee wouldn recommend hotel drunk driver killed parents\n",
            "\n",
            "The review has a length of 16 words.\n",
            "\n",
            "Feature contributions:\n",
            "There are 11 contributions for negative. \n",
            "There are 7 contributions for positive. \n",
            "CPU times: user 4.93 ms, sys: 31 µs, total: 4.96 ms\n",
            "Wall time: 4.58 ms\n"
          ],
          "name": "stdout"
        }
      ]
    },
    {
      "cell_type": "code",
      "metadata": {
        "colab": {
          "base_uri": "https://localhost:8080/"
        },
        "id": "pHR730Ta7znb",
        "outputId": "376bada4-401a-43ef-95b5-79d174c126b9"
      },
      "source": [
        "%%time\n",
        "contribs_1639 = contributions_analysis2(test_df, preds_1000, test_ids, feature_importance_1000, contributions_1000, print_analysis= False, index=1639)"
      ],
      "execution_count": 178,
      "outputs": [
        {
          "output_type": "stream",
          "text": [
            "Predictions for random forest 1000 of 2 sample leaves and for the review #1639\n",
            "Selected Sample     : 1639\n",
            "Actual Target Value : 0\n",
            "Predicted Value     : 0\n",
            "\n",
            "The review is: \n",
            "freakin coffee hotel dirty service sucks bar mention coffee wouldn recommend hotel drunk driver killed parents\n",
            "\n",
            "The review has a length of 16 words.\n",
            "\n",
            "Feature contributions:\n",
            "There are 11 contributions for negative. \n",
            "There are 7 contributions for positive. \n",
            "CPU times: user 13.5 ms, sys: 1.02 ms, total: 14.5 ms\n",
            "Wall time: 17.2 ms\n"
          ],
          "name": "stdout"
        }
      ]
    },
    {
      "cell_type": "code",
      "metadata": {
        "colab": {
          "base_uri": "https://localhost:8080/"
        },
        "id": "TOQ40p_qQ5ce",
        "outputId": "201983d6-ac1c-447a-e4e1-c79d958acf20"
      },
      "source": [
        "#analyzing a random review\n",
        "%%time \n",
        "_, __ = contributions_analysis(test_df, preds_1000, test_ids, feature_importance_1000, contributions_1000, print_analysis=False)"
      ],
      "execution_count": 180,
      "outputs": [
        {
          "output_type": "stream",
          "text": [
            "Predictions for random forest 1000 of 2 sample leaves and for a random review\n",
            "Selected Sample     : 139\n",
            "Actual Target Value : 0\n",
            "Predicted Value     : 1\n",
            "\n",
            "The review is: \n",
            "thought going amazing got perm curls lasting long month curls gone scalp hurting lot perm gotten perms time actually hurt hair cut brought photos helpful recommend place wants japanese style\n",
            "\n",
            "The review has a length of 30 words.\n",
            "\n",
            "Feature contributions:\n",
            "There are 24 contributions for negative. \n",
            "There are 8 contributions for positive. \n",
            "CPU times: user 9.21 ms, sys: 980 µs, total: 10.2 ms\n",
            "Wall time: 13.6 ms\n"
          ],
          "name": "stdout"
        }
      ]
    },
    {
      "cell_type": "code",
      "metadata": {
        "colab": {
          "base_uri": "https://localhost:8080/"
        },
        "id": "Ue65F0849AcE",
        "outputId": "692ee55d-7805-4def-edf9-eb74b9ea77eb"
      },
      "source": [
        "%%time\n",
        "z = contributions_analysis2(test_df, preds_1000, test_ids, feature_importance_1000, contributions_1000, print_analysis=False)"
      ],
      "execution_count": 183,
      "outputs": [
        {
          "output_type": "stream",
          "text": [
            "Predictions for random forest 1000 of 2 sample leaves and for a random review\n",
            "Selected Sample     : 179\n",
            "Actual Target Value : 1\n",
            "Predicted Value     : 1\n",
            "\n",
            "The review is: \n",
            "alight nightlife spot good bad arrive hang spend night floating eating talking nightlife routine good female bartender patio little bar area super friendly great good attitude helped girls drink suggestions liked bad female bartender main bar area mix drinks couldn long island iced teas service skills angry life general avoided main bar rounds dismay tips music decent atmosphere cool like good spot try dinner time outdoor patio good furniture hang friends\n",
            "\n",
            "The review has a length of 71 words.\n",
            "\n",
            "Feature contributions:\n",
            "There are 37 contributions for negative. \n",
            "There are 24 contributions for positive. \n",
            "CPU times: user 12.6 ms, sys: 1.02 ms, total: 13.6 ms\n",
            "Wall time: 14.3 ms\n"
          ],
          "name": "stdout"
        }
      ]
    },
    {
      "cell_type": "code",
      "metadata": {
        "colab": {
          "base_uri": "https://localhost:8080/"
        },
        "id": "kNuNmarS-EU3",
        "outputId": "5304f210-9617-48ab-a8e5-9eb874a90020"
      },
      "source": [
        "%%time\n",
        "z = contributions_analysis2(test_df, preds_1000, test_ids, feature_importance_1000, contributions_1000, print_analysis=False)"
      ],
      "execution_count": 194,
      "outputs": [
        {
          "output_type": "stream",
          "text": [
            "Predictions for random forest 1000 of 2 sample leaves and for a random review\n",
            "Selected Sample     : 670\n",
            "Actual Target Value : 1\n",
            "Predicted Value     : 0\n",
            "\n",
            "The review is: \n",
            "tried car came right order wasn ready said going valerie offered drink waited issues\n",
            "\n",
            "The review has a length of 14 words.\n",
            "\n",
            "Feature contributions:\n",
            "There are 12 contributions for negative. \n",
            "There are 5 contributions for positive. \n",
            "CPU times: user 7.99 ms, sys: 1.88 ms, total: 9.87 ms\n",
            "Wall time: 12.7 ms\n"
          ],
          "name": "stdout"
        }
      ]
    },
    {
      "cell_type": "code",
      "metadata": {
        "colab": {
          "base_uri": "https://localhost:8080/",
          "height": 419
        },
        "id": "ZC6LUEVR9GXx",
        "outputId": "527c26f7-a840-4a03-b367-5694a1e20d1c"
      },
      "source": [
        "z[z['positive'] <= 0].sort_values(by=['positive'])"
      ],
      "execution_count": 193,
      "outputs": [
        {
          "output_type": "execute_result",
          "data": {
            "text/html": [
              "<div>\n",
              "<style scoped>\n",
              "    .dataframe tbody tr th:only-of-type {\n",
              "        vertical-align: middle;\n",
              "    }\n",
              "\n",
              "    .dataframe tbody tr th {\n",
              "        vertical-align: top;\n",
              "    }\n",
              "\n",
              "    .dataframe thead th {\n",
              "        text-align: right;\n",
              "    }\n",
              "</style>\n",
              "<table border=\"1\" class=\"dataframe\">\n",
              "  <thead>\n",
              "    <tr style=\"text-align: right;\">\n",
              "      <th></th>\n",
              "      <th>negative</th>\n",
              "      <th>positive</th>\n",
              "    </tr>\n",
              "  </thead>\n",
              "  <tbody>\n",
              "    <tr>\n",
              "      <th>manager</th>\n",
              "      <td>0.048533</td>\n",
              "      <td>-0.048533</td>\n",
              "    </tr>\n",
              "    <tr>\n",
              "      <th>bad</th>\n",
              "      <td>0.032448</td>\n",
              "      <td>-0.032448</td>\n",
              "    </tr>\n",
              "    <tr>\n",
              "      <th>order</th>\n",
              "      <td>0.015199</td>\n",
              "      <td>-0.015199</td>\n",
              "    </tr>\n",
              "    <tr>\n",
              "      <th>arrived</th>\n",
              "      <td>0.013072</td>\n",
              "      <td>-0.013072</td>\n",
              "    </tr>\n",
              "    <tr>\n",
              "      <th>saying</th>\n",
              "      <td>0.012301</td>\n",
              "      <td>-0.012301</td>\n",
              "    </tr>\n",
              "    <tr>\n",
              "      <th>...</th>\n",
              "      <td>...</td>\n",
              "      <td>...</td>\n",
              "    </tr>\n",
              "    <tr>\n",
              "      <th>natural</th>\n",
              "      <td>0.000000</td>\n",
              "      <td>0.000000</td>\n",
              "    </tr>\n",
              "    <tr>\n",
              "      <th>club</th>\n",
              "      <td>0.000000</td>\n",
              "      <td>0.000000</td>\n",
              "    </tr>\n",
              "    <tr>\n",
              "      <th>[SEP]</th>\n",
              "      <td>0.000000</td>\n",
              "      <td>0.000000</td>\n",
              "    </tr>\n",
              "    <tr>\n",
              "      <th>shots</th>\n",
              "      <td>0.000000</td>\n",
              "      <td>0.000000</td>\n",
              "    </tr>\n",
              "    <tr>\n",
              "      <th>mojo</th>\n",
              "      <td>0.000000</td>\n",
              "      <td>0.000000</td>\n",
              "    </tr>\n",
              "  </tbody>\n",
              "</table>\n",
              "<p>64 rows × 2 columns</p>\n",
              "</div>"
            ],
            "text/plain": [
              "         negative  positive\n",
              "manager  0.048533 -0.048533\n",
              "bad      0.032448 -0.032448\n",
              "order    0.015199 -0.015199\n",
              "arrived  0.013072 -0.013072\n",
              "saying   0.012301 -0.012301\n",
              "...           ...       ...\n",
              "natural  0.000000  0.000000\n",
              "club     0.000000  0.000000\n",
              "[SEP]    0.000000  0.000000\n",
              "shots    0.000000  0.000000\n",
              "mojo     0.000000  0.000000\n",
              "\n",
              "[64 rows x 2 columns]"
            ]
          },
          "metadata": {
            "tags": []
          },
          "execution_count": 193
        }
      ]
    },
    {
      "cell_type": "code",
      "metadata": {
        "colab": {
          "base_uri": "https://localhost:8080/",
          "height": 824
        },
        "id": "l0fwjGBJ9h86",
        "outputId": "15ad5b83-1a18-4e30-b208-b4267e47e7a9"
      },
      "source": [
        "z[z['positive'] > 0].sort_values(by=['positive'], ascending=False)"
      ],
      "execution_count": 186,
      "outputs": [
        {
          "output_type": "execute_result",
          "data": {
            "text/html": [
              "<div>\n",
              "<style scoped>\n",
              "    .dataframe tbody tr th:only-of-type {\n",
              "        vertical-align: middle;\n",
              "    }\n",
              "\n",
              "    .dataframe tbody tr th {\n",
              "        vertical-align: top;\n",
              "    }\n",
              "\n",
              "    .dataframe thead th {\n",
              "        text-align: right;\n",
              "    }\n",
              "</style>\n",
              "<table border=\"1\" class=\"dataframe\">\n",
              "  <thead>\n",
              "    <tr style=\"text-align: right;\">\n",
              "      <th></th>\n",
              "      <th>negative</th>\n",
              "      <th>positive</th>\n",
              "    </tr>\n",
              "  </thead>\n",
              "  <tbody>\n",
              "    <tr>\n",
              "      <th>PREDICTION</th>\n",
              "      <td>1.000000</td>\n",
              "      <td>1.000000</td>\n",
              "    </tr>\n",
              "    <tr>\n",
              "      <th>friendly</th>\n",
              "      <td>-0.047454</td>\n",
              "      <td>0.047454</td>\n",
              "    </tr>\n",
              "    <tr>\n",
              "      <th>great</th>\n",
              "      <td>-0.045536</td>\n",
              "      <td>0.045536</td>\n",
              "    </tr>\n",
              "    <tr>\n",
              "      <th>spot</th>\n",
              "      <td>-0.019535</td>\n",
              "      <td>0.019535</td>\n",
              "    </tr>\n",
              "    <tr>\n",
              "      <th>atmosphere</th>\n",
              "      <td>-0.017749</td>\n",
              "      <td>0.017749</td>\n",
              "    </tr>\n",
              "    <tr>\n",
              "      <th>good</th>\n",
              "      <td>-0.009516</td>\n",
              "      <td>0.009516</td>\n",
              "    </tr>\n",
              "    <tr>\n",
              "      <th>little</th>\n",
              "      <td>-0.009319</td>\n",
              "      <td>0.009319</td>\n",
              "    </tr>\n",
              "    <tr>\n",
              "      <th>outdoor</th>\n",
              "      <td>-0.008517</td>\n",
              "      <td>0.008517</td>\n",
              "    </tr>\n",
              "    <tr>\n",
              "      <th>try</th>\n",
              "      <td>-0.006177</td>\n",
              "      <td>0.006177</td>\n",
              "    </tr>\n",
              "    <tr>\n",
              "      <th>cool</th>\n",
              "      <td>-0.005466</td>\n",
              "      <td>0.005466</td>\n",
              "    </tr>\n",
              "    <tr>\n",
              "      <th>super</th>\n",
              "      <td>-0.004940</td>\n",
              "      <td>0.004940</td>\n",
              "    </tr>\n",
              "    <tr>\n",
              "      <th>area</th>\n",
              "      <td>-0.004510</td>\n",
              "      <td>0.004510</td>\n",
              "    </tr>\n",
              "    <tr>\n",
              "      <th>patio</th>\n",
              "      <td>-0.003392</td>\n",
              "      <td>0.003392</td>\n",
              "    </tr>\n",
              "    <tr>\n",
              "      <th>liked</th>\n",
              "      <td>-0.003062</td>\n",
              "      <td>0.003062</td>\n",
              "    </tr>\n",
              "    <tr>\n",
              "      <th>dinner</th>\n",
              "      <td>-0.002448</td>\n",
              "      <td>0.002448</td>\n",
              "    </tr>\n",
              "    <tr>\n",
              "      <th>music</th>\n",
              "      <td>-0.002383</td>\n",
              "      <td>0.002383</td>\n",
              "    </tr>\n",
              "    <tr>\n",
              "      <th>tea</th>\n",
              "      <td>-0.002277</td>\n",
              "      <td>0.002277</td>\n",
              "    </tr>\n",
              "    <tr>\n",
              "      <th>friends</th>\n",
              "      <td>-0.001669</td>\n",
              "      <td>0.001669</td>\n",
              "    </tr>\n",
              "    <tr>\n",
              "      <th>helped</th>\n",
              "      <td>-0.000755</td>\n",
              "      <td>0.000755</td>\n",
              "    </tr>\n",
              "    <tr>\n",
              "      <th>girls</th>\n",
              "      <td>-0.000617</td>\n",
              "      <td>0.000617</td>\n",
              "    </tr>\n",
              "    <tr>\n",
              "      <th>##s</th>\n",
              "      <td>-0.000507</td>\n",
              "      <td>0.000507</td>\n",
              "    </tr>\n",
              "    <tr>\n",
              "      <th>[PAD]</th>\n",
              "      <td>-0.000473</td>\n",
              "      <td>0.000473</td>\n",
              "    </tr>\n",
              "    <tr>\n",
              "      <th>suggestions</th>\n",
              "      <td>-0.000364</td>\n",
              "      <td>0.000364</td>\n",
              "    </tr>\n",
              "    <tr>\n",
              "      <th>mix</th>\n",
              "      <td>-0.000284</td>\n",
              "      <td>0.000284</td>\n",
              "    </tr>\n",
              "    <tr>\n",
              "      <th>bar</th>\n",
              "      <td>-0.000031</td>\n",
              "      <td>0.000031</td>\n",
              "    </tr>\n",
              "  </tbody>\n",
              "</table>\n",
              "</div>"
            ],
            "text/plain": [
              "             negative  positive\n",
              "PREDICTION   1.000000  1.000000\n",
              "friendly    -0.047454  0.047454\n",
              "great       -0.045536  0.045536\n",
              "spot        -0.019535  0.019535\n",
              "atmosphere  -0.017749  0.017749\n",
              "good        -0.009516  0.009516\n",
              "little      -0.009319  0.009319\n",
              "outdoor     -0.008517  0.008517\n",
              "try         -0.006177  0.006177\n",
              "cool        -0.005466  0.005466\n",
              "super       -0.004940  0.004940\n",
              "area        -0.004510  0.004510\n",
              "patio       -0.003392  0.003392\n",
              "liked       -0.003062  0.003062\n",
              "dinner      -0.002448  0.002448\n",
              "music       -0.002383  0.002383\n",
              "tea         -0.002277  0.002277\n",
              "friends     -0.001669  0.001669\n",
              "helped      -0.000755  0.000755\n",
              "girls       -0.000617  0.000617\n",
              "##s         -0.000507  0.000507\n",
              "[PAD]       -0.000473  0.000473\n",
              "suggestions -0.000364  0.000364\n",
              "mix         -0.000284  0.000284\n",
              "bar         -0.000031  0.000031"
            ]
          },
          "metadata": {
            "tags": []
          },
          "execution_count": 186
        }
      ]
    },
    {
      "cell_type": "markdown",
      "metadata": {
        "id": "dUVI_eAFERHE"
      },
      "source": [
        "## More about contributions"
      ]
    },
    {
      "cell_type": "code",
      "metadata": {
        "id": "HnW8Gd8zDgqD",
        "colab": {
          "base_uri": "https://localhost:8080/"
        },
        "outputId": "c5772f26-63e9-447f-cb35-0612cf1da844"
      },
      "source": [
        "import random\n",
        "random_sample = random.randint(1, len(x_test))\n",
        "print(\"Selected Sample     : %d\"%random_sample)\n",
        "print(\"Actual Target Value : %s\"%y_test[random_sample])\n",
        "print(\"Predicted Value     : %s\"%np.argmax(preds_400[random_sample]))"
      ],
      "execution_count": 200,
      "outputs": [
        {
          "output_type": "stream",
          "text": [
            "Selected Sample     : 462\n",
            "Actual Target Value : 1\n",
            "Predicted Value     : 1\n"
          ],
          "name": "stdout"
        }
      ]
    },
    {
      "cell_type": "code",
      "metadata": {
        "id": "o4geF1EWH8Q-"
      },
      "source": [
        "def create_contrbutions_df(contributions, review, features_df, input_ids):\n",
        "  #extracting only the relevant ids index. the ones that the observed review has\n",
        "  review_ids = list(features_df[features_df['ids'].isin(input_ids[review])].index) \n",
        "\n",
        "  #creating a dictionary of the contributions for the specific id on the observed review\n",
        "  contribs = {}\n",
        "  for i in review_ids:\n",
        "    c = contributions[review][i] \n",
        "    feature = features_df['words'][i] \n",
        "    contribs[feature] = list(c)\n",
        "  \n",
        "  # creating a dataframe out of it \n",
        "  contrib_df = pd.DataFrame(data=contribs.values(), index = contribs.keys(), columns=[\"negative\", \"positive\"])\n",
        "  # inserting the predicted label at the end\n",
        "  prediction = contrib_df[[\"negative\", \"positive\"]].sum()\n",
        "  contrib_df.loc[\"PREDICTION\"] = np.argmax(prediction)\n",
        "  return contrib_df\n"
      ],
      "execution_count": 240,
      "outputs": []
    },
    {
      "cell_type": "code",
      "metadata": {
        "colab": {
          "base_uri": "https://localhost:8080/"
        },
        "id": "fA2IZv0EKVt_",
        "outputId": "e9fa3fd0-32e2-4929-d272-d3b7aaf00543"
      },
      "source": [
        "# from: https://coderzcolumn.com/tutorials/machine-learning/treeinterpreter-interpreting-tree-based-models-prediction-of-individual-sample\n",
        "%%time\n",
        "contrib_df2 = create_contrbutions_df(contributions_400, random_sample, feature_importance_400, test_ids)\n",
        "contrib_df2"
      ],
      "execution_count": 241,
      "outputs": [
        {
          "output_type": "stream",
          "text": [
            "CPU times: user 8.44 ms, sys: 14 µs, total: 8.45 ms\n",
            "Wall time: 14 ms\n"
          ],
          "name": "stdout"
        }
      ]
    },
    {
      "cell_type": "code",
      "metadata": {
        "colab": {
          "base_uri": "https://localhost:8080/"
        },
        "id": "t3TSpmahKWS8",
        "outputId": "a6e12686-e05c-4265-9fb6-d93f5ba77d43"
      },
      "source": [
        "len(contrib_df2[contrib_df['positive'] > 0].sort_values(by=['positive'], ascending=False)) #len positive"
      ],
      "execution_count": 242,
      "outputs": [
        {
          "output_type": "execute_result",
          "data": {
            "text/plain": [
              "38"
            ]
          },
          "metadata": {
            "tags": []
          },
          "execution_count": 242
        }
      ]
    },
    {
      "cell_type": "code",
      "metadata": {
        "colab": {
          "base_uri": "https://localhost:8080/"
        },
        "id": "a2VCVpP4Kb-1",
        "outputId": "6888e3d0-6d9e-41fc-8e9c-d6702cdf9f6b"
      },
      "source": [
        "len(contrib_df2[contrib_df['positive'] <= 0].sort_values(by=['positive'])) #len negative"
      ],
      "execution_count": 243,
      "outputs": [
        {
          "output_type": "execute_result",
          "data": {
            "text/plain": [
              "37"
            ]
          },
          "metadata": {
            "tags": []
          },
          "execution_count": 243
        }
      ]
    },
    {
      "cell_type": "code",
      "metadata": {
        "colab": {
          "base_uri": "https://localhost:8080/"
        },
        "id": "BWEObWZ0J0Ib",
        "outputId": "29940f9a-86cd-4f84-e838-115357f2e2e3"
      },
      "source": [
        "%%time\n",
        "contri_462 = contributions_analysis2(test_df, preds_400, test_ids, feature_importance_400, contributions_400, print_analysis=False, index=462)"
      ],
      "execution_count": 211,
      "outputs": [
        {
          "output_type": "stream",
          "text": [
            "Predictions for random forest 1000 of 2 sample leaves and for the review #462\n",
            "Selected Sample     : 462\n",
            "Actual Target Value : 1\n",
            "Predicted Value     : 1\n",
            "\n",
            "The review is: \n",
            "went sunday dinner kids excited going bobby flay restaurant wanted squid appetizer thought fishy apple blue cheese salad appetizer good small mains fabulous venison tender rich sauce pork tenderloin spicy rub seafood ciappino tipper prawns scallops grouper mussels garlic sweet potato tamale good sides baby carrots mashed potatoes good especially carrots reason stars appetizers good rest good value\n",
            "\n",
            "The review has a length of 58 words.\n",
            "\n",
            "Feature contributions:\n",
            "There are 37 contributions for negative. \n",
            "There are 37 contributions for positive. \n",
            "CPU times: user 14.2 ms, sys: 42 µs, total: 14.2 ms\n",
            "Wall time: 19.9 ms\n"
          ],
          "name": "stdout"
        }
      ]
    },
    {
      "cell_type": "code",
      "metadata": {
        "colab": {
          "base_uri": "https://localhost:8080/",
          "height": 328
        },
        "id": "kXbXKlj4IwXf",
        "outputId": "bff5f9d6-8d96-4dd1-e85a-fbc42eb6e53d"
      },
      "source": [
        "contrib_df2[contrib_df2['positive'] > 0].sort_values(by=['positive'], ascending=False)[1:10]"
      ],
      "execution_count": 244,
      "outputs": [
        {
          "output_type": "execute_result",
          "data": {
            "text/html": [
              "<div>\n",
              "<style scoped>\n",
              "    .dataframe tbody tr th:only-of-type {\n",
              "        vertical-align: middle;\n",
              "    }\n",
              "\n",
              "    .dataframe tbody tr th {\n",
              "        vertical-align: top;\n",
              "    }\n",
              "\n",
              "    .dataframe thead th {\n",
              "        text-align: right;\n",
              "    }\n",
              "</style>\n",
              "<table border=\"1\" class=\"dataframe\">\n",
              "  <thead>\n",
              "    <tr style=\"text-align: right;\">\n",
              "      <th></th>\n",
              "      <th>negative</th>\n",
              "      <th>positive</th>\n",
              "    </tr>\n",
              "  </thead>\n",
              "  <tbody>\n",
              "    <tr>\n",
              "      <th>good</th>\n",
              "      <td>-0.024474</td>\n",
              "      <td>0.024474</td>\n",
              "    </tr>\n",
              "    <tr>\n",
              "      <th>fabulous</th>\n",
              "      <td>-0.015700</td>\n",
              "      <td>0.015700</td>\n",
              "    </tr>\n",
              "    <tr>\n",
              "      <th>sweet</th>\n",
              "      <td>-0.015132</td>\n",
              "      <td>0.015132</td>\n",
              "    </tr>\n",
              "    <tr>\n",
              "      <th>pork</th>\n",
              "      <td>-0.014186</td>\n",
              "      <td>0.014186</td>\n",
              "    </tr>\n",
              "    <tr>\n",
              "      <th>spicy</th>\n",
              "      <td>-0.014072</td>\n",
              "      <td>0.014072</td>\n",
              "    </tr>\n",
              "    <tr>\n",
              "      <th>especially</th>\n",
              "      <td>-0.008964</td>\n",
              "      <td>0.008964</td>\n",
              "    </tr>\n",
              "    <tr>\n",
              "      <th>tender</th>\n",
              "      <td>-0.008526</td>\n",
              "      <td>0.008526</td>\n",
              "    </tr>\n",
              "    <tr>\n",
              "      <th>baby</th>\n",
              "      <td>-0.004453</td>\n",
              "      <td>0.004453</td>\n",
              "    </tr>\n",
              "    <tr>\n",
              "      <th>app</th>\n",
              "      <td>-0.004352</td>\n",
              "      <td>0.004352</td>\n",
              "    </tr>\n",
              "  </tbody>\n",
              "</table>\n",
              "</div>"
            ],
            "text/plain": [
              "            negative  positive\n",
              "good       -0.024474  0.024474\n",
              "fabulous   -0.015700  0.015700\n",
              "sweet      -0.015132  0.015132\n",
              "pork       -0.014186  0.014186\n",
              "spicy      -0.014072  0.014072\n",
              "especially -0.008964  0.008964\n",
              "tender     -0.008526  0.008526\n",
              "baby       -0.004453  0.004453\n",
              "app        -0.004352  0.004352"
            ]
          },
          "metadata": {
            "tags": []
          },
          "execution_count": 244
        }
      ]
    },
    {
      "cell_type": "code",
      "metadata": {
        "colab": {
          "base_uri": "https://localhost:8080/",
          "height": 359
        },
        "id": "iUXkUB3hKrR0",
        "outputId": "493e3d3e-83be-414b-af00-636a59356dcf"
      },
      "source": [
        "contrib_df2[contrib_df2['positive'] <= 0].sort_values(by=['positive'])[:10]"
      ],
      "execution_count": 245,
      "outputs": [
        {
          "output_type": "execute_result",
          "data": {
            "text/html": [
              "<div>\n",
              "<style scoped>\n",
              "    .dataframe tbody tr th:only-of-type {\n",
              "        vertical-align: middle;\n",
              "    }\n",
              "\n",
              "    .dataframe tbody tr th {\n",
              "        vertical-align: top;\n",
              "    }\n",
              "\n",
              "    .dataframe thead th {\n",
              "        text-align: right;\n",
              "    }\n",
              "</style>\n",
              "<table border=\"1\" class=\"dataframe\">\n",
              "  <thead>\n",
              "    <tr style=\"text-align: right;\">\n",
              "      <th></th>\n",
              "      <th>negative</th>\n",
              "      <th>positive</th>\n",
              "    </tr>\n",
              "  </thead>\n",
              "  <tbody>\n",
              "    <tr>\n",
              "      <th>wanted</th>\n",
              "      <td>0.035460</td>\n",
              "      <td>-0.035460</td>\n",
              "    </tr>\n",
              "    <tr>\n",
              "      <th>went</th>\n",
              "      <td>0.021359</td>\n",
              "      <td>-0.021359</td>\n",
              "    </tr>\n",
              "    <tr>\n",
              "      <th>stars</th>\n",
              "      <td>0.012787</td>\n",
              "      <td>-0.012787</td>\n",
              "    </tr>\n",
              "    <tr>\n",
              "      <th>going</th>\n",
              "      <td>0.012405</td>\n",
              "      <td>-0.012405</td>\n",
              "    </tr>\n",
              "    <tr>\n",
              "      <th>thought</th>\n",
              "      <td>0.010484</td>\n",
              "      <td>-0.010484</td>\n",
              "    </tr>\n",
              "    <tr>\n",
              "      <th>reason</th>\n",
              "      <td>0.006607</td>\n",
              "      <td>-0.006607</td>\n",
              "    </tr>\n",
              "    <tr>\n",
              "      <th>rest</th>\n",
              "      <td>0.006501</td>\n",
              "      <td>-0.006501</td>\n",
              "    </tr>\n",
              "    <tr>\n",
              "      <th>excited</th>\n",
              "      <td>0.005866</td>\n",
              "      <td>-0.005866</td>\n",
              "    </tr>\n",
              "    <tr>\n",
              "      <th>small</th>\n",
              "      <td>0.003396</td>\n",
              "      <td>-0.003396</td>\n",
              "    </tr>\n",
              "    <tr>\n",
              "      <th>bobby</th>\n",
              "      <td>0.003379</td>\n",
              "      <td>-0.003379</td>\n",
              "    </tr>\n",
              "  </tbody>\n",
              "</table>\n",
              "</div>"
            ],
            "text/plain": [
              "         negative  positive\n",
              "wanted   0.035460 -0.035460\n",
              "went     0.021359 -0.021359\n",
              "stars    0.012787 -0.012787\n",
              "going    0.012405 -0.012405\n",
              "thought  0.010484 -0.010484\n",
              "reason   0.006607 -0.006607\n",
              "rest     0.006501 -0.006501\n",
              "excited  0.005866 -0.005866\n",
              "small    0.003396 -0.003396\n",
              "bobby    0.003379 -0.003379"
            ]
          },
          "metadata": {
            "tags": []
          },
          "execution_count": 245
        }
      ]
    },
    {
      "cell_type": "markdown",
      "metadata": {
        "id": "OuuyUZnbVVrI"
      },
      "source": [
        "## Notes:"
      ]
    },
    {
      "cell_type": "markdown",
      "metadata": {
        "id": "JegwpXuqbNd_"
      },
      "source": [
        "MAKE A FUNCTION FOR THE THING ABOVE SO IT CAN BE REPLICATED TO WHATEVER REVIEW, EITHER RANDOM OF SPECIFIC AND THAT IT CAN BE SPECIFY IF YOU WANT RESULTS AS DICT OR LIST OR PRINTED ONLY... \n",
        "\n",
        "BABY THIS IS IT YOU CAN DO IT!\n",
        "\n",
        "\n",
        "I need:\n",
        "\n",
        "predicted labels,\n",
        "original df to get the clean text / orig text and y set / original labels and len of x set/ original corpus\n",
        "\n",
        "feature importance df,\n",
        "input ids list,\n",
        "contributions array\n"
      ]
    },
    {
      "cell_type": "markdown",
      "metadata": {
        "id": "bhTAcIYl4tkl"
      },
      "source": [
        " Global features and\n",
        "Specific ones see if they match the reviews"
      ]
    }
  ]
}