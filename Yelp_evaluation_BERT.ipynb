{
  "nbformat": 4,
  "nbformat_minor": 0,
  "metadata": {
    "colab": {
      "name": "Yelp-evaluation_BERT.ipynb",
      "provenance": [],

      "authorship_tag": "ABX9TyOc0x0vDTvws/QOhN5lcEaZ",
      "include_colab_link": true
    },
    "kernelspec": {
      "name": "python3",
      "display_name": "Python 3"
    },
    "accelerator": "GPU"
  },
  "cells": [
    {
      "cell_type": "markdown",
      "metadata": {
        "id": "view-in-github",
        "colab_type": "text"
      },
      "source": [
        "<a href=\"https://colab.research.google.com/github/lupis30puc/yelp_bert_random_forest/blob/lupis30puc-update-4/Yelp_evaluation_BERT.ipynb\" target=\"_parent\"><img src=\"https://colab.research.google.com/assets/colab-badge.svg\" alt=\"Open In Colab\"/></a>"
      ]
    },
    {
      "cell_type": "markdown",
      "metadata": {
        "id": "ZfFofRq00h1v"
      },
      "source": [
        "# Set Up"
      ]
    },
    {
      "cell_type": "code",
      "metadata": {
        "colab": {
          "base_uri": "https://localhost:8080/"
        },
        "id": "sJD0FGBS0ghp",

        "outputId": "f831f5b6-43c4-40f1-c8fb-4ca6c25e6c14"

      },
      "source": [
        "!pip install transformers"
      ],
      "execution_count": 1,
      "outputs": [
        {
          "output_type": "stream",
          "text": [
            "Collecting transformers\n",
            "\u001b[?25l  Downloading https://files.pythonhosted.org/packages/88/b1/41130a228dd656a1a31ba281598a968320283f48d42782845f6ba567f00b/transformers-4.2.2-py3-none-any.whl (1.8MB)\n",
            "\r\u001b[K     |▏                               | 10kB 21.6MB/s eta 0:00:01\r\u001b[K     |▍                               | 20kB 28.8MB/s eta 0:00:01\r\u001b[K     |▋                               | 30kB 21.5MB/s eta 0:00:01\r\u001b[K     |▊                               | 40kB 24.4MB/s eta 0:00:01\r\u001b[K     |█                               | 51kB 23.5MB/s eta 0:00:01\r\u001b[K     |█▏                              | 61kB 17.0MB/s eta 0:00:01\r\u001b[K     |█▎                              | 71kB 17.1MB/s eta 0:00:01\r\u001b[K     |█▌                              | 81kB 18.3MB/s eta 0:00:01\r\u001b[K     |█▊                              | 92kB 17.3MB/s eta 0:00:01\r\u001b[K     |█▉                              | 102kB 17.2MB/s eta 0:00:01\r\u001b[K     |██                              | 112kB 17.2MB/s eta 0:00:01\r\u001b[K     |██▎                             | 122kB 17.2MB/s eta 0:00:01\r\u001b[K     |██▍                             | 133kB 17.2MB/s eta 0:00:01\r\u001b[K     |██▋                             | 143kB 17.2MB/s eta 0:00:01\r\u001b[K     |██▉                             | 153kB 17.2MB/s eta 0:00:01\r\u001b[K     |███                             | 163kB 17.2MB/s eta 0:00:01\r\u001b[K     |███▏                            | 174kB 17.2MB/s eta 0:00:01\r\u001b[K     |███▍                            | 184kB 17.2MB/s eta 0:00:01\r\u001b[K     |███▌                            | 194kB 17.2MB/s eta 0:00:01\r\u001b[K     |███▊                            | 204kB 17.2MB/s eta 0:00:01\r\u001b[K     |████                            | 215kB 17.2MB/s eta 0:00:01\r\u001b[K     |████                            | 225kB 17.2MB/s eta 0:00:01\r\u001b[K     |████▎                           | 235kB 17.2MB/s eta 0:00:01\r\u001b[K     |████▌                           | 245kB 17.2MB/s eta 0:00:01\r\u001b[K     |████▋                           | 256kB 17.2MB/s eta 0:00:01\r\u001b[K     |████▉                           | 266kB 17.2MB/s eta 0:00:01\r\u001b[K     |█████                           | 276kB 17.2MB/s eta 0:00:01\r\u001b[K     |█████▏                          | 286kB 17.2MB/s eta 0:00:01\r\u001b[K     |█████▍                          | 296kB 17.2MB/s eta 0:00:01\r\u001b[K     |█████▋                          | 307kB 17.2MB/s eta 0:00:01\r\u001b[K     |█████▊                          | 317kB 17.2MB/s eta 0:00:01\r\u001b[K     |██████                          | 327kB 17.2MB/s eta 0:00:01\r\u001b[K     |██████▏                         | 337kB 17.2MB/s eta 0:00:01\r\u001b[K     |██████▎                         | 348kB 17.2MB/s eta 0:00:01\r\u001b[K     |██████▌                         | 358kB 17.2MB/s eta 0:00:01\r\u001b[K     |██████▊                         | 368kB 17.2MB/s eta 0:00:01\r\u001b[K     |██████▉                         | 378kB 17.2MB/s eta 0:00:01\r\u001b[K     |███████                         | 389kB 17.2MB/s eta 0:00:01\r\u001b[K     |███████▎                        | 399kB 17.2MB/s eta 0:00:01\r\u001b[K     |███████▍                        | 409kB 17.2MB/s eta 0:00:01\r\u001b[K     |███████▋                        | 419kB 17.2MB/s eta 0:00:01\r\u001b[K     |███████▉                        | 430kB 17.2MB/s eta 0:00:01\r\u001b[K     |████████                        | 440kB 17.2MB/s eta 0:00:01\r\u001b[K     |████████▏                       | 450kB 17.2MB/s eta 0:00:01\r\u001b[K     |████████▍                       | 460kB 17.2MB/s eta 0:00:01\r\u001b[K     |████████▌                       | 471kB 17.2MB/s eta 0:00:01\r\u001b[K     |████████▊                       | 481kB 17.2MB/s eta 0:00:01\r\u001b[K     |█████████                       | 491kB 17.2MB/s eta 0:00:01\r\u001b[K     |█████████                       | 501kB 17.2MB/s eta 0:00:01\r\u001b[K     |█████████▎                      | 512kB 17.2MB/s eta 0:00:01\r\u001b[K     |█████████▌                      | 522kB 17.2MB/s eta 0:00:01\r\u001b[K     |█████████▋                      | 532kB 17.2MB/s eta 0:00:01\r\u001b[K     |█████████▉                      | 542kB 17.2MB/s eta 0:00:01\r\u001b[K     |██████████                      | 552kB 17.2MB/s eta 0:00:01\r\u001b[K     |██████████▏                     | 563kB 17.2MB/s eta 0:00:01\r\u001b[K     |██████████▍                     | 573kB 17.2MB/s eta 0:00:01\r\u001b[K     |██████████▋                     | 583kB 17.2MB/s eta 0:00:01\r\u001b[K     |██████████▊                     | 593kB 17.2MB/s eta 0:00:01\r\u001b[K     |███████████                     | 604kB 17.2MB/s eta 0:00:01\r\u001b[K     |███████████▏                    | 614kB 17.2MB/s eta 0:00:01\r\u001b[K     |███████████▎                    | 624kB 17.2MB/s eta 0:00:01\r\u001b[K     |███████████▌                    | 634kB 17.2MB/s eta 0:00:01\r\u001b[K     |███████████▊                    | 645kB 17.2MB/s eta 0:00:01\r\u001b[K     |███████████▉                    | 655kB 17.2MB/s eta 0:00:01\r\u001b[K     |████████████                    | 665kB 17.2MB/s eta 0:00:01\r\u001b[K     |████████████▎                   | 675kB 17.2MB/s eta 0:00:01\r\u001b[K     |████████████▍                   | 686kB 17.2MB/s eta 0:00:01\r\u001b[K     |████████████▋                   | 696kB 17.2MB/s eta 0:00:01\r\u001b[K     |████████████▉                   | 706kB 17.2MB/s eta 0:00:01\r\u001b[K     |█████████████                   | 716kB 17.2MB/s eta 0:00:01\r\u001b[K     |█████████████▏                  | 727kB 17.2MB/s eta 0:00:01\r\u001b[K     |█████████████▍                  | 737kB 17.2MB/s eta 0:00:01\r\u001b[K     |█████████████▌                  | 747kB 17.2MB/s eta 0:00:01\r\u001b[K     |█████████████▊                  | 757kB 17.2MB/s eta 0:00:01\r\u001b[K     |██████████████                  | 768kB 17.2MB/s eta 0:00:01\r\u001b[K     |██████████████                  | 778kB 17.2MB/s eta 0:00:01\r\u001b[K     |██████████████▎                 | 788kB 17.2MB/s eta 0:00:01\r\u001b[K     |██████████████▌                 | 798kB 17.2MB/s eta 0:00:01\r\u001b[K     |██████████████▋                 | 808kB 17.2MB/s eta 0:00:01\r\u001b[K     |██████████████▉                 | 819kB 17.2MB/s eta 0:00:01\r\u001b[K     |███████████████                 | 829kB 17.2MB/s eta 0:00:01\r\u001b[K     |███████████████▏                | 839kB 17.2MB/s eta 0:00:01\r\u001b[K     |███████████████▍                | 849kB 17.2MB/s eta 0:00:01\r\u001b[K     |███████████████▋                | 860kB 17.2MB/s eta 0:00:01\r\u001b[K     |███████████████▊                | 870kB 17.2MB/s eta 0:00:01\r\u001b[K     |████████████████                | 880kB 17.2MB/s eta 0:00:01\r\u001b[K     |████████████████▏               | 890kB 17.2MB/s eta 0:00:01\r\u001b[K     |████████████████▎               | 901kB 17.2MB/s eta 0:00:01\r\u001b[K     |████████████████▌               | 911kB 17.2MB/s eta 0:00:01\r\u001b[K     |████████████████▊               | 921kB 17.2MB/s eta 0:00:01\r\u001b[K     |████████████████▉               | 931kB 17.2MB/s eta 0:00:01\r\u001b[K     |█████████████████               | 942kB 17.2MB/s eta 0:00:01\r\u001b[K     |█████████████████▎              | 952kB 17.2MB/s eta 0:00:01\r\u001b[K     |█████████████████▍              | 962kB 17.2MB/s eta 0:00:01\r\u001b[K     |█████████████████▋              | 972kB 17.2MB/s eta 0:00:01\r\u001b[K     |█████████████████▉              | 983kB 17.2MB/s eta 0:00:01\r\u001b[K     |██████████████████              | 993kB 17.2MB/s eta 0:00:01\r\u001b[K     |██████████████████▏             | 1.0MB 17.2MB/s eta 0:00:01\r\u001b[K     |██████████████████▍             | 1.0MB 17.2MB/s eta 0:00:01\r\u001b[K     |██████████████████▌             | 1.0MB 17.2MB/s eta 0:00:01\r\u001b[K     |██████████████████▊             | 1.0MB 17.2MB/s eta 0:00:01\r\u001b[K     |███████████████████             | 1.0MB 17.2MB/s eta 0:00:01\r\u001b[K     |███████████████████             | 1.1MB 17.2MB/s eta 0:00:01\r\u001b[K     |███████████████████▎            | 1.1MB 17.2MB/s eta 0:00:01\r\u001b[K     |███████████████████▌            | 1.1MB 17.2MB/s eta 0:00:01\r\u001b[K     |███████████████████▋            | 1.1MB 17.2MB/s eta 0:00:01\r\u001b[K     |███████████████████▉            | 1.1MB 17.2MB/s eta 0:00:01\r\u001b[K     |████████████████████            | 1.1MB 17.2MB/s eta 0:00:01\r\u001b[K     |████████████████████▏           | 1.1MB 17.2MB/s eta 0:00:01\r\u001b[K     |████████████████████▍           | 1.1MB 17.2MB/s eta 0:00:01\r\u001b[K     |████████████████████▋           | 1.1MB 17.2MB/s eta 0:00:01\r\u001b[K     |████████████████████▊           | 1.1MB 17.2MB/s eta 0:00:01\r\u001b[K     |█████████████████████           | 1.2MB 17.2MB/s eta 0:00:01\r\u001b[K     |█████████████████████▏          | 1.2MB 17.2MB/s eta 0:00:01\r\u001b[K     |█████████████████████▎          | 1.2MB 17.2MB/s eta 0:00:01\r\u001b[K     |█████████████████████▌          | 1.2MB 17.2MB/s eta 0:00:01\r\u001b[K     |█████████████████████▊          | 1.2MB 17.2MB/s eta 0:00:01\r\u001b[K     |█████████████████████▉          | 1.2MB 17.2MB/s eta 0:00:01\r\u001b[K     |██████████████████████          | 1.2MB 17.2MB/s eta 0:00:01\r\u001b[K     |██████████████████████▎         | 1.2MB 17.2MB/s eta 0:00:01\r\u001b[K     |██████████████████████▍         | 1.2MB 17.2MB/s eta 0:00:01\r\u001b[K     |██████████████████████▋         | 1.2MB 17.2MB/s eta 0:00:01\r\u001b[K     |██████████████████████▉         | 1.3MB 17.2MB/s eta 0:00:01\r\u001b[K     |███████████████████████         | 1.3MB 17.2MB/s eta 0:00:01\r\u001b[K     |███████████████████████▏        | 1.3MB 17.2MB/s eta 0:00:01\r\u001b[K     |███████████████████████▍        | 1.3MB 17.2MB/s eta 0:00:01\r\u001b[K     |███████████████████████▌        | 1.3MB 17.2MB/s eta 0:00:01\r\u001b[K     |███████████████████████▊        | 1.3MB 17.2MB/s eta 0:00:01\r\u001b[K     |████████████████████████        | 1.3MB 17.2MB/s eta 0:00:01\r\u001b[K     |████████████████████████        | 1.3MB 17.2MB/s eta 0:00:01\r\u001b[K     |████████████████████████▎       | 1.3MB 17.2MB/s eta 0:00:01\r\u001b[K     |████████████████████████▌       | 1.4MB 17.2MB/s eta 0:00:01\r\u001b[K     |████████████████████████▊       | 1.4MB 17.2MB/s eta 0:00:01\r\u001b[K     |████████████████████████▉       | 1.4MB 17.2MB/s eta 0:00:01\r\u001b[K     |█████████████████████████       | 1.4MB 17.2MB/s eta 0:00:01\r\u001b[K     |█████████████████████████▎      | 1.4MB 17.2MB/s eta 0:00:01\r\u001b[K     |█████████████████████████▍      | 1.4MB 17.2MB/s eta 0:00:01\r\u001b[K     |█████████████████████████▋      | 1.4MB 17.2MB/s eta 0:00:01\r\u001b[K     |█████████████████████████▉      | 1.4MB 17.2MB/s eta 0:00:01\r\u001b[K     |██████████████████████████      | 1.4MB 17.2MB/s eta 0:00:01\r\u001b[K     |██████████████████████████▏     | 1.4MB 17.2MB/s eta 0:00:01\r\u001b[K     |██████████████████████████▍     | 1.5MB 17.2MB/s eta 0:00:01\r\u001b[K     |██████████████████████████▌     | 1.5MB 17.2MB/s eta 0:00:01\r\u001b[K     |██████████████████████████▊     | 1.5MB 17.2MB/s eta 0:00:01\r\u001b[K     |███████████████████████████     | 1.5MB 17.2MB/s eta 0:00:01\r\u001b[K     |███████████████████████████     | 1.5MB 17.2MB/s eta 0:00:01\r\u001b[K     |███████████████████████████▎    | 1.5MB 17.2MB/s eta 0:00:01\r\u001b[K     |███████████████████████████▌    | 1.5MB 17.2MB/s eta 0:00:01\r\u001b[K     |███████████████████████████▋    | 1.5MB 17.2MB/s eta 0:00:01\r\u001b[K     |███████████████████████████▉    | 1.5MB 17.2MB/s eta 0:00:01\r\u001b[K     |████████████████████████████    | 1.5MB 17.2MB/s eta 0:00:01\r\u001b[K     |████████████████████████████▏   | 1.6MB 17.2MB/s eta 0:00:01\r\u001b[K     |████████████████████████████▍   | 1.6MB 17.2MB/s eta 0:00:01\r\u001b[K     |████████████████████████████▋   | 1.6MB 17.2MB/s eta 0:00:01\r\u001b[K     |████████████████████████████▊   | 1.6MB 17.2MB/s eta 0:00:01\r\u001b[K     |█████████████████████████████   | 1.6MB 17.2MB/s eta 0:00:01\r\u001b[K     |█████████████████████████████▏  | 1.6MB 17.2MB/s eta 0:00:01\r\u001b[K     |█████████████████████████████▎  | 1.6MB 17.2MB/s eta 0:00:01\r\u001b[K     |█████████████████████████████▌  | 1.6MB 17.2MB/s eta 0:00:01\r\u001b[K     |█████████████████████████████▊  | 1.6MB 17.2MB/s eta 0:00:01\r\u001b[K     |█████████████████████████████▉  | 1.6MB 17.2MB/s eta 0:00:01\r\u001b[K     |██████████████████████████████  | 1.7MB 17.2MB/s eta 0:00:01\r\u001b[K     |██████████████████████████████▎ | 1.7MB 17.2MB/s eta 0:00:01\r\u001b[K     |██████████████████████████████▍ | 1.7MB 17.2MB/s eta 0:00:01\r\u001b[K     |██████████████████████████████▋ | 1.7MB 17.2MB/s eta 0:00:01\r\u001b[K     |██████████████████████████████▉ | 1.7MB 17.2MB/s eta 0:00:01\r\u001b[K     |███████████████████████████████ | 1.7MB 17.2MB/s eta 0:00:01\r\u001b[K     |███████████████████████████████▏| 1.7MB 17.2MB/s eta 0:00:01\r\u001b[K     |███████████████████████████████▍| 1.7MB 17.2MB/s eta 0:00:01\r\u001b[K     |███████████████████████████████▌| 1.7MB 17.2MB/s eta 0:00:01\r\u001b[K     |███████████████████████████████▊| 1.8MB 17.2MB/s eta 0:00:01\r\u001b[K     |████████████████████████████████| 1.8MB 17.2MB/s eta 0:00:01\r\u001b[K     |████████████████████████████████| 1.8MB 17.2MB/s \n",
            "\u001b[?25hRequirement already satisfied: packaging in /usr/local/lib/python3.6/dist-packages (from transformers) (20.8)\n",
            "Collecting tokenizers==0.9.4\n",
            "\u001b[?25l  Downloading https://files.pythonhosted.org/packages/0f/1c/e789a8b12e28be5bc1ce2156cf87cb522b379be9cadc7ad8091a4cc107c4/tokenizers-0.9.4-cp36-cp36m-manylinux2010_x86_64.whl (2.9MB)\n",
            "\u001b[K     |████████████████████████████████| 2.9MB 51.9MB/s \n",
            "\u001b[?25hRequirement already satisfied: filelock in /usr/local/lib/python3.6/dist-packages (from transformers) (3.0.12)\n",
            "Collecting sacremoses\n",
            "\u001b[?25l  Downloading https://files.pythonhosted.org/packages/7d/34/09d19aff26edcc8eb2a01bed8e98f13a1537005d31e95233fd48216eed10/sacremoses-0.0.43.tar.gz (883kB)\n",
            "\u001b[K     |████████████████████████████████| 890kB 57.8MB/s \n",
            "\u001b[?25hRequirement already satisfied: dataclasses; python_version < \"3.7\" in /usr/local/lib/python3.6/dist-packages (from transformers) (0.8)\n",
            "Requirement already satisfied: importlib-metadata; python_version < \"3.8\" in /usr/local/lib/python3.6/dist-packages (from transformers) (3.3.0)\n",
            "Requirement already satisfied: numpy in /usr/local/lib/python3.6/dist-packages (from transformers) (1.19.5)\n",
            "Requirement already satisfied: requests in /usr/local/lib/python3.6/dist-packages (from transformers) (2.23.0)\n",
            "Requirement already satisfied: tqdm>=4.27 in /usr/local/lib/python3.6/dist-packages (from transformers) (4.41.1)\n",
            "Requirement already satisfied: regex!=2019.12.17 in /usr/local/lib/python3.6/dist-packages (from transformers) (2019.12.20)\n",
            "Requirement already satisfied: pyparsing>=2.0.2 in /usr/local/lib/python3.6/dist-packages (from packaging->transformers) (2.4.7)\n",
            "Requirement already satisfied: six in /usr/local/lib/python3.6/dist-packages (from sacremoses->transformers) (1.15.0)\n",
            "Requirement already satisfied: click in /usr/local/lib/python3.6/dist-packages (from sacremoses->transformers) (7.1.2)\n",
            "Requirement already satisfied: joblib in /usr/local/lib/python3.6/dist-packages (from sacremoses->transformers) (1.0.0)\n",
            "Requirement already satisfied: zipp>=0.5 in /usr/local/lib/python3.6/dist-packages (from importlib-metadata; python_version < \"3.8\"->transformers) (3.4.0)\n",
            "Requirement already satisfied: typing-extensions>=3.6.4; python_version < \"3.8\" in /usr/local/lib/python3.6/dist-packages (from importlib-metadata; python_version < \"3.8\"->transformers) (3.7.4.3)\n",
            "Requirement already satisfied: certifi>=2017.4.17 in /usr/local/lib/python3.6/dist-packages (from requests->transformers) (2020.12.5)\n",
            "Requirement already satisfied: chardet<4,>=3.0.2 in /usr/local/lib/python3.6/dist-packages (from requests->transformers) (3.0.4)\n",
            "Requirement already satisfied: urllib3!=1.25.0,!=1.25.1,<1.26,>=1.21.1 in /usr/local/lib/python3.6/dist-packages (from requests->transformers) (1.24.3)\n",
            "Requirement already satisfied: idna<3,>=2.5 in /usr/local/lib/python3.6/dist-packages (from requests->transformers) (2.10)\n",
            "Building wheels for collected packages: sacremoses\n",
            "  Building wheel for sacremoses (setup.py) ... \u001b[?25l\u001b[?25hdone\n",
            "  Created wheel for sacremoses: filename=sacremoses-0.0.43-cp36-none-any.whl size=893261 sha256=5990bd04a9b5ce5b4ffb8e5498e1537eeb3d95a26598cc4e7e5285a0231a1162\n",
            "  Stored in directory: /root/.cache/pip/wheels/29/3c/fd/7ce5c3f0666dab31a50123635e6fb5e19ceb42ce38d4e58f45\n",
            "Successfully built sacremoses\n",
            "Installing collected packages: tokenizers, sacremoses, transformers\n",
            "Successfully installed sacremoses-0.0.43 tokenizers-0.9.4 transformers-4.2.2\n"
          ],
          "name": "stdout"
        }
      ]
    },
    {
      "cell_type": "markdown",
      "metadata": {
        "id": "5fJjJCGQ0lVf"
      },
      "source": [
        "## GPU"
      ]
    },
    {
      "cell_type": "code",
      "metadata": {
        "colab": {
          "base_uri": "https://localhost:8080/"
        },
        "id": "VfLHT8dI0qQQ",

        "outputId": "ae303acc-bd9a-4cf2-b62e-36998fe897a0"

      },
      "source": [
        "import tensorflow as tf\n",
        "\n",
        "# Get the GPU device name.\n",
        "device_name = tf.test.gpu_device_name()\n",
        "\n",
        "# The device name should look like the following:\n",
        "if device_name == '/device:GPU:0':\n",
        "    print('Found GPU at: {}'.format(device_name))\n",
        "else:\n",
        "    raise SystemError('GPU device not found')"
      ],
      "execution_count": 2,
      "outputs": [
        {
          "output_type": "stream",
          "text": [
            "Found GPU at: /device:GPU:0\n"
          ],
          "name": "stdout"
        }
      ]
    },
    {
      "cell_type": "code",
      "metadata": {
        "colab": {
          "base_uri": "https://localhost:8080/"
        },
        "id": "IWxJt3i20tLd",
        "outputId": "8b9699b5-f8fc-4dcb-e2be-74429844c297"
      },
      "source": [
        "import torch\n",
        "\n",
        "# If there's a GPU available...\n",
        "if torch.cuda.is_available():    \n",
        "\n",
        "    # Tell PyTorch to use the GPU.    \n",
        "    device = torch.device(\"cuda\")\n",
        "\n",
        "    print('There are %d GPU(s) available.' % torch.cuda.device_count())\n",
        "\n",
        "    print('We will use the GPU:', torch.cuda.get_device_name(0))\n",
        "\n",
        "# If not...\n",
        "else:\n",
        "    print('No GPU available, using the CPU instead.')\n",
        "    device = torch.device(\"cpu\")"
      ],
      "execution_count": 3,
      "outputs": [
        {
          "output_type": "stream",
          "text": [
            "There are 1 GPU(s) available.\n",
            "We will use the GPU: Tesla T4\n"
          ],
          "name": "stdout"
        }
      ]
    },
    {
      "cell_type": "markdown",
      "metadata": {
        "id": "F9QoEyD40yWw"
      },
      "source": [
        "## Loading the tensors dataset and model"
      ]
    },
    {
      "cell_type": "code",
      "metadata": {
        "colab": {
          "base_uri": "https://localhost:8080/"
        },
        "id": "e3H3o99g0vn4",

        "outputId": "ea3da9ee-45ed-4de3-eb97-763dfa798e59"

      },
      "source": [
        "from google.colab import drive\n",
        "drive.mount('/content/drive')"
      ],
      "execution_count": 4,
      "outputs": [
        {
          "output_type": "stream",
          "text": [
            "Mounted at /content/drive\n"
          ],
          "name": "stdout"
        }
      ]
    },
    {
      "cell_type": "code",
      "metadata": {
        "id": "bBCut10VzcJj"
      },
      "source": [
        "import pandas as pd\n",
        "import numpy as np\n",
        "import matplotlib.pyplot as plt\n",
        "import seaborn as sns\n",
        "sns.set()\n",
        "import time\n",
        "import pickle"
      ],
      "execution_count": 5,
      "outputs": []
    },
    {
      "cell_type": "code",
      "metadata": {
        "id": "xU8egMBY1A6Q"
      },
      "source": [
        "filename = '/content/drive/MyDrive/Yelp/tensors_yelp/test_input_ids_150.pkl'\n",
        "with open(filename, 'rb') as f:\n",
        "    test_ids = pickle.load(f)\n"
      ],
      "execution_count": 9,
      "outputs": []
    },
    {
      "cell_type": "code",
      "metadata": {
        "id": "wV_0pXBtbQPd"
      },
      "source": [
        "test_dataset = torch.load('/content/drive/MyDrive/Yelp/tensors_yelp/_test_150')"
      ],
      "execution_count": 13,

      "outputs": []
    },
    {
      "cell_type": "code",
      "metadata": {
        "colab": {
          "base_uri": "https://localhost:8080/"
        },
        "id": "bvA9mRKx1yMx",

        "outputId": "0d03175f-b9ef-4231-d006-4ad81c07670d"
      },
      "source": [
        "test_dataset[0]"
      ],

      "execution_count": 14,

      "outputs": [
        {
          "output_type": "execute_result",
          "data": {
            "text/plain": [
              "(tensor([  101,  3752,  2307,  4391,  2245,  4012, 15455,  6072,  3046,  6265,\n",
              "          4694,  9364, 25545,  2465,  2100,  3737, 23127,  4406,  5171,  4916,\n",
              "          7884, 11188, 22775,  3491,  3332,  9065, 11772,  4127, 26509,  5359,\n",
              "         13364, 12183,  5454,  4900,  6265,  2569,  3601,  3760,  4372, 13334,\n",
              "          2015, 26192,  2094,  7975,  4372,  5428, 27266,  2050, 16709, 12901,\n",
              "          6581,  2488,  7975,  9610,  7712, 18003,  2050,  5642,  3903,  5785,\n",
              "         13017, 13435,  4840, 25628,  4825, 21121,  2903,  2155,  2372,  3290,\n",
              "          2877,  4997,  7615,  7263,  2653,  8803, 20888,  2344,  3737,  6265,\n",
              "          3325,  4825,  3497,  2709,  6195,  5875, 14927,   102,     0,     0,\n",
              "             0,     0,     0,     0,     0,     0,     0,     0,     0,     0,\n",
              "             0,     0,     0,     0,     0,     0,     0,     0,     0,     0,\n",
              "             0,     0,     0,     0,     0,     0,     0,     0,     0,     0,\n",
              "             0,     0,     0,     0,     0,     0,     0,     0,     0,     0,\n",
              "             0,     0,     0,     0,     0,     0,     0,     0,     0,     0,\n",
              "             0,     0,     0,     0,     0,     0,     0,     0,     0,     0]),\n",
              " tensor([1, 1, 1, 1, 1, 1, 1, 1, 1, 1, 1, 1, 1, 1, 1, 1, 1, 1, 1, 1, 1, 1, 1, 1,\n",
              "         1, 1, 1, 1, 1, 1, 1, 1, 1, 1, 1, 1, 1, 1, 1, 1, 1, 1, 1, 1, 1, 1, 1, 1,\n",
              "         1, 1, 1, 1, 1, 1, 1, 1, 1, 1, 1, 1, 1, 1, 1, 1, 1, 1, 1, 1, 1, 1, 1, 1,\n",
              "         1, 1, 1, 1, 1, 1, 1, 1, 1, 1, 1, 1, 1, 1, 1, 1, 0, 0, 0, 0, 0, 0, 0, 0,\n",
              "         0, 0, 0, 0, 0, 0, 0, 0, 0, 0, 0, 0, 0, 0, 0, 0, 0, 0, 0, 0, 0, 0, 0, 0,\n",
              "         0, 0, 0, 0, 0, 0, 0, 0, 0, 0, 0, 0, 0, 0, 0, 0, 0, 0, 0, 0, 0, 0, 0, 0,\n",
              "         0, 0, 0, 0, 0, 0]),\n",
              " tensor(1))"
            ]
          },
          "metadata": {
            "tags": []
          },
          "execution_count": 14
        }
      ]
    },
    {
      "cell_type": "code",
      "metadata": {
        "id": "Zn4lFOdd10m0"
      },
      "source": [
        "from torch.utils.data import DataLoader, RandomSampler, SequentialSampler\n",
        "# batch size\n",
        "batch_size = 16\n",
        "\n",
        "prediction_sampler = SequentialSampler(test_dataset)\n",
        "prediction_dataloader = DataLoader(test_dataset, sampler=prediction_sampler, batch_size=batch_size)"
      ],
      "execution_count": 15,
      "outputs": []
    },
    {
      "cell_type": "code",
      "metadata": {
        "id": "u_HVuNEW2Hld",
        "colab": {
          "base_uri": "https://localhost:8080/"
        },

        "outputId": "2632801d-03c9-4475-e967-e671ec295af6"

      },
      "source": [
        "from transformers import BertForSequenceClassification, AdamW, BertConfig\n",
        "device = torch.device(\"cuda\")\n",
        "#model = TheModelClass(*args, **kwargs)\n",
        "\"\"\"\n",
        "model = BertForSequenceClassification(\n",
        "    \"bert-base-uncased\", # Use the 12-layer BERT model, with an uncased vocab.\n",
        "    num_labels = 2, # The number of output labels--2 for binary classification.\n",
        "                    # You can increase this for multi-class tasks.   \n",
        "    output_attentions = False, # Whether the model returns attentions weights.\n",
        "    output_hidden_states = False, # Whether the model returns all hidden-states.\n",
        ")\n",
        "\"\"\"\n",
        "model = torch.load('/content/drive/MyDrive/Yelp/model_save_4/model-24-JAN_150', map_location=\"cuda:0\")  # Choose whatever GPU device number you want\n",
        "model.to(device)\n",
        "# Make sure to call input = input.to(device) on any input tensors that you feed to the model\n"
      ],
      "execution_count": 17,
      "outputs": [
        {
          "output_type": "execute_result",
          "data": {
            "text/plain": [
              "BertForSequenceClassification(\n",
              "  (bert): BertModel(\n",
              "    (embeddings): BertEmbeddings(\n",
              "      (word_embeddings): Embedding(30522, 768, padding_idx=0)\n",
              "      (position_embeddings): Embedding(512, 768)\n",
              "      (token_type_embeddings): Embedding(2, 768)\n",
              "      (LayerNorm): LayerNorm((768,), eps=1e-12, elementwise_affine=True)\n",
              "      (dropout): Dropout(p=0.1, inplace=False)\n",
              "    )\n",
              "    (encoder): BertEncoder(\n",
              "      (layer): ModuleList(\n",
              "        (0): BertLayer(\n",
              "          (attention): BertAttention(\n",
              "            (self): BertSelfAttention(\n",
              "              (query): Linear(in_features=768, out_features=768, bias=True)\n",
              "              (key): Linear(in_features=768, out_features=768, bias=True)\n",
              "              (value): Linear(in_features=768, out_features=768, bias=True)\n",
              "              (dropout): Dropout(p=0.1, inplace=False)\n",
              "            )\n",
              "            (output): BertSelfOutput(\n",
              "              (dense): Linear(in_features=768, out_features=768, bias=True)\n",
              "              (LayerNorm): LayerNorm((768,), eps=1e-12, elementwise_affine=True)\n",
              "              (dropout): Dropout(p=0.1, inplace=False)\n",
              "            )\n",
              "          )\n",
              "          (intermediate): BertIntermediate(\n",
              "            (dense): Linear(in_features=768, out_features=3072, bias=True)\n",
              "          )\n",
              "          (output): BertOutput(\n",
              "            (dense): Linear(in_features=3072, out_features=768, bias=True)\n",
              "            (LayerNorm): LayerNorm((768,), eps=1e-12, elementwise_affine=True)\n",
              "            (dropout): Dropout(p=0.1, inplace=False)\n",
              "          )\n",
              "        )\n",
              "        (1): BertLayer(\n",
              "          (attention): BertAttention(\n",
              "            (self): BertSelfAttention(\n",
              "              (query): Linear(in_features=768, out_features=768, bias=True)\n",
              "              (key): Linear(in_features=768, out_features=768, bias=True)\n",
              "              (value): Linear(in_features=768, out_features=768, bias=True)\n",
              "              (dropout): Dropout(p=0.1, inplace=False)\n",
              "            )\n",
              "            (output): BertSelfOutput(\n",
              "              (dense): Linear(in_features=768, out_features=768, bias=True)\n",
              "              (LayerNorm): LayerNorm((768,), eps=1e-12, elementwise_affine=True)\n",
              "              (dropout): Dropout(p=0.1, inplace=False)\n",
              "            )\n",
              "          )\n",
              "          (intermediate): BertIntermediate(\n",
              "            (dense): Linear(in_features=768, out_features=3072, bias=True)\n",
              "          )\n",
              "          (output): BertOutput(\n",
              "            (dense): Linear(in_features=3072, out_features=768, bias=True)\n",
              "            (LayerNorm): LayerNorm((768,), eps=1e-12, elementwise_affine=True)\n",
              "            (dropout): Dropout(p=0.1, inplace=False)\n",
              "          )\n",
              "        )\n",
              "        (2): BertLayer(\n",
              "          (attention): BertAttention(\n",
              "            (self): BertSelfAttention(\n",
              "              (query): Linear(in_features=768, out_features=768, bias=True)\n",
              "              (key): Linear(in_features=768, out_features=768, bias=True)\n",
              "              (value): Linear(in_features=768, out_features=768, bias=True)\n",
              "              (dropout): Dropout(p=0.1, inplace=False)\n",
              "            )\n",
              "            (output): BertSelfOutput(\n",
              "              (dense): Linear(in_features=768, out_features=768, bias=True)\n",
              "              (LayerNorm): LayerNorm((768,), eps=1e-12, elementwise_affine=True)\n",
              "              (dropout): Dropout(p=0.1, inplace=False)\n",
              "            )\n",
              "          )\n",
              "          (intermediate): BertIntermediate(\n",
              "            (dense): Linear(in_features=768, out_features=3072, bias=True)\n",
              "          )\n",
              "          (output): BertOutput(\n",
              "            (dense): Linear(in_features=3072, out_features=768, bias=True)\n",
              "            (LayerNorm): LayerNorm((768,), eps=1e-12, elementwise_affine=True)\n",
              "            (dropout): Dropout(p=0.1, inplace=False)\n",
              "          )\n",
              "        )\n",
              "        (3): BertLayer(\n",
              "          (attention): BertAttention(\n",
              "            (self): BertSelfAttention(\n",
              "              (query): Linear(in_features=768, out_features=768, bias=True)\n",
              "              (key): Linear(in_features=768, out_features=768, bias=True)\n",
              "              (value): Linear(in_features=768, out_features=768, bias=True)\n",
              "              (dropout): Dropout(p=0.1, inplace=False)\n",
              "            )\n",
              "            (output): BertSelfOutput(\n",
              "              (dense): Linear(in_features=768, out_features=768, bias=True)\n",
              "              (LayerNorm): LayerNorm((768,), eps=1e-12, elementwise_affine=True)\n",
              "              (dropout): Dropout(p=0.1, inplace=False)\n",
              "            )\n",
              "          )\n",
              "          (intermediate): BertIntermediate(\n",
              "            (dense): Linear(in_features=768, out_features=3072, bias=True)\n",
              "          )\n",
              "          (output): BertOutput(\n",
              "            (dense): Linear(in_features=3072, out_features=768, bias=True)\n",
              "            (LayerNorm): LayerNorm((768,), eps=1e-12, elementwise_affine=True)\n",
              "            (dropout): Dropout(p=0.1, inplace=False)\n",
              "          )\n",
              "        )\n",
              "        (4): BertLayer(\n",
              "          (attention): BertAttention(\n",
              "            (self): BertSelfAttention(\n",
              "              (query): Linear(in_features=768, out_features=768, bias=True)\n",
              "              (key): Linear(in_features=768, out_features=768, bias=True)\n",
              "              (value): Linear(in_features=768, out_features=768, bias=True)\n",
              "              (dropout): Dropout(p=0.1, inplace=False)\n",
              "            )\n",
              "            (output): BertSelfOutput(\n",
              "              (dense): Linear(in_features=768, out_features=768, bias=True)\n",
              "              (LayerNorm): LayerNorm((768,), eps=1e-12, elementwise_affine=True)\n",
              "              (dropout): Dropout(p=0.1, inplace=False)\n",
              "            )\n",
              "          )\n",
              "          (intermediate): BertIntermediate(\n",
              "            (dense): Linear(in_features=768, out_features=3072, bias=True)\n",
              "          )\n",
              "          (output): BertOutput(\n",
              "            (dense): Linear(in_features=3072, out_features=768, bias=True)\n",
              "            (LayerNorm): LayerNorm((768,), eps=1e-12, elementwise_affine=True)\n",
              "            (dropout): Dropout(p=0.1, inplace=False)\n",
              "          )\n",
              "        )\n",
              "        (5): BertLayer(\n",
              "          (attention): BertAttention(\n",
              "            (self): BertSelfAttention(\n",
              "              (query): Linear(in_features=768, out_features=768, bias=True)\n",
              "              (key): Linear(in_features=768, out_features=768, bias=True)\n",
              "              (value): Linear(in_features=768, out_features=768, bias=True)\n",
              "              (dropout): Dropout(p=0.1, inplace=False)\n",
              "            )\n",
              "            (output): BertSelfOutput(\n",
              "              (dense): Linear(in_features=768, out_features=768, bias=True)\n",
              "              (LayerNorm): LayerNorm((768,), eps=1e-12, elementwise_affine=True)\n",
              "              (dropout): Dropout(p=0.1, inplace=False)\n",
              "            )\n",
              "          )\n",
              "          (intermediate): BertIntermediate(\n",
              "            (dense): Linear(in_features=768, out_features=3072, bias=True)\n",
              "          )\n",
              "          (output): BertOutput(\n",
              "            (dense): Linear(in_features=3072, out_features=768, bias=True)\n",
              "            (LayerNorm): LayerNorm((768,), eps=1e-12, elementwise_affine=True)\n",
              "            (dropout): Dropout(p=0.1, inplace=False)\n",
              "          )\n",
              "        )\n",
              "        (6): BertLayer(\n",
              "          (attention): BertAttention(\n",
              "            (self): BertSelfAttention(\n",
              "              (query): Linear(in_features=768, out_features=768, bias=True)\n",
              "              (key): Linear(in_features=768, out_features=768, bias=True)\n",
              "              (value): Linear(in_features=768, out_features=768, bias=True)\n",
              "              (dropout): Dropout(p=0.1, inplace=False)\n",
              "            )\n",
              "            (output): BertSelfOutput(\n",
              "              (dense): Linear(in_features=768, out_features=768, bias=True)\n",
              "              (LayerNorm): LayerNorm((768,), eps=1e-12, elementwise_affine=True)\n",
              "              (dropout): Dropout(p=0.1, inplace=False)\n",
              "            )\n",
              "          )\n",
              "          (intermediate): BertIntermediate(\n",
              "            (dense): Linear(in_features=768, out_features=3072, bias=True)\n",
              "          )\n",
              "          (output): BertOutput(\n",
              "            (dense): Linear(in_features=3072, out_features=768, bias=True)\n",
              "            (LayerNorm): LayerNorm((768,), eps=1e-12, elementwise_affine=True)\n",
              "            (dropout): Dropout(p=0.1, inplace=False)\n",
              "          )\n",
              "        )\n",
              "        (7): BertLayer(\n",
              "          (attention): BertAttention(\n",
              "            (self): BertSelfAttention(\n",
              "              (query): Linear(in_features=768, out_features=768, bias=True)\n",
              "              (key): Linear(in_features=768, out_features=768, bias=True)\n",
              "              (value): Linear(in_features=768, out_features=768, bias=True)\n",
              "              (dropout): Dropout(p=0.1, inplace=False)\n",
              "            )\n",
              "            (output): BertSelfOutput(\n",
              "              (dense): Linear(in_features=768, out_features=768, bias=True)\n",
              "              (LayerNorm): LayerNorm((768,), eps=1e-12, elementwise_affine=True)\n",
              "              (dropout): Dropout(p=0.1, inplace=False)\n",
              "            )\n",
              "          )\n",
              "          (intermediate): BertIntermediate(\n",
              "            (dense): Linear(in_features=768, out_features=3072, bias=True)\n",
              "          )\n",
              "          (output): BertOutput(\n",
              "            (dense): Linear(in_features=3072, out_features=768, bias=True)\n",
              "            (LayerNorm): LayerNorm((768,), eps=1e-12, elementwise_affine=True)\n",
              "            (dropout): Dropout(p=0.1, inplace=False)\n",
              "          )\n",
              "        )\n",
              "        (8): BertLayer(\n",
              "          (attention): BertAttention(\n",
              "            (self): BertSelfAttention(\n",
              "              (query): Linear(in_features=768, out_features=768, bias=True)\n",
              "              (key): Linear(in_features=768, out_features=768, bias=True)\n",
              "              (value): Linear(in_features=768, out_features=768, bias=True)\n",
              "              (dropout): Dropout(p=0.1, inplace=False)\n",
              "            )\n",
              "            (output): BertSelfOutput(\n",
              "              (dense): Linear(in_features=768, out_features=768, bias=True)\n",
              "              (LayerNorm): LayerNorm((768,), eps=1e-12, elementwise_affine=True)\n",
              "              (dropout): Dropout(p=0.1, inplace=False)\n",
              "            )\n",
              "          )\n",
              "          (intermediate): BertIntermediate(\n",
              "            (dense): Linear(in_features=768, out_features=3072, bias=True)\n",
              "          )\n",
              "          (output): BertOutput(\n",
              "            (dense): Linear(in_features=3072, out_features=768, bias=True)\n",
              "            (LayerNorm): LayerNorm((768,), eps=1e-12, elementwise_affine=True)\n",
              "            (dropout): Dropout(p=0.1, inplace=False)\n",
              "          )\n",
              "        )\n",
              "        (9): BertLayer(\n",
              "          (attention): BertAttention(\n",
              "            (self): BertSelfAttention(\n",
              "              (query): Linear(in_features=768, out_features=768, bias=True)\n",
              "              (key): Linear(in_features=768, out_features=768, bias=True)\n",
              "              (value): Linear(in_features=768, out_features=768, bias=True)\n",
              "              (dropout): Dropout(p=0.1, inplace=False)\n",
              "            )\n",
              "            (output): BertSelfOutput(\n",
              "              (dense): Linear(in_features=768, out_features=768, bias=True)\n",
              "              (LayerNorm): LayerNorm((768,), eps=1e-12, elementwise_affine=True)\n",
              "              (dropout): Dropout(p=0.1, inplace=False)\n",
              "            )\n",
              "          )\n",
              "          (intermediate): BertIntermediate(\n",
              "            (dense): Linear(in_features=768, out_features=3072, bias=True)\n",
              "          )\n",
              "          (output): BertOutput(\n",
              "            (dense): Linear(in_features=3072, out_features=768, bias=True)\n",
              "            (LayerNorm): LayerNorm((768,), eps=1e-12, elementwise_affine=True)\n",
              "            (dropout): Dropout(p=0.1, inplace=False)\n",
              "          )\n",
              "        )\n",
              "        (10): BertLayer(\n",
              "          (attention): BertAttention(\n",
              "            (self): BertSelfAttention(\n",
              "              (query): Linear(in_features=768, out_features=768, bias=True)\n",
              "              (key): Linear(in_features=768, out_features=768, bias=True)\n",
              "              (value): Linear(in_features=768, out_features=768, bias=True)\n",
              "              (dropout): Dropout(p=0.1, inplace=False)\n",
              "            )\n",
              "            (output): BertSelfOutput(\n",
              "              (dense): Linear(in_features=768, out_features=768, bias=True)\n",
              "              (LayerNorm): LayerNorm((768,), eps=1e-12, elementwise_affine=True)\n",
              "              (dropout): Dropout(p=0.1, inplace=False)\n",
              "            )\n",
              "          )\n",
              "          (intermediate): BertIntermediate(\n",
              "            (dense): Linear(in_features=768, out_features=3072, bias=True)\n",
              "          )\n",
              "          (output): BertOutput(\n",
              "            (dense): Linear(in_features=3072, out_features=768, bias=True)\n",
              "            (LayerNorm): LayerNorm((768,), eps=1e-12, elementwise_affine=True)\n",
              "            (dropout): Dropout(p=0.1, inplace=False)\n",
              "          )\n",
              "        )\n",
              "        (11): BertLayer(\n",
              "          (attention): BertAttention(\n",
              "            (self): BertSelfAttention(\n",
              "              (query): Linear(in_features=768, out_features=768, bias=True)\n",
              "              (key): Linear(in_features=768, out_features=768, bias=True)\n",
              "              (value): Linear(in_features=768, out_features=768, bias=True)\n",
              "              (dropout): Dropout(p=0.1, inplace=False)\n",
              "            )\n",
              "            (output): BertSelfOutput(\n",
              "              (dense): Linear(in_features=768, out_features=768, bias=True)\n",
              "              (LayerNorm): LayerNorm((768,), eps=1e-12, elementwise_affine=True)\n",
              "              (dropout): Dropout(p=0.1, inplace=False)\n",
              "            )\n",
              "          )\n",
              "          (intermediate): BertIntermediate(\n",
              "            (dense): Linear(in_features=768, out_features=3072, bias=True)\n",
              "          )\n",
              "          (output): BertOutput(\n",
              "            (dense): Linear(in_features=3072, out_features=768, bias=True)\n",
              "            (LayerNorm): LayerNorm((768,), eps=1e-12, elementwise_affine=True)\n",
              "            (dropout): Dropout(p=0.1, inplace=False)\n",
              "          )\n",
              "        )\n",
              "      )\n",
              "    )\n",
              "    (pooler): BertPooler(\n",
              "      (dense): Linear(in_features=768, out_features=768, bias=True)\n",
              "      (activation): Tanh()\n",
              "    )\n",
              "  )\n",
              "  (dropout): Dropout(p=0.1, inplace=False)\n",
              "  (classifier): Linear(in_features=768, out_features=2, bias=True)\n",
              ")"
            ]
          },
          "metadata": {
            "tags": []
          },
          "execution_count": 17

        }
      ]
    },
    {
      "cell_type": "markdown",
      "metadata": {
        "id": "epOKQge4_JHw"
      },
      "source": [
        "# Evaluating the test set"
      ]
    },
    {
      "cell_type": "code",
      "metadata": {
        "colab": {
          "base_uri": "https://localhost:8080/"
        },
        "id": "kBgU8-q048iy",
        "outputId": "f099dc59-2be8-4771-bb24-75b0e6c5b983"

      },
      "source": [
        "# Put model in evaluation mode\n",
        "model.eval()\n",
        "\n",
        "# Tracking variables \n",
        "predictions , true_labels = [], []\n",
        "\n",
        "# Predict \n",
        "for batch in prediction_dataloader:\n",
        "  # Add batch to GPU\n",
        "  batch = tuple(t.to(device) for t in batch)\n",
        "  \n",
        "  # Unpack the inputs from our dataloader\n",
        "  b_input_ids, b_input_mask, b_labels = batch\n",
        "  \n",
        "  # Telling the model not to compute or store gradients, saving memory and \n",
        "  # speeding up prediction\n",
        "  with torch.no_grad():\n",
        "      # Forward pass, calculate logit predictions\n",
        "      outputs = model(b_input_ids, token_type_ids=None, \n",
        "                      attention_mask=b_input_mask)\n",
        "\n",
        "  logits = outputs[0]\n",
        "\n",
        "  # Move logits and labels to CPU\n",
        "  logits = logits.detach().cpu().numpy()\n",
        "  label_ids = b_labels.to('cpu').numpy()\n",
        "  \n",
        "\n",
        "#logits = logits[0].detach().cpu().numpy()\n",
        "\n",
        "  # Store predictions and true labels\n",
        "  predictions.append(logits)\n",
        "  true_labels.append(label_ids)\n",
        "\n",
        "print('    DONE.')"
      ],
      "execution_count": 18,
      "outputs": [
        {
          "output_type": "stream",
          "text": [
            "    DONE.\n"
          ],
          "name": "stdout"
        }
      ]
    },
    {
      "cell_type": "code",
      "metadata": {
        "id": "87L9jZ42ty7a"
      },
      "source": [
        "# Function to calculate the accuracy of our predictions vs labels\n",
        "def flat_accuracy(preds, labels):\n",
        "    pred_flat = np.argmax(preds, axis=1).flatten()\n",
        "    labels_flat = labels.flatten()\n",
        "    return np.sum(pred_flat == labels_flat) / len(labels_flat)\n",
        "\n",
        "    #np.argmax(logits, axis=1).flatten()"
      ],
      "execution_count": 19,
      "outputs": []
    },
    {
      "cell_type": "code",
      "metadata": {
        "colab": {
          "base_uri": "https://localhost:8080/"
        },
        "id": "nt12q-Pzu-dz",
        "outputId": "afd94c4d-5df9-47f8-9af0-a16d04f73198"
      },
      "source": [
        "total_eval_accuracy = 0\n",
        "for i in range(len(predictions)):\n",
        "  total_eval_accuracy += flat_accuracy(predictions[i], true_labels[i])\n",
        "print(total_eval_accuracy)"
      ],
      "execution_count": 20,
      "outputs": [
        {
          "output_type": "stream",
          "text": [
            "37.625\n"
          ],
          "name": "stdout"
        }
      ]
    },
    {
      "cell_type": "code",
      "metadata": {
        "colab": {
          "base_uri": "https://localhost:8080/"
        },
        "id": "oZevst2b0Goo",
        "outputId": "5ee51d93-1853-43b4-a5a4-5680d656c4cf"
      },
      "source": [
        "avg_val_accuracy = total_eval_accuracy / len(prediction_dataloader)\n",
        "print(\"  Accuracy: {0:.2f}\".format(avg_val_accuracy))"
      ],
      "execution_count": 21,
      "outputs": [
        {
          "output_type": "stream",
          "text": [
            "  Accuracy: 0.92\n"
          ],
          "name": "stdout"
        }
      ]
    },
    {
      "cell_type": "code",
      "metadata": {
        "colab": {
          "base_uri": "https://localhost:8080/"
        },
        "id": "iSj0Y1-Hzp0u",
        "outputId": "9365585c-55c8-4c04-e019-18d936e57918"
      },
      "source": [
        "pred_flat = np.argmax(predictions[0], axis=1).flatten()\n",
        "labels_flat = true_labels[0].flatten()\n",
        "tot_ev_acc = np.sum(pred_flat == labels_flat) / len(labels_flat)\n",
        "print(tot_ev_acc)"
      ],
      "execution_count": 22,
      "outputs": [
        {
          "output_type": "stream",
          "text": [
            "0.875\n"
          ],
          "name": "stdout"
        }
      ]
    },
    {
      "cell_type": "markdown",
      "metadata": {
        "id": "MwQzlm6D4gja"
      },
      "source": [
        "## Matthews Corr Coef"
      ]
    },
    {
      "cell_type": "code",
      "metadata": {
        "colab": {
          "base_uri": "https://localhost:8080/"
        },
        "id": "nCYgK9lK5vaj",
        "outputId": "2a307f74-125c-4942-9371-747eaa764237"
      },
      "source": [
        "from sklearn.metrics import matthews_corrcoef\n",
        "\n",
        "matthews_set = []\n",
        "\n",
        "# Evaluate each test batch using Matthew's correlation coefficient\n",
        "print('Calculating Matthews Corr. Coef. for each batch...')\n",
        "\n",
        "# For each input batch...\n",
        "for i in range(len(true_labels)):\n",
        "  \n",
        "  # The predictions for this batch are a 2-column ndarray (one column for \"0\" \n",
        "  # and one column for \"1\"). Pick the label with the highest value and turn this\n",
        "  # in to a list of 0s and 1s.\n",
        "  pred_labels_i = np.argmax(predictions[i], axis=1).flatten()\n",
        "  \n",
        "  # Calculate and store the coef for this batch.  \n",
        "  matthews = matthews_corrcoef(true_labels[i], pred_labels_i)                \n",
        "  matthews_set.append(matthews)"
      ],
      "execution_count": 23,
      "outputs": [
        {
          "output_type": "stream",
          "text": [
            "Calculating Matthews Corr. Coef. for each batch...\n"
          ],
          "name": "stdout"
        }
      ]
    },
    {
      "cell_type": "code",
      "metadata": {
        "colab": {
          "base_uri": "https://localhost:8080/",
          "height": 364
        },
        "id": "owhE-rVe6Chi",
        "outputId": "0b5b3459-0f09-4188-cbb3-882f742c1b40"
      },
      "source": [
        "# Increase the plot size and font size.\n",
        "sns.set(font_scale=1.5)\n",
        "plt.rcParams[\"figure.figsize\"] = (12,6)\n",
        "\n",
        "# Create a barplot showing the MCC score for each batch of test samples.\n",
        "ax = sns.barplot(x=list(range(len(matthews_set))), y=matthews_set, ci=None)\n",
        "\n",
        "plt.title('MCC Score per Batch')\n",
        "plt.ylabel('MCC Score (-1 to +1)')\n",
        "plt.xlabel('Batch #')\n",
        "\n",
        "plt.show()"
      ],
      "execution_count": 24,
      "outputs": [
        {
          "output_type": "display_data",
          "data": {
            "image/png": "[encoded data removed]",
            "text/plain": [
              "<Figure size 864x432 with 1 Axes>"
            ]
          },
          "metadata": {
            "tags": []
          }
        }
      ]
    },
    {
      "cell_type": "code",
      "metadata": {
        "colab": {
          "base_uri": "https://localhost:8080/"
        },
        "id": "JieYlTdy6HsK",
        "outputId": "f1f0a5a7-c1a8-47f0-ee60-4b627b4ce476"
      },
      "source": [
        "# Combine the results across all batches. \n",
        "flat_predictions = np.concatenate(predictions, axis=0)\n",
        "\n",
        "# For each sample, pick the label (0 or 1) with the higher score.\n",
        "flat_predictions = np.argmax(flat_predictions, axis=1).flatten()\n",
        "\n",
        "# Combine the correct labels for each batch into a single list.\n",
        "flat_true_labels = np.concatenate(true_labels, axis=0)\n",
        "\n",
        "# Calculate the MCC\n",
        "mcc = matthews_corrcoef(flat_true_labels, flat_predictions)\n",
        "\n",
        "print('Total MCC: %.3f' % mcc)"
      ],
      "execution_count": 25,
      "outputs": [
        {
          "output_type": "stream",
          "text": [
            "Total MCC: 0.834\n"
          ],
          "name": "stdout"
        }
      ]
    },
    {
      "cell_type": "markdown",
      "metadata": {
        "id": "0YAQ7HtH27K1"
      },
      "source": [
        "# Trying with new sentences/ reviews"
      ]
    },
    {
      "cell_type": "code",
      "metadata": {
        "id": "fnZCv7Kb-cy-"
      },
      "source": [
        "from transformers import BertTokenizer\n",
        "tokenizer = BertTokenizer.from_pretrained('/content/drive/MyDrive/Yelp/model_save_4/')\n",
        "#tokenizer = BertTokenizer.from_pretrained('bert-base-uncased', do_lower_case=True)"
      ],
      "execution_count": 31,
      "outputs": []
    },
    {
      "cell_type": "code",
      "metadata": {
        "id": "dw6FdkO56YR7"
      },
      "source": [
        "review_example = 'Very friendly and helpful staff. Increasing my Dutch vocabulary during commute thanks to a great suggestion.'\n",
        "\n",
        "positive_review ='A truly inspiring venue. Friendly, helpful staff. Amazing portraits and awesome surroundings.  Hope to go back sometime soon'\n",
        "#'Great set up. Very good food. Luxury Bar surroundings. Good food but quite pricey. Staff are polite & very helpful. They all look smart.'\n",
        "\n",
        "\n",
        "#'Terrible customer service downstairs within the kitchen appliances department.'\n",
        "negative_review = 'Completely appalled by the lack of assistance or help I received in trying to resolve an issue with an TV that has now been going on for a month. Staff appeared disinterested and unhelpful, despite me explaining I have spent in excess of five hours on hold trying to speak to someone about the resolution of the issue. There is no clarity of who to speak to, no one seems to know what is going on, and no one knows what the resolution is. I appreciate these are challenging times but I and have had no communication in any form from the company, I am the one who appears to doing all the leg work, even having to speak to the repair contractors in person to find out what is happening! Terrible service, terrible aftercare, terrible communication - would seriously advise against making any large electrical purchases from the company.'"
      ],

      "execution_count": 33,
      "outputs": []
    },
    {
      "cell_type": "markdown",
      "metadata": {
        "id": "5itHEcl3-RRy"
      },
      "source": [
        "## experiments"
      ]
    },
    {
      "cell_type": "code",
      "metadata": {
        "colab": {
          "base_uri": "https://localhost:8080/"
        },
        "id": "ZX0qMNRd2_iM",
        "outputId": "f79b868c-b1bc-4f29-fcc4-3232795b60a9"
      },
      "source": [
        "example_tokens = tokenizer.encode_plus(review_example, return_token_type_ids=False, return_tensors = 'pt')\n",
        "example_tokens"
      ],
      "execution_count": null,
      "outputs": [
        {
          "output_type": "execute_result",
          "data": {
            "text/plain": [
              "{'input_ids': tensor([[  101,  2200,  5379,  1998, 14044,  3095,  1012,  4852,  2026,  3803,\n",
              "         16188,  2076,  4012, 26746,  4283,  2000,  1037,  2307, 10293,  1012,\n",
              "           102]]), 'attention_mask': tensor([[1, 1, 1, 1, 1, 1, 1, 1, 1, 1, 1, 1, 1, 1, 1, 1, 1, 1, 1, 1, 1]])}"
            ]
          },
          "metadata": {
            "tags": []
          },
          "execution_count": 74
        }
      ]
    },
    {
      "cell_type": "code",
      "metadata": {
        "colab": {
          "base_uri": "https://localhost:8080/"
        },
        "id": "mEZZBDfD4MuK",
        "outputId": "df9e2d16-5dcf-4241-a8b8-e4295f3707d8"
      },
      "source": [
        "len(example_tokens['input_ids'])"
      ],
      "execution_count": null,
      "outputs": [
        {
          "output_type": "execute_result",
          "data": {
            "text/plain": [
              "1"
            ]
          },
          "metadata": {
            "tags": []
          },
          "execution_count": 78
        }
      ]
    },
    {
      "cell_type": "code",
      "metadata": {
        "colab": {
          "base_uri": "https://localhost:8080/"
        },
        "id": "7TllhIzU4Mlz",
        "outputId": "1973cc7a-c31d-411e-f2f1-86f9bcc2c3da"
      },
      "source": [
        "example_tokens['attention_mask']"
      ],
      "execution_count": null,
      "outputs": [
        {
          "output_type": "execute_result",
          "data": {
            "text/plain": [
              "torch.Tensor"
            ]
          },
          "metadata": {
            "tags": []
          },
          "execution_count": 76
        }
      ]
    },
    {
      "cell_type": "code",
      "metadata": {
        "id": "8ZS21B5G4vrR"
      },
      "source": [
        " # Forward pass, calculate logit predictions\n",
        "      outputs = model(b_input_ids, token_type_ids=None, \n",
        "                      attention_mask=b_input_mask)"

      ],
      "execution_count": null,
      "outputs": []
    },
    {
      "cell_type": "code",
      "metadata": {
        "id": "wwyf2sSE7F1m"
      },
      "source": [
        "example_attention = example_tokens['attention_mask'].to(device)"
      ],
      "execution_count": null,
      "outputs": []
    },
    {
      "cell_type": "code",
      "metadata": {
        "id": "6gUIiko98MxF"
      },
      "source": [
        "example_ids = example_tokens['input_ids'].to(device)"
      ],
      "execution_count": null,
      "outputs": []
    },
    {
      "cell_type": "code",
      "metadata": {
        "colab": {
          "base_uri": "https://localhost:8080/"
        },
        "id": "008GNcWr3lVm",
        "outputId": "343bc60f-374a-4cc5-863b-229d9e9d8fd4"
      },
      "source": [
        " with torch.no_grad():\n",
        "   #output = model(example_tokens['input_ids'], attention_mask=example_tokens['attention_mask'])[0]\n",
        "   output = model(example_ids, attention_mask=example_attention)[0]\n",
        "output = output.detach().cpu().numpy()\n",
        "pred_flat = np.argmax(output, axis=1).flatten()\n",
        "print('label')\n",
        "print(pred_flat.item())"
      ],

      "outputs": [
        {
          "output_type": "stream",
          "text": [
            "label\n",
            "1\n"
          ],
          "name": "stdout"
        }
      ]
    },
    {
      "cell_type": "markdown",
      "metadata": {
        "id": "gO-y1nO2-WY2"
      },
      "source": [
        "## the real test\n",
        "Remember only 2 labels: 0=negative, 1=positive"
      ]
    },
    {
      "cell_type": "code",
      "metadata": {
        "id": "ACwttPA5-jdo"
      },
      "source": [
        "def encode(sequence):\n",
        "  \"\"\"\n",
        "  The copied version was:\n",
        "    return tokenizer.encode_plus(\n",
        "                sequence,\n",
        "                add_special_tokens=True,\n",
        "                max_length= 150,\n",
        "                return_token_type_ids=False,\n",
        "                padding = 'max_length',\n",
        "                return_attention_mask = True,\n",
        "                return_tensors = 'pt',\n",
        "                truncation = True\n",
        "    )\n",
        "  \"\"\" \n",
        "  return tokenizer.encode_plus(sequence, return_token_type_ids=False, return_tensors = 'pt')"
      ],

      "execution_count": 28,
      "outputs": []
    },
    {
      "cell_type": "code",
      "metadata": {
        "id": "mIf8jtdI-lU9"
      },
      "source": [
        "def predict(sequence='I love you a lot. You are really great. You are wonderful and awesome.'):\n",
        "    encoded = encode(sequence)\n",
        "    encoded_ids = encoded['input_ids'].to(device)\n",
        "    enconded_attention = encoded['attention_mask'].to(device)\n",
        "    with torch.no_grad():\n",
        "        output = model(encoded_ids, attention_mask=enconded_attention)[0]\n",
        "        output = output.detach().cpu().numpy()\n",
        "        pred_flat = np.argmax(output, axis=1).flatten()\n",
        "        #sig_factor = torch.sigmoid(output) / torch.sigmoid(output).sum()\n",
        "        #return {'proportional':  sig_factor.numpy().tolist(), 'sigmoid': torch.sigmoid(output).numpy().tolist(), 'stars': pred_flat.item() + 1, 'raw': output.numpy().tolist()}\n",
        "        return {'label': pred_flat.item()}"
      ],
      "execution_count": 29,
      "outputs": []
    },
    {
      "cell_type": "code",
      "metadata": {
        "colab": {
          "base_uri": "https://localhost:8080/"
        },
        "id": "AAxs9fvE9o0p",
        "outputId": "5a5d0c06-bbd9-4588-a20c-53af4c94ed43"
      },
      "source": [
        "predict(positive_review)"
      ],
      "execution_count": 34,
      "outputs": [
        {
          "output_type": "execute_result",
          "data": {
            "text/plain": [
              "{'label': 1}"
            ]
          },
          "metadata": {
            "tags": []
          },
          "execution_count": 34
        }
      ]
    },
    {
      "cell_type": "markdown",
      "metadata": {
        "id": "Q6gGGa7V_aNE"
      },
      "source": [
        "# Converting input ids back to words:"
      ]
    },
    {
      "cell_type": "code",
      "metadata": {
        "colab": {
          "base_uri": "https://localhost:8080/"
        },
        "id": "owuuEvGwxTO_",
        "outputId": "28ea6a0c-baaa-47c8-a656-c4f51406901f"
      },
      "source": [
        "test_df = pd.read_pickle('/content/drive/MyDrive/Yelp/sample_test_650.pkl')\n",
        "test_df.reset_index(drop=True, inplace=True)\n",
        "test_df.shape"
      ],
      "execution_count": 26,
      "outputs": [
        {
          "output_type": "execute_result",
          "data": {
            "text/plain": [
              "(650, 3)"
            ]
          },
          "metadata": {
            "tags": []
          },
          "execution_count": 26
        }
      ]
    },
    {
      "cell_type": "code",
      "metadata": {
        "colab": {
          "base_uri": "https://localhost:8080/",
          "height": 103
        },
        "id": "UiXTYyOHDSZu",
        "outputId": "cf9f8e60-cbf7-4d0c-c6c7-8f7be2cd42e7"
      },
      "source": [
        "test_df.text[2]"
      ],
      "execution_count": 27,
      "outputs": [
        {
          "output_type": "execute_result",
          "data": {
            "application/vnd.google.colaboratory.intrinsic+json": {
              "type": "string"
            },
            "text/plain": [
              "'clean hotel jacuzzi huge shower bathroom huge clean view nice hotel lobby nice valet great bad kept freezing hours minutes time floor heard train night thruout night loud clearly freight train engineer thats thing want waking away work makes nights broken sleep night good stay know vegas people hotel sleep'"
            ]
          },
          "metadata": {
            "tags": []
          },
          "execution_count": 27
        }
      ]
    },
    {
      "cell_type": "code",
      "metadata": {
        "id": "cCgo5ufAJwO8",
        "colab": {
          "base_uri": "https://localhost:8080/",
          "height": 35
        },
        "outputId": "e8238e79-f40f-49b3-d4fd-21f16ca15a00"
      },
      "source": [
        "list(tokenizer.vocab.keys())[4550]"
      ],
      "execution_count": 37,
      "outputs": [
        {
          "output_type": "execute_result",
          "data": {
            "application/vnd.google.colaboratory.intrinsic+json": {
              "type": "string"
            },
            "text/plain": [
              "'clean'"

            ]
          },
          "metadata": {
            "tags": []
          },
          "execution_count": 37
        }
      ]
    },
    {
      "cell_type": "code",
      "metadata": {
        "id": "Q1WsA5USBRyw"
      },
      "source": [
        "review_test = test_dataset[0][0]"
      ],
      "execution_count": null,
      "outputs": []
    },
    {
      "cell_type": "code",
      "metadata": {
        "colab": {
          "base_uri": "https://localhost:8080/",
          "height": 222
        },
        "id": "6U7L9FcXDF3j",
        "outputId": "204fbb06-b37c-4f4d-e95a-df29f96f7f55"
      },
      "source": [
        "tokenizer.decode(test_dataset[2][0])"
      ],
      "execution_count": 35,
      "outputs": [
        {
          "output_type": "execute_result",
          "data": {
            "application/vnd.google.colaboratory.intrinsic+json": {
              "type": "string"
            },
            "text/plain": [

              "'[CLS] clean hotel jacuzzi huge shower bathroom huge clean view nice hotel lobby nice valet great bad kept freezing hours minutes time floor heard train night thruout night loud clearly freight train engineer thats thing want waking away work makes nights broken sleep night good stay know vegas people hotel sleep [SEP] [PAD] [PAD] [PAD] [PAD] [PAD] [PAD] [PAD] [PAD] [PAD] [PAD] [PAD] [PAD] [PAD] [PAD] [PAD] [PAD] [PAD] [PAD] [PAD] [PAD] [PAD] [PAD] [PAD] [PAD] [PAD] [PAD] [PAD] [PAD] [PAD] [PAD] [PAD] [PAD] [PAD] [PAD] [PAD] [PAD] [PAD] [PAD] [PAD] [PAD] [PAD] [PAD] [PAD] [PAD] [PAD] [PAD] [PAD] [PAD] [PAD] [PAD] [PAD] [PAD] [PAD] [PAD] [PAD] [PAD] [PAD] [PAD] [PAD] [PAD] [PAD] [PAD] [PAD] [PAD] [PAD] [PAD] [PAD] [PAD] [PAD] [PAD] [PAD] [PAD] [PAD] [PAD] [PAD] [PAD] [PAD] [PAD] [PAD] [PAD] [PAD] [PAD] [PAD] [PAD] [PAD] [PAD] [PAD] [PAD] [PAD] [PAD] [PAD] [PAD] [PAD] [PAD]'"

            ]
          },
          "metadata": {
            "tags": []
          },
          "execution_count": 35

        }
      ]
    },
    {
      "cell_type": "code",
      "metadata": {
        "id": "66fHiRJzDxhe"
      },
      "source": [
        ""
      ],
      "execution_count": null,
      "outputs": []
    }
  ]
}