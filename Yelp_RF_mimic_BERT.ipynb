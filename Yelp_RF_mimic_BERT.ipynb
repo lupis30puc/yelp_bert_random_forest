{
  "nbformat": 4,
  "nbformat_minor": 0,
  "metadata": {
    "colab": {
      "name": "Yelp-RF_mimic_BERT.ipynb",
      "provenance": [],
      "authorship_tag": "ABX9TyOxnNWImXHIHlQQLRAoAYHg",
      "include_colab_link": true
    },
    "kernelspec": {
      "name": "python3",
      "display_name": "Python 3"
    }
  },
  "cells": [
    {
      "cell_type": "markdown",
      "metadata": {
        "id": "view-in-github",
        "colab_type": "text"
      },
      "source": [
        "<a href=\"https://colab.research.google.com/github/lupis30puc/yelp_bert_random_forest/blob/main/Yelp_RF_mimic_BERT.ipynb\" target=\"_parent\"><img src=\"https://colab.research.google.com/assets/colab-badge.svg\" alt=\"Open In Colab\"/></a>"
      ]
    },
    {
      "cell_type": "markdown",
      "metadata": {
        "id": "RkL_in45z13V"
      },
      "source": [
        "[Yelp Polarity on kaggle](https://www.kaggle.com/yelp-dataset/yelp-dataset)\n",
        "\n",
        "12,993 samples from the Yelp Dataset Challenge 2020. \n",
        "Divided on train, validation and test subsets. \n",
        "Their corresponding sizes are: 10,394 train samples, 1,949 validation samples and 650 test samples.\n",
        "\n",
        "\n",
        "Tutorial on which I support: \n",
        "[Sentiment Analysis Yelp with Random Forest](https://www.kaggle.com/omkarsabnis/sentiment-analysis-on-the-yelp-reviews-dataset)"
      ]
    },
    {
      "cell_type": "code",
      "metadata": {
        "colab": {
          "base_uri": "https://localhost:8080/"
        },
        "id": "IjdBXf7y0FNp",
        "outputId": "266e0c8b-3b15-43dd-bacb-3aabfa79409c"
      },
      "source": [
        "from google.colab import drive\n",
        "drive.mount('/content/drive')"
      ],
      "execution_count": null,
      "outputs": [
        {
          "output_type": "stream",
          "text": [
            "Mounted at /content/drive\n"
          ],
          "name": "stdout"
        }
      ]
    },
    {
      "cell_type": "code",
      "metadata": {
        "colab": {
          "base_uri": "https://localhost:8080/"
        },
        "id": "QChuYu_HzXlF",
        "outputId": "68f70621-3e9f-4c00-f594-df24a08f0024"
      },
      "source": [
        "import pandas as pd\n",
        "import numpy as np\n",
        "import matplotlib.pyplot as plt\n",
        "import seaborn as sns\n",
        "import nltk\n",
        "nltk.download('stopwords')\n",
        "from nltk.corpus import stopwords\n",
        "import string\n",
        "import math\n",
        "from sklearn.feature_extraction.text import CountVectorizer\n",
        "from sklearn.model_selection import train_test_split, cross_val_score, GridSearchCV\n",
        "from sklearn.metrics import classification_report\n",
        "from sklearn.metrics import confusion_matrix, accuracy_score, roc_auc_score, roc_curve\n",
        "%matplotlib inline\n",
        "import time"
      ],
      "execution_count": null,
      "outputs": [
        {
          "output_type": "stream",
          "text": [
            "[nltk_data] Downloading package stopwords to /root/nltk_data...\n",
            "[nltk_data]   Unzipping corpora/stopwords.zip.\n"
          ],
          "name": "stdout"
        }
      ]
    },
    {
      "cell_type": "code",
      "metadata": {
        "id": "qvKCRErs0K9M"
      },
      "source": [
        "train_df = pd.read_pickle('/content/drive/MyDrive/Yelp/sample_train_10394.pkl')\n",
        "validation_df = pd.read_pickle('/content/drive/MyDrive/Yelp/sample_validation_1949.pkl')\n",
        "test_df = pd.read_pickle('/content/drive/MyDrive/Yelp/sample_test_650.pkl')"
      ],
      "execution_count": null,
      "outputs": []
    },
    {
      "cell_type": "code",
      "metadata": {
        "id": "ucOJ7NdsdHIK"
      },
      "source": [
        "sample_df = pd.read_pickle('/content/drive/MyDrive/Yelp/sample_yelp_reviews_12993.pkl')"
      ],
      "execution_count": null,
      "outputs": []
    },
    {
      "cell_type": "code",
      "metadata": {
        "colab": {
          "base_uri": "https://localhost:8080/",
          "height": 204
        },
        "id": "Ic-uim-b3RdT",
        "outputId": "20ea1a6d-13a5-4632-f9fd-eea3ce97cff3"
      },
      "source": [
        "train_df.reset_index(drop=True, inplace=True)\n",
        "validation_df.reset_index(drop=True, inplace=True)\n",
        "test_df.reset_index(drop=True, inplace=True)\n",
        "train_df.head()"
      ],
      "execution_count": null,
      "outputs": [
        {
          "output_type": "execute_result",
          "data": {
            "text/html": [
              "<div>\n",
              "<style scoped>\n",
              "    .dataframe tbody tr th:only-of-type {\n",
              "        vertical-align: middle;\n",
              "    }\n",
              "\n",
              "    .dataframe tbody tr th {\n",
              "        vertical-align: top;\n",
              "    }\n",
              "\n",
              "    .dataframe thead th {\n",
              "        text-align: right;\n",
              "    }\n",
              "</style>\n",
              "<table border=\"1\" class=\"dataframe\">\n",
              "  <thead>\n",
              "    <tr style=\"text-align: right;\">\n",
              "      <th></th>\n",
              "      <th>text</th>\n",
              "      <th>label</th>\n",
              "    </tr>\n",
              "  </thead>\n",
              "  <tbody>\n",
              "    <tr>\n",
              "      <th>0</th>\n",
              "      <td>Second best pool in Las Vegas!  Pay the $20, c...</td>\n",
              "      <td>1</td>\n",
              "    </tr>\n",
              "    <tr>\n",
              "      <th>1</th>\n",
              "      <td>We went there on a Tuesday night in Jan. 2010....</td>\n",
              "      <td>0</td>\n",
              "    </tr>\n",
              "    <tr>\n",
              "      <th>2</th>\n",
              "      <td>My experience duplicates all other above/below...</td>\n",
              "      <td>0</td>\n",
              "    </tr>\n",
              "    <tr>\n",
              "      <th>3</th>\n",
              "      <td>Mmmmmmr. Sushi! \\n\\nThis was the place I lost ...</td>\n",
              "      <td>1</td>\n",
              "    </tr>\n",
              "    <tr>\n",
              "      <th>4</th>\n",
              "      <td>It is a little off the strip,  but they provid...</td>\n",
              "      <td>1</td>\n",
              "    </tr>\n",
              "  </tbody>\n",
              "</table>\n",
              "</div>"
            ],
            "text/plain": [
              "                                                text  label\n",
              "0  Second best pool in Las Vegas!  Pay the $20, c...      1\n",
              "1  We went there on a Tuesday night in Jan. 2010....      0\n",
              "2  My experience duplicates all other above/below...      0\n",
              "3  Mmmmmmr. Sushi! \\n\\nThis was the place I lost ...      1\n",
              "4  It is a little off the strip,  but they provid...      1"
            ]
          },
          "metadata": {
            "tags": []
          },
          "execution_count": 6
        }
      ]
    },
    {
      "cell_type": "code",
      "metadata": {
        "colab": {
          "base_uri": "https://localhost:8080/",
          "height": 204
        },
        "id": "0oUSW8pWdcv_",
        "outputId": "46128387-98a2-4e2e-8c88-8766b8463493"
      },
      "source": [
        "sample_df.head()"
      ],
      "execution_count": null,
      "outputs": [
        {
          "output_type": "execute_result",
          "data": {
            "text/html": [
              "<div>\n",
              "<style scoped>\n",
              "    .dataframe tbody tr th:only-of-type {\n",
              "        vertical-align: middle;\n",
              "    }\n",
              "\n",
              "    .dataframe tbody tr th {\n",
              "        vertical-align: top;\n",
              "    }\n",
              "\n",
              "    .dataframe thead th {\n",
              "        text-align: right;\n",
              "    }\n",
              "</style>\n",
              "<table border=\"1\" class=\"dataframe\">\n",
              "  <thead>\n",
              "    <tr style=\"text-align: right;\">\n",
              "      <th></th>\n",
              "      <th>text</th>\n",
              "      <th>label</th>\n",
              "    </tr>\n",
              "  </thead>\n",
              "  <tbody>\n",
              "    <tr>\n",
              "      <th>0</th>\n",
              "      <td>This actually used to be one of my favorite ho...</td>\n",
              "      <td>0</td>\n",
              "    </tr>\n",
              "    <tr>\n",
              "      <th>1</th>\n",
              "      <td>Decent food. Fishermen lobster or even congee ...</td>\n",
              "      <td>0</td>\n",
              "    </tr>\n",
              "    <tr>\n",
              "      <th>2</th>\n",
              "      <td>Pros: Fun atmosphere, great for people watchin...</td>\n",
              "      <td>0</td>\n",
              "    </tr>\n",
              "    <tr>\n",
              "      <th>3</th>\n",
              "      <td>I love bookstores, and I love to spend some ti...</td>\n",
              "      <td>0</td>\n",
              "    </tr>\n",
              "    <tr>\n",
              "      <th>4</th>\n",
              "      <td>I passed Five Guys, In-N-Out, Carl's Jr, and S...</td>\n",
              "      <td>0</td>\n",
              "    </tr>\n",
              "  </tbody>\n",
              "</table>\n",
              "</div>"
            ],
            "text/plain": [
              "                                                text  label\n",
              "0  This actually used to be one of my favorite ho...      0\n",
              "1  Decent food. Fishermen lobster or even congee ...      0\n",
              "2  Pros: Fun atmosphere, great for people watchin...      0\n",
              "3  I love bookstores, and I love to spend some ti...      0\n",
              "4  I passed Five Guys, In-N-Out, Carl's Jr, and S...      0"
            ]
          },
          "metadata": {
            "tags": []
          },
          "execution_count": 4
        }
      ]
    },
    {
      "cell_type": "markdown",
      "metadata": {
        "id": "eWnwqQYZ3KY6"
      },
      "source": [
        "## Cleaning"
      ]
    },
    {
      "cell_type": "code",
      "metadata": {
        "id": "BHFGNGtG7pKj"
      },
      "source": [
        "# Get the lists of sentences and their labels.\n",
        "train_x = train_df.text.values\n",
        "train_y = train_df.label.values\n",
        "\n",
        "val_x = validation_df.text.values\n",
        "val_y = validation_df.label.values\n",
        "\n",
        "test_x = test_df.text.values\n",
        "test_y = test_df.label.values"
      ],
      "execution_count": null,
      "outputs": []
    },
    {
      "cell_type": "code",
      "metadata": {
        "id": "BIwvSpreeXzB"
      },
      "source": [
        "sample_x = sample_df.text.values\n",
        "sample_y = sample_df.label.values"
      ],
      "execution_count": null,
      "outputs": []
    },
    {
      "cell_type": "code",
      "metadata": {
        "id": "pEdcMEAB3Jtb"
      },
      "source": [
        "# CLEANING THE REVIEWS - REMOVAL OF STOPWORDS AND PUNCTUATION\n",
        "def text_process(text):\n",
        "    nopunc = [char for char in text if char not in string.punctuation]\n",
        "    nopunc = ''.join(nopunc)\n",
        "    return [word for word in nopunc.split() if word.lower() not in stopwords.words('english')]"
      ],
      "execution_count": null,
      "outputs": []
    },
    {
      "cell_type": "markdown",
      "metadata": {
        "id": "s0ucCtMG6yO6"
      },
      "source": [
        "### Tr"
      ]
    },
    {
      "cell_type": "code",
      "metadata": {
        "id": "wuDP20IV7cAu"
      },
      "source": [
        "# CLASSIFICATION\n",
        "data_classes = data[(data['stars']==1) | (data['stars']==3) | (data['stars']==5)]\n",
        "data_classes.head()\n",
        "print(data_classes.shape)\n",
        "\n",
        "# Seperate the dataset into X and Y for prediction\n",
        "x = data_classes['text']\n",
        "y = data_classes['stars']\n",
        "print(x.head())\n",
        "print(y.head())"
      ],
      "execution_count": null,
      "outputs": []
    },
    {
      "cell_type": "code",
      "metadata": {
        "colab": {
          "base_uri": "https://localhost:8080/"
        },
        "id": "XjVv1ufX7IKr",
        "outputId": "5b9463bb-af63-4380-c349-1b48313dbdf9"
      },
      "source": [
        "%%time\n",
        "# CONVERTING THE WORDS INTO A VECTOR\n",
        "vocab = CountVectorizer(analyzer=text_process).fit(train_x)\n",
        "print(len(vocab.vocabulary_))\n",
        "r0 = train_x[0]\n",
        "print(r0)\n",
        "vocab0 = vocab.transform([r0])\n",
        "print(vocab0)\n"
      ],
      "execution_count": null,
      "outputs": [
        {
          "output_type": "stream",
          "text": [
            "39269\n",
            "Second best pool in Las Vegas!  Pay the $20, commit to being here all day, and drink the overpriced drinks while 80's and 90's hits are blast from the speakers.  They won't let you bring in your own alcohol (they are nice about it, but they do check), and the pools are fun and creative.  There's one for kids especially, and there's one for adults as well as a water slide.\n",
            "\n",
            "We did the massage at the Spa in the Flamingo!  Pretty outstanding.\n",
            "  (0, 428)\t1\n",
            "  (0, 1209)\t1\n",
            "  (0, 1316)\t1\n",
            "  (0, 5383)\t1\n",
            "  (0, 7541)\t1\n",
            "  (0, 9642)\t1\n",
            "  (0, 10038)\t1\n",
            "  (0, 11183)\t1\n",
            "  (0, 11671)\t1\n",
            "  (0, 12392)\t1\n",
            "  (0, 12971)\t1\n",
            "  (0, 14038)\t1\n",
            "  (0, 14231)\t1\n",
            "  (0, 15729)\t1\n",
            "  (0, 15949)\t1\n",
            "  (0, 16414)\t1\n",
            "  (0, 17364)\t1\n",
            "  (0, 18118)\t1\n",
            "  (0, 18903)\t1\n",
            "  (0, 19337)\t1\n",
            "  (0, 20508)\t1\n",
            "  (0, 20524)\t1\n",
            "  (0, 21284)\t1\n",
            "  (0, 22843)\t1\n",
            "  (0, 24237)\t1\n",
            "  (0, 25804)\t1\n",
            "  (0, 26286)\t1\n",
            "  (0, 27128)\t1\n",
            "  (0, 28332)\t1\n",
            "  (0, 28925)\t2\n",
            "  (0, 29224)\t1\n",
            "  (0, 29314)\t1\n",
            "  (0, 30501)\t1\n",
            "  (0, 30506)\t1\n",
            "  (0, 34206)\t1\n",
            "  (0, 34731)\t1\n",
            "  (0, 36425)\t1\n",
            "  (0, 38439)\t1\n",
            "  (0, 38567)\t1\n",
            "  (0, 38885)\t1\n",
            "CPU times: user 1min 47s, sys: 12.6 s, total: 2min\n",
            "Wall time: 2min\n"
          ],
          "name": "stdout"
        }
      ]
    },
    {
      "cell_type": "code",
      "metadata": {
        "colab": {
          "base_uri": "https://localhost:8080/"
        },
        "id": "1B81IsBH7-JJ",
        "outputId": "ff3a4459-3175-4c60-f191-e448a2dd2b39"
      },
      "source": [
        "\"\"\"\n",
        "    Now the words in the review number 78 have been converted into a vector.\n",
        "    The data that we can see is the transformed words.\n",
        "    If we now get the feature's name - we can get the word back!\n",
        "\"\"\"\n",
        "print(\"Getting the words back:\")\n",
        "print(vocab.get_feature_names()[428])\n",
        "print(vocab.get_feature_names()[16414])"
      ],
      "execution_count": null,
      "outputs": [
        {
          "output_type": "stream",
          "text": [
            "Getting the words back:\n",
            "20\n",
            "bring\n"
          ],
          "name": "stdout"
        }
      ]
    },
    {
      "cell_type": "code",
      "metadata": {
        "colab": {
          "base_uri": "https://localhost:8080/"
        },
        "id": "oWduwKLC7BPQ",
        "outputId": "3c8c1f44-feca-432c-bcb8-7d14e4fde692"
      },
      "source": [
        "x = vocab.transform(train_x)\n",
        "#Shape of the matrix:\n",
        "print(\"Shape of the sparse matrix: \", x.shape)\n",
        "#Non-zero occurences:\n",
        "print(\"Non-Zero occurences: \",x.nnz)\n",
        "\n",
        "# DENSITY OF THE MATRIX\n",
        "density = (x.nnz/(x.shape[0]*x.shape[1]))*100\n",
        "print(\"Density of the matrix = \",density)"
      ],
      "execution_count": null,
      "outputs": [
        {
          "output_type": "stream",
          "text": [
            "Shape of the sparse matrix:  (10394, 39269)\n",
            "Non-Zero occurences:  520479\n",
            "Density of the matrix =  0.1275177546788985\n"
          ],
          "name": "stdout"
        }
      ]
    },
    {
      "cell_type": "code",
      "metadata": {
        "colab": {
          "base_uri": "https://localhost:8080/"
        },
        "id": "ExnpJ4p--bQc",
        "outputId": "8f3e124c-bc08-49dd-eb2c-4c2cdcd9d2bc"
      },
      "source": [
        "%%time\n",
        "# CONVERTING THE WORDS INTO A VECTOR\n",
        "vocab2 = CountVectorizer(analyzer=text_process).fit(test_x)\n",
        "x2 = vocab.transform(test_x)\n",
        "#Shape of the matrix:\n",
        "print(\"Shape of the sparse matrix: \", x.shape)\n",
        "#Non-zero occurences:\n",
        "print(\"Non-Zero occurences: \",x.nnz)\n",
        "\n",
        "# DENSITY OF THE MATRIX\n",
        "density = (x.nnz/(x.shape[0]*x.shape[1]))*100\n",
        "print(\"Density of the matrix = \",density)"
      ],
      "execution_count": null,
      "outputs": [
        {
          "output_type": "stream",
          "text": [
            "Shape of the sparse matrix:  (10394, 39269)\n",
            "Non-Zero occurences:  520479\n",
            "Density of the matrix =  0.1275177546788985\n"
          ],
          "name": "stdout"
        }
      ]
    },
    {
      "cell_type": "markdown",
      "metadata": {
        "id": "eI5j1xakhTR7"
      },
      "source": [
        "## Training"
      ]
    },
    {
      "cell_type": "code",
      "metadata": {
        "colab": {
          "base_uri": "https://localhost:8080/"
        },
        "id": "vnkcNI59evRz",
        "outputId": "16c35d3e-6955-4cc0-de1b-1810235a19ca"
      },
      "source": [
        "%%time\n",
        "# CONVERTING THE WORDS INTO A VECTOR\n",
        "vocab = CountVectorizer(analyzer=text_process).fit(sample_x)\n",
        "x = vocab.transform(sample_x)\n",
        "#Shape of the matrix:\n",
        "print(\"Shape of the sparse matrix: \", x.shape)\n",
        "#Non-zero occurences:\n",
        "print(\"Non-Zero occurences: \",x.nnz)\n",
        "\n",
        "# DENSITY OF THE MATRIX\n",
        "density = (x.nnz/(x.shape[0]*x.shape[1]))*100\n",
        "print(\"Density of the matrix = \",density)"
      ],
      "execution_count": null,
      "outputs": [
        {
          "output_type": "stream",
          "text": [
            "Shape of the sparse matrix:  (12993, 44314)\n",
            "Non-Zero occurences:  650798\n",
            "Density of the matrix =  0.11303054400013844\n",
            "CPU times: user 5min 27s, sys: 40.9 s, total: 6min 8s\n",
            "Wall time: 6min 8s\n"
          ],
          "name": "stdout"
        }
      ]
    },
    {
      "cell_type": "code",
      "metadata": {
        "id": "bfXPRujV7Dbu"
      },
      "source": [
        "# SPLITTING THE DATASET INTO TRAINING SET AND TESTING SET\n",
        "# SAME RANDOM STATE AS IN BERT....\n",
        "x_train,x_test,y_train,y_test = train_test_split(x,sample_y,test_size=0.2,random_state=42)"
      ],
      "execution_count": null,
      "outputs": []
    },
    {
      "cell_type": "code",
      "metadata": {
        "colab": {
          "base_uri": "https://localhost:8080/"
        },
        "id": "VkXQLh9NgjrI",
        "outputId": "dc0acd54-7ecd-48cc-890e-46434dd97437"
      },
      "source": [
        "len(y_train)"
      ],
      "execution_count": null,
      "outputs": [
        {
          "output_type": "execute_result",
          "data": {
            "text/plain": [
              "10394"
            ]
          },
          "metadata": {
            "tags": []
          },
          "execution_count": 17
        }
      ]
    },
    {
      "cell_type": "code",
      "metadata": {
        "colab": {
          "base_uri": "https://localhost:8080/"
        },
        "id": "oSZS_jUI6x1K",
        "outputId": "399d7fbc-2207-4b8c-8d37-346753739ee5"
      },
      "source": [
        "%%time\n",
        "# Random Forest\n",
        "from sklearn.ensemble import RandomForestClassifier\n",
        "rmfr = RandomForestClassifier()\n",
        "rmfr.fit(x_train,y_train)"
      ],
      "execution_count": null,
      "outputs": [
        {
          "output_type": "stream",
          "text": [
            "CPU times: user 26.6 s, sys: 45.2 ms, total: 26.6 s\n",
            "Wall time: 26.6 s\n"
          ],
          "name": "stdout"
        }
      ]
    },
    {
      "cell_type": "code",
      "metadata": {
        "colab": {
          "base_uri": "https://localhost:8080/"
        },
        "id": "_TWaji99-SE7",
        "outputId": "bc49bcaa-54b3-4791-e545-5e2e1e5c9e21"
      },
      "source": [
        "%%time\n",
        "predrmfr = rmfr.predict(x_test)\n",
        "print(\"Confusion Matrix for Random Forest Classifier:\")\n",
        "print(confusion_matrix(y_test,predrmfr))\n",
        "print(\"Score:\",round(accuracy_score(y_test,predrmfr)*100,2))\n",
        "print(\"Classification Report:\")\n",
        "print(classification_report(y_test,predrmfr))"
      ],
      "execution_count": null,
      "outputs": [
        {
          "output_type": "stream",
          "text": [
            "Confusion Matrix for Random Forest Classifier:\n",
            "[[1165  137]\n",
            " [ 210 1087]]\n",
            "Score: 86.65\n",
            "Classification Report:\n",
            "              precision    recall  f1-score   support\n",
            "\n",
            "           0       0.85      0.89      0.87      1302\n",
            "           1       0.89      0.84      0.86      1297\n",
            "\n",
            "    accuracy                           0.87      2599\n",
            "   macro avg       0.87      0.87      0.87      2599\n",
            "weighted avg       0.87      0.87      0.87      2599\n",
            "\n",
            "CPU times: user 218 ms, sys: 3.79 ms, total: 222 ms\n",
            "Wall time: 225 ms\n"
          ],
          "name": "stdout"
        }
      ]
    },
    {
      "cell_type": "code",
      "metadata": {
        "id": "iG3el2lq_DHw"
      },
      "source": [
        "importance = rmfr.feature_importances_"
      ],
      "execution_count": null,
      "outputs": []
    },
    {
      "cell_type": "code",
      "metadata": {
        "colab": {
          "base_uri": "https://localhost:8080/"
        },
        "id": "jkZUwfMmrpE1",
        "outputId": "a6506b28-a0e2-4c97-d5ce-91c2cec3ceca"
      },
      "source": [
        "len(importance)"
      ],
      "execution_count": null,
      "outputs": [
        {
          "output_type": "execute_result",
          "data": {
            "text/plain": [
              "44314"
            ]
          },
          "metadata": {
            "tags": []
          },
          "execution_count": 26
        }
      ]
    },
    {
      "cell_type": "code",
      "metadata": {
        "id": "SYnQ4xXRqfha"
      },
      "source": [
        "feature_names = vocab.get_feature_names()"
      ],
      "execution_count": null,
      "outputs": []
    },
    {
      "cell_type": "code",
      "metadata": {
        "id": "cD7L8G3zryEf"
      },
      "source": [
        "#feature_importance = pd.DataFrame(feature_names, importance, columns=['feature_names', 'importance'])\n",
        "feature_importance = pd.DataFrame({'keys': feature_names, 'imp': importance})"
      ],
      "execution_count": null,
      "outputs": []
    },
    {
      "cell_type": "code",
      "metadata": {
        "colab": {
          "base_uri": "https://localhost:8080/",
          "height": 204
        },
        "id": "Y2wFec3WsUtN",
        "outputId": "f7564078-e063-4763-994b-09e1e22e5220"
      },
      "source": [
        "feature_importance.head()"
      ],
      "execution_count": null,
      "outputs": [
        {
          "output_type": "execute_result",
          "data": {
            "text/html": [
              "<div>\n",
              "<style scoped>\n",
              "    .dataframe tbody tr th:only-of-type {\n",
              "        vertical-align: middle;\n",
              "    }\n",
              "\n",
              "    .dataframe tbody tr th {\n",
              "        vertical-align: top;\n",
              "    }\n",
              "\n",
              "    .dataframe thead th {\n",
              "        text-align: right;\n",
              "    }\n",
              "</style>\n",
              "<table border=\"1\" class=\"dataframe\">\n",
              "  <thead>\n",
              "    <tr style=\"text-align: right;\">\n",
              "      <th></th>\n",
              "      <th>keys</th>\n",
              "      <th>imp</th>\n",
              "    </tr>\n",
              "  </thead>\n",
              "  <tbody>\n",
              "    <tr>\n",
              "      <th>0</th>\n",
              "      <td>0</td>\n",
              "      <td>0.0</td>\n",
              "    </tr>\n",
              "    <tr>\n",
              "      <th>1</th>\n",
              "      <td>00</td>\n",
              "      <td>0.0</td>\n",
              "    </tr>\n",
              "    <tr>\n",
              "      <th>2</th>\n",
              "      <td>000</td>\n",
              "      <td>0.0</td>\n",
              "    </tr>\n",
              "    <tr>\n",
              "      <th>3</th>\n",
              "      <td>007</td>\n",
              "      <td>0.0</td>\n",
              "    </tr>\n",
              "    <tr>\n",
              "      <th>4</th>\n",
              "      <td>01</td>\n",
              "      <td>0.0</td>\n",
              "    </tr>\n",
              "  </tbody>\n",
              "</table>\n",
              "</div>"
            ],
            "text/plain": [
              "  keys  imp\n",
              "0    0  0.0\n",
              "1   00  0.0\n",
              "2  000  0.0\n",
              "3  007  0.0\n",
              "4   01  0.0"
            ]
          },
          "metadata": {
            "tags": []
          },
          "execution_count": 33
        }
      ]
    },
    {
      "cell_type": "code",
      "metadata": {
        "colab": {
          "base_uri": "https://localhost:8080/",
          "height": 419
        },
        "id": "wtDdXz6ftEwX",
        "outputId": "9b527e05-9b16-48d3-f563-12c83153b3aa"
      },
      "source": [
        "feature_importance.sort_values(by=['imp'], ascending=False)"
      ],
      "execution_count": null,
      "outputs": [
        {
          "output_type": "execute_result",
          "data": {
            "text/html": [
              "<div>\n",
              "<style scoped>\n",
              "    .dataframe tbody tr th:only-of-type {\n",
              "        vertical-align: middle;\n",
              "    }\n",
              "\n",
              "    .dataframe tbody tr th {\n",
              "        vertical-align: top;\n",
              "    }\n",
              "\n",
              "    .dataframe thead th {\n",
              "        text-align: right;\n",
              "    }\n",
              "</style>\n",
              "<table border=\"1\" class=\"dataframe\">\n",
              "  <thead>\n",
              "    <tr style=\"text-align: right;\">\n",
              "      <th></th>\n",
              "      <th>keys</th>\n",
              "      <th>imp</th>\n",
              "    </tr>\n",
              "  </thead>\n",
              "  <tbody>\n",
              "    <tr>\n",
              "      <th>44313</th>\n",
              "      <td>～＾＾～The</td>\n",
              "      <td>0.015123</td>\n",
              "    </tr>\n",
              "    <tr>\n",
              "      <th>44312</th>\n",
              "      <td>，buy</td>\n",
              "      <td>0.007866</td>\n",
              "    </tr>\n",
              "    <tr>\n",
              "      <th>44311</th>\n",
              "      <td>附近来讲算ok大间的tim</td>\n",
              "      <td>0.007128</td>\n",
              "    </tr>\n",
              "    <tr>\n",
              "      <th>44310</th>\n",
              "      <td>豆沙鍋餅</td>\n",
              "      <td>0.006616</td>\n",
              "    </tr>\n",
              "    <tr>\n",
              "      <th>44309</th>\n",
              "      <td>蒙古羊肉面</td>\n",
              "      <td>0.006184</td>\n",
              "    </tr>\n",
              "    <tr>\n",
              "      <th>...</th>\n",
              "      <td>...</td>\n",
              "      <td>...</td>\n",
              "    </tr>\n",
              "    <tr>\n",
              "      <th>13162</th>\n",
              "      <td>Smash</td>\n",
              "      <td>0.000000</td>\n",
              "    </tr>\n",
              "    <tr>\n",
              "      <th>13163</th>\n",
              "      <td>Smashburger</td>\n",
              "      <td>0.000000</td>\n",
              "    </tr>\n",
              "    <tr>\n",
              "      <th>13164</th>\n",
              "      <td>Smashed</td>\n",
              "      <td>0.000000</td>\n",
              "    </tr>\n",
              "    <tr>\n",
              "      <th>13165</th>\n",
              "      <td>Smear</td>\n",
              "      <td>0.000000</td>\n",
              "    </tr>\n",
              "    <tr>\n",
              "      <th>0</th>\n",
              "      <td>0</td>\n",
              "      <td>0.000000</td>\n",
              "    </tr>\n",
              "  </tbody>\n",
              "</table>\n",
              "<p>44314 rows × 2 columns</p>\n",
              "</div>"
            ],
            "text/plain": [
              "                keys       imp\n",
              "44313        ～＾＾～The  0.015123\n",
              "44312           ，buy  0.007866\n",
              "44311  附近来讲算ok大间的tim  0.007128\n",
              "44310           豆沙鍋餅  0.006616\n",
              "44309          蒙古羊肉面  0.006184\n",
              "...              ...       ...\n",
              "13162          Smash  0.000000\n",
              "13163    Smashburger  0.000000\n",
              "13164        Smashed  0.000000\n",
              "13165          Smear  0.000000\n",
              "0                  0  0.000000\n",
              "\n",
              "[44314 rows x 2 columns]"
            ]
          },
          "metadata": {
            "tags": []
          },
          "execution_count": 34
        }
      ]
    },
    {
      "cell_type": "code",
      "metadata": {
        "id": "Vgkn86Pbqi10"
      },
      "source": [
        "'/content/drive/MyDrive/Yelp/sample_yelp_tensors'"
      ],
      "execution_count": null,
      "outputs": []
    }
  ]
}