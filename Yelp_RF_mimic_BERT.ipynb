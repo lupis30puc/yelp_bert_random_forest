{
  "nbformat": 4,
  "nbformat_minor": 0,
  "metadata": {
    "colab": {
      "name": "Yelp-RF_mimic_BERT.ipynb",
      "provenance": [],
      "collapsed_sections": [
        "pLHvT1N15Xyy"
      ],
      "authorship_tag": "ABX9TyPC502mU94lb2Oys6wxnSbx",
      "include_colab_link": true
    },
    "kernelspec": {
      "name": "python3",
      "display_name": "Python 3"
    }
  },
  "cells": [
    {
      "cell_type": "markdown",
      "metadata": {
        "id": "view-in-github",
        "colab_type": "text"
      },
      "source": [
        "<a href=\"https://colab.research.google.com/github/lupis30puc/yelp_bert_random_forest/blob/update-5/Yelp_RF_mimic_BERT.ipynb\" target=\"_parent\"><img src=\"https://colab.research.google.com/assets/colab-badge.svg\" alt=\"Open In Colab\"/></a>"
      ]
    },
    {
      "cell_type": "markdown",
      "metadata": {
        "id": "RkL_in45z13V"
      },
      "source": [
        "[Yelp Polarity on kaggle](https://www.kaggle.com/yelp-dataset/yelp-dataset)\n",
        "\n",
        "12,993 samples from the Yelp Dataset Challenge 2020. \n",
        "Divided on train, validation and test subsets. \n",
        "Their corresponding sizes are: 10,394 train samples, 1,949 validation samples and 650 test samples.\n",
        "\n",
        "\n",
        "Tutorial on which I support: \n",
        "[Sentiment Analysis Yelp with Random Forest](https://www.kaggle.com/omkarsabnis/sentiment-analysis-on-the-yelp-reviews-dataset)"
      ]
    },
    {
      "cell_type": "markdown",
      "metadata": {
        "id": "nETqeBDi-3UQ"
      },
      "source": [
        "## Set Up"
      ]
    },
    {
      "cell_type": "code",
      "metadata": {
        "colab": {
          "base_uri": "https://localhost:8080/"
        },
        "id": "OCny6iekoaAz",
        "outputId": "d13f39bb-b1e6-43cc-db1b-af3ce1a65b05"
      },
      "source": [
        "!pip install transformers"
      ],
      "execution_count": null,
      "outputs": [
        {
          "output_type": "stream",
          "text": [
            "Collecting transformers\n",
            "\u001b[?25l  Downloading https://files.pythonhosted.org/packages/88/b1/41130a228dd656a1a31ba281598a968320283f48d42782845f6ba567f00b/transformers-4.2.2-py3-none-any.whl (1.8MB)\n",
            "\u001b[K     |████████████████████████████████| 1.8MB 5.7MB/s \n",
            "\u001b[?25hRequirement already satisfied: filelock in /usr/local/lib/python3.6/dist-packages (from transformers) (3.0.12)\n",
            "Requirement already satisfied: tqdm>=4.27 in /usr/local/lib/python3.6/dist-packages (from transformers) (4.41.1)\n",
            "Requirement already satisfied: importlib-metadata; python_version < \"3.8\" in /usr/local/lib/python3.6/dist-packages (from transformers) (3.3.0)\n",
            "Collecting sacremoses\n",
            "\u001b[?25l  Downloading https://files.pythonhosted.org/packages/7d/34/09d19aff26edcc8eb2a01bed8e98f13a1537005d31e95233fd48216eed10/sacremoses-0.0.43.tar.gz (883kB)\n",
            "\u001b[K     |████████████████████████████████| 890kB 21.3MB/s \n",
            "\u001b[?25hRequirement already satisfied: packaging in /usr/local/lib/python3.6/dist-packages (from transformers) (20.8)\n",
            "Requirement already satisfied: requests in /usr/local/lib/python3.6/dist-packages (from transformers) (2.23.0)\n",
            "Collecting tokenizers==0.9.4\n",
            "\u001b[?25l  Downloading https://files.pythonhosted.org/packages/0f/1c/e789a8b12e28be5bc1ce2156cf87cb522b379be9cadc7ad8091a4cc107c4/tokenizers-0.9.4-cp36-cp36m-manylinux2010_x86_64.whl (2.9MB)\n",
            "\u001b[K     |████████████████████████████████| 2.9MB 23.9MB/s \n",
            "\u001b[?25hRequirement already satisfied: numpy in /usr/local/lib/python3.6/dist-packages (from transformers) (1.19.5)\n",
            "Requirement already satisfied: regex!=2019.12.17 in /usr/local/lib/python3.6/dist-packages (from transformers) (2019.12.20)\n",
            "Requirement already satisfied: dataclasses; python_version < \"3.7\" in /usr/local/lib/python3.6/dist-packages (from transformers) (0.8)\n",
            "Requirement already satisfied: zipp>=0.5 in /usr/local/lib/python3.6/dist-packages (from importlib-metadata; python_version < \"3.8\"->transformers) (3.4.0)\n",
            "Requirement already satisfied: typing-extensions>=3.6.4; python_version < \"3.8\" in /usr/local/lib/python3.6/dist-packages (from importlib-metadata; python_version < \"3.8\"->transformers) (3.7.4.3)\n",
            "Requirement already satisfied: six in /usr/local/lib/python3.6/dist-packages (from sacremoses->transformers) (1.15.0)\n",
            "Requirement already satisfied: click in /usr/local/lib/python3.6/dist-packages (from sacremoses->transformers) (7.1.2)\n",
            "Requirement already satisfied: joblib in /usr/local/lib/python3.6/dist-packages (from sacremoses->transformers) (1.0.0)\n",
            "Requirement already satisfied: pyparsing>=2.0.2 in /usr/local/lib/python3.6/dist-packages (from packaging->transformers) (2.4.7)\n",
            "Requirement already satisfied: idna<3,>=2.5 in /usr/local/lib/python3.6/dist-packages (from requests->transformers) (2.10)\n",
            "Requirement already satisfied: certifi>=2017.4.17 in /usr/local/lib/python3.6/dist-packages (from requests->transformers) (2020.12.5)\n",
            "Requirement already satisfied: urllib3!=1.25.0,!=1.25.1,<1.26,>=1.21.1 in /usr/local/lib/python3.6/dist-packages (from requests->transformers) (1.24.3)\n",
            "Requirement already satisfied: chardet<4,>=3.0.2 in /usr/local/lib/python3.6/dist-packages (from requests->transformers) (3.0.4)\n",
            "Building wheels for collected packages: sacremoses\n",
            "  Building wheel for sacremoses (setup.py) ... \u001b[?25l\u001b[?25hdone\n",
            "  Created wheel for sacremoses: filename=sacremoses-0.0.43-cp36-none-any.whl size=893261 sha256=dfa17d42611469bc06dd5ffd4285beb4cdbd52cb977aa0611c79939bb6fcb900\n",
            "  Stored in directory: /root/.cache/pip/wheels/29/3c/fd/7ce5c3f0666dab31a50123635e6fb5e19ceb42ce38d4e58f45\n",
            "Successfully built sacremoses\n",
            "Installing collected packages: sacremoses, tokenizers, transformers\n",
            "Successfully installed sacremoses-0.0.43 tokenizers-0.9.4 transformers-4.2.2\n"
          ],
          "name": "stdout"
        }
      ]
    },
    {
      "cell_type": "code",
      "metadata": {
        "colab": {
          "base_uri": "https://localhost:8080/"
        },
        "id": "IjdBXf7y0FNp",
        "outputId": "27a78d95-bbb4-41bd-a83c-5b0cf06a9d0b"
      },
      "source": [
        "from google.colab import drive\n",
        "drive.mount('/content/drive')"
      ],
      "execution_count": null,
      "outputs": [
        {
          "output_type": "stream",
          "text": [
            "Mounted at /content/drive\n"
          ],
          "name": "stdout"
        }
      ]
    },
    {
      "cell_type": "code",
      "metadata": {
        "id": "QChuYu_HzXlF"
      },
      "source": [
        "import pandas as pd\n",
        "import numpy as np\n",
        "import matplotlib.pyplot as plt\n",
        "import seaborn as sns\n",
        "\n",
        "import string\n",
        "import math\n",
        "\n",
        "from sklearn.model_selection import train_test_split, cross_val_score, GridSearchCV\n",
        "from sklearn.metrics import classification_report\n",
        "from sklearn.metrics import confusion_matrix, accuracy_score, roc_auc_score, roc_curve\n",
        "%matplotlib inline\n",
        "import time\n",
        "import pickle"
      ],
      "execution_count": null,
      "outputs": []
    },
    {
      "cell_type": "markdown",
      "metadata": {
        "id": "Mxt5ck_kCU0x"
      },
      "source": [
        "## Loading the ids and predicted labels from BERT"
      ]
    },
    {
      "cell_type": "markdown",
      "metadata": {
        "id": "VkK5x0Lpeuxh"
      },
      "source": [
        "I want to create a boolean matrix with the input ids of the datasets..."
      ]
    },
    {
      "cell_type": "code",
      "metadata": {
        "id": "ZhYtIm-leETW"
      },
      "source": [
        "with open('/content/drive/MyDrive/Yelp/tensors_yelp/train_ids_99.pkl', 'rb') as f:\n",
        "    train_ids = pickle.load(f)\n",
        "\n",
        "with open('/content/drive/MyDrive/Yelp/tensors_yelp/test_ids_99.pkl', 'rb') as d:\n",
        "    test_ids = pickle.load(d)"
      ],
      "execution_count": null,
      "outputs": []
    },
    {
      "cell_type": "code",
      "metadata": {
        "colab": {
          "base_uri": "https://localhost:8080/"
        },
        "id": "UNWnGcUrxjmE",
        "outputId": "800da45d-6394-4714-f4fe-fe86200cd390"
      },
      "source": [
        "len(train_ids)"
      ],
      "execution_count": null,
      "outputs": [
        {
          "output_type": "execute_result",
          "data": {
            "text/plain": [
              "10394"
            ]
          },
          "metadata": {
            "tags": []
          },
          "execution_count": 5
        }
      ]
    },
    {
      "cell_type": "code",
      "metadata": {
        "colab": {
          "base_uri": "https://localhost:8080/"
        },
        "id": "rpvlkEu1g57_",
        "outputId": "028ac2b4-7e50-4430-b530-6edc2f3e0672"
      },
      "source": [
        "len(test_ids)"
      ],
      "execution_count": null,
      "outputs": [
        {
          "output_type": "execute_result",
          "data": {
            "text/plain": [
              "2599"
            ]
          },
          "metadata": {
            "tags": []
          },
          "execution_count": 6
        }
      ]
    },
    {
      "cell_type": "code",
      "metadata": {
        "colab": {
          "base_uri": "https://localhost:8080/"
        },
        "id": "c_8MgpwXgzU-",
        "outputId": "46bedaab-a1ed-4927-a9f5-6f82de976bd2"
      },
      "source": [
        "test_ids[0][:10]"
      ],
      "execution_count": null,
      "outputs": [
        {
          "output_type": "execute_result",
          "data": {
            "text/plain": [
              "[101, 3893, 2015, 2204, 3295, 3095, 16286, 5379, 4997, 2015]"
            ]
          },
          "metadata": {
            "tags": []
          },
          "execution_count": 7
        }
      ]
    },
    {
      "cell_type": "code",
      "metadata": {
        "id": "CqrekB7riWeA"
      },
      "source": [
        "import torch\n",
        "bert_train_pred = torch.load('/content/drive/MyDrive/Yelp/model_99/flat_pred_labels_train')\n",
        "bert_test_pred = torch.load('/content/drive/MyDrive/Yelp/model_99/flat_pred_labels_test')"
      ],
      "execution_count": null,
      "outputs": []
    },
    {
      "cell_type": "code",
      "metadata": {
        "colab": {
          "base_uri": "https://localhost:8080/"
        },
        "id": "1ZzKdIBxic1l",
        "outputId": "a82d92a6-093e-463f-f56a-038695bfe274"
      },
      "source": [
        "bert_train_pred[:5]"
      ],
      "execution_count": null,
      "outputs": [
        {
          "output_type": "execute_result",
          "data": {
            "text/plain": [
              "[1, 0, 0, 1, 1]"
            ]
          },
          "metadata": {
            "tags": []
          },
          "execution_count": 5
        }
      ]
    },
    {
      "cell_type": "code",
      "metadata": {
        "colab": {
          "base_uri": "https://localhost:8080/"
        },
        "id": "sij187ewCQC2",
        "outputId": "101df6cc-51d4-4243-f2c9-7cfd4a301d70"
      },
      "source": [
        "bert_test_pred[:5]"
      ],
      "execution_count": null,
      "outputs": [
        {
          "output_type": "execute_result",
          "data": {
            "text/plain": [
              "[0, 1, 1, 0, 0]"
            ]
          },
          "metadata": {
            "tags": []
          },
          "execution_count": 6
        }
      ]
    },
    {
      "cell_type": "markdown",
      "metadata": {
        "id": "pLHvT1N15Xyy"
      },
      "source": [
        "## Initializing BERT tokenizer and reviews texts:"
      ]
    },
    {
      "cell_type": "code",
      "metadata": {
        "id": "qvKCRErs0K9M"
      },
      "source": [
        "# NO NEED FOR THE DATASET OR YES?\n",
        "train_df = pd.read_pickle('/content/drive/MyDrive/Yelp/sample_train_10394.pkl')\n",
        "test_df = pd.read_pickle('/content/drive/MyDrive/Yelp/sample_test_2599.pkl')\n",
        "\n",
        "train_df.reset_index(drop=True, inplace=True)\n",
        "test_df.reset_index(drop=True, inplace=True)\n",
        "#train_df.head()"
      ],
      "execution_count": null,
      "outputs": []
    },
    {
      "cell_type": "code",
      "metadata": {
        "id": "L7QqS5oYoPas"
      },
      "source": [
        "# launching the saved model tokenizer\n",
        "from transformers import BertTokenizer\n",
        "tokenizer = BertTokenizer.from_pretrained('/content/drive/MyDrive/Yelp/model_99/')"
      ],
      "execution_count": null,
      "outputs": []
    },
    {
      "cell_type": "code",
      "metadata": {
        "colab": {
          "base_uri": "https://localhost:8080/"
        },
        "id": "GJ47RNtjo4Xg",
        "outputId": "9d28e52c-8293-452e-e619-4b33a72bdc5c"
      },
      "source": [
        "#tokenizer.vocab_size"
      ],
      "execution_count": null,
      "outputs": [
        {
          "output_type": "execute_result",
          "data": {
            "text/plain": [
              "30522"
            ]
          },
          "metadata": {
            "tags": []
          },
          "execution_count": 17
        }
      ]
    },
    {
      "cell_type": "markdown",
      "metadata": {
        "id": "73hysLUw38ft"
      },
      "source": [
        "## Creation of boolean dataframes"
      ]
    },
    {
      "cell_type": "code",
      "metadata": {
        "colab": {
          "base_uri": "https://localhost:8080/"
        },
        "id": "5E-OzAxyCt8n",
        "outputId": "ca7e8501-130b-4c5e-9869-5d6f23d5304d"
      },
      "source": [
        "# get a list of all unique ids of the train ids,\n",
        "# and a dict with the appearence of ids in each review\n",
        "%%time\n",
        "isin_ids_tr = {i:np.unique(train_ids[i]) for i in range(len(train_ids))}\n",
        "all_uni_ids_tr = np.concatenate(list(isin_ids_tr.values()), axis=0)\n",
        "unique_ids_train = np.unique(all_uni_ids_tr)"
      ],
      "execution_count": null,
      "outputs": [
        {
          "output_type": "stream",
          "text": [
            "CPU times: user 240 ms, sys: 409 µs, total: 241 ms\n",
            "Wall time: 247 ms\n"
          ],
          "name": "stdout"
        }
      ]
    },
    {
      "cell_type": "code",
      "metadata": {
        "colab": {
          "base_uri": "https://localhost:8080/"
        },
        "id": "NsupNYUHEJ1D",
        "outputId": "0f31f171-83b6-4bb7-882f-8a56fae823b8"
      },
      "source": [
        "len(unique_ids_train)"
      ],
      "execution_count": null,
      "outputs": [
        {
          "output_type": "execute_result",
          "data": {
            "text/plain": [
              "15574"
            ]
          },
          "metadata": {
            "tags": []
          },
          "execution_count": 53
        }
      ]
    },
    {
      "cell_type": "code",
      "metadata": {
        "colab": {
          "base_uri": "https://localhost:8080/"
        },
        "id": "dZXOvAdOGVd4",
        "outputId": "febb3c3f-e242-420f-df36-4b761f12a8e3"
      },
      "source": [
        "# get a list of all unique ids of the train ids,\n",
        "# and a dict with the appearence of ids in each review\n",
        "# same but for test\n",
        "%%time\n",
        "isin_ids_ts = {i:np.unique(test_ids[i]) for i in range(len(test_ids))}\n",
        "all_uni_ids_ts = np.concatenate(list(isin_ids_ts.values()), axis=0)\n",
        "unique_ids_test = np.unique(all_uni_ids_ts)"
      ],
      "execution_count": null,
      "outputs": [
        {
          "output_type": "stream",
          "text": [
            "CPU times: user 60 ms, sys: 908 µs, total: 60.9 ms\n",
            "Wall time: 64.9 ms\n"
          ],
          "name": "stdout"
        }
      ]
    },
    {
      "cell_type": "code",
      "metadata": {
        "colab": {
          "base_uri": "https://localhost:8080/"
        },
        "id": "sOdVHJrEGggk",
        "outputId": "48827d2a-873e-4920-8e5f-8cbeb139f031"
      },
      "source": [
        "len(unique_ids_test)"
      ],
      "execution_count": null,
      "outputs": [
        {
          "output_type": "execute_result",
          "data": {
            "text/plain": [
              "10163"
            ]
          },
          "metadata": {
            "tags": []
          },
          "execution_count": 56
        }
      ]
    },
    {
      "cell_type": "code",
      "metadata": {
        "colab": {
          "base_uri": "https://localhost:8080/"
        },
        "id": "aocA1-dvGj8V",
        "outputId": "edd06158-746f-4206-96b6-efaeb47ecaab"
      },
      "source": [
        "%%time\n",
        "all_unique_ids = np.concatenate((unique_ids_train, unique_ids_test), axis=0)\n",
        "unique_ids = np.unique(all_unique_ids)"
      ],
      "execution_count": null,
      "outputs": [
        {
          "output_type": "stream",
          "text": [
            "CPU times: user 2.62 ms, sys: 0 ns, total: 2.62 ms\n",
            "Wall time: 2.4 ms\n"
          ],
          "name": "stdout"
        }
      ]
    },
    {
      "cell_type": "code",
      "metadata": {
        "colab": {
          "base_uri": "https://localhost:8080/"
        },
        "id": "m6nrX_OsG2_o",
        "outputId": "de68aaac-7cf9-4720-dfa5-de62429d71e1"
      },
      "source": [
        "len(unique_ids)"
      ],
      "execution_count": null,
      "outputs": [
        {
          "output_type": "execute_result",
          "data": {
            "text/plain": [
              "16368"
            ]
          },
          "metadata": {
            "tags": []
          },
          "execution_count": 61
        }
      ]
    },
    {
      "cell_type": "code",
      "metadata": {
        "id": "rHsavj1Z24lv"
      },
      "source": [
        "# a function to fill in the dataframes in a boolean way\n",
        "def is_word_in(isin_ids, df):\n",
        "  index = range(len(isin_ids))\n",
        "  for i in index:\n",
        "    ids = list(isin_ids[i])\n",
        "    for id in ids:\n",
        "      df[id][i] = 1"
      ],
      "execution_count": null,
      "outputs": []
    },
    {
      "cell_type": "code",
      "metadata": {
        "colab": {
          "base_uri": "https://localhost:8080/"
        },
        "id": "g4fkP6H-xhF-",
        "outputId": "f47c0994-148b-4521-b5c6-a39cd19b5b90"
      },
      "source": [
        "# making a dataframe where the index are the reviews index, and the columns are the unique words on the reviews.\n",
        "%%time\n",
        "x_train = pd.DataFrame(index=range(len(train_ids)), columns=unique_ids)\n",
        "x_train.fillna(0, inplace=True)"
      ],
      "execution_count": null,
      "outputs": [
        {
          "output_type": "stream",
          "text": [
            "CPU times: user 48.8 s, sys: 1.34 s, total: 50.2 s\n",
            "Wall time: 50.2 s\n"
          ],
          "name": "stdout"
        }
      ]
    },
    {
      "cell_type": "code",
      "metadata": {
        "colab": {
          "base_uri": "https://localhost:8080/"
        },
        "id": "8YKGM9fNOVkd",
        "outputId": "e1621114-2d88-4dcb-9a9d-5d8ca26dec33"
      },
      "source": [
        "%%time\n",
        "is_word_in(isin_ids_tr, x_train)"
      ],
      "execution_count": null,
      "outputs": [
        {
          "output_type": "stream",
          "text": [
            "CPU times: user 28.2 s, sys: 1.04 s, total: 29.3 s\n",
            "Wall time: 29.5 s\n"
          ],
          "name": "stdout"
        }
      ]
    },
    {
      "cell_type": "code",
      "metadata": {
        "colab": {
          "base_uri": "https://localhost:8080/",
          "height": 253
        },
        "id": "j9jvnvOJx3tm",
        "outputId": "e11ab9c9-5ad1-4a90-d2a6-018c4b02f107"
      },
      "source": [
        "x_train.tail()"
      ],
      "execution_count": null,
      "outputs": [
        {
          "output_type": "execute_result",
          "data": {
            "text/html": [
              "<div>\n",
              "<style scoped>\n",
              "    .dataframe tbody tr th:only-of-type {\n",
              "        vertical-align: middle;\n",
              "    }\n",
              "\n",
              "    .dataframe tbody tr th {\n",
              "        vertical-align: top;\n",
              "    }\n",
              "\n",
              "    .dataframe thead th {\n",
              "        text-align: right;\n",
              "    }\n",
              "</style>\n",
              "<table border=\"1\" class=\"dataframe\">\n",
              "  <thead>\n",
              "    <tr style=\"text-align: right;\">\n",
              "      <th></th>\n",
              "      <th>0</th>\n",
              "      <th>100</th>\n",
              "      <th>101</th>\n",
              "      <th>102</th>\n",
              "      <th>1037</th>\n",
              "      <th>1038</th>\n",
              "      <th>1039</th>\n",
              "      <th>1040</th>\n",
              "      <th>1041</th>\n",
              "      <th>1042</th>\n",
              "      <th>1043</th>\n",
              "      <th>1044</th>\n",
              "      <th>1045</th>\n",
              "      <th>1046</th>\n",
              "      <th>1047</th>\n",
              "      <th>1048</th>\n",
              "      <th>1050</th>\n",
              "      <th>1051</th>\n",
              "      <th>1052</th>\n",
              "      <th>1053</th>\n",
              "      <th>1054</th>\n",
              "      <th>1055</th>\n",
              "      <th>1056</th>\n",
              "      <th>1057</th>\n",
              "      <th>1058</th>\n",
              "      <th>1059</th>\n",
              "      <th>1060</th>\n",
              "      <th>1061</th>\n",
              "      <th>1062</th>\n",
              "      <th>1067</th>\n",
              "      <th>1087</th>\n",
              "      <th>1094</th>\n",
              "      <th>1095</th>\n",
              "      <th>1107</th>\n",
              "      <th>1635</th>\n",
              "      <th>1636</th>\n",
              "      <th>1646</th>\n",
              "      <th>1647</th>\n",
              "      <th>1651</th>\n",
              "      <th>1656</th>\n",
              "      <th>...</th>\n",
              "      <th>29578</th>\n",
              "      <th>29582</th>\n",
              "      <th>29584</th>\n",
              "      <th>29589</th>\n",
              "      <th>29591</th>\n",
              "      <th>29592</th>\n",
              "      <th>29593</th>\n",
              "      <th>29597</th>\n",
              "      <th>29602</th>\n",
              "      <th>29610</th>\n",
              "      <th>30173</th>\n",
              "      <th>30174</th>\n",
              "      <th>30177</th>\n",
              "      <th>30179</th>\n",
              "      <th>30180</th>\n",
              "      <th>30181</th>\n",
              "      <th>30182</th>\n",
              "      <th>30183</th>\n",
              "      <th>30186</th>\n",
              "      <th>30187</th>\n",
              "      <th>30189</th>\n",
              "      <th>30191</th>\n",
              "      <th>30192</th>\n",
              "      <th>30194</th>\n",
              "      <th>30197</th>\n",
              "      <th>30198</th>\n",
              "      <th>30200</th>\n",
              "      <th>30203</th>\n",
              "      <th>30207</th>\n",
              "      <th>30211</th>\n",
              "      <th>30212</th>\n",
              "      <th>30217</th>\n",
              "      <th>30219</th>\n",
              "      <th>30220</th>\n",
              "      <th>30221</th>\n",
              "      <th>30228</th>\n",
              "      <th>30239</th>\n",
              "      <th>30251</th>\n",
              "      <th>30257</th>\n",
              "      <th>30263</th>\n",
              "    </tr>\n",
              "  </thead>\n",
              "  <tbody>\n",
              "    <tr>\n",
              "      <th>10389</th>\n",
              "      <td>1</td>\n",
              "      <td>0</td>\n",
              "      <td>1</td>\n",
              "      <td>1</td>\n",
              "      <td>0</td>\n",
              "      <td>0</td>\n",
              "      <td>0</td>\n",
              "      <td>0</td>\n",
              "      <td>0</td>\n",
              "      <td>0</td>\n",
              "      <td>0</td>\n",
              "      <td>0</td>\n",
              "      <td>0</td>\n",
              "      <td>0</td>\n",
              "      <td>0</td>\n",
              "      <td>0</td>\n",
              "      <td>0</td>\n",
              "      <td>0</td>\n",
              "      <td>0</td>\n",
              "      <td>0</td>\n",
              "      <td>0</td>\n",
              "      <td>0</td>\n",
              "      <td>0</td>\n",
              "      <td>0</td>\n",
              "      <td>0</td>\n",
              "      <td>0</td>\n",
              "      <td>0</td>\n",
              "      <td>0</td>\n",
              "      <td>0</td>\n",
              "      <td>0</td>\n",
              "      <td>0</td>\n",
              "      <td>0</td>\n",
              "      <td>0</td>\n",
              "      <td>0</td>\n",
              "      <td>0</td>\n",
              "      <td>0</td>\n",
              "      <td>0</td>\n",
              "      <td>0</td>\n",
              "      <td>0</td>\n",
              "      <td>0</td>\n",
              "      <td>...</td>\n",
              "      <td>0</td>\n",
              "      <td>0</td>\n",
              "      <td>0</td>\n",
              "      <td>0</td>\n",
              "      <td>0</td>\n",
              "      <td>0</td>\n",
              "      <td>0</td>\n",
              "      <td>0</td>\n",
              "      <td>0</td>\n",
              "      <td>0</td>\n",
              "      <td>0</td>\n",
              "      <td>0</td>\n",
              "      <td>0</td>\n",
              "      <td>0</td>\n",
              "      <td>0</td>\n",
              "      <td>0</td>\n",
              "      <td>0</td>\n",
              "      <td>0</td>\n",
              "      <td>0</td>\n",
              "      <td>0</td>\n",
              "      <td>0</td>\n",
              "      <td>0</td>\n",
              "      <td>0</td>\n",
              "      <td>0</td>\n",
              "      <td>0</td>\n",
              "      <td>0</td>\n",
              "      <td>0</td>\n",
              "      <td>0</td>\n",
              "      <td>0</td>\n",
              "      <td>0</td>\n",
              "      <td>0</td>\n",
              "      <td>0</td>\n",
              "      <td>0</td>\n",
              "      <td>0</td>\n",
              "      <td>0</td>\n",
              "      <td>0</td>\n",
              "      <td>0</td>\n",
              "      <td>0</td>\n",
              "      <td>0</td>\n",
              "      <td>0</td>\n",
              "    </tr>\n",
              "    <tr>\n",
              "      <th>10390</th>\n",
              "      <td>1</td>\n",
              "      <td>0</td>\n",
              "      <td>1</td>\n",
              "      <td>1</td>\n",
              "      <td>0</td>\n",
              "      <td>0</td>\n",
              "      <td>0</td>\n",
              "      <td>0</td>\n",
              "      <td>0</td>\n",
              "      <td>0</td>\n",
              "      <td>0</td>\n",
              "      <td>0</td>\n",
              "      <td>0</td>\n",
              "      <td>0</td>\n",
              "      <td>0</td>\n",
              "      <td>0</td>\n",
              "      <td>0</td>\n",
              "      <td>0</td>\n",
              "      <td>0</td>\n",
              "      <td>0</td>\n",
              "      <td>0</td>\n",
              "      <td>0</td>\n",
              "      <td>0</td>\n",
              "      <td>0</td>\n",
              "      <td>0</td>\n",
              "      <td>0</td>\n",
              "      <td>0</td>\n",
              "      <td>0</td>\n",
              "      <td>0</td>\n",
              "      <td>0</td>\n",
              "      <td>0</td>\n",
              "      <td>0</td>\n",
              "      <td>0</td>\n",
              "      <td>0</td>\n",
              "      <td>0</td>\n",
              "      <td>0</td>\n",
              "      <td>0</td>\n",
              "      <td>0</td>\n",
              "      <td>0</td>\n",
              "      <td>0</td>\n",
              "      <td>...</td>\n",
              "      <td>0</td>\n",
              "      <td>0</td>\n",
              "      <td>0</td>\n",
              "      <td>0</td>\n",
              "      <td>0</td>\n",
              "      <td>0</td>\n",
              "      <td>0</td>\n",
              "      <td>0</td>\n",
              "      <td>0</td>\n",
              "      <td>0</td>\n",
              "      <td>0</td>\n",
              "      <td>0</td>\n",
              "      <td>0</td>\n",
              "      <td>0</td>\n",
              "      <td>0</td>\n",
              "      <td>0</td>\n",
              "      <td>0</td>\n",
              "      <td>0</td>\n",
              "      <td>0</td>\n",
              "      <td>0</td>\n",
              "      <td>0</td>\n",
              "      <td>0</td>\n",
              "      <td>0</td>\n",
              "      <td>0</td>\n",
              "      <td>0</td>\n",
              "      <td>0</td>\n",
              "      <td>0</td>\n",
              "      <td>0</td>\n",
              "      <td>0</td>\n",
              "      <td>0</td>\n",
              "      <td>0</td>\n",
              "      <td>0</td>\n",
              "      <td>0</td>\n",
              "      <td>0</td>\n",
              "      <td>0</td>\n",
              "      <td>0</td>\n",
              "      <td>0</td>\n",
              "      <td>0</td>\n",
              "      <td>0</td>\n",
              "      <td>0</td>\n",
              "    </tr>\n",
              "    <tr>\n",
              "      <th>10391</th>\n",
              "      <td>1</td>\n",
              "      <td>0</td>\n",
              "      <td>1</td>\n",
              "      <td>1</td>\n",
              "      <td>0</td>\n",
              "      <td>0</td>\n",
              "      <td>0</td>\n",
              "      <td>0</td>\n",
              "      <td>0</td>\n",
              "      <td>0</td>\n",
              "      <td>0</td>\n",
              "      <td>0</td>\n",
              "      <td>0</td>\n",
              "      <td>0</td>\n",
              "      <td>0</td>\n",
              "      <td>0</td>\n",
              "      <td>0</td>\n",
              "      <td>0</td>\n",
              "      <td>0</td>\n",
              "      <td>0</td>\n",
              "      <td>0</td>\n",
              "      <td>0</td>\n",
              "      <td>0</td>\n",
              "      <td>0</td>\n",
              "      <td>0</td>\n",
              "      <td>0</td>\n",
              "      <td>0</td>\n",
              "      <td>0</td>\n",
              "      <td>0</td>\n",
              "      <td>0</td>\n",
              "      <td>0</td>\n",
              "      <td>0</td>\n",
              "      <td>0</td>\n",
              "      <td>0</td>\n",
              "      <td>0</td>\n",
              "      <td>0</td>\n",
              "      <td>0</td>\n",
              "      <td>0</td>\n",
              "      <td>0</td>\n",
              "      <td>0</td>\n",
              "      <td>...</td>\n",
              "      <td>0</td>\n",
              "      <td>0</td>\n",
              "      <td>0</td>\n",
              "      <td>0</td>\n",
              "      <td>0</td>\n",
              "      <td>0</td>\n",
              "      <td>0</td>\n",
              "      <td>0</td>\n",
              "      <td>0</td>\n",
              "      <td>0</td>\n",
              "      <td>0</td>\n",
              "      <td>0</td>\n",
              "      <td>0</td>\n",
              "      <td>0</td>\n",
              "      <td>0</td>\n",
              "      <td>0</td>\n",
              "      <td>0</td>\n",
              "      <td>0</td>\n",
              "      <td>0</td>\n",
              "      <td>0</td>\n",
              "      <td>0</td>\n",
              "      <td>0</td>\n",
              "      <td>0</td>\n",
              "      <td>0</td>\n",
              "      <td>0</td>\n",
              "      <td>0</td>\n",
              "      <td>0</td>\n",
              "      <td>0</td>\n",
              "      <td>0</td>\n",
              "      <td>0</td>\n",
              "      <td>0</td>\n",
              "      <td>0</td>\n",
              "      <td>0</td>\n",
              "      <td>0</td>\n",
              "      <td>0</td>\n",
              "      <td>0</td>\n",
              "      <td>0</td>\n",
              "      <td>0</td>\n",
              "      <td>0</td>\n",
              "      <td>0</td>\n",
              "    </tr>\n",
              "    <tr>\n",
              "      <th>10392</th>\n",
              "      <td>1</td>\n",
              "      <td>0</td>\n",
              "      <td>1</td>\n",
              "      <td>1</td>\n",
              "      <td>0</td>\n",
              "      <td>0</td>\n",
              "      <td>0</td>\n",
              "      <td>0</td>\n",
              "      <td>0</td>\n",
              "      <td>0</td>\n",
              "      <td>0</td>\n",
              "      <td>0</td>\n",
              "      <td>0</td>\n",
              "      <td>0</td>\n",
              "      <td>0</td>\n",
              "      <td>0</td>\n",
              "      <td>0</td>\n",
              "      <td>0</td>\n",
              "      <td>0</td>\n",
              "      <td>0</td>\n",
              "      <td>0</td>\n",
              "      <td>0</td>\n",
              "      <td>0</td>\n",
              "      <td>0</td>\n",
              "      <td>0</td>\n",
              "      <td>0</td>\n",
              "      <td>0</td>\n",
              "      <td>0</td>\n",
              "      <td>0</td>\n",
              "      <td>0</td>\n",
              "      <td>0</td>\n",
              "      <td>0</td>\n",
              "      <td>0</td>\n",
              "      <td>0</td>\n",
              "      <td>0</td>\n",
              "      <td>0</td>\n",
              "      <td>0</td>\n",
              "      <td>0</td>\n",
              "      <td>0</td>\n",
              "      <td>0</td>\n",
              "      <td>...</td>\n",
              "      <td>0</td>\n",
              "      <td>0</td>\n",
              "      <td>0</td>\n",
              "      <td>0</td>\n",
              "      <td>0</td>\n",
              "      <td>0</td>\n",
              "      <td>0</td>\n",
              "      <td>0</td>\n",
              "      <td>0</td>\n",
              "      <td>0</td>\n",
              "      <td>0</td>\n",
              "      <td>0</td>\n",
              "      <td>0</td>\n",
              "      <td>0</td>\n",
              "      <td>0</td>\n",
              "      <td>0</td>\n",
              "      <td>0</td>\n",
              "      <td>0</td>\n",
              "      <td>0</td>\n",
              "      <td>0</td>\n",
              "      <td>0</td>\n",
              "      <td>0</td>\n",
              "      <td>0</td>\n",
              "      <td>0</td>\n",
              "      <td>0</td>\n",
              "      <td>0</td>\n",
              "      <td>0</td>\n",
              "      <td>0</td>\n",
              "      <td>0</td>\n",
              "      <td>0</td>\n",
              "      <td>0</td>\n",
              "      <td>0</td>\n",
              "      <td>0</td>\n",
              "      <td>0</td>\n",
              "      <td>0</td>\n",
              "      <td>0</td>\n",
              "      <td>0</td>\n",
              "      <td>0</td>\n",
              "      <td>0</td>\n",
              "      <td>0</td>\n",
              "    </tr>\n",
              "    <tr>\n",
              "      <th>10393</th>\n",
              "      <td>1</td>\n",
              "      <td>0</td>\n",
              "      <td>1</td>\n",
              "      <td>1</td>\n",
              "      <td>0</td>\n",
              "      <td>0</td>\n",
              "      <td>0</td>\n",
              "      <td>0</td>\n",
              "      <td>0</td>\n",
              "      <td>0</td>\n",
              "      <td>0</td>\n",
              "      <td>0</td>\n",
              "      <td>0</td>\n",
              "      <td>0</td>\n",
              "      <td>0</td>\n",
              "      <td>0</td>\n",
              "      <td>0</td>\n",
              "      <td>0</td>\n",
              "      <td>0</td>\n",
              "      <td>0</td>\n",
              "      <td>0</td>\n",
              "      <td>0</td>\n",
              "      <td>0</td>\n",
              "      <td>0</td>\n",
              "      <td>0</td>\n",
              "      <td>0</td>\n",
              "      <td>0</td>\n",
              "      <td>0</td>\n",
              "      <td>0</td>\n",
              "      <td>0</td>\n",
              "      <td>0</td>\n",
              "      <td>0</td>\n",
              "      <td>0</td>\n",
              "      <td>0</td>\n",
              "      <td>0</td>\n",
              "      <td>0</td>\n",
              "      <td>0</td>\n",
              "      <td>0</td>\n",
              "      <td>0</td>\n",
              "      <td>0</td>\n",
              "      <td>...</td>\n",
              "      <td>0</td>\n",
              "      <td>0</td>\n",
              "      <td>0</td>\n",
              "      <td>0</td>\n",
              "      <td>0</td>\n",
              "      <td>0</td>\n",
              "      <td>0</td>\n",
              "      <td>0</td>\n",
              "      <td>0</td>\n",
              "      <td>0</td>\n",
              "      <td>0</td>\n",
              "      <td>0</td>\n",
              "      <td>0</td>\n",
              "      <td>0</td>\n",
              "      <td>0</td>\n",
              "      <td>0</td>\n",
              "      <td>0</td>\n",
              "      <td>0</td>\n",
              "      <td>0</td>\n",
              "      <td>0</td>\n",
              "      <td>0</td>\n",
              "      <td>0</td>\n",
              "      <td>0</td>\n",
              "      <td>0</td>\n",
              "      <td>0</td>\n",
              "      <td>0</td>\n",
              "      <td>0</td>\n",
              "      <td>0</td>\n",
              "      <td>0</td>\n",
              "      <td>0</td>\n",
              "      <td>0</td>\n",
              "      <td>0</td>\n",
              "      <td>0</td>\n",
              "      <td>0</td>\n",
              "      <td>0</td>\n",
              "      <td>0</td>\n",
              "      <td>0</td>\n",
              "      <td>0</td>\n",
              "      <td>0</td>\n",
              "      <td>0</td>\n",
              "    </tr>\n",
              "  </tbody>\n",
              "</table>\n",
              "<p>5 rows × 16368 columns</p>\n",
              "</div>"
            ],
            "text/plain": [
              "       0      100    101    102    1037   ...  30228  30239  30251  30257  30263\n",
              "10389      1      0      1      1      0  ...      0      0      0      0      0\n",
              "10390      1      0      1      1      0  ...      0      0      0      0      0\n",
              "10391      1      0      1      1      0  ...      0      0      0      0      0\n",
              "10392      1      0      1      1      0  ...      0      0      0      0      0\n",
              "10393      1      0      1      1      0  ...      0      0      0      0      0\n",
              "\n",
              "[5 rows x 16368 columns]"
            ]
          },
          "metadata": {
            "tags": []
          },
          "execution_count": 92
        }
      ]
    },
    {
      "cell_type": "code",
      "metadata": {
        "colab": {
          "base_uri": "https://localhost:8080/",
          "height": 380
        },
        "id": "ac0YumLMOZll",
        "outputId": "c3e036c1-20dd-435d-9d66-b3b4b55a4efb"
      },
      "source": [
        "%%time\n",
        "x_train.describe()"
      ],
      "execution_count": null,
      "outputs": [
        {
          "output_type": "stream",
          "text": [
            "CPU times: user 34 s, sys: 257 ms, total: 34.2 s\n",
            "Wall time: 34.3 s\n"
          ],
          "name": "stdout"
        },
        {
          "output_type": "execute_result",
          "data": {
            "text/html": [
              "<div>\n",
              "<style scoped>\n",
              "    .dataframe tbody tr th:only-of-type {\n",
              "        vertical-align: middle;\n",
              "    }\n",
              "\n",
              "    .dataframe tbody tr th {\n",
              "        vertical-align: top;\n",
              "    }\n",
              "\n",
              "    .dataframe thead th {\n",
              "        text-align: right;\n",
              "    }\n",
              "</style>\n",
              "<table border=\"1\" class=\"dataframe\">\n",
              "  <thead>\n",
              "    <tr style=\"text-align: right;\">\n",
              "      <th></th>\n",
              "      <th>0</th>\n",
              "      <th>100</th>\n",
              "      <th>101</th>\n",
              "      <th>102</th>\n",
              "      <th>1037</th>\n",
              "      <th>1038</th>\n",
              "      <th>1039</th>\n",
              "      <th>1040</th>\n",
              "      <th>1041</th>\n",
              "      <th>1042</th>\n",
              "      <th>1043</th>\n",
              "      <th>1044</th>\n",
              "      <th>1045</th>\n",
              "      <th>1046</th>\n",
              "      <th>1047</th>\n",
              "      <th>1048</th>\n",
              "      <th>1050</th>\n",
              "      <th>1051</th>\n",
              "      <th>1052</th>\n",
              "      <th>1053</th>\n",
              "      <th>1054</th>\n",
              "      <th>1055</th>\n",
              "      <th>1056</th>\n",
              "      <th>1057</th>\n",
              "      <th>1058</th>\n",
              "      <th>1059</th>\n",
              "      <th>1060</th>\n",
              "      <th>1061</th>\n",
              "      <th>1062</th>\n",
              "      <th>1067</th>\n",
              "      <th>1087</th>\n",
              "      <th>1094</th>\n",
              "      <th>1095</th>\n",
              "      <th>1107</th>\n",
              "      <th>1635</th>\n",
              "      <th>1636</th>\n",
              "      <th>1646</th>\n",
              "      <th>1647</th>\n",
              "      <th>1651</th>\n",
              "      <th>1656</th>\n",
              "      <th>...</th>\n",
              "      <th>29578</th>\n",
              "      <th>29582</th>\n",
              "      <th>29584</th>\n",
              "      <th>29589</th>\n",
              "      <th>29591</th>\n",
              "      <th>29592</th>\n",
              "      <th>29593</th>\n",
              "      <th>29597</th>\n",
              "      <th>29602</th>\n",
              "      <th>29610</th>\n",
              "      <th>30173</th>\n",
              "      <th>30174</th>\n",
              "      <th>30177</th>\n",
              "      <th>30179</th>\n",
              "      <th>30180</th>\n",
              "      <th>30181</th>\n",
              "      <th>30182</th>\n",
              "      <th>30183</th>\n",
              "      <th>30186</th>\n",
              "      <th>30187</th>\n",
              "      <th>30189</th>\n",
              "      <th>30191</th>\n",
              "      <th>30192</th>\n",
              "      <th>30194</th>\n",
              "      <th>30197</th>\n",
              "      <th>30198</th>\n",
              "      <th>30200</th>\n",
              "      <th>30203</th>\n",
              "      <th>30207</th>\n",
              "      <th>30211</th>\n",
              "      <th>30212</th>\n",
              "      <th>30217</th>\n",
              "      <th>30219</th>\n",
              "      <th>30220</th>\n",
              "      <th>30221</th>\n",
              "      <th>30228</th>\n",
              "      <th>30239</th>\n",
              "      <th>30251</th>\n",
              "      <th>30257</th>\n",
              "      <th>30263</th>\n",
              "    </tr>\n",
              "  </thead>\n",
              "  <tbody>\n",
              "    <tr>\n",
              "      <th>count</th>\n",
              "      <td>10394.000000</td>\n",
              "      <td>10394.000000</td>\n",
              "      <td>10394.0</td>\n",
              "      <td>10394.0</td>\n",
              "      <td>10394.000000</td>\n",
              "      <td>10394.000000</td>\n",
              "      <td>10394.000000</td>\n",
              "      <td>10394.000000</td>\n",
              "      <td>10394.000000</td>\n",
              "      <td>10394.000000</td>\n",
              "      <td>10394.000000</td>\n",
              "      <td>10394.000000</td>\n",
              "      <td>10394.000000</td>\n",
              "      <td>10394.000000</td>\n",
              "      <td>10394.000000</td>\n",
              "      <td>10394.000000</td>\n",
              "      <td>10394.000000</td>\n",
              "      <td>10394.000000</td>\n",
              "      <td>10394.000000</td>\n",
              "      <td>10394.000000</td>\n",
              "      <td>10394.000000</td>\n",
              "      <td>10394.000000</td>\n",
              "      <td>10394.000000</td>\n",
              "      <td>10394.000000</td>\n",
              "      <td>10394.000000</td>\n",
              "      <td>10394.000000</td>\n",
              "      <td>10394.000000</td>\n",
              "      <td>10394.000000</td>\n",
              "      <td>10394.000000</td>\n",
              "      <td>10394.0</td>\n",
              "      <td>10394.0</td>\n",
              "      <td>10394.000000</td>\n",
              "      <td>10394.000000</td>\n",
              "      <td>10394.000000</td>\n",
              "      <td>10394.000000</td>\n",
              "      <td>10394.000000</td>\n",
              "      <td>10394.0</td>\n",
              "      <td>10394.000000</td>\n",
              "      <td>10394.000000</td>\n",
              "      <td>10394.000000</td>\n",
              "      <td>...</td>\n",
              "      <td>10394.0</td>\n",
              "      <td>10394.000000</td>\n",
              "      <td>10394.000000</td>\n",
              "      <td>10394.000000</td>\n",
              "      <td>10394.000000</td>\n",
              "      <td>10394.000000</td>\n",
              "      <td>10394.000000</td>\n",
              "      <td>10394.000000</td>\n",
              "      <td>10394.000000</td>\n",
              "      <td>10394.000000</td>\n",
              "      <td>10394.000000</td>\n",
              "      <td>10394.000000</td>\n",
              "      <td>10394.000000</td>\n",
              "      <td>10394.000000</td>\n",
              "      <td>10394.000000</td>\n",
              "      <td>10394.0</td>\n",
              "      <td>10394.0</td>\n",
              "      <td>10394.000000</td>\n",
              "      <td>10394.000000</td>\n",
              "      <td>10394.000000</td>\n",
              "      <td>10394.000000</td>\n",
              "      <td>10394.000000</td>\n",
              "      <td>10394.000000</td>\n",
              "      <td>10394.000000</td>\n",
              "      <td>10394.000000</td>\n",
              "      <td>10394.000000</td>\n",
              "      <td>10394.000000</td>\n",
              "      <td>10394.0</td>\n",
              "      <td>10394.000000</td>\n",
              "      <td>10394.000000</td>\n",
              "      <td>10394.0</td>\n",
              "      <td>10394.000000</td>\n",
              "      <td>10394.000000</td>\n",
              "      <td>10394.000000</td>\n",
              "      <td>10394.000000</td>\n",
              "      <td>10394.000000</td>\n",
              "      <td>10394.000000</td>\n",
              "      <td>10394.000000</td>\n",
              "      <td>10394.000000</td>\n",
              "      <td>10394.000000</td>\n",
              "    </tr>\n",
              "    <tr>\n",
              "      <th>mean</th>\n",
              "      <td>0.856937</td>\n",
              "      <td>0.000481</td>\n",
              "      <td>1.0</td>\n",
              "      <td>1.0</td>\n",
              "      <td>0.004137</td>\n",
              "      <td>0.010583</td>\n",
              "      <td>0.000096</td>\n",
              "      <td>0.001828</td>\n",
              "      <td>0.002982</td>\n",
              "      <td>0.006350</td>\n",
              "      <td>0.017991</td>\n",
              "      <td>0.008755</td>\n",
              "      <td>0.002020</td>\n",
              "      <td>0.000673</td>\n",
              "      <td>0.003945</td>\n",
              "      <td>0.002213</td>\n",
              "      <td>0.000192</td>\n",
              "      <td>0.004329</td>\n",
              "      <td>0.001347</td>\n",
              "      <td>0.000577</td>\n",
              "      <td>0.000673</td>\n",
              "      <td>0.007216</td>\n",
              "      <td>0.004137</td>\n",
              "      <td>0.004233</td>\n",
              "      <td>0.000673</td>\n",
              "      <td>0.008274</td>\n",
              "      <td>0.001155</td>\n",
              "      <td>0.002309</td>\n",
              "      <td>0.003656</td>\n",
              "      <td>0.0</td>\n",
              "      <td>0.0</td>\n",
              "      <td>0.000096</td>\n",
              "      <td>0.000096</td>\n",
              "      <td>0.000096</td>\n",
              "      <td>0.000096</td>\n",
              "      <td>0.000289</td>\n",
              "      <td>0.0</td>\n",
              "      <td>0.000096</td>\n",
              "      <td>0.000096</td>\n",
              "      <td>0.000096</td>\n",
              "      <td>...</td>\n",
              "      <td>0.0</td>\n",
              "      <td>0.000096</td>\n",
              "      <td>0.000096</td>\n",
              "      <td>0.000577</td>\n",
              "      <td>0.000577</td>\n",
              "      <td>0.000673</td>\n",
              "      <td>0.002598</td>\n",
              "      <td>0.000192</td>\n",
              "      <td>0.000192</td>\n",
              "      <td>0.000096</td>\n",
              "      <td>0.000096</td>\n",
              "      <td>0.000096</td>\n",
              "      <td>0.000096</td>\n",
              "      <td>0.000096</td>\n",
              "      <td>0.000096</td>\n",
              "      <td>0.0</td>\n",
              "      <td>0.0</td>\n",
              "      <td>0.000096</td>\n",
              "      <td>0.000096</td>\n",
              "      <td>0.000096</td>\n",
              "      <td>0.000096</td>\n",
              "      <td>0.000096</td>\n",
              "      <td>0.000096</td>\n",
              "      <td>0.000096</td>\n",
              "      <td>0.000096</td>\n",
              "      <td>0.000096</td>\n",
              "      <td>0.000096</td>\n",
              "      <td>0.0</td>\n",
              "      <td>0.000096</td>\n",
              "      <td>0.000096</td>\n",
              "      <td>0.0</td>\n",
              "      <td>0.000096</td>\n",
              "      <td>0.000096</td>\n",
              "      <td>0.000096</td>\n",
              "      <td>0.000096</td>\n",
              "      <td>0.000096</td>\n",
              "      <td>0.000096</td>\n",
              "      <td>0.000096</td>\n",
              "      <td>0.000096</td>\n",
              "      <td>0.000096</td>\n",
              "    </tr>\n",
              "    <tr>\n",
              "      <th>std</th>\n",
              "      <td>0.350154</td>\n",
              "      <td>0.021929</td>\n",
              "      <td>0.0</td>\n",
              "      <td>0.0</td>\n",
              "      <td>0.064189</td>\n",
              "      <td>0.102333</td>\n",
              "      <td>0.009809</td>\n",
              "      <td>0.042718</td>\n",
              "      <td>0.054533</td>\n",
              "      <td>0.079436</td>\n",
              "      <td>0.132925</td>\n",
              "      <td>0.093162</td>\n",
              "      <td>0.044906</td>\n",
              "      <td>0.025944</td>\n",
              "      <td>0.062685</td>\n",
              "      <td>0.046991</td>\n",
              "      <td>0.013871</td>\n",
              "      <td>0.065659</td>\n",
              "      <td>0.036678</td>\n",
              "      <td>0.024020</td>\n",
              "      <td>0.025944</td>\n",
              "      <td>0.084642</td>\n",
              "      <td>0.064189</td>\n",
              "      <td>0.064928</td>\n",
              "      <td>0.025944</td>\n",
              "      <td>0.090589</td>\n",
              "      <td>0.033960</td>\n",
              "      <td>0.047999</td>\n",
              "      <td>0.060357</td>\n",
              "      <td>0.0</td>\n",
              "      <td>0.0</td>\n",
              "      <td>0.009809</td>\n",
              "      <td>0.009809</td>\n",
              "      <td>0.009809</td>\n",
              "      <td>0.009809</td>\n",
              "      <td>0.016987</td>\n",
              "      <td>0.0</td>\n",
              "      <td>0.009809</td>\n",
              "      <td>0.009809</td>\n",
              "      <td>0.009809</td>\n",
              "      <td>...</td>\n",
              "      <td>0.0</td>\n",
              "      <td>0.009809</td>\n",
              "      <td>0.009809</td>\n",
              "      <td>0.024020</td>\n",
              "      <td>0.024020</td>\n",
              "      <td>0.025944</td>\n",
              "      <td>0.050903</td>\n",
              "      <td>0.013871</td>\n",
              "      <td>0.013871</td>\n",
              "      <td>0.009809</td>\n",
              "      <td>0.009809</td>\n",
              "      <td>0.009809</td>\n",
              "      <td>0.009809</td>\n",
              "      <td>0.009809</td>\n",
              "      <td>0.009809</td>\n",
              "      <td>0.0</td>\n",
              "      <td>0.0</td>\n",
              "      <td>0.009809</td>\n",
              "      <td>0.009809</td>\n",
              "      <td>0.009809</td>\n",
              "      <td>0.009809</td>\n",
              "      <td>0.009809</td>\n",
              "      <td>0.009809</td>\n",
              "      <td>0.009809</td>\n",
              "      <td>0.009809</td>\n",
              "      <td>0.009809</td>\n",
              "      <td>0.009809</td>\n",
              "      <td>0.0</td>\n",
              "      <td>0.009809</td>\n",
              "      <td>0.009809</td>\n",
              "      <td>0.0</td>\n",
              "      <td>0.009809</td>\n",
              "      <td>0.009809</td>\n",
              "      <td>0.009809</td>\n",
              "      <td>0.009809</td>\n",
              "      <td>0.009809</td>\n",
              "      <td>0.009809</td>\n",
              "      <td>0.009809</td>\n",
              "      <td>0.009809</td>\n",
              "      <td>0.009809</td>\n",
              "    </tr>\n",
              "    <tr>\n",
              "      <th>min</th>\n",
              "      <td>0.000000</td>\n",
              "      <td>0.000000</td>\n",
              "      <td>1.0</td>\n",
              "      <td>1.0</td>\n",
              "      <td>0.000000</td>\n",
              "      <td>0.000000</td>\n",
              "      <td>0.000000</td>\n",
              "      <td>0.000000</td>\n",
              "      <td>0.000000</td>\n",
              "      <td>0.000000</td>\n",
              "      <td>0.000000</td>\n",
              "      <td>0.000000</td>\n",
              "      <td>0.000000</td>\n",
              "      <td>0.000000</td>\n",
              "      <td>0.000000</td>\n",
              "      <td>0.000000</td>\n",
              "      <td>0.000000</td>\n",
              "      <td>0.000000</td>\n",
              "      <td>0.000000</td>\n",
              "      <td>0.000000</td>\n",
              "      <td>0.000000</td>\n",
              "      <td>0.000000</td>\n",
              "      <td>0.000000</td>\n",
              "      <td>0.000000</td>\n",
              "      <td>0.000000</td>\n",
              "      <td>0.000000</td>\n",
              "      <td>0.000000</td>\n",
              "      <td>0.000000</td>\n",
              "      <td>0.000000</td>\n",
              "      <td>0.0</td>\n",
              "      <td>0.0</td>\n",
              "      <td>0.000000</td>\n",
              "      <td>0.000000</td>\n",
              "      <td>0.000000</td>\n",
              "      <td>0.000000</td>\n",
              "      <td>0.000000</td>\n",
              "      <td>0.0</td>\n",
              "      <td>0.000000</td>\n",
              "      <td>0.000000</td>\n",
              "      <td>0.000000</td>\n",
              "      <td>...</td>\n",
              "      <td>0.0</td>\n",
              "      <td>0.000000</td>\n",
              "      <td>0.000000</td>\n",
              "      <td>0.000000</td>\n",
              "      <td>0.000000</td>\n",
              "      <td>0.000000</td>\n",
              "      <td>0.000000</td>\n",
              "      <td>0.000000</td>\n",
              "      <td>0.000000</td>\n",
              "      <td>0.000000</td>\n",
              "      <td>0.000000</td>\n",
              "      <td>0.000000</td>\n",
              "      <td>0.000000</td>\n",
              "      <td>0.000000</td>\n",
              "      <td>0.000000</td>\n",
              "      <td>0.0</td>\n",
              "      <td>0.0</td>\n",
              "      <td>0.000000</td>\n",
              "      <td>0.000000</td>\n",
              "      <td>0.000000</td>\n",
              "      <td>0.000000</td>\n",
              "      <td>0.000000</td>\n",
              "      <td>0.000000</td>\n",
              "      <td>0.000000</td>\n",
              "      <td>0.000000</td>\n",
              "      <td>0.000000</td>\n",
              "      <td>0.000000</td>\n",
              "      <td>0.0</td>\n",
              "      <td>0.000000</td>\n",
              "      <td>0.000000</td>\n",
              "      <td>0.0</td>\n",
              "      <td>0.000000</td>\n",
              "      <td>0.000000</td>\n",
              "      <td>0.000000</td>\n",
              "      <td>0.000000</td>\n",
              "      <td>0.000000</td>\n",
              "      <td>0.000000</td>\n",
              "      <td>0.000000</td>\n",
              "      <td>0.000000</td>\n",
              "      <td>0.000000</td>\n",
              "    </tr>\n",
              "    <tr>\n",
              "      <th>25%</th>\n",
              "      <td>1.000000</td>\n",
              "      <td>0.000000</td>\n",
              "      <td>1.0</td>\n",
              "      <td>1.0</td>\n",
              "      <td>0.000000</td>\n",
              "      <td>0.000000</td>\n",
              "      <td>0.000000</td>\n",
              "      <td>0.000000</td>\n",
              "      <td>0.000000</td>\n",
              "      <td>0.000000</td>\n",
              "      <td>0.000000</td>\n",
              "      <td>0.000000</td>\n",
              "      <td>0.000000</td>\n",
              "      <td>0.000000</td>\n",
              "      <td>0.000000</td>\n",
              "      <td>0.000000</td>\n",
              "      <td>0.000000</td>\n",
              "      <td>0.000000</td>\n",
              "      <td>0.000000</td>\n",
              "      <td>0.000000</td>\n",
              "      <td>0.000000</td>\n",
              "      <td>0.000000</td>\n",
              "      <td>0.000000</td>\n",
              "      <td>0.000000</td>\n",
              "      <td>0.000000</td>\n",
              "      <td>0.000000</td>\n",
              "      <td>0.000000</td>\n",
              "      <td>0.000000</td>\n",
              "      <td>0.000000</td>\n",
              "      <td>0.0</td>\n",
              "      <td>0.0</td>\n",
              "      <td>0.000000</td>\n",
              "      <td>0.000000</td>\n",
              "      <td>0.000000</td>\n",
              "      <td>0.000000</td>\n",
              "      <td>0.000000</td>\n",
              "      <td>0.0</td>\n",
              "      <td>0.000000</td>\n",
              "      <td>0.000000</td>\n",
              "      <td>0.000000</td>\n",
              "      <td>...</td>\n",
              "      <td>0.0</td>\n",
              "      <td>0.000000</td>\n",
              "      <td>0.000000</td>\n",
              "      <td>0.000000</td>\n",
              "      <td>0.000000</td>\n",
              "      <td>0.000000</td>\n",
              "      <td>0.000000</td>\n",
              "      <td>0.000000</td>\n",
              "      <td>0.000000</td>\n",
              "      <td>0.000000</td>\n",
              "      <td>0.000000</td>\n",
              "      <td>0.000000</td>\n",
              "      <td>0.000000</td>\n",
              "      <td>0.000000</td>\n",
              "      <td>0.000000</td>\n",
              "      <td>0.0</td>\n",
              "      <td>0.0</td>\n",
              "      <td>0.000000</td>\n",
              "      <td>0.000000</td>\n",
              "      <td>0.000000</td>\n",
              "      <td>0.000000</td>\n",
              "      <td>0.000000</td>\n",
              "      <td>0.000000</td>\n",
              "      <td>0.000000</td>\n",
              "      <td>0.000000</td>\n",
              "      <td>0.000000</td>\n",
              "      <td>0.000000</td>\n",
              "      <td>0.0</td>\n",
              "      <td>0.000000</td>\n",
              "      <td>0.000000</td>\n",
              "      <td>0.0</td>\n",
              "      <td>0.000000</td>\n",
              "      <td>0.000000</td>\n",
              "      <td>0.000000</td>\n",
              "      <td>0.000000</td>\n",
              "      <td>0.000000</td>\n",
              "      <td>0.000000</td>\n",
              "      <td>0.000000</td>\n",
              "      <td>0.000000</td>\n",
              "      <td>0.000000</td>\n",
              "    </tr>\n",
              "    <tr>\n",
              "      <th>50%</th>\n",
              "      <td>1.000000</td>\n",
              "      <td>0.000000</td>\n",
              "      <td>1.0</td>\n",
              "      <td>1.0</td>\n",
              "      <td>0.000000</td>\n",
              "      <td>0.000000</td>\n",
              "      <td>0.000000</td>\n",
              "      <td>0.000000</td>\n",
              "      <td>0.000000</td>\n",
              "      <td>0.000000</td>\n",
              "      <td>0.000000</td>\n",
              "      <td>0.000000</td>\n",
              "      <td>0.000000</td>\n",
              "      <td>0.000000</td>\n",
              "      <td>0.000000</td>\n",
              "      <td>0.000000</td>\n",
              "      <td>0.000000</td>\n",
              "      <td>0.000000</td>\n",
              "      <td>0.000000</td>\n",
              "      <td>0.000000</td>\n",
              "      <td>0.000000</td>\n",
              "      <td>0.000000</td>\n",
              "      <td>0.000000</td>\n",
              "      <td>0.000000</td>\n",
              "      <td>0.000000</td>\n",
              "      <td>0.000000</td>\n",
              "      <td>0.000000</td>\n",
              "      <td>0.000000</td>\n",
              "      <td>0.000000</td>\n",
              "      <td>0.0</td>\n",
              "      <td>0.0</td>\n",
              "      <td>0.000000</td>\n",
              "      <td>0.000000</td>\n",
              "      <td>0.000000</td>\n",
              "      <td>0.000000</td>\n",
              "      <td>0.000000</td>\n",
              "      <td>0.0</td>\n",
              "      <td>0.000000</td>\n",
              "      <td>0.000000</td>\n",
              "      <td>0.000000</td>\n",
              "      <td>...</td>\n",
              "      <td>0.0</td>\n",
              "      <td>0.000000</td>\n",
              "      <td>0.000000</td>\n",
              "      <td>0.000000</td>\n",
              "      <td>0.000000</td>\n",
              "      <td>0.000000</td>\n",
              "      <td>0.000000</td>\n",
              "      <td>0.000000</td>\n",
              "      <td>0.000000</td>\n",
              "      <td>0.000000</td>\n",
              "      <td>0.000000</td>\n",
              "      <td>0.000000</td>\n",
              "      <td>0.000000</td>\n",
              "      <td>0.000000</td>\n",
              "      <td>0.000000</td>\n",
              "      <td>0.0</td>\n",
              "      <td>0.0</td>\n",
              "      <td>0.000000</td>\n",
              "      <td>0.000000</td>\n",
              "      <td>0.000000</td>\n",
              "      <td>0.000000</td>\n",
              "      <td>0.000000</td>\n",
              "      <td>0.000000</td>\n",
              "      <td>0.000000</td>\n",
              "      <td>0.000000</td>\n",
              "      <td>0.000000</td>\n",
              "      <td>0.000000</td>\n",
              "      <td>0.0</td>\n",
              "      <td>0.000000</td>\n",
              "      <td>0.000000</td>\n",
              "      <td>0.0</td>\n",
              "      <td>0.000000</td>\n",
              "      <td>0.000000</td>\n",
              "      <td>0.000000</td>\n",
              "      <td>0.000000</td>\n",
              "      <td>0.000000</td>\n",
              "      <td>0.000000</td>\n",
              "      <td>0.000000</td>\n",
              "      <td>0.000000</td>\n",
              "      <td>0.000000</td>\n",
              "    </tr>\n",
              "    <tr>\n",
              "      <th>75%</th>\n",
              "      <td>1.000000</td>\n",
              "      <td>0.000000</td>\n",
              "      <td>1.0</td>\n",
              "      <td>1.0</td>\n",
              "      <td>0.000000</td>\n",
              "      <td>0.000000</td>\n",
              "      <td>0.000000</td>\n",
              "      <td>0.000000</td>\n",
              "      <td>0.000000</td>\n",
              "      <td>0.000000</td>\n",
              "      <td>0.000000</td>\n",
              "      <td>0.000000</td>\n",
              "      <td>0.000000</td>\n",
              "      <td>0.000000</td>\n",
              "      <td>0.000000</td>\n",
              "      <td>0.000000</td>\n",
              "      <td>0.000000</td>\n",
              "      <td>0.000000</td>\n",
              "      <td>0.000000</td>\n",
              "      <td>0.000000</td>\n",
              "      <td>0.000000</td>\n",
              "      <td>0.000000</td>\n",
              "      <td>0.000000</td>\n",
              "      <td>0.000000</td>\n",
              "      <td>0.000000</td>\n",
              "      <td>0.000000</td>\n",
              "      <td>0.000000</td>\n",
              "      <td>0.000000</td>\n",
              "      <td>0.000000</td>\n",
              "      <td>0.0</td>\n",
              "      <td>0.0</td>\n",
              "      <td>0.000000</td>\n",
              "      <td>0.000000</td>\n",
              "      <td>0.000000</td>\n",
              "      <td>0.000000</td>\n",
              "      <td>0.000000</td>\n",
              "      <td>0.0</td>\n",
              "      <td>0.000000</td>\n",
              "      <td>0.000000</td>\n",
              "      <td>0.000000</td>\n",
              "      <td>...</td>\n",
              "      <td>0.0</td>\n",
              "      <td>0.000000</td>\n",
              "      <td>0.000000</td>\n",
              "      <td>0.000000</td>\n",
              "      <td>0.000000</td>\n",
              "      <td>0.000000</td>\n",
              "      <td>0.000000</td>\n",
              "      <td>0.000000</td>\n",
              "      <td>0.000000</td>\n",
              "      <td>0.000000</td>\n",
              "      <td>0.000000</td>\n",
              "      <td>0.000000</td>\n",
              "      <td>0.000000</td>\n",
              "      <td>0.000000</td>\n",
              "      <td>0.000000</td>\n",
              "      <td>0.0</td>\n",
              "      <td>0.0</td>\n",
              "      <td>0.000000</td>\n",
              "      <td>0.000000</td>\n",
              "      <td>0.000000</td>\n",
              "      <td>0.000000</td>\n",
              "      <td>0.000000</td>\n",
              "      <td>0.000000</td>\n",
              "      <td>0.000000</td>\n",
              "      <td>0.000000</td>\n",
              "      <td>0.000000</td>\n",
              "      <td>0.000000</td>\n",
              "      <td>0.0</td>\n",
              "      <td>0.000000</td>\n",
              "      <td>0.000000</td>\n",
              "      <td>0.0</td>\n",
              "      <td>0.000000</td>\n",
              "      <td>0.000000</td>\n",
              "      <td>0.000000</td>\n",
              "      <td>0.000000</td>\n",
              "      <td>0.000000</td>\n",
              "      <td>0.000000</td>\n",
              "      <td>0.000000</td>\n",
              "      <td>0.000000</td>\n",
              "      <td>0.000000</td>\n",
              "    </tr>\n",
              "    <tr>\n",
              "      <th>max</th>\n",
              "      <td>1.000000</td>\n",
              "      <td>1.000000</td>\n",
              "      <td>1.0</td>\n",
              "      <td>1.0</td>\n",
              "      <td>1.000000</td>\n",
              "      <td>1.000000</td>\n",
              "      <td>1.000000</td>\n",
              "      <td>1.000000</td>\n",
              "      <td>1.000000</td>\n",
              "      <td>1.000000</td>\n",
              "      <td>1.000000</td>\n",
              "      <td>1.000000</td>\n",
              "      <td>1.000000</td>\n",
              "      <td>1.000000</td>\n",
              "      <td>1.000000</td>\n",
              "      <td>1.000000</td>\n",
              "      <td>1.000000</td>\n",
              "      <td>1.000000</td>\n",
              "      <td>1.000000</td>\n",
              "      <td>1.000000</td>\n",
              "      <td>1.000000</td>\n",
              "      <td>1.000000</td>\n",
              "      <td>1.000000</td>\n",
              "      <td>1.000000</td>\n",
              "      <td>1.000000</td>\n",
              "      <td>1.000000</td>\n",
              "      <td>1.000000</td>\n",
              "      <td>1.000000</td>\n",
              "      <td>1.000000</td>\n",
              "      <td>0.0</td>\n",
              "      <td>0.0</td>\n",
              "      <td>1.000000</td>\n",
              "      <td>1.000000</td>\n",
              "      <td>1.000000</td>\n",
              "      <td>1.000000</td>\n",
              "      <td>1.000000</td>\n",
              "      <td>0.0</td>\n",
              "      <td>1.000000</td>\n",
              "      <td>1.000000</td>\n",
              "      <td>1.000000</td>\n",
              "      <td>...</td>\n",
              "      <td>0.0</td>\n",
              "      <td>1.000000</td>\n",
              "      <td>1.000000</td>\n",
              "      <td>1.000000</td>\n",
              "      <td>1.000000</td>\n",
              "      <td>1.000000</td>\n",
              "      <td>1.000000</td>\n",
              "      <td>1.000000</td>\n",
              "      <td>1.000000</td>\n",
              "      <td>1.000000</td>\n",
              "      <td>1.000000</td>\n",
              "      <td>1.000000</td>\n",
              "      <td>1.000000</td>\n",
              "      <td>1.000000</td>\n",
              "      <td>1.000000</td>\n",
              "      <td>0.0</td>\n",
              "      <td>0.0</td>\n",
              "      <td>1.000000</td>\n",
              "      <td>1.000000</td>\n",
              "      <td>1.000000</td>\n",
              "      <td>1.000000</td>\n",
              "      <td>1.000000</td>\n",
              "      <td>1.000000</td>\n",
              "      <td>1.000000</td>\n",
              "      <td>1.000000</td>\n",
              "      <td>1.000000</td>\n",
              "      <td>1.000000</td>\n",
              "      <td>0.0</td>\n",
              "      <td>1.000000</td>\n",
              "      <td>1.000000</td>\n",
              "      <td>0.0</td>\n",
              "      <td>1.000000</td>\n",
              "      <td>1.000000</td>\n",
              "      <td>1.000000</td>\n",
              "      <td>1.000000</td>\n",
              "      <td>1.000000</td>\n",
              "      <td>1.000000</td>\n",
              "      <td>1.000000</td>\n",
              "      <td>1.000000</td>\n",
              "      <td>1.000000</td>\n",
              "    </tr>\n",
              "  </tbody>\n",
              "</table>\n",
              "<p>8 rows × 16368 columns</p>\n",
              "</div>"
            ],
            "text/plain": [
              "              0             100    ...         30257         30263\n",
              "count  10394.000000  10394.000000  ...  10394.000000  10394.000000\n",
              "mean       0.856937      0.000481  ...      0.000096      0.000096\n",
              "std        0.350154      0.021929  ...      0.009809      0.009809\n",
              "min        0.000000      0.000000  ...      0.000000      0.000000\n",
              "25%        1.000000      0.000000  ...      0.000000      0.000000\n",
              "50%        1.000000      0.000000  ...      0.000000      0.000000\n",
              "75%        1.000000      0.000000  ...      0.000000      0.000000\n",
              "max        1.000000      1.000000  ...      1.000000      1.000000\n",
              "\n",
              "[8 rows x 16368 columns]"
            ]
          },
          "metadata": {
            "tags": []
          },
          "execution_count": 93
        }
      ]
    },
    {
      "cell_type": "code",
      "metadata": {
        "colab": {
          "base_uri": "https://localhost:8080/"
        },
        "id": "Pof5wQqp5uoQ",
        "outputId": "cae96570-6b88-445f-ca3a-f35bf884b9da"
      },
      "source": [
        "# making a dataframe where the index are the reviews index, and the columns are the unique words on the reviews.\n",
        "%%time\n",
        "x_test = pd.DataFrame(index=range(len(test_ids)), columns=unique_ids)\n",
        "x_test.fillna(0, inplace=True)\n"
      ],
      "execution_count": null,
      "outputs": [
        {
          "output_type": "stream",
          "text": [
            "CPU times: user 14 s, sys: 52.8 ms, total: 14.1 s\n",
            "Wall time: 14.1 s\n"
          ],
          "name": "stdout"
        }
      ]
    },
    {
      "cell_type": "code",
      "metadata": {
        "colab": {
          "base_uri": "https://localhost:8080/"
        },
        "id": "NCifcoG2KLo5",
        "outputId": "9ea6b1b2-d0ff-4380-fff8-3bbf384fb098"
      },
      "source": [
        "#x_test =  for i in _4_rev_ids for id in list(_4_rev_ids[i]) lambda x_test[id][i] : 1\n",
        "#x_test = [x_test[id][i] = 1 for i in _4_rev_ids for id in list(_4_rev_ids[i])]\n",
        "%%time\n",
        "is_word_in(isin_ids_ts, x_test)"
      ],
      "execution_count": null,
      "outputs": [
        {
          "output_type": "stream",
          "text": [
            "CPU times: user 7.02 s, sys: 250 ms, total: 7.27 s\n",
            "Wall time: 7.29 s\n"
          ],
          "name": "stdout"
        }
      ]
    },
    {
      "cell_type": "code",
      "metadata": {
        "colab": {
          "base_uri": "https://localhost:8080/",
          "height": 253
        },
        "id": "Vd3j4KkKNF8e",
        "outputId": "3d76a20d-c83b-4f71-f8fd-0671d75e45f8"
      },
      "source": [
        "x_test.tail()"
      ],
      "execution_count": null,
      "outputs": [
        {
          "output_type": "execute_result",
          "data": {
            "text/html": [
              "<div>\n",
              "<style scoped>\n",
              "    .dataframe tbody tr th:only-of-type {\n",
              "        vertical-align: middle;\n",
              "    }\n",
              "\n",
              "    .dataframe tbody tr th {\n",
              "        vertical-align: top;\n",
              "    }\n",
              "\n",
              "    .dataframe thead th {\n",
              "        text-align: right;\n",
              "    }\n",
              "</style>\n",
              "<table border=\"1\" class=\"dataframe\">\n",
              "  <thead>\n",
              "    <tr style=\"text-align: right;\">\n",
              "      <th></th>\n",
              "      <th>0</th>\n",
              "      <th>100</th>\n",
              "      <th>101</th>\n",
              "      <th>102</th>\n",
              "      <th>1037</th>\n",
              "      <th>1038</th>\n",
              "      <th>1039</th>\n",
              "      <th>1040</th>\n",
              "      <th>1041</th>\n",
              "      <th>1042</th>\n",
              "      <th>1043</th>\n",
              "      <th>1044</th>\n",
              "      <th>1045</th>\n",
              "      <th>1046</th>\n",
              "      <th>1047</th>\n",
              "      <th>1048</th>\n",
              "      <th>1050</th>\n",
              "      <th>1051</th>\n",
              "      <th>1052</th>\n",
              "      <th>1053</th>\n",
              "      <th>1054</th>\n",
              "      <th>1055</th>\n",
              "      <th>1056</th>\n",
              "      <th>1057</th>\n",
              "      <th>1058</th>\n",
              "      <th>1059</th>\n",
              "      <th>1060</th>\n",
              "      <th>1061</th>\n",
              "      <th>1062</th>\n",
              "      <th>1067</th>\n",
              "      <th>1087</th>\n",
              "      <th>1094</th>\n",
              "      <th>1095</th>\n",
              "      <th>1107</th>\n",
              "      <th>1635</th>\n",
              "      <th>1636</th>\n",
              "      <th>1646</th>\n",
              "      <th>1647</th>\n",
              "      <th>1651</th>\n",
              "      <th>1656</th>\n",
              "      <th>...</th>\n",
              "      <th>29578</th>\n",
              "      <th>29582</th>\n",
              "      <th>29584</th>\n",
              "      <th>29589</th>\n",
              "      <th>29591</th>\n",
              "      <th>29592</th>\n",
              "      <th>29593</th>\n",
              "      <th>29597</th>\n",
              "      <th>29602</th>\n",
              "      <th>29610</th>\n",
              "      <th>30173</th>\n",
              "      <th>30174</th>\n",
              "      <th>30177</th>\n",
              "      <th>30179</th>\n",
              "      <th>30180</th>\n",
              "      <th>30181</th>\n",
              "      <th>30182</th>\n",
              "      <th>30183</th>\n",
              "      <th>30186</th>\n",
              "      <th>30187</th>\n",
              "      <th>30189</th>\n",
              "      <th>30191</th>\n",
              "      <th>30192</th>\n",
              "      <th>30194</th>\n",
              "      <th>30197</th>\n",
              "      <th>30198</th>\n",
              "      <th>30200</th>\n",
              "      <th>30203</th>\n",
              "      <th>30207</th>\n",
              "      <th>30211</th>\n",
              "      <th>30212</th>\n",
              "      <th>30217</th>\n",
              "      <th>30219</th>\n",
              "      <th>30220</th>\n",
              "      <th>30221</th>\n",
              "      <th>30228</th>\n",
              "      <th>30239</th>\n",
              "      <th>30251</th>\n",
              "      <th>30257</th>\n",
              "      <th>30263</th>\n",
              "    </tr>\n",
              "  </thead>\n",
              "  <tbody>\n",
              "    <tr>\n",
              "      <th>2594</th>\n",
              "      <td>1</td>\n",
              "      <td>0</td>\n",
              "      <td>1</td>\n",
              "      <td>1</td>\n",
              "      <td>0</td>\n",
              "      <td>0</td>\n",
              "      <td>0</td>\n",
              "      <td>0</td>\n",
              "      <td>0</td>\n",
              "      <td>0</td>\n",
              "      <td>0</td>\n",
              "      <td>0</td>\n",
              "      <td>0</td>\n",
              "      <td>0</td>\n",
              "      <td>0</td>\n",
              "      <td>0</td>\n",
              "      <td>0</td>\n",
              "      <td>0</td>\n",
              "      <td>0</td>\n",
              "      <td>0</td>\n",
              "      <td>0</td>\n",
              "      <td>0</td>\n",
              "      <td>0</td>\n",
              "      <td>0</td>\n",
              "      <td>0</td>\n",
              "      <td>0</td>\n",
              "      <td>0</td>\n",
              "      <td>0</td>\n",
              "      <td>0</td>\n",
              "      <td>0</td>\n",
              "      <td>0</td>\n",
              "      <td>0</td>\n",
              "      <td>0</td>\n",
              "      <td>0</td>\n",
              "      <td>0</td>\n",
              "      <td>0</td>\n",
              "      <td>0</td>\n",
              "      <td>0</td>\n",
              "      <td>0</td>\n",
              "      <td>0</td>\n",
              "      <td>...</td>\n",
              "      <td>0</td>\n",
              "      <td>0</td>\n",
              "      <td>0</td>\n",
              "      <td>0</td>\n",
              "      <td>0</td>\n",
              "      <td>0</td>\n",
              "      <td>0</td>\n",
              "      <td>0</td>\n",
              "      <td>0</td>\n",
              "      <td>0</td>\n",
              "      <td>0</td>\n",
              "      <td>0</td>\n",
              "      <td>0</td>\n",
              "      <td>0</td>\n",
              "      <td>0</td>\n",
              "      <td>0</td>\n",
              "      <td>0</td>\n",
              "      <td>0</td>\n",
              "      <td>0</td>\n",
              "      <td>0</td>\n",
              "      <td>0</td>\n",
              "      <td>0</td>\n",
              "      <td>0</td>\n",
              "      <td>0</td>\n",
              "      <td>0</td>\n",
              "      <td>0</td>\n",
              "      <td>0</td>\n",
              "      <td>0</td>\n",
              "      <td>0</td>\n",
              "      <td>0</td>\n",
              "      <td>0</td>\n",
              "      <td>0</td>\n",
              "      <td>0</td>\n",
              "      <td>0</td>\n",
              "      <td>0</td>\n",
              "      <td>0</td>\n",
              "      <td>0</td>\n",
              "      <td>0</td>\n",
              "      <td>0</td>\n",
              "      <td>0</td>\n",
              "    </tr>\n",
              "    <tr>\n",
              "      <th>2595</th>\n",
              "      <td>1</td>\n",
              "      <td>0</td>\n",
              "      <td>1</td>\n",
              "      <td>1</td>\n",
              "      <td>0</td>\n",
              "      <td>0</td>\n",
              "      <td>0</td>\n",
              "      <td>0</td>\n",
              "      <td>0</td>\n",
              "      <td>0</td>\n",
              "      <td>0</td>\n",
              "      <td>0</td>\n",
              "      <td>0</td>\n",
              "      <td>0</td>\n",
              "      <td>0</td>\n",
              "      <td>0</td>\n",
              "      <td>0</td>\n",
              "      <td>0</td>\n",
              "      <td>0</td>\n",
              "      <td>0</td>\n",
              "      <td>0</td>\n",
              "      <td>0</td>\n",
              "      <td>0</td>\n",
              "      <td>0</td>\n",
              "      <td>0</td>\n",
              "      <td>0</td>\n",
              "      <td>0</td>\n",
              "      <td>0</td>\n",
              "      <td>0</td>\n",
              "      <td>0</td>\n",
              "      <td>0</td>\n",
              "      <td>0</td>\n",
              "      <td>0</td>\n",
              "      <td>0</td>\n",
              "      <td>0</td>\n",
              "      <td>0</td>\n",
              "      <td>0</td>\n",
              "      <td>0</td>\n",
              "      <td>0</td>\n",
              "      <td>0</td>\n",
              "      <td>...</td>\n",
              "      <td>0</td>\n",
              "      <td>0</td>\n",
              "      <td>0</td>\n",
              "      <td>0</td>\n",
              "      <td>0</td>\n",
              "      <td>0</td>\n",
              "      <td>0</td>\n",
              "      <td>0</td>\n",
              "      <td>0</td>\n",
              "      <td>0</td>\n",
              "      <td>0</td>\n",
              "      <td>0</td>\n",
              "      <td>0</td>\n",
              "      <td>0</td>\n",
              "      <td>0</td>\n",
              "      <td>0</td>\n",
              "      <td>0</td>\n",
              "      <td>0</td>\n",
              "      <td>0</td>\n",
              "      <td>0</td>\n",
              "      <td>0</td>\n",
              "      <td>0</td>\n",
              "      <td>0</td>\n",
              "      <td>0</td>\n",
              "      <td>0</td>\n",
              "      <td>0</td>\n",
              "      <td>0</td>\n",
              "      <td>0</td>\n",
              "      <td>0</td>\n",
              "      <td>0</td>\n",
              "      <td>0</td>\n",
              "      <td>0</td>\n",
              "      <td>0</td>\n",
              "      <td>0</td>\n",
              "      <td>0</td>\n",
              "      <td>0</td>\n",
              "      <td>0</td>\n",
              "      <td>0</td>\n",
              "      <td>0</td>\n",
              "      <td>0</td>\n",
              "    </tr>\n",
              "    <tr>\n",
              "      <th>2596</th>\n",
              "      <td>1</td>\n",
              "      <td>0</td>\n",
              "      <td>1</td>\n",
              "      <td>1</td>\n",
              "      <td>0</td>\n",
              "      <td>0</td>\n",
              "      <td>0</td>\n",
              "      <td>0</td>\n",
              "      <td>0</td>\n",
              "      <td>0</td>\n",
              "      <td>0</td>\n",
              "      <td>0</td>\n",
              "      <td>0</td>\n",
              "      <td>0</td>\n",
              "      <td>0</td>\n",
              "      <td>0</td>\n",
              "      <td>0</td>\n",
              "      <td>0</td>\n",
              "      <td>0</td>\n",
              "      <td>0</td>\n",
              "      <td>0</td>\n",
              "      <td>0</td>\n",
              "      <td>0</td>\n",
              "      <td>0</td>\n",
              "      <td>0</td>\n",
              "      <td>0</td>\n",
              "      <td>0</td>\n",
              "      <td>0</td>\n",
              "      <td>0</td>\n",
              "      <td>0</td>\n",
              "      <td>0</td>\n",
              "      <td>0</td>\n",
              "      <td>0</td>\n",
              "      <td>0</td>\n",
              "      <td>0</td>\n",
              "      <td>0</td>\n",
              "      <td>0</td>\n",
              "      <td>0</td>\n",
              "      <td>0</td>\n",
              "      <td>0</td>\n",
              "      <td>...</td>\n",
              "      <td>0</td>\n",
              "      <td>0</td>\n",
              "      <td>0</td>\n",
              "      <td>0</td>\n",
              "      <td>0</td>\n",
              "      <td>0</td>\n",
              "      <td>0</td>\n",
              "      <td>0</td>\n",
              "      <td>0</td>\n",
              "      <td>0</td>\n",
              "      <td>0</td>\n",
              "      <td>0</td>\n",
              "      <td>0</td>\n",
              "      <td>0</td>\n",
              "      <td>0</td>\n",
              "      <td>0</td>\n",
              "      <td>0</td>\n",
              "      <td>0</td>\n",
              "      <td>0</td>\n",
              "      <td>0</td>\n",
              "      <td>0</td>\n",
              "      <td>0</td>\n",
              "      <td>0</td>\n",
              "      <td>0</td>\n",
              "      <td>0</td>\n",
              "      <td>0</td>\n",
              "      <td>0</td>\n",
              "      <td>0</td>\n",
              "      <td>0</td>\n",
              "      <td>0</td>\n",
              "      <td>0</td>\n",
              "      <td>0</td>\n",
              "      <td>0</td>\n",
              "      <td>0</td>\n",
              "      <td>0</td>\n",
              "      <td>0</td>\n",
              "      <td>0</td>\n",
              "      <td>0</td>\n",
              "      <td>0</td>\n",
              "      <td>0</td>\n",
              "    </tr>\n",
              "    <tr>\n",
              "      <th>2597</th>\n",
              "      <td>1</td>\n",
              "      <td>0</td>\n",
              "      <td>1</td>\n",
              "      <td>1</td>\n",
              "      <td>0</td>\n",
              "      <td>0</td>\n",
              "      <td>0</td>\n",
              "      <td>0</td>\n",
              "      <td>0</td>\n",
              "      <td>0</td>\n",
              "      <td>0</td>\n",
              "      <td>0</td>\n",
              "      <td>0</td>\n",
              "      <td>0</td>\n",
              "      <td>0</td>\n",
              "      <td>0</td>\n",
              "      <td>0</td>\n",
              "      <td>0</td>\n",
              "      <td>0</td>\n",
              "      <td>0</td>\n",
              "      <td>0</td>\n",
              "      <td>0</td>\n",
              "      <td>0</td>\n",
              "      <td>0</td>\n",
              "      <td>0</td>\n",
              "      <td>0</td>\n",
              "      <td>0</td>\n",
              "      <td>0</td>\n",
              "      <td>0</td>\n",
              "      <td>0</td>\n",
              "      <td>0</td>\n",
              "      <td>0</td>\n",
              "      <td>0</td>\n",
              "      <td>0</td>\n",
              "      <td>0</td>\n",
              "      <td>0</td>\n",
              "      <td>0</td>\n",
              "      <td>0</td>\n",
              "      <td>0</td>\n",
              "      <td>0</td>\n",
              "      <td>...</td>\n",
              "      <td>0</td>\n",
              "      <td>0</td>\n",
              "      <td>0</td>\n",
              "      <td>0</td>\n",
              "      <td>0</td>\n",
              "      <td>0</td>\n",
              "      <td>0</td>\n",
              "      <td>0</td>\n",
              "      <td>0</td>\n",
              "      <td>0</td>\n",
              "      <td>0</td>\n",
              "      <td>0</td>\n",
              "      <td>0</td>\n",
              "      <td>0</td>\n",
              "      <td>0</td>\n",
              "      <td>0</td>\n",
              "      <td>0</td>\n",
              "      <td>0</td>\n",
              "      <td>0</td>\n",
              "      <td>0</td>\n",
              "      <td>0</td>\n",
              "      <td>0</td>\n",
              "      <td>0</td>\n",
              "      <td>0</td>\n",
              "      <td>0</td>\n",
              "      <td>0</td>\n",
              "      <td>0</td>\n",
              "      <td>0</td>\n",
              "      <td>0</td>\n",
              "      <td>0</td>\n",
              "      <td>0</td>\n",
              "      <td>0</td>\n",
              "      <td>0</td>\n",
              "      <td>0</td>\n",
              "      <td>0</td>\n",
              "      <td>0</td>\n",
              "      <td>0</td>\n",
              "      <td>0</td>\n",
              "      <td>0</td>\n",
              "      <td>0</td>\n",
              "    </tr>\n",
              "    <tr>\n",
              "      <th>2598</th>\n",
              "      <td>1</td>\n",
              "      <td>0</td>\n",
              "      <td>1</td>\n",
              "      <td>1</td>\n",
              "      <td>0</td>\n",
              "      <td>0</td>\n",
              "      <td>0</td>\n",
              "      <td>0</td>\n",
              "      <td>0</td>\n",
              "      <td>0</td>\n",
              "      <td>0</td>\n",
              "      <td>0</td>\n",
              "      <td>0</td>\n",
              "      <td>0</td>\n",
              "      <td>0</td>\n",
              "      <td>0</td>\n",
              "      <td>0</td>\n",
              "      <td>0</td>\n",
              "      <td>0</td>\n",
              "      <td>0</td>\n",
              "      <td>0</td>\n",
              "      <td>0</td>\n",
              "      <td>0</td>\n",
              "      <td>0</td>\n",
              "      <td>0</td>\n",
              "      <td>0</td>\n",
              "      <td>0</td>\n",
              "      <td>0</td>\n",
              "      <td>0</td>\n",
              "      <td>0</td>\n",
              "      <td>0</td>\n",
              "      <td>0</td>\n",
              "      <td>0</td>\n",
              "      <td>0</td>\n",
              "      <td>0</td>\n",
              "      <td>0</td>\n",
              "      <td>0</td>\n",
              "      <td>0</td>\n",
              "      <td>0</td>\n",
              "      <td>0</td>\n",
              "      <td>...</td>\n",
              "      <td>0</td>\n",
              "      <td>0</td>\n",
              "      <td>0</td>\n",
              "      <td>0</td>\n",
              "      <td>0</td>\n",
              "      <td>0</td>\n",
              "      <td>0</td>\n",
              "      <td>0</td>\n",
              "      <td>0</td>\n",
              "      <td>0</td>\n",
              "      <td>0</td>\n",
              "      <td>0</td>\n",
              "      <td>0</td>\n",
              "      <td>0</td>\n",
              "      <td>0</td>\n",
              "      <td>0</td>\n",
              "      <td>0</td>\n",
              "      <td>0</td>\n",
              "      <td>0</td>\n",
              "      <td>0</td>\n",
              "      <td>0</td>\n",
              "      <td>0</td>\n",
              "      <td>0</td>\n",
              "      <td>0</td>\n",
              "      <td>0</td>\n",
              "      <td>0</td>\n",
              "      <td>0</td>\n",
              "      <td>0</td>\n",
              "      <td>0</td>\n",
              "      <td>0</td>\n",
              "      <td>0</td>\n",
              "      <td>0</td>\n",
              "      <td>0</td>\n",
              "      <td>0</td>\n",
              "      <td>0</td>\n",
              "      <td>0</td>\n",
              "      <td>0</td>\n",
              "      <td>0</td>\n",
              "      <td>0</td>\n",
              "      <td>0</td>\n",
              "    </tr>\n",
              "  </tbody>\n",
              "</table>\n",
              "<p>5 rows × 16368 columns</p>\n",
              "</div>"
            ],
            "text/plain": [
              "      0      100    101    102    1037   ...  30228  30239  30251  30257  30263\n",
              "2594      1      0      1      1      0  ...      0      0      0      0      0\n",
              "2595      1      0      1      1      0  ...      0      0      0      0      0\n",
              "2596      1      0      1      1      0  ...      0      0      0      0      0\n",
              "2597      1      0      1      1      0  ...      0      0      0      0      0\n",
              "2598      1      0      1      1      0  ...      0      0      0      0      0\n",
              "\n",
              "[5 rows x 16368 columns]"
            ]
          },
          "metadata": {
            "tags": []
          },
          "execution_count": 87
        }
      ]
    },
    {
      "cell_type": "code",
      "metadata": {
        "colab": {
          "base_uri": "https://localhost:8080/",
          "height": 346
        },
        "id": "wh14mfPhNnfX",
        "outputId": "6f501cc1-be67-4b59-fbb8-bf285b17974c"
      },
      "source": [
        "%%time\n",
        "x_test.describe()"
      ],
      "execution_count": null,
      "outputs": [
        {
          "output_type": "execute_result",
          "data": {
            "text/html": [
              "<div>\n",
              "<style scoped>\n",
              "    .dataframe tbody tr th:only-of-type {\n",
              "        vertical-align: middle;\n",
              "    }\n",
              "\n",
              "    .dataframe tbody tr th {\n",
              "        vertical-align: top;\n",
              "    }\n",
              "\n",
              "    .dataframe thead th {\n",
              "        text-align: right;\n",
              "    }\n",
              "</style>\n",
              "<table border=\"1\" class=\"dataframe\">\n",
              "  <thead>\n",
              "    <tr style=\"text-align: right;\">\n",
              "      <th></th>\n",
              "      <th>0</th>\n",
              "      <th>100</th>\n",
              "      <th>101</th>\n",
              "      <th>102</th>\n",
              "      <th>1037</th>\n",
              "      <th>1038</th>\n",
              "      <th>1039</th>\n",
              "      <th>1040</th>\n",
              "      <th>1041</th>\n",
              "      <th>1042</th>\n",
              "      <th>1043</th>\n",
              "      <th>1044</th>\n",
              "      <th>1045</th>\n",
              "      <th>1046</th>\n",
              "      <th>1047</th>\n",
              "      <th>1048</th>\n",
              "      <th>1050</th>\n",
              "      <th>1051</th>\n",
              "      <th>1052</th>\n",
              "      <th>1053</th>\n",
              "      <th>1054</th>\n",
              "      <th>1055</th>\n",
              "      <th>1056</th>\n",
              "      <th>1057</th>\n",
              "      <th>1058</th>\n",
              "      <th>1059</th>\n",
              "      <th>1060</th>\n",
              "      <th>1061</th>\n",
              "      <th>1062</th>\n",
              "      <th>1067</th>\n",
              "      <th>1087</th>\n",
              "      <th>1094</th>\n",
              "      <th>1095</th>\n",
              "      <th>1107</th>\n",
              "      <th>1635</th>\n",
              "      <th>1636</th>\n",
              "      <th>1646</th>\n",
              "      <th>1647</th>\n",
              "      <th>1651</th>\n",
              "      <th>1656</th>\n",
              "      <th>...</th>\n",
              "      <th>29578</th>\n",
              "      <th>29582</th>\n",
              "      <th>29584</th>\n",
              "      <th>29589</th>\n",
              "      <th>29591</th>\n",
              "      <th>29592</th>\n",
              "      <th>29593</th>\n",
              "      <th>29597</th>\n",
              "      <th>29602</th>\n",
              "      <th>29610</th>\n",
              "      <th>30173</th>\n",
              "      <th>30174</th>\n",
              "      <th>30177</th>\n",
              "      <th>30179</th>\n",
              "      <th>30180</th>\n",
              "      <th>30181</th>\n",
              "      <th>30182</th>\n",
              "      <th>30183</th>\n",
              "      <th>30186</th>\n",
              "      <th>30187</th>\n",
              "      <th>30189</th>\n",
              "      <th>30191</th>\n",
              "      <th>30192</th>\n",
              "      <th>30194</th>\n",
              "      <th>30197</th>\n",
              "      <th>30198</th>\n",
              "      <th>30200</th>\n",
              "      <th>30203</th>\n",
              "      <th>30207</th>\n",
              "      <th>30211</th>\n",
              "      <th>30212</th>\n",
              "      <th>30217</th>\n",
              "      <th>30219</th>\n",
              "      <th>30220</th>\n",
              "      <th>30221</th>\n",
              "      <th>30228</th>\n",
              "      <th>30239</th>\n",
              "      <th>30251</th>\n",
              "      <th>30257</th>\n",
              "      <th>30263</th>\n",
              "    </tr>\n",
              "  </thead>\n",
              "  <tbody>\n",
              "    <tr>\n",
              "      <th>count</th>\n",
              "      <td>2599.000000</td>\n",
              "      <td>2599.000000</td>\n",
              "      <td>2599.0</td>\n",
              "      <td>2599.0</td>\n",
              "      <td>2599.000000</td>\n",
              "      <td>2599.000000</td>\n",
              "      <td>2599.0</td>\n",
              "      <td>2599.000000</td>\n",
              "      <td>2599.000000</td>\n",
              "      <td>2599.000000</td>\n",
              "      <td>2599.000000</td>\n",
              "      <td>2599.000000</td>\n",
              "      <td>2599.000000</td>\n",
              "      <td>2599.0</td>\n",
              "      <td>2599.000000</td>\n",
              "      <td>2599.000000</td>\n",
              "      <td>2599.0</td>\n",
              "      <td>2599.000000</td>\n",
              "      <td>2599.000000</td>\n",
              "      <td>2599.000000</td>\n",
              "      <td>2599.000000</td>\n",
              "      <td>2599.000000</td>\n",
              "      <td>2599.000000</td>\n",
              "      <td>2599.000000</td>\n",
              "      <td>2599.000000</td>\n",
              "      <td>2599.000000</td>\n",
              "      <td>2599.000000</td>\n",
              "      <td>2599.000000</td>\n",
              "      <td>2599.000000</td>\n",
              "      <td>2599.000000</td>\n",
              "      <td>2599.000000</td>\n",
              "      <td>2599.0</td>\n",
              "      <td>2599.0</td>\n",
              "      <td>2599.0</td>\n",
              "      <td>2599.0</td>\n",
              "      <td>2599.000000</td>\n",
              "      <td>2599.000000</td>\n",
              "      <td>2599.0</td>\n",
              "      <td>2599.0</td>\n",
              "      <td>2599.0</td>\n",
              "      <td>...</td>\n",
              "      <td>2599.000000</td>\n",
              "      <td>2599.0</td>\n",
              "      <td>2599.0</td>\n",
              "      <td>2599.000000</td>\n",
              "      <td>2599.000000</td>\n",
              "      <td>2599.000000</td>\n",
              "      <td>2599.000000</td>\n",
              "      <td>2599.0</td>\n",
              "      <td>2599.0</td>\n",
              "      <td>2599.0</td>\n",
              "      <td>2599.000000</td>\n",
              "      <td>2599.000000</td>\n",
              "      <td>2599.000000</td>\n",
              "      <td>2599.0</td>\n",
              "      <td>2599.0</td>\n",
              "      <td>2599.000000</td>\n",
              "      <td>2599.000000</td>\n",
              "      <td>2599.000000</td>\n",
              "      <td>2599.0</td>\n",
              "      <td>2599.000000</td>\n",
              "      <td>2599.0</td>\n",
              "      <td>2599.0</td>\n",
              "      <td>2599.000000</td>\n",
              "      <td>2599.0</td>\n",
              "      <td>2599.0</td>\n",
              "      <td>2599.0</td>\n",
              "      <td>2599.0</td>\n",
              "      <td>2599.000000</td>\n",
              "      <td>2599.0</td>\n",
              "      <td>2599.0</td>\n",
              "      <td>2599.000000</td>\n",
              "      <td>2599.0</td>\n",
              "      <td>2599.0</td>\n",
              "      <td>2599.0</td>\n",
              "      <td>2599.0</td>\n",
              "      <td>2599.0</td>\n",
              "      <td>2599.0</td>\n",
              "      <td>2599.0</td>\n",
              "      <td>2599.0</td>\n",
              "      <td>2599.0</td>\n",
              "    </tr>\n",
              "    <tr>\n",
              "      <th>mean</th>\n",
              "      <td>0.850327</td>\n",
              "      <td>0.000770</td>\n",
              "      <td>1.0</td>\n",
              "      <td>1.0</td>\n",
              "      <td>0.003848</td>\n",
              "      <td>0.010004</td>\n",
              "      <td>0.0</td>\n",
              "      <td>0.001154</td>\n",
              "      <td>0.005002</td>\n",
              "      <td>0.005387</td>\n",
              "      <td>0.015775</td>\n",
              "      <td>0.008080</td>\n",
              "      <td>0.002309</td>\n",
              "      <td>0.0</td>\n",
              "      <td>0.006541</td>\n",
              "      <td>0.003463</td>\n",
              "      <td>0.0</td>\n",
              "      <td>0.005771</td>\n",
              "      <td>0.000385</td>\n",
              "      <td>0.000385</td>\n",
              "      <td>0.000770</td>\n",
              "      <td>0.007695</td>\n",
              "      <td>0.004232</td>\n",
              "      <td>0.005002</td>\n",
              "      <td>0.000385</td>\n",
              "      <td>0.010773</td>\n",
              "      <td>0.001539</td>\n",
              "      <td>0.001539</td>\n",
              "      <td>0.003078</td>\n",
              "      <td>0.000385</td>\n",
              "      <td>0.000385</td>\n",
              "      <td>0.0</td>\n",
              "      <td>0.0</td>\n",
              "      <td>0.0</td>\n",
              "      <td>0.0</td>\n",
              "      <td>0.000385</td>\n",
              "      <td>0.000385</td>\n",
              "      <td>0.0</td>\n",
              "      <td>0.0</td>\n",
              "      <td>0.0</td>\n",
              "      <td>...</td>\n",
              "      <td>0.000385</td>\n",
              "      <td>0.0</td>\n",
              "      <td>0.0</td>\n",
              "      <td>0.000385</td>\n",
              "      <td>0.000385</td>\n",
              "      <td>0.001154</td>\n",
              "      <td>0.002309</td>\n",
              "      <td>0.0</td>\n",
              "      <td>0.0</td>\n",
              "      <td>0.0</td>\n",
              "      <td>0.000385</td>\n",
              "      <td>0.000385</td>\n",
              "      <td>0.000385</td>\n",
              "      <td>0.0</td>\n",
              "      <td>0.0</td>\n",
              "      <td>0.000385</td>\n",
              "      <td>0.000385</td>\n",
              "      <td>0.000385</td>\n",
              "      <td>0.0</td>\n",
              "      <td>0.000385</td>\n",
              "      <td>0.0</td>\n",
              "      <td>0.0</td>\n",
              "      <td>0.000385</td>\n",
              "      <td>0.0</td>\n",
              "      <td>0.0</td>\n",
              "      <td>0.0</td>\n",
              "      <td>0.0</td>\n",
              "      <td>0.000385</td>\n",
              "      <td>0.0</td>\n",
              "      <td>0.0</td>\n",
              "      <td>0.000385</td>\n",
              "      <td>0.0</td>\n",
              "      <td>0.0</td>\n",
              "      <td>0.0</td>\n",
              "      <td>0.0</td>\n",
              "      <td>0.0</td>\n",
              "      <td>0.0</td>\n",
              "      <td>0.0</td>\n",
              "      <td>0.0</td>\n",
              "      <td>0.0</td>\n",
              "    </tr>\n",
              "    <tr>\n",
              "      <th>std</th>\n",
              "      <td>0.356819</td>\n",
              "      <td>0.027735</td>\n",
              "      <td>0.0</td>\n",
              "      <td>0.0</td>\n",
              "      <td>0.061922</td>\n",
              "      <td>0.099537</td>\n",
              "      <td>0.0</td>\n",
              "      <td>0.033962</td>\n",
              "      <td>0.070561</td>\n",
              "      <td>0.073210</td>\n",
              "      <td>0.124629</td>\n",
              "      <td>0.089542</td>\n",
              "      <td>0.048001</td>\n",
              "      <td>0.0</td>\n",
              "      <td>0.080627</td>\n",
              "      <td>0.058755</td>\n",
              "      <td>0.0</td>\n",
              "      <td>0.075765</td>\n",
              "      <td>0.019615</td>\n",
              "      <td>0.019615</td>\n",
              "      <td>0.027735</td>\n",
              "      <td>0.087401</td>\n",
              "      <td>0.064932</td>\n",
              "      <td>0.070561</td>\n",
              "      <td>0.019615</td>\n",
              "      <td>0.103254</td>\n",
              "      <td>0.039208</td>\n",
              "      <td>0.039208</td>\n",
              "      <td>0.055406</td>\n",
              "      <td>0.019615</td>\n",
              "      <td>0.019615</td>\n",
              "      <td>0.0</td>\n",
              "      <td>0.0</td>\n",
              "      <td>0.0</td>\n",
              "      <td>0.0</td>\n",
              "      <td>0.019615</td>\n",
              "      <td>0.019615</td>\n",
              "      <td>0.0</td>\n",
              "      <td>0.0</td>\n",
              "      <td>0.0</td>\n",
              "      <td>...</td>\n",
              "      <td>0.019615</td>\n",
              "      <td>0.0</td>\n",
              "      <td>0.0</td>\n",
              "      <td>0.019615</td>\n",
              "      <td>0.019615</td>\n",
              "      <td>0.033962</td>\n",
              "      <td>0.048001</td>\n",
              "      <td>0.0</td>\n",
              "      <td>0.0</td>\n",
              "      <td>0.0</td>\n",
              "      <td>0.019615</td>\n",
              "      <td>0.019615</td>\n",
              "      <td>0.019615</td>\n",
              "      <td>0.0</td>\n",
              "      <td>0.0</td>\n",
              "      <td>0.019615</td>\n",
              "      <td>0.019615</td>\n",
              "      <td>0.019615</td>\n",
              "      <td>0.0</td>\n",
              "      <td>0.019615</td>\n",
              "      <td>0.0</td>\n",
              "      <td>0.0</td>\n",
              "      <td>0.019615</td>\n",
              "      <td>0.0</td>\n",
              "      <td>0.0</td>\n",
              "      <td>0.0</td>\n",
              "      <td>0.0</td>\n",
              "      <td>0.019615</td>\n",
              "      <td>0.0</td>\n",
              "      <td>0.0</td>\n",
              "      <td>0.019615</td>\n",
              "      <td>0.0</td>\n",
              "      <td>0.0</td>\n",
              "      <td>0.0</td>\n",
              "      <td>0.0</td>\n",
              "      <td>0.0</td>\n",
              "      <td>0.0</td>\n",
              "      <td>0.0</td>\n",
              "      <td>0.0</td>\n",
              "      <td>0.0</td>\n",
              "    </tr>\n",
              "    <tr>\n",
              "      <th>min</th>\n",
              "      <td>0.000000</td>\n",
              "      <td>0.000000</td>\n",
              "      <td>1.0</td>\n",
              "      <td>1.0</td>\n",
              "      <td>0.000000</td>\n",
              "      <td>0.000000</td>\n",
              "      <td>0.0</td>\n",
              "      <td>0.000000</td>\n",
              "      <td>0.000000</td>\n",
              "      <td>0.000000</td>\n",
              "      <td>0.000000</td>\n",
              "      <td>0.000000</td>\n",
              "      <td>0.000000</td>\n",
              "      <td>0.0</td>\n",
              "      <td>0.000000</td>\n",
              "      <td>0.000000</td>\n",
              "      <td>0.0</td>\n",
              "      <td>0.000000</td>\n",
              "      <td>0.000000</td>\n",
              "      <td>0.000000</td>\n",
              "      <td>0.000000</td>\n",
              "      <td>0.000000</td>\n",
              "      <td>0.000000</td>\n",
              "      <td>0.000000</td>\n",
              "      <td>0.000000</td>\n",
              "      <td>0.000000</td>\n",
              "      <td>0.000000</td>\n",
              "      <td>0.000000</td>\n",
              "      <td>0.000000</td>\n",
              "      <td>0.000000</td>\n",
              "      <td>0.000000</td>\n",
              "      <td>0.0</td>\n",
              "      <td>0.0</td>\n",
              "      <td>0.0</td>\n",
              "      <td>0.0</td>\n",
              "      <td>0.000000</td>\n",
              "      <td>0.000000</td>\n",
              "      <td>0.0</td>\n",
              "      <td>0.0</td>\n",
              "      <td>0.0</td>\n",
              "      <td>...</td>\n",
              "      <td>0.000000</td>\n",
              "      <td>0.0</td>\n",
              "      <td>0.0</td>\n",
              "      <td>0.000000</td>\n",
              "      <td>0.000000</td>\n",
              "      <td>0.000000</td>\n",
              "      <td>0.000000</td>\n",
              "      <td>0.0</td>\n",
              "      <td>0.0</td>\n",
              "      <td>0.0</td>\n",
              "      <td>0.000000</td>\n",
              "      <td>0.000000</td>\n",
              "      <td>0.000000</td>\n",
              "      <td>0.0</td>\n",
              "      <td>0.0</td>\n",
              "      <td>0.000000</td>\n",
              "      <td>0.000000</td>\n",
              "      <td>0.000000</td>\n",
              "      <td>0.0</td>\n",
              "      <td>0.000000</td>\n",
              "      <td>0.0</td>\n",
              "      <td>0.0</td>\n",
              "      <td>0.000000</td>\n",
              "      <td>0.0</td>\n",
              "      <td>0.0</td>\n",
              "      <td>0.0</td>\n",
              "      <td>0.0</td>\n",
              "      <td>0.000000</td>\n",
              "      <td>0.0</td>\n",
              "      <td>0.0</td>\n",
              "      <td>0.000000</td>\n",
              "      <td>0.0</td>\n",
              "      <td>0.0</td>\n",
              "      <td>0.0</td>\n",
              "      <td>0.0</td>\n",
              "      <td>0.0</td>\n",
              "      <td>0.0</td>\n",
              "      <td>0.0</td>\n",
              "      <td>0.0</td>\n",
              "      <td>0.0</td>\n",
              "    </tr>\n",
              "    <tr>\n",
              "      <th>25%</th>\n",
              "      <td>1.000000</td>\n",
              "      <td>0.000000</td>\n",
              "      <td>1.0</td>\n",
              "      <td>1.0</td>\n",
              "      <td>0.000000</td>\n",
              "      <td>0.000000</td>\n",
              "      <td>0.0</td>\n",
              "      <td>0.000000</td>\n",
              "      <td>0.000000</td>\n",
              "      <td>0.000000</td>\n",
              "      <td>0.000000</td>\n",
              "      <td>0.000000</td>\n",
              "      <td>0.000000</td>\n",
              "      <td>0.0</td>\n",
              "      <td>0.000000</td>\n",
              "      <td>0.000000</td>\n",
              "      <td>0.0</td>\n",
              "      <td>0.000000</td>\n",
              "      <td>0.000000</td>\n",
              "      <td>0.000000</td>\n",
              "      <td>0.000000</td>\n",
              "      <td>0.000000</td>\n",
              "      <td>0.000000</td>\n",
              "      <td>0.000000</td>\n",
              "      <td>0.000000</td>\n",
              "      <td>0.000000</td>\n",
              "      <td>0.000000</td>\n",
              "      <td>0.000000</td>\n",
              "      <td>0.000000</td>\n",
              "      <td>0.000000</td>\n",
              "      <td>0.000000</td>\n",
              "      <td>0.0</td>\n",
              "      <td>0.0</td>\n",
              "      <td>0.0</td>\n",
              "      <td>0.0</td>\n",
              "      <td>0.000000</td>\n",
              "      <td>0.000000</td>\n",
              "      <td>0.0</td>\n",
              "      <td>0.0</td>\n",
              "      <td>0.0</td>\n",
              "      <td>...</td>\n",
              "      <td>0.000000</td>\n",
              "      <td>0.0</td>\n",
              "      <td>0.0</td>\n",
              "      <td>0.000000</td>\n",
              "      <td>0.000000</td>\n",
              "      <td>0.000000</td>\n",
              "      <td>0.000000</td>\n",
              "      <td>0.0</td>\n",
              "      <td>0.0</td>\n",
              "      <td>0.0</td>\n",
              "      <td>0.000000</td>\n",
              "      <td>0.000000</td>\n",
              "      <td>0.000000</td>\n",
              "      <td>0.0</td>\n",
              "      <td>0.0</td>\n",
              "      <td>0.000000</td>\n",
              "      <td>0.000000</td>\n",
              "      <td>0.000000</td>\n",
              "      <td>0.0</td>\n",
              "      <td>0.000000</td>\n",
              "      <td>0.0</td>\n",
              "      <td>0.0</td>\n",
              "      <td>0.000000</td>\n",
              "      <td>0.0</td>\n",
              "      <td>0.0</td>\n",
              "      <td>0.0</td>\n",
              "      <td>0.0</td>\n",
              "      <td>0.000000</td>\n",
              "      <td>0.0</td>\n",
              "      <td>0.0</td>\n",
              "      <td>0.000000</td>\n",
              "      <td>0.0</td>\n",
              "      <td>0.0</td>\n",
              "      <td>0.0</td>\n",
              "      <td>0.0</td>\n",
              "      <td>0.0</td>\n",
              "      <td>0.0</td>\n",
              "      <td>0.0</td>\n",
              "      <td>0.0</td>\n",
              "      <td>0.0</td>\n",
              "    </tr>\n",
              "    <tr>\n",
              "      <th>50%</th>\n",
              "      <td>1.000000</td>\n",
              "      <td>0.000000</td>\n",
              "      <td>1.0</td>\n",
              "      <td>1.0</td>\n",
              "      <td>0.000000</td>\n",
              "      <td>0.000000</td>\n",
              "      <td>0.0</td>\n",
              "      <td>0.000000</td>\n",
              "      <td>0.000000</td>\n",
              "      <td>0.000000</td>\n",
              "      <td>0.000000</td>\n",
              "      <td>0.000000</td>\n",
              "      <td>0.000000</td>\n",
              "      <td>0.0</td>\n",
              "      <td>0.000000</td>\n",
              "      <td>0.000000</td>\n",
              "      <td>0.0</td>\n",
              "      <td>0.000000</td>\n",
              "      <td>0.000000</td>\n",
              "      <td>0.000000</td>\n",
              "      <td>0.000000</td>\n",
              "      <td>0.000000</td>\n",
              "      <td>0.000000</td>\n",
              "      <td>0.000000</td>\n",
              "      <td>0.000000</td>\n",
              "      <td>0.000000</td>\n",
              "      <td>0.000000</td>\n",
              "      <td>0.000000</td>\n",
              "      <td>0.000000</td>\n",
              "      <td>0.000000</td>\n",
              "      <td>0.000000</td>\n",
              "      <td>0.0</td>\n",
              "      <td>0.0</td>\n",
              "      <td>0.0</td>\n",
              "      <td>0.0</td>\n",
              "      <td>0.000000</td>\n",
              "      <td>0.000000</td>\n",
              "      <td>0.0</td>\n",
              "      <td>0.0</td>\n",
              "      <td>0.0</td>\n",
              "      <td>...</td>\n",
              "      <td>0.000000</td>\n",
              "      <td>0.0</td>\n",
              "      <td>0.0</td>\n",
              "      <td>0.000000</td>\n",
              "      <td>0.000000</td>\n",
              "      <td>0.000000</td>\n",
              "      <td>0.000000</td>\n",
              "      <td>0.0</td>\n",
              "      <td>0.0</td>\n",
              "      <td>0.0</td>\n",
              "      <td>0.000000</td>\n",
              "      <td>0.000000</td>\n",
              "      <td>0.000000</td>\n",
              "      <td>0.0</td>\n",
              "      <td>0.0</td>\n",
              "      <td>0.000000</td>\n",
              "      <td>0.000000</td>\n",
              "      <td>0.000000</td>\n",
              "      <td>0.0</td>\n",
              "      <td>0.000000</td>\n",
              "      <td>0.0</td>\n",
              "      <td>0.0</td>\n",
              "      <td>0.000000</td>\n",
              "      <td>0.0</td>\n",
              "      <td>0.0</td>\n",
              "      <td>0.0</td>\n",
              "      <td>0.0</td>\n",
              "      <td>0.000000</td>\n",
              "      <td>0.0</td>\n",
              "      <td>0.0</td>\n",
              "      <td>0.000000</td>\n",
              "      <td>0.0</td>\n",
              "      <td>0.0</td>\n",
              "      <td>0.0</td>\n",
              "      <td>0.0</td>\n",
              "      <td>0.0</td>\n",
              "      <td>0.0</td>\n",
              "      <td>0.0</td>\n",
              "      <td>0.0</td>\n",
              "      <td>0.0</td>\n",
              "    </tr>\n",
              "    <tr>\n",
              "      <th>75%</th>\n",
              "      <td>1.000000</td>\n",
              "      <td>0.000000</td>\n",
              "      <td>1.0</td>\n",
              "      <td>1.0</td>\n",
              "      <td>0.000000</td>\n",
              "      <td>0.000000</td>\n",
              "      <td>0.0</td>\n",
              "      <td>0.000000</td>\n",
              "      <td>0.000000</td>\n",
              "      <td>0.000000</td>\n",
              "      <td>0.000000</td>\n",
              "      <td>0.000000</td>\n",
              "      <td>0.000000</td>\n",
              "      <td>0.0</td>\n",
              "      <td>0.000000</td>\n",
              "      <td>0.000000</td>\n",
              "      <td>0.0</td>\n",
              "      <td>0.000000</td>\n",
              "      <td>0.000000</td>\n",
              "      <td>0.000000</td>\n",
              "      <td>0.000000</td>\n",
              "      <td>0.000000</td>\n",
              "      <td>0.000000</td>\n",
              "      <td>0.000000</td>\n",
              "      <td>0.000000</td>\n",
              "      <td>0.000000</td>\n",
              "      <td>0.000000</td>\n",
              "      <td>0.000000</td>\n",
              "      <td>0.000000</td>\n",
              "      <td>0.000000</td>\n",
              "      <td>0.000000</td>\n",
              "      <td>0.0</td>\n",
              "      <td>0.0</td>\n",
              "      <td>0.0</td>\n",
              "      <td>0.0</td>\n",
              "      <td>0.000000</td>\n",
              "      <td>0.000000</td>\n",
              "      <td>0.0</td>\n",
              "      <td>0.0</td>\n",
              "      <td>0.0</td>\n",
              "      <td>...</td>\n",
              "      <td>0.000000</td>\n",
              "      <td>0.0</td>\n",
              "      <td>0.0</td>\n",
              "      <td>0.000000</td>\n",
              "      <td>0.000000</td>\n",
              "      <td>0.000000</td>\n",
              "      <td>0.000000</td>\n",
              "      <td>0.0</td>\n",
              "      <td>0.0</td>\n",
              "      <td>0.0</td>\n",
              "      <td>0.000000</td>\n",
              "      <td>0.000000</td>\n",
              "      <td>0.000000</td>\n",
              "      <td>0.0</td>\n",
              "      <td>0.0</td>\n",
              "      <td>0.000000</td>\n",
              "      <td>0.000000</td>\n",
              "      <td>0.000000</td>\n",
              "      <td>0.0</td>\n",
              "      <td>0.000000</td>\n",
              "      <td>0.0</td>\n",
              "      <td>0.0</td>\n",
              "      <td>0.000000</td>\n",
              "      <td>0.0</td>\n",
              "      <td>0.0</td>\n",
              "      <td>0.0</td>\n",
              "      <td>0.0</td>\n",
              "      <td>0.000000</td>\n",
              "      <td>0.0</td>\n",
              "      <td>0.0</td>\n",
              "      <td>0.000000</td>\n",
              "      <td>0.0</td>\n",
              "      <td>0.0</td>\n",
              "      <td>0.0</td>\n",
              "      <td>0.0</td>\n",
              "      <td>0.0</td>\n",
              "      <td>0.0</td>\n",
              "      <td>0.0</td>\n",
              "      <td>0.0</td>\n",
              "      <td>0.0</td>\n",
              "    </tr>\n",
              "    <tr>\n",
              "      <th>max</th>\n",
              "      <td>1.000000</td>\n",
              "      <td>1.000000</td>\n",
              "      <td>1.0</td>\n",
              "      <td>1.0</td>\n",
              "      <td>1.000000</td>\n",
              "      <td>1.000000</td>\n",
              "      <td>0.0</td>\n",
              "      <td>1.000000</td>\n",
              "      <td>1.000000</td>\n",
              "      <td>1.000000</td>\n",
              "      <td>1.000000</td>\n",
              "      <td>1.000000</td>\n",
              "      <td>1.000000</td>\n",
              "      <td>0.0</td>\n",
              "      <td>1.000000</td>\n",
              "      <td>1.000000</td>\n",
              "      <td>0.0</td>\n",
              "      <td>1.000000</td>\n",
              "      <td>1.000000</td>\n",
              "      <td>1.000000</td>\n",
              "      <td>1.000000</td>\n",
              "      <td>1.000000</td>\n",
              "      <td>1.000000</td>\n",
              "      <td>1.000000</td>\n",
              "      <td>1.000000</td>\n",
              "      <td>1.000000</td>\n",
              "      <td>1.000000</td>\n",
              "      <td>1.000000</td>\n",
              "      <td>1.000000</td>\n",
              "      <td>1.000000</td>\n",
              "      <td>1.000000</td>\n",
              "      <td>0.0</td>\n",
              "      <td>0.0</td>\n",
              "      <td>0.0</td>\n",
              "      <td>0.0</td>\n",
              "      <td>1.000000</td>\n",
              "      <td>1.000000</td>\n",
              "      <td>0.0</td>\n",
              "      <td>0.0</td>\n",
              "      <td>0.0</td>\n",
              "      <td>...</td>\n",
              "      <td>1.000000</td>\n",
              "      <td>0.0</td>\n",
              "      <td>0.0</td>\n",
              "      <td>1.000000</td>\n",
              "      <td>1.000000</td>\n",
              "      <td>1.000000</td>\n",
              "      <td>1.000000</td>\n",
              "      <td>0.0</td>\n",
              "      <td>0.0</td>\n",
              "      <td>0.0</td>\n",
              "      <td>1.000000</td>\n",
              "      <td>1.000000</td>\n",
              "      <td>1.000000</td>\n",
              "      <td>0.0</td>\n",
              "      <td>0.0</td>\n",
              "      <td>1.000000</td>\n",
              "      <td>1.000000</td>\n",
              "      <td>1.000000</td>\n",
              "      <td>0.0</td>\n",
              "      <td>1.000000</td>\n",
              "      <td>0.0</td>\n",
              "      <td>0.0</td>\n",
              "      <td>1.000000</td>\n",
              "      <td>0.0</td>\n",
              "      <td>0.0</td>\n",
              "      <td>0.0</td>\n",
              "      <td>0.0</td>\n",
              "      <td>1.000000</td>\n",
              "      <td>0.0</td>\n",
              "      <td>0.0</td>\n",
              "      <td>1.000000</td>\n",
              "      <td>0.0</td>\n",
              "      <td>0.0</td>\n",
              "      <td>0.0</td>\n",
              "      <td>0.0</td>\n",
              "      <td>0.0</td>\n",
              "      <td>0.0</td>\n",
              "      <td>0.0</td>\n",
              "      <td>0.0</td>\n",
              "      <td>0.0</td>\n",
              "    </tr>\n",
              "  </tbody>\n",
              "</table>\n",
              "<p>8 rows × 16368 columns</p>\n",
              "</div>"
            ],
            "text/plain": [
              "             0            100     101     102    ...   30239   30251   30257   30263\n",
              "count  2599.000000  2599.000000  2599.0  2599.0  ...  2599.0  2599.0  2599.0  2599.0\n",
              "mean      0.850327     0.000770     1.0     1.0  ...     0.0     0.0     0.0     0.0\n",
              "std       0.356819     0.027735     0.0     0.0  ...     0.0     0.0     0.0     0.0\n",
              "min       0.000000     0.000000     1.0     1.0  ...     0.0     0.0     0.0     0.0\n",
              "25%       1.000000     0.000000     1.0     1.0  ...     0.0     0.0     0.0     0.0\n",
              "50%       1.000000     0.000000     1.0     1.0  ...     0.0     0.0     0.0     0.0\n",
              "75%       1.000000     0.000000     1.0     1.0  ...     0.0     0.0     0.0     0.0\n",
              "max       1.000000     1.000000     1.0     1.0  ...     0.0     0.0     0.0     0.0\n",
              "\n",
              "[8 rows x 16368 columns]"
            ]
          },
          "metadata": {
            "tags": []
          },
          "execution_count": 89
        }
      ]
    },
    {
      "cell_type": "code",
      "metadata": {
        "id": "4j1sJlajlvO0"
      },
      "source": [
        "x_train.to_pickle('/content/drive/MyDrive/Yelp/binary_train_rf')"
      ],
      "execution_count": null,
      "outputs": []
    },
    {
      "cell_type": "code",
      "metadata": {
        "id": "cvdrdkf9zOnG"
      },
      "source": [
        "x_test.to_pickle('/content/drive/MyDrive/Yelp/binary_test_rf')"
      ],
      "execution_count": null,
      "outputs": []
    },
    {
      "cell_type": "markdown",
      "metadata": {
        "id": "eI5j1xakhTR7"
      },
      "source": [
        "## Training"
      ]
    },
    {
      "cell_type": "code",
      "metadata": {
        "id": "SZExabHhjJGX"
      },
      "source": [
        "x_train = pd.read_pickle('/content/drive/MyDrive/Yelp/binary_train_rf')\r\n",
        "x_test = pd.read_pickle('/content/drive/MyDrive/Yelp/binary_test_rf')"
      ],
      "execution_count": null,
      "outputs": []
    },
    {
      "cell_type": "code",
      "metadata": {
        "id": "bfXPRujV7Dbu"
      },
      "source": [
        "# SPLITTING THE DATASET INTO TRAINING SET AND TESTING SET\n",
        "# SAME RANDOM STATE AS IN BERT....\n",
        "#x_train,x_test,y_train,y_test = train_test_split(df1,test_labels,test_size=0.2,random_state=42)"
      ],
      "execution_count": null,
      "outputs": []
    },
    {
      "cell_type": "code",
      "metadata": {
        "id": "VhpWR2w3kPyZ"
      },
      "source": [
        "y_train = bert_train_pred.copy()\n",
        "y_test = bert_test_pred.copy()"
      ],
      "execution_count": null,
      "outputs": []
    },
    {
      "cell_type": "code",
      "metadata": {
        "colab": {
          "base_uri": "https://localhost:8080/"
        },
        "id": "Ndc8kvNTDhXt",
        "outputId": "e6f0484c-8e32-4955-a9e3-550ea59c40ec"
      },
      "source": [
        "len(y_train)"
      ],
      "execution_count": null,
      "outputs": [
        {
          "output_type": "execute_result",
          "data": {
            "text/plain": [
              "10394"
            ]
          },
          "metadata": {
            "tags": []
          },
          "execution_count": 9
        }
      ]
    },
    {
      "cell_type": "code",
      "metadata": {
        "colab": {
          "base_uri": "https://localhost:8080/"
        },
        "id": "oSZS_jUI6x1K",
        "outputId": "f24b8928-3db5-44ba-8bf7-acc46c140ffe"
      },
      "source": [
        "%%time\n",
        "# Random Forest\n",
        "from sklearn.ensemble import RandomForestClassifier\n",
        "#rmfr = RandomForestClassifier(random_state=42)"
      ],
      "execution_count": null,
      "outputs": [
        {
          "output_type": "stream",
          "text": [
            "CPU times: user 57.2 ms, sys: 12.3 ms, total: 69.5 ms\n",
            "Wall time: 247 ms\n"
          ],
          "name": "stdout"
        }
      ]
    },
    {
      "cell_type": "markdown",
      "metadata": {
        "id": "vOCs26iej32X"
      },
      "source": [
        "### first attempt of random forest with n_estimators=300, min_samples_leaf=3"
      ]
    },
    {
      "cell_type": "code",
      "metadata": {
        "colab": {
          "base_uri": "https://localhost:8080/"
        },
        "id": "G6N8uRh1P_VL",
        "outputId": "3bfb8800-e1ef-46c9-ea6f-c35949c2ea22"
      },
      "source": [
        "%%time\n",
        "rmfr2 = RandomForestClassifier(n_estimators=300, min_samples_leaf=3, random_state=42)\n",
        "rmfr2.fit(x_train,y_train)"
      ],
      "execution_count": null,
      "outputs": [
        {
          "output_type": "stream",
          "text": [
            "CPU times: user 1min 18s, sys: 18.1 ms, total: 1min 18s\n",
            "Wall time: 1min 18s\n"
          ],
          "name": "stdout"
        }
      ]
    },
    {
      "cell_type": "code",
      "metadata": {
        "colab": {
          "base_uri": "https://localhost:8080/"
        },
        "id": "Fpky8vzvRJ7C",
        "outputId": "3ac38867-29ce-4e61-de2d-8c928a49182f"
      },
      "source": [
        "%%time\n",
        "predrmfr2 = rmfr2.predict(x_test)"
      ],
      "execution_count": null,
      "outputs": [
        {
          "output_type": "stream",
          "text": [
            "CPU times: user 570 ms, sys: 14 ms, total: 584 ms\n",
            "Wall time: 589 ms\n"
          ],
          "name": "stdout"
        }
      ]
    },
    {
      "cell_type": "code",
      "metadata": {
        "colab": {
          "base_uri": "https://localhost:8080/"
        },
        "id": "euW3P3geQdVe",
        "outputId": "e046ec9d-c48a-4f89-a423-aa145ac4bdbe"
      },
      "source": [
        "%%time\n",
        "print(\"Confusion Matrix for Random Forest Classifier:\")\n",
        "print(confusion_matrix(y_test,predrmfr2))\n",
        "print(\"Score:\",round(accuracy_score(y_test,predrmfr2)*100,2))\n",
        "print(\"Classification Report:\")\n",
        "print(classification_report(y_test,predrmfr2))"
      ],
      "execution_count": null,
      "outputs": [
        {
          "output_type": "stream",
          "text": [
            "Confusion Matrix for Random Forest Classifier:\n",
            "[[1160  121]\n",
            " [ 151 1167]]\n",
            "Score: 89.53\n",
            "Classification Report:\n",
            "              precision    recall  f1-score   support\n",
            "\n",
            "           0       0.88      0.91      0.90      1281\n",
            "           1       0.91      0.89      0.90      1318\n",
            "\n",
            "    accuracy                           0.90      2599\n",
            "   macro avg       0.90      0.90      0.90      2599\n",
            "weighted avg       0.90      0.90      0.90      2599\n",
            "\n",
            "CPU times: user 18.2 ms, sys: 0 ns, total: 18.2 ms\n",
            "Wall time: 29.7 ms\n"
          ],
          "name": "stdout"
        }
      ]
    },
    {
      "cell_type": "code",
      "metadata": {
        "colab": {
          "base_uri": "https://localhost:8080/"
        },
        "id": "gmY0ZUBlVZCS",
        "outputId": "cd451ef8-a366-4b95-c3d1-8dac78492b77"
      },
      "source": [
        "import joblib\n",
        "# save\n",
        "joblib.dump(rmfr2, \"/content/drive/MyDrive/Yelp/model_99/rf_est300_leaf3.joblib\", compress=3)\n",
        "\n",
        "# load, no need to initialize the loaded_rf\n",
        "#loaded_rf = joblib.load(\"/content/drive/MyDrive/Yelp/model_99/rf_est300_leaf3.joblib\")"
      ],
      "execution_count": null,
      "outputs": [
        {
          "output_type": "execute_result",
          "data": {
            "text/plain": [
              "['/content/drive/MyDrive/Yelp/model_99/rf_est300_leaf3.joblib']"
            ]
          },
          "metadata": {
            "tags": []
          },
          "execution_count": 124
        }
      ]
    },
    {
      "cell_type": "markdown",
      "metadata": {
        "id": "ICLUa6PDB1VV"
      },
      "source": [
        "## Grid search aprox time 4 hrs"
      ]
    },
    {
      "cell_type": "code",
      "metadata": {
        "id": "pzeVsHtWk99P"
      },
      "source": [
        "param_grid = {'min_samples_leaf': [2, 3, 4, 5, 6, 7, 8, 9, 10], 'n_estimators': [200, 300, 1000] }\n",
        "# The parameter grid to explore, as a dictionary mapping estimator parameters to sequences of allowed values."
      ],
      "execution_count": null,
      "outputs": []
    },
    {
      "cell_type": "code",
      "metadata": {
        "id": "5AfzUeX04Hfg"
      },
      "source": [
        "#make a graph were the test and train accuracy are closer to each other, if they cross or are very close "
      ],
      "execution_count": null,
      "outputs": []
    },
    {
      "cell_type": "code",
      "metadata": {
        "id": "t8mD-ZGXkwXM"
      },
      "source": [
        "rmfr = RandomForestClassifier(random_state=42)\n",
        "grid_search = GridSearchCV(estimator = rmfr, param_grid = param_grid, cv = 10)\n",
        "# Exhaustive search over specified parameter values for an estimator.\n",
        "# The parameters of the estimator used to apply these methods are optimized by cross-validated grid-search over a parameter grid."
      ],
      "execution_count": null,
      "outputs": []
    },
    {
      "cell_type": "code",
      "metadata": {
        "id": "qHcB5u0Q9h72",
        "colab": {
          "base_uri": "https://localhost:8080/"
        },
        "outputId": "9806372b-8f92-4515-f8e9-9bbc406cb765"
      },
      "source": [
        "%%time\n",
        "grid_search.fit(x_train, y_train) # Run fit with all sets of parameters.\n",
        "#rmfr.fit(x_train,y_train)"
      ],
      "execution_count": null,
      "outputs": [
        {
          "output_type": "stream",
          "text": [
            "CPU times: user 4h 6min 9s, sys: 7.75 s, total: 4h 6min 17s\n",
            "Wall time: 4h 6min 58s\n"
          ],
          "name": "stdout"
        },
        {
          "output_type": "execute_result",
          "data": {
            "text/plain": [
              "GridSearchCV(cv=10, error_score=nan,\n",
              "             estimator=RandomForestClassifier(bootstrap=True, ccp_alpha=0.0,\n",
              "                                              class_weight=None,\n",
              "                                              criterion='gini', max_depth=None,\n",
              "                                              max_features='auto',\n",
              "                                              max_leaf_nodes=None,\n",
              "                                              max_samples=None,\n",
              "                                              min_impurity_decrease=0.0,\n",
              "                                              min_impurity_split=None,\n",
              "                                              min_samples_leaf=1,\n",
              "                                              min_samples_split=2,\n",
              "                                              min_weight_fraction_leaf=0.0,\n",
              "                                              n_estimators=100, n_jobs=None,\n",
              "                                              oob_score=False, random_state=42,\n",
              "                                              verbose=0, warm_start=False),\n",
              "             iid='deprecated', n_jobs=None,\n",
              "             param_grid={'min_samples_leaf': [1, 3, 4, 5],\n",
              "                         'n_estimators': [200, 300, 1000]},\n",
              "             pre_dispatch='2*n_jobs', refit=True, return_train_score=False,\n",
              "             scoring=None, verbose=0)"
            ]
          },
          "metadata": {
            "tags": []
          },
          "execution_count": 13
        }
      ]
    },
    {
      "cell_type": "code",
      "metadata": {
        "colab": {
          "base_uri": "https://localhost:8080/"
        },
        "id": "-0TPPm2qlB1u",
        "outputId": "fccb25b4-fd5b-417e-8c75-d7f80e812479"
      },
      "source": [
        "best_model = grid_search.best_params_  # Parameter setting that gave the best results on the hold out data.\n",
        "print(best_model)"
      ],
      "execution_count": null,
      "outputs": [
        {
          "output_type": "stream",
          "text": [
            "{'min_samples_leaf': 1, 'n_estimators': 1000}\n"
          ],
          "name": "stdout"
        }
      ]
    },
    {
      "cell_type": "code",
      "metadata": {
        "id": "G4OaVA9ZlWdh"
      },
      "source": [
        "random_f = grid_search.best_estimator_ "
      ],
      "execution_count": null,
      "outputs": []
    },
    {
      "cell_type": "code",
      "metadata": {
        "colab": {
          "base_uri": "https://localhost:8080/"
        },
        "id": "6qojKHlBp3OQ",
        "outputId": "2e97abec-5d4f-4e04-f5ae-9a1768ed00e7"
      },
      "source": [
        "grid_search.best_score_ "
      ],
      "execution_count": null,
      "outputs": [
        {
          "output_type": "execute_result",
          "data": {
            "text/plain": [
              "0.8932072258828757"
            ]
          },
          "metadata": {
            "tags": []
          },
          "execution_count": 16
        }
      ]
    },
    {
      "cell_type": "code",
      "metadata": {
        "colab": {
          "base_uri": "https://localhost:8080/"
        },
        "id": "fZ8Rue9F7dqy",
        "outputId": "8bf11e73-dcfb-4101-a84a-adb6e1b563d7"
      },
      "source": [
        "import joblib\r\n",
        "# save\r\n",
        "joblib.dump(random_f, \"/content/drive/MyDrive/Yelp/model_99/rf_est1000_leaf1.joblib\", compress=3)"
      ],
      "execution_count": null,
      "outputs": [
        {
          "output_type": "execute_result",
          "data": {
            "text/plain": [
              "['/content/drive/MyDrive/Yelp/model_99/rf_est1000_leaf1.joblib']"
            ]
          },
          "metadata": {
            "tags": []
          },
          "execution_count": 17
        }
      ]
    },
    {
      "cell_type": "code",
      "metadata": {
        "colab": {
          "base_uri": "https://localhost:8080/"
        },
        "id": "_TWaji99-SE7",
        "outputId": "77083426-084e-43bf-e053-21cdaefc2c8a"
      },
      "source": [
        "%%time\n",
        "predrmfr = random_f.predict(x_test)\n",
        "print(\"Confusion Matrix for Random Forest Classifier:\")\n",
        "print(confusion_matrix(y_test,predrmfr))\n",
        "print(\"Score:\",round(accuracy_score(y_test,predrmfr)*100,2))\n",
        "print(\"Classification Report:\")\n",
        "print(classification_report(y_test,predrmfr))"
      ],
      "execution_count": null,
      "outputs": [
        {
          "output_type": "stream",
          "text": [
            "Confusion Matrix for Random Forest Classifier:\n",
            "[[1166  115]\n",
            " [ 148 1170]]\n",
            "Score: 89.88\n",
            "Classification Report:\n",
            "              precision    recall  f1-score   support\n",
            "\n",
            "           0       0.89      0.91      0.90      1281\n",
            "           1       0.91      0.89      0.90      1318\n",
            "\n",
            "    accuracy                           0.90      2599\n",
            "   macro avg       0.90      0.90      0.90      2599\n",
            "weighted avg       0.90      0.90      0.90      2599\n",
            "\n",
            "CPU times: user 3.09 s, sys: 3 ms, total: 3.09 s\n",
            "Wall time: 3.1 s\n"
          ],
          "name": "stdout"
        }
      ]
    },
    {
      "cell_type": "markdown",
      "metadata": {
        "id": "OHM0iayCSiD4"
      },
      "source": [
        "## Analizing feature importance"
      ]
    },
    {
      "cell_type": "code",
      "metadata": {
        "id": "0vPxqFFJKu6K"
      },
      "source": [
        "# Converting unique_ids into words:\n",
        "%%time\n",
        "feature_names_test = [list(tokenizer.vocab.keys())[id] for id in unique_ids]"
      ],
      "execution_count": null,
      "outputs": []
    },
    {
      "cell_type": "code",
      "metadata": {
        "id": "iG3el2lq_DHw"
      },
      "source": [
        "importance = rmfr2.feature_importances_"
      ],
      "execution_count": null,
      "outputs": []
    },
    {
      "cell_type": "code",
      "metadata": {
        "id": "cD7L8G3zryEf"
      },
      "source": [
        "feature_importance = pd.DataFrame({'keys': feature_names_test, 'imp': importance})"
      ],
      "execution_count": null,
      "outputs": []
    },
    {
      "cell_type": "code",
      "metadata": {
        "colab": {
          "base_uri": "https://localhost:8080/",
          "height": 204
        },
        "id": "Y2wFec3WsUtN",
        "outputId": "b98d4a59-9804-4334-8b45-983e7414c2e5"
      },
      "source": [
        "feature_importance.head()"
      ],
      "execution_count": null,
      "outputs": [
        {
          "output_type": "execute_result",
          "data": {
            "text/html": [
              "<div>\n",
              "<style scoped>\n",
              "    .dataframe tbody tr th:only-of-type {\n",
              "        vertical-align: middle;\n",
              "    }\n",
              "\n",
              "    .dataframe tbody tr th {\n",
              "        vertical-align: top;\n",
              "    }\n",
              "\n",
              "    .dataframe thead th {\n",
              "        text-align: right;\n",
              "    }\n",
              "</style>\n",
              "<table border=\"1\" class=\"dataframe\">\n",
              "  <thead>\n",
              "    <tr style=\"text-align: right;\">\n",
              "      <th></th>\n",
              "      <th>keys</th>\n",
              "      <th>imp</th>\n",
              "    </tr>\n",
              "  </thead>\n",
              "  <tbody>\n",
              "    <tr>\n",
              "      <th>0</th>\n",
              "      <td>[PAD]</td>\n",
              "      <td>0.002289</td>\n",
              "    </tr>\n",
              "    <tr>\n",
              "      <th>1</th>\n",
              "      <td>[UNK]</td>\n",
              "      <td>0.000010</td>\n",
              "    </tr>\n",
              "    <tr>\n",
              "      <th>2</th>\n",
              "      <td>[CLS]</td>\n",
              "      <td>0.000000</td>\n",
              "    </tr>\n",
              "    <tr>\n",
              "      <th>3</th>\n",
              "      <td>[SEP]</td>\n",
              "      <td>0.000000</td>\n",
              "    </tr>\n",
              "    <tr>\n",
              "      <th>4</th>\n",
              "      <td>a</td>\n",
              "      <td>0.000045</td>\n",
              "    </tr>\n",
              "  </tbody>\n",
              "</table>\n",
              "</div>"
            ],
            "text/plain": [
              "    keys       imp\n",
              "0  [PAD]  0.002289\n",
              "1  [UNK]  0.000010\n",
              "2  [CLS]  0.000000\n",
              "3  [SEP]  0.000000\n",
              "4      a  0.000045"
            ]
          },
          "metadata": {
            "tags": []
          },
          "execution_count": 111
        }
      ]
    },
    {
      "cell_type": "code",
      "metadata": {
        "id": "wtDdXz6ftEwX",
        "colab": {
          "base_uri": "https://localhost:8080/"
        },
        "outputId": "83f7ad47-7bcb-4a9f-c0db-e1de210a3b26"
      },
      "source": [
        "# newest one, random_state=42\n",
        "top10 = list(feature_importance.sort_values(by=['imp'], ascending=False)['keys'][:10])\n",
        "top10"
      ],
      "execution_count": null,
      "outputs": [
        {
          "output_type": "execute_result",
          "data": {
            "text/plain": [
              "['great',\n",
              " 'amazing',\n",
              " 'delicious',\n",
              " 'worst',\n",
              " 'love',\n",
              " 'asked',\n",
              " 'horrible',\n",
              " 'friendly',\n",
              " 'told',\n",
              " 'best']"
            ]
          },
          "metadata": {
            "tags": []
          },
          "execution_count": 112
        }
      ]
    },
    {
      "cell_type": "code",
      "metadata": {
        "colab": {
          "base_uri": "https://localhost:8080/"
        },
        "id": "lFu_i6dvDFoU",
        "outputId": "60166197-e4f2-404b-8690-940163eb3648"
      },
      "source": [
        "print(\"Test  Accuracy : %.2f\"%rmfr2.score(x_test, y_test))\n",
        "print(\"Train Accuracy : %.2f\"%rmfr2.score(x_train, y_train))"
      ],
      "execution_count": null,
      "outputs": [
        {
          "output_type": "stream",
          "text": [
            "Test  Accuracy : 0.90\n",
            "Train Accuracy : 0.95\n"
          ],
          "name": "stdout"
        }
      ]
    },
    {
      "cell_type": "code",
      "metadata": {
        "colab": {
          "base_uri": "https://localhost:8080/"
        },
        "id": "Ktpv3b0k-1p6",
        "outputId": "cdd5385d-faa9-4316-db0f-6db70def40de"
      },
      "source": [
        "!pip install treeinterpreter\n",
        "#https://pypi.org/project/treeinterpreter/"
      ],
      "execution_count": null,
      "outputs": [
        {
          "output_type": "stream",
          "text": [
            "Collecting treeinterpreter\n",
            "  Downloading https://files.pythonhosted.org/packages/af/19/fa8556093f6b8c7374825118e05cf5a99c71262392382c3642ab1fd8a742/treeinterpreter-0.2.3-py2.py3-none-any.whl\n",
            "Installing collected packages: treeinterpreter\n",
            "Successfully installed treeinterpreter-0.2.3\n"
          ],
          "name": "stdout"
        }
      ]
    },
    {
      "cell_type": "code",
      "metadata": {
        "id": "CbmgATCnAxwT"
      },
      "source": [
        "from treeinterpreter import treeinterpreter as ti"
      ],
      "execution_count": null,
      "outputs": []
    },
    {
      "cell_type": "code",
      "metadata": {
        "id": "_Ym9xmJWDF-7",
        "colab": {
          "base_uri": "https://localhost:8080/"
        },
        "outputId": "be5ae77a-b18d-4432-e0ee-b692ff1ba936"
      },
      "source": [
        "%%time\n",
        "preds, bias, contributions = ti.predict(rmfr2, x_test)"
      ],
      "execution_count": null,
      "outputs": [
        {
          "output_type": "stream",
          "text": [
            "CPU times: user 4min 1s, sys: 5.1 s, total: 4min 6s\n",
            "Wall time: 4min 6s\n"
          ],
          "name": "stdout"
        }
      ]
    },
    {
      "cell_type": "code",
      "metadata": {
        "colab": {
          "base_uri": "https://localhost:8080/"
        },
        "id": "U1rf4lqgTG-R",
        "outputId": "975fb79b-db71-4ff7-9f78-4f91c5240d4d"
      },
      "source": [
        "preds.shape, bias.shape, contributions.shape"
      ],
      "execution_count": null,
      "outputs": [
        {
          "output_type": "execute_result",
          "data": {
            "text/plain": [
              "((2599, 2), (2599, 2), (2599, 16368, 2))"
            ]
          },
          "metadata": {
            "tags": []
          },
          "execution_count": 118
        }
      ]
    },
    {
      "cell_type": "code",
      "metadata": {
        "colab": {
          "base_uri": "https://localhost:8080/"
        },
        "id": "iG8YAeAQxRqx",
        "outputId": "61d2d43b-ef6a-4680-d91c-8578c1353b0e"
      },
      "source": [
        "y_test[0]"
      ],
      "execution_count": null,
      "outputs": [
        {
          "output_type": "execute_result",
          "data": {
            "text/plain": [
              "0"
            ]
          },
          "metadata": {
            "tags": []
          },
          "execution_count": 119
        }
      ]
    },
    {
      "cell_type": "code",
      "metadata": {
        "colab": {
          "base_uri": "https://localhost:8080/"
        },
        "id": "Fa_M494yVnjs",
        "outputId": "415a6877-76fe-4b34-f39e-dda71302741c"
      },
      "source": [
        "# from http://blog.datadive.net/random-forest-interpretation-with-scikit-learn/\n",
        "top20 = list(feature_importance.sort_values(by=['imp'], ascending=False)['keys'][:20])\n",
        "print(\"Prediction\", preds[0])\n",
        "print(np.argmax(preds[0], axis=0).flatten())\n",
        "print(\"Bias (trainset prior)\", bias[0])\n",
        "print('')\n",
        "print(\"Feature contributions:\")\n",
        "for c, feature in zip(contributions[0], top20):\n",
        "  #word = list(tokenizer.vocab.keys())[feature]\n",
        "  print(feature, c)"
      ],
      "execution_count": null,
      "outputs": [
        {
          "output_type": "stream",
          "text": [
            "Prediction [0.51573443 0.48426557]\n",
            "[0]\n",
            "Bias (trainset prior) [0.49902989 0.50097011]\n",
            "\n",
            "Feature contributions:\n",
            "great [-0.00218083  0.00218083]\n",
            "amazing [0. 0.]\n",
            "delicious [0. 0.]\n",
            "worst [0. 0.]\n",
            "love [-1.67814874e-05  1.67814874e-05]\n",
            "asked [ 0.00265121 -0.00265121]\n",
            "horrible [0. 0.]\n",
            "friendly [-7.04680712e-06  7.04680712e-06]\n",
            "told [0. 0.]\n",
            "best [ 9.97701573e-06 -9.97701573e-06]\n",
            "rude [0. 0.]\n",
            "said [0. 0.]\n",
            "minutes [0. 0.]\n",
            "excellent [0. 0.]\n",
            "terrible [ 1.30336735e-05 -1.30336735e-05]\n",
            "awesome [0. 0.]\n",
            "definitely [0. 0.]\n",
            "poor [0. 0.]\n",
            "bland [0. 0.]\n",
            "bad [0. 0.]\n"
          ],
          "name": "stdout"
        }
      ]
    },
    {
      "cell_type": "code",
      "metadata": {
        "colab": {
          "base_uri": "https://localhost:8080/"
        },
        "id": "NI7uVDg7wFbA",
        "outputId": "8255aa45-7e4c-4aed-8386-770d43c0ec55"
      },
      "source": [
        "test_df.text[0]"
      ],
      "execution_count": null,
      "outputs": [
        {
          "output_type": "execute_result",
          "data": {
            "application/vnd.google.colaboratory.intrinsic+json": {
              "type": "string"
            },
            "text/plain": [
              "'positives good location staff reasonably friendly negatives dry manis pedis advertise website update site base coat coat blobbed attention coat cover color nail nails filed totally random lenths shapes shorter end fingers longer pedi woman wasn paying attention ended filing skin bled cute tea menu offer definitely expensive getting answer phone pedi station isn comfortable slightly padded bench notes staff looks surprised sure come ask work'"
            ]
          },
          "metadata": {
            "tags": []
          },
          "execution_count": 122
        }
      ]
    },
    {
      "cell_type": "code",
      "metadata": {
        "colab": {
          "base_uri": "https://localhost:8080/"
        },
        "id": "DPGnPS02T2Vb",
        "outputId": "13e10aa5-370a-4bd4-8d0a-1ab204dbd357"
      },
      "source": [
        "test_df.columns"
      ],
      "execution_count": null,
      "outputs": [
        {
          "output_type": "execute_result",
          "data": {
            "text/plain": [
              "Index(['text', 'label', 'categories'], dtype='object')"
            ]
          },
          "metadata": {
            "tags": []
          },
          "execution_count": 123
        }
      ]
    },
    {
      "cell_type": "code",
      "metadata": {
        "colab": {
          "base_uri": "https://localhost:8080/"
        },
        "id": "nIxxemO5x4KT",
        "outputId": "56586de5-bc44-4fe9-9213-0c6ab9c797e0"
      },
      "source": [
        "test_df.label[0]"
      ],
      "execution_count": null,
      "outputs": [
        {
          "output_type": "execute_result",
          "data": {
            "text/plain": [
              "1"
            ]
          },
          "metadata": {
            "tags": []
          },
          "execution_count": 64
        }
      ]
    },
    {
      "cell_type": "code",
      "metadata": {
        "colab": {
          "base_uri": "https://localhost:8080/"
        },
        "id": "okjmIidoTT7E",
        "outputId": "882483f3-f7f8-462f-cc37-9210f9849d2a"
      },
      "source": [
        "print(\"Bias For Sample 0                        : %s\"%bias[0])\n",
        "print(\"Constributions For Sample 0              : %s\"%contributions[0])\n",
        "print(\"Prediction Based on Bias & Contributions : %s\"%(bias[0] + contributions[0].sum()))\n",
        "print(\"Actual Target Value                      : %s\"%y_test[0])\n",
        "print(\"Target Value As Per Treeinterpreter      : %s\"%preds[0][0])"
      ],
      "execution_count": null,
      "outputs": [
        {
          "output_type": "stream",
          "text": [
            "Bias For Sample 0                        : [0.50452564 0.49547436]\n",
            "Constributions For Sample 0              : [[ 0.00000000e+00  0.00000000e+00]\n",
            " [ 0.00000000e+00  0.00000000e+00]\n",
            " [ 4.13365671e-06 -4.13365671e-06]\n",
            " ...\n",
            " [ 0.00000000e+00  0.00000000e+00]\n",
            " [ 0.00000000e+00  0.00000000e+00]\n",
            " [ 0.00000000e+00  0.00000000e+00]]\n",
            "Prediction Based on Bias & Contributions : [0.50452564 0.49547436]\n",
            "Actual Target Value                      : 1\n",
            "Target Value As Per Treeinterpreter      : 0.4116563342349329\n"
          ],
          "name": "stdout"
        }
      ]
    },
    {
      "cell_type": "code",
      "metadata": {
        "id": "0hGlRj74E8-_"
      },
      "source": [
        "def create_contrbutions_df(contributions, random_sample, feature_names):\n",
        "    contribs = contributions[random_sample].tolist()\n",
        "    contribs.insert(0, bias[random_sample])\n",
        "    contribs = np.array(contribs)\n",
        "    contrib_df = pd.DataFrame(data=contribs, index=[\"Base\"] + feature_names, columns=[\"Contributions_0\", \"Contributions_1\"])\n",
        "    prediction = contrib_df[[\"Contributions_0\", \"Contributions_1\"]].sum()\n",
        "    contrib_df.loc[\"Prediction\"] = prediction\n",
        "    return contrib_df"
      ],
      "execution_count": null,
      "outputs": []
    },
    {
      "cell_type": "code",
      "metadata": {
        "id": "HnW8Gd8zDgqD",
        "colab": {
          "base_uri": "https://localhost:8080/"
        },
        "outputId": "dfd63844-8e5f-4d37-8c92-dd7218e308b7"
      },
      "source": [
        "import random\n",
        "random_sample = random.randint(1, len(x_test))\n",
        "print(\"Selected Sample     : %d\"%random_sample)\n",
        "print(\"Actual Target Value : %s\"%y_test[random_sample])\n",
        "print(\"Predicted Value     : %s\"%np.argmax(preds[random_sample]))"
      ],
      "execution_count": null,
      "outputs": [
        {
          "output_type": "stream",
          "text": [
            "Selected Sample     : 73\n",
            "Actual Target Value : 0\n",
            "Predicted Value     : 1\n"
          ],
          "name": "stdout"
        }
      ]
    },
    {
      "cell_type": "code",
      "metadata": {
        "colab": {
          "base_uri": "https://localhost:8080/"
        },
        "id": "1Cdh-ebfwtLN",
        "outputId": "e7cd13f0-c373-4d80-85d8-45aed8e1419a"
      },
      "source": [
        "print(\"Prediction\", preds[73])"
      ],
      "execution_count": null,
      "outputs": [
        {
          "output_type": "stream",
          "text": [
            "Prediction [0.35911367 0.64088633]\n"
          ],
          "name": "stdout"
        }
      ]
    },
    {
      "cell_type": "code",
      "metadata": {
        "colab": {
          "base_uri": "https://localhost:8080/"
        },
        "id": "mq6gW7v8wisB",
        "outputId": "f9ff6854-c679-4822-db09-61c60902acbf"
      },
      "source": [
        "# 0 negative, 1 positive\n",
        "for c, feature in zip(contributions[73], top20):\n",
        "  #word = list(tokenizer.vocab.keys())[feature]\n",
        "  print(feature, c)"
      ],
      "execution_count": null,
      "outputs": [
        {
          "output_type": "stream",
          "text": [
            "great [0. 0.]\n",
            "not [0. 0.]\n",
            "delicious [ 1.66684837e-07 -1.66684837e-07]\n",
            "worst [-0.000156  0.000156]\n",
            "no [-0.0044492  0.0044492]\n",
            "to [-0.0034821  0.0034821]\n",
            "excellent [-2.60448061e-05  2.60448061e-05]\n",
            "then [ 0.00065689 -0.00065689]\n",
            "horrible [-0.00024421  0.00024421]\n",
            "was [-0.00241072  0.00241072]\n",
            "good [-0.01901613  0.01901613]\n",
            "when [-0.00904529  0.00904529]\n",
            "asked [-0.00430954  0.00430954]\n",
            "ordered [-0.0040156  0.0040156]\n",
            "t [ 0.00080385 -0.00080385]\n",
            "order [-0.00598097  0.00598097]\n",
            "don [-0.0004334  0.0004334]\n",
            "after [ 0.00104962 -0.00104962]\n",
            "love [ 0.00656338 -0.00656338]\n",
            "friendly [-0.00126679  0.00126679]\n"
          ],
          "name": "stdout"
        }
      ]
    },
    {
      "cell_type": "code",
      "metadata": {
        "colab": {
          "base_uri": "https://localhost:8080/",
          "height": 419
        },
        "id": "fA2IZv0EKVt_",
        "outputId": "4e22c1ce-0e86-4709-a355-7fd47f47ace5"
      },
      "source": [
        "# from: https://coderzcolumn.com/tutorials/machine-learning/treeinterpreter-interpreting-tree-based-models-prediction-of-individual-sample\n",
        "contrib_df = create_contrbutions_df(contributions, random_sample, feature_names_test)\n",
        "contrib_df\n"
      ],
      "execution_count": null,
      "outputs": [
        {
          "output_type": "execute_result",
          "data": {
            "text/html": [
              "<div>\n",
              "<style scoped>\n",
              "    .dataframe tbody tr th:only-of-type {\n",
              "        vertical-align: middle;\n",
              "    }\n",
              "\n",
              "    .dataframe tbody tr th {\n",
              "        vertical-align: top;\n",
              "    }\n",
              "\n",
              "    .dataframe thead th {\n",
              "        text-align: right;\n",
              "    }\n",
              "</style>\n",
              "<table border=\"1\" class=\"dataframe\">\n",
              "  <thead>\n",
              "    <tr style=\"text-align: right;\">\n",
              "      <th></th>\n",
              "      <th>Contributions_0</th>\n",
              "      <th>Contributions_1</th>\n",
              "    </tr>\n",
              "  </thead>\n",
              "  <tbody>\n",
              "    <tr>\n",
              "      <th>Base</th>\n",
              "      <td>5.045256e-01</td>\n",
              "      <td>4.954744e-01</td>\n",
              "    </tr>\n",
              "    <tr>\n",
              "      <th>[CLS]</th>\n",
              "      <td>0.000000e+00</td>\n",
              "      <td>0.000000e+00</td>\n",
              "    </tr>\n",
              "    <tr>\n",
              "      <th>[SEP]</th>\n",
              "      <td>0.000000e+00</td>\n",
              "      <td>0.000000e+00</td>\n",
              "    </tr>\n",
              "    <tr>\n",
              "      <th>a</th>\n",
              "      <td>1.666848e-07</td>\n",
              "      <td>-1.666848e-07</td>\n",
              "    </tr>\n",
              "    <tr>\n",
              "      <th>d</th>\n",
              "      <td>-1.559995e-04</td>\n",
              "      <td>1.559995e-04</td>\n",
              "    </tr>\n",
              "    <tr>\n",
              "      <th>...</th>\n",
              "      <td>...</td>\n",
              "      <td>...</td>\n",
              "    </tr>\n",
              "    <tr>\n",
              "      <th>int</th>\n",
              "      <td>0.000000e+00</td>\n",
              "      <td>0.000000e+00</td>\n",
              "    </tr>\n",
              "    <tr>\n",
              "      <th>indifferent</th>\n",
              "      <td>0.000000e+00</td>\n",
              "      <td>0.000000e+00</td>\n",
              "    </tr>\n",
              "    <tr>\n",
              "      <th>amplified</th>\n",
              "      <td>0.000000e+00</td>\n",
              "      <td>0.000000e+00</td>\n",
              "    </tr>\n",
              "    <tr>\n",
              "      <th>vowed</th>\n",
              "      <td>0.000000e+00</td>\n",
              "      <td>0.000000e+00</td>\n",
              "    </tr>\n",
              "    <tr>\n",
              "      <th>Prediction</th>\n",
              "      <td>3.591137e-01</td>\n",
              "      <td>6.408863e-01</td>\n",
              "    </tr>\n",
              "  </tbody>\n",
              "</table>\n",
              "<p>5582 rows × 2 columns</p>\n",
              "</div>"
            ],
            "text/plain": [
              "             Contributions_0  Contributions_1\n",
              "Base            5.045256e-01     4.954744e-01\n",
              "[CLS]           0.000000e+00     0.000000e+00\n",
              "[SEP]           0.000000e+00     0.000000e+00\n",
              "a               1.666848e-07    -1.666848e-07\n",
              "d              -1.559995e-04     1.559995e-04\n",
              "...                      ...              ...\n",
              "int             0.000000e+00     0.000000e+00\n",
              "indifferent     0.000000e+00     0.000000e+00\n",
              "amplified       0.000000e+00     0.000000e+00\n",
              "vowed           0.000000e+00     0.000000e+00\n",
              "Prediction      3.591137e-01     6.408863e-01\n",
              "\n",
              "[5582 rows x 2 columns]"
            ]
          },
          "metadata": {
            "tags": []
          },
          "execution_count": 45
        }
      ]
    },
    {
      "cell_type": "code",
      "metadata": {
        "colab": {
          "base_uri": "https://localhost:8080/",
          "height": 669
        },
        "id": "ROPcatzOY1Xr",
        "outputId": "82932c09-7f5c-46bf-fe5a-4c8f12b4b31e"
      },
      "source": [
        "contrib_df.sort_values(by=['Contributions_0'], ascending=False)[:20]"
      ],
      "execution_count": null,
      "outputs": [
        {
          "output_type": "execute_result",
          "data": {
            "text/html": [
              "<div>\n",
              "<style scoped>\n",
              "    .dataframe tbody tr th:only-of-type {\n",
              "        vertical-align: middle;\n",
              "    }\n",
              "\n",
              "    .dataframe tbody tr th {\n",
              "        vertical-align: top;\n",
              "    }\n",
              "\n",
              "    .dataframe thead th {\n",
              "        text-align: right;\n",
              "    }\n",
              "</style>\n",
              "<table border=\"1\" class=\"dataframe\">\n",
              "  <thead>\n",
              "    <tr style=\"text-align: right;\">\n",
              "      <th></th>\n",
              "      <th>Contributions_0</th>\n",
              "      <th>Contributions_1</th>\n",
              "    </tr>\n",
              "  </thead>\n",
              "  <tbody>\n",
              "    <tr>\n",
              "      <th>Base</th>\n",
              "      <td>0.504526</td>\n",
              "      <td>0.495474</td>\n",
              "    </tr>\n",
              "    <tr>\n",
              "      <th>Prediction</th>\n",
              "      <td>0.359114</td>\n",
              "      <td>0.640886</td>\n",
              "    </tr>\n",
              "    <tr>\n",
              "      <th>got</th>\n",
              "      <td>0.014659</td>\n",
              "      <td>-0.014659</td>\n",
              "    </tr>\n",
              "    <tr>\n",
              "      <th>great</th>\n",
              "      <td>0.014593</td>\n",
              "      <td>-0.014593</td>\n",
              "    </tr>\n",
              "    <tr>\n",
              "      <th>under</th>\n",
              "      <td>0.011655</td>\n",
              "      <td>-0.011655</td>\n",
              "    </tr>\n",
              "    <tr>\n",
              "      <th>how</th>\n",
              "      <td>0.011444</td>\n",
              "      <td>-0.011444</td>\n",
              "    </tr>\n",
              "    <tr>\n",
              "      <th>things</th>\n",
              "      <td>0.009973</td>\n",
              "      <td>-0.009973</td>\n",
              "    </tr>\n",
              "    <tr>\n",
              "      <th>only</th>\n",
              "      <td>0.007946</td>\n",
              "      <td>-0.007946</td>\n",
              "    </tr>\n",
              "    <tr>\n",
              "      <th>##s</th>\n",
              "      <td>0.006563</td>\n",
              "      <td>-0.006563</td>\n",
              "    </tr>\n",
              "    <tr>\n",
              "      <th>##co</th>\n",
              "      <td>0.005638</td>\n",
              "      <td>-0.005638</td>\n",
              "    </tr>\n",
              "    <tr>\n",
              "      <th>delicious</th>\n",
              "      <td>0.004660</td>\n",
              "      <td>-0.004660</td>\n",
              "    </tr>\n",
              "    <tr>\n",
              "      <th>that</th>\n",
              "      <td>0.004387</td>\n",
              "      <td>-0.004387</td>\n",
              "    </tr>\n",
              "    <tr>\n",
              "      <th>bartender</th>\n",
              "      <td>0.003609</td>\n",
              "      <td>-0.003609</td>\n",
              "    </tr>\n",
              "    <tr>\n",
              "      <th>or</th>\n",
              "      <td>0.003034</td>\n",
              "      <td>-0.003034</td>\n",
              "    </tr>\n",
              "    <tr>\n",
              "      <th>they</th>\n",
              "      <td>0.002994</td>\n",
              "      <td>-0.002994</td>\n",
              "    </tr>\n",
              "    <tr>\n",
              "      <th>staff</th>\n",
              "      <td>0.002942</td>\n",
              "      <td>-0.002942</td>\n",
              "    </tr>\n",
              "    <tr>\n",
              "      <th>love</th>\n",
              "      <td>0.002685</td>\n",
              "      <td>-0.002685</td>\n",
              "    </tr>\n",
              "    <tr>\n",
              "      <th>recommend</th>\n",
              "      <td>0.002378</td>\n",
              "      <td>-0.002378</td>\n",
              "    </tr>\n",
              "    <tr>\n",
              "      <th>excellent</th>\n",
              "      <td>0.002373</td>\n",
              "      <td>-0.002373</td>\n",
              "    </tr>\n",
              "    <tr>\n",
              "      <th>best</th>\n",
              "      <td>0.002313</td>\n",
              "      <td>-0.002313</td>\n",
              "    </tr>\n",
              "  </tbody>\n",
              "</table>\n",
              "</div>"
            ],
            "text/plain": [
              "            Contributions_0  Contributions_1\n",
              "Base               0.504526         0.495474\n",
              "Prediction         0.359114         0.640886\n",
              "got                0.014659        -0.014659\n",
              "great              0.014593        -0.014593\n",
              "under              0.011655        -0.011655\n",
              "how                0.011444        -0.011444\n",
              "things             0.009973        -0.009973\n",
              "only               0.007946        -0.007946\n",
              "##s                0.006563        -0.006563\n",
              "##co               0.005638        -0.005638\n",
              "delicious          0.004660        -0.004660\n",
              "that               0.004387        -0.004387\n",
              "bartender          0.003609        -0.003609\n",
              "or                 0.003034        -0.003034\n",
              "they               0.002994        -0.002994\n",
              "staff              0.002942        -0.002942\n",
              "love               0.002685        -0.002685\n",
              "recommend          0.002378        -0.002378\n",
              "excellent          0.002373        -0.002373\n",
              "best               0.002313        -0.002313"
            ]
          },
          "metadata": {
            "tags": []
          },
          "execution_count": 46
        }
      ]
    },
    {
      "cell_type": "code",
      "metadata": {
        "colab": {
          "base_uri": "https://localhost:8080/",
          "height": 120
        },
        "id": "VG1Ua651yBGH",
        "outputId": "90faba7a-78db-4db5-805b-5339f772ac03"
      },
      "source": [
        "test_df.text[73]"
      ],
      "execution_count": null,
      "outputs": [
        {
          "output_type": "execute_result",
          "data": {
            "application/vnd.google.colaboratory.intrinsic+json": {
              "type": "string"
            },
            "text/plain": [
              "'i walked out after being ignored a friend of mine said the place was good but he is indian apparently a single white female doesn t rate to even get a glass of water when i was seated the host informed me it was a vegetarian restaurant ohkay i said fine with me and i smiled he turned on his heel as if it was a huge imposition to seat me i looked over the menu and waited for quite some time i closed the menu thinking that might bring the waiter i was disappointed i walked out and went to passage to india where i enjoyed their weekend buffet if you are a large group you might get some service i have no ideal how the food is but if you want to eat someone does have to serve you first i recommend going to any of the other dozen indian restaurants in the area instead '"
            ]
          },
          "metadata": {
            "tags": []
          },
          "execution_count": 65
        }
      ]
    },
    {
      "cell_type": "code",
      "metadata": {
        "colab": {
          "base_uri": "https://localhost:8080/"
        },
        "id": "6NCMtFEFyE6T",
        "outputId": "01fd9e26-ceb0-496a-deb8-8ead386538d3"
      },
      "source": [
        "test_df.label[73]"
      ],
      "execution_count": null,
      "outputs": [
        {
          "output_type": "execute_result",
          "data": {
            "text/plain": [
              "0"
            ]
          },
          "metadata": {
            "tags": []
          },
          "execution_count": 66
        }
      ]
    },
    {
      "cell_type": "code",
      "metadata": {
        "id": "_iiCZbEVyHDB"
      },
      "source": [
        "test_df.summa"
      ],
      "execution_count": null,
      "outputs": []
    }
  ]
}