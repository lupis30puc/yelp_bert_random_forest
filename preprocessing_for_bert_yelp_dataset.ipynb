{
  "nbformat": 4,
  "nbformat_minor": 0,
  "metadata": {
    "kernelspec": {
      "display_name": "Python 3",
      "language": "python",
      "name": "python3"
    },
    "language_info": {
      "codemirror_mode": {
        "name": "ipython",
        "version": 3
      },
      "file_extension": ".py",
      "mimetype": "text/x-python",
      "name": "python",
      "nbconvert_exporter": "python",
      "pygments_lexer": "ipython3",
      "version": "3.7.6"
    },
    "papermill": {
      "duration": 41.410024,
      "end_time": "2021-01-22T11:55:16.015306",
      "environment_variables": {},
      "exception": null,
      "input_path": "__notebook__.ipynb",
      "output_path": "__notebook__.ipynb",
      "parameters": {},
      "start_time": "2021-01-22T11:54:34.605282",
      "version": "2.1.0"
    },
    "colab": {
      "name": "preprocessing-for-bert-yelp-dataset.ipynb",
      "provenance": [],
      "collapsed_sections": [
        "5H57DsPpYibQ",
        "7ov5QcAcYZ6K",
        "Kqph4kddYZ6Z"
      ],
      "include_colab_link": true
    }
  },
  "cells": [
    {
      "cell_type": "markdown",
      "metadata": {
        "id": "view-in-github",
        "colab_type": "text"
      },
      "source": [
        "<a href=\"https://colab.research.google.com/github/lupis30puc/yelp_bert_random_forest/blob/main/preprocessing_for_bert_yelp_dataset.ipynb\" target=\"_parent\"><img src=\"https://colab.research.google.com/assets/colab-badge.svg\" alt=\"Open In Colab\"/></a>"
      ]
    },
    {
      "cell_type": "markdown",
      "metadata": {
        "papermill": {
          "duration": 0.038874,
          "end_time": "2021-01-22T11:54:41.442233",
          "exception": false,
          "start_time": "2021-01-22T11:54:41.403359",
          "status": "completed"
        },
        "tags": [],
        "id": "Qu5TShkBYZ59"
      },
      "source": [
        "On this notebook I obtain a sample of 12k reviews from the original Yelp dataset. \n",
        "\n",
        "For analysis purposes I simplify the starts rating into two labels: 0 = negative and 1 = positive. \n",
        "The sample dataset contains the review text, the label and the reviews' business categories.\n",
        "\n",
        "I divide this sample dataset on a train, test and validation set.\n",
        "\n",
        "And at the end I do a quick EDA to all datasets.\n",
        "\n",
        "This are the noteboooks I take as reference to process the Yelp dataset: [Sentiment analysis with Yelp and BERT](https://signal.onepointltd.com/post/102gc83/sentiment-analysis-with-yelp-and-bert), [Gil Mendez's repository](https://github.com/onepointconsulting/yelp_bert/blob/master/preprocess_data.ipynb), [Sentiment Analysis on Yelp reviews](https://github.com/Sonull/Sentiment-Analysis-on-Yelp-Reviews/blob/master/RF_and_SVM1.ipynb)\n",
        "\n"
      ]
    },
    {
      "cell_type": "markdown",
      "metadata": {
        "id": "5H57DsPpYibQ"
      },
      "source": [
        "# Connecting with Kaggle for the dataset"
      ]
    },
    {
      "cell_type": "code",
      "metadata": {
        "colab": {
          "base_uri": "https://localhost:8080/",
          "height": 232
        },
        "id": "Wog58Sf7YnsR",
        "outputId": "1a3bfac3-0ef3-44c0-aefa-9933f965e88e"
      },
      "source": [
        "import json\n",
        "\n",
        "with open('kaggle.json', 'r') as myfile:\n",
        "    data=myfile.read()\n",
        "\n",
        "# parse file\n",
        "obj = json.loads(data)\n",
        "\n",
        "# show values\n",
        "print(\"username: \" + str(obj['username']))\n",
        "print(\"key: \" + str(obj['key']))\n"
      ],
      "execution_count": null,
      "outputs": [
        {
          "output_type": "error",
          "ename": "FileNotFoundError",
          "evalue": "ignored",
          "traceback": [
            "\u001b[0;31m---------------------------------------------------------------------------\u001b[0m",
            "\u001b[0;31mFileNotFoundError\u001b[0m                         Traceback (most recent call last)",
            "\u001b[0;32m<ipython-input-1-a0c2ab917761>\u001b[0m in \u001b[0;36m<module>\u001b[0;34m()\u001b[0m\n\u001b[1;32m      1\u001b[0m \u001b[0;32mimport\u001b[0m \u001b[0mjson\u001b[0m\u001b[0;34m\u001b[0m\u001b[0;34m\u001b[0m\u001b[0m\n\u001b[1;32m      2\u001b[0m \u001b[0;34m\u001b[0m\u001b[0m\n\u001b[0;32m----> 3\u001b[0;31m \u001b[0;32mwith\u001b[0m \u001b[0mopen\u001b[0m\u001b[0;34m(\u001b[0m\u001b[0;34m'kaggle.json'\u001b[0m\u001b[0;34m,\u001b[0m \u001b[0;34m'r'\u001b[0m\u001b[0;34m)\u001b[0m \u001b[0;32mas\u001b[0m \u001b[0mmyfile\u001b[0m\u001b[0;34m:\u001b[0m\u001b[0;34m\u001b[0m\u001b[0;34m\u001b[0m\u001b[0m\n\u001b[0m\u001b[1;32m      4\u001b[0m     \u001b[0mdata\u001b[0m\u001b[0;34m=\u001b[0m\u001b[0mmyfile\u001b[0m\u001b[0;34m.\u001b[0m\u001b[0mread\u001b[0m\u001b[0;34m(\u001b[0m\u001b[0;34m)\u001b[0m\u001b[0;34m\u001b[0m\u001b[0;34m\u001b[0m\u001b[0m\n\u001b[1;32m      5\u001b[0m \u001b[0;34m\u001b[0m\u001b[0m\n",
            "\u001b[0;31mFileNotFoundError\u001b[0m: [Errno 2] No such file or directory: 'kaggle.json'"
          ]
        }
      ]
    },
    {
      "cell_type": "code",
      "metadata": {
        "colab": {
          "base_uri": "https://localhost:8080/"
        },
        "id": "eBBKgjQWZr2s",
        "outputId": "0da7e720-fc86-47a9-d109-a44791c5a6f8"
      },
      "source": [
        "obj"
      ],
      "execution_count": null,
      "outputs": [
        {
          "output_type": "execute_result",
          "data": {
            "text/plain": [
              "{'key': '59d8152009b75546f66c636d8b551bee', 'username': 'angelapuc'}"
            ]
          },
          "metadata": {
            "tags": []
          },
          "execution_count": 3
        }
      ]
    },
    {
      "cell_type": "code",
      "metadata": {
        "colab": {
          "base_uri": "https://localhost:8080/"
        },
        "id": "Gz6U5QvQZmz3",
        "outputId": "e3866330-5a3c-4006-c222-347546d4b936"
      },
      "source": [
        "!mkdir ~/.kaggle #create the .kaggle folder in your root directory\n",
        "!echo '{\"username\": \"angelapuc\", \"key\": \"59d8152009b75546f66c636d8b551bee\"}' > ~/.kaggle/kaggle.json #write kaggle API credentials to kaggle.json\n",
        "!chmod 600 ~/.kaggle/kaggle.json  # set permissions\n",
        "!pip install kaggle #install the kaggle library\n"
      ],
      "execution_count": null,
      "outputs": [
        {
          "output_type": "stream",
          "text": [
            "Requirement already satisfied: kaggle in /usr/local/lib/python3.6/dist-packages (1.5.10)\n",
            "Requirement already satisfied: requests in /usr/local/lib/python3.6/dist-packages (from kaggle) (2.23.0)\n",
            "Requirement already satisfied: six>=1.10 in /usr/local/lib/python3.6/dist-packages (from kaggle) (1.15.0)\n",
            "Requirement already satisfied: tqdm in /usr/local/lib/python3.6/dist-packages (from kaggle) (4.41.1)\n",
            "Requirement already satisfied: python-dateutil in /usr/local/lib/python3.6/dist-packages (from kaggle) (2.8.1)\n",
            "Requirement already satisfied: urllib3 in /usr/local/lib/python3.6/dist-packages (from kaggle) (1.24.3)\n",
            "Requirement already satisfied: certifi in /usr/local/lib/python3.6/dist-packages (from kaggle) (2020.12.5)\n",
            "Requirement already satisfied: python-slugify in /usr/local/lib/python3.6/dist-packages (from kaggle) (4.0.1)\n",
            "Requirement already satisfied: idna<3,>=2.5 in /usr/local/lib/python3.6/dist-packages (from requests->kaggle) (2.10)\n",
            "Requirement already satisfied: chardet<4,>=3.0.2 in /usr/local/lib/python3.6/dist-packages (from requests->kaggle) (3.0.4)\n",
            "Requirement already satisfied: text-unidecode>=1.3 in /usr/local/lib/python3.6/dist-packages (from python-slugify->kaggle) (1.3)\n"
          ],
          "name": "stdout"
        }
      ]
    },
    {
      "cell_type": "code",
      "metadata": {
        "colab": {
          "base_uri": "https://localhost:8080/"
        },
        "id": "3d48W7ltaWYv",
        "outputId": "7ec37ec5-b43d-4f50-cafb-0ca36222d321"
      },
      "source": [
        "!kaggle datasets download -d {'yelp-dataset/yelp-dataset'} -p /content/kaggle/"
      ],
      "execution_count": null,
      "outputs": [
        {
          "output_type": "stream",
          "text": [
            "Downloading yelp-dataset.zip to /content/kaggle\n",
            "100% 4.47G/4.48G [01:09<00:00, 41.3MB/s]\n",
            "100% 4.48G/4.48G [01:09<00:00, 69.6MB/s]\n"
          ],
          "name": "stdout"
        }
      ]
    },
    {
      "cell_type": "code",
      "metadata": {
        "colab": {
          "base_uri": "https://localhost:8080/"
        },
        "id": "q7krzrHYb93h",
        "outputId": "c03e836f-d9f4-4e4d-e146-e3337835b77d"
      },
      "source": [
        "!apt install unzip"
      ],
      "execution_count": null,
      "outputs": [
        {
          "output_type": "stream",
          "text": [
            "Reading package lists... Done\n",
            "Building dependency tree       \n",
            "Reading state information... Done\n",
            "unzip is already the newest version (6.0-21ubuntu1.1).\n",
            "0 upgraded, 0 newly installed, 0 to remove and 13 not upgraded.\n",
            "unzip:  cannot find or open /kaggle/yelp-dataset.zip, /kaggle/yelp-dataset.zip.zip or /kaggle/yelp-dataset.zip.ZIP.\n"
          ],
          "name": "stdout"
        }
      ]
    },
    {
      "cell_type": "code",
      "metadata": {
        "colab": {
          "base_uri": "https://localhost:8080/"
        },
        "id": "TOTmHsiIcalA",
        "outputId": "ffe2edc3-17de-4cac-d6ed-8cf9d13d8a3e"
      },
      "source": [
        "!unzip  /content/kaggle/yelp-dataset.zip -d /content/kaggle/yelp-dataset"
      ],
      "execution_count": null,
      "outputs": [
        {
          "output_type": "stream",
          "text": [
            "Archive:  /content/kaggle/yelp-dataset.zip\n",
            "  inflating: /content/kaggle/yelp-dataset/Dataset_Agreement.pdf  \n",
            "  inflating: /content/kaggle/yelp-dataset/yelp_academic_dataset_business.json  \n",
            "  inflating: /content/kaggle/yelp-dataset/yelp_academic_dataset_checkin.json  \n",
            "  inflating: /content/kaggle/yelp-dataset/yelp_academic_dataset_review.json  \n",
            "  inflating: /content/kaggle/yelp-dataset/yelp_academic_dataset_tip.json  \n",
            "  inflating: /content/kaggle/yelp-dataset/yelp_academic_dataset_user.json  \n"
          ],
          "name": "stdout"
        }
      ]
    },
    {
      "cell_type": "markdown",
      "metadata": {
        "id": "N4838oV_Yn-v"
      },
      "source": [
        "# Starting preprocessing the dataset"
      ]
    },
    {
      "cell_type": "code",
      "metadata": {
        "_cell_guid": "b1076dfc-b9ad-4769-8c92-a6c4dae69d19",
        "_uuid": "8f2839f25d086af736a60e9eeb907d3b93b6e0e5",
        "execution": {
          "iopub.execute_input": "2021-01-22T11:54:41.520396Z",
          "iopub.status.busy": "2021-01-22T11:54:41.519486Z",
          "iopub.status.idle": "2021-01-22T11:54:43.262922Z",
          "shell.execute_reply": "2021-01-22T11:54:43.261670Z"
        },
        "papermill": {
          "duration": 1.78403,
          "end_time": "2021-01-22T11:54:43.263156",
          "exception": false,
          "start_time": "2021-01-22T11:54:41.479126",
          "status": "completed"
        },
        "tags": [],
        "id": "CbSTkkrVYZ6H"
      },
      "source": [
        "import numpy as np # linear algebra\n",
        "import pandas as pd # data processing, CSV file I/O (e.g. pd.read_csv)\n",
        "import seaborn as sns\n",
        "from collections import Counter\n",
        "import re\n",
        "from sklearn.model_selection import train_test_split"
      ],
      "execution_count": null,
      "outputs": []
    },
    {
      "cell_type": "markdown",
      "metadata": {
        "papermill": {
          "duration": 0.056388,
          "end_time": "2021-01-22T11:54:43.376381",
          "exception": false,
          "start_time": "2021-01-22T11:54:43.319993",
          "status": "completed"
        },
        "tags": [],
        "id": "7ov5QcAcYZ6K"
      },
      "source": [
        "## Obtaining a sample of the reviews"
      ]
    },
    {
      "cell_type": "code",
      "metadata": {
        "_cell_guid": "79c7e3d0-c299-4dcb-8224-4455121ee9b0",
        "_uuid": "d629ff2d2480ee46fbb7e2d37f6b5fab8052498a",
        "execution": {
          "iopub.execute_input": "2021-01-22T11:54:43.494326Z",
          "iopub.status.busy": "2021-01-22T11:54:43.493348Z",
          "iopub.status.idle": "2021-01-22T11:54:43.496038Z",
          "shell.execute_reply": "2021-01-22T11:54:43.495213Z"
        },
        "papermill": {
          "duration": 0.063776,
          "end_time": "2021-01-22T11:54:43.496171",
          "exception": false,
          "start_time": "2021-01-22T11:54:43.432395",
          "status": "completed"
        },
        "tags": [],
        "id": "HCP5c383YZ6L"
      },
      "source": [
        "review_file = '/content/kaggle/yelp-dataset/yelp_academic_dataset_review.json'"
      ],
      "execution_count": null,
      "outputs": []
    },
    {
      "cell_type": "code",
      "metadata": {
        "execution": {
          "iopub.execute_input": "2021-01-22T11:54:43.622263Z",
          "iopub.status.busy": "2021-01-22T11:54:43.621364Z",
          "iopub.status.idle": "2021-01-22T11:54:44.861548Z",
          "shell.execute_reply": "2021-01-22T11:54:44.862268Z"
        },
        "papermill": {
          "duration": 1.309748,
          "end_time": "2021-01-22T11:54:44.862452",
          "exception": false,
          "start_time": "2021-01-22T11:54:43.552704",
          "status": "completed"
        },
        "tags": [],
        "id": "8RtQhJijYZ6M"
      },
      "source": [
        "sample_size = 40000 # I reduced the size of sample considerably\n",
        "simplified_reviews = './yelp_reviews_simple_{sample_size}.json'\n",
        "\n",
        "def extract_simplified(source, target, lines=1000):\n",
        "    with open(target, 'w') as sr:\n",
        "        cnt = 0;\n",
        "        with open(source) as file:\n",
        "            line = file.readline()\n",
        "            while line:\n",
        "                cnt += 1\n",
        "                if cnt == lines:\n",
        "                    break\n",
        "                if cnt % 100_000 == 0:\n",
        "                    print(f'Processed {cnt}')\n",
        "                try:\n",
        "                    line = file.readline().strip()\n",
        "                    review_dict = json.loads(line)\n",
        "                    simplified = {'text':  review_dict['text'], 'stars': review_dict['stars'], 'business_id': review_dict['business_id']}\n",
        "                    simplified_text = json.dumps(simplified)\n",
        "                    sr.write(f'{simplified_text}\\n')\n",
        "                except:\n",
        "                    print(f'Could not parse {line}')\n",
        "                    \n",
        "extract_simplified(review_file, simplified_reviews, lines=sample_size)"
      ],
      "execution_count": null,
      "outputs": []
    },
    {
      "cell_type": "code",
      "metadata": {
        "execution": {
          "iopub.execute_input": "2021-01-22T11:54:44.988364Z",
          "iopub.status.busy": "2021-01-22T11:54:44.987302Z",
          "iopub.status.idle": "2021-01-22T11:54:46.318091Z",
          "shell.execute_reply": "2021-01-22T11:54:46.316966Z"
        },
        "papermill": {
          "duration": 1.396567,
          "end_time": "2021-01-22T11:54:46.318247",
          "exception": false,
          "start_time": "2021-01-22T11:54:44.921680",
          "status": "completed"
        },
        "tags": [],
        "colab": {
          "base_uri": "https://localhost:8080/"
        },
        "id": "TJWxW85sYZ6N",
        "outputId": "4d7f8703-8295-47ca-dc0f-746e846a32e3"
      },
      "source": [
        "simplified_reviews_pd = pd.read_json(simplified_reviews, lines=True)\n",
        "simplified_reviews_pd.info()"
      ],
      "execution_count": null,
      "outputs": [
        {
          "output_type": "stream",
          "text": [
            "<class 'pandas.core.frame.DataFrame'>\n",
            "RangeIndex: 39999 entries, 0 to 39998\n",
            "Data columns (total 3 columns):\n",
            " #   Column       Non-Null Count  Dtype \n",
            "---  ------       --------------  ----- \n",
            " 0   text         39999 non-null  object\n",
            " 1   stars        39999 non-null  int64 \n",
            " 2   business_id  39999 non-null  object\n",
            "dtypes: int64(1), object(2)\n",
            "memory usage: 937.6+ KB\n"
          ],
          "name": "stdout"
        }
      ]
    },
    {
      "cell_type": "code",
      "metadata": {
        "execution": {
          "iopub.execute_input": "2021-01-22T11:54:46.402796Z",
          "iopub.status.busy": "2021-01-22T11:54:46.402144Z",
          "iopub.status.idle": "2021-01-22T11:54:46.410293Z",
          "shell.execute_reply": "2021-01-22T11:54:46.409273Z"
        },
        "papermill": {
          "duration": 0.052881,
          "end_time": "2021-01-22T11:54:46.410419",
          "exception": false,
          "start_time": "2021-01-22T11:54:46.357538",
          "status": "completed"
        },
        "tags": [],
        "colab": {
          "base_uri": "https://localhost:8080/"
        },
        "id": "OXN7hTSSYZ6N",
        "outputId": "5e4c7099-027a-4425-88b3-c1d719814dd7"
      },
      "source": [
        "simplified_reviews_pd.shape"
      ],
      "execution_count": null,
      "outputs": [
        {
          "output_type": "execute_result",
          "data": {
            "text/plain": [
              "(39999, 3)"
            ]
          },
          "metadata": {
            "tags": []
          },
          "execution_count": 18
        }
      ]
    },
    {
      "cell_type": "code",
      "metadata": {
        "execution": {
          "iopub.execute_input": "2021-01-22T11:54:46.520098Z",
          "iopub.status.busy": "2021-01-22T11:54:46.519436Z",
          "iopub.status.idle": "2021-01-22T11:54:46.530347Z",
          "shell.execute_reply": "2021-01-22T11:54:46.530915Z"
        },
        "papermill": {
          "duration": 0.079888,
          "end_time": "2021-01-22T11:54:46.531070",
          "exception": false,
          "start_time": "2021-01-22T11:54:46.451182",
          "status": "completed"
        },
        "tags": [],
        "colab": {
          "base_uri": "https://localhost:8080/",
          "height": 204
        },
        "id": "URFl2agJYZ6O",
        "outputId": "01d45f91-a29d-495c-90d9-d4e6d83df583"
      },
      "source": [
        "simplified_reviews_pd.head()"
      ],
      "execution_count": null,
      "outputs": [
        {
          "output_type": "execute_result",
          "data": {
            "text/html": [
              "<div>\n",
              "<style scoped>\n",
              "    .dataframe tbody tr th:only-of-type {\n",
              "        vertical-align: middle;\n",
              "    }\n",
              "\n",
              "    .dataframe tbody tr th {\n",
              "        vertical-align: top;\n",
              "    }\n",
              "\n",
              "    .dataframe thead th {\n",
              "        text-align: right;\n",
              "    }\n",
              "</style>\n",
              "<table border=\"1\" class=\"dataframe\">\n",
              "  <thead>\n",
              "    <tr style=\"text-align: right;\">\n",
              "      <th></th>\n",
              "      <th>text</th>\n",
              "      <th>stars</th>\n",
              "      <th>business_id</th>\n",
              "    </tr>\n",
              "  </thead>\n",
              "  <tbody>\n",
              "    <tr>\n",
              "      <th>0</th>\n",
              "      <td>I am actually horrified this place is still in...</td>\n",
              "      <td>1</td>\n",
              "      <td>lbrU8StCq3yDfr-QMnGrmQ</td>\n",
              "    </tr>\n",
              "    <tr>\n",
              "      <th>1</th>\n",
              "      <td>I love Deagan's. I do. I really do. The atmosp...</td>\n",
              "      <td>5</td>\n",
              "      <td>HQl28KMwrEKHqhFrrDqVNQ</td>\n",
              "    </tr>\n",
              "    <tr>\n",
              "      <th>2</th>\n",
              "      <td>Dismal, lukewarm, defrosted-tasting \"TexMex\" g...</td>\n",
              "      <td>1</td>\n",
              "      <td>5JxlZaqCnk1MnbgRirs40Q</td>\n",
              "    </tr>\n",
              "    <tr>\n",
              "      <th>3</th>\n",
              "      <td>Oh happy day, finally have a Canes near my cas...</td>\n",
              "      <td>4</td>\n",
              "      <td>IS4cv902ykd8wj1TR0N3-A</td>\n",
              "    </tr>\n",
              "    <tr>\n",
              "      <th>4</th>\n",
              "      <td>This is definitely my favorite fast food sub s...</td>\n",
              "      <td>5</td>\n",
              "      <td>nlxHRv1zXGT0c0K51q3jDg</td>\n",
              "    </tr>\n",
              "  </tbody>\n",
              "</table>\n",
              "</div>"
            ],
            "text/plain": [
              "                                                text  ...             business_id\n",
              "0  I am actually horrified this place is still in...  ...  lbrU8StCq3yDfr-QMnGrmQ\n",
              "1  I love Deagan's. I do. I really do. The atmosp...  ...  HQl28KMwrEKHqhFrrDqVNQ\n",
              "2  Dismal, lukewarm, defrosted-tasting \"TexMex\" g...  ...  5JxlZaqCnk1MnbgRirs40Q\n",
              "3  Oh happy day, finally have a Canes near my cas...  ...  IS4cv902ykd8wj1TR0N3-A\n",
              "4  This is definitely my favorite fast food sub s...  ...  nlxHRv1zXGT0c0K51q3jDg\n",
              "\n",
              "[5 rows x 3 columns]"
            ]
          },
          "metadata": {
            "tags": []
          },
          "execution_count": 19
        }
      ]
    },
    {
      "cell_type": "markdown",
      "metadata": {
        "papermill": {
          "duration": 0.040691,
          "end_time": "2021-01-22T11:54:46.611983",
          "exception": false,
          "start_time": "2021-01-22T11:54:46.571292",
          "status": "completed"
        },
        "tags": [],
        "id": "mo37J-B6YZ6P"
      },
      "source": [
        "### Balancing the dataset and obtaining only 2 labels"
      ]
    },
    {
      "cell_type": "code",
      "metadata": {
        "execution": {
          "iopub.execute_input": "2021-01-22T11:54:46.698749Z",
          "iopub.status.busy": "2021-01-22T11:54:46.697576Z",
          "iopub.status.idle": "2021-01-22T11:54:46.709183Z",
          "shell.execute_reply": "2021-01-22T11:54:46.708461Z"
        },
        "papermill": {
          "duration": 0.056628,
          "end_time": "2021-01-22T11:54:46.709294",
          "exception": false,
          "start_time": "2021-01-22T11:54:46.652666",
          "status": "completed"
        },
        "tags": [],
        "colab": {
          "base_uri": "https://localhost:8080/"
        },
        "id": "CtjuJ7PXYZ6P",
        "outputId": "c8b8a50c-a86e-4f43-e229-d1f1ffdeda42"
      },
      "source": [
        "simplified_reviews_pd['stars'].value_counts()"
      ],
      "execution_count": null,
      "outputs": [
        {
          "output_type": "execute_result",
          "data": {
            "text/plain": [
              "5    17495\n",
              "4     9218\n",
              "1     5593\n",
              "3     4445\n",
              "2     3248\n",
              "Name: stars, dtype: int64"
            ]
          },
          "metadata": {
            "tags": []
          },
          "execution_count": 20
        }
      ]
    },
    {
      "cell_type": "code",
      "metadata": {
        "execution": {
          "iopub.execute_input": "2021-01-22T11:54:46.796585Z",
          "iopub.status.busy": "2021-01-22T11:54:46.795148Z",
          "iopub.status.idle": "2021-01-22T11:54:47.044259Z",
          "shell.execute_reply": "2021-01-22T11:54:47.043370Z"
        },
        "papermill": {
          "duration": 0.29445,
          "end_time": "2021-01-22T11:54:47.044376",
          "exception": false,
          "start_time": "2021-01-22T11:54:46.749926",
          "status": "completed"
        },
        "tags": [],
        "colab": {
          "base_uri": "https://localhost:8080/",
          "height": 350
        },
        "id": "kk1wL6_VYZ6Q",
        "outputId": "b0b73194-9769-4b74-8a59-da390793b6b9"
      },
      "source": [
        "sns.countplot(simplified_reviews_pd['stars'])"
      ],
      "execution_count": null,
      "outputs": [
        {
          "output_type": "stream",
          "text": [
            "/usr/local/lib/python3.6/dist-packages/seaborn/_decorators.py:43: FutureWarning: Pass the following variable as a keyword arg: x. From version 0.12, the only valid positional argument will be `data`, and passing other arguments without an explicit keyword will result in an error or misinterpretation.\n",
            "  FutureWarning\n"
          ],
          "name": "stderr"
        },
        {
          "output_type": "execute_result",
          "data": {
            "text/plain": [
              "<matplotlib.axes._subplots.AxesSubplot at 0x7f9df7f71780>"
            ]
          },
          "metadata": {
            "tags": []
          },
          "execution_count": 21
        },
        {
          "output_type": "display_data",
          "data": {
            "image/png": "[encoded data removed]",
            "text/plain": [
              "<Figure size 432x288 with 1 Axes>"
            ]
          },
          "metadata": {
            "tags": [],
            "needs_background": "light"
          }
        }
      ]
    },
    {
      "cell_type": "code",
      "metadata": {
        "execution": {
          "iopub.execute_input": "2021-01-22T11:54:47.148008Z",
          "iopub.status.busy": "2021-01-22T11:54:47.147169Z",
          "iopub.status.idle": "2021-01-22T11:54:47.153619Z",
          "shell.execute_reply": "2021-01-22T11:54:47.153057Z"
        },
        "papermill": {
          "duration": 0.067548,
          "end_time": "2021-01-22T11:54:47.153757",
          "exception": false,
          "start_time": "2021-01-22T11:54:47.086209",
          "status": "completed"
        },
        "tags": [],
        "id": "iwn0oSqmYZ6Q"
      },
      "source": [
        "# EXPLAIN\n",
        "counter_star = Counter(simplified_reviews_pd['stars'])"
      ],
      "execution_count": null,
      "outputs": []
    },
    {
      "cell_type": "code",
      "metadata": {
        "execution": {
          "iopub.execute_input": "2021-01-22T11:54:47.246834Z",
          "iopub.status.busy": "2021-01-22T11:54:47.245951Z",
          "iopub.status.idle": "2021-01-22T11:54:47.253279Z",
          "shell.execute_reply": "2021-01-22T11:54:47.252161Z"
        },
        "papermill": {
          "duration": 0.058014,
          "end_time": "2021-01-22T11:54:47.253508",
          "exception": false,
          "start_time": "2021-01-22T11:54:47.195494",
          "status": "completed"
        },
        "tags": [],
        "colab": {
          "base_uri": "https://localhost:8080/"
        },
        "id": "pCp8x0rBYZ6Q",
        "outputId": "4c4753bb-7494-4352-d3af-878a44b753b0"
      },
      "source": [
        "# EXPLAIN\n",
        "min_class = -1\n",
        "min_amount = 1000000000\n",
        "for cs in counter_star:\n",
        "    if min_amount > counter_star[cs]:\n",
        "        min_amount = counter_star[cs]\n",
        "        min_class = cs\n",
        "min_class, min_amount"
      ],
      "execution_count": null,
      "outputs": [
        {
          "output_type": "execute_result",
          "data": {
            "text/plain": [
              "(2, 3248)"
            ]
          },
          "metadata": {
            "tags": []
          },
          "execution_count": 23
        }
      ]
    },
    {
      "cell_type": "code",
      "metadata": {
        "execution": {
          "iopub.execute_input": "2021-01-22T11:54:47.346170Z",
          "iopub.status.busy": "2021-01-22T11:54:47.345402Z",
          "iopub.status.idle": "2021-01-22T11:54:47.351539Z",
          "shell.execute_reply": "2021-01-22T11:54:47.350990Z"
        },
        "papermill": {
          "duration": 0.055538,
          "end_time": "2021-01-22T11:54:47.351647",
          "exception": false,
          "start_time": "2021-01-22T11:54:47.296109",
          "status": "completed"
        },
        "tags": [],
        "colab": {
          "base_uri": "https://localhost:8080/"
        },
        "id": "b4-w67nUYZ6R",
        "outputId": "6c23666c-882d-4a57-9a4e-173b191790e1"
      },
      "source": [
        "remove_amounts = {c: abs(min_amount - counter_star[c]) for c in counter_star}\n",
        "remove_amounts"
      ],
      "execution_count": null,
      "outputs": [
        {
          "output_type": "execute_result",
          "data": {
            "text/plain": [
              "{1: 2345, 2: 0, 3: 1197, 4: 5970, 5: 14247}"
            ]
          },
          "metadata": {
            "tags": []
          },
          "execution_count": 24
        }
      ]
    },
    {
      "cell_type": "code",
      "metadata": {
        "execution": {
          "iopub.execute_input": "2021-01-22T11:54:47.443600Z",
          "iopub.status.busy": "2021-01-22T11:54:47.442844Z",
          "iopub.status.idle": "2021-01-22T11:54:47.449054Z",
          "shell.execute_reply": "2021-01-22T11:54:47.448428Z"
        },
        "papermill": {
          "duration": 0.054354,
          "end_time": "2021-01-22T11:54:47.449185",
          "exception": false,
          "start_time": "2021-01-22T11:54:47.394831",
          "status": "completed"
        },
        "tags": [],
        "colab": {
          "base_uri": "https://localhost:8080/"
        },
        "id": "O3VU_pEnYZ6R",
        "outputId": "28847deb-c23c-43aa-b055-60bb0ac9a009"
      },
      "source": [
        "remove_amounts[1] -= 1\n",
        "remove_amounts"
      ],
      "execution_count": null,
      "outputs": [
        {
          "output_type": "execute_result",
          "data": {
            "text/plain": [
              "{1: 2344, 2: 0, 3: 1197, 4: 5970, 5: 14247}"
            ]
          },
          "metadata": {
            "tags": []
          },
          "execution_count": 25
        }
      ]
    },
    {
      "cell_type": "code",
      "metadata": {
        "execution": {
          "iopub.execute_input": "2021-01-22T11:54:47.550761Z",
          "iopub.status.busy": "2021-01-22T11:54:47.543691Z",
          "iopub.status.idle": "2021-01-22T11:54:51.888191Z",
          "shell.execute_reply": "2021-01-22T11:54:51.887507Z"
        },
        "papermill": {
          "duration": 4.394396,
          "end_time": "2021-01-22T11:54:51.888305",
          "exception": false,
          "start_time": "2021-01-22T11:54:47.493909",
          "status": "completed"
        },
        "tags": [],
        "colab": {
          "base_uri": "https://localhost:8080/"
        },
        "id": "sNBXRF5NYZ6S",
        "outputId": "2f831fd3-8783-4bd5-e398-dbc5dfbd9dd3"
      },
      "source": [
        "%%time\n",
        "drop_indices = []\n",
        "for index, row in simplified_reviews_pd.iterrows():\n",
        "    if remove_amounts[row['stars']] > 0:\n",
        "        remove_amounts[row['stars']] -= 1\n",
        "        drop_indices.append(index)\n",
        "len(drop_indices)"
      ],
      "execution_count": null,
      "outputs": [
        {
          "output_type": "stream",
          "text": [
            "CPU times: user 4.33 s, sys: 927 µs, total: 4.33 s\n",
            "Wall time: 4.36 s\n"
          ],
          "name": "stdout"
        }
      ]
    },
    {
      "cell_type": "code",
      "metadata": {
        "execution": {
          "iopub.execute_input": "2021-01-22T11:54:51.984250Z",
          "iopub.status.busy": "2021-01-22T11:54:51.983579Z",
          "iopub.status.idle": "2021-01-22T11:54:51.994132Z",
          "shell.execute_reply": "2021-01-22T11:54:51.993007Z"
        },
        "papermill": {
          "duration": 0.062091,
          "end_time": "2021-01-22T11:54:51.994285",
          "exception": false,
          "start_time": "2021-01-22T11:54:51.932194",
          "status": "completed"
        },
        "tags": [],
        "id": "SUzm0_GMYZ6U"
      },
      "source": [
        "balanced_simplified_reviews = simplified_reviews_pd.drop(drop_indices)"
      ],
      "execution_count": null,
      "outputs": []
    },
    {
      "cell_type": "code",
      "metadata": {
        "execution": {
          "iopub.execute_input": "2021-01-22T11:54:52.088408Z",
          "iopub.status.busy": "2021-01-22T11:54:52.087751Z",
          "iopub.status.idle": "2021-01-22T11:54:52.223039Z",
          "shell.execute_reply": "2021-01-22T11:54:52.222450Z"
        },
        "papermill": {
          "duration": 0.183456,
          "end_time": "2021-01-22T11:54:52.223156",
          "exception": false,
          "start_time": "2021-01-22T11:54:52.039700",
          "status": "completed"
        },
        "tags": [],
        "colab": {
          "base_uri": "https://localhost:8080/",
          "height": 350
        },
        "id": "3cpsXjYiYZ6V",
        "outputId": "a20ee24f-b768-435f-ed9b-47a25075f821"
      },
      "source": [
        "sns.countplot(balanced_simplified_reviews['stars'])"
      ],
      "execution_count": null,
      "outputs": [
        {
          "output_type": "stream",
          "text": [
            "/usr/local/lib/python3.6/dist-packages/seaborn/_decorators.py:43: FutureWarning: Pass the following variable as a keyword arg: x. From version 0.12, the only valid positional argument will be `data`, and passing other arguments without an explicit keyword will result in an error or misinterpretation.\n",
            "  FutureWarning\n"
          ],
          "name": "stderr"
        },
        {
          "output_type": "execute_result",
          "data": {
            "text/plain": [
              "<matplotlib.axes._subplots.AxesSubplot at 0x7f9df75375f8>"
            ]
          },
          "metadata": {
            "tags": []
          },
          "execution_count": 28
        },
        {
          "output_type": "display_data",
          "data": {
            "image/png": "[encoded data removed]",
            "text/plain": [
              "<Figure size 432x288 with 1 Axes>"
            ]
          },
          "metadata": {
            "tags": [],
            "needs_background": "light"
          }
        }
      ]
    },
    {
      "cell_type": "code",
      "metadata": {
        "execution": {
          "iopub.execute_input": "2021-01-22T11:54:52.320163Z",
          "iopub.status.busy": "2021-01-22T11:54:52.319517Z",
          "iopub.status.idle": "2021-01-22T11:54:52.324968Z",
          "shell.execute_reply": "2021-01-22T11:54:52.324353Z"
        },
        "papermill": {
          "duration": 0.055181,
          "end_time": "2021-01-22T11:54:52.325086",
          "exception": false,
          "start_time": "2021-01-22T11:54:52.269905",
          "status": "completed"
        },
        "tags": [],
        "colab": {
          "base_uri": "https://localhost:8080/"
        },
        "id": "AJbc0yZFYZ6V",
        "outputId": "5d7208f8-268b-4643-fd75-cfec096ef271"
      },
      "source": [
        "balanced_simplified_reviews['stars'].unique()"
      ],
      "execution_count": null,
      "outputs": [
        {
          "output_type": "execute_result",
          "data": {
            "text/plain": [
              "array([2, 3, 1, 4, 5])"
            ]
          },
          "metadata": {
            "tags": []
          },
          "execution_count": 29
        }
      ]
    },
    {
      "cell_type": "code",
      "metadata": {
        "execution": {
          "iopub.execute_input": "2021-01-22T11:54:52.425124Z",
          "iopub.status.busy": "2021-01-22T11:54:52.424446Z",
          "iopub.status.idle": "2021-01-22T11:54:52.435872Z",
          "shell.execute_reply": "2021-01-22T11:54:52.436375Z"
        },
        "papermill": {
          "duration": 0.065075,
          "end_time": "2021-01-22T11:54:52.436523",
          "exception": false,
          "start_time": "2021-01-22T11:54:52.371448",
          "status": "completed"
        },
        "tags": [],
        "colab": {
          "base_uri": "https://localhost:8080/"
        },
        "id": "hITiY9elYZ6W",
        "outputId": "d0003cad-0ee0-49de-98b0-e16f49b10b15"
      },
      "source": [
        "# dropping reviews with 3 stars\n",
        "balanced_simplified_reviews.drop(balanced_simplified_reviews.index[balanced_simplified_reviews['stars'] == 3], inplace = True)\n",
        "print('yelp_reviews labels: ' + str(balanced_simplified_reviews.stars.unique()))\n",
        "print('yelp_reviews shape: ' + str(balanced_simplified_reviews.shape))\n"
      ],
      "execution_count": null,
      "outputs": [
        {
          "output_type": "stream",
          "text": [
            "yelp_reviews labels: [2 1 4 5]\n",
            "yelp_reviews shape: (12993, 3)\n"
          ],
          "name": "stdout"
        }
      ]
    },
    {
      "cell_type": "code",
      "metadata": {
        "execution": {
          "iopub.execute_input": "2021-01-22T11:54:52.535894Z",
          "iopub.status.busy": "2021-01-22T11:54:52.535155Z",
          "iopub.status.idle": "2021-01-22T11:54:52.542571Z",
          "shell.execute_reply": "2021-01-22T11:54:52.543148Z"
        },
        "papermill": {
          "duration": 0.060045,
          "end_time": "2021-01-22T11:54:52.543296",
          "exception": false,
          "start_time": "2021-01-22T11:54:52.483251",
          "status": "completed"
        },
        "tags": [],
        "colab": {
          "base_uri": "https://localhost:8080/"
        },
        "id": "l-iRULjsYZ6X",
        "outputId": "d55eaf0d-39c2-4ee3-e008-449ff0f099e0"
      },
      "source": [
        "# changing to only 2 labels: 0=negative, 1=positive\n",
        "balanced_simplified_reviews['label'] = balanced_simplified_reviews['stars'].replace({1:0,2:0,4:1,5:1})\n",
        "balanced_simplified_reviews['stars'].value_counts()"
      ],
      "execution_count": null,
      "outputs": [
        {
          "output_type": "execute_result",
          "data": {
            "text/plain": [
              "1    3249\n",
              "5    3248\n",
              "4    3248\n",
              "2    3248\n",
              "Name: stars, dtype: int64"
            ]
          },
          "metadata": {
            "tags": []
          },
          "execution_count": 31
        }
      ]
    },
    {
      "cell_type": "code",
      "metadata": {
        "execution": {
          "iopub.execute_input": "2021-01-22T11:54:52.648575Z",
          "iopub.status.busy": "2021-01-22T11:54:52.647573Z",
          "iopub.status.idle": "2021-01-22T11:54:52.652801Z",
          "shell.execute_reply": "2021-01-22T11:54:52.653419Z"
        },
        "papermill": {
          "duration": 0.062574,
          "end_time": "2021-01-22T11:54:52.653569",
          "exception": false,
          "start_time": "2021-01-22T11:54:52.590995",
          "status": "completed"
        },
        "tags": [],
        "colab": {
          "base_uri": "https://localhost:8080/",
          "height": 111
        },
        "id": "ZHJUO1MBYZ6X",
        "outputId": "4ad7b297-8edd-4ea8-ff73-55225b63c22f"
      },
      "source": [
        "balanced_simplified_reviews.head(2)"
      ],
      "execution_count": null,
      "outputs": [
        {
          "output_type": "execute_result",
          "data": {
            "text/html": [
              "<div>\n",
              "<style scoped>\n",
              "    .dataframe tbody tr th:only-of-type {\n",
              "        vertical-align: middle;\n",
              "    }\n",
              "\n",
              "    .dataframe tbody tr th {\n",
              "        vertical-align: top;\n",
              "    }\n",
              "\n",
              "    .dataframe thead th {\n",
              "        text-align: right;\n",
              "    }\n",
              "</style>\n",
              "<table border=\"1\" class=\"dataframe\">\n",
              "  <thead>\n",
              "    <tr style=\"text-align: right;\">\n",
              "      <th></th>\n",
              "      <th>text</th>\n",
              "      <th>stars</th>\n",
              "      <th>business_id</th>\n",
              "      <th>label</th>\n",
              "    </tr>\n",
              "  </thead>\n",
              "  <tbody>\n",
              "    <tr>\n",
              "      <th>31</th>\n",
              "      <td>This actually used to be one of my favorite ho...</td>\n",
              "      <td>2</td>\n",
              "      <td>LkMtMHVetws5_7QfRjPtlg</td>\n",
              "      <td>0</td>\n",
              "    </tr>\n",
              "    <tr>\n",
              "      <th>62</th>\n",
              "      <td>Decent food. Fishermen lobster or even congee ...</td>\n",
              "      <td>2</td>\n",
              "      <td>eNFubUPJR7yIQah-NxZN_g</td>\n",
              "      <td>0</td>\n",
              "    </tr>\n",
              "  </tbody>\n",
              "</table>\n",
              "</div>"
            ],
            "text/plain": [
              "                                                 text  ...  label\n",
              "31  This actually used to be one of my favorite ho...  ...      0\n",
              "62  Decent food. Fishermen lobster or even congee ...  ...      0\n",
              "\n",
              "[2 rows x 4 columns]"
            ]
          },
          "metadata": {
            "tags": []
          },
          "execution_count": 32
        }
      ]
    },
    {
      "cell_type": "code",
      "metadata": {
        "execution": {
          "iopub.execute_input": "2021-01-22T11:54:52.767046Z",
          "iopub.status.busy": "2021-01-22T11:54:52.755154Z",
          "iopub.status.idle": "2021-01-22T11:54:52.772564Z",
          "shell.execute_reply": "2021-01-22T11:54:52.771634Z"
        },
        "papermill": {
          "duration": 0.072054,
          "end_time": "2021-01-22T11:54:52.772710",
          "exception": false,
          "start_time": "2021-01-22T11:54:52.700656",
          "status": "completed"
        },
        "tags": [],
        "colab": {
          "base_uri": "https://localhost:8080/",
          "height": 111
        },
        "id": "A315MsGKYZ6Y",
        "outputId": "09fcca3b-14fe-4d42-cab6-d1edaac147fc"
      },
      "source": [
        "balanced_simplified_reviews.drop('stars',inplace=True,axis = 1)\n",
        "balanced_simplified_reviews.head(2)"
      ],
      "execution_count": null,
      "outputs": [
        {
          "output_type": "execute_result",
          "data": {
            "text/html": [
              "<div>\n",
              "<style scoped>\n",
              "    .dataframe tbody tr th:only-of-type {\n",
              "        vertical-align: middle;\n",
              "    }\n",
              "\n",
              "    .dataframe tbody tr th {\n",
              "        vertical-align: top;\n",
              "    }\n",
              "\n",
              "    .dataframe thead th {\n",
              "        text-align: right;\n",
              "    }\n",
              "</style>\n",
              "<table border=\"1\" class=\"dataframe\">\n",
              "  <thead>\n",
              "    <tr style=\"text-align: right;\">\n",
              "      <th></th>\n",
              "      <th>text</th>\n",
              "      <th>business_id</th>\n",
              "      <th>label</th>\n",
              "    </tr>\n",
              "  </thead>\n",
              "  <tbody>\n",
              "    <tr>\n",
              "      <th>31</th>\n",
              "      <td>This actually used to be one of my favorite ho...</td>\n",
              "      <td>LkMtMHVetws5_7QfRjPtlg</td>\n",
              "      <td>0</td>\n",
              "    </tr>\n",
              "    <tr>\n",
              "      <th>62</th>\n",
              "      <td>Decent food. Fishermen lobster or even congee ...</td>\n",
              "      <td>eNFubUPJR7yIQah-NxZN_g</td>\n",
              "      <td>0</td>\n",
              "    </tr>\n",
              "  </tbody>\n",
              "</table>\n",
              "</div>"
            ],
            "text/plain": [
              "                                                 text  ... label\n",
              "31  This actually used to be one of my favorite ho...  ...     0\n",
              "62  Decent food. Fishermen lobster or even congee ...  ...     0\n",
              "\n",
              "[2 rows x 3 columns]"
            ]
          },
          "metadata": {
            "tags": []
          },
          "execution_count": 33
        }
      ]
    },
    {
      "cell_type": "markdown",
      "metadata": {
        "id": "w0OA2QIzeWqv"
      },
      "source": [
        "\n",
        "\n",
        "> **Maybe reset the index afterwards, when we merge**\n",
        "\n"
      ]
    },
    {
      "cell_type": "code",
      "metadata": {
        "execution": {
          "iopub.execute_input": "2021-01-22T11:54:52.921322Z",
          "iopub.status.busy": "2021-01-22T11:54:52.920466Z",
          "iopub.status.idle": "2021-01-22T11:54:52.929989Z",
          "shell.execute_reply": "2021-01-22T11:54:52.930680Z"
        },
        "papermill": {
          "duration": 0.084662,
          "end_time": "2021-01-22T11:54:52.930881",
          "exception": false,
          "start_time": "2021-01-22T11:54:52.846219",
          "status": "completed"
        },
        "tags": [],
        "colab": {
          "base_uri": "https://localhost:8080/",
          "height": 111
        },
        "id": "RMgRmBNvYZ6Z",
        "outputId": "965671c6-f1bd-40f8-ddff-65c3998ca7d5"
      },
      "source": [
        "balanced_simplified_reviews.reset_index(drop=True, inplace=True)\n",
        "balanced_simplified_reviews.head(2)"
      ],
      "execution_count": null,
      "outputs": [
        {
          "output_type": "execute_result",
          "data": {
            "text/html": [
              "<div>\n",
              "<style scoped>\n",
              "    .dataframe tbody tr th:only-of-type {\n",
              "        vertical-align: middle;\n",
              "    }\n",
              "\n",
              "    .dataframe tbody tr th {\n",
              "        vertical-align: top;\n",
              "    }\n",
              "\n",
              "    .dataframe thead th {\n",
              "        text-align: right;\n",
              "    }\n",
              "</style>\n",
              "<table border=\"1\" class=\"dataframe\">\n",
              "  <thead>\n",
              "    <tr style=\"text-align: right;\">\n",
              "      <th></th>\n",
              "      <th>text</th>\n",
              "      <th>business_id</th>\n",
              "      <th>label</th>\n",
              "    </tr>\n",
              "  </thead>\n",
              "  <tbody>\n",
              "    <tr>\n",
              "      <th>0</th>\n",
              "      <td>This actually used to be one of my favorite ho...</td>\n",
              "      <td>LkMtMHVetws5_7QfRjPtlg</td>\n",
              "      <td>0</td>\n",
              "    </tr>\n",
              "    <tr>\n",
              "      <th>1</th>\n",
              "      <td>Decent food. Fishermen lobster or even congee ...</td>\n",
              "      <td>eNFubUPJR7yIQah-NxZN_g</td>\n",
              "      <td>0</td>\n",
              "    </tr>\n",
              "  </tbody>\n",
              "</table>\n",
              "</div>"
            ],
            "text/plain": [
              "                                                text  ... label\n",
              "0  This actually used to be one of my favorite ho...  ...     0\n",
              "1  Decent food. Fishermen lobster or even congee ...  ...     0\n",
              "\n",
              "[2 rows x 3 columns]"
            ]
          },
          "metadata": {
            "tags": []
          },
          "execution_count": 34
        }
      ]
    },
    {
      "cell_type": "code",
      "metadata": {
        "execution": {
          "iopub.execute_input": "2021-01-22T11:54:53.082960Z",
          "iopub.status.busy": "2021-01-22T11:54:53.082078Z",
          "iopub.status.idle": "2021-01-22T11:54:53.089352Z",
          "shell.execute_reply": "2021-01-22T11:54:53.090055Z"
        },
        "papermill": {
          "duration": 0.085057,
          "end_time": "2021-01-22T11:54:53.090253",
          "exception": false,
          "start_time": "2021-01-22T11:54:53.005196",
          "status": "completed"
        },
        "tags": [],
        "colab": {
          "base_uri": "https://localhost:8080/"
        },
        "id": "5iocLXPSYZ6Z",
        "outputId": "a94e58f4-6c6c-4fc4-f9f2-9df249631b4e"
      },
      "source": [
        "balanced_simplified_reviews.shape"
      ],
      "execution_count": null,
      "outputs": [
        {
          "output_type": "execute_result",
          "data": {
            "text/plain": [
              "(12993, 3)"
            ]
          },
          "metadata": {
            "tags": []
          },
          "execution_count": 35
        }
      ]
    },
    {
      "cell_type": "markdown",
      "metadata": {
        "papermill": {
          "duration": 0.073814,
          "end_time": "2021-01-22T11:54:53.237491",
          "exception": false,
          "start_time": "2021-01-22T11:54:53.163677",
          "status": "completed"
        },
        "tags": [],
        "id": "Kqph4kddYZ6Z"
      },
      "source": [
        "## Getting the business categories for each review"
      ]
    },
    {
      "cell_type": "code",
      "metadata": {
        "execution": {
          "iopub.execute_input": "2021-01-22T11:54:53.399047Z",
          "iopub.status.busy": "2021-01-22T11:54:53.395982Z",
          "iopub.status.idle": "2021-01-22T11:54:53.402028Z",
          "shell.execute_reply": "2021-01-22T11:54:53.402543Z"
        },
        "papermill": {
          "duration": 0.091073,
          "end_time": "2021-01-22T11:54:53.402679",
          "exception": false,
          "start_time": "2021-01-22T11:54:53.311606",
          "status": "completed"
        },
        "tags": [],
        "id": "5cVr3pZgYZ6a"
      },
      "source": [
        "import time\n",
        "def init_ds(json):\n",
        "    ds= {}\n",
        "    keys = json.keys()\n",
        "    for k in keys:\n",
        "        ds[k]= []\n",
        "    return ds, keys\n",
        "\n",
        "def read_json(file):\n",
        "    dataset = {}\n",
        "    keys = []\n",
        "    with open(file) as file_lines:\n",
        "        for count, line in enumerate(file_lines):\n",
        "            data = json.loads(line.strip())\n",
        "            if count ==0:\n",
        "                dataset, keys = init_ds(data)\n",
        "            for k in keys:\n",
        "                dataset[k].append(data[k])\n",
        "                \n",
        "        return pd.DataFrame(dataset)"
      ],
      "execution_count": null,
      "outputs": []
    },
    {
      "cell_type": "code",
      "metadata": {
        "execution": {
          "iopub.execute_input": "2021-01-22T11:54:53.529783Z",
          "iopub.status.busy": "2021-01-22T11:54:53.529035Z",
          "iopub.status.idle": "2021-01-22T11:54:59.626899Z",
          "shell.execute_reply": "2021-01-22T11:54:59.627605Z"
        },
        "papermill": {
          "duration": 6.166549,
          "end_time": "2021-01-22T11:54:59.627811",
          "exception": false,
          "start_time": "2021-01-22T11:54:53.461262",
          "status": "completed"
        },
        "tags": [],
        "colab": {
          "base_uri": "https://localhost:8080/"
        },
        "id": "Q45EFg1tYZ6a",
        "outputId": "aafab545-df74-4e87-9d65-9a0235581aed"
      },
      "source": [
        "%%time\n",
        "print('loading business data...')\n",
        "business_df = read_json('/content/kaggle/yelp-dataset/yelp_academic_dataset_business.json')"
      ],
      "execution_count": null,
      "outputs": [
        {
          "output_type": "stream",
          "text": [
            "loading business data...\n",
            "CPU times: user 4.5 s, sys: 514 ms, total: 5.01 s\n",
            "Wall time: 5.12 s\n"
          ],
          "name": "stdout"
        }
      ]
    },
    {
      "cell_type": "code",
      "metadata": {
        "execution": {
          "iopub.execute_input": "2021-01-22T11:54:59.799896Z",
          "iopub.status.busy": "2021-01-22T11:54:59.799200Z",
          "iopub.status.idle": "2021-01-22T11:54:59.806498Z",
          "shell.execute_reply": "2021-01-22T11:54:59.805906Z"
        },
        "papermill": {
          "duration": 0.103459,
          "end_time": "2021-01-22T11:54:59.806612",
          "exception": false,
          "start_time": "2021-01-22T11:54:59.703153",
          "status": "completed"
        },
        "tags": [],
        "colab": {
          "base_uri": "https://localhost:8080/",
          "height": 284
        },
        "id": "uypx9Zb3YZ6b",
        "outputId": "7ad4960e-1fff-4f5b-bcc5-2c33d9be6077"
      },
      "source": [
        "business_df.head(2)"
      ],
      "execution_count": null,
      "outputs": [
        {
          "output_type": "execute_result",
          "data": {
            "text/html": [
              "<div>\n",
              "<style scoped>\n",
              "    .dataframe tbody tr th:only-of-type {\n",
              "        vertical-align: middle;\n",
              "    }\n",
              "\n",
              "    .dataframe tbody tr th {\n",
              "        vertical-align: top;\n",
              "    }\n",
              "\n",
              "    .dataframe thead th {\n",
              "        text-align: right;\n",
              "    }\n",
              "</style>\n",
              "<table border=\"1\" class=\"dataframe\">\n",
              "  <thead>\n",
              "    <tr style=\"text-align: right;\">\n",
              "      <th></th>\n",
              "      <th>business_id</th>\n",
              "      <th>name</th>\n",
              "      <th>address</th>\n",
              "      <th>city</th>\n",
              "      <th>state</th>\n",
              "      <th>postal_code</th>\n",
              "      <th>latitude</th>\n",
              "      <th>longitude</th>\n",
              "      <th>stars</th>\n",
              "      <th>review_count</th>\n",
              "      <th>is_open</th>\n",
              "      <th>attributes</th>\n",
              "      <th>categories</th>\n",
              "      <th>hours</th>\n",
              "    </tr>\n",
              "  </thead>\n",
              "  <tbody>\n",
              "    <tr>\n",
              "      <th>0</th>\n",
              "      <td>f9NumwFMBDn751xgFiRbNA</td>\n",
              "      <td>The Range At Lake Norman</td>\n",
              "      <td>10913 Bailey Rd</td>\n",
              "      <td>Cornelius</td>\n",
              "      <td>NC</td>\n",
              "      <td>28031</td>\n",
              "      <td>35.462724</td>\n",
              "      <td>-80.852612</td>\n",
              "      <td>3.5</td>\n",
              "      <td>36</td>\n",
              "      <td>1</td>\n",
              "      <td>{'BusinessAcceptsCreditCards': 'True', 'BikePa...</td>\n",
              "      <td>Active Life, Gun/Rifle Ranges, Guns &amp; Ammo, Sh...</td>\n",
              "      <td>{'Monday': '10:0-18:0', 'Tuesday': '11:0-20:0'...</td>\n",
              "    </tr>\n",
              "    <tr>\n",
              "      <th>1</th>\n",
              "      <td>Yzvjg0SayhoZgCljUJRF9Q</td>\n",
              "      <td>Carlos Santo, NMD</td>\n",
              "      <td>8880 E Via Linda, Ste 107</td>\n",
              "      <td>Scottsdale</td>\n",
              "      <td>AZ</td>\n",
              "      <td>85258</td>\n",
              "      <td>33.569404</td>\n",
              "      <td>-111.890264</td>\n",
              "      <td>5.0</td>\n",
              "      <td>4</td>\n",
              "      <td>1</td>\n",
              "      <td>{'GoodForKids': 'True', 'ByAppointmentOnly': '...</td>\n",
              "      <td>Health &amp; Medical, Fitness &amp; Instruction, Yoga,...</td>\n",
              "      <td>None</td>\n",
              "    </tr>\n",
              "  </tbody>\n",
              "</table>\n",
              "</div>"
            ],
            "text/plain": [
              "              business_id  ...                                              hours\n",
              "0  f9NumwFMBDn751xgFiRbNA  ...  {'Monday': '10:0-18:0', 'Tuesday': '11:0-20:0'...\n",
              "1  Yzvjg0SayhoZgCljUJRF9Q  ...                                               None\n",
              "\n",
              "[2 rows x 14 columns]"
            ]
          },
          "metadata": {
            "tags": []
          },
          "execution_count": 38
        }
      ]
    },
    {
      "cell_type": "code",
      "metadata": {
        "execution": {
          "iopub.execute_input": "2021-01-22T11:55:00.029878Z",
          "iopub.status.busy": "2021-01-22T11:54:59.959420Z",
          "iopub.status.idle": "2021-01-22T11:55:00.039629Z",
          "shell.execute_reply": "2021-01-22T11:55:00.038811Z"
        },
        "papermill": {
          "duration": 0.179892,
          "end_time": "2021-01-22T11:55:00.039802",
          "exception": false,
          "start_time": "2021-01-22T11:54:59.859910",
          "status": "completed"
        },
        "tags": [],
        "colab": {
          "base_uri": "https://localhost:8080/"
        },
        "id": "kdp-nabPYZ6c",
        "outputId": "47f825c0-0e6f-4338-b81a-e12bee570633"
      },
      "source": [
        "len(business_df.categories.unique())"
      ],
      "execution_count": null,
      "outputs": [
        {
          "output_type": "execute_result",
          "data": {
            "text/plain": [
              "102495"
            ]
          },
          "metadata": {
            "tags": []
          },
          "execution_count": 39
        }
      ]
    },
    {
      "cell_type": "code",
      "metadata": {
        "execution": {
          "iopub.execute_input": "2021-01-22T11:55:00.297408Z",
          "iopub.status.busy": "2021-01-22T11:55:00.230078Z",
          "iopub.status.idle": "2021-01-22T11:55:00.308006Z",
          "shell.execute_reply": "2021-01-22T11:55:00.306574Z"
        },
        "papermill": {
          "duration": 0.190107,
          "end_time": "2021-01-22T11:55:00.308122",
          "exception": false,
          "start_time": "2021-01-22T11:55:00.118015",
          "status": "completed"
        },
        "tags": [],
        "colab": {
          "base_uri": "https://localhost:8080/"
        },
        "id": "O8JoK6WHYZ6c",
        "outputId": "cc71af8f-79bc-45c5-e96a-3d28c331a6d9"
      },
      "source": [
        "business_df.categories.unique()[:10]"
      ],
      "execution_count": null,
      "outputs": [
        {
          "output_type": "execute_result",
          "data": {
            "text/plain": [
              "array(['Active Life, Gun/Rifle Ranges, Guns & Ammo, Shopping',\n",
              "       'Health & Medical, Fitness & Instruction, Yoga, Active Life, Pilates',\n",
              "       'Pets, Pet Services, Pet Groomers',\n",
              "       'Hardware Stores, Home Services, Building Supplies, Home & Garden, Shopping',\n",
              "       'Home Services, Plumbing, Electricians, Handyman, Contractors',\n",
              "       'Auto Repair, Automotive, Oil Change Stations, Transmission Repair',\n",
              "       'Dry Cleaning & Laundry, Local Services, Laundry Services',\n",
              "       'Auto Repair, Oil Change Stations, Automotive, Tires',\n",
              "       'Ethnic Food, Food Trucks, Specialty Food, Imported Food, Argentine, Food, Restaurants, Empanadas',\n",
              "       'Martial Arts, Gyms, Fitness & Instruction, Active Life'],\n",
              "      dtype=object)"
            ]
          },
          "metadata": {
            "tags": []
          },
          "execution_count": 40
        }
      ]
    },
    {
      "cell_type": "code",
      "metadata": {
        "execution": {
          "iopub.execute_input": "2021-01-22T11:55:00.459215Z",
          "iopub.status.busy": "2021-01-22T11:55:00.456567Z",
          "iopub.status.idle": "2021-01-22T11:55:00.467188Z",
          "shell.execute_reply": "2021-01-22T11:55:00.467699Z"
        },
        "papermill": {
          "duration": 0.108251,
          "end_time": "2021-01-22T11:55:00.467881",
          "exception": false,
          "start_time": "2021-01-22T11:55:00.359630",
          "status": "completed"
        },
        "tags": [],
        "colab": {
          "base_uri": "https://localhost:8080/"
        },
        "id": "Sgsglnu5YZ6c",
        "outputId": "2a41d057-e019-4c17-cc53-03523ce1984f"
      },
      "source": [
        "business_df.categories[business_df['business_id'].isin([balanced_simplified_reviews['business_id'][1]]) == True]"
      ],
      "execution_count": null,
      "outputs": [
        {
          "output_type": "execute_result",
          "data": {
            "text/plain": [
              "17384    Seafood, Restaurants, Food, Chinese, Seafood M...\n",
              "Name: categories, dtype: object"
            ]
          },
          "metadata": {
            "tags": []
          },
          "execution_count": 41
        }
      ]
    },
    {
      "cell_type": "code",
      "metadata": {
        "execution": {
          "iopub.execute_input": "2021-01-22T11:55:00.581151Z",
          "iopub.status.busy": "2021-01-22T11:55:00.580131Z",
          "iopub.status.idle": "2021-01-22T11:55:00.832435Z",
          "shell.execute_reply": "2021-01-22T11:55:00.831877Z"
        },
        "papermill": {
          "duration": 0.311455,
          "end_time": "2021-01-22T11:55:00.832553",
          "exception": false,
          "start_time": "2021-01-22T11:55:00.521098",
          "status": "completed"
        },
        "tags": [],
        "colab": {
          "base_uri": "https://localhost:8080/",
          "height": 306
        },
        "id": "pRUCZD2MYZ6d",
        "outputId": "35a71fbe-25dc-49e7-b382-341392e99c78"
      },
      "source": [
        "# labels: 0=negative, 1=positive\n",
        "categories_id = business_df[['business_id','categories']]\n",
        "balanced_reviews = balanced_simplified_reviews.merge(categories_id, how='left', on='business_id')\n",
        "balanced_reviews.head()"
      ],
      "execution_count": null,
      "outputs": [
        {
          "output_type": "execute_result",
          "data": {
            "text/html": [
              "<div>\n",
              "<style scoped>\n",
              "    .dataframe tbody tr th:only-of-type {\n",
              "        vertical-align: middle;\n",
              "    }\n",
              "\n",
              "    .dataframe tbody tr th {\n",
              "        vertical-align: top;\n",
              "    }\n",
              "\n",
              "    .dataframe thead th {\n",
              "        text-align: right;\n",
              "    }\n",
              "</style>\n",
              "<table border=\"1\" class=\"dataframe\">\n",
              "  <thead>\n",
              "    <tr style=\"text-align: right;\">\n",
              "      <th></th>\n",
              "      <th>text</th>\n",
              "      <th>business_id</th>\n",
              "      <th>label</th>\n",
              "      <th>categories</th>\n",
              "    </tr>\n",
              "  </thead>\n",
              "  <tbody>\n",
              "    <tr>\n",
              "      <th>0</th>\n",
              "      <td>This actually used to be one of my favorite ho...</td>\n",
              "      <td>LkMtMHVetws5_7QfRjPtlg</td>\n",
              "      <td>0</td>\n",
              "      <td>Casinos, Nightlife, Restaurants, Hotels &amp; Trav...</td>\n",
              "    </tr>\n",
              "    <tr>\n",
              "      <th>1</th>\n",
              "      <td>Decent food. Fishermen lobster or even congee ...</td>\n",
              "      <td>eNFubUPJR7yIQah-NxZN_g</td>\n",
              "      <td>0</td>\n",
              "      <td>Seafood, Restaurants, Food, Chinese, Seafood M...</td>\n",
              "    </tr>\n",
              "    <tr>\n",
              "      <th>2</th>\n",
              "      <td>Pros: Fun atmosphere, great for people watchin...</td>\n",
              "      <td>l_kefVF1frmC0xRW2YkvUA</td>\n",
              "      <td>0</td>\n",
              "      <td>Nightlife, Bars, American (Traditional), Music...</td>\n",
              "    </tr>\n",
              "    <tr>\n",
              "      <th>3</th>\n",
              "      <td>I love bookstores, and I love to spend some ti...</td>\n",
              "      <td>V2TN04eMwKJmGki8ioOY9A</td>\n",
              "      <td>0</td>\n",
              "      <td>Shopping, Bookstores, Books, Mags, Music &amp; Video</td>\n",
              "    </tr>\n",
              "    <tr>\n",
              "      <th>4</th>\n",
              "      <td>I passed Five Guys, In-N-Out, Carl's Jr, and S...</td>\n",
              "      <td>vQMcpsCYhkpJKvkity2VHA</td>\n",
              "      <td>0</td>\n",
              "      <td>Burgers, Restaurants, Salad, Sandwiches</td>\n",
              "    </tr>\n",
              "  </tbody>\n",
              "</table>\n",
              "</div>"
            ],
            "text/plain": [
              "                                                text  ...                                         categories\n",
              "0  This actually used to be one of my favorite ho...  ...  Casinos, Nightlife, Restaurants, Hotels & Trav...\n",
              "1  Decent food. Fishermen lobster or even congee ...  ...  Seafood, Restaurants, Food, Chinese, Seafood M...\n",
              "2  Pros: Fun atmosphere, great for people watchin...  ...  Nightlife, Bars, American (Traditional), Music...\n",
              "3  I love bookstores, and I love to spend some ti...  ...   Shopping, Bookstores, Books, Mags, Music & Video\n",
              "4  I passed Five Guys, In-N-Out, Carl's Jr, and S...  ...            Burgers, Restaurants, Salad, Sandwiches\n",
              "\n",
              "[5 rows x 4 columns]"
            ]
          },
          "metadata": {
            "tags": []
          },
          "execution_count": 42
        }
      ]
    },
    {
      "cell_type": "code",
      "metadata": {
        "execution": {
          "iopub.execute_input": "2021-01-22T11:55:00.952080Z",
          "iopub.status.busy": "2021-01-22T11:55:00.951209Z",
          "iopub.status.idle": "2021-01-22T11:55:00.955501Z",
          "shell.execute_reply": "2021-01-22T11:55:00.954513Z"
        },
        "papermill": {
          "duration": 0.069181,
          "end_time": "2021-01-22T11:55:00.955638",
          "exception": false,
          "start_time": "2021-01-22T11:55:00.886457",
          "status": "completed"
        },
        "tags": [],
        "colab": {
          "base_uri": "https://localhost:8080/"
        },
        "id": "JxjbXEe3YZ6d",
        "outputId": "3dfd04a6-35c3-4269-dcc8-4d5e0e6bdf0e"
      },
      "source": [
        "print(balanced_reviews.shape)\n",
        "print(len(balanced_reviews.categories.unique()))"
      ],
      "execution_count": null,
      "outputs": [
        {
          "output_type": "stream",
          "text": [
            "(12993, 4)\n",
            "4000\n"
          ],
          "name": "stdout"
        }
      ]
    },
    {
      "cell_type": "code",
      "metadata": {
        "execution": {
          "iopub.execute_input": "2021-01-22T11:55:01.125867Z",
          "iopub.status.busy": "2021-01-22T11:55:01.125015Z",
          "iopub.status.idle": "2021-01-22T11:55:01.129295Z",
          "shell.execute_reply": "2021-01-22T11:55:01.129981Z"
        },
        "papermill": {
          "duration": 0.093252,
          "end_time": "2021-01-22T11:55:01.130156",
          "exception": false,
          "start_time": "2021-01-22T11:55:01.036904",
          "status": "completed"
        },
        "tags": [],
        "colab": {
          "base_uri": "https://localhost:8080/"
        },
        "id": "T0OLANH9YZ6e",
        "outputId": "8a1e837e-86a1-4885-f7b5-737d1c7d0009"
      },
      "source": [
        "balanced_reviews.categories.unique()[:10]"
      ],
      "execution_count": null,
      "outputs": [
        {
          "output_type": "execute_result",
          "data": {
            "text/plain": [
              "array(['Casinos, Nightlife, Restaurants, Hotels & Travel, Tennis, Active Life, Steakhouses, Event Planning & Services, Music Venues, Sushi Bars, Arts & Entertainment, Food, Japanese, Hotels',\n",
              "       'Seafood, Restaurants, Food, Chinese, Seafood Markets, Specialty Food, Dim Sum, Japanese',\n",
              "       'Nightlife, Bars, American (Traditional), Music Venues, Dance Clubs, Restaurants, Arts & Entertainment, Beer, Wine & Spirits, Cocktail Bars, Lounges, Food, Event Planning & Services, Sports Bars, Venues & Event Spaces',\n",
              "       'Shopping, Bookstores, Books, Mags, Music & Video',\n",
              "       'Burgers, Restaurants, Salad, Sandwiches',\n",
              "       'Restaurants, Asian Fusion, Japanese, Bars, Sushi Bars, Nightlife',\n",
              "       'Pet Groomers, Pet Services, Pets',\n",
              "       'Japanese, Sushi Bars, Restaurants', 'Hotels & Travel, Airports',\n",
              "       'Nightlife, Dance Clubs'], dtype=object)"
            ]
          },
          "metadata": {
            "tags": []
          },
          "execution_count": 44
        }
      ]
    },
    {
      "cell_type": "code",
      "metadata": {
        "execution": {
          "iopub.execute_input": "2021-01-22T11:55:01.301214Z",
          "iopub.status.busy": "2021-01-22T11:55:01.296343Z",
          "iopub.status.idle": "2021-01-22T11:55:01.315610Z",
          "shell.execute_reply": "2021-01-22T11:55:01.314801Z"
        },
        "papermill": {
          "duration": 0.104406,
          "end_time": "2021-01-22T11:55:01.315763",
          "exception": false,
          "start_time": "2021-01-22T11:55:01.211357",
          "status": "completed"
        },
        "tags": [],
        "colab": {
          "base_uri": "https://localhost:8080/",
          "height": 173
        },
        "id": "PSM0sbNCYZ6e",
        "outputId": "c93cd7d6-d884-4050-c254-32f81067fb33"
      },
      "source": [
        "balanced_reviews[balanced_reviews.categories.isna() == True]"
      ],
      "execution_count": null,
      "outputs": [
        {
          "output_type": "execute_result",
          "data": {
            "text/html": [
              "<div>\n",
              "<style scoped>\n",
              "    .dataframe tbody tr th:only-of-type {\n",
              "        vertical-align: middle;\n",
              "    }\n",
              "\n",
              "    .dataframe tbody tr th {\n",
              "        vertical-align: top;\n",
              "    }\n",
              "\n",
              "    .dataframe thead th {\n",
              "        text-align: right;\n",
              "    }\n",
              "</style>\n",
              "<table border=\"1\" class=\"dataframe\">\n",
              "  <thead>\n",
              "    <tr style=\"text-align: right;\">\n",
              "      <th></th>\n",
              "      <th>text</th>\n",
              "      <th>business_id</th>\n",
              "      <th>label</th>\n",
              "      <th>categories</th>\n",
              "    </tr>\n",
              "  </thead>\n",
              "  <tbody>\n",
              "    <tr>\n",
              "      <th>2410</th>\n",
              "      <td>*Okay, this is strictly based on their \"10,000...</td>\n",
              "      <td>aUluscKiuPmd8L2K7-FvyA</td>\n",
              "      <td>0</td>\n",
              "      <td>None</td>\n",
              "    </tr>\n",
              "    <tr>\n",
              "      <th>4744</th>\n",
              "      <td>Houses The Light Factory and McGlohn Theater. ...</td>\n",
              "      <td>1rgJ-WYCEWM-RIyQN6AteA</td>\n",
              "      <td>1</td>\n",
              "      <td>None</td>\n",
              "    </tr>\n",
              "    <tr>\n",
              "      <th>5985</th>\n",
              "      <td>My friend tried so hard to work with this guy....</td>\n",
              "      <td>3stT022u8m1H37mcopGuUA</td>\n",
              "      <td>0</td>\n",
              "      <td>None</td>\n",
              "    </tr>\n",
              "    <tr>\n",
              "      <th>8442</th>\n",
              "      <td>STAY CLEAR! Canmax sales reps  promise a great...</td>\n",
              "      <td>eefO7_-EYi7f4V9RwckKgg</td>\n",
              "      <td>0</td>\n",
              "      <td>None</td>\n",
              "    </tr>\n",
              "  </tbody>\n",
              "</table>\n",
              "</div>"
            ],
            "text/plain": [
              "                                                   text  ... categories\n",
              "2410  *Okay, this is strictly based on their \"10,000...  ...       None\n",
              "4744  Houses The Light Factory and McGlohn Theater. ...  ...       None\n",
              "5985  My friend tried so hard to work with this guy....  ...       None\n",
              "8442  STAY CLEAR! Canmax sales reps  promise a great...  ...       None\n",
              "\n",
              "[4 rows x 4 columns]"
            ]
          },
          "metadata": {
            "tags": []
          },
          "execution_count": 45
        }
      ]
    },
    {
      "cell_type": "code",
      "metadata": {
        "execution": {
          "iopub.execute_input": "2021-01-22T11:55:01.490182Z",
          "iopub.status.busy": "2021-01-22T11:55:01.486604Z",
          "iopub.status.idle": "2021-01-22T11:55:01.497217Z",
          "shell.execute_reply": "2021-01-22T11:55:01.496352Z"
        },
        "papermill": {
          "duration": 0.09873,
          "end_time": "2021-01-22T11:55:01.497341",
          "exception": false,
          "start_time": "2021-01-22T11:55:01.398611",
          "status": "completed"
        },
        "tags": [],
        "colab": {
          "base_uri": "https://localhost:8080/"
        },
        "id": "eCxP3NSAYZ6f",
        "outputId": "f3800ac7-b49c-473a-a974-c683b7b4d84a"
      },
      "source": [
        "# O is negative, 1 is positive\n",
        "balanced_reviews.label.value_counts()"
      ],
      "execution_count": null,
      "outputs": [
        {
          "output_type": "execute_result",
          "data": {
            "text/plain": [
              "0    6497\n",
              "1    6496\n",
              "Name: label, dtype: int64"
            ]
          },
          "metadata": {
            "tags": []
          },
          "execution_count": 46
        }
      ]
    },
    {
      "cell_type": "markdown",
      "metadata": {
        "papermill": {
          "duration": 0.056047,
          "end_time": "2021-01-22T11:55:01.609894",
          "exception": false,
          "start_time": "2021-01-22T11:55:01.553847",
          "status": "completed"
        },
        "tags": [],
        "id": "FtcT-qIfYZ6g"
      },
      "source": [
        "## Cleaning the reviews"
      ]
    },
    {
      "cell_type": "code",
      "metadata": {
        "execution": {
          "iopub.execute_input": "2021-01-22T11:55:01.730745Z",
          "iopub.status.busy": "2021-01-22T11:55:01.730059Z",
          "iopub.status.idle": "2021-01-22T11:55:02.936672Z",
          "shell.execute_reply": "2021-01-22T11:55:02.937250Z"
        },
        "papermill": {
          "duration": 1.270526,
          "end_time": "2021-01-22T11:55:02.937396",
          "exception": false,
          "start_time": "2021-01-22T11:55:01.666870",
          "status": "completed"
        },
        "tags": [],
        "id": "ucShjZs9YZ6g"
      },
      "source": [
        "from gensim.parsing.preprocessing import STOPWORDS, strip_tags, strip_numeric, strip_punctuation, strip_multiple_whitespaces, remove_stopwords, strip_short, stem_text\n",
        "from nltk.corpus import stopwords\n",
        "import re"
      ],
      "execution_count": null,
      "outputs": []
    },
    {
      "cell_type": "code",
      "metadata": {
        "execution": {
          "iopub.execute_input": "2021-01-22T11:55:03.077044Z",
          "iopub.status.busy": "2021-01-22T11:55:03.071622Z",
          "iopub.status.idle": "2021-01-22T11:55:08.926694Z",
          "shell.execute_reply": "2021-01-22T11:55:08.927232Z"
        },
        "papermill": {
          "duration": 5.931862,
          "end_time": "2021-01-22T11:55:08.927383",
          "exception": false,
          "start_time": "2021-01-22T11:55:02.995521",
          "status": "completed"
        },
        "tags": [],
        "id": "81u_y-8yYZ6g"
      },
      "source": [
        "for r in balanced_reviews:\n",
        "    balanced_reviews['text'] = balanced_reviews['text'].apply(lambda t: strip_numeric(t))\n",
        "    balanced_reviews['text'] = balanced_reviews['text'].apply(lambda t: strip_punctuation(t))\n",
        "    balanced_reviews['text'] = balanced_reviews['text'].apply(lambda t: strip_multiple_whitespaces(t))\n",
        "    balanced_reviews['text'] = balanced_reviews['text'].apply(lambda t: t.lower())\n",
        "    balanced_reviews['text'] = balanced_reviews['text'].apply(lambda t: remove_stopwords(t))\n",
        "    balanced_reviews['text'] = balanced_reviews['text'].apply(lambda t: strip_short(t))"
      ],
      "execution_count": null,
      "outputs": []
    },
    {
      "cell_type": "code",
      "metadata": {
        "execution": {
          "iopub.execute_input": "2021-01-22T11:55:09.052689Z",
          "iopub.status.busy": "2021-01-22T11:55:09.052024Z",
          "iopub.status.idle": "2021-01-22T11:55:09.057511Z",
          "shell.execute_reply": "2021-01-22T11:55:09.056882Z"
        },
        "papermill": {
          "duration": 0.073241,
          "end_time": "2021-01-22T11:55:09.057618",
          "exception": false,
          "start_time": "2021-01-22T11:55:08.984377",
          "status": "completed"
        },
        "tags": [],
        "colab": {
          "base_uri": "https://localhost:8080/",
          "height": 204
        },
        "id": "jCtGKEL1YZ6g",
        "outputId": "27478000-9fc6-4c8c-a49d-a216b9af391f"
      },
      "source": [
        "balanced_reviews.head()"
      ],
      "execution_count": null,
      "outputs": [
        {
          "output_type": "execute_result",
          "data": {
            "text/html": [
              "<div>\n",
              "<style scoped>\n",
              "    .dataframe tbody tr th:only-of-type {\n",
              "        vertical-align: middle;\n",
              "    }\n",
              "\n",
              "    .dataframe tbody tr th {\n",
              "        vertical-align: top;\n",
              "    }\n",
              "\n",
              "    .dataframe thead th {\n",
              "        text-align: right;\n",
              "    }\n",
              "</style>\n",
              "<table border=\"1\" class=\"dataframe\">\n",
              "  <thead>\n",
              "    <tr style=\"text-align: right;\">\n",
              "      <th></th>\n",
              "      <th>text</th>\n",
              "      <th>business_id</th>\n",
              "      <th>label</th>\n",
              "      <th>categories</th>\n",
              "    </tr>\n",
              "  </thead>\n",
              "  <tbody>\n",
              "    <tr>\n",
              "      <th>0</th>\n",
              "      <td>actually favorite hotel casinos day things cha...</td>\n",
              "      <td>LkMtMHVetws5_7QfRjPtlg</td>\n",
              "      <td>0</td>\n",
              "      <td>Casinos, Nightlife, Restaurants, Hotels &amp; Trav...</td>\n",
              "    </tr>\n",
              "    <tr>\n",
              "      <th>1</th>\n",
              "      <td>decent food fishermen lobster congee queen bet...</td>\n",
              "      <td>eNFubUPJR7yIQah-NxZN_g</td>\n",
              "      <td>0</td>\n",
              "      <td>Seafood, Restaurants, Food, Chinese, Seafood M...</td>\n",
              "    </tr>\n",
              "    <tr>\n",
              "      <th>2</th>\n",
              "      <td>pros fun atmosphere great people watching mech...</td>\n",
              "      <td>l_kefVF1frmC0xRW2YkvUA</td>\n",
              "      <td>0</td>\n",
              "      <td>Nightlife, Bars, American (Traditional), Music...</td>\n",
              "    </tr>\n",
              "    <tr>\n",
              "      <th>3</th>\n",
              "      <td>love bookstores love spend time browsing flipp...</td>\n",
              "      <td>V2TN04eMwKJmGki8ioOY9A</td>\n",
              "      <td>0</td>\n",
              "      <td>Shopping, Bookstores, Books, Mags, Music &amp; Video</td>\n",
              "    </tr>\n",
              "    <tr>\n",
              "      <th>4</th>\n",
              "      <td>passed guys carl sonic habit won happen know s...</td>\n",
              "      <td>vQMcpsCYhkpJKvkity2VHA</td>\n",
              "      <td>0</td>\n",
              "      <td>Burgers, Restaurants, Salad, Sandwiches</td>\n",
              "    </tr>\n",
              "  </tbody>\n",
              "</table>\n",
              "</div>"
            ],
            "text/plain": [
              "                                                text  ...                                         categories\n",
              "0  actually favorite hotel casinos day things cha...  ...  Casinos, Nightlife, Restaurants, Hotels & Trav...\n",
              "1  decent food fishermen lobster congee queen bet...  ...  Seafood, Restaurants, Food, Chinese, Seafood M...\n",
              "2  pros fun atmosphere great people watching mech...  ...  Nightlife, Bars, American (Traditional), Music...\n",
              "3  love bookstores love spend time browsing flipp...  ...   Shopping, Bookstores, Books, Mags, Music & Video\n",
              "4  passed guys carl sonic habit won happen know s...  ...            Burgers, Restaurants, Salad, Sandwiches\n",
              "\n",
              "[5 rows x 4 columns]"
            ]
          },
          "metadata": {
            "tags": []
          },
          "execution_count": 49
        }
      ]
    },
    {
      "cell_type": "code",
      "metadata": {
        "execution": {
          "iopub.execute_input": "2021-01-22T11:55:09.184364Z",
          "iopub.status.busy": "2021-01-22T11:55:09.177860Z",
          "iopub.status.idle": "2021-01-22T11:55:09.195357Z",
          "shell.execute_reply": "2021-01-22T11:55:09.194624Z"
        },
        "papermill": {
          "duration": 0.08133,
          "end_time": "2021-01-22T11:55:09.195473",
          "exception": false,
          "start_time": "2021-01-22T11:55:09.114143",
          "status": "completed"
        },
        "tags": [],
        "colab": {
          "base_uri": "https://localhost:8080/",
          "height": 204
        },
        "id": "5qUVhr0MYZ6h",
        "outputId": "45774e7d-a868-4f7c-8040-aa06a2c1cec5"
      },
      "source": [
        "sample_balanced_reviews = balanced_reviews.drop(labels='business_id', axis=1)\n",
        "sample_balanced_reviews.tail()"
      ],
      "execution_count": null,
      "outputs": [
        {
          "output_type": "execute_result",
          "data": {
            "text/html": [
              "<div>\n",
              "<style scoped>\n",
              "    .dataframe tbody tr th:only-of-type {\n",
              "        vertical-align: middle;\n",
              "    }\n",
              "\n",
              "    .dataframe tbody tr th {\n",
              "        vertical-align: top;\n",
              "    }\n",
              "\n",
              "    .dataframe thead th {\n",
              "        text-align: right;\n",
              "    }\n",
              "</style>\n",
              "<table border=\"1\" class=\"dataframe\">\n",
              "  <thead>\n",
              "    <tr style=\"text-align: right;\">\n",
              "      <th></th>\n",
              "      <th>text</th>\n",
              "      <th>label</th>\n",
              "      <th>categories</th>\n",
              "    </tr>\n",
              "  </thead>\n",
              "  <tbody>\n",
              "    <tr>\n",
              "      <th>12988</th>\n",
              "      <td>stopped reading yelp review sunday night resta...</td>\n",
              "      <td>1</td>\n",
              "      <td>Halal, Restaurants, Asian Fusion</td>\n",
              "    </tr>\n",
              "    <tr>\n",
              "      <th>12989</th>\n",
              "      <td>love cafe matter day place stays busy walk aro...</td>\n",
              "      <td>1</td>\n",
              "      <td>Delis, Vegan, Restaurants, French, Food, Coffe...</td>\n",
              "    </tr>\n",
              "    <tr>\n",
              "      <th>12990</th>\n",
              "      <td>finally months waiting hubby date night momoch...</td>\n",
              "      <td>1</td>\n",
              "      <td>Mexican, Restaurants</td>\n",
              "    </tr>\n",
              "    <tr>\n",
              "      <th>12991</th>\n",
              "      <td>wanted try blowout service felt like cheating ...</td>\n",
              "      <td>0</td>\n",
              "      <td>Blow Dry/Out Services, Hair Salons, Beauty &amp; Spas</td>\n",
              "    </tr>\n",
              "    <tr>\n",
              "      <th>12992</th>\n",
              "      <td>absolutely love place sunday church tradition ...</td>\n",
              "      <td>1</td>\n",
              "      <td>Burgers, Restaurants, Sandwiches, Breakfast &amp; ...</td>\n",
              "    </tr>\n",
              "  </tbody>\n",
              "</table>\n",
              "</div>"
            ],
            "text/plain": [
              "                                                    text  ...                                         categories\n",
              "12988  stopped reading yelp review sunday night resta...  ...                   Halal, Restaurants, Asian Fusion\n",
              "12989  love cafe matter day place stays busy walk aro...  ...  Delis, Vegan, Restaurants, French, Food, Coffe...\n",
              "12990  finally months waiting hubby date night momoch...  ...                               Mexican, Restaurants\n",
              "12991  wanted try blowout service felt like cheating ...  ...  Blow Dry/Out Services, Hair Salons, Beauty & Spas\n",
              "12992  absolutely love place sunday church tradition ...  ...  Burgers, Restaurants, Sandwiches, Breakfast & ...\n",
              "\n",
              "[5 rows x 3 columns]"
            ]
          },
          "metadata": {
            "tags": []
          },
          "execution_count": 51
        }
      ]
    },
    {
      "cell_type": "code",
      "metadata": {
        "colab": {
          "base_uri": "https://localhost:8080/"
        },
        "id": "VAb7FOliloOg",
        "outputId": "a17d850c-9b9c-418a-8bd4-ab61fa75269e"
      },
      "source": [
        "from google.colab import drive\n",
        "drive.mount('/content/drive')"
      ],
      "execution_count": null,
      "outputs": [
        {
          "output_type": "stream",
          "text": [
            "Mounted at /content/drive\n"
          ],
          "name": "stdout"
        }
      ]
    },
    {
      "cell_type": "code",
      "metadata": {
        "execution": {
          "iopub.execute_input": "2021-01-22T11:55:09.322472Z",
          "iopub.status.busy": "2021-01-22T11:55:09.314300Z",
          "iopub.status.idle": "2021-01-22T11:55:09.332512Z",
          "shell.execute_reply": "2021-01-22T11:55:09.331586Z"
        },
        "papermill": {
          "duration": 0.080277,
          "end_time": "2021-01-22T11:55:09.332672",
          "exception": false,
          "start_time": "2021-01-22T11:55:09.252395",
          "status": "completed"
        },
        "tags": [],
        "id": "EM5383paYZ6h"
      },
      "source": [
        "# without stopwords and short ones\n",
        "#sample_balanced_reviews.to_pickle('/content/drive/MyDrive/Yelp/sample_yelp_reviews_cleaned.pkl')\n",
        "sample_balanced_reviews = pd.read_pickle('/content/drive/MyDrive/Yelp/sample_yelp_reviews_cleaned.pkl')"
      ],
      "execution_count": null,
      "outputs": []
    },
    {
      "cell_type": "markdown",
      "metadata": {
        "papermill": {
          "duration": 0.084875,
          "end_time": "2021-01-22T11:55:09.502921",
          "exception": false,
          "start_time": "2021-01-22T11:55:09.418046",
          "status": "completed"
        },
        "tags": [],
        "id": "PxpkDKKtYZ6h"
      },
      "source": [
        "### Splitting into train, test and validation sets"
      ]
    },
    {
      "cell_type": "code",
      "metadata": {
        "execution": {
          "iopub.execute_input": "2021-01-22T11:55:09.681660Z",
          "iopub.status.busy": "2021-01-22T11:55:09.680815Z",
          "iopub.status.idle": "2021-01-22T11:55:09.710204Z",
          "shell.execute_reply": "2021-01-22T11:55:09.710900Z"
        },
        "papermill": {
          "duration": 0.122631,
          "end_time": "2021-01-22T11:55:09.711091",
          "exception": false,
          "start_time": "2021-01-22T11:55:09.588460",
          "status": "completed"
        },
        "tags": [],
        "colab": {
          "base_uri": "https://localhost:8080/"
        },
        "id": "Aei68TdMYZ6i",
        "outputId": "1a9ad5d0-4ad2-4496-9082-f2481f2189d8"
      },
      "source": [
        "RANDOM_SEED = 42\n",
        "sample_train, sample_test = train_test_split(sample_balanced_reviews, test_size=0.20, random_state=RANDOM_SEED, \n",
        "                                     stratify=sample_balanced_reviews.label.values)\n",
        "sample_train.shape, sample_test.shape"
      ],
      "execution_count": null,
      "outputs": [
        {
          "output_type": "execute_result",
          "data": {
            "text/plain": [
              "((10394, 3), (2599, 3))"
            ]
          },
          "metadata": {
            "tags": []
          },
          "execution_count": 9
        }
      ]
    },
    {
      "cell_type": "code",
      "metadata": {
        "execution": {
          "iopub.execute_input": "2021-01-22T11:55:09.893403Z",
          "iopub.status.busy": "2021-01-22T11:55:09.886628Z",
          "iopub.status.idle": "2021-01-22T11:55:09.906553Z",
          "shell.execute_reply": "2021-01-22T11:55:09.905830Z"
        },
        "papermill": {
          "duration": 0.110407,
          "end_time": "2021-01-22T11:55:09.906699",
          "exception": false,
          "start_time": "2021-01-22T11:55:09.796292",
          "status": "completed"
        },
        "tags": [],
        "id": "iy7y5d_6YZ6i"
      },
      "source": [
        "# without stopwords and short ones\n",
        "#sample_train.to_pickle('/content/drive/MyDrive/Yelp/sample_train_10394.pkl')\n",
        "sample_test.to_pickle('/content/drive/MyDrive/Yelp/sample_test_2599.pkl')"
      ],
      "execution_count": null,
      "outputs": []
    },
    {
      "cell_type": "code",
      "metadata": {
        "execution": {
          "iopub.execute_input": "2021-01-22T11:55:10.087392Z",
          "iopub.status.busy": "2021-01-22T11:55:10.086563Z",
          "iopub.status.idle": "2021-01-22T11:55:10.089660Z",
          "shell.execute_reply": "2021-01-22T11:55:10.088878Z"
        },
        "papermill": {
          "duration": 0.096204,
          "end_time": "2021-01-22T11:55:10.089864",
          "exception": false,
          "start_time": "2021-01-22T11:55:09.993660",
          "status": "completed"
        },
        "tags": [],
        "id": "cnTcqbndYZ6j"
      },
      "source": [
        "train_df = sample_train.copy()\n",
        "test_df = sample_test.copy()"
      ],
      "execution_count": null,
      "outputs": []
    },
    {
      "cell_type": "markdown",
      "metadata": {
        "papermill": {
          "duration": 0.086246,
          "end_time": "2021-01-22T11:55:10.263008",
          "exception": false,
          "start_time": "2021-01-22T11:55:10.176762",
          "status": "completed"
        },
        "tags": [],
        "id": "mPuoLiMqYZ6k"
      },
      "source": [
        "## EDA"
      ]
    },
    {
      "cell_type": "code",
      "metadata": {
        "id": "T11ttaYEmyxB"
      },
      "source": [
        "balanced_reviews = sample_balanced_reviews.copy()"
      ],
      "execution_count": null,
      "outputs": []
    },
    {
      "cell_type": "code",
      "metadata": {
        "execution": {
          "iopub.execute_input": "2021-01-22T11:55:10.439603Z",
          "iopub.status.busy": "2021-01-22T11:55:10.438909Z",
          "iopub.status.idle": "2021-01-22T11:55:10.507076Z",
          "shell.execute_reply": "2021-01-22T11:55:10.506465Z"
        },
        "papermill": {
          "duration": 0.158233,
          "end_time": "2021-01-22T11:55:10.507192",
          "exception": false,
          "start_time": "2021-01-22T11:55:10.348959",
          "status": "completed"
        },
        "tags": [],
        "colab": {
          "base_uri": "https://localhost:8080/"
        },
        "id": "hsN6dVkVYZ6l",
        "outputId": "a82cd09c-d231-4150-910e-7d723db36b5b"
      },
      "source": [
        "# without stopwords and short\n",
        "#CREATING A NEW COLUMN IN THE DATASET FOR THE NUMBER OF WORDS IN THE REVIEW\n",
        "balanced_reviews['length'] = balanced_reviews['text'].apply(lambda x : len(x.strip().split(\" \")))\n",
        "balanced_reviews['length'].describe()"
      ],
      "execution_count": null,
      "outputs": [
        {
          "output_type": "execute_result",
          "data": {
            "text/plain": [
              "count    12993.000000\n",
              "mean        47.742708\n",
              "std         42.106026\n",
              "min          1.000000\n",
              "25%         20.000000\n",
              "50%         34.000000\n",
              "75%         61.000000\n",
              "max        396.000000\n",
              "Name: length, dtype: float64"
            ]
          },
          "metadata": {
            "tags": []
          },
          "execution_count": 12
        }
      ]
    },
    {
      "cell_type": "code",
      "metadata": {
        "colab": {
          "base_uri": "https://localhost:8080/"
        },
        "id": "j2_9aDbxm5Cj",
        "outputId": "0b9f2f3f-c16e-4602-ccda-97ebbf3854d7"
      },
      "source": [
        "#checking the 95% quantile from all the sample\n",
        "np.quantile(balanced_reviews['length'], 0.95)"
      ],
      "execution_count": null,
      "outputs": [
        {
          "output_type": "execute_result",
          "data": {
            "text/plain": [
              "128.0"
            ]
          },
          "metadata": {
            "tags": []
          },
          "execution_count": 13
        }
      ]
    },
    {
      "cell_type": "code",
      "metadata": {
        "colab": {
          "base_uri": "https://localhost:8080/"
        },
        "id": "CeUtC6eonEKS",
        "outputId": "4b469139-bd2f-4321-be4f-03bc0f2cb782"
      },
      "source": [
        "#checking the 90% quantile from all the sample\n",
        "np.quantile(balanced_reviews['length'], 0.90)"
      ],
      "execution_count": null,
      "outputs": [
        {
          "output_type": "execute_result",
          "data": {
            "text/plain": [
              "99.0"
            ]
          },
          "metadata": {
            "tags": []
          },
          "execution_count": 14
        }
      ]
    },
    {
      "cell_type": "code",
      "metadata": {
        "colab": {
          "base_uri": "https://localhost:8080/",
          "height": 350
        },
        "id": "91_sgO6OghzP",
        "outputId": "12a5e4c2-d7a4-41fc-c365-e2b464dbe7bc"
      },
      "source": [
        "# Checking the label distribbution\n",
        "sns.countplot(balanced_reviews['label'])"
      ],
      "execution_count": null,
      "outputs": [
        {
          "output_type": "stream",
          "text": [
            "/usr/local/lib/python3.6/dist-packages/seaborn/_decorators.py:43: FutureWarning: Pass the following variable as a keyword arg: x. From version 0.12, the only valid positional argument will be `data`, and passing other arguments without an explicit keyword will result in an error or misinterpretation.\n",
            "  FutureWarning\n"
          ],
          "name": "stderr"
        },
        {
          "output_type": "execute_result",
          "data": {
            "text/plain": [
              "<matplotlib.axes._subplots.AxesSubplot at 0x7f9dbf028f98>"
            ]
          },
          "metadata": {
            "tags": []
          },
          "execution_count": 69
        },
        {
          "output_type": "display_data",
          "data": {
            "image/png": "[encoded data removed]",
            "text/plain": [
              "<Figure size 432x288 with 1 Axes>"
            ]
          },
          "metadata": {
            "tags": [],
            "needs_background": "light"
          }
        }
      ]
    },
    {
      "cell_type": "code",
      "metadata": {
        "colab": {
          "base_uri": "https://localhost:8080/",
          "height": 429
        },
        "id": "Dyforw1Qf-j6",
        "outputId": "25aee280-5795-44e5-bef6-4b58831495f7"
      },
      "source": [
        "%%time \n",
        "# checking the sample reviews' length distribution\n",
        "plt.figure(figsize=(25, 20))\n",
        "plot = sns.displot(data=balanced_reviews, x='length', hue='label', multiple='stack', bins=np.arange(0,400,25))\n",
        "plt.xticks(rotation=90)"
      ],
      "execution_count": null,
      "outputs": [
        {
          "output_type": "stream",
          "text": [
            "CPU times: user 328 ms, sys: 136 ms, total: 464 ms\n",
            "Wall time: 326 ms\n"
          ],
          "name": "stdout"
        },
        {
          "output_type": "display_data",
          "data": {
            "text/plain": [
              "<Figure size 1800x1440 with 0 Axes>"
            ]
          },
          "metadata": {
            "tags": []
          }
        },
        {
          "output_type": "display_data",
          "data": {
            "image/png": "[encoded data removed]",
            "text/plain": [
              "<Figure size 402.375x360 with 1 Axes>"
            ]
          },
          "metadata": {
            "tags": [],
            "needs_background": "light"
          }
        }
      ]
    },
    {
      "cell_type": "code",
      "metadata": {
        "execution": {
          "iopub.execute_input": "2021-01-22T11:55:10.641287Z",
          "iopub.status.busy": "2021-01-22T11:55:10.635820Z",
          "iopub.status.idle": "2021-01-22T11:55:10.747531Z",
          "shell.execute_reply": "2021-01-22T11:55:10.747013Z"
        },
        "papermill": {
          "duration": 0.18129,
          "end_time": "2021-01-22T11:55:10.747662",
          "exception": false,
          "start_time": "2021-01-22T11:55:10.566372",
          "status": "completed"
        },
        "tags": [],
        "colab": {
          "base_uri": "https://localhost:8080/"
        },
        "id": "nk3jsyESYZ6l",
        "outputId": "df4afb44-c6ee-48c3-913c-64a208692a4e"
      },
      "source": [
        "# before cleaning\n",
        "#CREATING A NEW COLUMN IN THE DATASET FOR THE NUMBER OF WORDS IN THE REVIEW\n",
        "balanced_simplified_reviews['length'] = balanced_simplified_reviews['text'].apply(lambda x : len(x.strip().split(\" \")))\n",
        "balanced_simplified_reviews['length'].describe()"
      ],
      "execution_count": null,
      "outputs": [
        {
          "output_type": "execute_result",
          "data": {
            "text/plain": [
              "count    12993.000000\n",
              "mean       116.033172\n",
              "std        106.976797\n",
              "min          1.000000\n",
              "25%         46.000000\n",
              "50%         82.000000\n",
              "75%        149.000000\n",
              "max       1340.000000\n",
              "Name: length, dtype: float64"
            ]
          },
          "metadata": {
            "tags": []
          },
          "execution_count": 55
        }
      ]
    },
    {
      "cell_type": "code",
      "metadata": {
        "execution": {
          "iopub.execute_input": "2021-01-22T11:55:10.888138Z",
          "iopub.status.busy": "2021-01-22T11:55:10.881157Z",
          "iopub.status.idle": "2021-01-22T11:55:11.571317Z",
          "shell.execute_reply": "2021-01-22T11:55:11.570753Z"
        },
        "papermill": {
          "duration": 0.764238,
          "end_time": "2021-01-22T11:55:11.571434",
          "exception": false,
          "start_time": "2021-01-22T11:55:10.807196",
          "status": "completed"
        },
        "tags": [],
        "colab": {
          "base_uri": "https://localhost:8080/",
          "height": 242
        },
        "id": "r59U0VfaYZ6m",
        "outputId": "d6765da0-2b20-4387-83b5-615a6540f7e2"
      },
      "source": [
        "import matplotlib.pyplot as plt\n",
        "import seaborn as sns\n",
        "# COMPARING TEXT LENGTH TO LABELS\n",
        "# on the cleaned reviews\n",
        "graph = sns.FacetGrid(data=balanced_reviews,col='label')\n",
        "graph.map(plt.hist,'length',bins=50,color='blue')\n",
        "# 0 negative, 1 positive"
      ],
      "execution_count": null,
      "outputs": [
        {
          "output_type": "execute_result",
          "data": {
            "text/plain": [
              "<seaborn.axisgrid.FacetGrid at 0x7f9dce8f9400>"
            ]
          },
          "metadata": {
            "tags": []
          },
          "execution_count": 56
        },
        {
          "output_type": "display_data",
          "data": {
            "image/png": "[encoded data removed]",
            "text/plain": [
              "<Figure size 432x216 with 2 Axes>"
            ]
          },
          "metadata": {
            "tags": [],
            "needs_background": "light"
          }
        }
      ]
    },
    {
      "cell_type": "markdown",
      "metadata": {
        "papermill": {
          "duration": 0.060832,
          "end_time": "2021-01-22T11:55:11.692373",
          "exception": false,
          "start_time": "2021-01-22T11:55:11.631541",
          "status": "completed"
        },
        "tags": [],
        "id": "cYNkixsQYZ6m"
      },
      "source": [
        "**Confirming that thse subsets have the same distribution**"
      ]
    },
    {
      "cell_type": "code",
      "metadata": {
        "execution": {
          "iopub.execute_input": "2021-01-22T11:55:11.829374Z",
          "iopub.status.busy": "2021-01-22T11:55:11.828466Z",
          "iopub.status.idle": "2021-01-22T11:55:11.876113Z",
          "shell.execute_reply": "2021-01-22T11:55:11.875336Z"
        },
        "papermill": {
          "duration": 0.121913,
          "end_time": "2021-01-22T11:55:11.876259",
          "exception": false,
          "start_time": "2021-01-22T11:55:11.754346",
          "status": "completed"
        },
        "tags": [],
        "colab": {
          "base_uri": "https://localhost:8080/"
        },
        "id": "aV8LzTv2YZ6n",
        "outputId": "4a719582-d172-420a-c8ef-cc7e57b5758c"
      },
      "source": [
        "#CREATING A NEW COLUMN IN THE DATASET FOR THE NUMBER OF WORDS IN THE REVIEW\n",
        "train_df['length'] = train_df['text'].apply(lambda x : len(x.strip().split(\" \")))\n",
        "train_df['length'].describe()"
      ],
      "execution_count": null,
      "outputs": [
        {
          "output_type": "execute_result",
          "data": {
            "text/plain": [
              "count    10394.000000\n",
              "mean        47.698961\n",
              "std         41.656327\n",
              "min          1.000000\n",
              "25%         20.000000\n",
              "50%         35.000000\n",
              "75%         61.000000\n",
              "max        381.000000\n",
              "Name: length, dtype: float64"
            ]
          },
          "metadata": {
            "tags": []
          },
          "execution_count": 16
        }
      ]
    },
    {
      "cell_type": "code",
      "metadata": {
        "colab": {
          "base_uri": "https://localhost:8080/"
        },
        "id": "Jb9U0qfGnUcR",
        "outputId": "e0bdd841-87be-4164-b909-4364cc237340"
      },
      "source": [
        "#checking the 90% quantile from all the sample\n",
        "train_90 = np.quantile(train_df['length'], 0.90)\n",
        "#checking the 95% quantile from all the sample\n",
        "train_95 = np.quantile(train_df['length'], 0.95)\n",
        "print(train_90, train_95)"
      ],
      "execution_count": null,
      "outputs": [
        {
          "output_type": "stream",
          "text": [
            "99.0 127.35000000000036\n"
          ],
          "name": "stdout"
        }
      ]
    },
    {
      "cell_type": "code",
      "metadata": {
        "execution": {
          "iopub.execute_input": "2021-01-22T11:55:12.070400Z",
          "iopub.status.busy": "2021-01-22T11:55:12.069644Z",
          "iopub.status.idle": "2021-01-22T11:55:12.075838Z",
          "shell.execute_reply": "2021-01-22T11:55:12.075270Z"
        },
        "papermill": {
          "duration": 0.108626,
          "end_time": "2021-01-22T11:55:12.075947",
          "exception": false,
          "start_time": "2021-01-22T11:55:11.967321",
          "status": "completed"
        },
        "tags": [],
        "colab": {
          "base_uri": "https://localhost:8080/",
          "height": 289
        },
        "id": "p5BZ51ioYZ6n",
        "outputId": "349b744c-d827-459a-c2b5-cd6da7628647"
      },
      "source": [
        "train_df.head()"
      ],
      "execution_count": null,
      "outputs": [
        {
          "output_type": "execute_result",
          "data": {
            "text/html": [
              "<div>\n",
              "<style scoped>\n",
              "    .dataframe tbody tr th:only-of-type {\n",
              "        vertical-align: middle;\n",
              "    }\n",
              "\n",
              "    .dataframe tbody tr th {\n",
              "        vertical-align: top;\n",
              "    }\n",
              "\n",
              "    .dataframe thead th {\n",
              "        text-align: right;\n",
              "    }\n",
              "</style>\n",
              "<table border=\"1\" class=\"dataframe\">\n",
              "  <thead>\n",
              "    <tr style=\"text-align: right;\">\n",
              "      <th></th>\n",
              "      <th>text</th>\n",
              "      <th>label</th>\n",
              "      <th>categories</th>\n",
              "      <th>length</th>\n",
              "    </tr>\n",
              "  </thead>\n",
              "  <tbody>\n",
              "    <tr>\n",
              "      <th>11349</th>\n",
              "      <td>second best pool las vegas pay commit day drin...</td>\n",
              "      <td>1</td>\n",
              "      <td>Arts &amp; Entertainment, Casinos, Hotels, Hotels ...</td>\n",
              "      <td>33</td>\n",
              "    </tr>\n",
              "    <tr>\n",
              "      <th>12582</th>\n",
              "      <td>went tuesday night jan weather nice course dec...</td>\n",
              "      <td>0</td>\n",
              "      <td>Arts &amp; Entertainment, Nightlife, Breakfast &amp; B...</td>\n",
              "      <td>56</td>\n",
              "    </tr>\n",
              "    <tr>\n",
              "      <th>4547</th>\n",
              "      <td>experience duplicates reviews purchased living...</td>\n",
              "      <td>0</td>\n",
              "      <td>Home Services, Office Cleaning, Window Washing...</td>\n",
              "      <td>16</td>\n",
              "    </tr>\n",
              "    <tr>\n",
              "      <th>11873</th>\n",
              "      <td>mmmmmmr sushi place lost sushi virginity place...</td>\n",
              "      <td>1</td>\n",
              "      <td>Restaurants, Sushi Bars, Japanese</td>\n",
              "      <td>54</td>\n",
              "    </tr>\n",
              "    <tr>\n",
              "      <th>12416</th>\n",
              "      <td>little strip provide monorail service lvh stri...</td>\n",
              "      <td>1</td>\n",
              "      <td>Casinos, Nightlife, Restaurants, Hotels &amp; Trav...</td>\n",
              "      <td>22</td>\n",
              "    </tr>\n",
              "  </tbody>\n",
              "</table>\n",
              "</div>"
            ],
            "text/plain": [
              "                                                    text  ...  length\n",
              "11349  second best pool las vegas pay commit day drin...  ...      33\n",
              "12582  went tuesday night jan weather nice course dec...  ...      56\n",
              "4547   experience duplicates reviews purchased living...  ...      16\n",
              "11873  mmmmmmr sushi place lost sushi virginity place...  ...      54\n",
              "12416  little strip provide monorail service lvh stri...  ...      22\n",
              "\n",
              "[5 rows x 4 columns]"
            ]
          },
          "metadata": {
            "tags": []
          },
          "execution_count": 58
        }
      ]
    },
    {
      "cell_type": "code",
      "metadata": {
        "execution": {
          "iopub.execute_input": "2021-01-22T11:55:12.314936Z",
          "iopub.status.busy": "2021-01-22T11:55:12.207086Z",
          "iopub.status.idle": "2021-01-22T11:55:12.840075Z",
          "shell.execute_reply": "2021-01-22T11:55:12.839357Z"
        },
        "papermill": {
          "duration": 0.70168,
          "end_time": "2021-01-22T11:55:12.840192",
          "exception": false,
          "start_time": "2021-01-22T11:55:12.138512",
          "status": "completed"
        },
        "tags": [],
        "colab": {
          "base_uri": "https://localhost:8080/",
          "height": 242
        },
        "id": "IRq7Vrt9YZ6o",
        "outputId": "fa91a089-f579-4153-9456-9eea47cde3a9"
      },
      "source": [
        "# COMPARING TEXT LENGTH TO STARS\n",
        "graph = sns.FacetGrid(data=train_df,col='label')\n",
        "graph.map(plt.hist,'length',bins=50,color='blue')\n",
        "# 0 negative, 1 positive"
      ],
      "execution_count": null,
      "outputs": [
        {
          "output_type": "execute_result",
          "data": {
            "text/plain": [
              "<seaborn.axisgrid.FacetGrid at 0x7f9dce8f9438>"
            ]
          },
          "metadata": {
            "tags": []
          },
          "execution_count": 59
        },
        {
          "output_type": "display_data",
          "data": {
            "image/png": "[encoded data removed]",
            "text/plain": [
              "<Figure size 432x216 with 2 Axes>"
            ]
          },
          "metadata": {
            "tags": [],
            "needs_background": "light"
          }
        }
      ]
    },
    {
      "cell_type": "code",
      "metadata": {
        "execution": {
          "iopub.execute_input": "2021-01-22T11:55:13.817857Z",
          "iopub.status.busy": "2021-01-22T11:55:13.816953Z",
          "iopub.status.idle": "2021-01-22T11:55:13.826421Z",
          "shell.execute_reply": "2021-01-22T11:55:13.825391Z"
        },
        "papermill": {
          "duration": 0.08619,
          "end_time": "2021-01-22T11:55:13.826580",
          "exception": false,
          "start_time": "2021-01-22T11:55:13.740390",
          "status": "completed"
        },
        "tags": [],
        "colab": {
          "base_uri": "https://localhost:8080/"
        },
        "id": "HHhncglRYZ6p",
        "outputId": "fad840da-8c5e-4714-b470-a03f037f36fa"
      },
      "source": [
        "test_df['length'] = test_df['text'].apply(lambda x : len(x.strip().split(\" \")))\n",
        "test_df['length'].describe()"
      ],
      "execution_count": null,
      "outputs": [
        {
          "output_type": "execute_result",
          "data": {
            "text/plain": [
              "count    2599.000000\n",
              "mean       47.917661\n",
              "std        43.866243\n",
              "min         1.000000\n",
              "25%        20.000000\n",
              "50%        34.000000\n",
              "75%        61.000000\n",
              "max       396.000000\n",
              "Name: length, dtype: float64"
            ]
          },
          "metadata": {
            "tags": []
          },
          "execution_count": 19
        }
      ]
    },
    {
      "cell_type": "code",
      "metadata": {
        "execution": {
          "iopub.execute_input": "2021-01-22T11:55:14.036937Z",
          "iopub.status.busy": "2021-01-22T11:55:14.036245Z",
          "iopub.status.idle": "2021-01-22T11:55:14.611249Z",
          "shell.execute_reply": "2021-01-22T11:55:14.610501Z"
        },
        "papermill": {
          "duration": 0.687376,
          "end_time": "2021-01-22T11:55:14.611396",
          "exception": false,
          "start_time": "2021-01-22T11:55:13.924020",
          "status": "completed"
        },
        "tags": [],
        "colab": {
          "base_uri": "https://localhost:8080/",
          "height": 242
        },
        "id": "i7u5lgF3YZ6p",
        "outputId": "8fdd31ca-2ace-4b0f-9a77-6465be0a7bae"
      },
      "source": [
        "# COMPARING TEXT LENGTH TO STARS\n",
        "import matplotlib.pyplot as plt\n",
        "import seaborn as sns\n",
        "graph = sns.FacetGrid(data=test_df,col='label')\n",
        "graph.map(plt.hist,'length',bins=50,color='blue')"
      ],
      "execution_count": null,
      "outputs": [
        {
          "output_type": "execute_result",
          "data": {
            "text/plain": [
              "<seaborn.axisgrid.FacetGrid at 0x7f115f417208>"
            ]
          },
          "metadata": {
            "tags": []
          },
          "execution_count": 21
        },
        {
          "output_type": "display_data",
          "data": {
            "image/png": "[encoded data removed]",
            "text/plain": [
              "<Figure size 432x216 with 2 Axes>"
            ]
          },
          "metadata": {
            "tags": [],
            "needs_background": "light"
          }
        }
      ]
    },
    {
      "cell_type": "code",
      "metadata": {
        "papermill": {
          "duration": 0.099787,
          "end_time": "2021-01-22T11:55:14.810466",
          "exception": false,
          "start_time": "2021-01-22T11:55:14.710679",
          "status": "completed"
        },
        "tags": [],
        "id": "lOI5F859YZ6p",
        "colab": {
          "base_uri": "https://localhost:8080/"
        },
        "outputId": "855203f3-88da-45ff-a4ac-8d29088cf005"
      },
      "source": [
        "#checking the 90% quantile from all the sample\n",
        "test_90 = np.quantile(test_df['length'], 0.90)\n",
        "#checking the 95% quantile from all the sample\n",
        "test_95 = np.quantile(test_df['length'], 0.95)\n",
        "print(train_90, train_95)"
      ],
      "execution_count": null,
      "outputs": [
        {
          "output_type": "stream",
          "text": [
            "99.0 127.35000000000036\n"
          ],
          "name": "stdout"
        }
      ]
    },
    {
      "cell_type": "code",
      "metadata": {
        "id": "Al5u1wiinx9G"
      },
      "source": [
        ""
      ],
      "execution_count": null,
      "outputs": []
    }
  ]
}