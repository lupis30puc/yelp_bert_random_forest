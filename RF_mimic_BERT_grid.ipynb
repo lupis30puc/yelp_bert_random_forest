{
  "nbformat": 4,
  "nbformat_minor": 0,
  "metadata": {
    "colab": {
      "name": "RF_mimic_BERT_grid.ipynb",
      "provenance": [],
      "collapsed_sections": [],
      "authorship_tag": "ABX9TyPkcdwIZVare1QYWqhs67I8",
      "include_colab_link": true
    },
    "kernelspec": {
      "name": "python3",
      "display_name": "Python 3"
    }
  },
  "cells": [
    {
      "cell_type": "markdown",
      "metadata": {
        "id": "view-in-github",
        "colab_type": "text"
      },
      "source": [
        "<a href=\"https://colab.research.google.com/github/lupis30puc/yelp_bert_random_forest/blob/update-6/RF_mimic_BERT_grid.ipynb\" target=\"_parent\"><img src=\"https://colab.research.google.com/assets/colab-badge.svg\" alt=\"Open In Colab\"/></a>"
      ]
    },
    {
      "cell_type": "markdown",
      "metadata": {
        "id": "Qx--WzAEAMvz"
      },
      "source": [
        "## Set Up"
      ]
    },
    {
      "cell_type": "code",
      "metadata": {
        "colab": {
          "base_uri": "https://localhost:8080/"
        },
        "id": "3d5Y_yn7_owl",
        "outputId": "06522270-90a7-487a-f92f-c692ad231ef6"
      },
      "source": [
        "from google.colab import drive\r\n",
        "drive.mount('/content/drive')"
      ],
      "execution_count": null,
      "outputs": [
        {
          "output_type": "stream",
          "text": [
            "Mounted at /content/drive\n"
          ],
          "name": "stdout"
        }
      ]
    },
    {
      "cell_type": "code",
      "metadata": {
        "id": "7Olhw4Uf_qSt"
      },
      "source": [
        "import pandas as pd\r\n",
        "import numpy as np\r\n",
        "import matplotlib.pyplot as plt\r\n",
        "import seaborn as sns\r\n",
        "%matplotlib inline\r\n",
        "\r\n",
        "\r\n",
        "from sklearn.model_selection import cross_val_score, GridSearchCV\r\n",
        "from sklearn.metrics import classification_report\r\n",
        "from sklearn.metrics import confusion_matrix, accuracy_score, roc_auc_score, roc_curve\r\n",
        "from sklearn.ensemble import RandomForestClassifier\r\n",
        "\r\n",
        "import time\r\n",
        "import joblib\r\n",
        "import torch"
      ],
      "execution_count": null,
      "outputs": []
    },
    {
      "cell_type": "markdown",
      "metadata": {
        "id": "4lAJ1WldAJai"
      },
      "source": [
        "## Initializing the values for the model\n",
        "x_train, x_test, y_train, y_test"
      ]
    },
    {
      "cell_type": "code",
      "metadata": {
        "id": "LJXHvtRlAJ_S"
      },
      "source": [
        "x_train = pd.read_pickle('/content/drive/MyDrive/Yelp/model_128_/binary_train_rf_feb_02')\r\n",
        "x_test = pd.read_pickle('/content/drive/MyDrive/Yelp/model_128_/binary_test_rf_feb_02')"
      ],
      "execution_count": null,
      "outputs": []
    },
    {
      "cell_type": "code",
      "metadata": {
        "id": "7lE3CO56APFx"
      },
      "source": [
        "y_train = torch.load('/content/drive/MyDrive/Yelp/model_128_/pred_labels_train')\r\n",
        "y_test = torch.load('/content/drive/MyDrive/Yelp/model_128_/pred_labels_test')"
      ],
      "execution_count": null,
      "outputs": []
    },
    {
      "cell_type": "markdown",
      "metadata": {
        "id": "ICLUa6PDB1VV"
      },
      "source": [
        "## Grid search\n",
        "I performed a grid search to determined the best parameters for the Random Forest model, with a cross validation of 10. \n",
        "\n",
        "Taking into account only the number of estimators (trees) and the minimum sample leaves for each category.\n",
        "\n",
        "It takes 6h 28 min aprox."
      ]
    },
    {
      "cell_type": "code",
      "metadata": {
        "id": "pzeVsHtWk99P"
      },
      "source": [
        "param_grid = {'min_samples_leaf': [2, 3, 4, 5, 6, 7, 8, 9, 10], 'n_estimators': [200, 300, 1000] }\n",
        "# The parameter grid to explore, as a dictionary mapping estimator parameters to sequences of allowed values."
      ],
      "execution_count": null,
      "outputs": []
    },
    {
      "cell_type": "code",
      "metadata": {
        "id": "t8mD-ZGXkwXM"
      },
      "source": [
        "rmfr = RandomForestClassifier(random_state=42)\n",
        "grid_search = GridSearchCV(estimator = rmfr, param_grid = param_grid, cv = 10)\n",
        "# Exhaustive search over specified parameter values for an estimator.\n",
        "# The parameters of the estimator used to apply these methods are optimized by cross-validated grid-search over a parameter grid."
      ],
      "execution_count": null,
      "outputs": []
    },
    {
      "cell_type": "code",
      "metadata": {
        "id": "qHcB5u0Q9h72",
        "colab": {
          "base_uri": "https://localhost:8080/"
        },
        "outputId": "22c77b0e-e24f-4695-d8a2-3b730db1f430"
      },
      "source": [
        "%%time\n",
        "grid_search.fit(x_train, y_train) # Run fit with all sets of parameters.\n",
        "#rmfr.fit(x_train,y_train)"
      ],
      "execution_count": null,
      "outputs": [
        {
          "output_type": "stream",
          "text": [
            "CPU times: user 6h 27min 55s, sys: 5.57 s, total: 6h 28min\n",
            "Wall time: 6h 28min 38s\n"
          ],
          "name": "stdout"
        },
        {
          "output_type": "execute_result",
          "data": {
            "text/plain": [
              "GridSearchCV(cv=10, error_score=nan,\n",
              "             estimator=RandomForestClassifier(bootstrap=True, ccp_alpha=0.0,\n",
              "                                              class_weight=None,\n",
              "                                              criterion='gini', max_depth=None,\n",
              "                                              max_features='auto',\n",
              "                                              max_leaf_nodes=None,\n",
              "                                              max_samples=None,\n",
              "                                              min_impurity_decrease=0.0,\n",
              "                                              min_impurity_split=None,\n",
              "                                              min_samples_leaf=1,\n",
              "                                              min_samples_split=2,\n",
              "                                              min_weight_fraction_leaf=0.0,\n",
              "                                              n_estimators=100, n_jobs=None,\n",
              "                                              oob_score=False, random_state=42,\n",
              "                                              verbose=0, warm_start=False),\n",
              "             iid='deprecated', n_jobs=None,\n",
              "             param_grid={'min_samples_leaf': [2, 3, 4, 5, 6, 7, 8, 9, 10],\n",
              "                         'n_estimators': [200, 300, 1000]},\n",
              "             pre_dispatch='2*n_jobs', refit=True, return_train_score=False,\n",
              "             scoring=None, verbose=0)"
            ]
          },
          "metadata": {
            "tags": []
          },
          "execution_count": 22
        }
      ]
    },
    {
      "cell_type": "code",
      "metadata": {
        "colab": {
          "base_uri": "https://localhost:8080/"
        },
        "id": "-0TPPm2qlB1u",
        "outputId": "3c978fe0-fc03-4ac9-d280-5be1a3c67d48"
      },
      "source": [
        "best_model = grid_search.best_params_  # Parameter setting that gave the best results on the hold out data.\n",
        "print(best_model)"
      ],
      "execution_count": null,
      "outputs": [
        {
          "output_type": "stream",
          "text": [
            "{'min_samples_leaf': 2, 'n_estimators': 1000}\n"
          ],
          "name": "stdout"
        }
      ]
    },
    {
      "cell_type": "code",
      "metadata": {
        "id": "G4OaVA9ZlWdh"
      },
      "source": [
        "#saving the best model\n",
        "random_f = rf_grid.best_estimator_ "
      ],
      "execution_count": null,
      "outputs": []
    },
    {
      "cell_type": "code",
      "metadata": {
        "colab": {
          "base_uri": "https://localhost:8080/"
        },
        "id": "6qojKHlBp3OQ",
        "outputId": "ac70221f-080a-4ffc-9c69-0d0fbd397a03"
      },
      "source": [
        "rf_grid.best_score_ "
      ],
      "execution_count": null,
      "outputs": [
        {
          "output_type": "execute_result",
          "data": {
            "text/plain": [
              "0.8926297475383134"
            ]
          },
          "metadata": {
            "tags": []
          },
          "execution_count": 9
        }
      ]
    },
    {
      "cell_type": "code",
      "metadata": {
        "colab": {
          "base_uri": "https://localhost:8080/"
        },
        "id": "YM8LZPsMiGne",
        "outputId": "6735a28c-a1bd-4820-a3f2-0b649e05a1f3"
      },
      "source": [
        "# for the best estimator on the grid search\n",
        "print(\"Test  Accuracy : %.2f\"%random_f.score(x_test, y_test))\n",
        "print(\"Train Accuracy : %.2f\"%random_f.score(x_train, y_train))"
      ],
      "execution_count": null,
      "outputs": [
        {
          "output_type": "stream",
          "text": [
            "Test  Accuracy : 0.90\n",
            "Train Accuracy : 0.98\n"
          ],
          "name": "stdout"
        }
      ]
    },
    {
      "cell_type": "code",
      "metadata": {
        "colab": {
          "base_uri": "https://localhost:8080/"
        },
        "id": "SxkEOx7ziGYV",
        "outputId": "ffbc9f5d-6441-4b66-d77f-8e37c596db65"
      },
      "source": [
        "%%time\n",
        "print(\"Random Forest 1000 estimators, min leaf 2\")\n",
        "predrf_g = random_f.predict(x_test)\n",
        "print(\"Confusion Matrix for Random Forest Classifier:\")\n",
        "print(confusion_matrix(y_test,predrf_g))\n",
        "print(\"Score:\",round(accuracy_score(y_test,predrf_g)*100,2))\n",
        "print(\"Classification Report:\")\n",
        "print(classification_report(y_test,predrf_g))"
      ],
      "execution_count": null,
      "outputs": [
        {
          "output_type": "stream",
          "text": [
            "Random Forest 1000 estimators, min leaf 2\n",
            "Confusion Matrix for Random Forest Classifier:\n",
            "[[1170  111]\n",
            " [ 149 1169]]\n",
            "Score: 90.0\n",
            "Classification Report:\n",
            "              precision    recall  f1-score   support\n",
            "\n",
            "           0       0.89      0.91      0.90      1281\n",
            "           1       0.91      0.89      0.90      1318\n",
            "\n",
            "    accuracy                           0.90      2599\n",
            "   macro avg       0.90      0.90      0.90      2599\n",
            "weighted avg       0.90      0.90      0.90      2599\n",
            "\n",
            "CPU times: user 1.77 s, sys: 0 ns, total: 1.77 s\n",
            "Wall time: 1.78 s\n"
          ],
          "name": "stdout"
        }
      ]
    },
    {
      "cell_type": "code",
      "metadata": {
        "colab": {
          "base_uri": "https://localhost:8080/"
        },
        "id": "fZ8Rue9F7dqy",
        "outputId": "59f0733e-e72e-453d-caf0-17be8b47ec0b"
      },
      "source": [
        "# saving the grid search\r\n",
        "joblib.dump(grid_search, \"/content/drive/MyDrive/Yelp/model_99/rf_grid_search.joblib\", compress=3)"
      ],
      "execution_count": null,
      "outputs": [
        {
          "output_type": "execute_result",
          "data": {
            "text/plain": [
              "['/content/drive/MyDrive/Yelp/model_99/rf_grid_search.joblib']"
            ]
          },
          "metadata": {
            "tags": []
          },
          "execution_count": 24
        }
      ]
    },
    {
      "cell_type": "code",
      "metadata": {
        "id": "5AfzUeX04Hfg"
      },
      "source": [
        "#make a graph were the test and train accuracy are closer to each other, if they cross or are very close "
      ],
      "execution_count": null,
      "outputs": []
    }
  ]
}