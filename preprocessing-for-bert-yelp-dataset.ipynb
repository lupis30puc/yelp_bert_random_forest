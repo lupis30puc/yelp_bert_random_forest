{
 "cells": [
  {
   "cell_type": "markdown",
   "metadata": {
    "papermill": {
     "duration": 0.032185,
     "end_time": "2020-12-07T13:38:50.134804",
     "exception": false,
     "start_time": "2020-12-07T13:38:50.102619",
     "status": "completed"
    },
    "tags": []
   },
   "source": [
    "This is based on Gil's work: \n",
    "https://signal.onepointltd.com/post/102gc83/sentiment-analysis-with-yelp-and-bert\n",
    "https://github.com/onepointconsulting/yelp_bert/blob/master/preprocess_data.ipynb"
   ]
  },
  {
   "cell_type": "code",
   "execution_count": 1,
   "metadata": {
    "_cell_guid": "b1076dfc-b9ad-4769-8c92-a6c4dae69d19",
    "_uuid": "8f2839f25d086af736a60e9eeb907d3b93b6e0e5",
    "execution": {
     "iopub.execute_input": "2020-12-07T13:38:50.205619Z",
     "iopub.status.busy": "2020-12-07T13:38:50.204981Z",
     "iopub.status.idle": "2020-12-07T13:38:51.468396Z",
     "shell.execute_reply": "2020-12-07T13:38:51.467811Z"
    },
    "papermill": {
     "duration": 1.301793,
     "end_time": "2020-12-07T13:38:51.468535",
     "exception": false,
     "start_time": "2020-12-07T13:38:50.166742",
     "status": "completed"
    },
    "tags": []
   },
   "outputs": [
    {
     "name": "stdout",
     "output_type": "stream",
     "text": [
      "/kaggle/input/yelp-dataset/yelp_academic_dataset_review.json\n",
      "/kaggle/input/yelp-dataset/yelp_academic_dataset_checkin.json\n",
      "/kaggle/input/yelp-dataset/yelp_academic_dataset_business.json\n",
      "/kaggle/input/yelp-dataset/yelp_academic_dataset_tip.json\n",
      "/kaggle/input/yelp-dataset/yelp_academic_dataset_user.json\n",
      "/kaggle/input/yelp-dataset/Dataset_Agreement.pdf\n"
     ]
    }
   ],
   "source": [
    "import numpy as np # linear algebra\n",
    "import pandas as pd # data processing, CSV file I/O (e.g. pd.read_csv)\n",
    "import os\n",
    "for dirname, _, filenames in os.walk('/kaggle/input'):\n",
    "    for filename in filenames:\n",
    "        print(os.path.join(dirname, filename))\n",
    "from pathlib import Path\n",
    "import json\n",
    "import seaborn as sns\n",
    "from collections import Counter"
   ]
  },
  {
   "cell_type": "code",
   "execution_count": 2,
   "metadata": {
    "_cell_guid": "79c7e3d0-c299-4dcb-8224-4455121ee9b0",
    "_uuid": "d629ff2d2480ee46fbb7e2d37f6b5fab8052498a",
    "execution": {
     "iopub.execute_input": "2020-12-07T13:38:51.517369Z",
     "iopub.status.busy": "2020-12-07T13:38:51.516492Z",
     "iopub.status.idle": "2020-12-07T13:38:51.519349Z",
     "shell.execute_reply": "2020-12-07T13:38:51.519849Z"
    },
    "papermill": {
     "duration": 0.029338,
     "end_time": "2020-12-07T13:38:51.519995",
     "exception": false,
     "start_time": "2020-12-07T13:38:51.490657",
     "status": "completed"
    },
    "tags": []
   },
   "outputs": [],
   "source": [
    "review_file = '/kaggle/input/yelp-dataset/yelp_academic_dataset_review.json'"
   ]
  },
  {
   "cell_type": "code",
   "execution_count": 3,
   "metadata": {
    "execution": {
     "iopub.execute_input": "2020-12-07T13:38:51.573904Z",
     "iopub.status.busy": "2020-12-07T13:38:51.571750Z",
     "iopub.status.idle": "2020-12-07T13:39:44.318354Z",
     "shell.execute_reply": "2020-12-07T13:39:44.317806Z"
    },
    "papermill": {
     "duration": 52.776656,
     "end_time": "2020-12-07T13:39:44.318510",
     "exception": false,
     "start_time": "2020-12-07T13:38:51.541854",
     "status": "completed"
    },
    "tags": []
   },
   "outputs": [
    {
     "name": "stdout",
     "output_type": "stream",
     "text": [
      "Processed 100000\n",
      "Processed 200000\n",
      "Processed 300000\n",
      "Processed 400000\n",
      "Processed 500000\n",
      "Processed 600000\n",
      "Processed 700000\n",
      "Processed 800000\n",
      "Processed 900000\n",
      "Processed 1000000\n",
      "Processed 1100000\n",
      "Processed 1200000\n",
      "Processed 1300000\n",
      "Processed 1400000\n",
      "Processed 1500000\n",
      "Processed 1600000\n",
      "Processed 1700000\n",
      "Processed 1800000\n",
      "Processed 1900000\n"
     ]
    }
   ],
   "source": [
    "sample_size = 2000000\n",
    "simplified_reviews = './yelp_reviews_simple_{sample_size}.json'\n",
    "\n",
    "def extract_simplified(source, target, lines=1000):\n",
    "    with open(target, 'w') as sr:\n",
    "        cnt = 0;\n",
    "        with open(source) as file:\n",
    "            line = file.readline()\n",
    "            while line:\n",
    "                cnt += 1\n",
    "                if cnt == lines:\n",
    "                    break\n",
    "                if cnt % 100_000 == 0:\n",
    "                    print(f'Processed {cnt}')\n",
    "                try:\n",
    "                    line = file.readline().strip()\n",
    "                    review_dict = json.loads(line)\n",
    "                    simplified = {'text':  review_dict['text'], 'stars': review_dict['stars']}\n",
    "                    simplified_text = json.dumps(simplified)\n",
    "                    sr.write(f'{simplified_text}\\n')\n",
    "                except:\n",
    "                    print(f'Could not parse {line}')\n",
    "                    \n",
    "extract_simplified(review_file, simplified_reviews, lines=sample_size)"
   ]
  },
  {
   "cell_type": "code",
   "execution_count": 4,
   "metadata": {
    "execution": {
     "iopub.execute_input": "2020-12-07T13:39:44.384185Z",
     "iopub.status.busy": "2020-12-07T13:39:44.383301Z",
     "iopub.status.idle": "2020-12-07T13:40:00.997970Z",
     "shell.execute_reply": "2020-12-07T13:40:00.998672Z"
    },
    "papermill": {
     "duration": 16.651604,
     "end_time": "2020-12-07T13:40:00.998843",
     "exception": false,
     "start_time": "2020-12-07T13:39:44.347239",
     "status": "completed"
    },
    "tags": []
   },
   "outputs": [],
   "source": [
    "simplified_reviews_pd = pd.read_json(simplified_reviews, lines=True)"
   ]
  },
  {
   "cell_type": "code",
   "execution_count": 5,
   "metadata": {
    "execution": {
     "iopub.execute_input": "2020-12-07T13:40:01.103004Z",
     "iopub.status.busy": "2020-12-07T13:40:01.102218Z",
     "iopub.status.idle": "2020-12-07T13:40:01.109175Z",
     "shell.execute_reply": "2020-12-07T13:40:01.108570Z"
    },
    "papermill": {
     "duration": 0.067454,
     "end_time": "2020-12-07T13:40:01.109290",
     "exception": false,
     "start_time": "2020-12-07T13:40:01.041836",
     "status": "completed"
    },
    "tags": []
   },
   "outputs": [
    {
     "name": "stdout",
     "output_type": "stream",
     "text": [
      "<class 'pandas.core.frame.DataFrame'>\n",
      "RangeIndex: 1999999 entries, 0 to 1999998\n",
      "Data columns (total 2 columns):\n",
      " #   Column  Dtype \n",
      "---  ------  ----- \n",
      " 0   text    object\n",
      " 1   stars   int64 \n",
      "dtypes: int64(1), object(1)\n",
      "memory usage: 30.5+ MB\n"
     ]
    }
   ],
   "source": [
    "simplified_reviews_pd.info()"
   ]
  },
  {
   "cell_type": "code",
   "execution_count": 6,
   "metadata": {
    "execution": {
     "iopub.execute_input": "2020-12-07T13:40:01.182234Z",
     "iopub.status.busy": "2020-12-07T13:40:01.181575Z",
     "iopub.status.idle": "2020-12-07T13:40:01.193153Z",
     "shell.execute_reply": "2020-12-07T13:40:01.192525Z"
    },
    "papermill": {
     "duration": 0.054593,
     "end_time": "2020-12-07T13:40:01.193259",
     "exception": false,
     "start_time": "2020-12-07T13:40:01.138666",
     "status": "completed"
    },
    "tags": []
   },
   "outputs": [
    {
     "data": {
      "text/html": [
       "<div>\n",
       "<style scoped>\n",
       "    .dataframe tbody tr th:only-of-type {\n",
       "        vertical-align: middle;\n",
       "    }\n",
       "\n",
       "    .dataframe tbody tr th {\n",
       "        vertical-align: top;\n",
       "    }\n",
       "\n",
       "    .dataframe thead th {\n",
       "        text-align: right;\n",
       "    }\n",
       "</style>\n",
       "<table border=\"1\" class=\"dataframe\">\n",
       "  <thead>\n",
       "    <tr style=\"text-align: right;\">\n",
       "      <th></th>\n",
       "      <th>text</th>\n",
       "      <th>stars</th>\n",
       "    </tr>\n",
       "  </thead>\n",
       "  <tbody>\n",
       "    <tr>\n",
       "      <th>0</th>\n",
       "      <td>I am actually horrified this place is still in...</td>\n",
       "      <td>1</td>\n",
       "    </tr>\n",
       "    <tr>\n",
       "      <th>1</th>\n",
       "      <td>I love Deagan's. I do. I really do. The atmosp...</td>\n",
       "      <td>5</td>\n",
       "    </tr>\n",
       "    <tr>\n",
       "      <th>2</th>\n",
       "      <td>Dismal, lukewarm, defrosted-tasting \"TexMex\" g...</td>\n",
       "      <td>1</td>\n",
       "    </tr>\n",
       "    <tr>\n",
       "      <th>3</th>\n",
       "      <td>Oh happy day, finally have a Canes near my cas...</td>\n",
       "      <td>4</td>\n",
       "    </tr>\n",
       "    <tr>\n",
       "      <th>4</th>\n",
       "      <td>This is definitely my favorite fast food sub s...</td>\n",
       "      <td>5</td>\n",
       "    </tr>\n",
       "    <tr>\n",
       "      <th>...</th>\n",
       "      <td>...</td>\n",
       "      <td>...</td>\n",
       "    </tr>\n",
       "    <tr>\n",
       "      <th>1999994</th>\n",
       "      <td>This place is excellent. I never knew about th...</td>\n",
       "      <td>5</td>\n",
       "    </tr>\n",
       "    <tr>\n",
       "      <th>1999995</th>\n",
       "      <td>An all-time favorite for me and my wife.  We g...</td>\n",
       "      <td>5</td>\n",
       "    </tr>\n",
       "    <tr>\n",
       "      <th>1999996</th>\n",
       "      <td>I have been coming here for over a year now fo...</td>\n",
       "      <td>5</td>\n",
       "    </tr>\n",
       "    <tr>\n",
       "      <th>1999997</th>\n",
       "      <td>Worst customer service on the planet! Came in ...</td>\n",
       "      <td>1</td>\n",
       "    </tr>\n",
       "    <tr>\n",
       "      <th>1999998</th>\n",
       "      <td>Thanks Dr. Nelson for helping me too feel bett...</td>\n",
       "      <td>5</td>\n",
       "    </tr>\n",
       "  </tbody>\n",
       "</table>\n",
       "<p>1999999 rows × 2 columns</p>\n",
       "</div>"
      ],
      "text/plain": [
       "                                                      text  stars\n",
       "0        I am actually horrified this place is still in...      1\n",
       "1        I love Deagan's. I do. I really do. The atmosp...      5\n",
       "2        Dismal, lukewarm, defrosted-tasting \"TexMex\" g...      1\n",
       "3        Oh happy day, finally have a Canes near my cas...      4\n",
       "4        This is definitely my favorite fast food sub s...      5\n",
       "...                                                    ...    ...\n",
       "1999994  This place is excellent. I never knew about th...      5\n",
       "1999995  An all-time favorite for me and my wife.  We g...      5\n",
       "1999996  I have been coming here for over a year now fo...      5\n",
       "1999997  Worst customer service on the planet! Came in ...      1\n",
       "1999998  Thanks Dr. Nelson for helping me too feel bett...      5\n",
       "\n",
       "[1999999 rows x 2 columns]"
      ]
     },
     "execution_count": 6,
     "metadata": {},
     "output_type": "execute_result"
    }
   ],
   "source": [
    "simplified_reviews_pd"
   ]
  },
  {
   "cell_type": "code",
   "execution_count": 7,
   "metadata": {
    "execution": {
     "iopub.execute_input": "2020-12-07T13:40:01.264127Z",
     "iopub.status.busy": "2020-12-07T13:40:01.261836Z",
     "iopub.status.idle": "2020-12-07T13:40:01.534587Z",
     "shell.execute_reply": "2020-12-07T13:40:01.533911Z"
    },
    "papermill": {
     "duration": 0.310965,
     "end_time": "2020-12-07T13:40:01.534704",
     "exception": false,
     "start_time": "2020-12-07T13:40:01.223739",
     "status": "completed"
    },
    "tags": []
   },
   "outputs": [
    {
     "data": {
      "text/plain": [
       "<matplotlib.axes._subplots.AxesSubplot at 0x7fdb96b24610>"
      ]
     },
     "execution_count": 7,
     "metadata": {},
     "output_type": "execute_result"
    },
    {
     "data": {
      "image/png": "[encoded data removed]",
      "text/plain": [
       "<Figure size 432x288 with 1 Axes>"
      ]
     },
     "metadata": {
      "needs_background": "light"
     },
     "output_type": "display_data"
    }
   ],
   "source": [
    "sns.countplot(simplified_reviews_pd['stars'])"
   ]
  },
  {
   "cell_type": "code",
   "execution_count": 8,
   "metadata": {
    "execution": {
     "iopub.execute_input": "2020-12-07T13:40:01.970483Z",
     "iopub.status.busy": "2020-12-07T13:40:01.969830Z",
     "iopub.status.idle": "2020-12-07T13:40:01.973605Z",
     "shell.execute_reply": "2020-12-07T13:40:01.972939Z"
    },
    "papermill": {
     "duration": 0.408105,
     "end_time": "2020-12-07T13:40:01.973721",
     "exception": false,
     "start_time": "2020-12-07T13:40:01.565616",
     "status": "completed"
    },
    "tags": []
   },
   "outputs": [],
   "source": [
    "counter_star = Counter(simplified_reviews_pd['stars'])"
   ]
  },
  {
   "cell_type": "code",
   "execution_count": 9,
   "metadata": {
    "execution": {
     "iopub.execute_input": "2020-12-07T13:40:02.043541Z",
     "iopub.status.busy": "2020-12-07T13:40:02.042907Z",
     "iopub.status.idle": "2020-12-07T13:40:02.048220Z",
     "shell.execute_reply": "2020-12-07T13:40:02.047591Z"
    },
    "papermill": {
     "duration": 0.042449,
     "end_time": "2020-12-07T13:40:02.048313",
     "exception": false,
     "start_time": "2020-12-07T13:40:02.005864",
     "status": "completed"
    },
    "tags": []
   },
   "outputs": [
    {
     "data": {
      "text/plain": [
       "(2, 158557)"
      ]
     },
     "execution_count": 9,
     "metadata": {},
     "output_type": "execute_result"
    }
   ],
   "source": [
    "min_class = -1\n",
    "min_amount = 1000000000\n",
    "for cs in counter_star:\n",
    "    if min_amount > counter_star[cs]:\n",
    "        min_amount = counter_star[cs]\n",
    "        min_class = cs\n",
    "min_class, min_amount"
   ]
  },
  {
   "cell_type": "code",
   "execution_count": 10,
   "metadata": {
    "execution": {
     "iopub.execute_input": "2020-12-07T13:40:02.116869Z",
     "iopub.status.busy": "2020-12-07T13:40:02.116013Z",
     "iopub.status.idle": "2020-12-07T13:40:02.121304Z",
     "shell.execute_reply": "2020-12-07T13:40:02.120745Z"
    },
    "papermill": {
     "duration": 0.042058,
     "end_time": "2020-12-07T13:40:02.121395",
     "exception": false,
     "start_time": "2020-12-07T13:40:02.079337",
     "status": "completed"
    },
    "tags": []
   },
   "outputs": [
    {
     "data": {
      "text/plain": [
       "{1: 153990, 5: 735443, 4: 264500, 3: 53281, 2: 0}"
      ]
     },
     "execution_count": 10,
     "metadata": {},
     "output_type": "execute_result"
    }
   ],
   "source": [
    "remove_amounts = {c: abs(min_amount - counter_star[c]) for c in counter_star}\n",
    "remove_amounts"
   ]
  },
  {
   "cell_type": "code",
   "execution_count": 11,
   "metadata": {
    "execution": {
     "iopub.execute_input": "2020-12-07T13:40:02.189865Z",
     "iopub.status.busy": "2020-12-07T13:40:02.189057Z",
     "iopub.status.idle": "2020-12-07T13:40:02.193247Z",
     "shell.execute_reply": "2020-12-07T13:40:02.193767Z"
    },
    "papermill": {
     "duration": 0.041385,
     "end_time": "2020-12-07T13:40:02.193887",
     "exception": false,
     "start_time": "2020-12-07T13:40:02.152502",
     "status": "completed"
    },
    "tags": []
   },
   "outputs": [
    {
     "data": {
      "text/plain": [
       "{1: 153989, 5: 735443, 4: 264500, 3: 53281, 2: 0}"
      ]
     },
     "execution_count": 11,
     "metadata": {},
     "output_type": "execute_result"
    }
   ],
   "source": [
    "remove_amounts[1] -= 1\n",
    "remove_amounts"
   ]
  },
  {
   "cell_type": "code",
   "execution_count": 12,
   "metadata": {
    "execution": {
     "iopub.execute_input": "2020-12-07T13:40:02.265271Z",
     "iopub.status.busy": "2020-12-07T13:40:02.264689Z",
     "iopub.status.idle": "2020-12-07T13:43:40.342971Z",
     "shell.execute_reply": "2020-12-07T13:43:40.341995Z"
    },
    "papermill": {
     "duration": 218.116609,
     "end_time": "2020-12-07T13:43:40.343093",
     "exception": false,
     "start_time": "2020-12-07T13:40:02.226484",
     "status": "completed"
    },
    "tags": []
   },
   "outputs": [
    {
     "name": "stdout",
     "output_type": "stream",
     "text": [
      "CPU times: user 3min 38s, sys: 43 ms, total: 3min 38s\n",
      "Wall time: 3min 38s\n"
     ]
    },
    {
     "data": {
      "text/plain": [
       "1207213"
      ]
     },
     "execution_count": 12,
     "metadata": {},
     "output_type": "execute_result"
    }
   ],
   "source": [
    "%%time\n",
    "drop_indices = []\n",
    "for index, row in simplified_reviews_pd.iterrows():\n",
    "    if remove_amounts[row['stars']] > 0:\n",
    "        remove_amounts[row['stars']] -= 1\n",
    "        drop_indices.append(index)\n",
    "len(drop_indices)"
   ]
  },
  {
   "cell_type": "code",
   "execution_count": 13,
   "metadata": {
    "execution": {
     "iopub.execute_input": "2020-12-07T13:43:40.519405Z",
     "iopub.status.busy": "2020-12-07T13:43:40.518468Z",
     "iopub.status.idle": "2020-12-07T13:43:40.627236Z",
     "shell.execute_reply": "2020-12-07T13:43:40.626582Z"
    },
    "papermill": {
     "duration": 0.249965,
     "end_time": "2020-12-07T13:43:40.627379",
     "exception": false,
     "start_time": "2020-12-07T13:43:40.377414",
     "status": "completed"
    },
    "tags": []
   },
   "outputs": [],
   "source": [
    "balanced_simplified_reviews = simplified_reviews_pd.drop(drop_indices)"
   ]
  },
  {
   "cell_type": "code",
   "execution_count": 14,
   "metadata": {
    "execution": {
     "iopub.execute_input": "2020-12-07T13:43:40.701126Z",
     "iopub.status.busy": "2020-12-07T13:43:40.700353Z",
     "iopub.status.idle": "2020-12-07T13:43:40.922946Z",
     "shell.execute_reply": "2020-12-07T13:43:40.920414Z"
    },
    "papermill": {
     "duration": 0.261389,
     "end_time": "2020-12-07T13:43:40.923157",
     "exception": false,
     "start_time": "2020-12-07T13:43:40.661768",
     "status": "completed"
    },
    "tags": []
   },
   "outputs": [
    {
     "data": {
      "text/plain": [
       "<matplotlib.axes._subplots.AxesSubplot at 0x7fdb8d477690>"
      ]
     },
     "execution_count": 14,
     "metadata": {},
     "output_type": "execute_result"
    },
    {
     "data": {
      "image/png": "[encoded data removed]",
      "text/plain": [
       "<Figure size 432x288 with 1 Axes>"
      ]
     },
     "metadata": {
      "needs_background": "light"
     },
     "output_type": "display_data"
    }
   ],
   "source": [
    "sns.countplot(balanced_simplified_reviews['stars'])"
   ]
  },
  {
   "cell_type": "code",
   "execution_count": 15,
   "metadata": {
    "execution": {
     "iopub.execute_input": "2020-12-07T13:43:41.005244Z",
     "iopub.status.busy": "2020-12-07T13:43:41.004347Z",
     "iopub.status.idle": "2020-12-07T13:43:41.013393Z",
     "shell.execute_reply": "2020-12-07T13:43:41.014133Z"
    },
    "papermill": {
     "duration": 0.05064,
     "end_time": "2020-12-07T13:43:41.014303",
     "exception": false,
     "start_time": "2020-12-07T13:43:40.963663",
     "status": "completed"
    },
    "tags": []
   },
   "outputs": [
    {
     "data": {
      "text/plain": [
       "array([2, 3, 1, 4, 5])"
      ]
     },
     "execution_count": 15,
     "metadata": {},
     "output_type": "execute_result"
    }
   ],
   "source": [
    "balanced_simplified_reviews['stars'].unique()"
   ]
  },
  {
   "cell_type": "code",
   "execution_count": 16,
   "metadata": {
    "execution": {
     "iopub.execute_input": "2020-12-07T13:43:41.127420Z",
     "iopub.status.busy": "2020-12-07T13:43:41.126737Z",
     "iopub.status.idle": "2020-12-07T13:43:41.142867Z",
     "shell.execute_reply": "2020-12-07T13:43:41.142214Z"
    },
    "papermill": {
     "duration": 0.074745,
     "end_time": "2020-12-07T13:43:41.142970",
     "exception": false,
     "start_time": "2020-12-07T13:43:41.068225",
     "status": "completed"
    },
    "tags": []
   },
   "outputs": [
    {
     "data": {
      "text/plain": [
       "1    158558\n",
       "5    158557\n",
       "4    158557\n",
       "3    158557\n",
       "2    158557\n",
       "Name: stars, dtype: int64"
      ]
     },
     "execution_count": 16,
     "metadata": {},
     "output_type": "execute_result"
    }
   ],
   "source": [
    "balanced_simplified_reviews['stars'].value_counts()"
   ]
  },
  {
   "cell_type": "code",
   "execution_count": 17,
   "metadata": {
    "execution": {
     "iopub.execute_input": "2020-12-07T13:43:41.343267Z",
     "iopub.status.busy": "2020-12-07T13:43:41.221899Z",
     "iopub.status.idle": "2020-12-07T13:43:41.354227Z",
     "shell.execute_reply": "2020-12-07T13:43:41.353304Z"
    },
    "papermill": {
     "duration": 0.174142,
     "end_time": "2020-12-07T13:43:41.354423",
     "exception": false,
     "start_time": "2020-12-07T13:43:41.180281",
     "status": "completed"
    },
    "tags": []
   },
   "outputs": [
    {
     "name": "stdout",
     "output_type": "stream",
     "text": [
      "<class 'pandas.core.frame.DataFrame'>\n",
      "Int64Index: 792786 entries, 31 to 1999998\n",
      "Data columns (total 2 columns):\n",
      " #   Column  Non-Null Count   Dtype \n",
      "---  ------  --------------   ----- \n",
      " 0   text    792786 non-null  object\n",
      " 1   stars   792786 non-null  int64 \n",
      "dtypes: int64(1), object(1)\n",
      "memory usage: 38.1+ MB\n"
     ]
    }
   ],
   "source": [
    "balanced_simplified_reviews.info()"
   ]
  },
  {
   "cell_type": "code",
   "execution_count": 18,
   "metadata": {
    "execution": {
     "iopub.execute_input": "2020-12-07T13:43:41.474850Z",
     "iopub.status.busy": "2020-12-07T13:43:41.471983Z",
     "iopub.status.idle": "2020-12-07T13:43:41.480161Z",
     "shell.execute_reply": "2020-12-07T13:43:41.479534Z"
    },
    "papermill": {
     "duration": 0.071062,
     "end_time": "2020-12-07T13:43:41.480267",
     "exception": false,
     "start_time": "2020-12-07T13:43:41.409205",
     "status": "completed"
    },
    "tags": []
   },
   "outputs": [
    {
     "data": {
      "text/html": [
       "<div>\n",
       "<style scoped>\n",
       "    .dataframe tbody tr th:only-of-type {\n",
       "        vertical-align: middle;\n",
       "    }\n",
       "\n",
       "    .dataframe tbody tr th {\n",
       "        vertical-align: top;\n",
       "    }\n",
       "\n",
       "    .dataframe thead th {\n",
       "        text-align: right;\n",
       "    }\n",
       "</style>\n",
       "<table border=\"1\" class=\"dataframe\">\n",
       "  <thead>\n",
       "    <tr style=\"text-align: right;\">\n",
       "      <th></th>\n",
       "      <th>text</th>\n",
       "      <th>stars</th>\n",
       "    </tr>\n",
       "  </thead>\n",
       "  <tbody>\n",
       "    <tr>\n",
       "      <th>31</th>\n",
       "      <td>This actually used to be one of my favorite ho...</td>\n",
       "      <td>2</td>\n",
       "    </tr>\n",
       "    <tr>\n",
       "      <th>62</th>\n",
       "      <td>Decent food. Fishermen lobster or even congee ...</td>\n",
       "      <td>2</td>\n",
       "    </tr>\n",
       "    <tr>\n",
       "      <th>77</th>\n",
       "      <td>Pros: Fun atmosphere, great for people watchin...</td>\n",
       "      <td>2</td>\n",
       "    </tr>\n",
       "    <tr>\n",
       "      <th>85</th>\n",
       "      <td>I love bookstores, and I love to spend some ti...</td>\n",
       "      <td>2</td>\n",
       "    </tr>\n",
       "    <tr>\n",
       "      <th>86</th>\n",
       "      <td>I passed Five Guys, In-N-Out, Carl's Jr, and S...</td>\n",
       "      <td>2</td>\n",
       "    </tr>\n",
       "    <tr>\n",
       "      <th>...</th>\n",
       "      <td>...</td>\n",
       "      <td>...</td>\n",
       "    </tr>\n",
       "    <tr>\n",
       "      <th>1999994</th>\n",
       "      <td>This place is excellent. I never knew about th...</td>\n",
       "      <td>5</td>\n",
       "    </tr>\n",
       "    <tr>\n",
       "      <th>1999995</th>\n",
       "      <td>An all-time favorite for me and my wife.  We g...</td>\n",
       "      <td>5</td>\n",
       "    </tr>\n",
       "    <tr>\n",
       "      <th>1999996</th>\n",
       "      <td>I have been coming here for over a year now fo...</td>\n",
       "      <td>5</td>\n",
       "    </tr>\n",
       "    <tr>\n",
       "      <th>1999997</th>\n",
       "      <td>Worst customer service on the planet! Came in ...</td>\n",
       "      <td>1</td>\n",
       "    </tr>\n",
       "    <tr>\n",
       "      <th>1999998</th>\n",
       "      <td>Thanks Dr. Nelson for helping me too feel bett...</td>\n",
       "      <td>5</td>\n",
       "    </tr>\n",
       "  </tbody>\n",
       "</table>\n",
       "<p>792786 rows × 2 columns</p>\n",
       "</div>"
      ],
      "text/plain": [
       "                                                      text  stars\n",
       "31       This actually used to be one of my favorite ho...      2\n",
       "62       Decent food. Fishermen lobster or even congee ...      2\n",
       "77       Pros: Fun atmosphere, great for people watchin...      2\n",
       "85       I love bookstores, and I love to spend some ti...      2\n",
       "86       I passed Five Guys, In-N-Out, Carl's Jr, and S...      2\n",
       "...                                                    ...    ...\n",
       "1999994  This place is excellent. I never knew about th...      5\n",
       "1999995  An all-time favorite for me and my wife.  We g...      5\n",
       "1999996  I have been coming here for over a year now fo...      5\n",
       "1999997  Worst customer service on the planet! Came in ...      1\n",
       "1999998  Thanks Dr. Nelson for helping me too feel bett...      5\n",
       "\n",
       "[792786 rows x 2 columns]"
      ]
     },
     "execution_count": 18,
     "metadata": {},
     "output_type": "execute_result"
    }
   ],
   "source": [
    "balanced_simplified_reviews"
   ]
  },
  {
   "cell_type": "code",
   "execution_count": 19,
   "metadata": {
    "execution": {
     "iopub.execute_input": "2020-12-07T13:43:41.562848Z",
     "iopub.status.busy": "2020-12-07T13:43:41.561882Z",
     "iopub.status.idle": "2020-12-07T13:43:42.623534Z",
     "shell.execute_reply": "2020-12-07T13:43:42.624063Z"
    },
    "papermill": {
     "duration": 1.106067,
     "end_time": "2020-12-07T13:43:42.624214",
     "exception": false,
     "start_time": "2020-12-07T13:43:41.518147",
     "status": "completed"
    },
    "tags": []
   },
   "outputs": [],
   "source": [
    "from gensim.parsing.preprocessing import STOPWORDS, strip_tags, strip_numeric, strip_punctuation, strip_multiple_whitespaces, remove_stopwords, strip_short, stem_text\n",
    "from nltk.corpus import stopwords\n",
    "import re"
   ]
  },
  {
   "cell_type": "code",
   "execution_count": 20,
   "metadata": {
    "collapsed": true,
    "execution": {
     "iopub.execute_input": "2020-12-07T13:43:42.728982Z",
     "iopub.status.busy": "2020-12-07T13:43:42.712728Z",
     "iopub.status.idle": "2020-12-07T13:43:42.781668Z",
     "shell.execute_reply": "2020-12-07T13:43:42.780953Z"
    },
    "papermill": {
     "duration": 0.120405,
     "end_time": "2020-12-07T13:43:42.781794",
     "exception": false,
     "start_time": "2020-12-07T13:43:42.661389",
     "status": "completed"
    },
    "tags": []
   },
   "outputs": [
    {
     "name": "stderr",
     "output_type": "stream",
     "text": [
      "/opt/conda/lib/python3.7/site-packages/ipykernel_launcher.py:3: SettingWithCopyWarning: \n",
      "A value is trying to be set on a copy of a slice from a DataFrame.\n",
      "Try using .loc[row_indexer,col_indexer] = value instead\n",
      "\n",
      "See the caveats in the documentation: https://pandas.pydata.org/pandas-docs/stable/user_guide/indexing.html#returning-a-view-versus-a-copy\n",
      "  This is separate from the ipykernel package so we can avoid doing imports until\n"
     ]
    },
    {
     "data": {
      "text/html": [
       "<div>\n",
       "<style scoped>\n",
       "    .dataframe tbody tr th:only-of-type {\n",
       "        vertical-align: middle;\n",
       "    }\n",
       "\n",
       "    .dataframe tbody tr th {\n",
       "        vertical-align: top;\n",
       "    }\n",
       "\n",
       "    .dataframe thead th {\n",
       "        text-align: right;\n",
       "    }\n",
       "</style>\n",
       "<table border=\"1\" class=\"dataframe\">\n",
       "  <thead>\n",
       "    <tr style=\"text-align: right;\">\n",
       "      <th></th>\n",
       "      <th>text</th>\n",
       "      <th>stars</th>\n",
       "    </tr>\n",
       "  </thead>\n",
       "  <tbody>\n",
       "    <tr>\n",
       "      <th>31</th>\n",
       "      <td>This actually used to be one of my favorite ho...</td>\n",
       "      <td>2</td>\n",
       "    </tr>\n",
       "    <tr>\n",
       "      <th>62</th>\n",
       "      <td>Decent food  Fishermen lobster or even congee ...</td>\n",
       "      <td>2</td>\n",
       "    </tr>\n",
       "    <tr>\n",
       "      <th>77</th>\n",
       "      <td>Pros  Fun atmosphere  great for people watchin...</td>\n",
       "      <td>2</td>\n",
       "    </tr>\n",
       "    <tr>\n",
       "      <th>85</th>\n",
       "      <td>I love bookstores  and I love to spend some ti...</td>\n",
       "      <td>2</td>\n",
       "    </tr>\n",
       "    <tr>\n",
       "      <th>86</th>\n",
       "      <td>I passed Five Guys  In N Out  Carl s Jr  and S...</td>\n",
       "      <td>2</td>\n",
       "    </tr>\n",
       "    <tr>\n",
       "      <th>...</th>\n",
       "      <td>...</td>\n",
       "      <td>...</td>\n",
       "    </tr>\n",
       "    <tr>\n",
       "      <th>2438</th>\n",
       "      <td>Cool spot for a night  as usual downtown is pr...</td>\n",
       "      <td>2</td>\n",
       "    </tr>\n",
       "    <tr>\n",
       "      <th>2451</th>\n",
       "      <td>Had to use up my 2 free nights for September a...</td>\n",
       "      <td>2</td>\n",
       "    </tr>\n",
       "    <tr>\n",
       "      <th>2453</th>\n",
       "      <td>Had an opportunity to eat at the breakfast buf...</td>\n",
       "      <td>2</td>\n",
       "    </tr>\n",
       "    <tr>\n",
       "      <th>2473</th>\n",
       "      <td>I think I ve been spoiled by eating delicious ...</td>\n",
       "      <td>2</td>\n",
       "    </tr>\n",
       "    <tr>\n",
       "      <th>2474</th>\n",
       "      <td>Ordered sushi for lunch take out  Was expectin...</td>\n",
       "      <td>2</td>\n",
       "    </tr>\n",
       "  </tbody>\n",
       "</table>\n",
       "<p>200 rows × 2 columns</p>\n",
       "</div>"
      ],
      "text/plain": [
       "                                                   text  stars\n",
       "31    This actually used to be one of my favorite ho...      2\n",
       "62    Decent food  Fishermen lobster or even congee ...      2\n",
       "77    Pros  Fun atmosphere  great for people watchin...      2\n",
       "85    I love bookstores  and I love to spend some ti...      2\n",
       "86    I passed Five Guys  In N Out  Carl s Jr  and S...      2\n",
       "...                                                 ...    ...\n",
       "2438  Cool spot for a night  as usual downtown is pr...      2\n",
       "2451  Had to use up my 2 free nights for September a...      2\n",
       "2453  Had an opportunity to eat at the breakfast buf...      2\n",
       "2473  I think I ve been spoiled by eating delicious ...      2\n",
       "2474  Ordered sushi for lunch take out  Was expectin...      2\n",
       "\n",
       "[200 rows x 2 columns]"
      ]
     },
     "execution_count": 20,
     "metadata": {},
     "output_type": "execute_result"
    }
   ],
   "source": [
    "clean_reviews0 = balanced_simplified_reviews[:200]\n",
    "for t in clean_reviews0:\n",
    "    clean_reviews0['text'] = clean_reviews0['text'].apply(lambda t: strip_punctuation(t))\n",
    "clean_reviews0"
   ]
  },
  {
   "cell_type": "code",
   "execution_count": 21,
   "metadata": {
    "execution": {
     "iopub.execute_input": "2020-12-07T13:43:42.871055Z",
     "iopub.status.busy": "2020-12-07T13:43:42.870135Z",
     "iopub.status.idle": "2020-12-07T13:49:44.484315Z",
     "shell.execute_reply": "2020-12-07T13:49:44.483580Z"
    },
    "papermill": {
     "duration": 361.664019,
     "end_time": "2020-12-07T13:49:44.484426",
     "exception": false,
     "start_time": "2020-12-07T13:43:42.820407",
     "status": "completed"
    },
    "tags": []
   },
   "outputs": [],
   "source": [
    "for r in balanced_simplified_reviews:\n",
    "    balanced_simplified_reviews['text'] = balanced_simplified_reviews['text'].apply(lambda t: strip_numeric(t))\n",
    "    balanced_simplified_reviews['text'] = balanced_simplified_reviews['text'].apply(lambda t: strip_punctuation(t))\n",
    "    balanced_simplified_reviews['text'] = balanced_simplified_reviews['text'].apply(lambda t: strip_multiple_whitespaces(t))\n",
    "    balanced_simplified_reviews['text'] = balanced_simplified_reviews['text'].apply(lambda t: t.lower())\n",
    "    balanced_simplified_reviews['text'] = balanced_simplified_reviews['text'].apply(lambda t: remove_stopwords(t))\n",
    "    balanced_simplified_reviews['text'] = balanced_simplified_reviews['text'].apply(lambda t: strip_short(t))"
   ]
  },
  {
   "cell_type": "code",
   "execution_count": 22,
   "metadata": {
    "execution": {
     "iopub.execute_input": "2020-12-07T13:49:44.577008Z",
     "iopub.status.busy": "2020-12-07T13:49:44.576352Z",
     "iopub.status.idle": "2020-12-07T13:49:44.581321Z",
     "shell.execute_reply": "2020-12-07T13:49:44.581889Z"
    },
    "papermill": {
     "duration": 0.058102,
     "end_time": "2020-12-07T13:49:44.582025",
     "exception": false,
     "start_time": "2020-12-07T13:49:44.523923",
     "status": "completed"
    },
    "tags": []
   },
   "outputs": [
    {
     "data": {
      "text/html": [
       "<div>\n",
       "<style scoped>\n",
       "    .dataframe tbody tr th:only-of-type {\n",
       "        vertical-align: middle;\n",
       "    }\n",
       "\n",
       "    .dataframe tbody tr th {\n",
       "        vertical-align: top;\n",
       "    }\n",
       "\n",
       "    .dataframe thead th {\n",
       "        text-align: right;\n",
       "    }\n",
       "</style>\n",
       "<table border=\"1\" class=\"dataframe\">\n",
       "  <thead>\n",
       "    <tr style=\"text-align: right;\">\n",
       "      <th></th>\n",
       "      <th>text</th>\n",
       "      <th>stars</th>\n",
       "    </tr>\n",
       "  </thead>\n",
       "  <tbody>\n",
       "    <tr>\n",
       "      <th>31</th>\n",
       "      <td>actually favorite hotel casinos day things cha...</td>\n",
       "      <td>2</td>\n",
       "    </tr>\n",
       "    <tr>\n",
       "      <th>62</th>\n",
       "      <td>decent food fishermen lobster congee queen bet...</td>\n",
       "      <td>2</td>\n",
       "    </tr>\n",
       "    <tr>\n",
       "      <th>77</th>\n",
       "      <td>pros fun atmosphere great people watching mech...</td>\n",
       "      <td>2</td>\n",
       "    </tr>\n",
       "    <tr>\n",
       "      <th>85</th>\n",
       "      <td>love bookstores love spend time browsing flipp...</td>\n",
       "      <td>2</td>\n",
       "    </tr>\n",
       "    <tr>\n",
       "      <th>86</th>\n",
       "      <td>passed guys carl sonic habit won happen know s...</td>\n",
       "      <td>2</td>\n",
       "    </tr>\n",
       "    <tr>\n",
       "      <th>...</th>\n",
       "      <td>...</td>\n",
       "      <td>...</td>\n",
       "    </tr>\n",
       "    <tr>\n",
       "      <th>1999994</th>\n",
       "      <td>place excellent knew hole wall family came tow...</td>\n",
       "      <td>5</td>\n",
       "    </tr>\n",
       "    <tr>\n",
       "      <th>1999995</th>\n",
       "      <td>time favorite wife weekly love martinis love s...</td>\n",
       "      <td>5</td>\n",
       "    </tr>\n",
       "    <tr>\n",
       "      <th>1999996</th>\n",
       "      <td>coming year brazilian waxes absolutely love pl...</td>\n",
       "      <td>5</td>\n",
       "    </tr>\n",
       "    <tr>\n",
       "      <th>1999997</th>\n",
       "      <td>worst customer service planet came pick cake r...</td>\n",
       "      <td>1</td>\n",
       "    </tr>\n",
       "    <tr>\n",
       "      <th>1999998</th>\n",
       "      <td>thanks nelson helping feel better truly amazin...</td>\n",
       "      <td>5</td>\n",
       "    </tr>\n",
       "  </tbody>\n",
       "</table>\n",
       "<p>792786 rows × 2 columns</p>\n",
       "</div>"
      ],
      "text/plain": [
       "                                                      text  stars\n",
       "31       actually favorite hotel casinos day things cha...      2\n",
       "62       decent food fishermen lobster congee queen bet...      2\n",
       "77       pros fun atmosphere great people watching mech...      2\n",
       "85       love bookstores love spend time browsing flipp...      2\n",
       "86       passed guys carl sonic habit won happen know s...      2\n",
       "...                                                    ...    ...\n",
       "1999994  place excellent knew hole wall family came tow...      5\n",
       "1999995  time favorite wife weekly love martinis love s...      5\n",
       "1999996  coming year brazilian waxes absolutely love pl...      5\n",
       "1999997  worst customer service planet came pick cake r...      1\n",
       "1999998  thanks nelson helping feel better truly amazin...      5\n",
       "\n",
       "[792786 rows x 2 columns]"
      ]
     },
     "execution_count": 22,
     "metadata": {},
     "output_type": "execute_result"
    }
   ],
   "source": [
    "balanced_simplified_reviews"
   ]
  },
  {
   "cell_type": "code",
   "execution_count": 23,
   "metadata": {
    "execution": {
     "iopub.execute_input": "2020-12-07T13:49:45.555979Z",
     "iopub.status.busy": "2020-12-07T13:49:44.664920Z",
     "iopub.status.idle": "2020-12-07T13:49:46.119630Z",
     "shell.execute_reply": "2020-12-07T13:49:46.118943Z"
    },
    "papermill": {
     "duration": 1.498094,
     "end_time": "2020-12-07T13:49:46.119738",
     "exception": false,
     "start_time": "2020-12-07T13:49:44.621644",
     "status": "completed"
    },
    "tags": []
   },
   "outputs": [],
   "source": [
    "balanced_simplified_reviews.to_pickle('./balanced_cleaned_reviews_full.pkl')"
   ]
  },
  {
   "cell_type": "code",
   "execution_count": 24,
   "metadata": {
    "execution": {
     "iopub.execute_input": "2020-12-07T13:49:46.205957Z",
     "iopub.status.busy": "2020-12-07T13:49:46.205143Z",
     "iopub.status.idle": "2020-12-07T13:49:46.221585Z",
     "shell.execute_reply": "2020-12-07T13:49:46.220909Z"
    },
    "papermill": {
     "duration": 0.062724,
     "end_time": "2020-12-07T13:49:46.221695",
     "exception": false,
     "start_time": "2020-12-07T13:49:46.158971",
     "status": "completed"
    },
    "tags": []
   },
   "outputs": [
    {
     "data": {
      "text/html": [
       "<div>\n",
       "<style scoped>\n",
       "    .dataframe tbody tr th:only-of-type {\n",
       "        vertical-align: middle;\n",
       "    }\n",
       "\n",
       "    .dataframe tbody tr th {\n",
       "        vertical-align: top;\n",
       "    }\n",
       "\n",
       "    .dataframe thead th {\n",
       "        text-align: right;\n",
       "    }\n",
       "</style>\n",
       "<table border=\"1\" class=\"dataframe\">\n",
       "  <thead>\n",
       "    <tr style=\"text-align: right;\">\n",
       "      <th></th>\n",
       "      <th>text</th>\n",
       "      <th>stars</th>\n",
       "    </tr>\n",
       "  </thead>\n",
       "  <tbody>\n",
       "    <tr>\n",
       "      <th>31</th>\n",
       "      <td>actually favorite hotel casinos day things cha...</td>\n",
       "      <td>1</td>\n",
       "    </tr>\n",
       "    <tr>\n",
       "      <th>62</th>\n",
       "      <td>decent food fishermen lobster congee queen bet...</td>\n",
       "      <td>1</td>\n",
       "    </tr>\n",
       "    <tr>\n",
       "      <th>77</th>\n",
       "      <td>pros fun atmosphere great people watching mech...</td>\n",
       "      <td>1</td>\n",
       "    </tr>\n",
       "    <tr>\n",
       "      <th>85</th>\n",
       "      <td>love bookstores love spend time browsing flipp...</td>\n",
       "      <td>1</td>\n",
       "    </tr>\n",
       "    <tr>\n",
       "      <th>86</th>\n",
       "      <td>passed guys carl sonic habit won happen know s...</td>\n",
       "      <td>1</td>\n",
       "    </tr>\n",
       "    <tr>\n",
       "      <th>...</th>\n",
       "      <td>...</td>\n",
       "      <td>...</td>\n",
       "    </tr>\n",
       "    <tr>\n",
       "      <th>1999994</th>\n",
       "      <td>place excellent knew hole wall family came tow...</td>\n",
       "      <td>4</td>\n",
       "    </tr>\n",
       "    <tr>\n",
       "      <th>1999995</th>\n",
       "      <td>time favorite wife weekly love martinis love s...</td>\n",
       "      <td>4</td>\n",
       "    </tr>\n",
       "    <tr>\n",
       "      <th>1999996</th>\n",
       "      <td>coming year brazilian waxes absolutely love pl...</td>\n",
       "      <td>4</td>\n",
       "    </tr>\n",
       "    <tr>\n",
       "      <th>1999997</th>\n",
       "      <td>worst customer service planet came pick cake r...</td>\n",
       "      <td>0</td>\n",
       "    </tr>\n",
       "    <tr>\n",
       "      <th>1999998</th>\n",
       "      <td>thanks nelson helping feel better truly amazin...</td>\n",
       "      <td>4</td>\n",
       "    </tr>\n",
       "  </tbody>\n",
       "</table>\n",
       "<p>792786 rows × 2 columns</p>\n",
       "</div>"
      ],
      "text/plain": [
       "                                                      text  stars\n",
       "31       actually favorite hotel casinos day things cha...      1\n",
       "62       decent food fishermen lobster congee queen bet...      1\n",
       "77       pros fun atmosphere great people watching mech...      1\n",
       "85       love bookstores love spend time browsing flipp...      1\n",
       "86       passed guys carl sonic habit won happen know s...      1\n",
       "...                                                    ...    ...\n",
       "1999994  place excellent knew hole wall family came tow...      4\n",
       "1999995  time favorite wife weekly love martinis love s...      4\n",
       "1999996  coming year brazilian waxes absolutely love pl...      4\n",
       "1999997  worst customer service planet came pick cake r...      0\n",
       "1999998  thanks nelson helping feel better truly amazin...      4\n",
       "\n",
       "[792786 rows x 2 columns]"
      ]
     },
     "execution_count": 24,
     "metadata": {},
     "output_type": "execute_result"
    }
   ],
   "source": [
    "balanced_simplified_reviews['stars'] = balanced_simplified_reviews['stars'] - 1\n",
    "balanced_simplified_reviews"
   ]
  },
  {
   "cell_type": "code",
   "execution_count": 25,
   "metadata": {
    "execution": {
     "iopub.execute_input": "2020-12-07T13:49:46.309184Z",
     "iopub.status.busy": "2020-12-07T13:49:46.308353Z",
     "iopub.status.idle": "2020-12-07T13:49:46.317459Z",
     "shell.execute_reply": "2020-12-07T13:49:46.318151Z"
    },
    "papermill": {
     "duration": 0.055915,
     "end_time": "2020-12-07T13:49:46.318309",
     "exception": false,
     "start_time": "2020-12-07T13:49:46.262394",
     "status": "completed"
    },
    "tags": []
   },
   "outputs": [
    {
     "data": {
      "text/plain": [
       "array([1, 2, 0, 3, 4])"
      ]
     },
     "execution_count": 25,
     "metadata": {},
     "output_type": "execute_result"
    }
   ],
   "source": [
    "balanced_simplified_reviews['stars'].unique()"
   ]
  },
  {
   "cell_type": "code",
   "execution_count": 26,
   "metadata": {
    "execution": {
     "iopub.execute_input": "2020-12-07T13:49:46.445090Z",
     "iopub.status.busy": "2020-12-07T13:49:46.444255Z",
     "iopub.status.idle": "2020-12-07T13:49:46.452431Z",
     "shell.execute_reply": "2020-12-07T13:49:46.451769Z"
    },
    "papermill": {
     "duration": 0.074179,
     "end_time": "2020-12-07T13:49:46.452590",
     "exception": false,
     "start_time": "2020-12-07T13:49:46.378411",
     "status": "completed"
    },
    "tags": []
   },
   "outputs": [],
   "source": [
    "NUM_CLASSES = len(balanced_simplified_reviews['stars'].unique())"
   ]
  },
  {
   "cell_type": "code",
   "execution_count": 27,
   "metadata": {
    "execution": {
     "iopub.execute_input": "2020-12-07T13:49:46.683889Z",
     "iopub.status.busy": "2020-12-07T13:49:46.683012Z",
     "iopub.status.idle": "2020-12-07T13:49:47.213732Z",
     "shell.execute_reply": "2020-12-07T13:49:47.212878Z"
    },
    "papermill": {
     "duration": 0.701489,
     "end_time": "2020-12-07T13:49:47.213859",
     "exception": false,
     "start_time": "2020-12-07T13:49:46.512370",
     "status": "completed"
    },
    "tags": []
   },
   "outputs": [
    {
     "data": {
      "text/plain": [
       "31         1768\n",
       "62          153\n",
       "77          241\n",
       "85          516\n",
       "86          139\n",
       "           ... \n",
       "1999994     331\n",
       "1999995      66\n",
       "1999996     299\n",
       "1999997     297\n",
       "1999998     154\n",
       "Name: text, Length: 792786, dtype: int64"
      ]
     },
     "execution_count": 27,
     "metadata": {},
     "output_type": "execute_result"
    }
   ],
   "source": [
    "balanced_simplified_reviews['text'].str.len()"
   ]
  },
  {
   "cell_type": "code",
   "execution_count": 28,
   "metadata": {
    "execution": {
     "iopub.execute_input": "2020-12-07T13:49:47.344917Z",
     "iopub.status.busy": "2020-12-07T13:49:47.343027Z",
     "iopub.status.idle": "2020-12-07T13:49:47.347786Z",
     "shell.execute_reply": "2020-12-07T13:49:47.348506Z"
    },
    "papermill": {
     "duration": 0.073085,
     "end_time": "2020-12-07T13:49:47.348684",
     "exception": false,
     "start_time": "2020-12-07T13:49:47.275599",
     "status": "completed"
    },
    "tags": []
   },
   "outputs": [
    {
     "name": "stdout",
     "output_type": "stream",
     "text": [
      "passed guys carl sonic habit won happen know stars coming burger tasted like unseasoned sonic burger overpriced guys customer service great\n"
     ]
    }
   ],
   "source": [
    "print(balanced_simplified_reviews['text'][86])"
   ]
  },
  {
   "cell_type": "code",
   "execution_count": 29,
   "metadata": {
    "execution": {
     "iopub.execute_input": "2020-12-07T13:49:47.477600Z",
     "iopub.status.busy": "2020-12-07T13:49:47.476680Z",
     "iopub.status.idle": "2020-12-07T13:49:47.480986Z",
     "shell.execute_reply": "2020-12-07T13:49:47.480363Z"
    },
    "papermill": {
     "duration": 0.070985,
     "end_time": "2020-12-07T13:49:47.481103",
     "exception": false,
     "start_time": "2020-12-07T13:49:47.410118",
     "status": "completed"
    },
    "tags": []
   },
   "outputs": [],
   "source": [
    "def count_tokens(df):\n",
    "    df['text_len'] = df['text'].apply(lambda t : len(t))\n",
    "    return df"
   ]
  },
  {
   "cell_type": "code",
   "execution_count": 30,
   "metadata": {
    "execution": {
     "iopub.execute_input": "2020-12-07T13:49:47.571648Z",
     "iopub.status.busy": "2020-12-07T13:49:47.570960Z",
     "iopub.status.idle": "2020-12-07T13:49:48.394151Z",
     "shell.execute_reply": "2020-12-07T13:49:48.393508Z"
    },
    "papermill": {
     "duration": 0.870025,
     "end_time": "2020-12-07T13:49:48.394257",
     "exception": false,
     "start_time": "2020-12-07T13:49:47.524232",
     "status": "completed"
    },
    "tags": []
   },
   "outputs": [],
   "source": [
    "b_sim_reviews = balanced_simplified_reviews.copy()\n",
    "b_sim_reviews = count_tokens(b_sim_reviews)"
   ]
  },
  {
   "cell_type": "code",
   "execution_count": 31,
   "metadata": {
    "execution": {
     "iopub.execute_input": "2020-12-07T13:49:48.658831Z",
     "iopub.status.busy": "2020-12-07T13:49:48.658171Z",
     "iopub.status.idle": "2020-12-07T13:49:50.223726Z",
     "shell.execute_reply": "2020-12-07T13:49:50.222683Z"
    },
    "papermill": {
     "duration": 1.788479,
     "end_time": "2020-12-07T13:49:50.223855",
     "exception": false,
     "start_time": "2020-12-07T13:49:48.435376",
     "status": "completed"
    },
    "tags": []
   },
   "outputs": [
    {
     "data": {
      "text/plain": [
       "<matplotlib.axes._subplots.AxesSubplot at 0x7fdb6c688a90>"
      ]
     },
     "execution_count": 31,
     "metadata": {},
     "output_type": "execute_result"
    },
    {
     "data": {
      "image/png": "[encoded data removed]",
      "text/plain": [
       "<Figure size 432x288 with 1 Axes>"
      ]
     },
     "metadata": {
      "needs_background": "light"
     },
     "output_type": "display_data"
    }
   ],
   "source": [
    "\n",
    "sns.distplot(balanced_simplified_reviews['text'].str.len())"
   ]
  },
  {
   "cell_type": "code",
   "execution_count": null,
   "metadata": {
    "papermill": {
     "duration": 0.062649,
     "end_time": "2020-12-07T13:49:50.350147",
     "exception": false,
     "start_time": "2020-12-07T13:49:50.287498",
     "status": "completed"
    },
    "tags": []
   },
   "outputs": [],
   "source": []
  }
 ],
 "metadata": {
  "kernelspec": {
   "display_name": "Python 3",
   "language": "python",
   "name": "python3"
  },
  "language_info": {
   "codemirror_mode": {
    "name": "ipython",
    "version": 3
   },
   "file_extension": ".py",
   "mimetype": "text/x-python",
   "name": "python",
   "nbconvert_exporter": "python",
   "pygments_lexer": "ipython3",
   "version": "3.7.6"
  },
  "papermill": {
   "duration": 666.012263,
   "end_time": "2020-12-07T13:49:50.621921",
   "environment_variables": {},
   "exception": null,
   "input_path": "__notebook__.ipynb",
   "output_path": "__notebook__.ipynb",
   "parameters": {},
   "start_time": "2020-12-07T13:38:44.609658",
   "version": "2.1.0"
  }
 },
 "nbformat": 4,
 "nbformat_minor": 4
}
