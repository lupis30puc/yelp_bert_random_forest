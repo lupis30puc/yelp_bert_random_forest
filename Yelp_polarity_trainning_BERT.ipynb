{
  "nbformat": 4,
  "nbformat_minor": 0,
  "metadata": {
    "colab": {
      "name": "Yelp-polarity-trainning_BERT.ipynb",
      "provenance": [],
      "collapsed_sections": [],
      "authorship_tag": "ABX9TyPA3iCtZjKB7744Adj62Zc9",
      "include_colab_link": true
    },
    "kernelspec": {
      "name": "python3",
      "display_name": "Python 3"
    },
    "accelerator": "GPU",
    "widgets": {
      "application/vnd.jupyter.widget-state+json": {
        "6359bc39151d4e648a332bb45b237566": {
          "model_module": "@jupyter-widgets/controls",
          "model_name": "HBoxModel",
          "state": {
            "_view_name": "HBoxView",
            "_dom_classes": [],
            "_model_name": "HBoxModel",
            "_view_module": "@jupyter-widgets/controls",
            "_model_module_version": "1.5.0",
            "_view_count": null,
            "_view_module_version": "1.5.0",
            "box_style": "",
            "layout": "IPY_MODEL_4393681fb8eb4a14aad7be24d8db0542",
            "_model_module": "@jupyter-widgets/controls",
            "children": [
              "IPY_MODEL_8cd4330226a445d88427123e22ed0ffa",
              "IPY_MODEL_5b2b8925db1e4431a7913deda012567a"
            ]
          }
        },
        "4393681fb8eb4a14aad7be24d8db0542": {
          "model_module": "@jupyter-widgets/base",
          "model_name": "LayoutModel",
          "state": {
            "_view_name": "LayoutView",
            "grid_template_rows": null,
            "right": null,
            "justify_content": null,
            "_view_module": "@jupyter-widgets/base",
            "overflow": null,
            "_model_module_version": "1.2.0",
            "_view_count": null,
            "flex_flow": null,
            "width": null,
            "min_width": null,
            "border": null,
            "align_items": null,
            "bottom": null,
            "_model_module": "@jupyter-widgets/base",
            "top": null,
            "grid_column": null,
            "overflow_y": null,
            "overflow_x": null,
            "grid_auto_flow": null,
            "grid_area": null,
            "grid_template_columns": null,
            "flex": null,
            "_model_name": "LayoutModel",
            "justify_items": null,
            "grid_row": null,
            "max_height": null,
            "align_content": null,
            "visibility": null,
            "align_self": null,
            "height": null,
            "min_height": null,
            "padding": null,
            "grid_auto_rows": null,
            "grid_gap": null,
            "max_width": null,
            "order": null,
            "_view_module_version": "1.2.0",
            "grid_template_areas": null,
            "object_position": null,
            "object_fit": null,
            "grid_auto_columns": null,
            "margin": null,
            "display": null,
            "left": null
          }
        },
        "8cd4330226a445d88427123e22ed0ffa": {
          "model_module": "@jupyter-widgets/controls",
          "model_name": "FloatProgressModel",
          "state": {
            "_view_name": "ProgressView",
            "style": "IPY_MODEL_b301758eaa684f4ba2159c1cfc2e6c2b",
            "_dom_classes": [],
            "description": "Downloading: 100%",
            "_model_name": "FloatProgressModel",
            "bar_style": "success",
            "max": 231508,
            "_view_module": "@jupyter-widgets/controls",
            "_model_module_version": "1.5.0",
            "value": 231508,
            "_view_count": null,
            "_view_module_version": "1.5.0",
            "orientation": "horizontal",
            "min": 0,
            "description_tooltip": null,
            "_model_module": "@jupyter-widgets/controls",
            "layout": "IPY_MODEL_d2f3fb7e54324cf494aff15b40326248"
          }
        },
        "5b2b8925db1e4431a7913deda012567a": {
          "model_module": "@jupyter-widgets/controls",
          "model_name": "HTMLModel",
          "state": {
            "_view_name": "HTMLView",
            "style": "IPY_MODEL_4f15c3357ddb4f9d82d9984153b52ba4",
            "_dom_classes": [],
            "description": "",
            "_model_name": "HTMLModel",
            "placeholder": "​",
            "_view_module": "@jupyter-widgets/controls",
            "_model_module_version": "1.5.0",
            "value": " 232k/232k [00:00&lt;00:00, 306kB/s]",
            "_view_count": null,
            "_view_module_version": "1.5.0",
            "description_tooltip": null,
            "_model_module": "@jupyter-widgets/controls",
            "layout": "IPY_MODEL_bbcf29eabf424c2394557662bf3cf7ff"
          }
        },
        "b301758eaa684f4ba2159c1cfc2e6c2b": {
          "model_module": "@jupyter-widgets/controls",
          "model_name": "ProgressStyleModel",
          "state": {
            "_view_name": "StyleView",
            "_model_name": "ProgressStyleModel",
            "description_width": "initial",
            "_view_module": "@jupyter-widgets/base",
            "_model_module_version": "1.5.0",
            "_view_count": null,
            "_view_module_version": "1.2.0",
            "bar_color": null,
            "_model_module": "@jupyter-widgets/controls"
          }
        },
        "d2f3fb7e54324cf494aff15b40326248": {
          "model_module": "@jupyter-widgets/base",
          "model_name": "LayoutModel",
          "state": {
            "_view_name": "LayoutView",
            "grid_template_rows": null,
            "right": null,
            "justify_content": null,
            "_view_module": "@jupyter-widgets/base",
            "overflow": null,
            "_model_module_version": "1.2.0",
            "_view_count": null,
            "flex_flow": null,
            "width": null,
            "min_width": null,
            "border": null,
            "align_items": null,
            "bottom": null,
            "_model_module": "@jupyter-widgets/base",
            "top": null,
            "grid_column": null,
            "overflow_y": null,
            "overflow_x": null,
            "grid_auto_flow": null,
            "grid_area": null,
            "grid_template_columns": null,
            "flex": null,
            "_model_name": "LayoutModel",
            "justify_items": null,
            "grid_row": null,
            "max_height": null,
            "align_content": null,
            "visibility": null,
            "align_self": null,
            "height": null,
            "min_height": null,
            "padding": null,
            "grid_auto_rows": null,
            "grid_gap": null,
            "max_width": null,
            "order": null,
            "_view_module_version": "1.2.0",
            "grid_template_areas": null,
            "object_position": null,
            "object_fit": null,
            "grid_auto_columns": null,
            "margin": null,
            "display": null,
            "left": null
          }
        },
        "4f15c3357ddb4f9d82d9984153b52ba4": {
          "model_module": "@jupyter-widgets/controls",
          "model_name": "DescriptionStyleModel",
          "state": {
            "_view_name": "StyleView",
            "_model_name": "DescriptionStyleModel",
            "description_width": "",
            "_view_module": "@jupyter-widgets/base",
            "_model_module_version": "1.5.0",
            "_view_count": null,
            "_view_module_version": "1.2.0",
            "_model_module": "@jupyter-widgets/controls"
          }
        },
        "bbcf29eabf424c2394557662bf3cf7ff": {
          "model_module": "@jupyter-widgets/base",
          "model_name": "LayoutModel",
          "state": {
            "_view_name": "LayoutView",
            "grid_template_rows": null,
            "right": null,
            "justify_content": null,
            "_view_module": "@jupyter-widgets/base",
            "overflow": null,
            "_model_module_version": "1.2.0",
            "_view_count": null,
            "flex_flow": null,
            "width": null,
            "min_width": null,
            "border": null,
            "align_items": null,
            "bottom": null,
            "_model_module": "@jupyter-widgets/base",
            "top": null,
            "grid_column": null,
            "overflow_y": null,
            "overflow_x": null,
            "grid_auto_flow": null,
            "grid_area": null,
            "grid_template_columns": null,
            "flex": null,
            "_model_name": "LayoutModel",
            "justify_items": null,
            "grid_row": null,
            "max_height": null,
            "align_content": null,
            "visibility": null,
            "align_self": null,
            "height": null,
            "min_height": null,
            "padding": null,
            "grid_auto_rows": null,
            "grid_gap": null,
            "max_width": null,
            "order": null,
            "_view_module_version": "1.2.0",
            "grid_template_areas": null,
            "object_position": null,
            "object_fit": null,
            "grid_auto_columns": null,
            "margin": null,
            "display": null,
            "left": null
          }
        },
        "ef20f28043fe4a43a3dbbb8cf0dea80c": {
          "model_module": "@jupyter-widgets/controls",
          "model_name": "HBoxModel",
          "state": {
            "_view_name": "HBoxView",
            "_dom_classes": [],
            "_model_name": "HBoxModel",
            "_view_module": "@jupyter-widgets/controls",
            "_model_module_version": "1.5.0",
            "_view_count": null,
            "_view_module_version": "1.5.0",
            "box_style": "",
            "layout": "IPY_MODEL_6f9cfc6da74349808fbffe6aa52b0cc3",
            "_model_module": "@jupyter-widgets/controls",
            "children": [
              "IPY_MODEL_d3d5871c146642e8a9e9a14e08437a98",
              "IPY_MODEL_2acc601aa07a47828dafa947440313e1"
            ]
          }
        },
        "6f9cfc6da74349808fbffe6aa52b0cc3": {
          "model_module": "@jupyter-widgets/base",
          "model_name": "LayoutModel",
          "state": {
            "_view_name": "LayoutView",
            "grid_template_rows": null,
            "right": null,
            "justify_content": null,
            "_view_module": "@jupyter-widgets/base",
            "overflow": null,
            "_model_module_version": "1.2.0",
            "_view_count": null,
            "flex_flow": null,
            "width": null,
            "min_width": null,
            "border": null,
            "align_items": null,
            "bottom": null,
            "_model_module": "@jupyter-widgets/base",
            "top": null,
            "grid_column": null,
            "overflow_y": null,
            "overflow_x": null,
            "grid_auto_flow": null,
            "grid_area": null,
            "grid_template_columns": null,
            "flex": null,
            "_model_name": "LayoutModel",
            "justify_items": null,
            "grid_row": null,
            "max_height": null,
            "align_content": null,
            "visibility": null,
            "align_self": null,
            "height": null,
            "min_height": null,
            "padding": null,
            "grid_auto_rows": null,
            "grid_gap": null,
            "max_width": null,
            "order": null,
            "_view_module_version": "1.2.0",
            "grid_template_areas": null,
            "object_position": null,
            "object_fit": null,
            "grid_auto_columns": null,
            "margin": null,
            "display": null,
            "left": null
          }
        },
        "d3d5871c146642e8a9e9a14e08437a98": {
          "model_module": "@jupyter-widgets/controls",
          "model_name": "FloatProgressModel",
          "state": {
            "_view_name": "ProgressView",
            "style": "IPY_MODEL_368aad03e57641d1b0507d7a6f42069c",
            "_dom_classes": [],
            "description": "Downloading: 100%",
            "_model_name": "FloatProgressModel",
            "bar_style": "success",
            "max": 433,
            "_view_module": "@jupyter-widgets/controls",
            "_model_module_version": "1.5.0",
            "value": 433,
            "_view_count": null,
            "_view_module_version": "1.5.0",
            "orientation": "horizontal",
            "min": 0,
            "description_tooltip": null,
            "_model_module": "@jupyter-widgets/controls",
            "layout": "IPY_MODEL_4c1137f942564feda048247303e692bc"
          }
        },
        "2acc601aa07a47828dafa947440313e1": {
          "model_module": "@jupyter-widgets/controls",
          "model_name": "HTMLModel",
          "state": {
            "_view_name": "HTMLView",
            "style": "IPY_MODEL_25ad9392048b42b78ac5287b0133b114",
            "_dom_classes": [],
            "description": "",
            "_model_name": "HTMLModel",
            "placeholder": "​",
            "_view_module": "@jupyter-widgets/controls",
            "_model_module_version": "1.5.0",
            "value": " 433/433 [00:00&lt;00:00, 463B/s]",
            "_view_count": null,
            "_view_module_version": "1.5.0",
            "description_tooltip": null,
            "_model_module": "@jupyter-widgets/controls",
            "layout": "IPY_MODEL_db76a6b702044dc28b8da3e4b7277380"
          }
        },
        "368aad03e57641d1b0507d7a6f42069c": {
          "model_module": "@jupyter-widgets/controls",
          "model_name": "ProgressStyleModel",
          "state": {
            "_view_name": "StyleView",
            "_model_name": "ProgressStyleModel",
            "description_width": "initial",
            "_view_module": "@jupyter-widgets/base",
            "_model_module_version": "1.5.0",
            "_view_count": null,
            "_view_module_version": "1.2.0",
            "bar_color": null,
            "_model_module": "@jupyter-widgets/controls"
          }
        },
        "4c1137f942564feda048247303e692bc": {
          "model_module": "@jupyter-widgets/base",
          "model_name": "LayoutModel",
          "state": {
            "_view_name": "LayoutView",
            "grid_template_rows": null,
            "right": null,
            "justify_content": null,
            "_view_module": "@jupyter-widgets/base",
            "overflow": null,
            "_model_module_version": "1.2.0",
            "_view_count": null,
            "flex_flow": null,
            "width": null,
            "min_width": null,
            "border": null,
            "align_items": null,
            "bottom": null,
            "_model_module": "@jupyter-widgets/base",
            "top": null,
            "grid_column": null,
            "overflow_y": null,
            "overflow_x": null,
            "grid_auto_flow": null,
            "grid_area": null,
            "grid_template_columns": null,
            "flex": null,
            "_model_name": "LayoutModel",
            "justify_items": null,
            "grid_row": null,
            "max_height": null,
            "align_content": null,
            "visibility": null,
            "align_self": null,
            "height": null,
            "min_height": null,
            "padding": null,
            "grid_auto_rows": null,
            "grid_gap": null,
            "max_width": null,
            "order": null,
            "_view_module_version": "1.2.0",
            "grid_template_areas": null,
            "object_position": null,
            "object_fit": null,
            "grid_auto_columns": null,
            "margin": null,
            "display": null,
            "left": null
          }
        },
        "25ad9392048b42b78ac5287b0133b114": {
          "model_module": "@jupyter-widgets/controls",
          "model_name": "DescriptionStyleModel",
          "state": {
            "_view_name": "StyleView",
            "_model_name": "DescriptionStyleModel",
            "description_width": "",
            "_view_module": "@jupyter-widgets/base",
            "_model_module_version": "1.5.0",
            "_view_count": null,
            "_view_module_version": "1.2.0",
            "_model_module": "@jupyter-widgets/controls"
          }
        },
        "db76a6b702044dc28b8da3e4b7277380": {
          "model_module": "@jupyter-widgets/base",
          "model_name": "LayoutModel",
          "state": {
            "_view_name": "LayoutView",
            "grid_template_rows": null,
            "right": null,
            "justify_content": null,
            "_view_module": "@jupyter-widgets/base",
            "overflow": null,
            "_model_module_version": "1.2.0",
            "_view_count": null,
            "flex_flow": null,
            "width": null,
            "min_width": null,
            "border": null,
            "align_items": null,
            "bottom": null,
            "_model_module": "@jupyter-widgets/base",
            "top": null,
            "grid_column": null,
            "overflow_y": null,
            "overflow_x": null,
            "grid_auto_flow": null,
            "grid_area": null,
            "grid_template_columns": null,
            "flex": null,
            "_model_name": "LayoutModel",
            "justify_items": null,
            "grid_row": null,
            "max_height": null,
            "align_content": null,
            "visibility": null,
            "align_self": null,
            "height": null,
            "min_height": null,
            "padding": null,
            "grid_auto_rows": null,
            "grid_gap": null,
            "max_width": null,
            "order": null,
            "_view_module_version": "1.2.0",
            "grid_template_areas": null,
            "object_position": null,
            "object_fit": null,
            "grid_auto_columns": null,
            "margin": null,
            "display": null,
            "left": null
          }
        },
        "52b7f3cef47947e39242c8b1a80332c9": {
          "model_module": "@jupyter-widgets/controls",
          "model_name": "HBoxModel",
          "state": {
            "_view_name": "HBoxView",
            "_dom_classes": [],
            "_model_name": "HBoxModel",
            "_view_module": "@jupyter-widgets/controls",
            "_model_module_version": "1.5.0",
            "_view_count": null,
            "_view_module_version": "1.5.0",
            "box_style": "",
            "layout": "IPY_MODEL_eeb79f2e4e75419b8512b7dc0d24722e",
            "_model_module": "@jupyter-widgets/controls",
            "children": [
              "IPY_MODEL_72fe12ad97bd4632a1171648d5c6fc6a",
              "IPY_MODEL_7150f05b642c425299fee826e86eae6a"
            ]
          }
        },
        "eeb79f2e4e75419b8512b7dc0d24722e": {
          "model_module": "@jupyter-widgets/base",
          "model_name": "LayoutModel",
          "state": {
            "_view_name": "LayoutView",
            "grid_template_rows": null,
            "right": null,
            "justify_content": null,
            "_view_module": "@jupyter-widgets/base",
            "overflow": null,
            "_model_module_version": "1.2.0",
            "_view_count": null,
            "flex_flow": null,
            "width": null,
            "min_width": null,
            "border": null,
            "align_items": null,
            "bottom": null,
            "_model_module": "@jupyter-widgets/base",
            "top": null,
            "grid_column": null,
            "overflow_y": null,
            "overflow_x": null,
            "grid_auto_flow": null,
            "grid_area": null,
            "grid_template_columns": null,
            "flex": null,
            "_model_name": "LayoutModel",
            "justify_items": null,
            "grid_row": null,
            "max_height": null,
            "align_content": null,
            "visibility": null,
            "align_self": null,
            "height": null,
            "min_height": null,
            "padding": null,
            "grid_auto_rows": null,
            "grid_gap": null,
            "max_width": null,
            "order": null,
            "_view_module_version": "1.2.0",
            "grid_template_areas": null,
            "object_position": null,
            "object_fit": null,
            "grid_auto_columns": null,
            "margin": null,
            "display": null,
            "left": null
          }
        },
        "72fe12ad97bd4632a1171648d5c6fc6a": {
          "model_module": "@jupyter-widgets/controls",
          "model_name": "FloatProgressModel",
          "state": {
            "_view_name": "ProgressView",
            "style": "IPY_MODEL_003f3067c5004cdf8bf43024bc89c94a",
            "_dom_classes": [],
            "description": "Downloading: 100%",
            "_model_name": "FloatProgressModel",
            "bar_style": "success",
            "max": 440473133,
            "_view_module": "@jupyter-widgets/controls",
            "_model_module_version": "1.5.0",
            "value": 440473133,
            "_view_count": null,
            "_view_module_version": "1.5.0",
            "orientation": "horizontal",
            "min": 0,
            "description_tooltip": null,
            "_model_module": "@jupyter-widgets/controls",
            "layout": "IPY_MODEL_5f1e9d43f7614d7b9687903077e0cd87"
          }
        },
        "7150f05b642c425299fee826e86eae6a": {
          "model_module": "@jupyter-widgets/controls",
          "model_name": "HTMLModel",
          "state": {
            "_view_name": "HTMLView",
            "style": "IPY_MODEL_6986340d7859450e8fa1a37f83de4f53",
            "_dom_classes": [],
            "description": "",
            "_model_name": "HTMLModel",
            "placeholder": "​",
            "_view_module": "@jupyter-widgets/controls",
            "_model_module_version": "1.5.0",
            "value": " 440M/440M [00:09&lt;00:00, 44.4MB/s]",
            "_view_count": null,
            "_view_module_version": "1.5.0",
            "description_tooltip": null,
            "_model_module": "@jupyter-widgets/controls",
            "layout": "IPY_MODEL_e50a7c74d7d14bbeaa1c2d4bb9c46455"
          }
        },
        "003f3067c5004cdf8bf43024bc89c94a": {
          "model_module": "@jupyter-widgets/controls",
          "model_name": "ProgressStyleModel",
          "state": {
            "_view_name": "StyleView",
            "_model_name": "ProgressStyleModel",
            "description_width": "initial",
            "_view_module": "@jupyter-widgets/base",
            "_model_module_version": "1.5.0",
            "_view_count": null,
            "_view_module_version": "1.2.0",
            "bar_color": null,
            "_model_module": "@jupyter-widgets/controls"
          }
        },
        "5f1e9d43f7614d7b9687903077e0cd87": {
          "model_module": "@jupyter-widgets/base",
          "model_name": "LayoutModel",
          "state": {
            "_view_name": "LayoutView",
            "grid_template_rows": null,
            "right": null,
            "justify_content": null,
            "_view_module": "@jupyter-widgets/base",
            "overflow": null,
            "_model_module_version": "1.2.0",
            "_view_count": null,
            "flex_flow": null,
            "width": null,
            "min_width": null,
            "border": null,
            "align_items": null,
            "bottom": null,
            "_model_module": "@jupyter-widgets/base",
            "top": null,
            "grid_column": null,
            "overflow_y": null,
            "overflow_x": null,
            "grid_auto_flow": null,
            "grid_area": null,
            "grid_template_columns": null,
            "flex": null,
            "_model_name": "LayoutModel",
            "justify_items": null,
            "grid_row": null,
            "max_height": null,
            "align_content": null,
            "visibility": null,
            "align_self": null,
            "height": null,
            "min_height": null,
            "padding": null,
            "grid_auto_rows": null,
            "grid_gap": null,
            "max_width": null,
            "order": null,
            "_view_module_version": "1.2.0",
            "grid_template_areas": null,
            "object_position": null,
            "object_fit": null,
            "grid_auto_columns": null,
            "margin": null,
            "display": null,
            "left": null
          }
        },
        "6986340d7859450e8fa1a37f83de4f53": {
          "model_module": "@jupyter-widgets/controls",
          "model_name": "DescriptionStyleModel",
          "state": {
            "_view_name": "StyleView",
            "_model_name": "DescriptionStyleModel",
            "description_width": "",
            "_view_module": "@jupyter-widgets/base",
            "_model_module_version": "1.5.0",
            "_view_count": null,
            "_view_module_version": "1.2.0",
            "_model_module": "@jupyter-widgets/controls"
          }
        },
        "e50a7c74d7d14bbeaa1c2d4bb9c46455": {
          "model_module": "@jupyter-widgets/base",
          "model_name": "LayoutModel",
          "state": {
            "_view_name": "LayoutView",
            "grid_template_rows": null,
            "right": null,
            "justify_content": null,
            "_view_module": "@jupyter-widgets/base",
            "overflow": null,
            "_model_module_version": "1.2.0",
            "_view_count": null,
            "flex_flow": null,
            "width": null,
            "min_width": null,
            "border": null,
            "align_items": null,
            "bottom": null,
            "_model_module": "@jupyter-widgets/base",
            "top": null,
            "grid_column": null,
            "overflow_y": null,
            "overflow_x": null,
            "grid_auto_flow": null,
            "grid_area": null,
            "grid_template_columns": null,
            "flex": null,
            "_model_name": "LayoutModel",
            "justify_items": null,
            "grid_row": null,
            "max_height": null,
            "align_content": null,
            "visibility": null,
            "align_self": null,
            "height": null,
            "min_height": null,
            "padding": null,
            "grid_auto_rows": null,
            "grid_gap": null,
            "max_width": null,
            "order": null,
            "_view_module_version": "1.2.0",
            "grid_template_areas": null,
            "object_position": null,
            "object_fit": null,
            "grid_auto_columns": null,
            "margin": null,
            "display": null,
            "left": null
          }
        },
        "48ab158887854f49b5664e7344e2b845": {
          "model_module": "@jupyter-widgets/controls",
          "model_name": "HBoxModel",
          "state": {
            "_view_name": "HBoxView",
            "_dom_classes": [],
            "_model_name": "HBoxModel",
            "_view_module": "@jupyter-widgets/controls",
            "_model_module_version": "1.5.0",
            "_view_count": null,
            "_view_module_version": "1.5.0",
            "box_style": "",
            "layout": "IPY_MODEL_948c622f40394a02a8b7064768ff0b95",
            "_model_module": "@jupyter-widgets/controls",
            "children": [
              "IPY_MODEL_6e72b399b5b64b988673790a54b9d8e5",
              "IPY_MODEL_67a8eebd464445ca95df5e93b938bb38"
            ]
          }
        },
        "948c622f40394a02a8b7064768ff0b95": {
          "model_module": "@jupyter-widgets/base",
          "model_name": "LayoutModel",
          "state": {
            "_view_name": "LayoutView",
            "grid_template_rows": null,
            "right": null,
            "justify_content": null,
            "_view_module": "@jupyter-widgets/base",
            "overflow": null,
            "_model_module_version": "1.2.0",
            "_view_count": null,
            "flex_flow": null,
            "width": null,
            "min_width": null,
            "border": null,
            "align_items": null,
            "bottom": null,
            "_model_module": "@jupyter-widgets/base",
            "top": null,
            "grid_column": null,
            "overflow_y": null,
            "overflow_x": null,
            "grid_auto_flow": null,
            "grid_area": null,
            "grid_template_columns": null,
            "flex": null,
            "_model_name": "LayoutModel",
            "justify_items": null,
            "grid_row": null,
            "max_height": null,
            "align_content": null,
            "visibility": null,
            "align_self": null,
            "height": null,
            "min_height": null,
            "padding": null,
            "grid_auto_rows": null,
            "grid_gap": null,
            "max_width": null,
            "order": null,
            "_view_module_version": "1.2.0",
            "grid_template_areas": null,
            "object_position": null,
            "object_fit": null,
            "grid_auto_columns": null,
            "margin": null,
            "display": null,
            "left": null
          }
        },
        "6e72b399b5b64b988673790a54b9d8e5": {
          "model_module": "@jupyter-widgets/controls",
          "model_name": "FloatProgressModel",
          "state": {
            "_view_name": "ProgressView",
            "style": "IPY_MODEL_83d839a6c2ed4562ab11ecf55bd1c7d9",
            "_dom_classes": [],
            "description": "100%",
            "_model_name": "FloatProgressModel",
            "bar_style": "success",
            "max": 282,
            "_view_module": "@jupyter-widgets/controls",
            "_model_module_version": "1.5.0",
            "value": 282,
            "_view_count": null,
            "_view_module_version": "1.5.0",
            "orientation": "horizontal",
            "min": 0,
            "description_tooltip": null,
            "_model_module": "@jupyter-widgets/controls",
            "layout": "IPY_MODEL_e9d6548d1c7a4f56815f817ee7022723"
          }
        },
        "67a8eebd464445ca95df5e93b938bb38": {
          "model_module": "@jupyter-widgets/controls",
          "model_name": "HTMLModel",
          "state": {
            "_view_name": "HTMLView",
            "style": "IPY_MODEL_eb8b10d533414de6bc1abeaf99a7d7c7",
            "_dom_classes": [],
            "description": "",
            "_model_name": "HTMLModel",
            "placeholder": "​",
            "_view_module": "@jupyter-widgets/controls",
            "_model_module_version": "1.5.0",
            "value": " 282/282 [01:16&lt;00:00,  3.67it/s]",
            "_view_count": null,
            "_view_module_version": "1.5.0",
            "description_tooltip": null,
            "_model_module": "@jupyter-widgets/controls",
            "layout": "IPY_MODEL_3b289d50967a469199a7f8291aa68783"
          }
        },
        "83d839a6c2ed4562ab11ecf55bd1c7d9": {
          "model_module": "@jupyter-widgets/controls",
          "model_name": "ProgressStyleModel",
          "state": {
            "_view_name": "StyleView",
            "_model_name": "ProgressStyleModel",
            "description_width": "initial",
            "_view_module": "@jupyter-widgets/base",
            "_model_module_version": "1.5.0",
            "_view_count": null,
            "_view_module_version": "1.2.0",
            "bar_color": null,
            "_model_module": "@jupyter-widgets/controls"
          }
        },
        "e9d6548d1c7a4f56815f817ee7022723": {
          "model_module": "@jupyter-widgets/base",
          "model_name": "LayoutModel",
          "state": {
            "_view_name": "LayoutView",
            "grid_template_rows": null,
            "right": null,
            "justify_content": null,
            "_view_module": "@jupyter-widgets/base",
            "overflow": null,
            "_model_module_version": "1.2.0",
            "_view_count": null,
            "flex_flow": null,
            "width": null,
            "min_width": null,
            "border": null,
            "align_items": null,
            "bottom": null,
            "_model_module": "@jupyter-widgets/base",
            "top": null,
            "grid_column": null,
            "overflow_y": null,
            "overflow_x": null,
            "grid_auto_flow": null,
            "grid_area": null,
            "grid_template_columns": null,
            "flex": null,
            "_model_name": "LayoutModel",
            "justify_items": null,
            "grid_row": null,
            "max_height": null,
            "align_content": null,
            "visibility": null,
            "align_self": null,
            "height": null,
            "min_height": null,
            "padding": null,
            "grid_auto_rows": null,
            "grid_gap": null,
            "max_width": null,
            "order": null,
            "_view_module_version": "1.2.0",
            "grid_template_areas": null,
            "object_position": null,
            "object_fit": null,
            "grid_auto_columns": null,
            "margin": null,
            "display": null,
            "left": null
          }
        },
        "eb8b10d533414de6bc1abeaf99a7d7c7": {
          "model_module": "@jupyter-widgets/controls",
          "model_name": "DescriptionStyleModel",
          "state": {
            "_view_name": "StyleView",
            "_model_name": "DescriptionStyleModel",
            "description_width": "",
            "_view_module": "@jupyter-widgets/base",
            "_model_module_version": "1.5.0",
            "_view_count": null,
            "_view_module_version": "1.2.0",
            "_model_module": "@jupyter-widgets/controls"
          }
        },
        "3b289d50967a469199a7f8291aa68783": {
          "model_module": "@jupyter-widgets/base",
          "model_name": "LayoutModel",
          "state": {
            "_view_name": "LayoutView",
            "grid_template_rows": null,
            "right": null,
            "justify_content": null,
            "_view_module": "@jupyter-widgets/base",
            "overflow": null,
            "_model_module_version": "1.2.0",
            "_view_count": null,
            "flex_flow": null,
            "width": null,
            "min_width": null,
            "border": null,
            "align_items": null,
            "bottom": null,
            "_model_module": "@jupyter-widgets/base",
            "top": null,
            "grid_column": null,
            "overflow_y": null,
            "overflow_x": null,
            "grid_auto_flow": null,
            "grid_area": null,
            "grid_template_columns": null,
            "flex": null,
            "_model_name": "LayoutModel",
            "justify_items": null,
            "grid_row": null,
            "max_height": null,
            "align_content": null,
            "visibility": null,
            "align_self": null,
            "height": null,
            "min_height": null,
            "padding": null,
            "grid_auto_rows": null,
            "grid_gap": null,
            "max_width": null,
            "order": null,
            "_view_module_version": "1.2.0",
            "grid_template_areas": null,
            "object_position": null,
            "object_fit": null,
            "grid_auto_columns": null,
            "margin": null,
            "display": null,
            "left": null
          }
        },
        "dbec0e08b3b04b34ad44ad13d554b6ee": {
          "model_module": "@jupyter-widgets/controls",
          "model_name": "HBoxModel",
          "state": {
            "_view_name": "HBoxView",
            "_dom_classes": [],
            "_model_name": "HBoxModel",
            "_view_module": "@jupyter-widgets/controls",
            "_model_module_version": "1.5.0",
            "_view_count": null,
            "_view_module_version": "1.5.0",
            "box_style": "",
            "layout": "IPY_MODEL_eb53e68e31954470ae73bbaaa235ddaf",
            "_model_module": "@jupyter-widgets/controls",
            "children": [
              "IPY_MODEL_5d20a50429224dd889b663f02d985f5b",
              "IPY_MODEL_86eb066fad8749ea9c2e81560a7c0212"
            ]
          }
        },
        "eb53e68e31954470ae73bbaaa235ddaf": {
          "model_module": "@jupyter-widgets/base",
          "model_name": "LayoutModel",
          "state": {
            "_view_name": "LayoutView",
            "grid_template_rows": null,
            "right": null,
            "justify_content": null,
            "_view_module": "@jupyter-widgets/base",
            "overflow": null,
            "_model_module_version": "1.2.0",
            "_view_count": null,
            "flex_flow": null,
            "width": null,
            "min_width": null,
            "border": null,
            "align_items": null,
            "bottom": null,
            "_model_module": "@jupyter-widgets/base",
            "top": null,
            "grid_column": null,
            "overflow_y": null,
            "overflow_x": null,
            "grid_auto_flow": null,
            "grid_area": null,
            "grid_template_columns": null,
            "flex": null,
            "_model_name": "LayoutModel",
            "justify_items": null,
            "grid_row": null,
            "max_height": null,
            "align_content": null,
            "visibility": null,
            "align_self": null,
            "height": null,
            "min_height": null,
            "padding": null,
            "grid_auto_rows": null,
            "grid_gap": null,
            "max_width": null,
            "order": null,
            "_view_module_version": "1.2.0",
            "grid_template_areas": null,
            "object_position": null,
            "object_fit": null,
            "grid_auto_columns": null,
            "margin": null,
            "display": null,
            "left": null
          }
        },
        "5d20a50429224dd889b663f02d985f5b": {
          "model_module": "@jupyter-widgets/controls",
          "model_name": "FloatProgressModel",
          "state": {
            "_view_name": "ProgressView",
            "style": "IPY_MODEL_b5fb92e1c6e44d06b9060b83e2a6dffd",
            "_dom_classes": [],
            "description": "100%",
            "_model_name": "FloatProgressModel",
            "bar_style": "success",
            "max": 32,
            "_view_module": "@jupyter-widgets/controls",
            "_model_module_version": "1.5.0",
            "value": 32,
            "_view_count": null,
            "_view_module_version": "1.5.0",
            "orientation": "horizontal",
            "min": 0,
            "description_tooltip": null,
            "_model_module": "@jupyter-widgets/controls",
            "layout": "IPY_MODEL_7504cd59623c4a33bb97f7a923d5580c"
          }
        },
        "86eb066fad8749ea9c2e81560a7c0212": {
          "model_module": "@jupyter-widgets/controls",
          "model_name": "HTMLModel",
          "state": {
            "_view_name": "HTMLView",
            "style": "IPY_MODEL_3f77c55f9de8432a8527d267bc4d1e95",
            "_dom_classes": [],
            "description": "",
            "_model_name": "HTMLModel",
            "placeholder": "​",
            "_view_module": "@jupyter-widgets/controls",
            "_model_module_version": "1.5.0",
            "value": " 32/32 [00:13&lt;00:00,  2.46it/s]",
            "_view_count": null,
            "_view_module_version": "1.5.0",
            "description_tooltip": null,
            "_model_module": "@jupyter-widgets/controls",
            "layout": "IPY_MODEL_b64a14e544af4fa9b149fa39e4f43f8e"
          }
        },
        "b5fb92e1c6e44d06b9060b83e2a6dffd": {
          "model_module": "@jupyter-widgets/controls",
          "model_name": "ProgressStyleModel",
          "state": {
            "_view_name": "StyleView",
            "_model_name": "ProgressStyleModel",
            "description_width": "initial",
            "_view_module": "@jupyter-widgets/base",
            "_model_module_version": "1.5.0",
            "_view_count": null,
            "_view_module_version": "1.2.0",
            "bar_color": null,
            "_model_module": "@jupyter-widgets/controls"
          }
        },
        "7504cd59623c4a33bb97f7a923d5580c": {
          "model_module": "@jupyter-widgets/base",
          "model_name": "LayoutModel",
          "state": {
            "_view_name": "LayoutView",
            "grid_template_rows": null,
            "right": null,
            "justify_content": null,
            "_view_module": "@jupyter-widgets/base",
            "overflow": null,
            "_model_module_version": "1.2.0",
            "_view_count": null,
            "flex_flow": null,
            "width": null,
            "min_width": null,
            "border": null,
            "align_items": null,
            "bottom": null,
            "_model_module": "@jupyter-widgets/base",
            "top": null,
            "grid_column": null,
            "overflow_y": null,
            "overflow_x": null,
            "grid_auto_flow": null,
            "grid_area": null,
            "grid_template_columns": null,
            "flex": null,
            "_model_name": "LayoutModel",
            "justify_items": null,
            "grid_row": null,
            "max_height": null,
            "align_content": null,
            "visibility": null,
            "align_self": null,
            "height": null,
            "min_height": null,
            "padding": null,
            "grid_auto_rows": null,
            "grid_gap": null,
            "max_width": null,
            "order": null,
            "_view_module_version": "1.2.0",
            "grid_template_areas": null,
            "object_position": null,
            "object_fit": null,
            "grid_auto_columns": null,
            "margin": null,
            "display": null,
            "left": null
          }
        },
        "3f77c55f9de8432a8527d267bc4d1e95": {
          "model_module": "@jupyter-widgets/controls",
          "model_name": "DescriptionStyleModel",
          "state": {
            "_view_name": "StyleView",
            "_model_name": "DescriptionStyleModel",
            "description_width": "",
            "_view_module": "@jupyter-widgets/base",
            "_model_module_version": "1.5.0",
            "_view_count": null,
            "_view_module_version": "1.2.0",
            "_model_module": "@jupyter-widgets/controls"
          }
        },
        "b64a14e544af4fa9b149fa39e4f43f8e": {
          "model_module": "@jupyter-widgets/base",
          "model_name": "LayoutModel",
          "state": {
            "_view_name": "LayoutView",
            "grid_template_rows": null,
            "right": null,
            "justify_content": null,
            "_view_module": "@jupyter-widgets/base",
            "overflow": null,
            "_model_module_version": "1.2.0",
            "_view_count": null,
            "flex_flow": null,
            "width": null,
            "min_width": null,
            "border": null,
            "align_items": null,
            "bottom": null,
            "_model_module": "@jupyter-widgets/base",
            "top": null,
            "grid_column": null,
            "overflow_y": null,
            "overflow_x": null,
            "grid_auto_flow": null,
            "grid_area": null,
            "grid_template_columns": null,
            "flex": null,
            "_model_name": "LayoutModel",
            "justify_items": null,
            "grid_row": null,
            "max_height": null,
            "align_content": null,
            "visibility": null,
            "align_self": null,
            "height": null,
            "min_height": null,
            "padding": null,
            "grid_auto_rows": null,
            "grid_gap": null,
            "max_width": null,
            "order": null,
            "_view_module_version": "1.2.0",
            "grid_template_areas": null,
            "object_position": null,
            "object_fit": null,
            "grid_auto_columns": null,
            "margin": null,
            "display": null,
            "left": null
          }
        }
      }
    }
  },
  "cells": [
    {
      "cell_type": "markdown",
      "metadata": {
        "id": "view-in-github",
        "colab_type": "text"
      },
      "source": [
        "<a href=\"https://colab.research.google.com/github/lupis30puc/yelp_bert_random_forest/blob/lupis30puc-update-1/Yelp_polarity_trainning_BERT.ipynb\" target=\"_parent\"><img src=\"https://colab.research.google.com/assets/colab-badge.svg\" alt=\"Open In Colab\"/></a>"
      ]
    },
    {
      "cell_type": "markdown",
      "metadata": {
        "id": "-HbrtITbQFIB"
      },
      "source": [
        "[Yelp Polarity on kaggle](https://www.kaggle.com/irustandi/yelp-review-polarity)\n",
        "\n",
        "1,569 samples from the Yelp Dataset Challenge 2015. This subset has 280,000 training samples and 19,000 test samples in each polarity.\n",
        "\n",
        "I follow this tutorial: \n",
        "[BERT Fine-Tunning](http://mccormickml.com/2019/07/22/BERT-fine-tuning/#41-bertforsequenceclassification)\n",
        "[Colab: BERT for sequential classification](https://colab.research.google.com/drive/1pTuQhug6Dhl9XalKB0zUGf4FIdYFlpcX#scrollTo=DEfSbAA4QHas)\n"
      ]
    },
    {
      "cell_type": "code",
      "metadata": {
        "colab": {
          "base_uri": "https://localhost:8080/"
        },
        "id": "vEtLBK3KQmal",
        "outputId": "f40d0ed3-0d47-4645-c6b5-ca20a44cd545"
      },
      "source": [
        "!pip install transformers"
      ],
      "execution_count": 1,
      "outputs": [
        {
          "output_type": "stream",
          "text": [
            "Collecting transformers\n",
            "\u001b[?25l  Downloading https://files.pythonhosted.org/packages/50/0c/7d5950fcd80b029be0a8891727ba21e0cd27692c407c51261c3c921f6da3/transformers-4.1.1-py3-none-any.whl (1.5MB)\n",
            "\r\u001b[K     |▏                               | 10kB 24.2MB/s eta 0:00:01\r\u001b[K     |▍                               | 20kB 14.0MB/s eta 0:00:01\r\u001b[K     |▋                               | 30kB 12.4MB/s eta 0:00:01\r\u001b[K     |▉                               | 40kB 11.5MB/s eta 0:00:01\r\u001b[K     |█                               | 51kB 7.4MB/s eta 0:00:01\r\u001b[K     |█▎                              | 61kB 6.9MB/s eta 0:00:01\r\u001b[K     |█▌                              | 71kB 7.9MB/s eta 0:00:01\r\u001b[K     |█▊                              | 81kB 8.7MB/s eta 0:00:01\r\u001b[K     |██                              | 92kB 8.1MB/s eta 0:00:01\r\u001b[K     |██▏                             | 102kB 7.2MB/s eta 0:00:01\r\u001b[K     |██▍                             | 112kB 7.2MB/s eta 0:00:01\r\u001b[K     |██▋                             | 122kB 7.2MB/s eta 0:00:01\r\u001b[K     |██▉                             | 133kB 7.2MB/s eta 0:00:01\r\u001b[K     |███                             | 143kB 7.2MB/s eta 0:00:01\r\u001b[K     |███▎                            | 153kB 7.2MB/s eta 0:00:01\r\u001b[K     |███▌                            | 163kB 7.2MB/s eta 0:00:01\r\u001b[K     |███▊                            | 174kB 7.2MB/s eta 0:00:01\r\u001b[K     |████                            | 184kB 7.2MB/s eta 0:00:01\r\u001b[K     |████▏                           | 194kB 7.2MB/s eta 0:00:01\r\u001b[K     |████▎                           | 204kB 7.2MB/s eta 0:00:01\r\u001b[K     |████▌                           | 215kB 7.2MB/s eta 0:00:01\r\u001b[K     |████▊                           | 225kB 7.2MB/s eta 0:00:01\r\u001b[K     |█████                           | 235kB 7.2MB/s eta 0:00:01\r\u001b[K     |█████▏                          | 245kB 7.2MB/s eta 0:00:01\r\u001b[K     |█████▍                          | 256kB 7.2MB/s eta 0:00:01\r\u001b[K     |█████▋                          | 266kB 7.2MB/s eta 0:00:01\r\u001b[K     |█████▉                          | 276kB 7.2MB/s eta 0:00:01\r\u001b[K     |██████                          | 286kB 7.2MB/s eta 0:00:01\r\u001b[K     |██████▎                         | 296kB 7.2MB/s eta 0:00:01\r\u001b[K     |██████▌                         | 307kB 7.2MB/s eta 0:00:01\r\u001b[K     |██████▊                         | 317kB 7.2MB/s eta 0:00:01\r\u001b[K     |███████                         | 327kB 7.2MB/s eta 0:00:01\r\u001b[K     |███████▏                        | 337kB 7.2MB/s eta 0:00:01\r\u001b[K     |███████▍                        | 348kB 7.2MB/s eta 0:00:01\r\u001b[K     |███████▋                        | 358kB 7.2MB/s eta 0:00:01\r\u001b[K     |███████▉                        | 368kB 7.2MB/s eta 0:00:01\r\u001b[K     |████████                        | 378kB 7.2MB/s eta 0:00:01\r\u001b[K     |████████▎                       | 389kB 7.2MB/s eta 0:00:01\r\u001b[K     |████████▌                       | 399kB 7.2MB/s eta 0:00:01\r\u001b[K     |████████▋                       | 409kB 7.2MB/s eta 0:00:01\r\u001b[K     |████████▉                       | 419kB 7.2MB/s eta 0:00:01\r\u001b[K     |█████████                       | 430kB 7.2MB/s eta 0:00:01\r\u001b[K     |█████████▎                      | 440kB 7.2MB/s eta 0:00:01\r\u001b[K     |█████████▌                      | 450kB 7.2MB/s eta 0:00:01\r\u001b[K     |█████████▊                      | 460kB 7.2MB/s eta 0:00:01\r\u001b[K     |██████████                      | 471kB 7.2MB/s eta 0:00:01\r\u001b[K     |██████████▏                     | 481kB 7.2MB/s eta 0:00:01\r\u001b[K     |██████████▍                     | 491kB 7.2MB/s eta 0:00:01\r\u001b[K     |██████████▋                     | 501kB 7.2MB/s eta 0:00:01\r\u001b[K     |██████████▉                     | 512kB 7.2MB/s eta 0:00:01\r\u001b[K     |███████████                     | 522kB 7.2MB/s eta 0:00:01\r\u001b[K     |███████████▎                    | 532kB 7.2MB/s eta 0:00:01\r\u001b[K     |███████████▌                    | 542kB 7.2MB/s eta 0:00:01\r\u001b[K     |███████████▊                    | 552kB 7.2MB/s eta 0:00:01\r\u001b[K     |████████████                    | 563kB 7.2MB/s eta 0:00:01\r\u001b[K     |████████████▏                   | 573kB 7.2MB/s eta 0:00:01\r\u001b[K     |████████████▍                   | 583kB 7.2MB/s eta 0:00:01\r\u001b[K     |████████████▋                   | 593kB 7.2MB/s eta 0:00:01\r\u001b[K     |████████████▉                   | 604kB 7.2MB/s eta 0:00:01\r\u001b[K     |█████████████                   | 614kB 7.2MB/s eta 0:00:01\r\u001b[K     |█████████████▏                  | 624kB 7.2MB/s eta 0:00:01\r\u001b[K     |█████████████▍                  | 634kB 7.2MB/s eta 0:00:01\r\u001b[K     |█████████████▋                  | 645kB 7.2MB/s eta 0:00:01\r\u001b[K     |█████████████▉                  | 655kB 7.2MB/s eta 0:00:01\r\u001b[K     |██████████████                  | 665kB 7.2MB/s eta 0:00:01\r\u001b[K     |██████████████▎                 | 675kB 7.2MB/s eta 0:00:01\r\u001b[K     |██████████████▌                 | 686kB 7.2MB/s eta 0:00:01\r\u001b[K     |██████████████▊                 | 696kB 7.2MB/s eta 0:00:01\r\u001b[K     |███████████████                 | 706kB 7.2MB/s eta 0:00:01\r\u001b[K     |███████████████▏                | 716kB 7.2MB/s eta 0:00:01\r\u001b[K     |███████████████▍                | 727kB 7.2MB/s eta 0:00:01\r\u001b[K     |███████████████▋                | 737kB 7.2MB/s eta 0:00:01\r\u001b[K     |███████████████▉                | 747kB 7.2MB/s eta 0:00:01\r\u001b[K     |████████████████                | 757kB 7.2MB/s eta 0:00:01\r\u001b[K     |████████████████▎               | 768kB 7.2MB/s eta 0:00:01\r\u001b[K     |████████████████▌               | 778kB 7.2MB/s eta 0:00:01\r\u001b[K     |████████████████▊               | 788kB 7.2MB/s eta 0:00:01\r\u001b[K     |█████████████████               | 798kB 7.2MB/s eta 0:00:01\r\u001b[K     |█████████████████               | 808kB 7.2MB/s eta 0:00:01\r\u001b[K     |█████████████████▎              | 819kB 7.2MB/s eta 0:00:01\r\u001b[K     |█████████████████▌              | 829kB 7.2MB/s eta 0:00:01\r\u001b[K     |█████████████████▊              | 839kB 7.2MB/s eta 0:00:01\r\u001b[K     |██████████████████              | 849kB 7.2MB/s eta 0:00:01\r\u001b[K     |██████████████████▏             | 860kB 7.2MB/s eta 0:00:01\r\u001b[K     |██████████████████▍             | 870kB 7.2MB/s eta 0:00:01\r\u001b[K     |██████████████████▋             | 880kB 7.2MB/s eta 0:00:01\r\u001b[K     |██████████████████▉             | 890kB 7.2MB/s eta 0:00:01\r\u001b[K     |███████████████████             | 901kB 7.2MB/s eta 0:00:01\r\u001b[K     |███████████████████▎            | 911kB 7.2MB/s eta 0:00:01\r\u001b[K     |███████████████████▌            | 921kB 7.2MB/s eta 0:00:01\r\u001b[K     |███████████████████▊            | 931kB 7.2MB/s eta 0:00:01\r\u001b[K     |████████████████████            | 942kB 7.2MB/s eta 0:00:01\r\u001b[K     |████████████████████▏           | 952kB 7.2MB/s eta 0:00:01\r\u001b[K     |████████████████████▍           | 962kB 7.2MB/s eta 0:00:01\r\u001b[K     |████████████████████▋           | 972kB 7.2MB/s eta 0:00:01\r\u001b[K     |████████████████████▉           | 983kB 7.2MB/s eta 0:00:01\r\u001b[K     |█████████████████████           | 993kB 7.2MB/s eta 0:00:01\r\u001b[K     |█████████████████████▎          | 1.0MB 7.2MB/s eta 0:00:01\r\u001b[K     |█████████████████████▍          | 1.0MB 7.2MB/s eta 0:00:01\r\u001b[K     |█████████████████████▋          | 1.0MB 7.2MB/s eta 0:00:01\r\u001b[K     |█████████████████████▉          | 1.0MB 7.2MB/s eta 0:00:01\r\u001b[K     |██████████████████████          | 1.0MB 7.2MB/s eta 0:00:01\r\u001b[K     |██████████████████████▎         | 1.1MB 7.2MB/s eta 0:00:01\r\u001b[K     |██████████████████████▌         | 1.1MB 7.2MB/s eta 0:00:01\r\u001b[K     |██████████████████████▊         | 1.1MB 7.2MB/s eta 0:00:01\r\u001b[K     |███████████████████████         | 1.1MB 7.2MB/s eta 0:00:01\r\u001b[K     |███████████████████████▏        | 1.1MB 7.2MB/s eta 0:00:01\r\u001b[K     |███████████████████████▍        | 1.1MB 7.2MB/s eta 0:00:01\r\u001b[K     |███████████████████████▋        | 1.1MB 7.2MB/s eta 0:00:01\r\u001b[K     |███████████████████████▉        | 1.1MB 7.2MB/s eta 0:00:01\r\u001b[K     |████████████████████████        | 1.1MB 7.2MB/s eta 0:00:01\r\u001b[K     |████████████████████████▎       | 1.1MB 7.2MB/s eta 0:00:01\r\u001b[K     |████████████████████████▌       | 1.2MB 7.2MB/s eta 0:00:01\r\u001b[K     |████████████████████████▊       | 1.2MB 7.2MB/s eta 0:00:01\r\u001b[K     |█████████████████████████       | 1.2MB 7.2MB/s eta 0:00:01\r\u001b[K     |█████████████████████████▏      | 1.2MB 7.2MB/s eta 0:00:01\r\u001b[K     |█████████████████████████▍      | 1.2MB 7.2MB/s eta 0:00:01\r\u001b[K     |█████████████████████████▋      | 1.2MB 7.2MB/s eta 0:00:01\r\u001b[K     |█████████████████████████▊      | 1.2MB 7.2MB/s eta 0:00:01\r\u001b[K     |██████████████████████████      | 1.2MB 7.2MB/s eta 0:00:01\r\u001b[K     |██████████████████████████▏     | 1.2MB 7.2MB/s eta 0:00:01\r\u001b[K     |██████████████████████████▍     | 1.2MB 7.2MB/s eta 0:00:01\r\u001b[K     |██████████████████████████▋     | 1.3MB 7.2MB/s eta 0:00:01\r\u001b[K     |██████████████████████████▉     | 1.3MB 7.2MB/s eta 0:00:01\r\u001b[K     |███████████████████████████     | 1.3MB 7.2MB/s eta 0:00:01\r\u001b[K     |███████████████████████████▎    | 1.3MB 7.2MB/s eta 0:00:01\r\u001b[K     |███████████████████████████▌    | 1.3MB 7.2MB/s eta 0:00:01\r\u001b[K     |███████████████████████████▊    | 1.3MB 7.2MB/s eta 0:00:01\r\u001b[K     |████████████████████████████    | 1.3MB 7.2MB/s eta 0:00:01\r\u001b[K     |████████████████████████████▏   | 1.3MB 7.2MB/s eta 0:00:01\r\u001b[K     |████████████████████████████▍   | 1.3MB 7.2MB/s eta 0:00:01\r\u001b[K     |████████████████████████████▋   | 1.4MB 7.2MB/s eta 0:00:01\r\u001b[K     |████████████████████████████▉   | 1.4MB 7.2MB/s eta 0:00:01\r\u001b[K     |█████████████████████████████   | 1.4MB 7.2MB/s eta 0:00:01\r\u001b[K     |█████████████████████████████▎  | 1.4MB 7.2MB/s eta 0:00:01\r\u001b[K     |█████████████████████████████▌  | 1.4MB 7.2MB/s eta 0:00:01\r\u001b[K     |█████████████████████████████▊  | 1.4MB 7.2MB/s eta 0:00:01\r\u001b[K     |█████████████████████████████▉  | 1.4MB 7.2MB/s eta 0:00:01\r\u001b[K     |██████████████████████████████  | 1.4MB 7.2MB/s eta 0:00:01\r\u001b[K     |██████████████████████████████▎ | 1.4MB 7.2MB/s eta 0:00:01\r\u001b[K     |██████████████████████████████▌ | 1.4MB 7.2MB/s eta 0:00:01\r\u001b[K     |██████████████████████████████▊ | 1.5MB 7.2MB/s eta 0:00:01\r\u001b[K     |███████████████████████████████ | 1.5MB 7.2MB/s eta 0:00:01\r\u001b[K     |███████████████████████████████▏| 1.5MB 7.2MB/s eta 0:00:01\r\u001b[K     |███████████████████████████████▍| 1.5MB 7.2MB/s eta 0:00:01\r\u001b[K     |███████████████████████████████▋| 1.5MB 7.2MB/s eta 0:00:01\r\u001b[K     |███████████████████████████████▉| 1.5MB 7.2MB/s eta 0:00:01\r\u001b[K     |████████████████████████████████| 1.5MB 7.2MB/s \n",
            "\u001b[?25hRequirement already satisfied: filelock in /usr/local/lib/python3.6/dist-packages (from transformers) (3.0.12)\n",
            "Requirement already satisfied: regex!=2019.12.17 in /usr/local/lib/python3.6/dist-packages (from transformers) (2019.12.20)\n",
            "Requirement already satisfied: requests in /usr/local/lib/python3.6/dist-packages (from transformers) (2.23.0)\n",
            "Requirement already satisfied: dataclasses; python_version < \"3.7\" in /usr/local/lib/python3.6/dist-packages (from transformers) (0.8)\n",
            "Requirement already satisfied: tqdm>=4.27 in /usr/local/lib/python3.6/dist-packages (from transformers) (4.41.1)\n",
            "Collecting tokenizers==0.9.4\n",
            "\u001b[?25l  Downloading https://files.pythonhosted.org/packages/0f/1c/e789a8b12e28be5bc1ce2156cf87cb522b379be9cadc7ad8091a4cc107c4/tokenizers-0.9.4-cp36-cp36m-manylinux2010_x86_64.whl (2.9MB)\n",
            "\u001b[K     |████████████████████████████████| 2.9MB 29.6MB/s \n",
            "\u001b[?25hRequirement already satisfied: numpy in /usr/local/lib/python3.6/dist-packages (from transformers) (1.19.4)\n",
            "Requirement already satisfied: packaging in /usr/local/lib/python3.6/dist-packages (from transformers) (20.8)\n",
            "Collecting sacremoses\n",
            "\u001b[?25l  Downloading https://files.pythonhosted.org/packages/7d/34/09d19aff26edcc8eb2a01bed8e98f13a1537005d31e95233fd48216eed10/sacremoses-0.0.43.tar.gz (883kB)\n",
            "\u001b[K     |████████████████████████████████| 890kB 52.5MB/s \n",
            "\u001b[?25hRequirement already satisfied: certifi>=2017.4.17 in /usr/local/lib/python3.6/dist-packages (from requests->transformers) (2020.12.5)\n",
            "Requirement already satisfied: urllib3!=1.25.0,!=1.25.1,<1.26,>=1.21.1 in /usr/local/lib/python3.6/dist-packages (from requests->transformers) (1.24.3)\n",
            "Requirement already satisfied: idna<3,>=2.5 in /usr/local/lib/python3.6/dist-packages (from requests->transformers) (2.10)\n",
            "Requirement already satisfied: chardet<4,>=3.0.2 in /usr/local/lib/python3.6/dist-packages (from requests->transformers) (3.0.4)\n",
            "Requirement already satisfied: pyparsing>=2.0.2 in /usr/local/lib/python3.6/dist-packages (from packaging->transformers) (2.4.7)\n",
            "Requirement already satisfied: six in /usr/local/lib/python3.6/dist-packages (from sacremoses->transformers) (1.15.0)\n",
            "Requirement already satisfied: click in /usr/local/lib/python3.6/dist-packages (from sacremoses->transformers) (7.1.2)\n",
            "Requirement already satisfied: joblib in /usr/local/lib/python3.6/dist-packages (from sacremoses->transformers) (1.0.0)\n",
            "Building wheels for collected packages: sacremoses\n",
            "  Building wheel for sacremoses (setup.py) ... \u001b[?25l\u001b[?25hdone\n",
            "  Created wheel for sacremoses: filename=sacremoses-0.0.43-cp36-none-any.whl size=893261 sha256=057b6f5e8550a0a6dbcad958a353d21e96fa8846507ec479dff53366d5d5b475\n",
            "  Stored in directory: /root/.cache/pip/wheels/29/3c/fd/7ce5c3f0666dab31a50123635e6fb5e19ceb42ce38d4e58f45\n",
            "Successfully built sacremoses\n",
            "Installing collected packages: tokenizers, sacremoses, transformers\n",
            "Successfully installed sacremoses-0.0.43 tokenizers-0.9.4 transformers-4.1.1\n"
          ],
          "name": "stdout"
        }
      ]
    },
    {
      "cell_type": "markdown",
      "metadata": {
        "id": "jvjFMVLGRXkG"
      },
      "source": [
        "# Set up"
      ]
    },
    {
      "cell_type": "markdown",
      "metadata": {
        "id": "xOMDc5GRRc1g"
      },
      "source": [
        "## GPU"
      ]
    },
    {
      "cell_type": "code",
      "metadata": {
        "colab": {
          "base_uri": "https://localhost:8080/"
        },
        "id": "CfMcTnCvRXRG",
        "outputId": "f76555d7-fd55-45a0-cf4a-0055659644fd"
      },
      "source": [
        "import tensorflow as tf\n",
        "\n",
        "# Get the GPU device name.\n",
        "device_name = tf.test.gpu_device_name()\n",
        "\n",
        "# The device name should look like the following:\n",
        "if device_name == '/device:GPU:0':\n",
        "    print('Found GPU at: {}'.format(device_name))\n",
        "else:\n",
        "    raise SystemError('GPU device not found')"
      ],
      "execution_count": null,
      "outputs": [
        {
          "output_type": "stream",
          "text": [
            "Found GPU at: /device:GPU:0\n"
          ],
          "name": "stdout"
        }
      ]
    },
    {
      "cell_type": "code",
      "metadata": {
        "colab": {
          "base_uri": "https://localhost:8080/"
        },
        "id": "6rVlou0fRmHQ",
        "outputId": "2e13fb9d-cdc4-4963-e69d-9cadfdc5e35c"
      },
      "source": [
        "import torch\n",
        "\n",
        "# If there's a GPU available...\n",
        "if torch.cuda.is_available():    \n",
        "\n",
        "    # Tell PyTorch to use the GPU.    \n",
        "    device = torch.device(\"cuda\")\n",
        "\n",
        "    print('There are %d GPU(s) available.' % torch.cuda.device_count())\n",
        "\n",
        "    print('We will use the GPU:', torch.cuda.get_device_name(0))\n",
        "\n",
        "# If not...\n",
        "else:\n",
        "    print('No GPU available, using the CPU instead.')\n",
        "    device = torch.device(\"cpu\")"
      ],
      "execution_count": null,
      "outputs": [
        {
          "output_type": "stream",
          "text": [
            "There are 1 GPU(s) available.\n",
            "We will use the GPU: Tesla K80\n"
          ],
          "name": "stdout"
        }
      ]
    },
    {
      "cell_type": "markdown",
      "metadata": {
        "id": "FAodVLlMQoGJ"
      },
      "source": [
        "## Loading the pre-processed dataset"
      ]
    },
    {
      "cell_type": "code",
      "metadata": {
        "colab": {
          "base_uri": "https://localhost:8080/"
        },
        "id": "DO883dUWQn1r",
        "outputId": "a3ee4b76-c73d-46a9-c0a1-f821f3ffed31"
      },
      "source": [
        "from google.colab import drive\n",
        "drive.mount('/content/drive')"
      ],
      "execution_count": null,
      "outputs": [
        {
          "output_type": "stream",
          "text": [
            "Mounted at /content/drive\n"
          ],
          "name": "stdout"
        }
      ]
    },
    {
      "cell_type": "code",
      "metadata": {
        "id": "juAuzLM8RBPh"
      },
      "source": [
        "import pandas as pd\n",
        "import numpy as np\n",
        "import matplotlib.pyplot as plt\n",
        "import seaborn as sns\n",
        "sns.set()\n",
        "import time\n",
        "import re"
      ],
      "execution_count": null,
      "outputs": []
    },
    {
      "cell_type": "code",
      "metadata": {
        "id": "lby1yJAZNGSM"
      },
      "source": [
        "#cols = ['label', 'text']\n",
        "#df_2 = pd.read_csv('/content/drive/MyDrive/Yelp/test.csv', header=None, names=cols)\n",
        "sample_df = pd.read_csv('/content/drive/MyDrive/Yelp/test_sample_10000.csv')\n"
      ],
      "execution_count": null,
      "outputs": []
    },
    {
      "cell_type": "code",
      "metadata": {
        "colab": {
          "base_uri": "https://localhost:8080/",
          "height": 204
        },
        "id": "gdGwtZ4VZCGf",
        "outputId": "e6babb3b-16bd-4bb0-85ba-ead9aae45299"
      },
      "source": [
        "sample_df.drop(labels=['Unnamed: 0', ])\n",
        "sample_df.head()\n",
        "# I COULD FIX THIS DF, SIMPLIFY IT"
      ],
      "execution_count": null,
      "outputs": [
        {
          "output_type": "execute_result",
          "data": {
            "text/html": [
              "<div>\n",
              "<style scoped>\n",
              "    .dataframe tbody tr th:only-of-type {\n",
              "        vertical-align: middle;\n",
              "    }\n",
              "\n",
              "    .dataframe tbody tr th {\n",
              "        vertical-align: top;\n",
              "    }\n",
              "\n",
              "    .dataframe thead th {\n",
              "        text-align: right;\n",
              "    }\n",
              "</style>\n",
              "<table border=\"1\" class=\"dataframe\">\n",
              "  <thead>\n",
              "    <tr style=\"text-align: right;\">\n",
              "      <th></th>\n",
              "      <th>Unnamed: 0</th>\n",
              "      <th>label</th>\n",
              "      <th>text</th>\n",
              "      <th>tokenized</th>\n",
              "      <th>len</th>\n",
              "    </tr>\n",
              "  </thead>\n",
              "  <tbody>\n",
              "    <tr>\n",
              "      <th>0</th>\n",
              "      <td>25854</td>\n",
              "      <td>1</td>\n",
              "      <td>Forget the rest, they're busy for a reason, I ...</td>\n",
              "      <td>[5293, 1996, 2717, 1010, 2027, 1005, 2128, 569...</td>\n",
              "      <td>38</td>\n",
              "    </tr>\n",
              "    <tr>\n",
              "      <th>1</th>\n",
              "      <td>4802</td>\n",
              "      <td>0</td>\n",
              "      <td>So, I ordered delivery again. And, again, ever...</td>\n",
              "      <td>[2061, 1010, 1045, 3641, 6959, 2153, 1012, 199...</td>\n",
              "      <td>146</td>\n",
              "    </tr>\n",
              "    <tr>\n",
              "      <th>2</th>\n",
              "      <td>32973</td>\n",
              "      <td>0</td>\n",
              "      <td>What can I say about the food...BBB.  Blah, Bl...</td>\n",
              "      <td>[2054, 2064, 1045, 2360, 2055, 1996, 2833, 101...</td>\n",
              "      <td>626</td>\n",
              "    </tr>\n",
              "    <tr>\n",
              "      <th>3</th>\n",
              "      <td>8761</td>\n",
              "      <td>0</td>\n",
              "      <td>I was pressed for time and desperate for a fil...</td>\n",
              "      <td>[1045, 2001, 4508, 2005, 2051, 1998, 7143, 200...</td>\n",
              "      <td>325</td>\n",
              "    </tr>\n",
              "    <tr>\n",
              "      <th>4</th>\n",
              "      <td>285</td>\n",
              "      <td>1</td>\n",
              "      <td>Great service - very quick, definitely use the...</td>\n",
              "      <td>[2307, 2326, 1011, 2200, 4248, 1010, 5791, 222...</td>\n",
              "      <td>31</td>\n",
              "    </tr>\n",
              "  </tbody>\n",
              "</table>\n",
              "</div>"
            ],
            "text/plain": [
              "   Unnamed: 0  label  ...                                          tokenized  len\n",
              "0       25854      1  ...  [5293, 1996, 2717, 1010, 2027, 1005, 2128, 569...   38\n",
              "1        4802      0  ...  [2061, 1010, 1045, 3641, 6959, 2153, 1012, 199...  146\n",
              "2       32973      0  ...  [2054, 2064, 1045, 2360, 2055, 1996, 2833, 101...  626\n",
              "3        8761      0  ...  [1045, 2001, 4508, 2005, 2051, 1998, 7143, 200...  325\n",
              "4         285      1  ...  [2307, 2326, 1011, 2200, 4248, 1010, 5791, 222...   31\n",
              "\n",
              "[5 rows x 5 columns]"
            ]
          },
          "metadata": {
            "tags": []
          },
          "execution_count": 7
        }
      ]
    },
    {
      "cell_type": "markdown",
      "metadata": {
        "id": "0ljRADMeRtON"
      },
      "source": [
        "Extract the tokenized texts and labels"
      ]
    },
    {
      "cell_type": "code",
      "metadata": {
        "id": "Tz8r7hu4RxWs"
      },
      "source": [
        "# Get the lists of sentences and their labels.\n",
        "reviews = sample_df.text.values\n",
        "labels = sample_df.label.values"
      ],
      "execution_count": null,
      "outputs": []
    },
    {
      "cell_type": "markdown",
      "metadata": {
        "id": "USm3DlFeR3qb"
      },
      "source": [
        "# BERT"
      ]
    },
    {
      "cell_type": "markdown",
      "metadata": {
        "id": "ngPhB59wR6m9"
      },
      "source": [
        "## BERT Tokenizer"
      ]
    },
    {
      "cell_type": "code",
      "metadata": {
        "colab": {
          "base_uri": "https://localhost:8080/",
          "height": 83,
          "referenced_widgets": [
            "6359bc39151d4e648a332bb45b237566",
            "4393681fb8eb4a14aad7be24d8db0542",
            "8cd4330226a445d88427123e22ed0ffa",
            "5b2b8925db1e4431a7913deda012567a",
            "b301758eaa684f4ba2159c1cfc2e6c2b",
            "d2f3fb7e54324cf494aff15b40326248",
            "4f15c3357ddb4f9d82d9984153b52ba4",
            "bbcf29eabf424c2394557662bf3cf7ff"
          ]
        },
        "id": "ZCzTuzrPR3GY",
        "outputId": "d7db9379-cb2c-4605-8ba9-2b8046803c40"
      },
      "source": [
        "# IS THIS NECESSARY?\n",
        "from transformers import BertTokenizer\n",
        "\n",
        "# Load the BERT tokenizer.\n",
        "print('Loading BERT tokenizer...')\n",
        "tokenizer = BertTokenizer.from_pretrained('bert-base-uncased', do_lower_case=True)"
      ],
      "execution_count": null,
      "outputs": [
        {
          "output_type": "stream",
          "text": [
            "Loading BERT tokenizer...\n"
          ],
          "name": "stdout"
        },
        {
          "output_type": "display_data",
          "data": {
            "application/vnd.jupyter.widget-view+json": {
              "model_id": "6359bc39151d4e648a332bb45b237566",
              "version_minor": 0,
              "version_major": 2
            },
            "text/plain": [
              "HBox(children=(FloatProgress(value=0.0, description='Downloading', max=231508.0, style=ProgressStyle(descripti…"
            ]
          },
          "metadata": {
            "tags": []
          }
        },
        {
          "output_type": "stream",
          "text": [
            "\n"
          ],
          "name": "stdout"
        }
      ]
    },
    {
      "cell_type": "code",
      "metadata": {
        "colab": {
          "base_uri": "https://localhost:8080/"
        },
        "id": "fS0J2azYYZhe",
        "outputId": "71e347d5-9257-4ca3-db29-f259b520d3c2"
      },
      "source": [
        "%%time\n",
        "# Tokenize all of the sentences and map the tokens to thier word IDs.\n",
        "input_ids = []\n",
        "attention_masks = []\n",
        "\n",
        "# For every sentence...\n",
        "for sent in reviews:\n",
        "    # `encode_plus` will:\n",
        "    #   (1) Tokenize the sentence.\n",
        "    #   (2) Prepend the `[CLS]` token to the start.\n",
        "    #   (3) Append the `[SEP]` token to the end.\n",
        "    #   (4) Map tokens to their IDs.\n",
        "    #   (5) Pad or truncate the sentence to `max_length`\n",
        "    #   (6) Create attention masks for [PAD] tokens.\n",
        "    encoded_dict = tokenizer.encode_plus(\n",
        "                        sent,                      # Sentence to encode.\n",
        "                        add_special_tokens = True, # Add '[CLS]' and '[SEP]'\n",
        "                        max_length = 64,           # Pad & truncate all sentences.\n",
        "                        pad_to_max_length = True,\n",
        "                        return_attention_mask = True,   # Construct attn. masks.\n",
        "                        return_tensors = 'pt',     # Return pytorch tensors.\n",
        "                        truncation = True\n",
        "                   )\n",
        "    \n",
        "    # Add the encoded sentence to the list.    \n",
        "    input_ids.append(encoded_dict['input_ids'])\n",
        "    \n",
        "    # And its attention mask (simply differentiates padding from non-padding).\n",
        "    attention_masks.append(encoded_dict['attention_mask'])\n",
        "\n",
        "# Convert the lists into tensors.\n",
        "input_ids = torch.cat(input_ids, dim=0)\n",
        "attention_masks = torch.cat(attention_masks, dim=0)\n",
        "labels = torch.tensor(labels)\n",
        "\n",
        "# Print sentence 0, now as a list of IDs.\n",
        "print('Original: ', reviews[0])\n",
        "print('Token IDs:', input_ids[0])"
      ],
      "execution_count": null,
      "outputs": [
        {
          "output_type": "stream",
          "text": [
            "/usr/local/lib/python3.6/dist-packages/transformers/tokenization_utils_base.py:2179: FutureWarning: The `pad_to_max_length` argument is deprecated and will be removed in a future version, use `padding=True` or `padding='longest'` to pad to the longest sequence in the batch, or use `padding='max_length'` to pad to a max length. In this case, you can give a specific length with `max_length` (e.g. `max_length=45`) or leave max_length to None to pad to the maximal input size of the model (e.g. 512 for Bert).\n",
            "  FutureWarning,\n"
          ],
          "name": "stderr"
        },
        {
          "output_type": "stream",
          "text": [
            "Original:  Forget the rest, they're busy for a reason, I just gotta learn to speak Spanish (they speak English, but it might seem more authentic if I can order in Spanish).\n",
            "Token IDs: tensor([  101,  5293,  1996,  2717,  1010,  2027,  1005,  2128,  5697,  2005,\n",
            "         1037,  3114,  1010,  1045,  2074, 10657,  4553,  2000,  3713,  3009,\n",
            "         1006,  2027,  3713,  2394,  1010,  2021,  2009,  2453,  4025,  2062,\n",
            "        14469,  2065,  1045,  2064,  2344,  1999,  3009,  1007,  1012,   102,\n",
            "            0,     0,     0,     0,     0,     0,     0,     0,     0,     0,\n",
            "            0,     0,     0,     0,     0,     0,     0,     0,     0,     0,\n",
            "            0,     0,     0,     0])\n",
            "CPU times: user 31.2 s, sys: 24.3 ms, total: 31.2 s\n",
            "Wall time: 31.3 s\n"
          ],
          "name": "stdout"
        }
      ]
    },
    {
      "cell_type": "markdown",
      "metadata": {
        "id": "7ECdewLGZ2aE"
      },
      "source": [
        "Training splits"
      ]
    },
    {
      "cell_type": "code",
      "metadata": {
        "colab": {
          "base_uri": "https://localhost:8080/"
        },
        "id": "1R1LHv5UZX0z",
        "outputId": "d7b131cc-c822-4a81-d323-a0a439ad4098"
      },
      "source": [
        "from torch.utils.data import TensorDataset, random_split\n",
        "\n",
        "# Combine the training inputs into a TensorDataset.\n",
        "dataset = TensorDataset(input_ids, attention_masks, labels)\n",
        "\n",
        "# Create a 90-10 train-validation split.\n",
        "\n",
        "# Calculate the number of samples to include in each set.\n",
        "train_size = int(0.9 * len(dataset))\n",
        "val_size = len(dataset) - train_size\n",
        "\n",
        "# Divide the dataset by randomly selecting samples.\n",
        "train_dataset, val_dataset = random_split(dataset, [train_size, val_size])\n",
        "\n",
        "print('{:>5,} training samples'.format(train_size))\n",
        "print('{:>5,} validation samples'.format(val_size))"
      ],
      "execution_count": null,
      "outputs": [
        {
          "output_type": "stream",
          "text": [
            "9,000 training samples\n",
            "1,000 validation samples\n"
          ],
          "name": "stdout"
        }
      ]
    },
    {
      "cell_type": "code",
      "metadata": {
        "colab": {
          "base_uri": "https://localhost:8080/"
        },
        "id": "JXTRQiFNdiv8",
        "outputId": "9be7140b-5ff6-489f-c76b-5c95b0ef7a20"
      },
      "source": [
        "train_dataset[0]"
      ],
      "execution_count": null,
      "outputs": [
        {
          "output_type": "execute_result",
          "data": {
            "text/plain": [
              "(tensor([  101,  5404,   999,  2045,  2003,  2025,  2172,  2842,  2000,  2360,\n",
              "           999,  1996,  5404,  4989,  2182,  2012, 24185,  2497,  2003, 12476,\n",
              "          2007,  2058,  2753, 13618, 25316,  1998,  2184,  5404, 10424,  8004,\n",
              "          2015,  2016, 25780,  5606,  1997, 11015,  2130,  2070,  2570, 18153,\n",
              "         16310,   999, 24185,  2497,  2038,  4968,  2004,  2092,  2004,  4655,\n",
              "          2035,  2058,  1996,  2088,  2007,  2035,  2367,  3976,  2685,  1998,\n",
              "          4127,  1012,  2043,   102]),\n",
              " tensor([1, 1, 1, 1, 1, 1, 1, 1, 1, 1, 1, 1, 1, 1, 1, 1, 1, 1, 1, 1, 1, 1, 1, 1,\n",
              "         1, 1, 1, 1, 1, 1, 1, 1, 1, 1, 1, 1, 1, 1, 1, 1, 1, 1, 1, 1, 1, 1, 1, 1,\n",
              "         1, 1, 1, 1, 1, 1, 1, 1, 1, 1, 1, 1, 1, 1, 1, 1]),\n",
              " tensor(1))"
            ]
          },
          "metadata": {
            "tags": []
          },
          "execution_count": 12
        }
      ]
    },
    {
      "cell_type": "code",
      "metadata": {
        "id": "bh_SUlsHaDs1"
      },
      "source": [
        "from torch.utils.data import DataLoader, RandomSampler, SequentialSampler\n",
        "\n",
        "# The DataLoader needs to know our batch size for training, so we specify it \n",
        "# here. For fine-tuning BERT on a specific task, the authors recommend a batch \n",
        "# size of 16 or 32.\n",
        "batch_size = 32\n",
        "\n",
        "# Create the DataLoaders for our training and validation sets.\n",
        "# We'll take training samples in random order. \n",
        "train_dataloader = DataLoader(\n",
        "            train_dataset,  # The training samples.\n",
        "            sampler = RandomSampler(train_dataset), # Select batches randomly\n",
        "            batch_size = batch_size # Trains with this batch size.\n",
        "        )\n",
        "\n",
        "# For validation the order doesn't matter, so we'll just read them sequentially.\n",
        "validation_dataloader = DataLoader(\n",
        "            val_dataset, # The validation samples.\n",
        "            sampler = SequentialSampler(val_dataset), # Pull out batches sequentially.\n",
        "            batch_size = batch_size # Evaluate with this batch size.\n",
        "        )"
      ],
      "execution_count": null,
      "outputs": []
    },
    {
      "cell_type": "code",
      "metadata": {
        "colab": {
          "base_uri": "https://localhost:8080/",
          "height": 254,
          "referenced_widgets": [
            "ef20f28043fe4a43a3dbbb8cf0dea80c",
            "6f9cfc6da74349808fbffe6aa52b0cc3",
            "d3d5871c146642e8a9e9a14e08437a98",
            "2acc601aa07a47828dafa947440313e1",
            "368aad03e57641d1b0507d7a6f42069c",
            "4c1137f942564feda048247303e692bc",
            "25ad9392048b42b78ac5287b0133b114",
            "db76a6b702044dc28b8da3e4b7277380",
            "52b7f3cef47947e39242c8b1a80332c9",
            "eeb79f2e4e75419b8512b7dc0d24722e",
            "72fe12ad97bd4632a1171648d5c6fc6a",
            "7150f05b642c425299fee826e86eae6a",
            "003f3067c5004cdf8bf43024bc89c94a",
            "5f1e9d43f7614d7b9687903077e0cd87",
            "6986340d7859450e8fa1a37f83de4f53",
            "e50a7c74d7d14bbeaa1c2d4bb9c46455"
          ]
        },
        "id": "RASREEhaaTrr",
        "outputId": "d3f20993-474b-4371-c37b-fd2720c2bf54"
      },
      "source": [
        "%%time\n",
        "from transformers import BertForSequenceClassification, AdamW, BertConfig\n",
        "\n",
        "# Load BertForSequenceClassification, the pretrained BERT model with a single \n",
        "# linear classification layer on top. \n",
        "model = BertForSequenceClassification.from_pretrained(\n",
        "    \"bert-base-uncased\", # Use the 12-layer BERT model, with an uncased vocab.\n",
        "    num_labels = 2, # The number of output labels--2 for binary classification.\n",
        "                    # You can increase this for multi-class tasks.   \n",
        "    output_attentions = False, # Whether the model returns attentions weights.\n",
        "    output_hidden_states = False, # Whether the model returns all hidden-states.\n",
        ")\n",
        "\n",
        "# Tell pytorch to run this model on the GPU.\n",
        "model.cuda()"
      ],
      "execution_count": null,
      "outputs": [
        {
          "output_type": "display_data",
          "data": {
            "application/vnd.jupyter.widget-view+json": {
              "model_id": "ef20f28043fe4a43a3dbbb8cf0dea80c",
              "version_minor": 0,
              "version_major": 2
            },
            "text/plain": [
              "HBox(children=(FloatProgress(value=0.0, description='Downloading', max=433.0, style=ProgressStyle(description_…"
            ]
          },
          "metadata": {
            "tags": []
          }
        },
        {
          "output_type": "stream",
          "text": [
            "\n"
          ],
          "name": "stdout"
        },
        {
          "output_type": "display_data",
          "data": {
            "application/vnd.jupyter.widget-view+json": {
              "model_id": "52b7f3cef47947e39242c8b1a80332c9",
              "version_minor": 0,
              "version_major": 2
            },
            "text/plain": [
              "HBox(children=(FloatProgress(value=0.0, description='Downloading', max=440473133.0, style=ProgressStyle(descri…"
            ]
          },
          "metadata": {
            "tags": []
          }
        },
        {
          "output_type": "stream",
          "text": [
            "\n"
          ],
          "name": "stdout"
        },
        {
          "output_type": "stream",
          "text": [
            "Some weights of the model checkpoint at bert-base-uncased were not used when initializing BertForSequenceClassification: ['cls.predictions.bias', 'cls.predictions.transform.dense.weight', 'cls.predictions.transform.dense.bias', 'cls.predictions.decoder.weight', 'cls.seq_relationship.weight', 'cls.seq_relationship.bias', 'cls.predictions.transform.LayerNorm.weight', 'cls.predictions.transform.LayerNorm.bias']\n",
            "- This IS expected if you are initializing BertForSequenceClassification from the checkpoint of a model trained on another task or with another architecture (e.g. initializing a BertForSequenceClassification model from a BertForPreTraining model).\n",
            "- This IS NOT expected if you are initializing BertForSequenceClassification from the checkpoint of a model that you expect to be exactly identical (initializing a BertForSequenceClassification model from a BertForSequenceClassification model).\n",
            "Some weights of BertForSequenceClassification were not initialized from the model checkpoint at bert-base-uncased and are newly initialized: ['classifier.weight', 'classifier.bias']\n",
            "You should probably TRAIN this model on a down-stream task to be able to use it for predictions and inference.\n"
          ],
          "name": "stderr"
        },
        {
          "output_type": "stream",
          "text": [
            "CPU times: user 13.3 s, sys: 2.94 s, total: 16.2 s\n",
            "Wall time: 24.4 s\n"
          ],
          "name": "stdout"
        }
      ]
    },
    {
      "cell_type": "markdown",
      "metadata": {
        "id": "slORUUcnayjI"
      },
      "source": [
        "optimizer"
      ]
    },
    {
      "cell_type": "code",
      "metadata": {
        "id": "DL_Efz0IaqbZ"
      },
      "source": [
        "# Note: AdamW is a class from the huggingface library (as opposed to pytorch) \n",
        "# I believe the 'W' stands for 'Weight Decay fix\"\n",
        "optimizer = AdamW(model.parameters(),\n",
        "                  lr = 2e-5, # args.learning_rate - default is 5e-5, our notebook had 2e-5\n",
        "                  eps = 1e-8 # args.adam_epsilon  - default is 1e-8.\n",
        "                )\n"
      ],
      "execution_count": null,
      "outputs": []
    },
    {
      "cell_type": "code",
      "metadata": {
        "id": "WOVjafvPYRAq"
      },
      "source": [
        "from transformers import get_linear_schedule_with_warmup\n",
        "\n",
        "# Number of training epochs. The BERT authors recommend between 2 and 4. \n",
        "# We chose to run for 4, but we'll see later that this may be over-fitting the\n",
        "# training data.\n",
        "epochs = 5\n",
        "\n",
        "# Total number of training steps is [number of batches] x [number of epochs]. \n",
        "# (Note that this is not the same as the number of training samples).\n",
        "total_steps = len(train_dataloader) * epochs\n",
        "\n",
        "# Create the learning rate scheduler.\n",
        "scheduler = get_linear_schedule_with_warmup(optimizer, \n",
        "                                            num_warmup_steps = 0, # Default value in run_glue.py\n",
        "                                            num_training_steps = total_steps)\n"
      ],
      "execution_count": null,
      "outputs": []
    },
    {
      "cell_type": "code",
      "metadata": {
        "id": "Xwg-r_jBqKbH"
      },
      "source": [
        "# Function to calculate the accuracy of our predictions vs labels\n",
        "def flat_accuracy(preds, labels):\n",
        "    pred_flat = np.argmax(preds, axis=1).flatten()\n",
        "    labels_flat = labels.flatten()\n",
        "    return np.sum(pred_flat == labels_flat) / len(labels_flat)"
      ],
      "execution_count": null,
      "outputs": []
    },
    {
      "cell_type": "code",
      "metadata": {
        "id": "XiJn1ohNYri1"
      },
      "source": [
        "import datetime\n",
        "\n",
        "def format_time(elapsed):\n",
        "    '''\n",
        "    Takes a time in seconds and returns a string hh:mm:ss\n",
        "    '''\n",
        "    # Round to the nearest second.\n",
        "    elapsed_rounded = int(round((elapsed)))\n",
        "    \n",
        "    # Format as hh:mm:ss\n",
        "    return str(datetime.timedelta(seconds=elapsed_rounded))"
      ],
      "execution_count": null,
      "outputs": []
    },
    {
      "cell_type": "markdown",
      "metadata": {
        "id": "Xp7wE2Mxf3Ke"
      },
      "source": [
        "to save the model:\n",
        "From: [Sentiment analysis with Yelp and Bert- From Gil Fernandez](https://github.com/onepointconsulting/yelp_bert/blob/master/bert_training.ipynb)"
      ]
    },
    {
      "cell_type": "code",
      "metadata": {
        "id": "QxLGHpJIf2CV"
      },
      "source": [
        "path= '/content/drive/MyDrive/Yelp/'\n",
        "import os\n",
        "import shutil\n",
        "import pickle\n",
        "\n",
        "# Saving best-practices: if you use defaults names for the model, you can reload it using from_pretrained()\n",
        "\n",
        "def save_model(model, tokenizer, output_dir = '/content/drive/MyDrive/Yelp/model_save'):\n",
        "\n",
        "    # Create output directory if needed\n",
        "    if not os.path.exists(output_dir):\n",
        "        os.makedirs(output_dir)\n",
        "    else:\n",
        "        shutil.rmtree(output_dir)\n",
        "        os.makedirs(output_dir)\n",
        "\n",
        "    print(f\"Saving model to {output_dir}\")\n",
        "\n",
        "    tokenizer.save_pretrained(output_dir)\n",
        "    torch.save(model, output_dir/'model-28-DIC')\n"
      ],
      "execution_count": null,
      "outputs": []
    },
    {
      "cell_type": "markdown",
      "metadata": {
        "id": "V2iecC8rbD_y"
      },
      "source": [
        "training"
      ]
    },
    {
      "cell_type": "code",
      "metadata": {
        "id": "KQztPN7Ga9LS"
      },
      "source": [
        "import random\n",
        "seed_val = 42\n",
        "\n",
        "random.seed(seed_val)\n",
        "np.random.seed(seed_val)\n",
        "torch.manual_seed(seed_val)\n",
        "torch.cuda.manual_seed_all(seed_val)\n"
      ],
      "execution_count": null,
      "outputs": []
    },
    {
      "cell_type": "markdown",
      "metadata": {
        "id": "m3S1_bMyiyKY"
      },
      "source": [
        "# Trying out the version from Gil"
      ]
    },
    {
      "cell_type": "code",
      "metadata": {
        "id": "MiHMbu82jNlZ"
      },
      "source": [
        "from tqdm.auto import tqdm"
      ],
      "execution_count": null,
      "outputs": []
    },
    {
      "cell_type": "code",
      "metadata": {
        "id": "1jkMolUnjJIT"
      },
      "source": [
        "def grab_batch_data(batch):\n",
        "    input_ids = batch[0].to(device)\n",
        "    input_mask = batch[1].to(device)\n",
        "    labels = batch[2].to(device)\n",
        "    return input_ids, input_mask, labels\n",
        "\n",
        "def eval_fn():\n",
        "    total_eval_accuracy = 0\n",
        "    total_eval_loss = 0\n",
        "    nb_eval_steps = 0\n",
        "    \n",
        "    # Evaluate data for one epoch\n",
        "    for batch in tqdm(validation_dataloader, total=len(validation_dataloader)):\n",
        "        input_ids, input_mask, labels = grab_batch_data(batch)\n",
        "        with torch.no_grad():        \n",
        "            # Forward pass, calculate logit predictions.\n",
        "            # token_type_ids is the same as the \"segment ids\", which \n",
        "            # differentiates sentence 1 and 2 in 2-sentence tasks.\n",
        "            # The documentation for this `model` function is here: \n",
        "            # https://huggingface.co/transformers/v2.2.0/model_doc/bert.html#transformers.BertForSequenceClassification\n",
        "            loss_logits = model(input_ids, \n",
        "                                   token_type_ids=None, \n",
        "                                   attention_mask=input_mask,\n",
        "                                   labels=labels)\n",
        "            loss = loss_logits[0]\n",
        "            logits = loss_logits[1]\n",
        "            # Accumulate the validation loss.\n",
        "            total_eval_loss += loss.item()\n",
        "\n",
        "            # Move logits and labels to CPU\n",
        "            logits = logits.detach().cpu().numpy()\n",
        "            label_ids = labels.to('cpu').numpy()\n",
        "\n",
        "            # Calculate the accuracy for this batch of test sentences, and\n",
        "            # accumulate it over all batches.\n",
        "            total_eval_accuracy += flat_accuracy(logits, label_ids)\n",
        "            \n",
        "    avg_val_accuracy = total_eval_accuracy / len(validation_dataloader)\n",
        "    avg_val_loss = total_eval_loss / len(validation_dataloader)\n",
        "    print(f\"  Accuracy: {avg_val_accuracy:.2f}\")\n",
        "    print(f\"  Validation Loss: {avg_val_loss:.2f}\")\n",
        "    return {\n",
        "        'Accuracy': avg_val_accuracy,\n",
        "        'Validation Loss': avg_val_loss\n",
        "    }"
      ],
      "execution_count": null,
      "outputs": []
    },
    {
      "cell_type": "code",
      "metadata": {
        "colab": {
          "base_uri": "https://localhost:8080/",
          "height": 200,
          "referenced_widgets": [
            "48ab158887854f49b5664e7344e2b845",
            "948c622f40394a02a8b7064768ff0b95",
            "6e72b399b5b64b988673790a54b9d8e5",
            "67a8eebd464445ca95df5e93b938bb38",
            "83d839a6c2ed4562ab11ecf55bd1c7d9",
            "e9d6548d1c7a4f56815f817ee7022723",
            "eb8b10d533414de6bc1abeaf99a7d7c7",
            "3b289d50967a469199a7f8291aa68783",
            "dbec0e08b3b04b34ad44ad13d554b6ee",
            "eb53e68e31954470ae73bbaaa235ddaf",
            "5d20a50429224dd889b663f02d985f5b",
            "86eb066fad8749ea9c2e81560a7c0212",
            "b5fb92e1c6e44d06b9060b83e2a6dffd",
            "7504cd59623c4a33bb97f7a923d5580c",
            "3f77c55f9de8432a8527d267bc4d1e95",
            "b64a14e544af4fa9b149fa39e4f43f8e"
          ]
        },
        "id": "UGPqX2tpi375",
        "outputId": "cf73ad2c-52c8-4260-f065-63086e139ee7"
      },
      "source": [
        "training_stats = []\n",
        "best_accuracy = 0\n",
        "total_train_loss = 0\n",
        "model.train()\n",
        "for step, batch in tqdm(enumerate(train_dataloader), total=len(train_dataloader)):\n",
        "    input_ids, input_mask, labels = grab_batch_data(batch)\n",
        "    model.zero_grad()  \n",
        "    loss_logits = model(input_ids, \n",
        "                          token_type_ids=None, \n",
        "                          attention_mask=input_mask, \n",
        "                          labels=labels)\n",
        "    loss = loss_logits[0]\n",
        "    logits = loss_logits[1]\n",
        "    total_train_loss += loss.item()\n",
        "    if step % 2000 == 0:\n",
        "        print(f'{step}: Loss: {total_train_loss / (step + 1)}\\r')\n",
        "    loss.backward()\n",
        "    torch.nn.utils.clip_grad_norm_(model.parameters(), 1.0)\n",
        "    optimizer.step()\n",
        "    scheduler.step()\n",
        "\n",
        "avg_train_loss = total_train_loss / len(train_dataloader)\n",
        "print(\"\")\n",
        "print(f\"  Average training loss: {avg_train_loss}\")\n",
        "stats_info = eval_fn()\n",
        "stats_info['epoch'], stats_info['Average training loss'] = 1, avg_train_loss\n",
        "training_stats.append(stats_info)\n"
      ],
      "execution_count": null,
      "outputs": [
        {
          "output_type": "display_data",
          "data": {
            "application/vnd.jupyter.widget-view+json": {
              "model_id": "48ab158887854f49b5664e7344e2b845",
              "version_minor": 0,
              "version_major": 2
            },
            "text/plain": [
              "HBox(children=(FloatProgress(value=0.0, max=282.0), HTML(value='')))"
            ]
          },
          "metadata": {
            "tags": []
          }
        },
        {
          "output_type": "stream",
          "text": [
            "0: Loss: 0.31237703561782837\r\n",
            "\n",
            "\n",
            "  Average training loss: 0.2518943356389695\n"
          ],
          "name": "stdout"
        },
        {
          "output_type": "display_data",
          "data": {
            "application/vnd.jupyter.widget-view+json": {
              "model_id": "dbec0e08b3b04b34ad44ad13d554b6ee",
              "version_minor": 0,
              "version_major": 2
            },
            "text/plain": [
              "HBox(children=(FloatProgress(value=0.0, max=32.0), HTML(value='')))"
            ]
          },
          "metadata": {
            "tags": []
          }
        },
        {
          "output_type": "stream",
          "text": [
            "\n",
            "  Accuracy: 0.87\n",
            "  Validation Loss: 0.28\n"
          ],
          "name": "stdout"
        }
      ]
    },
    {
      "cell_type": "code",
      "metadata": {
        "id": "kaZOCmfStDyd"
      },
      "source": [
        "    tokenizer.save_pretrained('/content/drive/MyDrive/Yelp/output_dir_1')\n",
        "    torch.save(model, '/content/drive/MyDrive/Yelp/output_dir_1/model')"
      ],
      "execution_count": null,
      "outputs": []
    },
    {
      "cell_type": "code",
      "metadata": {
        "colab": {
          "base_uri": "https://localhost:8080/",
          "height": 334
        },
        "id": "gbiVE6NWr0Yk",
        "outputId": "a8613fa8-3d73-4965-db95-b3669f32cf5a"
      },
      "source": [
        "#save_model(model, tokenizer, output_dir='/content/drive/MyDrive/Yelp/output_dir_1')\n",
        "save_model(model, tokenizer)\n",
        "if stats_info['Accuracy'] > best_accuracy:\n",
        "    save_model(model, tokenizer, output_dir='/content/drive/MyDrive/Yelp/output_dir_best')\n",
        "    best_accuracy = stats_info['Accuracy']"
      ],
      "execution_count": null,
      "outputs": [
        {
          "output_type": "stream",
          "text": [
            "Saving model to /content/drive/MyDrive/Yelp/model_save\n"
          ],
          "name": "stdout"
        },
        {
          "output_type": "error",
          "ename": "TypeError",
          "evalue": "ignored",
          "traceback": [
            "\u001b[0;31m---------------------------------------------------------------------------\u001b[0m",
            "\u001b[0;31mTypeError\u001b[0m                                 Traceback (most recent call last)",
            "\u001b[0;32m<ipython-input-63-deb601683afd>\u001b[0m in \u001b[0;36m<module>\u001b[0;34m()\u001b[0m\n\u001b[1;32m      1\u001b[0m \u001b[0;31m#save_model(model, tokenizer, output_dir='/content/drive/MyDrive/Yelp/output_dir_1')\u001b[0m\u001b[0;34m\u001b[0m\u001b[0;34m\u001b[0m\u001b[0;34m\u001b[0m\u001b[0m\n\u001b[0;32m----> 2\u001b[0;31m \u001b[0msave_model\u001b[0m\u001b[0;34m(\u001b[0m\u001b[0mmodel\u001b[0m\u001b[0;34m,\u001b[0m \u001b[0mtokenizer\u001b[0m\u001b[0;34m)\u001b[0m\u001b[0;34m\u001b[0m\u001b[0;34m\u001b[0m\u001b[0m\n\u001b[0m\u001b[1;32m      3\u001b[0m \u001b[0;32mif\u001b[0m \u001b[0mstats_info\u001b[0m\u001b[0;34m[\u001b[0m\u001b[0;34m'Accuracy'\u001b[0m\u001b[0;34m]\u001b[0m \u001b[0;34m>\u001b[0m \u001b[0mbest_accuracy\u001b[0m\u001b[0;34m:\u001b[0m\u001b[0;34m\u001b[0m\u001b[0;34m\u001b[0m\u001b[0m\n\u001b[1;32m      4\u001b[0m     \u001b[0msave_model\u001b[0m\u001b[0;34m(\u001b[0m\u001b[0mmodel\u001b[0m\u001b[0;34m,\u001b[0m \u001b[0mtokenizer\u001b[0m\u001b[0;34m,\u001b[0m \u001b[0moutput_dir\u001b[0m\u001b[0;34m=\u001b[0m\u001b[0;34m'/content/drive/MyDrive/Yelp/output_dir_best'\u001b[0m\u001b[0;34m)\u001b[0m\u001b[0;34m\u001b[0m\u001b[0;34m\u001b[0m\u001b[0m\n\u001b[1;32m      5\u001b[0m     \u001b[0mbest_accuracy\u001b[0m \u001b[0;34m=\u001b[0m \u001b[0mstats_info\u001b[0m\u001b[0;34m[\u001b[0m\u001b[0;34m'Accuracy'\u001b[0m\u001b[0;34m]\u001b[0m\u001b[0;34m\u001b[0m\u001b[0;34m\u001b[0m\u001b[0m\n",
            "\u001b[0;32m<ipython-input-62-8b19c4b89aec>\u001b[0m in \u001b[0;36msave_model\u001b[0;34m(model, tokenizer, output_dir)\u001b[0m\n\u001b[1;32m     18\u001b[0m \u001b[0;34m\u001b[0m\u001b[0m\n\u001b[1;32m     19\u001b[0m     \u001b[0mtokenizer\u001b[0m\u001b[0;34m.\u001b[0m\u001b[0msave_pretrained\u001b[0m\u001b[0;34m(\u001b[0m\u001b[0moutput_dir\u001b[0m\u001b[0;34m)\u001b[0m\u001b[0;34m\u001b[0m\u001b[0;34m\u001b[0m\u001b[0m\n\u001b[0;32m---> 20\u001b[0;31m     \u001b[0mtorch\u001b[0m\u001b[0;34m.\u001b[0m\u001b[0msave\u001b[0m\u001b[0;34m(\u001b[0m\u001b[0mmodel\u001b[0m\u001b[0;34m,\u001b[0m \u001b[0moutput_dir\u001b[0m\u001b[0;34m/\u001b[0m\u001b[0;34m'model'\u001b[0m\u001b[0;34m)\u001b[0m\u001b[0;34m\u001b[0m\u001b[0;34m\u001b[0m\u001b[0m\n\u001b[0m",
            "\u001b[0;31mTypeError\u001b[0m: unsupported operand type(s) for /: 'str' and 'str'"
          ]
        }
      ]
    },
    {
      "cell_type": "code",
      "metadata": {
        "id": "AT-SakIOl7Ne"
      },
      "source": [
        ""
      ],
      "execution_count": null,
      "outputs": []
    },
    {
      "cell_type": "markdown",
      "metadata": {
        "id": "44x8AkQrcQaa"
      },
      "source": [
        "# EL otro\n",
        "\n",
        "---\n",
        "\n"
      ]
    },
    {
      "cell_type": "code",
      "metadata": {
        "colab": {
          "base_uri": "https://localhost:8080/"
        },
        "id": "2nKomsf_JMPj",
        "outputId": "2333604f-b647-42e0-d5df-8cf84e6a0de8"
      },
      "source": [
        "# We'll store a number of quantities such as training and validation loss, \n",
        "# validation accuracy, and timings.\n",
        "training_stats = []\n",
        "\n",
        "# Measure the total training time for the whole run.\n",
        "total_t0 = time.time()\n",
        "\n",
        "# For each epoch...\n",
        "for epoch_i in range(0, epochs):\n",
        "    \n",
        "    # ========================================\n",
        "    #               Training\n",
        "    # ========================================\n",
        "    \n",
        "    # Perform one full pass over the training set.\n",
        "\n",
        "    print(\"\")\n",
        "    print('======== Epoch {:} / {:} ========'.format(epoch_i + 1, epochs))\n",
        "    print('Training...')\n",
        "\n",
        "    # Measure how long the training epoch takes.\n",
        "    t0 = time.time()\n",
        "\n",
        "    # Reset the total loss for this epoch.\n",
        "    total_train_loss = 0\n",
        "\n",
        "    # Put the model into training mode. Don't be mislead--the call to \n",
        "    # `train` just changes the *mode*, it doesn't *perform* the training.\n",
        "    # `dropout` and `batchnorm` layers behave differently during training\n",
        "    # vs. test (source: https://stackoverflow.com/questions/51433378/what-does-model-train-do-in-pytorch)\n",
        "    model.train()\n",
        "\n",
        "    # For each batch of training data...\n",
        "    for step, batch in enumerate(train_dataloader):\n",
        "\n",
        "        # Progress update every 40 batches.\n",
        "        if step % 40 == 0 and not step == 0:\n",
        "            # Calculate elapsed time in minutes.\n",
        "            elapsed = format_time(time.time() - t0)\n",
        "            \n",
        "            # Report progress.\n",
        "            print('  Batch {:>5,}  of  {:>5,}.    Elapsed: {:}.'.format(step, len(train_dataloader), elapsed))\n",
        "\n",
        "        # Unpack this training batch from our dataloader. \n",
        "        #\n",
        "        # As we unpack the batch, we'll also copy each tensor to the GPU using the \n",
        "        # `to` method.\n",
        "        #\n",
        "        # `batch` contains three pytorch tensors:\n",
        "        #   [0]: input ids \n",
        "        #   [1]: attention masks\n",
        "        #   [2]: labels \n",
        "        b_input_ids = batch[0].to(device)\n",
        "        b_input_mask = batch[1].to(device)\n",
        "        b_labels = batch[2].to(device)\n",
        "\n",
        "        # Always clear any previously calculated gradients before performing a\n",
        "        # backward pass. PyTorch doesn't do this automatically because \n",
        "        # accumulating the gradients is \"convenient while training RNNs\". \n",
        "        # (source: https://stackoverflow.com/questions/48001598/why-do-we-need-to-call-zero-grad-in-pytorch)\n",
        "        model.zero_grad()        \n",
        "\n",
        "        # Perform a forward pass (evaluate the model on this training batch).\n",
        "        # The documentation for this `model` function is here: \n",
        "        # https://huggingface.co/transformers/v2.2.0/model_doc/bert.html#transformers.BertForSequenceClassification\n",
        "        # It returns different numbers of parameters depending on what arguments\n",
        "        # arge given and what flags are set. For our useage here, it returns\n",
        "        # the loss (because we provided labels) and the \"logits\"--the model\n",
        "        # outputs prior to activation.\n",
        "        loss_logits = model(b_input_ids, \n",
        "                             token_type_ids=None, \n",
        "                             attention_mask=b_input_mask, \n",
        "                             labels=b_labels)\n",
        "\n",
        "        loss = loss_logits[0]\n",
        "        logits = loss_logits[1]\n",
        "        # Accumulate the training loss over all of the batches so that we can\n",
        "        # calculate the average loss at the end. `loss` is a Tensor containing a\n",
        "        # single value; the `.item()` function just returns the Python value \n",
        "        # from the tensor.\n",
        "        total_train_loss += loss.item()\n",
        "\n",
        "        # Perform a backward pass to calculate the gradients.\n",
        "        loss.backward()\n",
        "\n",
        "        # Clip the norm of the gradients to 1.0.\n",
        "        # This is to help prevent the \"exploding gradients\" problem.\n",
        "        torch.nn.utils.clip_grad_norm_(model.parameters(), 1.0)\n",
        "\n",
        "        # Update parameters and take a step using the computed gradient.\n",
        "        # The optimizer dictates the \"update rule\"--how the parameters are\n",
        "        # modified based on their gradients, the learning rate, etc.\n",
        "        optimizer.step()\n",
        "\n",
        "        # Update the learning rate.\n",
        "        scheduler.step()\n",
        "\n",
        "    # Calculate the average loss over all of the batches.\n",
        "    avg_train_loss = total_train_loss / len(train_dataloader)            \n",
        "    \n",
        "    # Measure how long this epoch took.\n",
        "    training_time = format_time(time.time() - t0)\n",
        "\n",
        "    print(\"\")\n",
        "    print(\"  Average training loss: {0:.2f}\".format(avg_train_loss))\n",
        "    print(\"  Training epcoh took: {:}\".format(training_time))\n",
        "        \n",
        "    # ========================================\n",
        "    #               Validation\n",
        "    # ========================================\n",
        "    # After the completion of each training epoch, measure our performance on\n",
        "    # our validation set.\n",
        "\n",
        "    print(\"\")\n",
        "    print(\"Running Validation...\")\n",
        "\n",
        "    t0 = time.time()\n",
        "\n",
        "    # Put the model in evaluation mode--the dropout layers behave differently\n",
        "    # during evaluation.\n",
        "    model.eval()\n",
        "\n",
        "    # Tracking variables \n",
        "    total_eval_accuracy = 0\n",
        "    total_eval_loss = 0\n",
        "    nb_eval_steps = 0\n",
        "\n",
        "    # Evaluate data for one epoch\n",
        "    for batch in validation_dataloader:\n",
        "        \n",
        "        # Unpack this training batch from our dataloader. \n",
        "        #\n",
        "        # As we unpack the batch, we'll also copy each tensor to the GPU using \n",
        "        # the `to` method.\n",
        "        #\n",
        "        # `batch` contains three pytorch tensors:\n",
        "        #   [0]: input ids \n",
        "        #   [1]: attention masks\n",
        "        #   [2]: labels \n",
        "        b_input_ids = batch[0].to(device)\n",
        "        b_input_mask = batch[1].to(device)\n",
        "        b_labels = batch[2].to(device)\n",
        "        \n",
        "        # Tell pytorch not to bother with constructing the compute graph during\n",
        "        # the forward pass, since this is only needed for backprop (training).\n",
        "        with torch.no_grad():        \n",
        "\n",
        "            # Forward pass, calculate logit predictions.\n",
        "            # token_type_ids is the same as the \"segment ids\", which \n",
        "            # differentiates sentence 1 and 2 in 2-sentence tasks.\n",
        "            # The documentation for this `model` function is here: \n",
        "            # https://huggingface.co/transformers/v2.2.0/model_doc/bert.html#transformers.BertForSequenceClassification\n",
        "            # Get the \"logits\" output by the model. The \"logits\" are the output\n",
        "            # values prior to applying an activation function like the softmax.\n",
        "            loss_logits = model(b_input_ids, \n",
        "                                   token_type_ids=None, \n",
        "                                   attention_mask=b_input_mask,\n",
        "                                   labels=b_labels)\n",
        "            loss = loss_logits[0]\n",
        "            logits = loss_logits[1]\n",
        "        # Accumulate the validation loss.\n",
        "        total_eval_loss += loss.item()\n",
        "\n",
        "        # Move logits and labels to CPU\n",
        "        logits = logits.detach().cpu().numpy()\n",
        "        label_ids = b_labels.to('cpu').numpy()\n",
        "\n",
        "        # Calculate the accuracy for this batch of test sentences, and\n",
        "        # accumulate it over all batches.\n",
        "        total_eval_accuracy += flat_accuracy(logits, label_ids)\n",
        "        \n",
        "\n",
        "    # Report the final accuracy for this validation run.\n",
        "    avg_val_accuracy = total_eval_accuracy / len(validation_dataloader)\n",
        "    print(\"  Accuracy: {0:.2f}\".format(avg_val_accuracy))\n",
        "\n",
        "    # Calculate the average loss over all of the batches.\n",
        "    avg_val_loss = total_eval_loss / len(validation_dataloader)\n",
        "    \n",
        "    # Measure how long the validation run took.\n",
        "    validation_time = format_time(time.time() - t0)\n",
        "    \n",
        "    print(\"  Validation Loss: {0:.2f}\".format(avg_val_loss))\n",
        "    print(\"  Validation took: {:}\".format(validation_time))\n",
        "\n",
        "    # Record all statistics from this epoch.\n",
        "    training_stats.append(\n",
        "        {\n",
        "            'epoch': epoch_i + 1,\n",
        "            'Training Loss': avg_train_loss,\n",
        "            'Valid. Loss': avg_val_loss,\n",
        "            'Valid. Accur.': avg_val_accuracy,\n",
        "            'Training Time': training_time,\n",
        "            'Validation Time': validation_time\n",
        "        }\n",
        "    )\n",
        "\n",
        "print(\"\")\n",
        "print(\"Training complete!\")\n",
        "\n",
        "print(\"Total training took {:} (h:mm:ss)\".format(format_time(time.time()-total_t0)))"
      ],
      "execution_count": null,
      "outputs": [
        {
          "output_type": "stream",
          "text": [
            "\n",
            "======== Epoch 1 / 5 ========\n",
            "Training...\n",
            "  Batch    40  of    282.    Elapsed: 0:00:29.\n",
            "  Batch    80  of    282.    Elapsed: 0:00:58.\n",
            "  Batch   120  of    282.    Elapsed: 0:01:26.\n",
            "  Batch   160  of    282.    Elapsed: 0:01:55.\n",
            "  Batch   200  of    282.    Elapsed: 0:02:24.\n",
            "  Batch   240  of    282.    Elapsed: 0:02:52.\n",
            "  Batch   280  of    282.    Elapsed: 0:03:21.\n",
            "\n",
            "  Average training loss: 0.20\n",
            "  Training epcoh took: 0:03:22\n",
            "\n",
            "Running Validation...\n",
            "  Accuracy: 0.90\n",
            "  Validation Loss: 0.25\n",
            "  Validation took: 0:00:07\n",
            "\n",
            "======== Epoch 2 / 5 ========\n",
            "Training...\n",
            "  Batch    40  of    282.    Elapsed: 0:00:29.\n",
            "  Batch    80  of    282.    Elapsed: 0:00:57.\n",
            "  Batch   120  of    282.    Elapsed: 0:01:26.\n",
            "  Batch   160  of    282.    Elapsed: 0:01:55.\n",
            "  Batch   200  of    282.    Elapsed: 0:02:23.\n",
            "  Batch   240  of    282.    Elapsed: 0:02:52.\n",
            "  Batch   280  of    282.    Elapsed: 0:03:21.\n",
            "\n",
            "  Average training loss: 0.11\n",
            "  Training epcoh took: 0:03:22\n",
            "\n",
            "Running Validation...\n",
            "  Accuracy: 0.90\n",
            "  Validation Loss: 0.28\n",
            "  Validation took: 0:00:07\n",
            "\n",
            "======== Epoch 3 / 5 ========\n",
            "Training...\n",
            "  Batch    40  of    282.    Elapsed: 0:00:29.\n",
            "  Batch    80  of    282.    Elapsed: 0:00:57.\n",
            "  Batch   120  of    282.    Elapsed: 0:01:26.\n",
            "  Batch   160  of    282.    Elapsed: 0:01:55.\n",
            "  Batch   200  of    282.    Elapsed: 0:02:23.\n",
            "  Batch   240  of    282.    Elapsed: 0:02:52.\n",
            "  Batch   280  of    282.    Elapsed: 0:03:21.\n",
            "\n",
            "  Average training loss: 0.06\n",
            "  Training epcoh took: 0:03:22\n",
            "\n",
            "Running Validation...\n",
            "  Accuracy: 0.90\n",
            "  Validation Loss: 0.39\n",
            "  Validation took: 0:00:07\n",
            "\n",
            "======== Epoch 4 / 5 ========\n",
            "Training...\n",
            "  Batch    40  of    282.    Elapsed: 0:00:29.\n",
            "  Batch    80  of    282.    Elapsed: 0:00:57.\n",
            "  Batch   120  of    282.    Elapsed: 0:01:26.\n",
            "  Batch   160  of    282.    Elapsed: 0:01:55.\n",
            "  Batch   200  of    282.    Elapsed: 0:02:23.\n",
            "  Batch   240  of    282.    Elapsed: 0:02:52.\n",
            "  Batch   280  of    282.    Elapsed: 0:03:20.\n",
            "\n",
            "  Average training loss: 0.03\n",
            "  Training epcoh took: 0:03:21\n",
            "\n",
            "Running Validation...\n",
            "  Accuracy: 0.91\n",
            "  Validation Loss: 0.42\n",
            "  Validation took: 0:00:07\n",
            "\n",
            "======== Epoch 5 / 5 ========\n",
            "Training...\n",
            "  Batch    40  of    282.    Elapsed: 0:00:29.\n",
            "  Batch    80  of    282.    Elapsed: 0:00:57.\n",
            "  Batch   120  of    282.    Elapsed: 0:01:26.\n",
            "  Batch   160  of    282.    Elapsed: 0:01:55.\n",
            "  Batch   200  of    282.    Elapsed: 0:02:23.\n",
            "  Batch   240  of    282.    Elapsed: 0:02:52.\n",
            "  Batch   280  of    282.    Elapsed: 0:03:20.\n",
            "\n",
            "  Average training loss: 0.02\n",
            "  Training epcoh took: 0:03:21\n",
            "\n",
            "Running Validation...\n",
            "  Accuracy: 0.91\n",
            "  Validation Loss: 0.42\n",
            "  Validation took: 0:00:07\n",
            "\n",
            "Training complete!\n",
            "Total training took 0:17:24 (h:mm:ss)\n"
          ],
          "name": "stdout"
        }
      ]
    },
    {
      "cell_type": "markdown",
      "metadata": {
        "id": "WlYAMBk-K8Kf"
      },
      "source": [
        "SAVING MODEL"
      ]
    },
    {
      "cell_type": "code",
      "metadata": {
        "id": "adlJFThIK-O9"
      },
      "source": [
        "tokenizer.save_pretrained('/content/drive/MyDrive/Yelp/output_dir_2')\n",
        "torch.save(model, '/content/drive/MyDrive/Yelp/output_dir_2/model-28-DEC')"
      ],
      "execution_count": null,
      "outputs": []
    },
    {
      "cell_type": "markdown",
      "metadata": {
        "id": "obswJqqfJdxp"
      },
      "source": [
        "# Summary of training process"
      ]
    },
    {
      "cell_type": "code",
      "metadata": {
        "colab": {
          "base_uri": "https://localhost:8080/",
          "height": 235
        },
        "id": "eSW8ql8UJgjR",
        "outputId": "8edc80d4-fe18-4bc1-9b18-b68fa0215f91"
      },
      "source": [
        "import pandas as pd\n",
        "\n",
        "# Display floats with two decimal places.\n",
        "pd.set_option('precision', 2)\n",
        "\n",
        "# Create a DataFrame from our training statistics.\n",
        "df_stats = pd.DataFrame(data=training_stats)\n",
        "\n",
        "# Use the 'epoch' as the row index.\n",
        "df_stats = df_stats.set_index('epoch')\n",
        "\n",
        "# A hack to force the column headers to wrap.\n",
        "#df = df.style.set_table_styles([dict(selector=\"th\",props=[('max-width', '70px')])])\n",
        "\n",
        "# Display the table.\n",
        "df_stats"
      ],
      "execution_count": null,
      "outputs": [
        {
          "output_type": "execute_result",
          "data": {
            "text/html": [
              "<div>\n",
              "<style scoped>\n",
              "    .dataframe tbody tr th:only-of-type {\n",
              "        vertical-align: middle;\n",
              "    }\n",
              "\n",
              "    .dataframe tbody tr th {\n",
              "        vertical-align: top;\n",
              "    }\n",
              "\n",
              "    .dataframe thead th {\n",
              "        text-align: right;\n",
              "    }\n",
              "</style>\n",
              "<table border=\"1\" class=\"dataframe\">\n",
              "  <thead>\n",
              "    <tr style=\"text-align: right;\">\n",
              "      <th></th>\n",
              "      <th>Training Loss</th>\n",
              "      <th>Valid. Loss</th>\n",
              "      <th>Valid. Accur.</th>\n",
              "      <th>Training Time</th>\n",
              "      <th>Validation Time</th>\n",
              "    </tr>\n",
              "    <tr>\n",
              "      <th>epoch</th>\n",
              "      <th></th>\n",
              "      <th></th>\n",
              "      <th></th>\n",
              "      <th></th>\n",
              "      <th></th>\n",
              "    </tr>\n",
              "  </thead>\n",
              "  <tbody>\n",
              "    <tr>\n",
              "      <th>1</th>\n",
              "      <td>0.20</td>\n",
              "      <td>0.25</td>\n",
              "      <td>0.90</td>\n",
              "      <td>0:03:22</td>\n",
              "      <td>0:00:07</td>\n",
              "    </tr>\n",
              "    <tr>\n",
              "      <th>2</th>\n",
              "      <td>0.11</td>\n",
              "      <td>0.28</td>\n",
              "      <td>0.90</td>\n",
              "      <td>0:03:22</td>\n",
              "      <td>0:00:07</td>\n",
              "    </tr>\n",
              "    <tr>\n",
              "      <th>3</th>\n",
              "      <td>0.06</td>\n",
              "      <td>0.39</td>\n",
              "      <td>0.90</td>\n",
              "      <td>0:03:22</td>\n",
              "      <td>0:00:07</td>\n",
              "    </tr>\n",
              "    <tr>\n",
              "      <th>4</th>\n",
              "      <td>0.03</td>\n",
              "      <td>0.42</td>\n",
              "      <td>0.91</td>\n",
              "      <td>0:03:21</td>\n",
              "      <td>0:00:07</td>\n",
              "    </tr>\n",
              "    <tr>\n",
              "      <th>5</th>\n",
              "      <td>0.02</td>\n",
              "      <td>0.42</td>\n",
              "      <td>0.91</td>\n",
              "      <td>0:03:21</td>\n",
              "      <td>0:00:07</td>\n",
              "    </tr>\n",
              "  </tbody>\n",
              "</table>\n",
              "</div>"
            ],
            "text/plain": [
              "       Training Loss  Valid. Loss  Valid. Accur. Training Time Validation Time\n",
              "epoch                                                                         \n",
              "1               0.20         0.25           0.90       0:03:22         0:00:07\n",
              "2               0.11         0.28           0.90       0:03:22         0:00:07\n",
              "3               0.06         0.39           0.90       0:03:22         0:00:07\n",
              "4               0.03         0.42           0.91       0:03:21         0:00:07\n",
              "5               0.02         0.42           0.91       0:03:21         0:00:07"
            ]
          },
          "metadata": {
            "tags": []
          },
          "execution_count": 25
        }
      ]
    },
    {
      "cell_type": "markdown",
      "metadata": {
        "id": "PXXsUPFwQ8_n"
      },
      "source": [
        "INSERT EXPLANATION HERE"
      ]
    },
    {
      "cell_type": "code",
      "metadata": {
        "colab": {
          "base_uri": "https://localhost:8080/",
          "height": 427
        },
        "id": "2qbAEyluQjy2",
        "outputId": "b778b415-7184-44c8-bd87-4b38be146602"
      },
      "source": [
        "import matplotlib.pyplot as plt\n",
        "% matplotlib inline\n",
        "\n",
        "import seaborn as sns\n",
        "\n",
        "# Use plot styling from seaborn.\n",
        "sns.set(style='darkgrid')\n",
        "\n",
        "# Increase the plot size and font size.\n",
        "sns.set(font_scale=1.5)\n",
        "plt.rcParams[\"figure.figsize\"] = (12,6)\n",
        "\n",
        "# Plot the learning curve.\n",
        "plt.plot(df_stats['Training Loss'], 'b-o', label=\"Training\")\n",
        "plt.plot(df_stats['Valid. Loss'], 'g-o', label=\"Validation\")\n",
        "\n",
        "# Label the plot.\n",
        "plt.title(\"Training & Validation Loss\")\n",
        "plt.xlabel(\"Epoch\")\n",
        "plt.ylabel(\"Loss\")\n",
        "plt.legend()\n",
        "plt.xticks([1, 2, 3, 4])\n",
        "\n",
        "plt.show()"
      ],
      "execution_count": null,
      "outputs": [
        {
          "output_type": "display_data",
          "data": {
            "image/png": "[encoded data removed]",
            "text/plain": [
              "<Figure size 864x432 with 1 Axes>"
            ]
          },
          "metadata": {
            "tags": []
          }
        }
      ]
    },
    {
      "cell_type": "code",
      "metadata": {
        "id": "scERsFZtQ_lS"
      },
      "source": [
        ""
      ],
      "execution_count": null,
      "outputs": []
    }
  ]
}