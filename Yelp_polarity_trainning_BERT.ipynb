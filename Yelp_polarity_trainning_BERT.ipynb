{
  "nbformat": 4,
  "nbformat_minor": 0,
  "metadata": {
    "colab": {
      "name": "Yelp-polarity-trainning_BERT.ipynb",
      "provenance": [],
      "collapsed_sections": [],
      "authorship_tag": "ABX9TyNAsOyJ58P9/2k6CLKK/M8C",
      "include_colab_link": true
    },
    "kernelspec": {
      "name": "python3",
      "display_name": "Python 3"
    },
    "accelerator": "GPU",
    "widgets": {
      "application/vnd.jupyter.widget-state+json": {
        "7a973b5cf87547aea1201571a18d3947": {
          "model_module": "@jupyter-widgets/controls",
          "model_name": "HBoxModel",
          "state": {
            "_view_name": "HBoxView",
            "_dom_classes": [],
            "_model_name": "HBoxModel",
            "_view_module": "@jupyter-widgets/controls",
            "_model_module_version": "1.5.0",
            "_view_count": null,
            "_view_module_version": "1.5.0",
            "box_style": "",
            "layout": "IPY_MODEL_25125eaa141a4114b4b6f2eb1a575edc",
            "_model_module": "@jupyter-widgets/controls",
            "children": [
              "IPY_MODEL_9c670470503e4ec4ab5e792194328bc1",
              "IPY_MODEL_13b57a4cbbd742e7a07b99d03edfaf74"
            ]
          }
        },
        "25125eaa141a4114b4b6f2eb1a575edc": {
          "model_module": "@jupyter-widgets/base",
          "model_name": "LayoutModel",
          "state": {
            "_view_name": "LayoutView",
            "grid_template_rows": null,
            "right": null,
            "justify_content": null,
            "_view_module": "@jupyter-widgets/base",
            "overflow": null,
            "_model_module_version": "1.2.0",
            "_view_count": null,
            "flex_flow": null,
            "width": null,
            "min_width": null,
            "border": null,
            "align_items": null,
            "bottom": null,
            "_model_module": "@jupyter-widgets/base",
            "top": null,
            "grid_column": null,
            "overflow_y": null,
            "overflow_x": null,
            "grid_auto_flow": null,
            "grid_area": null,
            "grid_template_columns": null,
            "flex": null,
            "_model_name": "LayoutModel",
            "justify_items": null,
            "grid_row": null,
            "max_height": null,
            "align_content": null,
            "visibility": null,
            "align_self": null,
            "height": null,
            "min_height": null,
            "padding": null,
            "grid_auto_rows": null,
            "grid_gap": null,
            "max_width": null,
            "order": null,
            "_view_module_version": "1.2.0",
            "grid_template_areas": null,
            "object_position": null,
            "object_fit": null,
            "grid_auto_columns": null,
            "margin": null,
            "display": null,
            "left": null
          }
        },
        "9c670470503e4ec4ab5e792194328bc1": {
          "model_module": "@jupyter-widgets/controls",
          "model_name": "FloatProgressModel",
          "state": {
            "_view_name": "ProgressView",
            "style": "IPY_MODEL_62e410bed8864806b3c3842424af4949",
            "_dom_classes": [],
            "description": "Downloading: 100%",
            "_model_name": "FloatProgressModel",
            "bar_style": "success",
            "max": 231508,
            "_view_module": "@jupyter-widgets/controls",
            "_model_module_version": "1.5.0",
            "value": 231508,
            "_view_count": null,
            "_view_module_version": "1.5.0",
            "orientation": "horizontal",
            "min": 0,
            "description_tooltip": null,
            "_model_module": "@jupyter-widgets/controls",
            "layout": "IPY_MODEL_f90f9bd05b104247abfbc5b5f055b073"
          }
        },
        "13b57a4cbbd742e7a07b99d03edfaf74": {
          "model_module": "@jupyter-widgets/controls",
          "model_name": "HTMLModel",
          "state": {
            "_view_name": "HTMLView",
            "style": "IPY_MODEL_5eedf2bceb6c414b8be21450d8c90fb3",
            "_dom_classes": [],
            "description": "",
            "_model_name": "HTMLModel",
            "placeholder": "​",
            "_view_module": "@jupyter-widgets/controls",
            "_model_module_version": "1.5.0",
            "value": " 232k/232k [00:00&lt;00:00, 3.29MB/s]",
            "_view_count": null,
            "_view_module_version": "1.5.0",
            "description_tooltip": null,
            "_model_module": "@jupyter-widgets/controls",
            "layout": "IPY_MODEL_0a4f0517ad994d44a9f27fb131f85588"
          }
        },
        "62e410bed8864806b3c3842424af4949": {
          "model_module": "@jupyter-widgets/controls",
          "model_name": "ProgressStyleModel",
          "state": {
            "_view_name": "StyleView",
            "_model_name": "ProgressStyleModel",
            "description_width": "initial",
            "_view_module": "@jupyter-widgets/base",
            "_model_module_version": "1.5.0",
            "_view_count": null,
            "_view_module_version": "1.2.0",
            "bar_color": null,
            "_model_module": "@jupyter-widgets/controls"
          }
        },
        "f90f9bd05b104247abfbc5b5f055b073": {
          "model_module": "@jupyter-widgets/base",
          "model_name": "LayoutModel",
          "state": {
            "_view_name": "LayoutView",
            "grid_template_rows": null,
            "right": null,
            "justify_content": null,
            "_view_module": "@jupyter-widgets/base",
            "overflow": null,
            "_model_module_version": "1.2.0",
            "_view_count": null,
            "flex_flow": null,
            "width": null,
            "min_width": null,
            "border": null,
            "align_items": null,
            "bottom": null,
            "_model_module": "@jupyter-widgets/base",
            "top": null,
            "grid_column": null,
            "overflow_y": null,
            "overflow_x": null,
            "grid_auto_flow": null,
            "grid_area": null,
            "grid_template_columns": null,
            "flex": null,
            "_model_name": "LayoutModel",
            "justify_items": null,
            "grid_row": null,
            "max_height": null,
            "align_content": null,
            "visibility": null,
            "align_self": null,
            "height": null,
            "min_height": null,
            "padding": null,
            "grid_auto_rows": null,
            "grid_gap": null,
            "max_width": null,
            "order": null,
            "_view_module_version": "1.2.0",
            "grid_template_areas": null,
            "object_position": null,
            "object_fit": null,
            "grid_auto_columns": null,
            "margin": null,
            "display": null,
            "left": null
          }
        },
        "5eedf2bceb6c414b8be21450d8c90fb3": {
          "model_module": "@jupyter-widgets/controls",
          "model_name": "DescriptionStyleModel",
          "state": {
            "_view_name": "StyleView",
            "_model_name": "DescriptionStyleModel",
            "description_width": "",
            "_view_module": "@jupyter-widgets/base",
            "_model_module_version": "1.5.0",
            "_view_count": null,
            "_view_module_version": "1.2.0",
            "_model_module": "@jupyter-widgets/controls"
          }
        },
        "0a4f0517ad994d44a9f27fb131f85588": {
          "model_module": "@jupyter-widgets/base",
          "model_name": "LayoutModel",
          "state": {
            "_view_name": "LayoutView",
            "grid_template_rows": null,
            "right": null,
            "justify_content": null,
            "_view_module": "@jupyter-widgets/base",
            "overflow": null,
            "_model_module_version": "1.2.0",
            "_view_count": null,
            "flex_flow": null,
            "width": null,
            "min_width": null,
            "border": null,
            "align_items": null,
            "bottom": null,
            "_model_module": "@jupyter-widgets/base",
            "top": null,
            "grid_column": null,
            "overflow_y": null,
            "overflow_x": null,
            "grid_auto_flow": null,
            "grid_area": null,
            "grid_template_columns": null,
            "flex": null,
            "_model_name": "LayoutModel",
            "justify_items": null,
            "grid_row": null,
            "max_height": null,
            "align_content": null,
            "visibility": null,
            "align_self": null,
            "height": null,
            "min_height": null,
            "padding": null,
            "grid_auto_rows": null,
            "grid_gap": null,
            "max_width": null,
            "order": null,
            "_view_module_version": "1.2.0",
            "grid_template_areas": null,
            "object_position": null,
            "object_fit": null,
            "grid_auto_columns": null,
            "margin": null,
            "display": null,
            "left": null
          }
        },
        "21dac3d93733428a99c110cc576abfa6": {
          "model_module": "@jupyter-widgets/controls",
          "model_name": "HBoxModel",
          "state": {
            "_view_name": "HBoxView",
            "_dom_classes": [],
            "_model_name": "HBoxModel",
            "_view_module": "@jupyter-widgets/controls",
            "_model_module_version": "1.5.0",
            "_view_count": null,
            "_view_module_version": "1.5.0",
            "box_style": "",
            "layout": "IPY_MODEL_f20aad63bf2d4d6f830e14bd1352001e",
            "_model_module": "@jupyter-widgets/controls",
            "children": [
              "IPY_MODEL_4425da2c7cd44e1ca6dec2da41b45ab4",
              "IPY_MODEL_f009f7dda31d4d02b4ab78baffcef3bb"
            ]
          }
        },
        "f20aad63bf2d4d6f830e14bd1352001e": {
          "model_module": "@jupyter-widgets/base",
          "model_name": "LayoutModel",
          "state": {
            "_view_name": "LayoutView",
            "grid_template_rows": null,
            "right": null,
            "justify_content": null,
            "_view_module": "@jupyter-widgets/base",
            "overflow": null,
            "_model_module_version": "1.2.0",
            "_view_count": null,
            "flex_flow": null,
            "width": null,
            "min_width": null,
            "border": null,
            "align_items": null,
            "bottom": null,
            "_model_module": "@jupyter-widgets/base",
            "top": null,
            "grid_column": null,
            "overflow_y": null,
            "overflow_x": null,
            "grid_auto_flow": null,
            "grid_area": null,
            "grid_template_columns": null,
            "flex": null,
            "_model_name": "LayoutModel",
            "justify_items": null,
            "grid_row": null,
            "max_height": null,
            "align_content": null,
            "visibility": null,
            "align_self": null,
            "height": null,
            "min_height": null,
            "padding": null,
            "grid_auto_rows": null,
            "grid_gap": null,
            "max_width": null,
            "order": null,
            "_view_module_version": "1.2.0",
            "grid_template_areas": null,
            "object_position": null,
            "object_fit": null,
            "grid_auto_columns": null,
            "margin": null,
            "display": null,
            "left": null
          }
        },
        "4425da2c7cd44e1ca6dec2da41b45ab4": {
          "model_module": "@jupyter-widgets/controls",
          "model_name": "FloatProgressModel",
          "state": {
            "_view_name": "ProgressView",
            "style": "IPY_MODEL_d760b542632645e9bd902068502c2c65",
            "_dom_classes": [],
            "description": "Downloading: 100%",
            "_model_name": "FloatProgressModel",
            "bar_style": "success",
            "max": 433,
            "_view_module": "@jupyter-widgets/controls",
            "_model_module_version": "1.5.0",
            "value": 433,
            "_view_count": null,
            "_view_module_version": "1.5.0",
            "orientation": "horizontal",
            "min": 0,
            "description_tooltip": null,
            "_model_module": "@jupyter-widgets/controls",
            "layout": "IPY_MODEL_e5566e11ef964965aba74637ba625739"
          }
        },
        "f009f7dda31d4d02b4ab78baffcef3bb": {
          "model_module": "@jupyter-widgets/controls",
          "model_name": "HTMLModel",
          "state": {
            "_view_name": "HTMLView",
            "style": "IPY_MODEL_3288c7b476da4644a82147555cba2e4a",
            "_dom_classes": [],
            "description": "",
            "_model_name": "HTMLModel",
            "placeholder": "​",
            "_view_module": "@jupyter-widgets/controls",
            "_model_module_version": "1.5.0",
            "value": " 433/433 [00:00&lt;00:00, 2.64kB/s]",
            "_view_count": null,
            "_view_module_version": "1.5.0",
            "description_tooltip": null,
            "_model_module": "@jupyter-widgets/controls",
            "layout": "IPY_MODEL_17fa87a7e04a49b0b62f172dbef3cd8d"
          }
        },
        "d760b542632645e9bd902068502c2c65": {
          "model_module": "@jupyter-widgets/controls",
          "model_name": "ProgressStyleModel",
          "state": {
            "_view_name": "StyleView",
            "_model_name": "ProgressStyleModel",
            "description_width": "initial",
            "_view_module": "@jupyter-widgets/base",
            "_model_module_version": "1.5.0",
            "_view_count": null,
            "_view_module_version": "1.2.0",
            "bar_color": null,
            "_model_module": "@jupyter-widgets/controls"
          }
        },
        "e5566e11ef964965aba74637ba625739": {
          "model_module": "@jupyter-widgets/base",
          "model_name": "LayoutModel",
          "state": {
            "_view_name": "LayoutView",
            "grid_template_rows": null,
            "right": null,
            "justify_content": null,
            "_view_module": "@jupyter-widgets/base",
            "overflow": null,
            "_model_module_version": "1.2.0",
            "_view_count": null,
            "flex_flow": null,
            "width": null,
            "min_width": null,
            "border": null,
            "align_items": null,
            "bottom": null,
            "_model_module": "@jupyter-widgets/base",
            "top": null,
            "grid_column": null,
            "overflow_y": null,
            "overflow_x": null,
            "grid_auto_flow": null,
            "grid_area": null,
            "grid_template_columns": null,
            "flex": null,
            "_model_name": "LayoutModel",
            "justify_items": null,
            "grid_row": null,
            "max_height": null,
            "align_content": null,
            "visibility": null,
            "align_self": null,
            "height": null,
            "min_height": null,
            "padding": null,
            "grid_auto_rows": null,
            "grid_gap": null,
            "max_width": null,
            "order": null,
            "_view_module_version": "1.2.0",
            "grid_template_areas": null,
            "object_position": null,
            "object_fit": null,
            "grid_auto_columns": null,
            "margin": null,
            "display": null,
            "left": null
          }
        },
        "3288c7b476da4644a82147555cba2e4a": {
          "model_module": "@jupyter-widgets/controls",
          "model_name": "DescriptionStyleModel",
          "state": {
            "_view_name": "StyleView",
            "_model_name": "DescriptionStyleModel",
            "description_width": "",
            "_view_module": "@jupyter-widgets/base",
            "_model_module_version": "1.5.0",
            "_view_count": null,
            "_view_module_version": "1.2.0",
            "_model_module": "@jupyter-widgets/controls"
          }
        },
        "17fa87a7e04a49b0b62f172dbef3cd8d": {
          "model_module": "@jupyter-widgets/base",
          "model_name": "LayoutModel",
          "state": {
            "_view_name": "LayoutView",
            "grid_template_rows": null,
            "right": null,
            "justify_content": null,
            "_view_module": "@jupyter-widgets/base",
            "overflow": null,
            "_model_module_version": "1.2.0",
            "_view_count": null,
            "flex_flow": null,
            "width": null,
            "min_width": null,
            "border": null,
            "align_items": null,
            "bottom": null,
            "_model_module": "@jupyter-widgets/base",
            "top": null,
            "grid_column": null,
            "overflow_y": null,
            "overflow_x": null,
            "grid_auto_flow": null,
            "grid_area": null,
            "grid_template_columns": null,
            "flex": null,
            "_model_name": "LayoutModel",
            "justify_items": null,
            "grid_row": null,
            "max_height": null,
            "align_content": null,
            "visibility": null,
            "align_self": null,
            "height": null,
            "min_height": null,
            "padding": null,
            "grid_auto_rows": null,
            "grid_gap": null,
            "max_width": null,
            "order": null,
            "_view_module_version": "1.2.0",
            "grid_template_areas": null,
            "object_position": null,
            "object_fit": null,
            "grid_auto_columns": null,
            "margin": null,
            "display": null,
            "left": null
          }
        },
        "81501a155333408fb8b4de3f836a30d3": {
          "model_module": "@jupyter-widgets/controls",
          "model_name": "HBoxModel",
          "state": {
            "_view_name": "HBoxView",
            "_dom_classes": [],
            "_model_name": "HBoxModel",
            "_view_module": "@jupyter-widgets/controls",
            "_model_module_version": "1.5.0",
            "_view_count": null,
            "_view_module_version": "1.5.0",
            "box_style": "",
            "layout": "IPY_MODEL_89a28b198bef4b5ca3691a430c79d172",
            "_model_module": "@jupyter-widgets/controls",
            "children": [
              "IPY_MODEL_346ba0d9c33346c2b1c82a56d918ab45",
              "IPY_MODEL_969561168ccd47e5a3a01dc485bd4c7c"
            ]
          }
        },
        "89a28b198bef4b5ca3691a430c79d172": {
          "model_module": "@jupyter-widgets/base",
          "model_name": "LayoutModel",
          "state": {
            "_view_name": "LayoutView",
            "grid_template_rows": null,
            "right": null,
            "justify_content": null,
            "_view_module": "@jupyter-widgets/base",
            "overflow": null,
            "_model_module_version": "1.2.0",
            "_view_count": null,
            "flex_flow": null,
            "width": null,
            "min_width": null,
            "border": null,
            "align_items": null,
            "bottom": null,
            "_model_module": "@jupyter-widgets/base",
            "top": null,
            "grid_column": null,
            "overflow_y": null,
            "overflow_x": null,
            "grid_auto_flow": null,
            "grid_area": null,
            "grid_template_columns": null,
            "flex": null,
            "_model_name": "LayoutModel",
            "justify_items": null,
            "grid_row": null,
            "max_height": null,
            "align_content": null,
            "visibility": null,
            "align_self": null,
            "height": null,
            "min_height": null,
            "padding": null,
            "grid_auto_rows": null,
            "grid_gap": null,
            "max_width": null,
            "order": null,
            "_view_module_version": "1.2.0",
            "grid_template_areas": null,
            "object_position": null,
            "object_fit": null,
            "grid_auto_columns": null,
            "margin": null,
            "display": null,
            "left": null
          }
        },
        "346ba0d9c33346c2b1c82a56d918ab45": {
          "model_module": "@jupyter-widgets/controls",
          "model_name": "FloatProgressModel",
          "state": {
            "_view_name": "ProgressView",
            "style": "IPY_MODEL_7d1381c7f56b4855bf16ba2009350e85",
            "_dom_classes": [],
            "description": "Downloading: 100%",
            "_model_name": "FloatProgressModel",
            "bar_style": "success",
            "max": 440473133,
            "_view_module": "@jupyter-widgets/controls",
            "_model_module_version": "1.5.0",
            "value": 440473133,
            "_view_count": null,
            "_view_module_version": "1.5.0",
            "orientation": "horizontal",
            "min": 0,
            "description_tooltip": null,
            "_model_module": "@jupyter-widgets/controls",
            "layout": "IPY_MODEL_ec684c07d48048b0a316979ec97503e5"
          }
        },
        "969561168ccd47e5a3a01dc485bd4c7c": {
          "model_module": "@jupyter-widgets/controls",
          "model_name": "HTMLModel",
          "state": {
            "_view_name": "HTMLView",
            "style": "IPY_MODEL_2156b7dd7e864dbdadb810ac7c8ec18d",
            "_dom_classes": [],
            "description": "",
            "_model_name": "HTMLModel",
            "placeholder": "​",
            "_view_module": "@jupyter-widgets/controls",
            "_model_module_version": "1.5.0",
            "value": " 440M/440M [00:06&lt;00:00, 72.2MB/s]",
            "_view_count": null,
            "_view_module_version": "1.5.0",
            "description_tooltip": null,
            "_model_module": "@jupyter-widgets/controls",
            "layout": "IPY_MODEL_751ea2462777406f99b0487aa5aabd87"
          }
        },
        "7d1381c7f56b4855bf16ba2009350e85": {
          "model_module": "@jupyter-widgets/controls",
          "model_name": "ProgressStyleModel",
          "state": {
            "_view_name": "StyleView",
            "_model_name": "ProgressStyleModel",
            "description_width": "initial",
            "_view_module": "@jupyter-widgets/base",
            "_model_module_version": "1.5.0",
            "_view_count": null,
            "_view_module_version": "1.2.0",
            "bar_color": null,
            "_model_module": "@jupyter-widgets/controls"
          }
        },
        "ec684c07d48048b0a316979ec97503e5": {
          "model_module": "@jupyter-widgets/base",
          "model_name": "LayoutModel",
          "state": {
            "_view_name": "LayoutView",
            "grid_template_rows": null,
            "right": null,
            "justify_content": null,
            "_view_module": "@jupyter-widgets/base",
            "overflow": null,
            "_model_module_version": "1.2.0",
            "_view_count": null,
            "flex_flow": null,
            "width": null,
            "min_width": null,
            "border": null,
            "align_items": null,
            "bottom": null,
            "_model_module": "@jupyter-widgets/base",
            "top": null,
            "grid_column": null,
            "overflow_y": null,
            "overflow_x": null,
            "grid_auto_flow": null,
            "grid_area": null,
            "grid_template_columns": null,
            "flex": null,
            "_model_name": "LayoutModel",
            "justify_items": null,
            "grid_row": null,
            "max_height": null,
            "align_content": null,
            "visibility": null,
            "align_self": null,
            "height": null,
            "min_height": null,
            "padding": null,
            "grid_auto_rows": null,
            "grid_gap": null,
            "max_width": null,
            "order": null,
            "_view_module_version": "1.2.0",
            "grid_template_areas": null,
            "object_position": null,
            "object_fit": null,
            "grid_auto_columns": null,
            "margin": null,
            "display": null,
            "left": null
          }
        },
        "2156b7dd7e864dbdadb810ac7c8ec18d": {
          "model_module": "@jupyter-widgets/controls",
          "model_name": "DescriptionStyleModel",
          "state": {
            "_view_name": "StyleView",
            "_model_name": "DescriptionStyleModel",
            "description_width": "",
            "_view_module": "@jupyter-widgets/base",
            "_model_module_version": "1.5.0",
            "_view_count": null,
            "_view_module_version": "1.2.0",
            "_model_module": "@jupyter-widgets/controls"
          }
        },
        "751ea2462777406f99b0487aa5aabd87": {
          "model_module": "@jupyter-widgets/base",
          "model_name": "LayoutModel",
          "state": {
            "_view_name": "LayoutView",
            "grid_template_rows": null,
            "right": null,
            "justify_content": null,
            "_view_module": "@jupyter-widgets/base",
            "overflow": null,
            "_model_module_version": "1.2.0",
            "_view_count": null,
            "flex_flow": null,
            "width": null,
            "min_width": null,
            "border": null,
            "align_items": null,
            "bottom": null,
            "_model_module": "@jupyter-widgets/base",
            "top": null,
            "grid_column": null,
            "overflow_y": null,
            "overflow_x": null,
            "grid_auto_flow": null,
            "grid_area": null,
            "grid_template_columns": null,
            "flex": null,
            "_model_name": "LayoutModel",
            "justify_items": null,
            "grid_row": null,
            "max_height": null,
            "align_content": null,
            "visibility": null,
            "align_self": null,
            "height": null,
            "min_height": null,
            "padding": null,
            "grid_auto_rows": null,
            "grid_gap": null,
            "max_width": null,
            "order": null,
            "_view_module_version": "1.2.0",
            "grid_template_areas": null,
            "object_position": null,
            "object_fit": null,
            "grid_auto_columns": null,
            "margin": null,
            "display": null,
            "left": null
          }
        }
      }
    }
  },
  "cells": [
    {
      "cell_type": "markdown",
      "metadata": {
        "id": "view-in-github",
        "colab_type": "text"
      },
      "source": [
        "<a href=\"https://colab.research.google.com/github/lupis30puc/yelp_bert_random_forest/blob/lupis30puc-update-2/Yelp_polarity_trainning_BERT.ipynb\" target=\"_parent\"><img src=\"https://colab.research.google.com/assets/colab-badge.svg\" alt=\"Open In Colab\"/></a>"
      ]
    },
    {
      "cell_type": "markdown",
      "metadata": {
        "id": "-HbrtITbQFIB"
      },
      "source": [
        "[Yelp Polarity on kaggle](https://www.kaggle.com/yelp-dataset/yelp-dataset)\n",
        "\n",
        "12,993 samples from the Yelp Dataset Challenge 2020. \n",
        "Divided on train, validation and test subsets. \n",
        "Their corresponding sizes are: 10,394 train samples, 1,949 validation samples and 650 test samples.\n",
        "\n",
        "\n",
        "Tutorial on which I support: \n",
        "[BERT Fine-Tunning](http://mccormickml.com/2019/07/22/BERT-fine-tuning/#41-bertforsequenceclassification)\n",
        "[Colab: BERT for sequential classification](https://colab.research.google.com/drive/1pTuQhug6Dhl9XalKB0zUGf4FIdYFlpcX#scrollTo=DEfSbAA4QHas)\n"
      ]
    },
    {
      "cell_type": "code",
      "metadata": {
        "colab": {
          "base_uri": "https://localhost:8080/"
        },
        "id": "vEtLBK3KQmal",
        "outputId": "eaf49a31-1381-496e-8fc1-d3beb3f3aeff"
      },
      "source": [
        "!pip install transformers"
      ],
      "execution_count": 1,
      "outputs": [
        {
          "output_type": "stream",
          "text": [
            "Collecting transformers\n",
            "\u001b[?25l  Downloading https://files.pythonhosted.org/packages/50/0c/7d5950fcd80b029be0a8891727ba21e0cd27692c407c51261c3c921f6da3/transformers-4.1.1-py3-none-any.whl (1.5MB)\n",
            "\r\u001b[K     |▏                               | 10kB 21.0MB/s eta 0:00:01\r\u001b[K     |▍                               | 20kB 19.1MB/s eta 0:00:01\r\u001b[K     |▋                               | 30kB 16.2MB/s eta 0:00:01\r\u001b[K     |▉                               | 40kB 15.6MB/s eta 0:00:01\r\u001b[K     |█                               | 51kB 12.3MB/s eta 0:00:01\r\u001b[K     |█▎                              | 61kB 12.5MB/s eta 0:00:01\r\u001b[K     |█▌                              | 71kB 12.4MB/s eta 0:00:01\r\u001b[K     |█▊                              | 81kB 12.5MB/s eta 0:00:01\r\u001b[K     |██                              | 92kB 12.5MB/s eta 0:00:01\r\u001b[K     |██▏                             | 102kB 12.4MB/s eta 0:00:01\r\u001b[K     |██▍                             | 112kB 12.4MB/s eta 0:00:01\r\u001b[K     |██▋                             | 122kB 12.4MB/s eta 0:00:01\r\u001b[K     |██▉                             | 133kB 12.4MB/s eta 0:00:01\r\u001b[K     |███                             | 143kB 12.4MB/s eta 0:00:01\r\u001b[K     |███▎                            | 153kB 12.4MB/s eta 0:00:01\r\u001b[K     |███▌                            | 163kB 12.4MB/s eta 0:00:01\r\u001b[K     |███▊                            | 174kB 12.4MB/s eta 0:00:01\r\u001b[K     |████                            | 184kB 12.4MB/s eta 0:00:01\r\u001b[K     |████▏                           | 194kB 12.4MB/s eta 0:00:01\r\u001b[K     |████▎                           | 204kB 12.4MB/s eta 0:00:01\r\u001b[K     |████▌                           | 215kB 12.4MB/s eta 0:00:01\r\u001b[K     |████▊                           | 225kB 12.4MB/s eta 0:00:01\r\u001b[K     |█████                           | 235kB 12.4MB/s eta 0:00:01\r\u001b[K     |█████▏                          | 245kB 12.4MB/s eta 0:00:01\r\u001b[K     |█████▍                          | 256kB 12.4MB/s eta 0:00:01\r\u001b[K     |█████▋                          | 266kB 12.4MB/s eta 0:00:01\r\u001b[K     |█████▉                          | 276kB 12.4MB/s eta 0:00:01\r\u001b[K     |██████                          | 286kB 12.4MB/s eta 0:00:01\r\u001b[K     |██████▎                         | 296kB 12.4MB/s eta 0:00:01\r\u001b[K     |██████▌                         | 307kB 12.4MB/s eta 0:00:01\r\u001b[K     |██████▊                         | 317kB 12.4MB/s eta 0:00:01\r\u001b[K     |███████                         | 327kB 12.4MB/s eta 0:00:01\r\u001b[K     |███████▏                        | 337kB 12.4MB/s eta 0:00:01\r\u001b[K     |███████▍                        | 348kB 12.4MB/s eta 0:00:01\r\u001b[K     |███████▋                        | 358kB 12.4MB/s eta 0:00:01\r\u001b[K     |███████▉                        | 368kB 12.4MB/s eta 0:00:01\r\u001b[K     |████████                        | 378kB 12.4MB/s eta 0:00:01\r\u001b[K     |████████▎                       | 389kB 12.4MB/s eta 0:00:01\r\u001b[K     |████████▌                       | 399kB 12.4MB/s eta 0:00:01\r\u001b[K     |████████▋                       | 409kB 12.4MB/s eta 0:00:01\r\u001b[K     |████████▉                       | 419kB 12.4MB/s eta 0:00:01\r\u001b[K     |█████████                       | 430kB 12.4MB/s eta 0:00:01\r\u001b[K     |█████████▎                      | 440kB 12.4MB/s eta 0:00:01\r\u001b[K     |█████████▌                      | 450kB 12.4MB/s eta 0:00:01\r\u001b[K     |█████████▊                      | 460kB 12.4MB/s eta 0:00:01\r\u001b[K     |██████████                      | 471kB 12.4MB/s eta 0:00:01\r\u001b[K     |██████████▏                     | 481kB 12.4MB/s eta 0:00:01\r\u001b[K     |██████████▍                     | 491kB 12.4MB/s eta 0:00:01\r\u001b[K     |██████████▋                     | 501kB 12.4MB/s eta 0:00:01\r\u001b[K     |██████████▉                     | 512kB 12.4MB/s eta 0:00:01\r\u001b[K     |███████████                     | 522kB 12.4MB/s eta 0:00:01\r\u001b[K     |███████████▎                    | 532kB 12.4MB/s eta 0:00:01\r\u001b[K     |███████████▌                    | 542kB 12.4MB/s eta 0:00:01\r\u001b[K     |███████████▊                    | 552kB 12.4MB/s eta 0:00:01\r\u001b[K     |████████████                    | 563kB 12.4MB/s eta 0:00:01\r\u001b[K     |████████████▏                   | 573kB 12.4MB/s eta 0:00:01\r\u001b[K     |████████████▍                   | 583kB 12.4MB/s eta 0:00:01\r\u001b[K     |████████████▋                   | 593kB 12.4MB/s eta 0:00:01\r\u001b[K     |████████████▉                   | 604kB 12.4MB/s eta 0:00:01\r\u001b[K     |█████████████                   | 614kB 12.4MB/s eta 0:00:01\r\u001b[K     |█████████████▏                  | 624kB 12.4MB/s eta 0:00:01\r\u001b[K     |█████████████▍                  | 634kB 12.4MB/s eta 0:00:01\r\u001b[K     |█████████████▋                  | 645kB 12.4MB/s eta 0:00:01\r\u001b[K     |█████████████▉                  | 655kB 12.4MB/s eta 0:00:01\r\u001b[K     |██████████████                  | 665kB 12.4MB/s eta 0:00:01\r\u001b[K     |██████████████▎                 | 675kB 12.4MB/s eta 0:00:01\r\u001b[K     |██████████████▌                 | 686kB 12.4MB/s eta 0:00:01\r\u001b[K     |██████████████▊                 | 696kB 12.4MB/s eta 0:00:01\r\u001b[K     |███████████████                 | 706kB 12.4MB/s eta 0:00:01\r\u001b[K     |███████████████▏                | 716kB 12.4MB/s eta 0:00:01\r\u001b[K     |███████████████▍                | 727kB 12.4MB/s eta 0:00:01\r\u001b[K     |███████████████▋                | 737kB 12.4MB/s eta 0:00:01\r\u001b[K     |███████████████▉                | 747kB 12.4MB/s eta 0:00:01\r\u001b[K     |████████████████                | 757kB 12.4MB/s eta 0:00:01\r\u001b[K     |████████████████▎               | 768kB 12.4MB/s eta 0:00:01\r\u001b[K     |████████████████▌               | 778kB 12.4MB/s eta 0:00:01\r\u001b[K     |████████████████▊               | 788kB 12.4MB/s eta 0:00:01\r\u001b[K     |█████████████████               | 798kB 12.4MB/s eta 0:00:01\r\u001b[K     |█████████████████               | 808kB 12.4MB/s eta 0:00:01\r\u001b[K     |█████████████████▎              | 819kB 12.4MB/s eta 0:00:01\r\u001b[K     |█████████████████▌              | 829kB 12.4MB/s eta 0:00:01\r\u001b[K     |█████████████████▊              | 839kB 12.4MB/s eta 0:00:01\r\u001b[K     |██████████████████              | 849kB 12.4MB/s eta 0:00:01\r\u001b[K     |██████████████████▏             | 860kB 12.4MB/s eta 0:00:01\r\u001b[K     |██████████████████▍             | 870kB 12.4MB/s eta 0:00:01\r\u001b[K     |██████████████████▋             | 880kB 12.4MB/s eta 0:00:01\r\u001b[K     |██████████████████▉             | 890kB 12.4MB/s eta 0:00:01\r\u001b[K     |███████████████████             | 901kB 12.4MB/s eta 0:00:01\r\u001b[K     |███████████████████▎            | 911kB 12.4MB/s eta 0:00:01\r\u001b[K     |███████████████████▌            | 921kB 12.4MB/s eta 0:00:01\r\u001b[K     |███████████████████▊            | 931kB 12.4MB/s eta 0:00:01\r\u001b[K     |████████████████████            | 942kB 12.4MB/s eta 0:00:01\r\u001b[K     |████████████████████▏           | 952kB 12.4MB/s eta 0:00:01\r\u001b[K     |████████████████████▍           | 962kB 12.4MB/s eta 0:00:01\r\u001b[K     |████████████████████▋           | 972kB 12.4MB/s eta 0:00:01\r\u001b[K     |████████████████████▉           | 983kB 12.4MB/s eta 0:00:01\r\u001b[K     |█████████████████████           | 993kB 12.4MB/s eta 0:00:01\r\u001b[K     |█████████████████████▎          | 1.0MB 12.4MB/s eta 0:00:01\r\u001b[K     |█████████████████████▍          | 1.0MB 12.4MB/s eta 0:00:01\r\u001b[K     |█████████████████████▋          | 1.0MB 12.4MB/s eta 0:00:01\r\u001b[K     |█████████████████████▉          | 1.0MB 12.4MB/s eta 0:00:01\r\u001b[K     |██████████████████████          | 1.0MB 12.4MB/s eta 0:00:01\r\u001b[K     |██████████████████████▎         | 1.1MB 12.4MB/s eta 0:00:01\r\u001b[K     |██████████████████████▌         | 1.1MB 12.4MB/s eta 0:00:01\r\u001b[K     |██████████████████████▊         | 1.1MB 12.4MB/s eta 0:00:01\r\u001b[K     |███████████████████████         | 1.1MB 12.4MB/s eta 0:00:01\r\u001b[K     |███████████████████████▏        | 1.1MB 12.4MB/s eta 0:00:01\r\u001b[K     |███████████████████████▍        | 1.1MB 12.4MB/s eta 0:00:01\r\u001b[K     |███████████████████████▋        | 1.1MB 12.4MB/s eta 0:00:01\r\u001b[K     |███████████████████████▉        | 1.1MB 12.4MB/s eta 0:00:01\r\u001b[K     |████████████████████████        | 1.1MB 12.4MB/s eta 0:00:01\r\u001b[K     |████████████████████████▎       | 1.1MB 12.4MB/s eta 0:00:01\r\u001b[K     |████████████████████████▌       | 1.2MB 12.4MB/s eta 0:00:01\r\u001b[K     |████████████████████████▊       | 1.2MB 12.4MB/s eta 0:00:01\r\u001b[K     |█████████████████████████       | 1.2MB 12.4MB/s eta 0:00:01\r\u001b[K     |█████████████████████████▏      | 1.2MB 12.4MB/s eta 0:00:01\r\u001b[K     |█████████████████████████▍      | 1.2MB 12.4MB/s eta 0:00:01\r\u001b[K     |█████████████████████████▋      | 1.2MB 12.4MB/s eta 0:00:01\r\u001b[K     |█████████████████████████▊      | 1.2MB 12.4MB/s eta 0:00:01\r\u001b[K     |██████████████████████████      | 1.2MB 12.4MB/s eta 0:00:01\r\u001b[K     |██████████████████████████▏     | 1.2MB 12.4MB/s eta 0:00:01\r\u001b[K     |██████████████████████████▍     | 1.2MB 12.4MB/s eta 0:00:01\r\u001b[K     |██████████████████████████▋     | 1.3MB 12.4MB/s eta 0:00:01\r\u001b[K     |██████████████████████████▉     | 1.3MB 12.4MB/s eta 0:00:01\r\u001b[K     |███████████████████████████     | 1.3MB 12.4MB/s eta 0:00:01\r\u001b[K     |███████████████████████████▎    | 1.3MB 12.4MB/s eta 0:00:01\r\u001b[K     |███████████████████████████▌    | 1.3MB 12.4MB/s eta 0:00:01\r\u001b[K     |███████████████████████████▊    | 1.3MB 12.4MB/s eta 0:00:01\r\u001b[K     |████████████████████████████    | 1.3MB 12.4MB/s eta 0:00:01\r\u001b[K     |████████████████████████████▏   | 1.3MB 12.4MB/s eta 0:00:01\r\u001b[K     |████████████████████████████▍   | 1.3MB 12.4MB/s eta 0:00:01\r\u001b[K     |████████████████████████████▋   | 1.4MB 12.4MB/s eta 0:00:01\r\u001b[K     |████████████████████████████▉   | 1.4MB 12.4MB/s eta 0:00:01\r\u001b[K     |█████████████████████████████   | 1.4MB 12.4MB/s eta 0:00:01\r\u001b[K     |█████████████████████████████▎  | 1.4MB 12.4MB/s eta 0:00:01\r\u001b[K     |█████████████████████████████▌  | 1.4MB 12.4MB/s eta 0:00:01\r\u001b[K     |█████████████████████████████▊  | 1.4MB 12.4MB/s eta 0:00:01\r\u001b[K     |█████████████████████████████▉  | 1.4MB 12.4MB/s eta 0:00:01\r\u001b[K     |██████████████████████████████  | 1.4MB 12.4MB/s eta 0:00:01\r\u001b[K     |██████████████████████████████▎ | 1.4MB 12.4MB/s eta 0:00:01\r\u001b[K     |██████████████████████████████▌ | 1.4MB 12.4MB/s eta 0:00:01\r\u001b[K     |██████████████████████████████▊ | 1.5MB 12.4MB/s eta 0:00:01\r\u001b[K     |███████████████████████████████ | 1.5MB 12.4MB/s eta 0:00:01\r\u001b[K     |███████████████████████████████▏| 1.5MB 12.4MB/s eta 0:00:01\r\u001b[K     |███████████████████████████████▍| 1.5MB 12.4MB/s eta 0:00:01\r\u001b[K     |███████████████████████████████▋| 1.5MB 12.4MB/s eta 0:00:01\r\u001b[K     |███████████████████████████████▉| 1.5MB 12.4MB/s eta 0:00:01\r\u001b[K     |████████████████████████████████| 1.5MB 12.4MB/s \n",
            "\u001b[?25hRequirement already satisfied: numpy in /usr/local/lib/python3.6/dist-packages (from transformers) (1.19.4)\n",
            "Collecting tokenizers==0.9.4\n",
            "\u001b[?25l  Downloading https://files.pythonhosted.org/packages/0f/1c/e789a8b12e28be5bc1ce2156cf87cb522b379be9cadc7ad8091a4cc107c4/tokenizers-0.9.4-cp36-cp36m-manylinux2010_x86_64.whl (2.9MB)\n",
            "\u001b[K     |████████████████████████████████| 2.9MB 55.3MB/s \n",
            "\u001b[?25hRequirement already satisfied: regex!=2019.12.17 in /usr/local/lib/python3.6/dist-packages (from transformers) (2019.12.20)\n",
            "Requirement already satisfied: filelock in /usr/local/lib/python3.6/dist-packages (from transformers) (3.0.12)\n",
            "Requirement already satisfied: dataclasses; python_version < \"3.7\" in /usr/local/lib/python3.6/dist-packages (from transformers) (0.8)\n",
            "Requirement already satisfied: packaging in /usr/local/lib/python3.6/dist-packages (from transformers) (20.8)\n",
            "Collecting sacremoses\n",
            "\u001b[?25l  Downloading https://files.pythonhosted.org/packages/7d/34/09d19aff26edcc8eb2a01bed8e98f13a1537005d31e95233fd48216eed10/sacremoses-0.0.43.tar.gz (883kB)\n",
            "\u001b[K     |████████████████████████████████| 890kB 52.8MB/s \n",
            "\u001b[?25hRequirement already satisfied: tqdm>=4.27 in /usr/local/lib/python3.6/dist-packages (from transformers) (4.41.1)\n",
            "Requirement already satisfied: requests in /usr/local/lib/python3.6/dist-packages (from transformers) (2.23.0)\n",
            "Requirement already satisfied: pyparsing>=2.0.2 in /usr/local/lib/python3.6/dist-packages (from packaging->transformers) (2.4.7)\n",
            "Requirement already satisfied: six in /usr/local/lib/python3.6/dist-packages (from sacremoses->transformers) (1.15.0)\n",
            "Requirement already satisfied: click in /usr/local/lib/python3.6/dist-packages (from sacremoses->transformers) (7.1.2)\n",
            "Requirement already satisfied: joblib in /usr/local/lib/python3.6/dist-packages (from sacremoses->transformers) (1.0.0)\n",
            "Requirement already satisfied: chardet<4,>=3.0.2 in /usr/local/lib/python3.6/dist-packages (from requests->transformers) (3.0.4)\n",
            "Requirement already satisfied: certifi>=2017.4.17 in /usr/local/lib/python3.6/dist-packages (from requests->transformers) (2020.12.5)\n",
            "Requirement already satisfied: idna<3,>=2.5 in /usr/local/lib/python3.6/dist-packages (from requests->transformers) (2.10)\n",
            "Requirement already satisfied: urllib3!=1.25.0,!=1.25.1,<1.26,>=1.21.1 in /usr/local/lib/python3.6/dist-packages (from requests->transformers) (1.24.3)\n",
            "Building wheels for collected packages: sacremoses\n",
            "  Building wheel for sacremoses (setup.py) ... \u001b[?25l\u001b[?25hdone\n",
            "  Created wheel for sacremoses: filename=sacremoses-0.0.43-cp36-none-any.whl size=893261 sha256=ba459eb97b2290e73ce9b6f2416988f074fb4f475f44c7354ed6cded617d2299\n",
            "  Stored in directory: /root/.cache/pip/wheels/29/3c/fd/7ce5c3f0666dab31a50123635e6fb5e19ceb42ce38d4e58f45\n",
            "Successfully built sacremoses\n",
            "Installing collected packages: tokenizers, sacremoses, transformers\n",
            "Successfully installed sacremoses-0.0.43 tokenizers-0.9.4 transformers-4.1.1\n"
          ],
          "name": "stdout"
        }
      ]
    },
    {
      "cell_type": "markdown",
      "metadata": {
        "id": "jvjFMVLGRXkG"
      },
      "source": [
        "# Set up"
      ]
    },
    {
      "cell_type": "markdown",
      "metadata": {
        "id": "xOMDc5GRRc1g"
      },
      "source": [
        "## GPU"
      ]
    },
    {
      "cell_type": "code",
      "metadata": {
        "colab": {
          "base_uri": "https://localhost:8080/"
        },
        "id": "CfMcTnCvRXRG",
        "outputId": "004c4649-165d-4627-d54f-fb618658f21a"
      },
      "source": [
        "import tensorflow as tf\n",
        "\n",
        "# Get the GPU device name.\n",
        "device_name = tf.test.gpu_device_name()\n",
        "\n",
        "# The device name should look like the following:\n",
        "if device_name == '/device:GPU:0':\n",
        "    print('Found GPU at: {}'.format(device_name))\n",
        "else:\n",
        "    raise SystemError('GPU device not found')"
      ],
      "execution_count": 2,
      "outputs": [
        {
          "output_type": "stream",
          "text": [
            "Found GPU at: /device:GPU:0\n"
          ],
          "name": "stdout"
        }
      ]
    },
    {
      "cell_type": "code",
      "metadata": {
        "colab": {
          "base_uri": "https://localhost:8080/"
        },
        "id": "6rVlou0fRmHQ",
        "outputId": "0d273747-ef20-4f66-fdef-df521a100f3e"
      },
      "source": [
        "import torch\n",
        "\n",
        "# If there's a GPU available...\n",
        "if torch.cuda.is_available():    \n",
        "\n",
        "    # Tell PyTorch to use the GPU.    \n",
        "    device = torch.device(\"cuda\")\n",
        "\n",
        "    print('There are %d GPU(s) available.' % torch.cuda.device_count())\n",
        "\n",
        "    print('We will use the GPU:', torch.cuda.get_device_name(0))\n",
        "\n",
        "# If not...\n",
        "else:\n",
        "    print('No GPU available, using the CPU instead.')\n",
        "    device = torch.device(\"cpu\")"
      ],
      "execution_count": 3,
      "outputs": [
        {
          "output_type": "stream",
          "text": [
            "There are 1 GPU(s) available.\n",
            "We will use the GPU: Tesla T4\n"
          ],
          "name": "stdout"
        }
      ]
    },
    {
      "cell_type": "markdown",
      "metadata": {
        "id": "FAodVLlMQoGJ"
      },
      "source": [
        "## Loading the pre-processed dataset"
      ]
    },
    {
      "cell_type": "code",
      "metadata": {
        "colab": {
          "base_uri": "https://localhost:8080/"
        },
        "id": "DO883dUWQn1r",
        "outputId": "1be043a2-be74-4a02-c8f4-e8bdbc46d3c3"
      },
      "source": [
        "from google.colab import drive\n",
        "drive.mount('/content/drive')"
      ],
      "execution_count": 4,
      "outputs": [
        {
          "output_type": "stream",
          "text": [
            "Mounted at /content/drive\n"
          ],
          "name": "stdout"
        }
      ]
    },
    {
      "cell_type": "code",
      "metadata": {
        "id": "juAuzLM8RBPh"
      },
      "source": [
        "import pandas as pd\n",
        "import numpy as np\n",
        "import matplotlib.pyplot as plt\n",
        "import seaborn as sns\n",
        "sns.set()\n",
        "import time\n",
        "import re"
      ],
      "execution_count": 5,
      "outputs": []
    },
    {
      "cell_type": "code",
      "metadata": {
        "id": "lby1yJAZNGSM"
      },
      "source": [
        "train_df = pd.read_pickle('/content/drive/MyDrive/Yelp/sample_train_10394.pkl')\n",
        "validation_df = pd.read_pickle('/content/drive/MyDrive/Yelp/sample_validation_1949.pkl')\n",
        "test_df = pd.read_pickle('/content/drive/MyDrive/Yelp/sample_test_650.pkl')"
      ],
      "execution_count": 7,
      "outputs": []
    },
    {
      "cell_type": "code",
      "metadata": {
        "colab": {
          "base_uri": "https://localhost:8080/",
          "height": 204
        },
        "id": "gdGwtZ4VZCGf",
        "outputId": "4e6b235d-331a-417c-ee92-b68b2e86d66f"
      },
      "source": [
        "train_df.head()"
      ],
      "execution_count": 8,
      "outputs": [
        {
          "output_type": "execute_result",
          "data": {
            "text/html": [
              "<div>\n",
              "<style scoped>\n",
              "    .dataframe tbody tr th:only-of-type {\n",
              "        vertical-align: middle;\n",
              "    }\n",
              "\n",
              "    .dataframe tbody tr th {\n",
              "        vertical-align: top;\n",
              "    }\n",
              "\n",
              "    .dataframe thead th {\n",
              "        text-align: right;\n",
              "    }\n",
              "</style>\n",
              "<table border=\"1\" class=\"dataframe\">\n",
              "  <thead>\n",
              "    <tr style=\"text-align: right;\">\n",
              "      <th></th>\n",
              "      <th>text</th>\n",
              "      <th>label</th>\n",
              "    </tr>\n",
              "  </thead>\n",
              "  <tbody>\n",
              "    <tr>\n",
              "      <th>11349</th>\n",
              "      <td>Second best pool in Las Vegas!  Pay the $20, c...</td>\n",
              "      <td>1</td>\n",
              "    </tr>\n",
              "    <tr>\n",
              "      <th>12582</th>\n",
              "      <td>We went there on a Tuesday night in Jan. 2010....</td>\n",
              "      <td>0</td>\n",
              "    </tr>\n",
              "    <tr>\n",
              "      <th>4547</th>\n",
              "      <td>My experience duplicates all other above/below...</td>\n",
              "      <td>0</td>\n",
              "    </tr>\n",
              "    <tr>\n",
              "      <th>11873</th>\n",
              "      <td>Mmmmmmr. Sushi! \\n\\nThis was the place I lost ...</td>\n",
              "      <td>1</td>\n",
              "    </tr>\n",
              "    <tr>\n",
              "      <th>12416</th>\n",
              "      <td>It is a little off the strip,  but they provid...</td>\n",
              "      <td>1</td>\n",
              "    </tr>\n",
              "  </tbody>\n",
              "</table>\n",
              "</div>"
            ],
            "text/plain": [
              "                                                    text  label\n",
              "11349  Second best pool in Las Vegas!  Pay the $20, c...      1\n",
              "12582  We went there on a Tuesday night in Jan. 2010....      0\n",
              "4547   My experience duplicates all other above/below...      0\n",
              "11873  Mmmmmmr. Sushi! \\n\\nThis was the place I lost ...      1\n",
              "12416  It is a little off the strip,  but they provid...      1"
            ]
          },
          "metadata": {
            "tags": []
          },
          "execution_count": 8
        }
      ]
    },
    {
      "cell_type": "markdown",
      "metadata": {
        "id": "rlGrFcW4pL0V"
      },
      "source": [
        "reset index for all datasets:"
      ]
    },
    {
      "cell_type": "code",
      "metadata": {
        "colab": {
          "base_uri": "https://localhost:8080/",
          "height": 204
        },
        "id": "YZOlR4jbpQhN",
        "outputId": "5e146cf3-7ae9-42eb-a3f5-3c4c46122423"
      },
      "source": [
        "train_df.reset_index(drop=True, inplace=True)\n",
        "validation_df.reset_index(drop=True, inplace=True)\n",
        "test_df.reset_index(drop=True, inplace=True)\n",
        "train_df.head()"
      ],
      "execution_count": 9,
      "outputs": [
        {
          "output_type": "execute_result",
          "data": {
            "text/html": [
              "<div>\n",
              "<style scoped>\n",
              "    .dataframe tbody tr th:only-of-type {\n",
              "        vertical-align: middle;\n",
              "    }\n",
              "\n",
              "    .dataframe tbody tr th {\n",
              "        vertical-align: top;\n",
              "    }\n",
              "\n",
              "    .dataframe thead th {\n",
              "        text-align: right;\n",
              "    }\n",
              "</style>\n",
              "<table border=\"1\" class=\"dataframe\">\n",
              "  <thead>\n",
              "    <tr style=\"text-align: right;\">\n",
              "      <th></th>\n",
              "      <th>text</th>\n",
              "      <th>label</th>\n",
              "    </tr>\n",
              "  </thead>\n",
              "  <tbody>\n",
              "    <tr>\n",
              "      <th>0</th>\n",
              "      <td>Second best pool in Las Vegas!  Pay the $20, c...</td>\n",
              "      <td>1</td>\n",
              "    </tr>\n",
              "    <tr>\n",
              "      <th>1</th>\n",
              "      <td>We went there on a Tuesday night in Jan. 2010....</td>\n",
              "      <td>0</td>\n",
              "    </tr>\n",
              "    <tr>\n",
              "      <th>2</th>\n",
              "      <td>My experience duplicates all other above/below...</td>\n",
              "      <td>0</td>\n",
              "    </tr>\n",
              "    <tr>\n",
              "      <th>3</th>\n",
              "      <td>Mmmmmmr. Sushi! \\n\\nThis was the place I lost ...</td>\n",
              "      <td>1</td>\n",
              "    </tr>\n",
              "    <tr>\n",
              "      <th>4</th>\n",
              "      <td>It is a little off the strip,  but they provid...</td>\n",
              "      <td>1</td>\n",
              "    </tr>\n",
              "  </tbody>\n",
              "</table>\n",
              "</div>"
            ],
            "text/plain": [
              "                                                text  label\n",
              "0  Second best pool in Las Vegas!  Pay the $20, c...      1\n",
              "1  We went there on a Tuesday night in Jan. 2010....      0\n",
              "2  My experience duplicates all other above/below...      0\n",
              "3  Mmmmmmr. Sushi! \\n\\nThis was the place I lost ...      1\n",
              "4  It is a little off the strip,  but they provid...      1"
            ]
          },
          "metadata": {
            "tags": []
          },
          "execution_count": 9
        }
      ]
    },
    {
      "cell_type": "markdown",
      "metadata": {
        "id": "0ljRADMeRtON"
      },
      "source": [
        "Extract the tokenized texts and labels"
      ]
    },
    {
      "cell_type": "code",
      "metadata": {
        "id": "Tz8r7hu4RxWs"
      },
      "source": [
        "# Get the lists of sentences and their labels.\n",
        "train_x = train_df.text.values\n",
        "train_y = train_df.label.values\n",
        "\n",
        "val_x = validation_df.text.values\n",
        "val_y = validation_df.label.values\n",
        "\n",
        "test_x = test_df.text.values\n",
        "test_y = test_df.label.values"
      ],
      "execution_count": 10,
      "outputs": []
    },
    {
      "cell_type": "markdown",
      "metadata": {
        "id": "9h8Uoh4Fcd6b"
      },
      "source": [
        "\n",
        "\n",
        "> HERE I COULD PREPROCESS THE TEXT BY ERASING SYMBOLS (like '\\n\\n') AND/OR WHITE SPACES\n",
        "\n"
      ]
    },
    {
      "cell_type": "markdown",
      "metadata": {
        "id": "USm3DlFeR3qb"
      },
      "source": [
        "# BERT"
      ]
    },
    {
      "cell_type": "markdown",
      "metadata": {
        "id": "ngPhB59wR6m9"
      },
      "source": [
        "## BERT Tokenizer"
      ]
    },
    {
      "cell_type": "code",
      "metadata": {
        "colab": {
          "base_uri": "https://localhost:8080/",
          "height": 83,
          "referenced_widgets": [
            "7a973b5cf87547aea1201571a18d3947",
            "25125eaa141a4114b4b6f2eb1a575edc",
            "9c670470503e4ec4ab5e792194328bc1",
            "13b57a4cbbd742e7a07b99d03edfaf74",
            "62e410bed8864806b3c3842424af4949",
            "f90f9bd05b104247abfbc5b5f055b073",
            "5eedf2bceb6c414b8be21450d8c90fb3",
            "0a4f0517ad994d44a9f27fb131f85588"
          ]
        },
        "id": "ZCzTuzrPR3GY",
        "outputId": "5ba6337e-2d11-44ee-96cf-ad6d7eca8ccb"
      },
      "source": [
        "from transformers import BertTokenizer\n",
        "\n",
        "# Load the BERT tokenizer.\n",
        "print('Loading BERT tokenizer...')\n",
        "tokenizer = BertTokenizer.from_pretrained('bert-base-uncased', do_lower_case=True)"
      ],
      "execution_count": 11,
      "outputs": [
        {
          "output_type": "stream",
          "text": [
            "Loading BERT tokenizer...\n"
          ],
          "name": "stdout"
        },
        {
          "output_type": "display_data",
          "data": {
            "application/vnd.jupyter.widget-view+json": {
              "model_id": "7a973b5cf87547aea1201571a18d3947",
              "version_minor": 0,
              "version_major": 2
            },
            "text/plain": [
              "HBox(children=(FloatProgress(value=0.0, description='Downloading', max=231508.0, style=ProgressStyle(descripti…"
            ]
          },
          "metadata": {
            "tags": []
          }
        },
        {
          "output_type": "stream",
          "text": [
            "\n"
          ],
          "name": "stdout"
        }
      ]
    },
    {
      "cell_type": "code",
      "metadata": {
        "id": "fS0J2azYYZhe"
      },
      "source": [
        "def get_inputs_ids_mask(reviews, labels):\n",
        "  %%time\n",
        "  # Tokenize all of the sentences and map the tokens to thier word IDs.\n",
        "  input_ids = []\n",
        "  attention_masks = []\n",
        "\n",
        "  # For every sentence...\n",
        "  for sent in reviews:\n",
        "      # `encode_plus` will:\n",
        "      #   (1) Tokenize the sentence.\n",
        "      #   (2) Prepend the `[CLS]` token to the start.\n",
        "      #   (3) Append the `[SEP]` token to the end.\n",
        "      #   (4) Map tokens to their IDs.\n",
        "      #   (5) Pad or truncate the sentence to `max_length`\n",
        "      #   (6) Create attention masks for [PAD] tokens.\n",
        "      encoded_dict = tokenizer.encode_plus(\n",
        "                          sent,                      # Sentence to encode.\n",
        "                          add_special_tokens = True, # Add '[CLS]' and '[SEP]'\n",
        "                          max_length = 64,           # Pad & truncate all sentences.\n",
        "                          padding = 'max_length',\n",
        "                          return_attention_mask = True,   # Construct attn. masks.\n",
        "                          return_tensors = 'pt',     # Return pytorch tensors.\n",
        "                          truncation = True\n",
        "                    )\n",
        "      \n",
        "      # Add the encoded sentence to the list.    \n",
        "      input_ids.append(encoded_dict['input_ids'])\n",
        "      \n",
        "      # And its attention mask (simply differentiates padding from non-padding).\n",
        "      attention_masks.append(encoded_dict['attention_mask'])\n",
        "\n",
        "  # Convert the lists into tensors.\n",
        "  input_ids = torch.cat(input_ids, dim=0)\n",
        "  attention_masks = torch.cat(attention_masks, dim=0)\n",
        "  labels = torch.tensor(labels)\n",
        "\n",
        "  # Print sentence 0, now as a list of IDs.\n",
        "  print('Original: ', reviews[0])\n",
        "  print('Token IDs:', input_ids[0])\n",
        "  return input_ids, attention_masks, labels"
      ],
      "execution_count": 19,
      "outputs": []
    },
    {
      "cell_type": "code",
      "metadata": {
        "colab": {
          "base_uri": "https://localhost:8080/"
        },
        "id": "qNMaRwuftOoF",
        "outputId": "b6cf99b9-81db-458c-efd9-9a77048b8948"
      },
      "source": [
        "train_ii, train_masks, train_labels = get_inputs_ids_mask(train_x, train_y)"
      ],
      "execution_count": 21,
      "outputs": [
        {
          "output_type": "stream",
          "text": [
            "CPU times: user 3 µs, sys: 1e+03 ns, total: 4 µs\n",
            "Wall time: 7.15 µs\n",
            "Original:  Second best pool in Las Vegas!  Pay the $20, commit to being here all day, and drink the overpriced drinks while 80's and 90's hits are blast from the speakers.  They won't let you bring in your own alcohol (they are nice about it, but they do check), and the pools are fun and creative.  There's one for kids especially, and there's one for adults as well as a water slide.\n",
            "\n",
            "We did the massage at the Spa in the Flamingo!  Pretty outstanding.\n",
            "Token IDs: tensor([  101,  2117,  2190,  4770,  1999,  5869,  7136,   999,  3477,  1996,\n",
            "         1002,  2322,  1010, 10797,  2000,  2108,  2182,  2035,  2154,  1010,\n",
            "         1998,  4392,  1996,  2058, 18098,  6610,  2094,  8974,  2096,  3770,\n",
            "         1005,  1055,  1998,  3938,  1005,  1055,  4978,  2024,  8479,  2013,\n",
            "         1996,  7492,  1012,  2027,  2180,  1005,  1056,  2292,  2017,  3288,\n",
            "         1999,  2115,  2219,  6544,  1006,  2027,  2024,  3835,  2055,  2009,\n",
            "         1010,  2021,  2027,   102])\n"
          ],
          "name": "stdout"
        }
      ]
    },
    {
      "cell_type": "code",
      "metadata": {
        "colab": {
          "base_uri": "https://localhost:8080/"
        },
        "id": "bmw0HmuwtVuy",
        "outputId": "2e742fbe-f739-4d0c-e450-3dc5281f118f"
      },
      "source": [
        "val_ii, val_masks, val_labels = get_inputs_ids_mask(val_x, val_y)"
      ],
      "execution_count": 22,
      "outputs": [
        {
          "output_type": "stream",
          "text": [
            "CPU times: user 2 µs, sys: 0 ns, total: 2 µs\n",
            "Wall time: 4.77 µs\n",
            "Original:  First off the order taker messed up my order. I didn't pay much attention when I first paid but after I looked at my slip. Although no way should have it been a mix-up because when I said \"Mac Jr\" that sounds nowhere near a Grand Mac which is what I was charged for.\n",
            "Anyway fixed that without much trouble.\n",
            "Then the lady calls out order 394, which was my cancelled order, however she really wanted to say 393, the order before mine. I don't know how you mix that up (orders not at all similar). She then calls out 394 again but this time it has the Grand Mac on it. I informed her of the mistake and she fairly quickly turned around and got the Mac Jr on there. However she rudely set the tray down, and oh by the way, no apology.\n",
            "Most McDonalds I've been to have improved customer service, this one has a way to go there.\n",
            "One additional thing though is the fries were undercooked compared to other McDonalds. They were barely cooked. They tasted ok, but not cooked the way I usually see them, usually a little darker colored than these.\n",
            "So I think I'll skip this McDonalds in the future - though I have actually rarely gone there anyway but now have a reason to avoid them.\n",
            "Token IDs: tensor([  101,  2034,  2125,  1996,  2344,  2202,  2099, 18358,  2039,  2026,\n",
            "         2344,  1012,  1045,  2134,  1005,  1056,  3477,  2172,  3086,  2043,\n",
            "         1045,  2034,  3825,  2021,  2044,  1045,  2246,  2012,  2026,  7540,\n",
            "         1012,  2348,  2053,  2126,  2323,  2031,  2009,  2042,  1037,  4666,\n",
            "         1011,  2039,  2138,  2043,  1045,  2056,  1000,  6097,  3781,  1000,\n",
            "         2008,  4165,  7880,  2379,  1037,  2882,  6097,  2029,  2003,  2054,\n",
            "         1045,  2001,  5338,   102])\n"
          ],
          "name": "stdout"
        }
      ]
    },
    {
      "cell_type": "code",
      "metadata": {
        "colab": {
          "base_uri": "https://localhost:8080/"
        },
        "id": "CvYFcbipsEX8",
        "outputId": "e288565b-8d21-4f0e-abcb-5f9ed5a27a49"
      },
      "source": [
        "test_ii, test_masks, test_labels = get_inputs_ids_mask(test_x, test_y)"
      ],
      "execution_count": 20,
      "outputs": [
        {
          "output_type": "stream",
          "text": [
            "CPU times: user 2 µs, sys: 1e+03 ns, total: 3 µs\n",
            "Wall time: 5.96 µs\n",
            "Original:  After reading all the great reviews, we thought we'd give Compadres a try for lunch. We weren't disappointed. We found the decor classy with quality furnishings, unlike some other typical Mexican restaurants. We were greeted warmly and shown to a window booth. Chips & two types of salsa were delivered promptly. The menu has much to choose from. I chose the lunch special with a choice of two smaller entrees. The grilled chicken enchilada with mole sauce was excellent, but even better was the chicken chimichanga. It was accompanied by sides of rice and re fried beans. Everything seemed fresh and homemade. \n",
            "\n",
            "The restaurant is staffed by, I believe, family members from Mexico, leading to my only negative comment. There was a slight language barrier communicating our order. \n",
            "\n",
            "All in all a quality lunch experience. A restaurant we'll likely return to considering the other interesting offerings.\n",
            "Token IDs: tensor([  101,  2044,  3752,  2035,  1996,  2307,  4391,  1010,  2057,  2245,\n",
            "         2057,  1005,  1040,  2507,  4012, 15455,  6072,  1037,  3046,  2005,\n",
            "         6265,  1012,  2057,  4694,  1005,  1056,  9364,  1012,  2057,  2179,\n",
            "         1996, 25545,  2465,  2100,  2007,  3737, 23127,  1010,  4406,  2070,\n",
            "         2060,  5171,  4916,  7884,  1012,  2057,  2020, 11188, 22775,  1998,\n",
            "         3491,  2000,  1037,  3332,  9065,  1012, 11772,  1004,  2048,  4127,\n",
            "         1997, 26509,  2020,   102])\n"
          ],
          "name": "stdout"
        },
        {
          "output_type": "execute_result",
          "data": {
            "text/plain": [
              "tensor([  101,  2044,  3752,  2035,  1996,  2307,  4391,  1010,  2057,  2245,\n",
              "         2057,  1005,  1040,  2507,  4012, 15455,  6072,  1037,  3046,  2005,\n",
              "         6265,  1012,  2057,  4694,  1005,  1056,  9364,  1012,  2057,  2179,\n",
              "         1996, 25545,  2465,  2100,  2007,  3737, 23127,  1010,  4406,  2070,\n",
              "         2060,  5171,  4916,  7884,  1012,  2057,  2020, 11188, 22775,  1998,\n",
              "         3491,  2000,  1037,  3332,  9065,  1012, 11772,  1004,  2048,  4127,\n",
              "         1997, 26509,  2020,   102])"
            ]
          },
          "metadata": {
            "tags": []
          },
          "execution_count": 20
        }
      ]
    },
    {
      "cell_type": "markdown",
      "metadata": {
        "id": "7ECdewLGZ2aE"
      },
      "source": [
        "Creating tensor Datasets"
      ]
    },
    {
      "cell_type": "code",
      "metadata": {
        "id": "I9m8grhVtzg8"
      },
      "source": [
        "from torch.utils.data import TensorDataset, random_split\n",
        "\n",
        "# Combine the training inputs into a TensorDataset.\n",
        "train_dataset = TensorDataset(train_ii, train_masks, train_labels)\n",
        "val_dataset = TensorDataset(val_ii, val_masks, val_labels)\n",
        "test_dataset = TensorDataset(test_ii, test_masks, test_labels)"
      ],
      "execution_count": 23,
      "outputs": []
    },
    {
      "cell_type": "code",
      "metadata": {
        "id": "XDO34zRNfYZy"
      },
      "source": [
        "# Save the tensorDatasets\n",
        "torch.save(train_dataset, '/content/drive/MyDrive/Yelp/sample_yelp_tensors/_train')\n",
        "torch.save(val_dataset, '/content/drive/MyDrive/Yelp/sample_yelp_tensors/_validation')\n",
        "torch.save(test_dataset, '/content/drive/MyDrive/Yelp/sample_yelp_tensors/_test')"
      ],
      "execution_count": 36,
      "outputs": []
    },
    {
      "cell_type": "code",
      "metadata": {
        "colab": {
          "base_uri": "https://localhost:8080/"
        },
        "id": "JXTRQiFNdiv8",
        "outputId": "054ced97-b510-44ec-f5a7-24b79a2df334"
      },
      "source": [
        "train_dataset[0]"
      ],
      "execution_count": 24,
      "outputs": [
        {
          "output_type": "execute_result",
          "data": {
            "text/plain": [
              "(tensor([  101,  2117,  2190,  4770,  1999,  5869,  7136,   999,  3477,  1996,\n",
              "          1002,  2322,  1010, 10797,  2000,  2108,  2182,  2035,  2154,  1010,\n",
              "          1998,  4392,  1996,  2058, 18098,  6610,  2094,  8974,  2096,  3770,\n",
              "          1005,  1055,  1998,  3938,  1005,  1055,  4978,  2024,  8479,  2013,\n",
              "          1996,  7492,  1012,  2027,  2180,  1005,  1056,  2292,  2017,  3288,\n",
              "          1999,  2115,  2219,  6544,  1006,  2027,  2024,  3835,  2055,  2009,\n",
              "          1010,  2021,  2027,   102]),\n",
              " tensor([1, 1, 1, 1, 1, 1, 1, 1, 1, 1, 1, 1, 1, 1, 1, 1, 1, 1, 1, 1, 1, 1, 1, 1,\n",
              "         1, 1, 1, 1, 1, 1, 1, 1, 1, 1, 1, 1, 1, 1, 1, 1, 1, 1, 1, 1, 1, 1, 1, 1,\n",
              "         1, 1, 1, 1, 1, 1, 1, 1, 1, 1, 1, 1, 1, 1, 1, 1]),\n",
              " tensor(1))"
            ]
          },
          "metadata": {
            "tags": []
          },
          "execution_count": 24
        }
      ]
    },
    {
      "cell_type": "code",
      "metadata": {
        "id": "bh_SUlsHaDs1"
      },
      "source": [
        "from torch.utils.data import DataLoader, RandomSampler, SequentialSampler\n",
        "\n",
        "# The DataLoader needs to know our batch size for training, so we specify it \n",
        "# here. For fine-tuning BERT on a specific task, the authors recommend a batch \n",
        "# size of 16 or 32.\n",
        "batch_size = 32\n",
        "\n",
        "# Create the DataLoaders for our training and validation sets.\n",
        "# We'll take training samples in random order. \n",
        "train_dataloader = DataLoader(\n",
        "            train_dataset,  # The training samples.\n",
        "            sampler = RandomSampler(train_dataset), # Select batches randomly\n",
        "            batch_size = batch_size # Trains with this batch size.\n",
        "        )\n",
        "\n",
        "# For validation the order doesn't matter, so we'll just read them sequentially.\n",
        "validation_dataloader = DataLoader(\n",
        "            val_dataset, # The validation samples.\n",
        "            sampler = SequentialSampler(val_dataset), # Pull out batches sequentially. FROM THE 2ND DIVISION\n",
        "            batch_size = batch_size # Evaluate with this batch size.\n",
        "        )"
      ],
      "execution_count": 25,
      "outputs": []
    },
    {
      "cell_type": "code",
      "metadata": {
        "colab": {
          "base_uri": "https://localhost:8080/",
          "height": 254,
          "referenced_widgets": [
            "21dac3d93733428a99c110cc576abfa6",
            "f20aad63bf2d4d6f830e14bd1352001e",
            "4425da2c7cd44e1ca6dec2da41b45ab4",
            "f009f7dda31d4d02b4ab78baffcef3bb",
            "d760b542632645e9bd902068502c2c65",
            "e5566e11ef964965aba74637ba625739",
            "3288c7b476da4644a82147555cba2e4a",
            "17fa87a7e04a49b0b62f172dbef3cd8d",
            "81501a155333408fb8b4de3f836a30d3",
            "89a28b198bef4b5ca3691a430c79d172",
            "346ba0d9c33346c2b1c82a56d918ab45",
            "969561168ccd47e5a3a01dc485bd4c7c",
            "7d1381c7f56b4855bf16ba2009350e85",
            "ec684c07d48048b0a316979ec97503e5",
            "2156b7dd7e864dbdadb810ac7c8ec18d",
            "751ea2462777406f99b0487aa5aabd87"
          ]
        },
        "id": "RASREEhaaTrr",
        "outputId": "8d076d5d-0d0d-4e92-e241-8c02e05e8d8a"
      },
      "source": [
        "%%time\n",
        "from transformers import BertForSequenceClassification, AdamW, BertConfig\n",
        "\n",
        "# Load BertForSequenceClassification, the pretrained BERT model with a single \n",
        "# linear classification layer on top. \n",
        "model = BertForSequenceClassification.from_pretrained(\n",
        "    \"bert-base-uncased\", # Use the 12-layer BERT model, with an uncased vocab.\n",
        "    num_labels = 2, # The number of output labels--2 for binary classification. # It can be increased for multi-class tasks.   \n",
        "    output_attentions = False, # Whether the model returns attentions weights.\n",
        "    output_hidden_states = False, # Whether the model returns all hidden-states.\n",
        ")\n",
        "\n",
        "# Tell pytorch to run this model on the GPU.\n",
        "model.cuda()"
      ],
      "execution_count": 26,
      "outputs": [
        {
          "output_type": "display_data",
          "data": {
            "application/vnd.jupyter.widget-view+json": {
              "model_id": "21dac3d93733428a99c110cc576abfa6",
              "version_minor": 0,
              "version_major": 2
            },
            "text/plain": [
              "HBox(children=(FloatProgress(value=0.0, description='Downloading', max=433.0, style=ProgressStyle(description_…"
            ]
          },
          "metadata": {
            "tags": []
          }
        },
        {
          "output_type": "stream",
          "text": [
            "\n"
          ],
          "name": "stdout"
        },
        {
          "output_type": "display_data",
          "data": {
            "application/vnd.jupyter.widget-view+json": {
              "model_id": "81501a155333408fb8b4de3f836a30d3",
              "version_minor": 0,
              "version_major": 2
            },
            "text/plain": [
              "HBox(children=(FloatProgress(value=0.0, description='Downloading', max=440473133.0, style=ProgressStyle(descri…"
            ]
          },
          "metadata": {
            "tags": []
          }
        },
        {
          "output_type": "stream",
          "text": [
            "\n"
          ],
          "name": "stdout"
        },
        {
          "output_type": "stream",
          "text": [
            "Some weights of the model checkpoint at bert-base-uncased were not used when initializing BertForSequenceClassification: ['cls.predictions.bias', 'cls.predictions.transform.dense.weight', 'cls.predictions.transform.dense.bias', 'cls.predictions.decoder.weight', 'cls.seq_relationship.weight', 'cls.seq_relationship.bias', 'cls.predictions.transform.LayerNorm.weight', 'cls.predictions.transform.LayerNorm.bias']\n",
            "- This IS expected if you are initializing BertForSequenceClassification from the checkpoint of a model trained on another task or with another architecture (e.g. initializing a BertForSequenceClassification model from a BertForPreTraining model).\n",
            "- This IS NOT expected if you are initializing BertForSequenceClassification from the checkpoint of a model that you expect to be exactly identical (initializing a BertForSequenceClassification model from a BertForSequenceClassification model).\n",
            "Some weights of BertForSequenceClassification were not initialized from the model checkpoint at bert-base-uncased and are newly initialized: ['classifier.weight', 'classifier.bias']\n",
            "You should probably TRAIN this model on a down-stream task to be able to use it for predictions and inference.\n"
          ],
          "name": "stderr"
        },
        {
          "output_type": "stream",
          "text": [
            "CPU times: user 11.2 s, sys: 2.76 s, total: 14 s\n",
            "Wall time: 19.9 s\n"
          ],
          "name": "stdout"
        }
      ]
    },
    {
      "cell_type": "markdown",
      "metadata": {
        "id": "slORUUcnayjI"
      },
      "source": [
        "optimizer"
      ]
    },
    {
      "cell_type": "code",
      "metadata": {
        "id": "DL_Efz0IaqbZ"
      },
      "source": [
        "# Note: AdamW is a class from the huggingface library (as opposed to pytorch) \n",
        "# I believe the 'W' stands for 'Weight Decay fix\"\n",
        "optimizer = AdamW(model.parameters(),\n",
        "                  lr = 2e-5, # args.learning_rate - default is 5e-5, our notebook had 2e-5\n",
        "                  eps = 1e-8 # args.adam_epsilon  - default is 1e-8.\n",
        "                )"
      ],
      "execution_count": 27,
      "outputs": []
    },
    {
      "cell_type": "code",
      "metadata": {
        "id": "WOVjafvPYRAq"
      },
      "source": [
        "from transformers import get_linear_schedule_with_warmup\n",
        "\n",
        "# Number of training epochs. The BERT authors recommend between 2 and 4. \n",
        "# We chose to run for 4, but we'll see later that this may be over-fitting the\n",
        "# training data.\n",
        "epochs = 5\n",
        "\n",
        "# Total number of training steps is [number of batches] x [number of epochs]. \n",
        "# (Note that this is not the same as the number of training samples).\n",
        "total_steps = len(train_dataloader) * epochs\n",
        "\n",
        "# Create the learning rate scheduler.\n",
        "scheduler = get_linear_schedule_with_warmup(optimizer, \n",
        "                                            num_warmup_steps = 0, # Default value in run_glue.py\n",
        "                                            num_training_steps = total_steps)\n"
      ],
      "execution_count": 28,
      "outputs": []
    },
    {
      "cell_type": "code",
      "metadata": {
        "id": "Xwg-r_jBqKbH"
      },
      "source": [
        "# Function to calculate the accuracy of our predictions vs labels\n",
        "def flat_accuracy(preds, labels):\n",
        "    pred_flat = np.argmax(preds, axis=1).flatten()\n",
        "    labels_flat = labels.flatten()\n",
        "    return np.sum(pred_flat == labels_flat) / len(labels_flat)"
      ],
      "execution_count": 29,
      "outputs": []
    },
    {
      "cell_type": "code",
      "metadata": {
        "id": "XiJn1ohNYri1"
      },
      "source": [
        "import datetime\n",
        "\n",
        "def format_time(elapsed):\n",
        "    '''\n",
        "    Takes a time in seconds and returns a string hh:mm:ss\n",
        "    '''\n",
        "    # Round to the nearest second.\n",
        "    elapsed_rounded = int(round((elapsed)))\n",
        "    \n",
        "    # Format as hh:mm:ss\n",
        "    return str(datetime.timedelta(seconds=elapsed_rounded))"
      ],
      "execution_count": 30,
      "outputs": []
    },
    {
      "cell_type": "markdown",
      "metadata": {
        "id": "V2iecC8rbD_y"
      },
      "source": [
        "training"
      ]
    },
    {
      "cell_type": "code",
      "metadata": {
        "id": "KQztPN7Ga9LS"
      },
      "source": [
        "import random\n",
        "seed_val = 42\n",
        "\n",
        "random.seed(seed_val)\n",
        "np.random.seed(seed_val)\n",
        "torch.manual_seed(seed_val)\n",
        "torch.cuda.manual_seed_all(seed_val)\n"
      ],
      "execution_count": 31,
      "outputs": []
    },
    {
      "cell_type": "markdown",
      "metadata": {
        "id": "44x8AkQrcQaa"
      },
      "source": [
        "# Training\n",
        "\n",
        "---\n",
        "\n"
      ]
    },
    {
      "cell_type": "code",
      "metadata": {
        "colab": {
          "base_uri": "https://localhost:8080/"
        },
        "id": "2nKomsf_JMPj",
        "outputId": "a16fb63f-6262-465a-8775-922a89eafd30"
      },
      "source": [
        "# We'll store a number of quantities such as training and validation loss, \n",
        "# validation accuracy, and timings.\n",
        "training_stats = []\n",
        "\n",
        "# Measure the total training time for the whole run.\n",
        "total_t0 = time.time()\n",
        "\n",
        "# For each epoch...\n",
        "for epoch_i in range(0, epochs):\n",
        "    \n",
        "    # ========================================\n",
        "    #               Training\n",
        "    # ========================================\n",
        "    \n",
        "    # Perform one full pass over the training set.\n",
        "\n",
        "    print(\"\")\n",
        "    print('======== Epoch {:} / {:} ========'.format(epoch_i + 1, epochs))\n",
        "    print('Training...')\n",
        "\n",
        "    # Measure how long the training epoch takes.\n",
        "    t0 = time.time()\n",
        "\n",
        "    # Reset the total loss for this epoch.\n",
        "    total_train_loss = 0\n",
        "\n",
        "    # Put the model into training mode. Don't be mislead--the call to \n",
        "    # `train` just changes the *mode*, it doesn't *perform* the training.\n",
        "    # `dropout` and `batchnorm` layers behave differently during training\n",
        "    # vs. test (source: https://stackoverflow.com/questions/51433378/what-does-model-train-do-in-pytorch)\n",
        "    model.train()\n",
        "\n",
        "    # For each batch of training data...\n",
        "    for step, batch in enumerate(train_dataloader):\n",
        "\n",
        "        # Progress update every 40 batches.\n",
        "        if step % 40 == 0 and not step == 0:\n",
        "            # Calculate elapsed time in minutes.\n",
        "            elapsed = format_time(time.time() - t0)\n",
        "            \n",
        "            # Report progress.\n",
        "            print('  Batch {:>5,}  of  {:>5,}.    Elapsed: {:}.'.format(step, len(train_dataloader), elapsed))\n",
        "\n",
        "        # Unpack this training batch from our dataloader. \n",
        "        #\n",
        "        # As we unpack the batch, we'll also copy each tensor to the GPU using the \n",
        "        # `to` method.\n",
        "        #\n",
        "        # `batch` contains three pytorch tensors:\n",
        "        #   [0]: input ids \n",
        "        #   [1]: attention masks\n",
        "        #   [2]: labels \n",
        "        b_input_ids = batch[0].to(device)\n",
        "        b_input_mask = batch[1].to(device)\n",
        "        b_labels = batch[2].to(device)\n",
        "\n",
        "        # Always clear any previously calculated gradients before performing a\n",
        "        # backward pass. PyTorch doesn't do this automatically because \n",
        "        # accumulating the gradients is \"convenient while training RNNs\". \n",
        "        # (source: https://stackoverflow.com/questions/48001598/why-do-we-need-to-call-zero-grad-in-pytorch)\n",
        "        model.zero_grad()        \n",
        "\n",
        "        # Perform a forward pass (evaluate the model on this training batch).\n",
        "        # The documentation for this `model` function is here: \n",
        "        # https://huggingface.co/transformers/v2.2.0/model_doc/bert.html#transformers.BertForSequenceClassification\n",
        "        # It returns different numbers of parameters depending on what arguments\n",
        "        # arge given and what flags are set. For our useage here, it returns\n",
        "        # the loss (because we provided labels) and the \"logits\"--the model\n",
        "        # outputs prior to activation.\n",
        "        loss_logits = model(b_input_ids, \n",
        "                             token_type_ids=None, \n",
        "                             attention_mask=b_input_mask, \n",
        "                             labels=b_labels)\n",
        "\n",
        "        loss = loss_logits[0]\n",
        "        logits = loss_logits[1]\n",
        "        # Accumulate the training loss over all of the batches so that we can\n",
        "        # calculate the average loss at the end. `loss` is a Tensor containing a\n",
        "        # single value; the `.item()` function just returns the Python value \n",
        "        # from the tensor.\n",
        "        total_train_loss += loss.item()\n",
        "\n",
        "        # Perform a backward pass to calculate the gradients.\n",
        "        loss.backward()\n",
        "\n",
        "        # Clip the norm of the gradients to 1.0.\n",
        "        # This is to help prevent the \"exploding gradients\" problem.\n",
        "        torch.nn.utils.clip_grad_norm_(model.parameters(), 1.0)\n",
        "\n",
        "        # Update parameters and take a step using the computed gradient.\n",
        "        # The optimizer dictates the \"update rule\"--how the parameters are\n",
        "        # modified based on their gradients, the learning rate, etc.\n",
        "        optimizer.step()\n",
        "\n",
        "        # Update the learning rate.\n",
        "        scheduler.step()\n",
        "\n",
        "    # Calculate the average loss over all of the batches.\n",
        "    avg_train_loss = total_train_loss / len(train_dataloader)            \n",
        "    \n",
        "    # Measure how long this epoch took.\n",
        "    training_time = format_time(time.time() - t0)\n",
        "\n",
        "    print(\"\")\n",
        "    print(\"  Average training loss: {0:.2f}\".format(avg_train_loss))\n",
        "    print(\"  Training epcoh took: {:}\".format(training_time))\n",
        "        \n",
        "    # ========================================\n",
        "    #               Validation\n",
        "    # ========================================\n",
        "    # After the completion of each training epoch, measure our performance on\n",
        "    # our validation set.\n",
        "\n",
        "    print(\"\")\n",
        "    print(\"Running Validation...\")\n",
        "\n",
        "    t0 = time.time()\n",
        "\n",
        "    # Put the model in evaluation mode--the dropout layers behave differently\n",
        "    # during evaluation.\n",
        "    model.eval()\n",
        "\n",
        "    # Tracking variables \n",
        "    total_eval_accuracy = 0\n",
        "    total_eval_loss = 0\n",
        "    nb_eval_steps = 0\n",
        "\n",
        "    # Evaluate data for one epoch\n",
        "    for batch in validation_dataloader:\n",
        "        \n",
        "        # Unpack this training batch from our dataloader. \n",
        "        #\n",
        "        # As we unpack the batch, we'll also copy each tensor to the GPU using \n",
        "        # the `to` method.\n",
        "        #\n",
        "        # `batch` contains three pytorch tensors:\n",
        "        #   [0]: input ids \n",
        "        #   [1]: attention masks\n",
        "        #   [2]: labels \n",
        "        b_input_ids = batch[0].to(device)\n",
        "        b_input_mask = batch[1].to(device)\n",
        "        b_labels = batch[2].to(device)\n",
        "        \n",
        "        # Tell pytorch not to bother with constructing the compute graph during\n",
        "        # the forward pass, since this is only needed for backprop (training).\n",
        "        with torch.no_grad():        \n",
        "\n",
        "            # Forward pass, calculate logit predictions.\n",
        "            # token_type_ids is the same as the \"segment ids\", which \n",
        "            # differentiates sentence 1 and 2 in 2-sentence tasks.\n",
        "            # The documentation for this `model` function is here: \n",
        "            # https://huggingface.co/transformers/v2.2.0/model_doc/bert.html#transformers.BertForSequenceClassification\n",
        "            # Get the \"logits\" output by the model. The \"logits\" are the output\n",
        "            # values prior to applying an activation function like the softmax.\n",
        "            loss_logits = model(b_input_ids, \n",
        "                                   token_type_ids=None, \n",
        "                                   attention_mask=b_input_mask,\n",
        "                                   labels=b_labels)\n",
        "            loss = loss_logits[0]\n",
        "            logits = loss_logits[1]\n",
        "        # Accumulate the validation loss.\n",
        "        total_eval_loss += loss.item()\n",
        "\n",
        "        # Move logits and labels to CPU\n",
        "        logits = logits.detach().cpu().numpy()\n",
        "        label_ids = b_labels.to('cpu').numpy()\n",
        "\n",
        "        # Calculate the accuracy for this batch of test sentences, and\n",
        "        # accumulate it over all batches.\n",
        "        total_eval_accuracy += flat_accuracy(logits, label_ids)\n",
        "        \n",
        "\n",
        "    # Report the final accuracy for this validation run.\n",
        "    avg_val_accuracy = total_eval_accuracy / len(validation_dataloader)\n",
        "    print(\"  Accuracy: {0:.2f}\".format(avg_val_accuracy))\n",
        "\n",
        "    # Calculate the average loss over all of the batches.\n",
        "    avg_val_loss = total_eval_loss / len(validation_dataloader)\n",
        "    \n",
        "    # Measure how long the validation run took.\n",
        "    validation_time = format_time(time.time() - t0)\n",
        "    \n",
        "    print(\"  Validation Loss: {0:.2f}\".format(avg_val_loss))\n",
        "    print(\"  Validation took: {:}\".format(validation_time))\n",
        "\n",
        "    # Record all statistics from this epoch.\n",
        "    training_stats.append(\n",
        "        {\n",
        "            'epoch': epoch_i + 1,\n",
        "            'Training Loss': avg_train_loss,\n",
        "            'Valid. Loss': avg_val_loss,\n",
        "            'Valid. Accur.': avg_val_accuracy,\n",
        "            'Training Time': training_time,\n",
        "            'Validation Time': validation_time\n",
        "        }\n",
        "    )\n",
        "\n",
        "print(\"\")\n",
        "print(\"Training complete!\")\n",
        "\n",
        "print(\"Total training took {:} (h:mm:ss)\".format(format_time(time.time()-total_t0)))"
      ],
      "execution_count": 32,
      "outputs": [
        {
          "output_type": "stream",
          "text": [
            "\n",
            "======== Epoch 1 / 5 ========\n",
            "Training...\n",
            "  Batch    40  of    325.    Elapsed: 0:00:14.\n",
            "  Batch    80  of    325.    Elapsed: 0:00:29.\n",
            "  Batch   120  of    325.    Elapsed: 0:00:44.\n",
            "  Batch   160  of    325.    Elapsed: 0:00:59.\n",
            "  Batch   200  of    325.    Elapsed: 0:01:14.\n",
            "  Batch   240  of    325.    Elapsed: 0:01:29.\n",
            "  Batch   280  of    325.    Elapsed: 0:01:45.\n",
            "  Batch   320  of    325.    Elapsed: 0:02:01.\n",
            "\n",
            "  Average training loss: 0.30\n",
            "  Training epcoh took: 0:02:03\n",
            "\n",
            "Running Validation...\n",
            "  Accuracy: 0.90\n",
            "  Validation Loss: 0.24\n",
            "  Validation took: 0:00:08\n",
            "\n",
            "======== Epoch 2 / 5 ========\n",
            "Training...\n",
            "  Batch    40  of    325.    Elapsed: 0:00:16.\n",
            "  Batch    80  of    325.    Elapsed: 0:00:32.\n",
            "  Batch   120  of    325.    Elapsed: 0:00:48.\n",
            "  Batch   160  of    325.    Elapsed: 0:01:05.\n",
            "  Batch   200  of    325.    Elapsed: 0:01:21.\n",
            "  Batch   240  of    325.    Elapsed: 0:01:37.\n",
            "  Batch   280  of    325.    Elapsed: 0:01:53.\n",
            "  Batch   320  of    325.    Elapsed: 0:02:09.\n",
            "\n",
            "  Average training loss: 0.16\n",
            "  Training epcoh took: 0:02:11\n",
            "\n",
            "Running Validation...\n",
            "  Accuracy: 0.90\n",
            "  Validation Loss: 0.25\n",
            "  Validation took: 0:00:08\n",
            "\n",
            "======== Epoch 3 / 5 ========\n",
            "Training...\n",
            "  Batch    40  of    325.    Elapsed: 0:00:16.\n",
            "  Batch    80  of    325.    Elapsed: 0:00:32.\n",
            "  Batch   120  of    325.    Elapsed: 0:00:48.\n",
            "  Batch   160  of    325.    Elapsed: 0:01:05.\n",
            "  Batch   200  of    325.    Elapsed: 0:01:21.\n",
            "  Batch   240  of    325.    Elapsed: 0:01:37.\n",
            "  Batch   280  of    325.    Elapsed: 0:01:53.\n",
            "  Batch   320  of    325.    Elapsed: 0:02:09.\n",
            "\n",
            "  Average training loss: 0.08\n",
            "  Training epcoh took: 0:02:11\n",
            "\n",
            "Running Validation...\n",
            "  Accuracy: 0.91\n",
            "  Validation Loss: 0.33\n",
            "  Validation took: 0:00:08\n",
            "\n",
            "======== Epoch 4 / 5 ========\n",
            "Training...\n",
            "  Batch    40  of    325.    Elapsed: 0:00:16.\n",
            "  Batch    80  of    325.    Elapsed: 0:00:32.\n",
            "  Batch   120  of    325.    Elapsed: 0:00:49.\n",
            "  Batch   160  of    325.    Elapsed: 0:01:05.\n",
            "  Batch   200  of    325.    Elapsed: 0:01:21.\n",
            "  Batch   240  of    325.    Elapsed: 0:01:37.\n",
            "  Batch   280  of    325.    Elapsed: 0:01:53.\n",
            "  Batch   320  of    325.    Elapsed: 0:02:09.\n",
            "\n",
            "  Average training loss: 0.05\n",
            "  Training epcoh took: 0:02:11\n",
            "\n",
            "Running Validation...\n",
            "  Accuracy: 0.90\n",
            "  Validation Loss: 0.41\n",
            "  Validation took: 0:00:08\n",
            "\n",
            "======== Epoch 5 / 5 ========\n",
            "Training...\n",
            "  Batch    40  of    325.    Elapsed: 0:00:16.\n",
            "  Batch    80  of    325.    Elapsed: 0:00:32.\n",
            "  Batch   120  of    325.    Elapsed: 0:00:48.\n",
            "  Batch   160  of    325.    Elapsed: 0:01:04.\n",
            "  Batch   200  of    325.    Elapsed: 0:01:20.\n",
            "  Batch   240  of    325.    Elapsed: 0:01:36.\n",
            "  Batch   280  of    325.    Elapsed: 0:01:53.\n",
            "  Batch   320  of    325.    Elapsed: 0:02:09.\n",
            "\n",
            "  Average training loss: 0.02\n",
            "  Training epcoh took: 0:02:11\n",
            "\n",
            "Running Validation...\n",
            "  Accuracy: 0.91\n",
            "  Validation Loss: 0.46\n",
            "  Validation took: 0:00:08\n",
            "\n",
            "Training complete!\n",
            "Total training took 0:11:27 (h:mm:ss)\n"
          ],
          "name": "stdout"
        }
      ]
    },
    {
      "cell_type": "markdown",
      "metadata": {
        "id": "WlYAMBk-K8Kf"
      },
      "source": [
        "SAVING MODEL"
      ]
    },
    {
      "cell_type": "code",
      "metadata": {
        "id": "adlJFThIK-O9"
      },
      "source": [
        "tokenizer.save_pretrained('/content/drive/MyDrive/Yelp/model_save2')\n",
        "torch.save(model, '/content/drive/MyDrive/Yelp/model_save/model-08-JAN')"
      ],
      "execution_count": 33,
      "outputs": []
    },
    {
      "cell_type": "code",
      "metadata": {
        "id": "TsoG-Jwz6l25"
      },
      "source": [
        "# Good practice: save your training arguments together with the trained model\n",
        "#torch.save(args, os.path.join('/content/drive/MyDrive/Yelp/model_save', 'training_args.bin'))"
      ],
      "execution_count": null,
      "outputs": []
    },
    {
      "cell_type": "markdown",
      "metadata": {
        "id": "obswJqqfJdxp"
      },
      "source": [
        "# Summary of training process"
      ]
    },
    {
      "cell_type": "code",
      "metadata": {
        "colab": {
          "base_uri": "https://localhost:8080/",
          "height": 235
        },
        "id": "eSW8ql8UJgjR",
        "outputId": "704f8e94-eadf-46aa-a092-e952bbee70a8"
      },
      "source": [
        "# Display floats with two decimal places.\n",
        "pd.set_option('precision', 2)\n",
        "\n",
        "# Create a DataFrame from our training statistics.\n",
        "df_stats = pd.DataFrame(data=training_stats)\n",
        "\n",
        "# Use the 'epoch' as the row index.\n",
        "df_stats = df_stats.set_index('epoch')\n",
        "\n",
        "# A hack to force the column headers to wrap.\n",
        "#df = df.style.set_table_styles([dict(selector=\"th\",props=[('max-width', '70px')])])\n",
        "\n",
        "# Display the table.\n",
        "df_stats"
      ],
      "execution_count": 34,
      "outputs": [
        {
          "output_type": "execute_result",
          "data": {
            "text/html": [
              "<div>\n",
              "<style scoped>\n",
              "    .dataframe tbody tr th:only-of-type {\n",
              "        vertical-align: middle;\n",
              "    }\n",
              "\n",
              "    .dataframe tbody tr th {\n",
              "        vertical-align: top;\n",
              "    }\n",
              "\n",
              "    .dataframe thead th {\n",
              "        text-align: right;\n",
              "    }\n",
              "</style>\n",
              "<table border=\"1\" class=\"dataframe\">\n",
              "  <thead>\n",
              "    <tr style=\"text-align: right;\">\n",
              "      <th></th>\n",
              "      <th>Training Loss</th>\n",
              "      <th>Valid. Loss</th>\n",
              "      <th>Valid. Accur.</th>\n",
              "      <th>Training Time</th>\n",
              "      <th>Validation Time</th>\n",
              "    </tr>\n",
              "    <tr>\n",
              "      <th>epoch</th>\n",
              "      <th></th>\n",
              "      <th></th>\n",
              "      <th></th>\n",
              "      <th></th>\n",
              "      <th></th>\n",
              "    </tr>\n",
              "  </thead>\n",
              "  <tbody>\n",
              "    <tr>\n",
              "      <th>1</th>\n",
              "      <td>0.30</td>\n",
              "      <td>0.24</td>\n",
              "      <td>0.90</td>\n",
              "      <td>0:02:03</td>\n",
              "      <td>0:00:08</td>\n",
              "    </tr>\n",
              "    <tr>\n",
              "      <th>2</th>\n",
              "      <td>0.16</td>\n",
              "      <td>0.25</td>\n",
              "      <td>0.90</td>\n",
              "      <td>0:02:11</td>\n",
              "      <td>0:00:08</td>\n",
              "    </tr>\n",
              "    <tr>\n",
              "      <th>3</th>\n",
              "      <td>0.08</td>\n",
              "      <td>0.33</td>\n",
              "      <td>0.91</td>\n",
              "      <td>0:02:11</td>\n",
              "      <td>0:00:08</td>\n",
              "    </tr>\n",
              "    <tr>\n",
              "      <th>4</th>\n",
              "      <td>0.05</td>\n",
              "      <td>0.41</td>\n",
              "      <td>0.90</td>\n",
              "      <td>0:02:11</td>\n",
              "      <td>0:00:08</td>\n",
              "    </tr>\n",
              "    <tr>\n",
              "      <th>5</th>\n",
              "      <td>0.02</td>\n",
              "      <td>0.46</td>\n",
              "      <td>0.91</td>\n",
              "      <td>0:02:11</td>\n",
              "      <td>0:00:08</td>\n",
              "    </tr>\n",
              "  </tbody>\n",
              "</table>\n",
              "</div>"
            ],
            "text/plain": [
              "       Training Loss  Valid. Loss  Valid. Accur. Training Time Validation Time\n",
              "epoch                                                                         \n",
              "1               0.30         0.24           0.90       0:02:03         0:00:08\n",
              "2               0.16         0.25           0.90       0:02:11         0:00:08\n",
              "3               0.08         0.33           0.91       0:02:11         0:00:08\n",
              "4               0.05         0.41           0.90       0:02:11         0:00:08\n",
              "5               0.02         0.46           0.91       0:02:11         0:00:08"
            ]
          },
          "metadata": {
            "tags": []
          },
          "execution_count": 34
        }
      ]
    },
    {
      "cell_type": "markdown",
      "metadata": {
        "id": "PXXsUPFwQ8_n"
      },
      "source": [
        "Explanation"
      ]
    },
    {
      "cell_type": "code",
      "metadata": {
        "colab": {
          "base_uri": "https://localhost:8080/",
          "height": 427
        },
        "id": "2qbAEyluQjy2",
        "outputId": "d7282637-67f7-4963-a075-4064eb07eb46"
      },
      "source": [
        "import matplotlib.pyplot as plt\n",
        "% matplotlib inline\n",
        "\n",
        "import seaborn as sns\n",
        "\n",
        "# Use plot styling from seaborn.\n",
        "sns.set(style='darkgrid')\n",
        "\n",
        "# Increase the plot size and font size.\n",
        "sns.set(font_scale=1.5)\n",
        "plt.rcParams[\"figure.figsize\"] = (12,6)\n",
        "\n",
        "# Plot the learning curve.\n",
        "plt.plot(df_stats['Training Loss'], 'b-o', label=\"Training\")\n",
        "plt.plot(df_stats['Valid. Loss'], 'g-o', label=\"Validation\")\n",
        "\n",
        "# Label the plot.\n",
        "plt.title(\"Training & Validation Loss\")\n",
        "plt.xlabel(\"Epoch\")\n",
        "plt.ylabel(\"Loss\")\n",
        "plt.legend()\n",
        "plt.xticks([1, 2, 3, 4])\n",
        "\n",
        "plt.show()"
      ],
      "execution_count": 35,
      "outputs": [
        {
          "output_type": "display_data",
          "data": {
            "image/png": "[encoded data removed]",
            "text/plain": [
              "<Figure size 864x432 with 1 Axes>"
            ]
          },
          "metadata": {
            "tags": []
          }
        }
      ]
    },
    {
      "cell_type": "code",
      "metadata": {
        "id": "1tk7Lml80MLB"
      },
      "source": [
        ""
      ],
      "execution_count": null,
      "outputs": []
    }
  ]
}