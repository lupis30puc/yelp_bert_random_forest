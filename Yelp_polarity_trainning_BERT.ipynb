{
  "nbformat": 4,
  "nbformat_minor": 0,
  "metadata": {
    "colab": {
      "name": "Yelp-polarity-trainning_BERT.ipynb",
      "provenance": [],
      "collapsed_sections": [],

      "authorship_tag": "ABX9TyMv2j420avUOYm+BiX3hsMa",

      "include_colab_link": true
    },
    "kernelspec": {
      "name": "python3",
      "display_name": "Python 3"
    },
    "accelerator": "GPU"

  },
  "cells": [
    {
      "cell_type": "markdown",
      "metadata": {
        "id": "view-in-github",
        "colab_type": "text"
      },
      "source": [
        "<a href=\"https://colab.research.google.com/github/lupis30puc/yelp_bert_random_forest/blob/lupis30puc-update-4/Yelp_polarity_trainning_BERT.ipynb\" target=\"_parent\"><img src=\"https://colab.research.google.com/assets/colab-badge.svg\" alt=\"Open In Colab\"/></a>"
      ]
    },
    {
      "cell_type": "markdown",
      "metadata": {
        "id": "-HbrtITbQFIB"
      },
      "source": [
        "[Yelp dataset on kaggle](https://www.kaggle.com/yelp-dataset/yelp-dataset)\n",
        "\n",
        "12,993 samples from the Yelp Dataset Challenge 2020. \n",
        "Divided on train, validation and test subsets. \n",
        "\n",
        "Their corresponding sizes are: 10,394 train samples, 1,949 validation samples and 650 test samples.\n",
        "\n",
        "\n",
        "Tutorial on which I support: \n",
        "[BERT Fine-Tunning](http://mccormickml.com/2019/07/22/BERT-fine-tuning/#41-bertforsequenceclassification)\n",
        "[Colab: BERT for sequential classification](https://colab.research.google.com/drive/1pTuQhug6Dhl9XalKB0zUGf4FIdYFlpcX#scrollTo=DEfSbAA4QHas)\n"
      ]
    },
    {
      "cell_type": "code",
      "metadata": {
        "id": "vEtLBK3KQmal"
      },
      "source": [
        "!pip install transformers"
      ],
      "execution_count": null,
      "outputs": []

    },
    {
      "cell_type": "markdown",
      "metadata": {
        "id": "jvjFMVLGRXkG"
      },
      "source": [
        "# Set up"
      ]
    },
    {
      "cell_type": "markdown",
      "metadata": {
        "id": "xOMDc5GRRc1g"
      },
      "source": [
        "## GPU"
      ]
    },
    {
      "cell_type": "code",
      "metadata": {
        "colab": {
          "base_uri": "https://localhost:8080/"
        },
        "id": "CfMcTnCvRXRG",
        "outputId": "dfa92283-3a15-4387-ca90-56d0fb4191db"
      },
      "source": [
        "import tensorflow as tf\n",
        "\n",
        "# Get the GPU device name.\n",
        "device_name = tf.test.gpu_device_name()\n",
        "\n",
        "# The device name should look like the following:\n",
        "if device_name == '/device:GPU:0':\n",
        "    print('Found GPU at: {}'.format(device_name))\n",
        "else:\n",
        "    raise SystemError('GPU device not found')"
      ],
      "execution_count": 2,
      "outputs": [
        {
          "output_type": "stream",
          "text": [
            "Found GPU at: /device:GPU:0\n"
          ],
          "name": "stdout"
        }
      ]
    },
    {
      "cell_type": "code",
      "metadata": {
        "colab": {
          "base_uri": "https://localhost:8080/"
        },
        "id": "6rVlou0fRmHQ",
        "outputId": "e2119c1d-2e98-483d-a86a-f5fa7ea193b7"
      },
      "source": [
        "import torch\n",
        "\n",
        "# If there's a GPU available...\n",
        "if torch.cuda.is_available():    \n",
        "\n",
        "    # Tell PyTorch to use the GPU.    \n",
        "    device = torch.device(\"cuda\")\n",
        "\n",
        "    print('There are %d GPU(s) available.' % torch.cuda.device_count())\n",
        "\n",
        "    print('We will use the GPU:', torch.cuda.get_device_name(0))\n",
        "\n",
        "# If not...\n",
        "else:\n",
        "    print('No GPU available, using the CPU instead.')\n",
        "    device = torch.device(\"cpu\")"
      ],
      "execution_count": 3,
      "outputs": [
        {
          "output_type": "stream",
          "text": [
            "There are 1 GPU(s) available.\n",
            "We will use the GPU: Tesla T4\n"
          ],
          "name": "stdout"
        }
      ]
    },
    {
      "cell_type": "markdown",
      "metadata": {
        "id": "FAodVLlMQoGJ"
      },
      "source": [
        "## Loading the pre-processed dataset"
      ]
    },
    {
      "cell_type": "code",
      "metadata": {
        "colab": {
          "base_uri": "https://localhost:8080/"
        },
        "id": "DO883dUWQn1r",
        "outputId": "9f523f01-8b0e-4b49-bfde-23a019ed9b85"
      },
      "source": [
        "from google.colab import drive\n",
        "drive.mount('/content/drive')"
      ],
      "execution_count": 4,
      "outputs": [
        {
          "output_type": "stream",
          "text": [
            "Mounted at /content/drive\n"
          ],
          "name": "stdout"
        }
      ]
    },
    {
      "cell_type": "code",
      "metadata": {
        "id": "juAuzLM8RBPh"
      },
      "source": [
        "import pandas as pd\n",
        "import numpy as np\n",
        "import matplotlib.pyplot as plt\n",
        "import seaborn as sns\n",
        "sns.set()\n",
        "import time\n",
        "import re"
      ],
      "execution_count": 4,
      "outputs": []
    },
    {
      "cell_type": "code",
      "metadata": {
        "id": "lby1yJAZNGSM"
      },
      "source": [
        "train_df = pd.read_pickle('/content/drive/MyDrive/Yelp/sample_train_10394.pkl')\n",
        "validation_df = pd.read_pickle('/content/drive/MyDrive/Yelp/sample_validation_1949.pkl')\n",
        "test_df = pd.read_pickle('/content/drive/MyDrive/Yelp/sample_test_650.pkl')"
      ],
      "execution_count": 5,
      "outputs": []
    },
    {
      "cell_type": "markdown",
      "metadata": {
        "id": "rlGrFcW4pL0V"
      },
      "source": [
        "reset index for all datasets:"
      ]
    },
    {
      "cell_type": "code",
      "metadata": {
        "colab": {
          "base_uri": "https://localhost:8080/",
          "height": 204
        },
        "id": "YZOlR4jbpQhN",
        "outputId": "bf846e7a-6f7f-4e36-9cbc-334145bec7de"
      },
      "source": [
        "train = train_df.reset_index(drop=True)\n",
        "validation = validation_df.reset_index(drop=True)\n",
        "test = test_df.reset_index(drop=True)\n",
        "train.head()"
      ],
      "execution_count": 7,
      "outputs": [
        {
          "output_type": "execute_result",
          "data": {
            "text/html": [
              "<div>\n",
              "<style scoped>\n",
              "    .dataframe tbody tr th:only-of-type {\n",
              "        vertical-align: middle;\n",
              "    }\n",
              "\n",
              "    .dataframe tbody tr th {\n",
              "        vertical-align: top;\n",
              "    }\n",
              "\n",
              "    .dataframe thead th {\n",
              "        text-align: right;\n",
              "    }\n",
              "</style>\n",
              "<table border=\"1\" class=\"dataframe\">\n",
              "  <thead>\n",
              "    <tr style=\"text-align: right;\">\n",
              "      <th></th>\n",
              "      <th>text</th>\n",
              "      <th>label</th>\n",
              "      <th>categories</th>\n",
              "    </tr>\n",
              "  </thead>\n",
              "  <tbody>\n",
              "    <tr>\n",
              "      <th>0</th>\n",
              "      <td>second best pool las vegas pay commit day drin...</td>\n",
              "      <td>1</td>\n",
              "      <td>Arts &amp; Entertainment, Casinos, Hotels, Hotels ...</td>\n",
              "    </tr>\n",
              "    <tr>\n",
              "      <th>1</th>\n",
              "      <td>went tuesday night jan weather nice course dec...</td>\n",
              "      <td>0</td>\n",
              "      <td>Arts &amp; Entertainment, Nightlife, Breakfast &amp; B...</td>\n",
              "    </tr>\n",
              "    <tr>\n",
              "      <th>2</th>\n",
              "      <td>experience duplicates reviews purchased living...</td>\n",
              "      <td>0</td>\n",
              "      <td>Home Services, Office Cleaning, Window Washing...</td>\n",
              "    </tr>\n",
              "    <tr>\n",
              "      <th>3</th>\n",
              "      <td>mmmmmmr sushi place lost sushi virginity place...</td>\n",
              "      <td>1</td>\n",
              "      <td>Restaurants, Sushi Bars, Japanese</td>\n",
              "    </tr>\n",
              "    <tr>\n",
              "      <th>4</th>\n",

              "      <td>little strip provide monorail service lvh stri...</td>\n",

              "      <td>1</td>\n",
              "      <td>Casinos, Nightlife, Restaurants, Hotels &amp; Trav...</td>\n",
              "    </tr>\n",
              "  </tbody>\n",
              "</table>\n",
              "</div>"
            ],
            "text/plain": [

              "                                                text  ...                                         categories\n",
              "0  second best pool las vegas pay commit day drin...  ...  Arts & Entertainment, Casinos, Hotels, Hotels ...\n",
              "1  went tuesday night jan weather nice course dec...  ...  Arts & Entertainment, Nightlife, Breakfast & B...\n",
              "2  experience duplicates reviews purchased living...  ...  Home Services, Office Cleaning, Window Washing...\n",
              "3  mmmmmmr sushi place lost sushi virginity place...  ...                  Restaurants, Sushi Bars, Japanese\n",
              "4  little strip provide monorail service lvh stri...  ...  Casinos, Nightlife, Restaurants, Hotels & Trav...\n",
              "\n",
              "[5 rows x 3 columns]"

            ]
          },
          "metadata": {
            "tags": []
          },

          "execution_count": 7

        }
      ]
    },
    {
      "cell_type": "markdown",
      "metadata": {
        "id": "0ljRADMeRtON"
      },
      "source": [
        "Extract the tokenized texts and labels"
      ]
    },
    {
      "cell_type": "code",
      "metadata": {
        "id": "Tz8r7hu4RxWs"
      },
      "source": [
        "# Get the lists of sentences and their labels.\n",
        "train_x = train.text.values\n",
        "train_y = train.label.values\n",
        "\n",
        "val_x = validation.text.values\n",
        "val_y = validation.label.values\n",
        "\n",
        "test_x = test.text.values\n",
        "test_y = test.label.values"
      ],
      "execution_count": 8,
      "outputs": []
    },
    {
      "cell_type": "markdown",
      "metadata": {
        "id": "USm3DlFeR3qb"
      },
      "source": [
        "# BERT"
      ]
    },
    {
      "cell_type": "markdown",
      "metadata": {
        "id": "ngPhB59wR6m9"
      },
      "source": [
        "## BERT Tokenizer"
      ]
    },
    {
      "cell_type": "code",
      "metadata": {
        "colab": {
          "base_uri": "https://localhost:8080/"
        },
        "id": "ZCzTuzrPR3GY",
        "outputId": "c3903181-a1b5-42b2-fe01-da9a02ffcfaf"

      },
      "source": [
        "from transformers import BertTokenizer\n",
        "\n",
        "# Load the BERT tokenizer.\n",
        "print('Loading BERT tokenizer...')\n",
        "tokenizer = BertTokenizer.from_pretrained('bert-base-uncased', do_lower_case=True)"
      ],

      "execution_count": 5,

      "outputs": [
        {
          "output_type": "stream",
          "text": [
            "Loading BERT tokenizer...\n"
          ],
          "name": "stdout"

        }
      ]
    },
    {
      "cell_type": "markdown",
      "metadata": {
        "id": "JAXMejNAORM-"
      },
      "source": [
        "\n",
        "\n",
        "> Even thought the reviews' max length on the datasets are 381, 396, 371; and the mean for all is 47; I decided to run the model with 150 words as max length and 3 epochs...\n"
      ]
    },
    {
      "cell_type": "code",
      "metadata": {
        "id": "fS0J2azYYZhe"
      },
      "source": [
        "def get_inputs_ids_mask(reviews, labels):\n",
        "  %%time\n",
        "  # Tokenize all of the sentences and map the tokens to thier word IDs.\n",
        "  input_ids = []\n",
        "  attention_masks = []\n",
        "\n",
        "  # For every sentence...\n",
        "  for sent in reviews:\n",
        "      # `encode_plus` will:\n",
        "      #   (1) Tokenize the sentence.\n",
        "      #   (2) Prepend the `[CLS]` token to the start.\n",
        "      #   (3) Append the `[SEP]` token to the end.\n",
        "      #   (4) Map tokens to their IDs.\n",
        "      #   (5) Pad or truncate the sentence to `max_length`\n",
        "      #   (6) Create attention masks for [PAD] tokens.\n",
        "      encoded_dict = tokenizer.encode_plus(\n",
        "                          sent,                      # Sentence to encode.\n",
        "                          add_special_tokens = True, # Add '[CLS]' and '[SEP]'\n",

        "                          max_length = 150,           # MAXIMUM IS 150 tokens\n",

        "                          padding = 'max_length',\n",
        "                          return_attention_mask = True,   # Construct attn. masks.\n",
        "                          return_tensors = 'pt',     # Return pytorch tensors.\n",
        "                          truncation = True\n",
        "                    )\n",
        "      \n",
        "      # Add the encoded sentence to the list.    \n",
        "      input_ids.append(encoded_dict['input_ids'])\n",
        "      \n",
        "      # And its attention mask (simply differentiates padding from non-padding).\n",
        "      attention_masks.append(encoded_dict['attention_mask'])\n",
        "\n",
        "  # Convert the lists into tensors.\n",
        "  input_ids = torch.cat(input_ids, dim=0)\n",
        "  attention_masks = torch.cat(attention_masks, dim=0)\n",
        "  labels = torch.tensor(labels)\n",
        "\n",
        "  # Print sentence 0, now as a list of IDs.\n",
        "  print('Original: ', reviews[0])\n",
        "  print('Token IDs:', input_ids[0])\n",
        "  return input_ids, attention_masks, labels"
      ],
      "execution_count": 11,

      "outputs": []
    },
    {
      "cell_type": "code",
      "metadata": {
        "colab": {
          "base_uri": "https://localhost:8080/",
          "height": 164
        },
        "id": "qNMaRwuftOoF",

        "outputId": "1e50472d-0e37-4f89-e06e-d126d27c7d73"

      },
      "source": [
        "train_ii, train_masks, train_labels = get_inputs_ids_mask(train_x, train_y)"
      ],

      "execution_count": 10,
      "outputs": [
        {
          "output_type": "error",
          "ename": "NameError",
          "evalue": "ignored",
          "traceback": [
            "\u001b[0;31m---------------------------------------------------------------------------\u001b[0m",
            "\u001b[0;31mNameError\u001b[0m                                 Traceback (most recent call last)",
            "\u001b[0;32m<ipython-input-10-989105f463c0>\u001b[0m in \u001b[0;36m<module>\u001b[0;34m()\u001b[0m\n\u001b[0;32m----> 1\u001b[0;31m \u001b[0mtrain_ii\u001b[0m\u001b[0;34m,\u001b[0m \u001b[0mtrain_masks\u001b[0m\u001b[0;34m,\u001b[0m \u001b[0mtrain_labels\u001b[0m \u001b[0;34m=\u001b[0m \u001b[0mget_inputs_ids_mask\u001b[0m\u001b[0;34m(\u001b[0m\u001b[0mtrain_x\u001b[0m\u001b[0;34m,\u001b[0m \u001b[0mtrain_y\u001b[0m\u001b[0;34m)\u001b[0m\u001b[0;34m\u001b[0m\u001b[0;34m\u001b[0m\u001b[0m\n\u001b[0m",
            "\u001b[0;31mNameError\u001b[0m: name 'get_inputs_ids_mask' is not defined"
          ]
        }
      ]
    },
    {
      "cell_type": "code",
      "metadata": {
        "colab": {
          "base_uri": "https://localhost:8080/"
        },

        "id": "bmw0HmuwtVuy",
        "outputId": "21b88d18-effd-4600-ff87-bacdb99dbcd6"
      },
      "source": [
        "val_ii, val_masks, val_labels = get_inputs_ids_mask(val_x, val_y)"
      ],
      "execution_count": 13,
      "outputs": [
        {
          "output_type": "stream",
          "text": [

            "CPU times: user 2 µs, sys: 0 ns, total: 2 µs\n",
            "Wall time: 5.72 µs\n",
            "Original:  order taker messed order pay attention paid looked slip way mix said mac sounds near grand mac charged fixed trouble lady calls order cancelled order wanted order know mix orders similar calls time grand mac informed mistake fairly quickly turned got mac rudely set tray way apology mcdonalds improved customer service way additional thing fries undercooked compared mcdonalds barely cooked tasted cooked way usually usually little darker colored think skip mcdonalds future actually rarely gone reason avoid\n",
            "Token IDs: tensor([  101,  2344,  2202,  2099, 18358,  2344,  3477,  3086,  3825,  2246,\n",
            "         7540,  2126,  4666,  2056,  6097,  4165,  2379,  2882,  6097,  5338,\n",
            "         4964,  4390,  3203,  4455,  2344,  8014,  2344,  2359,  2344,  2113,\n",
            "         4666,  4449,  2714,  4455,  2051,  2882,  6097,  6727,  6707,  7199,\n",
            "         2855,  2357,  2288,  6097, 12726,  2135,  2275, 11851,  2126, 12480,\n",
            "         9383,  2015,  5301,  8013,  2326,  2126,  3176,  2518, 22201,  2104,\n",
            "         3597, 23461,  4102,  9383,  2015,  4510, 12984, 12595, 12984,  2126,\n",
            "         2788,  2788,  2210,  9904,  6910,  2228, 13558,  9383,  2015,  2925,\n",
            "         2941,  6524,  2908,  3114,  4468,   102,     0,     0,     0,     0,\n",
            "            0,     0,     0,     0,     0,     0,     0,     0,     0,     0,\n",
            "            0,     0,     0,     0,     0,     0,     0,     0,     0,     0,\n",
            "            0,     0,     0,     0,     0,     0,     0,     0,     0,     0,\n",
            "            0,     0,     0,     0,     0,     0,     0,     0,     0,     0,\n",
            "            0,     0,     0,     0,     0,     0,     0,     0,     0,     0,\n",
            "            0,     0,     0,     0,     0,     0,     0,     0,     0,     0])\n"
          ],
          "name": "stdout"
        }
      ]
    },
    {
      "cell_type": "code",
      "metadata": {
        "colab": {
          "base_uri": "https://localhost:8080/"
        },
        "id": "CvYFcbipsEX8",
        "outputId": "b5495288-4a06-4c65-dced-242b57569130"
      },
      "source": [
        "test_ii, test_masks, test_labels = get_inputs_ids_mask(test_x, test_y)"
      ],
      "execution_count": 14,
      "outputs": [
        {
          "output_type": "stream",
          "text": [
            "CPU times: user 3 µs, sys: 1 µs, total: 4 µs\n",
            "Wall time: 6.91 µs\n",
            "Original:  reading great reviews thought compadres try lunch weren disappointed decor classy quality furnishings unlike typical mexican restaurants greeted warmly shown window booth chips types salsa delivered promptly menu choose chose lunch special choice smaller entrees grilled chicken enchilada mole sauce excellent better chicken chimichanga accompanied sides rice fried beans fresh homemade restaurant staffed believe family members mexico leading negative comment slight language barrier communicating order quality lunch experience restaurant likely return considering interesting offerings\n",
            "Token IDs: tensor([  101,  3752,  2307,  4391,  2245,  4012, 15455,  6072,  3046,  6265,\n",
            "         4694,  9364, 25545,  2465,  2100,  3737, 23127,  4406,  5171,  4916,\n",
            "         7884, 11188, 22775,  3491,  3332,  9065, 11772,  4127, 26509,  5359,\n",
            "        13364, 12183,  5454,  4900,  6265,  2569,  3601,  3760,  4372, 13334,\n",
            "         2015, 26192,  2094,  7975,  4372,  5428, 27266,  2050, 16709, 12901,\n",
            "         6581,  2488,  7975,  9610,  7712, 18003,  2050,  5642,  3903,  5785,\n",
            "        13017, 13435,  4840, 25628,  4825, 21121,  2903,  2155,  2372,  3290,\n",
            "         2877,  4997,  7615,  7263,  2653,  8803, 20888,  2344,  3737,  6265,\n",
            "         3325,  4825,  3497,  2709,  6195,  5875, 14927,   102,     0,     0,\n",
            "            0,     0,     0,     0,     0,     0,     0,     0,     0,     0,\n",
            "            0,     0,     0,     0,     0,     0,     0,     0,     0,     0,\n",
            "            0,     0,     0,     0,     0,     0,     0,     0,     0,     0,\n",
            "            0,     0,     0,     0,     0,     0,     0,     0,     0,     0,\n",
            "            0,     0,     0,     0,     0,     0,     0,     0,     0,     0,\n",
            "            0,     0,     0,     0,     0,     0,     0,     0,     0,     0])\n"
          ],
          "name": "stdout"
        }
      ]
    },
    {
      "cell_type": "code",
      "metadata": {
        "id": "jclOoLjtQ0Sx"
      },
      "source": [
        "# before creating the Tensor Datasets, I want to save the datasets input ids as lists\n",
        "# this is meant to help the random forest mimic process\n",
        "import pickle \n",
        "\n",
        "train_tensor_list = train_ii.tolist()\n",
        "with open('train_input_ids_150.pkl', 'wb') as f:\n",
        "  pickle.dump(train_tensor_list, f)\n",
        "\n",
        "val_tensor_list = val_ii.tolist()\n",
        "with open('val_input_ids_150.pkl', 'wb') as v:\n",
        "  pickle.dump(val_tensor_list, v)\n",
        "\n",
        "test_tensor_list = test_ii.tolist()\n",
        "with open('test_input_ids_150.pkl', 'wb') as t:\n",
        "  pickle.dump(test_tensor_list, t)"
      ],
      "execution_count": 15,
      "outputs": []
    },
    {
      "cell_type": "markdown",
      "metadata": {
        "id": "7ECdewLGZ2aE"
      },
      "source": [
        "Creating tensor Datasets"
      ]
    },
    {
      "cell_type": "code",
      "metadata": {
        "id": "I9m8grhVtzg8"
      },
      "source": [
        "from torch.utils.data import TensorDataset, random_split\n",
        "\n",
        "# Combine the training inputs into a TensorDataset.\n",
        "train_dataset = TensorDataset(train_ii, train_masks, train_labels)\n",
        "val_dataset = TensorDataset(val_ii, val_masks, val_labels)\n",
        "test_dataset = TensorDataset(test_ii, test_masks, test_labels)"
      ],
      "execution_count": 16,
      "outputs": []
    },
    {
      "cell_type": "code",
      "metadata": {
        "id": "XDO34zRNfYZy"
      },
      "source": [
        "# Save the tensorDatasets\n",
        "torch.save(train_dataset, '/content/drive/MyDrive/Yelp/tensors_yelp/_train_150')\n",
        "torch.save(val_dataset, '/content/drive/MyDrive/Yelp/tensors_yelp/_validation_150')\n",
        "torch.save(test_dataset, '/content/drive/MyDrive/Yelp/tensors_yelp/_test_150')"
      ],
      "execution_count": 17,
      "outputs": []
    },
    {
      "cell_type": "code",
      "metadata": {
        "id": "mh_bPQmCCxNW"
      },
      "source": [
        "train_dataset = torch.load('/content/drive/MyDrive/Yelp/tensors_yelp/_train_150')\n",
        "val_dataset = torch.load( '/content/drive/MyDrive/Yelp/tensors_yelp/_validation_150')\n",
        "test_dataset = torch.load( '/content/drive/MyDrive/Yelp/tensors_yelp/_test_150')"
      ],
      "execution_count": 6,
      "outputs": []
    },
    {
      "cell_type": "code",
      "metadata": {
        "colab": {
          "base_uri": "https://localhost:8080/"
        },
        "id": "JXTRQiFNdiv8",
        "outputId": "f362b778-b25b-4974-eae4-4e4119a88445"
      },
      "source": [
        "train_dataset[0]"
      ],
      "execution_count": 12,
      "outputs": [
        {
          "output_type": "execute_result",
          "data": {
            "text/plain": [
              "(tensor([  101,  2117,  2190,  4770,  5869,  7136,  3477, 10797,  2154,  4392,\n",
              "          2058, 18098,  6610,  2094,  8974,  4978,  8479,  7492,  2180,  2292,\n",
              "          3288,  6544,  3835,  4638, 12679,  4569,  5541,  4268,  2926,  6001,\n",
              "          2300,  7358, 21881, 12403, 19091,  2080,  3492,  5151,   102,     0,\n",
              "             0,     0,     0,     0,     0,     0,     0,     0,     0,     0,\n",
              "             0,     0,     0,     0,     0,     0,     0,     0,     0,     0,\n",
              "             0,     0,     0,     0,     0,     0,     0,     0,     0,     0,\n",
              "             0,     0,     0,     0,     0,     0,     0,     0,     0,     0,\n",
              "             0,     0,     0,     0,     0,     0,     0,     0,     0,     0,\n",
              "             0,     0,     0,     0,     0,     0,     0,     0,     0,     0,\n",
              "             0,     0,     0,     0,     0,     0,     0,     0,     0,     0,\n",
              "             0,     0,     0,     0,     0,     0,     0,     0,     0,     0,\n",
              "             0,     0,     0,     0,     0,     0,     0,     0,     0,     0,\n",
              "             0,     0,     0,     0,     0,     0,     0,     0,     0,     0,\n",
              "             0,     0,     0,     0,     0,     0,     0,     0,     0,     0]),\n",
              " tensor([1, 1, 1, 1, 1, 1, 1, 1, 1, 1, 1, 1, 1, 1, 1, 1, 1, 1, 1, 1, 1, 1, 1, 1,\n",
              "         1, 1, 1, 1, 1, 1, 1, 1, 1, 1, 1, 1, 1, 1, 1, 0, 0, 0, 0, 0, 0, 0, 0, 0,\n",
              "         0, 0, 0, 0, 0, 0, 0, 0, 0, 0, 0, 0, 0, 0, 0, 0, 0, 0, 0, 0, 0, 0, 0, 0,\n",
              "         0, 0, 0, 0, 0, 0, 0, 0, 0, 0, 0, 0, 0, 0, 0, 0, 0, 0, 0, 0, 0, 0, 0, 0,\n",
              "         0, 0, 0, 0, 0, 0, 0, 0, 0, 0, 0, 0, 0, 0, 0, 0, 0, 0, 0, 0, 0, 0, 0, 0,\n",
              "         0, 0, 0, 0, 0, 0, 0, 0, 0, 0, 0, 0, 0, 0, 0, 0, 0, 0, 0, 0, 0, 0, 0, 0,\n",
              "         0, 0, 0, 0, 0, 0]),\n",
              " tensor(1))"
            ]
          },
          "metadata": {
            "tags": []
          },
          "execution_count": 12

        }
      ]
    },
    {
      "cell_type": "code",
      "metadata": {
        "id": "bh_SUlsHaDs1"
      },
      "source": [
        "from torch.utils.data import DataLoader, RandomSampler, SequentialSampler\n",
        "\n",
        "# The DataLoader needs to know our batch size for training, so we specify it \n",
        "# here. For fine-tuning BERT on a specific task, the authors recommend a batch \n",
        "# size of 16 or 32.\n",
        "batch_size = 16\n",
        "\n",
        "# Create the DataLoaders for our training and validation sets.\n",
        "# We'll take training samples in random order. \n",
        "train_dataloader = DataLoader(\n",
        "            train_dataset,  # The training samples.\n",
        "            sampler = RandomSampler(train_dataset), # Select batches randomly\n",
        "            batch_size = batch_size # Trains with this batch size.\n",
        "        )\n",
        "\n",
        "# For validation the order doesn't matter, so we'll just read them sequentially.\n",
        "validation_dataloader = DataLoader(\n",
        "            val_dataset, # The validation samples.\n",
        "            sampler = SequentialSampler(val_dataset), # Pull out batches sequentially. FROM THE 2ND DIVISION\n",
        "            batch_size = batch_size # Evaluate with this batch size.\n",
        "        )"
      ],

      "execution_count": 7,

      "outputs": []
    },
    {
      "cell_type": "code",
      "metadata": {
        "colab": {
          "base_uri": "https://localhost:8080/"
        },
        "id": "RASREEhaaTrr",
        "outputId": "a0a02eb0-75d2-4805-bf6b-d306f594ae72"

      },
      "source": [
        "%%time\n",
        "from transformers import BertForSequenceClassification, AdamW, BertConfig\n",
        "\n",
        "# Load BertForSequenceClassification, the pretrained BERT model with a single \n",
        "# linear classification layer on top. \n",
        "model = BertForSequenceClassification.from_pretrained(\n",
        "    \"bert-base-uncased\", # Use the 12-layer BERT model, with an uncased vocab.\n",
        "    num_labels = 2, # The number of output labels--2 for binary classification. # It can be increased for multi-class tasks.   \n",
        "    output_attentions = False, # Whether the model returns attentions weights.\n",
        "    output_hidden_states = False, # Whether the model returns all hidden-states.\n",
        ")\n",
        "\n",
        "# Tell pytorch to run this model on the GPU.\n",
        "model.cuda()"
      ],

      "execution_count": 8,
      "outputs": [
        {
          "output_type": "stream",
          "text": [
            "Some weights of the model checkpoint at bert-base-uncased were not used when initializing BertForSequenceClassification: ['cls.predictions.bias', 'cls.predictions.transform.dense.weight', 'cls.predictions.transform.dense.bias', 'cls.predictions.decoder.weight', 'cls.seq_relationship.weight', 'cls.seq_relationship.bias', 'cls.predictions.transform.LayerNorm.weight', 'cls.predictions.transform.LayerNorm.bias']\n",
            "- This IS expected if you are initializing BertForSequenceClassification from the checkpoint of a model trained on another task or with another architecture (e.g. initializing a BertForSequenceClassification model from a BertForPreTraining model).\n",
            "- This IS NOT expected if you are initializing BertForSequenceClassification from the checkpoint of a model that you expect to be exactly identical (initializing a BertForSequenceClassification model from a BertForSequenceClassification model).\n",
            "Some weights of BertForSequenceClassification were not initialized from the model checkpoint at bert-base-uncased and are newly initialized: ['classifier.weight', 'classifier.bias']\n",
            "You should probably TRAIN this model on a down-stream task to be able to use it for predictions and inference.\n"
          ],
          "name": "stderr"
        },
        {
          "output_type": "stream",
          "text": [
            "CPU times: user 6.1 s, sys: 1.61 s, total: 7.71 s\n",
            "Wall time: 8.12 s\n"
          ],
          "name": "stdout"
        }
      ]
    },
    {
      "cell_type": "markdown",
      "metadata": {
        "id": "slORUUcnayjI"
      },
      "source": [
        "optimizer"
      ]
    },
    {
      "cell_type": "code",
      "metadata": {
        "id": "DL_Efz0IaqbZ"
      },
      "source": [
        "# Note: AdamW is a class from the huggingface library (as opposed to pytorch) \n",
        "# I believe the 'W' stands for 'Weight Decay fix\"\n",
        "optimizer = AdamW(model.parameters(),\n",
        "                  lr = 2e-5, # args.learning_rate - default is 5e-5, our notebook had 2e-5\n",
        "                  eps = 1e-8 # args.adam_epsilon  - default is 1e-8.\n",
        "                )"
      ],
      "execution_count": 9,
      "outputs": []
    },
    {
      "cell_type": "code",
      "metadata": {
        "id": "WOVjafvPYRAq"
      },
      "source": [
        "from transformers import get_linear_schedule_with_warmup\n",
        "\n",
        "# Number of training epochs. The BERT authors recommend between 2 and 4. \n",
        "epochs = 3 \n",
        "\n",
        "# Total number of training steps is [number of batches] x [number of epochs]. \n",
        "# (Note that this is not the same as the number of training samples).\n",
        "total_steps = len(train_dataloader) * epochs\n",
        "\n",
        "# Create the learning rate scheduler.\n",
        "scheduler = get_linear_schedule_with_warmup(optimizer, \n",
        "                                            num_warmup_steps = 0, # Default value in run_glue.py\n",
        "                                            num_training_steps = total_steps)"
      ],
      "execution_count": 10,
      "outputs": []
    },
    {
      "cell_type": "code",
      "metadata": {
        "id": "Xwg-r_jBqKbH"
      },
      "source": [
        "# Function to calculate the accuracy of our predictions vs labels\n",
        "def flat_accuracy(preds, labels):\n",
        "    pred_flat = np.argmax(preds, axis=1).flatten()\n",
        "    labels_flat = labels.flatten()\n",
        "    return np.sum(pred_flat == labels_flat) / len(labels_flat)"
      ],
      "execution_count": 11,

      "outputs": []
    },
    {
      "cell_type": "code",
      "metadata": {
        "id": "XiJn1ohNYri1"
      },
      "source": [
        "import datetime\n",
        "\n",
        "def format_time(elapsed):\n",
        "    '''\n",
        "    Takes a time in seconds and returns a string hh:mm:ss\n",
        "    '''\n",
        "    # Round to the nearest second.\n",
        "    elapsed_rounded = int(round((elapsed)))\n",
        "    \n",
        "    # Format as hh:mm:ss\n",
        "    return str(datetime.timedelta(seconds=elapsed_rounded))"
      ],
      "execution_count": 12,

      "outputs": []
    },
    {
      "cell_type": "markdown",
      "metadata": {
        "id": "V2iecC8rbD_y"
      },
      "source": [
        "training"
      ]
    },
    {
      "cell_type": "code",
      "metadata": {
        "id": "KQztPN7Ga9LS"
      },
      "source": [
        "import random\n",
        "seed_val = 42\n",
        "\n",
        "random.seed(seed_val)\n",
        "np.random.seed(seed_val)\n",
        "torch.manual_seed(seed_val)\n",
        "torch.cuda.manual_seed_all(seed_val)"
      ],
      "execution_count": 13,

      "outputs": []
    },
    {
      "cell_type": "markdown",
      "metadata": {
        "id": "44x8AkQrcQaa"
      },
      "source": [
        "# Training\n",
        "\n",
        "---\n",
        "\n"
      ]
    },
    {
      "cell_type": "code",
      "metadata": {
        "id": "otPph7a3P5WG"
      },
      "source": [
        "torch.cuda.empty_cache()"
      ],
      "execution_count": 15,
      "outputs": []
    },
    {
      "cell_type": "code",
      "metadata": {
        "colab": {
          "base_uri": "https://localhost:8080/"
        },
        "id": "2nKomsf_JMPj",
        "outputId": "4583d7be-8ec3-4817-92a8-0ed1c3ba2a1b"

      },
      "source": [
        "# We'll store a number of quantities such as training and validation loss, \n",
        "# validation accuracy, and timings.\n",
        "training_stats = []\n",
        "\n",
        "# Measure the total training time for the whole run.\n",
        "total_t0 = time.time()\n",
        "\n",
        "# SAVE THE LOGITS FOR ALL TRAINING AND VALIDATION\n",
        "logits_train = []\n",
        "logits_valid = []\n",
        "\n",
        "# For each epoch...\n",
        "for epoch_i in range(0, epochs):\n",
        "    \n",
        "    # ========================================\n",
        "    #               Training\n",
        "    # ========================================\n",
        "    \n",
        "    # Perform one full pass over the training set.\n",
        "\n",
        "    print(\"\")\n",
        "    print('======== Epoch {:} / {:} ========'.format(epoch_i + 1, epochs))\n",
        "    print('Training...')\n",
        "\n",
        "    # Measure how long the training epoch takes.\n",
        "    t0 = time.time()\n",
        "\n",
        "    # Reset the total loss for this epoch.\n",
        "    total_train_loss = 0\n",
        "\n",
        "    # Put the model into training mode. Don't be mislead--the call to \n",
        "    # `train` just changes the *mode*, it doesn't *perform* the training.\n",
        "    # `dropout` and `batchnorm` layers behave differently during training\n",
        "    # vs. test (source: https://stackoverflow.com/questions/51433378/what-does-model-train-do-in-pytorch)\n",
        "    model.train()\n",
        "\n",
        "    # For each batch of training data...\n",
        "    for step, batch in enumerate(train_dataloader):\n",
        "\n",
        "        # Progress update every 40 batches.\n",
        "        if step % 40 == 0 and not step == 0:\n",
        "            # Calculate elapsed time in minutes.\n",
        "            elapsed = format_time(time.time() - t0)\n",
        "            \n",
        "            # Report progress.\n",
        "            print('  Batch {:>5,}  of  {:>5,}.    Elapsed: {:}.'.format(step, len(train_dataloader), elapsed))\n",
        "\n",
        "        # Unpack this training batch from our dataloader. \n",
        "        #\n",
        "        # As we unpack the batch, we'll also copy each tensor to the GPU using the \n",
        "        # `to` method.\n",
        "        #\n",
        "        # `batch` contains three pytorch tensors:\n",
        "        #   [0]: input ids \n",
        "        #   [1]: attention masks\n",
        "        #   [2]: labels \n",
        "        b_input_ids = batch[0].to(device)\n",
        "        b_input_mask = batch[1].to(device)\n",
        "        b_labels = batch[2].to(device)\n",
        "\n",
        "        # Always clear any previously calculated gradients before performing a\n",
        "        # backward pass. PyTorch doesn't do this automatically because \n",
        "        # accumulating the gradients is \"convenient while training RNNs\". \n",
        "        # (source: https://stackoverflow.com/questions/48001598/why-do-we-need-to-call-zero-grad-in-pytorch)\n",
        "        model.zero_grad()        \n",
        "         \n",
        "\n",
        "      # Perform a forward pass (evaluate the model on this training batch).\n",
        "      # The documentation for this `model` function is here: \n",
        "      # https://huggingface.co/transformers/v2.2.0/model_doc/bert.html#transformers.BertForSequenceClassification\n",
        "      # It returns different numbers of parameters depending on what arguments\n",
        "      # arge given and what flags are set. For our useage here, it returns\n",
        "      # the loss (because we provided labels) and the \"logits\"--the model\n",
        "      # outputs prior to activation.\n",
        "        loss_logits_ = model(b_input_ids, \n",
        "                            token_type_ids=None, \n",
        "                            attention_mask=b_input_mask, \n",
        "                            labels=b_labels)\n",
        "\n",
        "        loss = loss_logits_[0]\n",
        "        logits_t = loss_logits_[1]\n",
        "\n",
        "        logits_t_cpu = logits_t.detach().cpu().numpy()\n",
        "        train_pred = np.argmax(logits_t_cpu, axis=1).flatten()\n",
        "        logits_train.append(list(train_pred))\n",
        "\n",
        "        # Accumulate the training loss over all of the batches so that we can\n",
        "        # calculate the average loss at the end. `loss` is a Tensor containing a\n",
        "        # single value; the `.item()` function just returns the Python value \n",
        "        # from the tensor.\n",
        "        total_train_loss += loss.item()\n",
        "\n",
        "        # Perform a backward pass to calculate the gradients.\n",
        "        loss.backward()\n",
        "\n",
        "        # Clip the norm of the gradients to 1.0.\n",
        "        # This is to help prevent the \"exploding gradients\" problem.\n",
        "        torch.nn.utils.clip_grad_norm_(model.parameters(), 1.0)\n",
        "\n",
        "        # Update parameters and take a step using the computed gradient.\n",
        "        # The optimizer dictates the \"update rule\"--how the parameters are\n",
        "        # modified based on their gradients, the learning rate, etc.\n",
        "        optimizer.step()\n",
        "\n",
        "        # Update the learning rate.\n",
        "        scheduler.step()\n",
        "\n",
        "    # Calculate the average loss over all of the batches.\n",
        "    avg_train_loss = total_train_loss / len(train_dataloader)            \n",
        "    \n",
        "    # Measure how long this epoch took.\n",
        "    training_time = format_time(time.time() - t0)\n",
        "\n",
        "    print(\"\")\n",
        "    print(\"  Average training loss: {0:.2f}\".format(avg_train_loss))\n",
        "    print(\"  Training epcoh took: {:}\".format(training_time))\n",
        "        \n",
        "    # ========================================\n",
        "    #               Validation\n",
        "    # ========================================\n",
        "    # After the completion of each training epoch, measure our performance on\n",
        "    # our validation set.\n",
        "\n",
        "    print(\"\")\n",
        "    print(\"Running Validation...\")\n",
        "\n",
        "    t0 = time.time()\n",
        "\n",
        "    # Put the model in evaluation mode--the dropout layers behave differently\n",
        "    # during evaluation.\n",
        "    model.eval()\n",
        "\n",
        "    # Tracking variables \n",
        "    total_eval_accuracy = 0\n",
        "    total_eval_loss = 0\n",
        "    nb_eval_steps = 0\n",
        "\n",
        "    # Evaluate data for one epoch\n",
        "    for batch in validation_dataloader:\n",
        "        \n",
        "        # Unpack this training batch from our dataloader. \n",
        "        #\n",
        "        # As we unpack the batch, we'll also copy each tensor to the GPU using \n",
        "        # the `to` method.\n",
        "        #\n",
        "        # `batch` contains three pytorch tensors:\n",
        "        #   [0]: input ids \n",
        "        #   [1]: attention masks\n",
        "        #   [2]: labels \n",
        "        b_input_ids = batch[0].to(device)\n",
        "        b_input_mask = batch[1].to(device)\n",
        "        b_labels = batch[2].to(device)\n",
        "        \n",
        "        # Tell pytorch not to bother with constructing the compute graph during\n",
        "        # the forward pass, since this is only needed for backprop (training).\n",
        "        with torch.no_grad():        \n",
        "\n",
        "            # Forward pass, calculate logit predictions.\n",
        "            # token_type_ids is the same as the \"segment ids\", which \n",
        "            # differentiates sentence 1 and 2 in 2-sentence tasks.\n",
        "            # The documentation for this `model` function is here: \n",
        "            # https://huggingface.co/transformers/v2.2.0/model_doc/bert.html#transformers.BertForSequenceClassification\n",
        "            # Get the \"logits\" output by the model. The \"logits\" are the output\n",
        "            # values prior to applying an activation function like the softmax.\n",
        "            loss_logits = model(b_input_ids, \n",
        "                                   token_type_ids=None, \n",
        "                                   attention_mask=b_input_mask,\n",
        "                                   labels=b_labels)\n",
        "            loss = loss_logits[0]\n",
        "            logits_val = loss_logits[1]\n",
        "        # Accumulate the validation loss.\n",
        "        total_eval_loss += loss.item()\n",
        "\n",
        "        # Move logits and labels to CPU\n",
        "        logits_val = logits_val.detach().cpu().numpy()\n",
        "        label_ids = b_labels.to('cpu').numpy()\n",
        "\n",
        "        val_pred = np.argmax(logits_val, axis=1).flatten()\n",
        "        logits_valid.append(list(val_pred))\n",
        "\n",
        "        # Calculate the accuracy for this batch of test sentences, and\n",
        "        # accumulate it over all batches.\n",
        "        total_eval_accuracy += flat_accuracy(logits_val, label_ids)\n",
        "        \n",
        "\n",
        "    # Report the final accuracy for this validation run.\n",
        "    avg_val_accuracy = total_eval_accuracy / len(validation_dataloader)\n",
        "    print(\"  Accuracy: {0:.2f}\".format(avg_val_accuracy))\n",
        "\n",
        "    # Calculate the average loss over all of the batches.\n",
        "    avg_val_loss = total_eval_loss / len(validation_dataloader)\n",
        "    \n",
        "    # Measure how long the validation run took.\n",
        "    validation_time = format_time(time.time() - t0)\n",
        "    \n",
        "    print(\"  Validation Loss: {0:.2f}\".format(avg_val_loss))\n",
        "    print(\"  Validation took: {:}\".format(validation_time))\n",
        "\n",
        "    # Record all statistics from this epoch.\n",
        "    training_stats.append(\n",
        "        {\n",
        "            'epoch': epoch_i + 1,\n",
        "            'Training Loss': avg_train_loss,\n",
        "            'Valid. Loss': avg_val_loss,\n",
        "            'Valid. Accur.': avg_val_accuracy,\n",
        "            'Training Time': training_time,\n",
        "            'Validation Time': validation_time\n",
        "        }\n",
        "    )\n",
        "\n",
        "print(\"\")\n",
        "print(\"Training complete!\")\n",
        "\n",
        "print(\"Total training took {:} (h:mm:ss)\".format(format_time(time.time()-total_t0)))"
      ],

      "execution_count": 14,

      "outputs": [
        {
          "output_type": "stream",
          "text": [
            "\n",

            "======== Epoch 1 / 3 ========\n",
            "Training...\n",
            "  Batch    40  of    650.    Elapsed: 0:00:16.\n",
            "  Batch    80  of    650.    Elapsed: 0:00:33.\n",
            "  Batch   120  of    650.    Elapsed: 0:00:49.\n",
            "  Batch   160  of    650.    Elapsed: 0:01:06.\n",
            "  Batch   200  of    650.    Elapsed: 0:01:23.\n",
            "  Batch   240  of    650.    Elapsed: 0:01:40.\n",
            "  Batch   280  of    650.    Elapsed: 0:01:56.\n",
            "  Batch   320  of    650.    Elapsed: 0:02:13.\n",
            "  Batch   360  of    650.    Elapsed: 0:02:30.\n",
            "  Batch   400  of    650.    Elapsed: 0:02:47.\n",
            "  Batch   440  of    650.    Elapsed: 0:03:05.\n",
            "  Batch   480  of    650.    Elapsed: 0:03:22.\n",
            "  Batch   520  of    650.    Elapsed: 0:03:39.\n",
            "  Batch   560  of    650.    Elapsed: 0:03:56.\n",
            "  Batch   600  of    650.    Elapsed: 0:04:13.\n",
            "  Batch   640  of    650.    Elapsed: 0:04:31.\n",
            "\n",
            "  Average training loss: 0.29\n",
            "  Training epcoh took: 0:04:35\n",
            "\n",
            "Running Validation...\n",
            "  Accuracy: 0.91\n",
            "  Validation Loss: 0.24\n",
            "  Validation took: 0:00:18\n",
            "\n",
            "======== Epoch 2 / 3 ========\n",
            "Training...\n",

            "  Batch    40  of    650.    Elapsed: 0:00:17.\n",
            "  Batch    80  of    650.    Elapsed: 0:00:35.\n",
            "  Batch   120  of    650.    Elapsed: 0:00:52.\n",
            "  Batch   160  of    650.    Elapsed: 0:01:09.\n",
            "  Batch   200  of    650.    Elapsed: 0:01:27.\n",
            "  Batch   240  of    650.    Elapsed: 0:01:44.\n",
            "  Batch   280  of    650.    Elapsed: 0:02:02.\n",
            "  Batch   320  of    650.    Elapsed: 0:02:19.\n",
            "  Batch   360  of    650.    Elapsed: 0:02:37.\n",
            "  Batch   400  of    650.    Elapsed: 0:02:54.\n",
            "  Batch   440  of    650.    Elapsed: 0:03:11.\n",
            "  Batch   480  of    650.    Elapsed: 0:03:29.\n",
            "  Batch   520  of    650.    Elapsed: 0:03:47.\n",
            "  Batch   560  of    650.    Elapsed: 0:04:04.\n",
            "  Batch   600  of    650.    Elapsed: 0:04:21.\n",
            "  Batch   640  of    650.    Elapsed: 0:04:39.\n",
            "\n",
            "  Average training loss: 0.17\n",
            "  Training epcoh took: 0:04:43\n",
            "\n",
            "Running Validation...\n",
            "  Accuracy: 0.92\n",
            "  Validation Loss: 0.27\n",

            "  Validation took: 0:00:18\n",
            "\n",
            "======== Epoch 3 / 3 ========\n",
            "Training...\n",

            "  Batch    40  of    650.    Elapsed: 0:00:17.\n",
            "  Batch    80  of    650.    Elapsed: 0:00:35.\n",
            "  Batch   120  of    650.    Elapsed: 0:00:52.\n",
            "  Batch   160  of    650.    Elapsed: 0:01:10.\n",
            "  Batch   200  of    650.    Elapsed: 0:01:27.\n",
            "  Batch   240  of    650.    Elapsed: 0:01:45.\n",
            "  Batch   280  of    650.    Elapsed: 0:02:02.\n",
            "  Batch   320  of    650.    Elapsed: 0:02:20.\n",
            "  Batch   360  of    650.    Elapsed: 0:02:37.\n",
            "  Batch   400  of    650.    Elapsed: 0:02:54.\n",
            "  Batch   440  of    650.    Elapsed: 0:03:12.\n",
            "  Batch   480  of    650.    Elapsed: 0:03:29.\n",
            "  Batch   520  of    650.    Elapsed: 0:03:47.\n",
            "  Batch   560  of    650.    Elapsed: 0:04:04.\n",
            "  Batch   600  of    650.    Elapsed: 0:04:22.\n",
            "  Batch   640  of    650.    Elapsed: 0:04:39.\n",
            "\n",
            "  Average training loss: 0.09\n",
            "  Training epcoh took: 0:04:43\n",
            "\n",
            "Running Validation...\n",
            "  Accuracy: 0.93\n",
            "  Validation Loss: 0.34\n",
            "  Validation took: 0:00:18\n",
            "\n",
            "Training complete!\n",
            "Total training took 0:14:56 (h:mm:ss)\n"

          ],
          "name": "stdout"
        }
      ]
    },
    {
      "cell_type": "code",
      "metadata": {
        "colab": {
          "base_uri": "https://localhost:8080/"
        },
        "id": "SaJTCBSVHZpf",
        "outputId": "341bfce2-e0a4-49ed-9d41-d517878056a5"
      },
      "source": [
        "logits_train"
      ],
      "execution_count": 25,
      "outputs": [
        {
          "output_type": "execute_result",
          "data": {
            "text/plain": [
              "tensor([[-2.9675,  3.1785],\n",
              "        [-3.2147,  3.1575],\n",
              "        [ 1.1261, -1.6583],\n",
              "        [ 2.9774, -3.1051],\n",
              "        [ 3.2075, -3.5303],\n",
              "        [-3.3366,  3.1416],\n",
              "        [ 3.2994, -3.3024],\n",
              "        [-3.2636,  3.1411],\n",
              "        [ 2.9815, -3.5010],\n",
              "        [-0.6247,  0.9821]], device='cuda:0', grad_fn=<AddmmBackward>)"
            ]
          },
          "metadata": {
            "tags": []
          },
          "execution_count": 25
        }
      ]
    },
    {
      "cell_type": "code",
      "metadata": {
        "colab": {
          "base_uri": "https://localhost:8080/"
        },
        "id": "c6prF2QsHcHd",
        "outputId": "82a6be00-8bb2-4ee0-9ea6-313e23defc23"
      },
      "source": [
        "logits_val"
      ],
      "execution_count": 26,
      "outputs": [
        {
          "output_type": "execute_result",
          "data": {
            "text/plain": [
              "array([[-3.0908377 ,  2.9541566 ],\n",
              "       [ 3.4616518 , -3.5129519 ],\n",
              "       [ 3.4376473 , -3.5189946 ],\n",
              "       [-3.3879886 ,  3.3978188 ],\n",
              "       [ 3.378887  , -3.272792  ],\n",
              "       [-2.9485836 ,  2.8384106 ],\n",
              "       [ 3.4016123 , -3.1929972 ],\n",
              "       [ 0.46453512, -0.5191405 ],\n",
              "       [ 3.2088895 , -3.4176352 ],\n",
              "       [-3.2849028 ,  3.2431982 ],\n",
              "       [ 2.9192386 , -2.9747143 ],\n",
              "       [ 2.9821768 , -3.0667267 ],\n",
              "       [ 3.2954452 , -3.396146  ]], dtype=float32)"
            ]
          },
          "metadata": {
            "tags": []
          },
          "execution_count": 26
        }
      ]
    },
    {
      "cell_type": "code",
      "metadata": {
        "id": "VwrukbLgJLuw"
      },
      "source": [
        "logits_train = torch.load('/content/drive/MyDrive/Yelp/model_save_4/logits_train_150')"
      ],
      "execution_count": 33,
      "outputs": []
    },
    {
      "cell_type": "code",
      "metadata": {
        "colab": {
          "base_uri": "https://localhost:8080/"
        },
        "id": "rN0JOwpVJMvl",
        "outputId": "c38b6be9-b818-4288-c48b-5a1eb71373f0"
      },
      "source": [
        "len(logits_train)"
      ],
      "execution_count": 23,
      "outputs": [
        {
          "output_type": "execute_result",
          "data": {
            "text/plain": [
              "1950"
            ]
          },
          "metadata": {
            "tags": []
          },
          "execution_count": 23
        }
      ]
    },
    {
      "cell_type": "code",
      "metadata": {
        "colab": {
          "base_uri": "https://localhost:8080/"
        },
        "id": "t_94EA-IV9ku",
        "outputId": "78097741-c549-4de4-ccb2-4271946be54b"
      },
      "source": [
        "len(logits_train[0])"
      ],
      "execution_count": 20,
      "outputs": [
        {
          "output_type": "execute_result",
          "data": {
            "text/plain": [
              "16"
            ]
          },
          "metadata": {
            "tags": []
          },
          "execution_count": 20
        }
      ]
    },
    {
      "cell_type": "code",
      "metadata": {
        "colab": {
          "base_uri": "https://localhost:8080/"
        },
        "id": "D4VT-lFVV08W",
        "outputId": "7f8f23b8-a4b9-42aa-e365-b9ef8809f741"
      },
      "source": [
        "len(logits_valid)"
      ],
      "execution_count": 16,
      "outputs": [
        {
          "output_type": "execute_result",
          "data": {
            "text/plain": [
              "366"
            ]
          },
          "metadata": {
            "tags": []
          },
          "execution_count": 16
        }
      ]
    },
    {
      "cell_type": "code",
      "metadata": {
        "colab": {
          "base_uri": "https://localhost:8080/"
        },
        "id": "nZdFA5UTJ4e5",
        "outputId": "8f4a3c95-9126-49f2-dac0-588abde90ea3"
      },
      "source": [
        "len(train_dataset)/"
      ],
      "execution_count": 41,
      "outputs": [
        {
          "output_type": "execute_result",
          "data": {
            "text/plain": [
              "15.990769230769232"
            ]
          },
          "metadata": {
            "tags": []
          },
          "execution_count": 41
        }
      ]
    },
    {
      "cell_type": "code",
      "metadata": {
        "colab": {
          "base_uri": "https://localhost:8080/"
        },
        "id": "EYD83urwIhKK",
        "outputId": "1b45fb38-8b56-4cd6-ec75-bcdf20f126fc"
      },
      "source": [
        "logits_train = logits_train.detach().cpu().numpy()\n",
        "train_pred = np.argmax(logits_train, axis=1).flatten()\n",
        "train_pred"
      ],
      "execution_count": 35,
      "outputs": [
        {
          "output_type": "execute_result",
          "data": {
            "text/plain": [
              "array([1, 1, 0, 0, 0, 1, 0, 1, 0, 1])"
            ]
          },
          "metadata": {
            "tags": []
          },
          "execution_count": 35
        }
      ]
    },
    {
      "cell_type": "code",
      "metadata": {
        "colab": {
          "base_uri": "https://localhost:8080/"
        },
        "id": "Wn_lbigrI1Mv",
        "outputId": "e97df195-a933-43e8-9ea8-45925cc7aa50"
      },
      "source": [
        "list(train_pred)"
      ],
      "execution_count": 42,
      "outputs": [
        {
          "output_type": "execute_result",
          "data": {
            "text/plain": [
              "[1, 1, 0, 0, 0, 1, 0, 1, 0, 1]"
            ]
          },
          "metadata": {
            "tags": []
          },
          "execution_count": 42
        }
      ]
    },
    {
      "cell_type": "markdown",
      "metadata": {
        "id": "sAybohdNI025"
      },
      "source": [
        ""
      ]
    },
    {
      "cell_type": "markdown",
      "metadata": {
        "id": "WlYAMBk-K8Kf"
      },
      "source": [
        "SAVING MODEL"
      ]
    },
    {
      "cell_type": "code",
      "metadata": {
        "id": "adlJFThIK-O9"
      },
      "source": [

        "tokenizer.save_pretrained('/content/drive/MyDrive/Yelp/model_save_4')\n",
        "torch.save(model, '/content/drive/MyDrive/Yelp/model_save_4/model-24-JAN_150')"
      ],
      "execution_count": 24,
      "outputs": []
    },
    {
      "cell_type": "code",
      "metadata": {
        "id": "I-gtXr6gHnLH"
      },
      "source": [
        "torch.save(logits_train, '/content/drive/MyDrive/Yelp/model_save_4/logits_train_150')\n",
        "torch.save(logits_valid, '/content/drive/MyDrive/Yelp/model_save_4/logits_val_150')"
      ],
      "execution_count": 25,

      "outputs": []
    },
    {
      "cell_type": "markdown",
      "metadata": {
        "id": "obswJqqfJdxp"
      },
      "source": [
        "# Summary of training process"
      ]
    },
    {
      "cell_type": "code",
      "metadata": {
        "colab": {
          "base_uri": "https://localhost:8080/",
          "height": 190
        },

        "id": "GS5csLKmWSYF",
        "outputId": "775d28e2-d01a-4194-e0d2-89645591a234"

      },
      "source": [
        "# for max length = 150 and 3 epochs and batch size = 16\n",
        "# Display floats with two decimal places.\n",
        "pd.set_option('precision', 2)\n",
        "\n",
        "# Create a DataFrame from our training statistics.\n",
        "df_stats_ = pd.DataFrame(data=training_stats)\n",
        "\n",
        "# Use the 'epoch' as the row index.\n",
        "df_stats_ = df_stats_.set_index('epoch')\n",
        "\n",
        "# A hack to force the column headers to wrap.\n",
        "#df = df.style.set_table_styles([dict(selector=\"th\",props=[('max-width', '70px')])])\n",
        "\n",
        "# Display the table.\n",
        "df_stats_"
      ],

      "execution_count": 21,

      "outputs": [
        {
          "output_type": "execute_result",
          "data": {
            "text/html": [
              "<div>\n",
              "<style scoped>\n",
              "    .dataframe tbody tr th:only-of-type {\n",
              "        vertical-align: middle;\n",
              "    }\n",
              "\n",
              "    .dataframe tbody tr th {\n",
              "        vertical-align: top;\n",
              "    }\n",
              "\n",
              "    .dataframe thead th {\n",
              "        text-align: right;\n",
              "    }\n",
              "</style>\n",
              "<table border=\"1\" class=\"dataframe\">\n",
              "  <thead>\n",
              "    <tr style=\"text-align: right;\">\n",
              "      <th></th>\n",
              "      <th>Training Loss</th>\n",
              "      <th>Valid. Loss</th>\n",
              "      <th>Valid. Accur.</th>\n",
              "      <th>Training Time</th>\n",
              "      <th>Validation Time</th>\n",
              "    </tr>\n",
              "    <tr>\n",
              "      <th>epoch</th>\n",
              "      <th></th>\n",
              "      <th></th>\n",
              "      <th></th>\n",
              "      <th></th>\n",
              "      <th></th>\n",
              "    </tr>\n",
              "  </thead>\n",
              "  <tbody>\n",
              "    <tr>\n",
              "      <th>1</th>\n",

              "      <td>0.29</td>\n",
              "      <td>0.24</td>\n",
              "      <td>0.91</td>\n",
              "      <td>0:04:35</td>\n",

              "      <td>0:00:18</td>\n",
              "    </tr>\n",
              "    <tr>\n",
              "      <th>2</th>\n",

              "      <td>0.17</td>\n",
              "      <td>0.27</td>\n",
              "      <td>0.92</td>\n",
              "      <td>0:04:43</td>\n",
              "      <td>0:00:18</td>\n",
              "    </tr>\n",
              "    <tr>\n",
              "      <th>3</th>\n",

              "      <td>0.09</td>\n",
              "      <td>0.34</td>\n",
              "      <td>0.93</td>\n",
              "      <td>0:04:43</td>\n",

              "      <td>0:00:18</td>\n",
              "    </tr>\n",
              "  </tbody>\n",
              "</table>\n",
              "</div>"
            ],
            "text/plain": [
              "       Training Loss  Valid. Loss  Valid. Accur. Training Time Validation Time\n",
              "epoch                                                                         \n",
              "1               0.29         0.24           0.91       0:04:35         0:00:18\n",
              "2               0.17         0.27           0.92       0:04:43         0:00:18\n",
              "3               0.09         0.34           0.93       0:04:43         0:00:18"

            ]
          },
          "metadata": {
            "tags": []
          },

          "execution_count": 21
        }
      ]
    },
    {
      "cell_type": "markdown",
      "metadata": {
        "id": "PXXsUPFwQ8_n"
      },
      "source": [
        "Explanation"
      ]
    },
    {
      "cell_type": "code",
      "metadata": {
        "colab": {
          "base_uri": "https://localhost:8080/",
          "height": 360
        },
        "id": "e-OH30HbWbTh",
        "outputId": "fa5f8894-4359-48dd-9862-697d352ca224"

      },
      "source": [
        "# reults of max length= 150 and epochs= 3 batch size = 16\n",
        "\n",
        "# Use plot styling from seaborn.\n",
        "sns.set(style='darkgrid')\n",
        "\n",
        "# Increase the plot size and font size.\n",
        "sns.set(font_scale=1.5)\n",
        "plt.rcParams[\"figure.figsize\"] = (12,6)\n",
        "\n",
        "# Plot the learning curve.\n",
        "plt.plot(df_stats_['Training Loss'], 'b-o', label=\"Training\")\n",
        "plt.plot(df_stats_['Valid. Loss'], 'g-o', label=\"Validation\")\n",
        "\n",
        "# Label the plot.\n",
        "plt.title(\"Training & Validation Loss\")\n",
        "plt.xlabel(\"Epoch\")\n",
        "plt.ylabel(\"Loss\")\n",
        "plt.legend()\n",
        "plt.xticks([1, 2, 3])\n",
        "\n",
        "plt.show()"
      ],

      "execution_count": 22,
      "outputs": [
        {
          "output_type": "display_data",
          "data": {
            "image/png": "[encoded data removed]",
            "text/plain": [
              "<Figure size 864x432 with 1 Axes>"
            ]
          },
          "metadata": {
            "tags": []
          }
        }
      ]
    },
    {
      "cell_type": "markdown",
      "metadata": {
        "id": "GzO550X5lX-i"
      },
      "source": [
        "**Results**\n",
        "\n",
        "After running the model for 3 epochs and with a maximum length for the reviews of 150, there are good results..."
      ]
    },
    {
      "cell_type": "code",
      "metadata": {
        "id": "koI6sMBnZWQl"
      },
      "source": [
        "# OPTIONS: CHECK MORE THAN 5 - 7\n",
        "#  either cite a paper or test it\n"
      ],
      "execution_count": null,
      "outputs": []
    },
    {
      "cell_type": "code",
      "metadata": {
        "id": "FFRqz8s3mxnv"
      },
      "source": [
        "np.argmax(logits, axis=1).flatten()"
      ],
      "execution_count": null,
      "outputs": []
    },
    {
      "cell_type": "code",
      "metadata": {
        "id": "uBIVyuBzmzHl"

      },
      "source": [
        "logits = logits[0].detach().cpu().numpy()"
      ],
      "execution_count": null,
      "outputs": []
    }
  ]
}